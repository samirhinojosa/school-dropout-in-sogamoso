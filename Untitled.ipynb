{
 "cells": [
  {
   "cell_type": "code",
   "execution_count": 1,
   "id": "4aa27b05-7641-4c4c-9595-b7be9c993075",
   "metadata": {},
   "outputs": [],
   "source": [
    "import pandas as pd"
   ]
  },
  {
   "cell_type": "code",
   "execution_count": 2,
   "id": "64129bd5-d62c-48ec-a6df-37fbd35ec697",
   "metadata": {},
   "outputs": [],
   "source": [
    " student = {\n",
    "     \"INDEX\" : 12,\n",
    "     \"id\": 81073630,\n",
    "    \"gender\": \"MASCULINO\",\n",
    "     \"age\": 6,\n",
    "     \"institution\": \"INSTITUCION EDUCATIVA POLITECNICO ALVARO GONZALEZ SANTANA\",\n",
    "     \"schoolGrade\": 1,\n",
    "     \"schoolDay\": \"TARDE\",\n",
    "     \"stratum\": \"ESTRATO 2\",\n",
    "     \"disability\": \"NO APLICA\",\n",
    "     \"countryOrigin\": \"COLOMBIA\",\n",
    "     \"shapPosition\": 5\n",
    "}"
   ]
  },
  {
   "cell_type": "code",
   "execution_count": 35,
   "id": "f62ed34a-a01c-420f-be16-a5119e19d86f",
   "metadata": {},
   "outputs": [
    {
     "data": {
      "text/html": [
       "<div>\n",
       "<style scoped>\n",
       "    .dataframe tbody tr th:only-of-type {\n",
       "        vertical-align: middle;\n",
       "    }\n",
       "\n",
       "    .dataframe tbody tr th {\n",
       "        vertical-align: top;\n",
       "    }\n",
       "\n",
       "    .dataframe thead th {\n",
       "        text-align: right;\n",
       "    }\n",
       "</style>\n",
       "<table border=\"1\" class=\"dataframe\">\n",
       "  <thead>\n",
       "    <tr style=\"text-align: right;\">\n",
       "      <th></th>\n",
       "      <th>INDEX</th>\n",
       "      <th>id</th>\n",
       "      <th>gender</th>\n",
       "      <th>age</th>\n",
       "      <th>institution</th>\n",
       "      <th>schoolGrade</th>\n",
       "      <th>schoolDay</th>\n",
       "      <th>stratum</th>\n",
       "      <th>disability</th>\n",
       "      <th>countryOrigin</th>\n",
       "      <th>shapPosition</th>\n",
       "    </tr>\n",
       "  </thead>\n",
       "  <tbody>\n",
       "    <tr>\n",
       "      <th>0</th>\n",
       "      <td>12</td>\n",
       "      <td>81073630</td>\n",
       "      <td>MASCULINO</td>\n",
       "      <td>6</td>\n",
       "      <td>INSTITUCION EDUCATIVA POLITECNICO ALVARO GONZA...</td>\n",
       "      <td>1</td>\n",
       "      <td>TARDE</td>\n",
       "      <td>ESTRATO 2</td>\n",
       "      <td>NO APLICA</td>\n",
       "      <td>COLOMBIA</td>\n",
       "      <td>5</td>\n",
       "    </tr>\n",
       "  </tbody>\n",
       "</table>\n",
       "</div>"
      ],
      "text/plain": [
       "   INDEX        id     gender  age  \\\n",
       "0     12  81073630  MASCULINO    6   \n",
       "\n",
       "                                         institution  schoolGrade schoolDay  \\\n",
       "0  INSTITUCION EDUCATIVA POLITECNICO ALVARO GONZA...            1     TARDE   \n",
       "\n",
       "     stratum disability countryOrigin  shapPosition  \n",
       "0  ESTRATO 2  NO APLICA      COLOMBIA             5  "
      ]
     },
     "execution_count": 35,
     "metadata": {},
     "output_type": "execute_result"
    }
   ],
   "source": [
    "df_student = pd.DataFrame([student])\n",
    "df_student"
   ]
  },
  {
   "cell_type": "code",
   "execution_count": null,
   "id": "aff13a8f-9bd5-43fe-89ca-3639a6e9ddf4",
   "metadata": {},
   "outputs": [],
   "source": []
  },
  {
   "cell_type": "code",
   "execution_count": 33,
   "id": "28f5ab29-dabb-4bc1-a851-d7be49b3a0c4",
   "metadata": {},
   "outputs": [
    {
     "data": {
      "text/html": [
       "<div>\n",
       "<style scoped>\n",
       "    .dataframe tbody tr th:only-of-type {\n",
       "        vertical-align: middle;\n",
       "    }\n",
       "\n",
       "    .dataframe tbody tr th {\n",
       "        vertical-align: top;\n",
       "    }\n",
       "\n",
       "    .dataframe thead th {\n",
       "        text-align: right;\n",
       "    }\n",
       "</style>\n",
       "<table border=\"1\" class=\"dataframe\">\n",
       "  <thead>\n",
       "    <tr style=\"text-align: right;\">\n",
       "      <th></th>\n",
       "      <th>INDEX</th>\n",
       "      <th>id</th>\n",
       "      <th>gender</th>\n",
       "      <th>age</th>\n",
       "      <th>institution</th>\n",
       "      <th>schoolGrade</th>\n",
       "      <th>schoolDay</th>\n",
       "      <th>stratum</th>\n",
       "      <th>disability</th>\n",
       "      <th>countryOrigin</th>\n",
       "      <th>shapPosition</th>\n",
       "    </tr>\n",
       "  </thead>\n",
       "  <tbody>\n",
       "    <tr>\n",
       "      <th>0</th>\n",
       "      <td>12</td>\n",
       "      <td>81073630</td>\n",
       "      <td>MASCULINO</td>\n",
       "      <td>6</td>\n",
       "      <td>INSTITUCION EDUCATIVA POLITECNICO ALVARO GONZA...</td>\n",
       "      <td>1</td>\n",
       "      <td>TARDE</td>\n",
       "      <td>ESTRATO 2</td>\n",
       "      <td>NO APLICA</td>\n",
       "      <td>COLOMBIA</td>\n",
       "      <td>5</td>\n",
       "    </tr>\n",
       "  </tbody>\n",
       "</table>\n",
       "</div>"
      ],
      "text/plain": [
       "   INDEX        id     gender  age  \\\n",
       "0     12  81073630  MASCULINO    6   \n",
       "\n",
       "                                         institution  schoolGrade schoolDay  \\\n",
       "0  INSTITUCION EDUCATIVA POLITECNICO ALVARO GONZA...            1     TARDE   \n",
       "\n",
       "     stratum disability countryOrigin  shapPosition  \n",
       "0  ESTRATO 2  NO APLICA      COLOMBIA             5  "
      ]
     },
     "execution_count": 33,
     "metadata": {},
     "output_type": "execute_result"
    }
   ],
   "source": [
    "df_student = df_student.reset_index()\n",
    "df_student"
   ]
  },
  {
   "cell_type": "code",
   "execution_count": 27,
   "id": "5ee49450-9b16-45a2-b0dd-66fabba24542",
   "metadata": {},
   "outputs": [
    {
     "data": {
      "text/html": [
       "<div>\n",
       "<style scoped>\n",
       "    .dataframe tbody tr th:only-of-type {\n",
       "        vertical-align: middle;\n",
       "    }\n",
       "\n",
       "    .dataframe tbody tr th {\n",
       "        vertical-align: top;\n",
       "    }\n",
       "\n",
       "    .dataframe thead th {\n",
       "        text-align: right;\n",
       "    }\n",
       "</style>\n",
       "<table border=\"1\" class=\"dataframe\">\n",
       "  <thead>\n",
       "    <tr style=\"text-align: right;\">\n",
       "      <th></th>\n",
       "      <th>id</th>\n",
       "      <th>gender</th>\n",
       "      <th>age</th>\n",
       "      <th>institution</th>\n",
       "      <th>schoolGrade</th>\n",
       "      <th>schoolDay</th>\n",
       "      <th>stratum</th>\n",
       "      <th>disability</th>\n",
       "      <th>countryOrigin</th>\n",
       "      <th>shapPosition</th>\n",
       "    </tr>\n",
       "    <tr>\n",
       "      <th></th>\n",
       "      <th></th>\n",
       "      <th></th>\n",
       "      <th></th>\n",
       "      <th></th>\n",
       "      <th></th>\n",
       "      <th></th>\n",
       "      <th></th>\n",
       "      <th></th>\n",
       "      <th></th>\n",
       "      <th></th>\n",
       "    </tr>\n",
       "  </thead>\n",
       "  <tbody>\n",
       "    <tr>\n",
       "      <th>12</th>\n",
       "      <td>81073630</td>\n",
       "      <td>MASCULINO</td>\n",
       "      <td>6</td>\n",
       "      <td>INSTITUCION EDUCATIVA POLITECNICO ALVARO GONZA...</td>\n",
       "      <td>1</td>\n",
       "      <td>TARDE</td>\n",
       "      <td>ESTRATO 2</td>\n",
       "      <td>NO APLICA</td>\n",
       "      <td>COLOMBIA</td>\n",
       "      <td>5</td>\n",
       "    </tr>\n",
       "  </tbody>\n",
       "</table>\n",
       "</div>"
      ],
      "text/plain": [
       "          id     gender  age  \\\n",
       "                               \n",
       "12  81073630  MASCULINO    6   \n",
       "\n",
       "                                          institution  schoolGrade schoolDay  \\\n",
       "                                                                               \n",
       "12  INSTITUCION EDUCATIVA POLITECNICO ALVARO GONZA...            1     TARDE   \n",
       "\n",
       "      stratum disability countryOrigin  shapPosition  \n",
       "                                                      \n",
       "12  ESTRATO 2  NO APLICA      COLOMBIA             5  "
      ]
     },
     "execution_count": 27,
     "metadata": {},
     "output_type": "execute_result"
    }
   ],
   "source": [
    "df_student.index.name = \"\"\n",
    "df_student"
   ]
  }
 ],
 "metadata": {
  "kernelspec": {
   "display_name": "Python 3 (ipykernel)",
   "language": "python",
   "name": "python3"
  },
  "language_info": {
   "codemirror_mode": {
    "name": "ipython",
    "version": 3
   },
   "file_extension": ".py",
   "mimetype": "text/x-python",
   "name": "python",
   "nbconvert_exporter": "python",
   "pygments_lexer": "ipython3",
   "version": "3.10.4"
  }
 },
 "nbformat": 4,
 "nbformat_minor": 5
}
