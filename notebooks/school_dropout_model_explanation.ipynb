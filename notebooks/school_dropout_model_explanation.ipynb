{
 "cells": [
  {
   "cell_type": "markdown",
   "id": "dc83a416-2b81-452e-b59a-46e74c8aeb12",
   "metadata": {
    "tags": []
   },
   "source": [
    "<h1 style=\"margin: auto; font-weight: bold; padding: 30px 30px 0px 30px; color:#000;\" align=\"center\">SCHOOL DROPOUT IN SOGAMOSO</h1>\n",
    "<p style=\"width: 100%; text-align: center; margin: 0px; padding: 0px; font-size: 24px; color:#000;\" align=\"center\">| MODEL EXPLANATION Notebook |</p>\n",
    "<p style=\"width: 100%; text-align: center; margin: 0px; padding: 0px; font-size: 20px; color:#000;\" align=\"center\">Correlation One - DS4A</p>\n",
    "<p style=\"text-align:center;\">This notebook contains the <b>SELECTED MODEL</b> to make the classification predictions.</p>"
   ]
  },
  {
   "cell_type": "markdown",
   "id": "795ef4f3-ba39-4ae1-9320-d69b7ad69a39",
   "metadata": {},
   "source": [
    "## 1. Libraries"
   ]
  },
  {
   "cell_type": "code",
   "execution_count": 30,
   "id": "b62d2cb5-f4be-4602-8396-6a3137485107",
   "metadata": {},
   "outputs": [],
   "source": [
    "# General\n",
    "import pandas as pd\n",
    "import numpy as np\n",
    "from numpy import sqrt\n",
    "\n",
    "# Scikit-learn ligrary\n",
    "from sklearn.model_selection import train_test_split\n",
    "from sklearn.pipeline import make_pipeline\n",
    "from sklearn.compose import make_column_transformer\n",
    "from sklearn.preprocessing import (StandardScaler, OneHotEncoder,\n",
    "                                   OrdinalEncoder, FunctionTransformer)\n",
    "from sklearn.ensemble import GradientBoostingClassifier\n",
    "\n",
    "# Imbalanced-learn ligrary\n",
    "from imblearn.pipeline import Pipeline as imbpipeline\n",
    "from imblearn.over_sampling import SMOTE\n",
    "\n",
    "# Own specific functions \n",
    "from functions import *"
   ]
  },
  {
   "cell_type": "markdown",
   "id": "9c6ce158-56e2-492f-a8d4-2f8cbe18dc15",
   "metadata": {
    "tags": []
   },
   "source": [
    "## 2. Importing files"
   ]
  },
  {
   "cell_type": "code",
   "execution_count": 2,
   "id": "0d575159-2149-44bb-9754-f26e496f90d4",
   "metadata": {},
   "outputs": [],
   "source": [
    "df_students = pd.read_csv(\"datasets/df_students.csv\")"
   ]
  },
  {
   "cell_type": "code",
   "execution_count": 4,
   "id": "3f03e6cc-af8a-44ef-ad28-378e052542d8",
   "metadata": {},
   "outputs": [
    {
     "name": "stdout",
     "output_type": "stream",
     "text": [
      "\n",
      "Analysis header\n",
      "--------------------------------------------------------------------------------\n",
      "- Dataset shape:\t\t\t 311866 rows and 35 columns\n",
      "- Total of NaN values:\t\t\t 183550\n",
      "- Percentage of NaN:\t\t\t 1.68 %\n",
      "- Total of infinite values:\t\t 0\n",
      "- Total of empty columns:\t\t 0\n",
      "- Total of empty rows:\t\t\t 0\n",
      "- Total of full duplicates rows:\t 0\n",
      "- Unique indexes:\t\t\t True\n",
      "- Memory usage:\t\t\t\t 83.3+ MB\n",
      "\n",
      "- The key(s):\t ['PER_ID_AÑO'] is not present multiple times in the dataframe. \n",
      "\t\t It CAN be used as a primary key.\n"
     ]
    }
   ],
   "source": [
    "df_analysis(df_students, key_columns=[\"PER_ID_AÑO\"], analysis_type=\"header\")"
   ]
  },
  {
   "cell_type": "markdown",
   "id": "0752a5cc-0a41-437b-9133-8ebbbcdae9e9",
   "metadata": {
    "tags": []
   },
   "source": [
    "## 3. Splitting data"
   ]
  },
  {
   "cell_type": "markdown",
   "id": "9254a209-201f-4f12-9a1a-0906cb7b953d",
   "metadata": {},
   "source": [
    "First of all, we are going to separate the data to predict (2022) from the data to do the training (from 2013 to 2021)"
   ]
  },
  {
   "cell_type": "code",
   "execution_count": 6,
   "id": "faab9f56-2e1b-4176-ab40-ddb1bc1e125d",
   "metadata": {},
   "outputs": [],
   "source": [
    "df_students_2022 = df_students[df_students[\"AÑO\"]==2022].copy()\n",
    "df_students_2022[\"ESTADO\"] = np.NaN\n",
    "\n",
    "df_students_2022.to_csv(\"datasets\\df_students_2022.csv\", index=False)"
   ]
  },
  {
   "cell_type": "code",
   "execution_count": 7,
   "id": "75ac6003-57fc-4c5c-80f0-837150b8d2b0",
   "metadata": {},
   "outputs": [],
   "source": [
    "df_students = df_students[df_students[\"AÑO\"]!=2022].copy()"
   ]
  },
  {
   "cell_type": "markdown",
   "id": "a54485d9-f3c0-4cc9-b2b9-db1eca2a1e6a",
   "metadata": {},
   "source": [
    "Now, we are let's identify the training columns in the dataset"
   ]
  },
  {
   "cell_type": "code",
   "execution_count": 8,
   "id": "680f78da-c13e-43ee-a8a7-d221391d3134",
   "metadata": {},
   "outputs": [],
   "source": [
    "NOT_TRAINING_COLUMNS = [\n",
    "    \"ESTADO\", \"AÑO\", \"PER_ID_AÑO\", \"PER_ID\", \"INSTITUCION_LATITUDE\", \"INSTITUCION_LONGITUD\",\n",
    "]\n",
    "\n",
    "TRAINING_COLUMNS = [col for col in df_students if col not in NOT_TRAINING_COLUMNS]"
   ]
  },
  {
   "cell_type": "markdown",
   "id": "f94a0f3b-778f-41aa-9b78-96529c4b0ae2",
   "metadata": {},
   "source": [
    "Let's proced to split the data"
   ]
  },
  {
   "cell_type": "code",
   "execution_count": 9,
   "id": "0fd2b387-eedd-4734-be61-3f03e930151e",
   "metadata": {},
   "outputs": [],
   "source": [
    "X = df_students[TRAINING_COLUMNS].copy()"
   ]
  },
  {
   "cell_type": "code",
   "execution_count": 10,
   "id": "f8e076e7-29a5-442f-836b-3cf988a92b9c",
   "metadata": {},
   "outputs": [],
   "source": [
    "y_target = df_students.loc[:, \"ESTADO\"]"
   ]
  },
  {
   "cell_type": "code",
   "execution_count": 13,
   "id": "de8d528e-4daf-45c1-aa7c-f217e570d7f3",
   "metadata": {},
   "outputs": [],
   "source": [
    "X_train, X_test, y_train, y_test = train_test_split(X, y_target, test_size=0.2,\n",
    "                                                    stratify=y_target, random_state=42)"
   ]
  },
  {
   "cell_type": "code",
   "execution_count": 14,
   "id": "21d94491-7797-41c7-a61a-56369a4ebb01",
   "metadata": {},
   "outputs": [
    {
     "name": "stdout",
     "output_type": "stream",
     "text": [
      "X_train: (224949, 29)\n",
      "y_train: (224949,)\n",
      "------------------------------\n",
      "X_test: (56238, 29)\n",
      "y_test: (56238,)\n"
     ]
    }
   ],
   "source": [
    "print(\"X_train: {}\".format(X_train.shape))\n",
    "print(\"y_train: {}\".format(y_train.shape))\n",
    "print(30*\"-\")\n",
    "print(\"X_test: {}\".format(X_test.shape))\n",
    "print(\"y_test: {}\".format(y_test.shape))"
   ]
  },
  {
   "cell_type": "markdown",
   "id": "28b8287f-1ab0-4444-8384-12682ced71e6",
   "metadata": {
    "tags": []
   },
   "source": [
    "## 4. Data preprocessing"
   ]
  },
  {
   "cell_type": "code",
   "execution_count": 15,
   "id": "763d3ac8-8796-48d2-b636-d89515924268",
   "metadata": {},
   "outputs": [],
   "source": [
    "def boolean_transformation(X):\n",
    "    return X.astype(int)"
   ]
  },
  {
   "cell_type": "code",
   "execution_count": 16,
   "id": "344eb0cd-36d1-4ea3-955b-c6c3197475ca",
   "metadata": {},
   "outputs": [
    {
     "data": {
      "text/plain": [
       "Index(['INSTITUCION', 'EDAD', 'GENERO', 'GRADO_COD', 'JORNADA', 'ESTRATO',\n",
       "       'PAIS_ORIGEN', 'DISCAPACIDAD', 'SRPA', 'INSTITUCION_SECTOR',\n",
       "       'INSTITUCION_MODELO', 'INSTITUCION_APOYO_ACADEMICO_ESPECIAL',\n",
       "       'INSTITUCION_ZONA', 'INSTITUCION_CARACTER',\n",
       "       'INSTITUCION_NUMERO_DE_SEDES', 'INSTITUCION_ESTADO',\n",
       "       'INSTITUCION_PRESTADOR_DE_SERVICIO', 'INSTITUCION_TAMAÑO',\n",
       "       'INSTITUCION_NIVEL_BASICA_PRIMARIA',\n",
       "       'INSTITUCION_NIVEL_SECUNDARIA_PRIMARIA', 'INSTITUCION_NIVEL_MEDIA',\n",
       "       'INSTITUCION_NIVEL_PREESCOLAR', 'INSTITUCION_NIVEL_PRIMERA_INFANCIA',\n",
       "       'INSTITUCION_ESPECIALIDAD_ACADÉMICA',\n",
       "       'INSTITUCION_ESPECIALIDAD_AGROPECUARIO',\n",
       "       'INSTITUCION_ESPECIALIDAD_COMERCIAL',\n",
       "       'INSTITUCION_ESPECIALIDAD_INDUSTRIAL',\n",
       "       'INSTITUCION_ESPECIALIDAD_NO_APLICA', 'INSTITUCION_ESPECIALIDAD_OTRO'],\n",
       "      dtype='object')"
      ]
     },
     "execution_count": 16,
     "metadata": {},
     "output_type": "execute_result"
    }
   ],
   "source": [
    "X_train.columns"
   ]
  },
  {
   "cell_type": "code",
   "execution_count": 17,
   "id": "eea05aa2-e249-49d2-b64a-4fdef435097b",
   "metadata": {},
   "outputs": [],
   "source": [
    "CATEGORICAL_FEATURES = [\n",
    "    \"INSTITUCION\", \"GENERO\", \"JORNADA\", \"PAIS_ORIGEN\", \"DISCAPACIDAD\", \"SRPA\", \"INSTITUCION_SECTOR\",\n",
    "    \"INSTITUCION_MODELO\", \"INSTITUCION_APOYO_ACADEMICO_ESPECIAL\", \"INSTITUCION_ZONA\", \"INSTITUCION_CARACTER\",\n",
    "    \"INSTITUCION_ESTADO\", \"INSTITUCION_PRESTADOR_DE_SERVICIO\"\n",
    "]\n",
    "ORDINAL_FEATURES = [\n",
    "    \"ESTRATO\", \"INSTITUCION_TAMAÑO\"\n",
    "]\n",
    "ORDINAL_FEATURES = [\n",
    "    \"GRADO_COD\", \"ESTRATO\", \"INSTITUCION_TAMAÑO\"\n",
    "]\n",
    "NUMERICAL_FEATURES = [\n",
    "    \"EDAD\", \"INSTITUCION_NUMERO_DE_SEDES\"\n",
    "]\n",
    "BOOLEAN_FEATURES = [\n",
    "    \"INSTITUCION_NIVEL_BASICA_PRIMARIA\", \"INSTITUCION_NIVEL_SECUNDARIA_PRIMARIA\", \"INSTITUCION_NIVEL_MEDIA\",\n",
    "    \"INSTITUCION_NIVEL_PREESCOLAR\", \"INSTITUCION_NIVEL_PRIMERA_INFANCIA\", \"INSTITUCION_ESPECIALIDAD_ACADÉMICA\", \n",
    "    \"INSTITUCION_ESPECIALIDAD_AGROPECUARIO\", \"INSTITUCION_ESPECIALIDAD_COMERCIAL\", \n",
    "    \"INSTITUCION_ESPECIALIDAD_INDUSTRIAL\", \"INSTITUCION_ESPECIALIDAD_NO_APLICA\",\n",
    "    \"INSTITUCION_ESPECIALIDAD_OTRO\"\n",
    "]"
   ]
  },
  {
   "cell_type": "code",
   "execution_count": 22,
   "id": "d3a2fdb8-8f93-47cc-b14f-4e1e5f5f9da6",
   "metadata": {},
   "outputs": [],
   "source": [
    "categorical_pipeline = make_pipeline(OneHotEncoder(handle_unknown=\"ignore\"))\n",
    "\n",
    "ordinal_pipeline = make_pipeline(OrdinalEncoder(categories=[\n",
    "    [-2.0, -1.0, 0.0, 1.0, 2.0, 3.0, 4.0, 5.0, 6.0, 7.0, 8.0, 9.0, 10.0, 11.0, 12.0, 20.0, 21.0, 22.0, 23.0, 24.0, 25.0, 26.0],\n",
    "    ['ESTRATO 0', 'ESTRATO 1', 'ESTRATO 2', 'ESTRATO 3', 'ESTRATO 4', 'ESTRATO 5', 'ESTRATO 6'],\n",
    "    ['Pequeña', 'Mediana',  'Grande']\n",
    "]))\n",
    "\n",
    "numerical_pipeline = make_pipeline(StandardScaler())\n",
    "\n",
    "boolean_pipeline = make_pipeline(FunctionTransformer(boolean_transformation))"
   ]
  },
  {
   "cell_type": "code",
   "execution_count": 23,
   "id": "60f643b8-f37c-488f-aefd-03cca55f019a",
   "metadata": {},
   "outputs": [],
   "source": [
    "preprocessor = make_column_transformer(\n",
    "    (categorical_pipeline, CATEGORICAL_FEATURES),\n",
    "    (ordinal_pipeline, ORDINAL_FEATURES),\n",
    "    (numerical_pipeline, NUMERICAL_FEATURES),\n",
    "    (boolean_pipeline, BOOLEAN_FEATURES)\n",
    ")"
   ]
  },
  {
   "cell_type": "markdown",
   "id": "037442bf-0ee0-4820-80a4-aabcb1ee7d06",
   "metadata": {
    "tags": []
   },
   "source": [
    "## 5. Custom evaluations"
   ]
  },
  {
   "cell_type": "markdown",
   "id": "0498f763-2b97-4efd-8125-b5d51e4c9745",
   "metadata": {
    "tags": []
   },
   "source": [
    "### 5.1. Custom Score"
   ]
  },
  {
   "cell_type": "markdown",
   "id": "24116bec-0936-405a-bab9-8899ac2a050a",
   "metadata": {},
   "source": [
    "We are going to penalize False Negative that are students dropped out, and they were predicted incorrectly.<br> Due to that, we are going to define a Custom Score."
   ]
  },
  {
   "cell_type": "code",
   "execution_count": 24,
   "id": "88394a7b-ec02-48a6-aa6e-221f92b1d042",
   "metadata": {},
   "outputs": [],
   "source": [
    "def custom_score(y_test, y_pred):\n",
    "    \"\"\"\n",
    "    Method used to calculate a score based on the penalization of False Negatives.\n",
    "\n",
    "    Parameters:\n",
    "    -----------------\n",
    "        y_test (series): True values\n",
    "        y_pred (series): Predicted values\n",
    "        threshold (float): Threshold value to use\n",
    "        \n",
    "    Returns:\n",
    "    -----------------\n",
    "        Score. (float): Score obtained based on the rules defined to measure. \n",
    "    \"\"\"\n",
    "    \n",
    "    TN_rate = 1        # Students that do not drop out and were predicted correctly\n",
    "    TP_rate = 1        # Students that dropped out and were predicted correctly\n",
    "    FP_rate = -1       # Students that do not drop out and were predicted incorrectly\n",
    "    FN_rate = -10      # Students that dropped out and were predicted incorrectly\n",
    "    \n",
    "    # Getting all values based on confusion matrix\n",
    "    (TN, FP, FN, TP) = confusion_matrix(y_test, y_pred, labels=[0, 1]).ravel()\n",
    "\n",
    "    # Total of default and not default cases\n",
    "    total_not_default = TN + FP     # Not drop out cases\n",
    "    total_default = TP + FN         # Drop out cases \n",
    "    \n",
    "    gain_total = TN*TN_rate + TP*TP_rate + FP*FP_rate + FN*FN_rate\n",
    "    gain_maximun = total_not_default*TN_rate + total_default*TP_rate\n",
    "    gain_minumun = total_not_default*TN_rate + total_default*FN_rate\n",
    "    \n",
    "    # normalize to get score between 0 (baseline) and 1\n",
    "    score = (gain_total - gain_minumun) / (gain_maximun - gain_minumun)    \n",
    "    return score\n"
   ]
  },
  {
   "cell_type": "markdown",
   "id": "ae034d25-5303-4f4b-9b60-930adc2fdb09",
   "metadata": {
    "tags": []
   },
   "source": [
    "### 5.2. Threshold selection"
   ]
  },
  {
   "cell_type": "markdown",
   "id": "c2817c11-017c-4f60-9361-3d480a385819",
   "metadata": {},
   "source": [
    "Based on the probability predictions and Custom Score, we are going to identify the best treshold to mesure our models."
   ]
  },
  {
   "cell_type": "code",
   "execution_count": 25,
   "id": "5cd93ebd-fddb-42d9-890b-9ba769948791",
   "metadata": {},
   "outputs": [],
   "source": [
    "def threshold_selection(y_test, y_prob):\n",
    "    \"\"\"\n",
    "    Method used to calculate the threshold based on the Custom Score.\n",
    "\n",
    "    Parameters:\n",
    "    -----------------\n",
    "        df (pandas.DataFrame): Dataset to analyze\n",
    "        y_test (1d array-like): True values\n",
    "        y_prob (1d array-like): Probabilite values predicted\n",
    "        \n",
    "    Returns:\n",
    "    -----------------\n",
    "        threshold (float) : Best threshold value\n",
    "        Threshold (image) : Plot the threshold and the best score\n",
    "    \"\"\"\n",
    "    \n",
    "    thresholds = np.arange(0, 1, 0.001)\n",
    "    scores = []\n",
    "    \n",
    "    for threshold in thresholds:\n",
    "        y_pred = (y_prob >= threshold).astype(\"int\")\n",
    "        score = custom_score(y_test, y_pred)\n",
    "        scores.append(score)\n",
    "        \n",
    "    scores = np.asarray(scores)\n",
    "    ix = np.argmax(scores)\n",
    "    \n",
    "    best_threshold, best_score = (thresholds[ix], round(scores[ix], 3))\n",
    "    \n",
    "    print(\"Best results\")\n",
    "    print(\"- Best Threshold:\\t\", best_threshold)\n",
    "    print(\"- Best Score:\\t\\t\", best_score)\n",
    "    print(\"\\n\")\n",
    "    \n",
    "    plt.subplots(1, figsize=(6, 5))\n",
    "    plt.plot(thresholds, scores, lw=1)\n",
    "    plt.axvline(best_threshold, ls=\"--\", lw=1, c=\"r\")\n",
    "    plt.title(\"Threshold\")\n",
    "    plt.xlabel(\"proba threshold\")\n",
    "    plt.ylabel(\"Score performed\")\n",
    "    plt.show()\n",
    "    \n",
    "    return best_threshold"
   ]
  },
  {
   "cell_type": "markdown",
   "id": "f485ab2d-ddcd-4203-8019-86cdc2e01fa4",
   "metadata": {
    "tags": []
   },
   "source": [
    "## 6. Modelisation"
   ]
  },
  {
   "cell_type": "markdown",
   "id": "c16d8e51-9912-43dd-a551-d5362a6e64f5",
   "metadata": {},
   "source": [
    "<div class=\"admonition warning alert alert-info\">\n",
    "<p>To model the classification predictions, we are going to work with <b>Oversampling - Gradiend Boosting</b></p>\n",
    "</div>"
   ]
  },
  {
   "cell_type": "markdown",
   "id": "37352de0-21ea-4d80-ad17-0585b3473580",
   "metadata": {},
   "source": [
    "To treat the unbalanced class, we are going to implement OverSampling technique with SMOTE."
   ]
  },
  {
   "cell_type": "code",
   "execution_count": 28,
   "id": "43aabbaf-2990-4ebd-8a7b-98435dd37557",
   "metadata": {},
   "outputs": [],
   "source": [
    "smote = SMOTE(random_state=42, n_jobs=-1)"
   ]
  },
  {
   "cell_type": "code",
   "execution_count": 31,
   "id": "5bb9b7c6-5371-44dd-8bbc-2c3bf936676f",
   "metadata": {},
   "outputs": [],
   "source": [
    "gbc_parameters = {\n",
    "    \"learning_rate\": 0.01,\n",
    "    \"max_depth\": 3,\n",
    "    \"n_estimators\": 5\n",
    "}"
   ]
  },
  {
   "cell_type": "code",
   "execution_count": 29,
   "id": "0ec23d26-7d9f-4884-98dd-72d07fbeb0ce",
   "metadata": {},
   "outputs": [
    {
     "ename": "NameError",
     "evalue": "name 'GradientBoostingClassifier' is not defined",
     "output_type": "error",
     "traceback": [
      "\u001b[1;31m---------------------------------------------------------------------------\u001b[0m",
      "\u001b[1;31mNameError\u001b[0m                                 Traceback (most recent call last)",
      "Input \u001b[1;32mIn [29]\u001b[0m, in \u001b[0;36m<cell line: 1>\u001b[1;34m()\u001b[0m\n\u001b[0;32m      1\u001b[0m imbpipeline_clf \u001b[38;5;241m=\u001b[39m imbpipeline(steps\u001b[38;5;241m=\u001b[39m[\n\u001b[0;32m      2\u001b[0m     (\u001b[38;5;124m\"\u001b[39m\u001b[38;5;124mpreprocessor\u001b[39m\u001b[38;5;124m\"\u001b[39m, preprocessor),\n\u001b[0;32m      3\u001b[0m     (\u001b[38;5;124m\"\u001b[39m\u001b[38;5;124msmote\u001b[39m\u001b[38;5;124m\"\u001b[39m, smote),\n\u001b[1;32m----> 4\u001b[0m     (\u001b[38;5;124m\"\u001b[39m\u001b[38;5;124mgbc_imblearn\u001b[39m\u001b[38;5;124m\"\u001b[39m, \u001b[43mGradientBoostingClassifier\u001b[49m(\u001b[38;5;241m*\u001b[39m\u001b[38;5;241m*\u001b[39mgbc_parameters,\n\u001b[0;32m      5\u001b[0m                                                 validation_fraction\u001b[38;5;241m=\u001b[39m\u001b[38;5;241m0.2\u001b[39m, \n\u001b[0;32m      6\u001b[0m                                                 n_iter_no_change\u001b[38;5;241m=\u001b[39m\u001b[38;5;241m5\u001b[39m,\n\u001b[0;32m      7\u001b[0m                                                 random_state\u001b[38;5;241m=\u001b[39m\u001b[38;5;241m42\u001b[39m)\n\u001b[0;32m      8\u001b[0m     )\n\u001b[0;32m      9\u001b[0m ])\n",
      "\u001b[1;31mNameError\u001b[0m: name 'GradientBoostingClassifier' is not defined"
     ]
    }
   ],
   "source": [
    "imbpipeline_clf = imbpipeline(steps=[\n",
    "    (\"preprocessor\", preprocessor),\n",
    "    (\"smote\", smote),\n",
    "    (\"gbc_imblearn\", GradientBoostingClassifier(**gbc_parameters,\n",
    "                                                validation_fraction=0.2, \n",
    "                                                n_iter_no_change=5,\n",
    "                                                random_state=42)\n",
    "    )\n",
    "])"
   ]
  },
  {
   "cell_type": "markdown",
   "id": "04496c2a-801f-4bea-b0e3-78bc0c9975c9",
   "metadata": {},
   "source": [
    "Executing the model with the complete dataset"
   ]
  },
  {
   "cell_type": "code",
   "execution_count": 122,
   "id": "843bb329-9f1e-4943-9026-680ffc0007ea",
   "metadata": {},
   "outputs": [],
   "source": [
    "start_time_model = timeit.default_timer()\n",
    "\n",
    "imbpipeline_clf.fit(X_train, y_train)\n",
    "\n",
    "end_time_model =  round(timeit.default_timer() - start_time_model, 3)"
   ]
  },
  {
   "cell_type": "markdown",
   "id": "559b2692-8a35-4629-a760-c96fe737200e",
   "metadata": {},
   "source": [
    "Predict the probabilities"
   ]
  },
  {
   "cell_type": "code",
   "execution_count": 123,
   "id": "bf479f55-c455-4cef-9030-1684d1daabf3",
   "metadata": {},
   "outputs": [],
   "source": [
    "y_prob = imbpipeline_clf.predict_proba(X_test)\n",
    "y_prob = y_prob[:, 1]"
   ]
  },
  {
   "cell_type": "code",
   "execution_count": null,
   "id": "27fd6dde-44b1-4380-aa74-467124bd297a",
   "metadata": {},
   "outputs": [],
   "source": []
  },
  {
   "cell_type": "code",
   "execution_count": null,
   "id": "d5857372-4e70-4be1-8e5e-adbdff547cbc",
   "metadata": {},
   "outputs": [],
   "source": []
  },
  {
   "cell_type": "code",
   "execution_count": null,
   "id": "0169e7e0-464f-4853-a9db-69325ccf600d",
   "metadata": {},
   "outputs": [],
   "source": []
  },
  {
   "cell_type": "code",
   "execution_count": null,
   "id": "c91be86c-a1fa-484a-82fb-32f5c77ba073",
   "metadata": {},
   "outputs": [],
   "source": []
  },
  {
   "cell_type": "code",
   "execution_count": null,
   "id": "5c6fddc1-28f5-46eb-93f5-2729de94bd66",
   "metadata": {},
   "outputs": [],
   "source": []
  },
  {
   "cell_type": "code",
   "execution_count": null,
   "id": "13d3c979-2533-4f31-b378-2a44fcf6975b",
   "metadata": {},
   "outputs": [],
   "source": []
  }
 ],
 "metadata": {
  "kernelspec": {
   "display_name": "Python 3 (ipykernel)",
   "language": "python",
   "name": "python3"
  },
  "language_info": {
   "codemirror_mode": {
    "name": "ipython",
    "version": 3
   },
   "file_extension": ".py",
   "mimetype": "text/x-python",
   "name": "python",
   "nbconvert_exporter": "python",
   "pygments_lexer": "ipython3",
   "version": "3.10.4"
  }
 },
 "nbformat": 4,
 "nbformat_minor": 5
}
