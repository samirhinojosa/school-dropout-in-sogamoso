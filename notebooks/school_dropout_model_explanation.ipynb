{
 "cells": [
  {
   "cell_type": "markdown",
   "id": "dc83a416-2b81-452e-b59a-46e74c8aeb12",
   "metadata": {
    "tags": []
   },
   "source": [
    "<h1 style=\"margin: auto; font-weight: bold; padding: 30px 30px 0px 30px; color:#000;\" align=\"center\">SCHOOL DROPOUT IN SOGAMOSO</h1>\n",
    "<p style=\"width: 100%; text-align: center; margin: 0px; padding: 0px; font-size: 24px; color:#000;\" align=\"center\">| MODEL EXPLANATION Notebook |</p>\n",
    "<p style=\"width: 100%; text-align: center; margin: 0px; padding: 0px; font-size: 20px; color:#000;\" align=\"center\">Correlation One - DS4A</p>\n",
    "<p style=\"text-align:center;\">This notebook contains the <b>SELECTED MODEL</b> to make the classification predictions.</p>"
   ]
  },
  {
   "cell_type": "markdown",
   "id": "795ef4f3-ba39-4ae1-9320-d69b7ad69a39",
   "metadata": {},
   "source": [
    "## 1. Libraries"
   ]
  },
  {
   "cell_type": "code",
   "execution_count": 1,
   "id": "b62d2cb5-f4be-4602-8396-6a3137485107",
   "metadata": {},
   "outputs": [],
   "source": [
    "# General\n",
    "import pandas as pd\n",
    "import numpy as np\n",
    "from numpy import sqrt\n",
    "\n",
    "# Scikit-learn ligrary\n",
    "from sklearn.model_selection import train_test_split\n",
    "from sklearn.pipeline import make_pipeline\n",
    "from sklearn.compose import make_column_transformer\n",
    "from sklearn.preprocessing import (StandardScaler, OneHotEncoder,\n",
    "                                   OrdinalEncoder, FunctionTransformer)\n",
    "from sklearn.ensemble import GradientBoostingClassifier\n",
    "from sklearn.metrics import (roc_auc_score, confusion_matrix, recall_score,\n",
    "                             f1_score, precision_score, ConfusionMatrixDisplay,\n",
    "                             roc_curve, precision_recall_curve)\n",
    "from sklearn.inspection import permutation_importance\n",
    "\n",
    "\n",
    "# Imbalanced-learn ligrary\n",
    "from imblearn.pipeline import Pipeline as imbpipeline\n",
    "from imblearn.over_sampling import SMOTE\n",
    "\n",
    "# Own specific functions \n",
    "from functions import *"
   ]
  },
  {
   "cell_type": "markdown",
   "id": "9c6ce158-56e2-492f-a8d4-2f8cbe18dc15",
   "metadata": {
    "tags": []
   },
   "source": [
    "## 2. Importing files"
   ]
  },
  {
   "cell_type": "code",
   "execution_count": 2,
   "id": "0d575159-2149-44bb-9754-f26e496f90d4",
   "metadata": {},
   "outputs": [],
   "source": [
    "df_students = pd.read_csv(\"datasets/df_students.csv\")"
   ]
  },
  {
   "cell_type": "code",
   "execution_count": 3,
   "id": "3f03e6cc-af8a-44ef-ad28-378e052542d8",
   "metadata": {},
   "outputs": [
    {
     "name": "stdout",
     "output_type": "stream",
     "text": [
      "\n",
      "Analysis header\n",
      "--------------------------------------------------------------------------------\n",
      "- Dataset shape:\t\t\t 311866 rows and 35 columns\n",
      "- Total of NaN values:\t\t\t 183550\n",
      "- Percentage of NaN:\t\t\t 1.68 %\n",
      "- Total of infinite values:\t\t 0\n",
      "- Total of empty columns:\t\t 0\n",
      "- Total of empty rows:\t\t\t 0\n",
      "- Total of full duplicates rows:\t 0\n",
      "- Unique indexes:\t\t\t True\n",
      "- Memory usage:\t\t\t\t 83.3+ MB\n",
      "\n",
      "- The key(s):\t ['PER_ID_AÑO'] is not present multiple times in the dataframe. \n",
      "\t\t It CAN be used as a primary key.\n"
     ]
    }
   ],
   "source": [
    "df_analysis(df_students, key_columns=[\"PER_ID_AÑO\"], analysis_type=\"header\")"
   ]
  },
  {
   "cell_type": "markdown",
   "id": "0752a5cc-0a41-437b-9133-8ebbbcdae9e9",
   "metadata": {
    "tags": []
   },
   "source": [
    "## 3. Splitting data"
   ]
  },
  {
   "cell_type": "markdown",
   "id": "9254a209-201f-4f12-9a1a-0906cb7b953d",
   "metadata": {},
   "source": [
    "First of all, we are going to separate the data to predict (2022) from the data to do the training (from 2013 to 2021)"
   ]
  },
  {
   "cell_type": "code",
   "execution_count": 4,
   "id": "faab9f56-2e1b-4176-ab40-ddb1bc1e125d",
   "metadata": {},
   "outputs": [],
   "source": [
    "df_students_2022 = df_students[df_students[\"AÑO\"]==2022].copy()\n",
    "df_students_2022[\"ESTADO\"] = np.NaN\n",
    "\n",
    "df_students_2022.to_csv(\"datasets\\df_students_2022.csv\", index=False)"
   ]
  },
  {
   "cell_type": "code",
   "execution_count": 5,
   "id": "75ac6003-57fc-4c5c-80f0-837150b8d2b0",
   "metadata": {},
   "outputs": [],
   "source": [
    "df_students = df_students[df_students[\"AÑO\"]!=2022].copy()"
   ]
  },
  {
   "cell_type": "markdown",
   "id": "a54485d9-f3c0-4cc9-b2b9-db1eca2a1e6a",
   "metadata": {},
   "source": [
    "Now, we are let's identify the training columns in the dataset"
   ]
  },
  {
   "cell_type": "code",
   "execution_count": 6,
   "id": "680f78da-c13e-43ee-a8a7-d221391d3134",
   "metadata": {},
   "outputs": [],
   "source": [
    "NOT_TRAINING_COLUMNS = [\n",
    "    \"ESTADO\", \"AÑO\", \"PER_ID_AÑO\", \"PER_ID\", \"INSTITUCION_LATITUDE\", \"INSTITUCION_LONGITUD\",\n",
    "]\n",
    "\n",
    "TRAINING_COLUMNS = [col for col in df_students if col not in NOT_TRAINING_COLUMNS]"
   ]
  },
  {
   "cell_type": "markdown",
   "id": "f94a0f3b-778f-41aa-9b78-96529c4b0ae2",
   "metadata": {},
   "source": [
    "Let's proced to split the data"
   ]
  },
  {
   "cell_type": "code",
   "execution_count": 7,
   "id": "0fd2b387-eedd-4734-be61-3f03e930151e",
   "metadata": {},
   "outputs": [],
   "source": [
    "X = df_students[TRAINING_COLUMNS].copy()"
   ]
  },
  {
   "cell_type": "code",
   "execution_count": 8,
   "id": "f8e076e7-29a5-442f-836b-3cf988a92b9c",
   "metadata": {},
   "outputs": [],
   "source": [
    "y_target = df_students.loc[:, \"ESTADO\"]"
   ]
  },
  {
   "cell_type": "code",
   "execution_count": 9,
   "id": "de8d528e-4daf-45c1-aa7c-f217e570d7f3",
   "metadata": {},
   "outputs": [],
   "source": [
    "X_train, X_test, y_train, y_test = train_test_split(X, y_target, test_size=0.2,\n",
    "                                                    stratify=y_target, random_state=42)"
   ]
  },
  {
   "cell_type": "code",
   "execution_count": 10,
   "id": "21d94491-7797-41c7-a61a-56369a4ebb01",
   "metadata": {},
   "outputs": [
    {
     "name": "stdout",
     "output_type": "stream",
     "text": [
      "X_train: (224949, 29)\n",
      "y_train: (224949,)\n",
      "------------------------------\n",
      "X_test: (56238, 29)\n",
      "y_test: (56238,)\n"
     ]
    }
   ],
   "source": [
    "print(\"X_train: {}\".format(X_train.shape))\n",
    "print(\"y_train: {}\".format(y_train.shape))\n",
    "print(30*\"-\")\n",
    "print(\"X_test: {}\".format(X_test.shape))\n",
    "print(\"y_test: {}\".format(y_test.shape))"
   ]
  },
  {
   "cell_type": "markdown",
   "id": "28b8287f-1ab0-4444-8384-12682ced71e6",
   "metadata": {
    "tags": []
   },
   "source": [
    "## 4. Data preprocessing"
   ]
  },
  {
   "cell_type": "code",
   "execution_count": 11,
   "id": "763d3ac8-8796-48d2-b636-d89515924268",
   "metadata": {},
   "outputs": [],
   "source": [
    "def boolean_transformation(X):\n",
    "    return X.astype(int)"
   ]
  },
  {
   "cell_type": "code",
   "execution_count": 12,
   "id": "344eb0cd-36d1-4ea3-955b-c6c3197475ca",
   "metadata": {},
   "outputs": [
    {
     "data": {
      "text/plain": [
       "Index(['INSTITUCION', 'EDAD', 'GENERO', 'GRADO_COD', 'JORNADA', 'ESTRATO',\n",
       "       'PAIS_ORIGEN', 'DISCAPACIDAD', 'SRPA', 'INSTITUCION_SECTOR',\n",
       "       'INSTITUCION_MODELO', 'INSTITUCION_APOYO_ACADEMICO_ESPECIAL',\n",
       "       'INSTITUCION_ZONA', 'INSTITUCION_CARACTER',\n",
       "       'INSTITUCION_NUMERO_DE_SEDES', 'INSTITUCION_ESTADO',\n",
       "       'INSTITUCION_PRESTADOR_DE_SERVICIO', 'INSTITUCION_TAMAÑO',\n",
       "       'INSTITUCION_NIVEL_BASICA_PRIMARIA',\n",
       "       'INSTITUCION_NIVEL_SECUNDARIA_PRIMARIA', 'INSTITUCION_NIVEL_MEDIA',\n",
       "       'INSTITUCION_NIVEL_PREESCOLAR', 'INSTITUCION_NIVEL_PRIMERA_INFANCIA',\n",
       "       'INSTITUCION_ESPECIALIDAD_ACADÉMICA',\n",
       "       'INSTITUCION_ESPECIALIDAD_AGROPECUARIO',\n",
       "       'INSTITUCION_ESPECIALIDAD_COMERCIAL',\n",
       "       'INSTITUCION_ESPECIALIDAD_INDUSTRIAL',\n",
       "       'INSTITUCION_ESPECIALIDAD_NO_APLICA', 'INSTITUCION_ESPECIALIDAD_OTRO'],\n",
       "      dtype='object')"
      ]
     },
     "execution_count": 12,
     "metadata": {},
     "output_type": "execute_result"
    }
   ],
   "source": [
    "X_train.columns"
   ]
  },
  {
   "cell_type": "code",
   "execution_count": 13,
   "id": "eea05aa2-e249-49d2-b64a-4fdef435097b",
   "metadata": {},
   "outputs": [],
   "source": [
    "CATEGORICAL_FEATURES = [\n",
    "    \"INSTITUCION\", \"GENERO\", \"JORNADA\", \"PAIS_ORIGEN\", \"DISCAPACIDAD\", \"SRPA\", \"INSTITUCION_SECTOR\",\n",
    "    \"INSTITUCION_MODELO\", \"INSTITUCION_APOYO_ACADEMICO_ESPECIAL\", \"INSTITUCION_ZONA\", \"INSTITUCION_CARACTER\",\n",
    "    \"INSTITUCION_ESTADO\", \"INSTITUCION_PRESTADOR_DE_SERVICIO\"\n",
    "]\n",
    "ORDINAL_FEATURES = [\n",
    "    \"ESTRATO\", \"INSTITUCION_TAMAÑO\"\n",
    "]\n",
    "ORDINAL_FEATURES = [\n",
    "    \"GRADO_COD\", \"ESTRATO\", \"INSTITUCION_TAMAÑO\"\n",
    "]\n",
    "NUMERICAL_FEATURES = [\n",
    "    \"EDAD\", \"INSTITUCION_NUMERO_DE_SEDES\"\n",
    "]\n",
    "BOOLEAN_FEATURES = [\n",
    "    \"INSTITUCION_NIVEL_BASICA_PRIMARIA\", \"INSTITUCION_NIVEL_SECUNDARIA_PRIMARIA\", \"INSTITUCION_NIVEL_MEDIA\",\n",
    "    \"INSTITUCION_NIVEL_PREESCOLAR\", \"INSTITUCION_NIVEL_PRIMERA_INFANCIA\", \"INSTITUCION_ESPECIALIDAD_ACADÉMICA\", \n",
    "    \"INSTITUCION_ESPECIALIDAD_AGROPECUARIO\", \"INSTITUCION_ESPECIALIDAD_COMERCIAL\", \n",
    "    \"INSTITUCION_ESPECIALIDAD_INDUSTRIAL\", \"INSTITUCION_ESPECIALIDAD_NO_APLICA\",\n",
    "    \"INSTITUCION_ESPECIALIDAD_OTRO\"\n",
    "]"
   ]
  },
  {
   "cell_type": "code",
   "execution_count": 14,
   "id": "d3a2fdb8-8f93-47cc-b14f-4e1e5f5f9da6",
   "metadata": {},
   "outputs": [],
   "source": [
    "categorical_pipeline = make_pipeline(OneHotEncoder(handle_unknown=\"ignore\"))\n",
    "\n",
    "ordinal_pipeline = make_pipeline(OrdinalEncoder(categories=[\n",
    "    [-2.0, -1.0, 0.0, 1.0, 2.0, 3.0, 4.0, 5.0, 6.0, 7.0, 8.0, 9.0, 10.0, 11.0, 12.0, 20.0, 21.0, 22.0, 23.0, 24.0, 25.0, 26.0],\n",
    "    ['ESTRATO 0', 'ESTRATO 1', 'ESTRATO 2', 'ESTRATO 3', 'ESTRATO 4', 'ESTRATO 5', 'ESTRATO 6'],\n",
    "    ['Pequeña', 'Mediana',  'Grande']\n",
    "]))\n",
    "\n",
    "numerical_pipeline = make_pipeline(StandardScaler())\n",
    "\n",
    "boolean_pipeline = make_pipeline(FunctionTransformer(boolean_transformation))"
   ]
  },
  {
   "cell_type": "code",
   "execution_count": 15,
   "id": "60f643b8-f37c-488f-aefd-03cca55f019a",
   "metadata": {},
   "outputs": [],
   "source": [
    "preprocessor = make_column_transformer(\n",
    "    (categorical_pipeline, CATEGORICAL_FEATURES),\n",
    "    (ordinal_pipeline, ORDINAL_FEATURES),\n",
    "    (numerical_pipeline, NUMERICAL_FEATURES),\n",
    "    (boolean_pipeline, BOOLEAN_FEATURES)\n",
    ")"
   ]
  },
  {
   "cell_type": "markdown",
   "id": "037442bf-0ee0-4820-80a4-aabcb1ee7d06",
   "metadata": {
    "tags": []
   },
   "source": [
    "## 5. Custom evaluations"
   ]
  },
  {
   "cell_type": "markdown",
   "id": "0498f763-2b97-4efd-8125-b5d51e4c9745",
   "metadata": {
    "tags": []
   },
   "source": [
    "### 5.1. Custom Score"
   ]
  },
  {
   "cell_type": "markdown",
   "id": "24116bec-0936-405a-bab9-8899ac2a050a",
   "metadata": {},
   "source": [
    "We are going to penalize False Negative that are students dropped out, and they were predicted incorrectly.<br> Due to that, we are going to define a Custom Score."
   ]
  },
  {
   "cell_type": "code",
   "execution_count": 16,
   "id": "88394a7b-ec02-48a6-aa6e-221f92b1d042",
   "metadata": {},
   "outputs": [],
   "source": [
    "def custom_score(y_test, y_pred):\n",
    "    \"\"\"\n",
    "    Method used to calculate a score based on the penalization of False Negatives.\n",
    "\n",
    "    Parameters:\n",
    "    -----------------\n",
    "        y_test (series): True values\n",
    "        y_pred (series): Predicted values\n",
    "        threshold (float): Threshold value to use\n",
    "        \n",
    "    Returns:\n",
    "    -----------------\n",
    "        Score. (float): Score obtained based on the rules defined to measure. \n",
    "    \"\"\"\n",
    "    \n",
    "    TN_rate = 1        # Students that do not drop out and were predicted correctly\n",
    "    TP_rate = 1        # Students that dropped out and were predicted correctly\n",
    "    FP_rate = -1       # Students that do not drop out and were predicted incorrectly\n",
    "    FN_rate = -10      # Students that dropped out and were predicted incorrectly\n",
    "    \n",
    "    # Getting all values based on confusion matrix\n",
    "    (TN, FP, FN, TP) = confusion_matrix(y_test, y_pred, labels=[0, 1]).ravel()\n",
    "\n",
    "    # Total of default and not default cases\n",
    "    total_not_default = TN + FP     # Not drop out cases\n",
    "    total_default = TP + FN         # Drop out cases \n",
    "    \n",
    "    gain_total = TN*TN_rate + TP*TP_rate + FP*FP_rate + FN*FN_rate\n",
    "    gain_maximun = total_not_default*TN_rate + total_default*TP_rate\n",
    "    gain_minumun = total_not_default*TN_rate + total_default*FN_rate\n",
    "    \n",
    "    # normalize to get score between 0 (baseline) and 1\n",
    "    score = (gain_total - gain_minumun) / (gain_maximun - gain_minumun)    \n",
    "    return score\n"
   ]
  },
  {
   "cell_type": "markdown",
   "id": "ae034d25-5303-4f4b-9b60-930adc2fdb09",
   "metadata": {
    "tags": []
   },
   "source": [
    "### 5.2. Threshold selection"
   ]
  },
  {
   "cell_type": "markdown",
   "id": "c2817c11-017c-4f60-9361-3d480a385819",
   "metadata": {},
   "source": [
    "Based on the probability predictions and Custom Score, we are going to identify the best treshold to mesure our models."
   ]
  },
  {
   "cell_type": "code",
   "execution_count": 17,
   "id": "5cd93ebd-fddb-42d9-890b-9ba769948791",
   "metadata": {},
   "outputs": [],
   "source": [
    "def threshold_selection(y_test, y_prob):\n",
    "    \"\"\"\n",
    "    Method used to calculate the threshold based on the Custom Score.\n",
    "\n",
    "    Parameters:\n",
    "    -----------------\n",
    "        df (pandas.DataFrame): Dataset to analyze\n",
    "        y_test (1d array-like): True values\n",
    "        y_prob (1d array-like): Probabilite values predicted\n",
    "        \n",
    "    Returns:\n",
    "    -----------------\n",
    "        threshold (float) : Best threshold value\n",
    "        Threshold (image) : Plot the threshold and the best score\n",
    "    \"\"\"\n",
    "    \n",
    "    thresholds = np.arange(0, 1, 0.001)\n",
    "    scores = []\n",
    "    \n",
    "    for threshold in thresholds:\n",
    "        y_pred = (y_prob >= threshold).astype(\"int\")\n",
    "        score = custom_score(y_test, y_pred)\n",
    "        scores.append(score)\n",
    "        \n",
    "    scores = np.asarray(scores)\n",
    "    ix = np.argmax(scores)\n",
    "    \n",
    "    best_threshold, best_score = (thresholds[ix], round(scores[ix], 3))\n",
    "    \n",
    "    print(\"Best results\")\n",
    "    print(\"- Best Threshold:\\t\", best_threshold)\n",
    "    print(\"- Best Score:\\t\\t\", best_score)\n",
    "    print(\"\\n\")\n",
    "    \n",
    "    plt.subplots(1, figsize=(6, 5))\n",
    "    plt.plot(thresholds, scores, lw=1)\n",
    "    plt.axvline(best_threshold, ls=\"--\", lw=1, c=\"r\")\n",
    "    plt.title(\"Threshold\")\n",
    "    plt.xlabel(\"proba threshold\")\n",
    "    plt.ylabel(\"Score performed\")\n",
    "    plt.show()\n",
    "    \n",
    "    return best_threshold"
   ]
  },
  {
   "cell_type": "markdown",
   "id": "f485ab2d-ddcd-4203-8019-86cdc2e01fa4",
   "metadata": {
    "tags": []
   },
   "source": [
    "## 6. Modelisation"
   ]
  },
  {
   "cell_type": "markdown",
   "id": "c16d8e51-9912-43dd-a551-d5362a6e64f5",
   "metadata": {},
   "source": [
    "<div class=\"admonition warning alert alert-info\">\n",
    "<p>To model the classification predictions, we are going to work with <b>Oversampling - Gradiend Boosting</b></p>\n",
    "</div>"
   ]
  },
  {
   "cell_type": "markdown",
   "id": "37352de0-21ea-4d80-ad17-0585b3473580",
   "metadata": {},
   "source": [
    "To treat the unbalanced class, we are going to implement OverSampling technique with SMOTE."
   ]
  },
  {
   "cell_type": "code",
   "execution_count": 18,
   "id": "43aabbaf-2990-4ebd-8a7b-98435dd37557",
   "metadata": {},
   "outputs": [],
   "source": [
    "smote = SMOTE(random_state=42, n_jobs=-1)"
   ]
  },
  {
   "cell_type": "code",
   "execution_count": 19,
   "id": "5bb9b7c6-5371-44dd-8bbc-2c3bf936676f",
   "metadata": {},
   "outputs": [],
   "source": [
    "gbc_parameters = {\n",
    "    \"learning_rate\": 0.01,\n",
    "    \"max_depth\": 3,\n",
    "    \"n_estimators\": 5\n",
    "}"
   ]
  },
  {
   "cell_type": "code",
   "execution_count": 20,
   "id": "0ec23d26-7d9f-4884-98dd-72d07fbeb0ce",
   "metadata": {},
   "outputs": [],
   "source": [
    "imbpipeline_clf = imbpipeline(steps=[\n",
    "    [\"preprocessor\", preprocessor],\n",
    "    [\"smote\", smote],\n",
    "    [\"GradientBoosting\", GradientBoostingClassifier(**gbc_parameters,\n",
    "                                                validation_fraction=0.2, \n",
    "                                                n_iter_no_change=5,\n",
    "                                                random_state=42)\n",
    "    ]\n",
    "])"
   ]
  },
  {
   "cell_type": "markdown",
   "id": "04496c2a-801f-4bea-b0e3-78bc0c9975c9",
   "metadata": {},
   "source": [
    "Executing the model with the complete dataset"
   ]
  },
  {
   "cell_type": "code",
   "execution_count": 21,
   "id": "843bb329-9f1e-4943-9026-680ffc0007ea",
   "metadata": {},
   "outputs": [
    {
     "data": {
      "text/html": [
       "<style>#sk-container-id-1 {color: black;background-color: white;}#sk-container-id-1 pre{padding: 0;}#sk-container-id-1 div.sk-toggleable {background-color: white;}#sk-container-id-1 label.sk-toggleable__label {cursor: pointer;display: block;width: 100%;margin-bottom: 0;padding: 0.3em;box-sizing: border-box;text-align: center;}#sk-container-id-1 label.sk-toggleable__label-arrow:before {content: \"▸\";float: left;margin-right: 0.25em;color: #696969;}#sk-container-id-1 label.sk-toggleable__label-arrow:hover:before {color: black;}#sk-container-id-1 div.sk-estimator:hover label.sk-toggleable__label-arrow:before {color: black;}#sk-container-id-1 div.sk-toggleable__content {max-height: 0;max-width: 0;overflow: hidden;text-align: left;background-color: #f0f8ff;}#sk-container-id-1 div.sk-toggleable__content pre {margin: 0.2em;color: black;border-radius: 0.25em;background-color: #f0f8ff;}#sk-container-id-1 input.sk-toggleable__control:checked~div.sk-toggleable__content {max-height: 200px;max-width: 100%;overflow: auto;}#sk-container-id-1 input.sk-toggleable__control:checked~label.sk-toggleable__label-arrow:before {content: \"▾\";}#sk-container-id-1 div.sk-estimator input.sk-toggleable__control:checked~label.sk-toggleable__label {background-color: #d4ebff;}#sk-container-id-1 div.sk-label input.sk-toggleable__control:checked~label.sk-toggleable__label {background-color: #d4ebff;}#sk-container-id-1 input.sk-hidden--visually {border: 0;clip: rect(1px 1px 1px 1px);clip: rect(1px, 1px, 1px, 1px);height: 1px;margin: -1px;overflow: hidden;padding: 0;position: absolute;width: 1px;}#sk-container-id-1 div.sk-estimator {font-family: monospace;background-color: #f0f8ff;border: 1px dotted black;border-radius: 0.25em;box-sizing: border-box;margin-bottom: 0.5em;}#sk-container-id-1 div.sk-estimator:hover {background-color: #d4ebff;}#sk-container-id-1 div.sk-parallel-item::after {content: \"\";width: 100%;border-bottom: 1px solid gray;flex-grow: 1;}#sk-container-id-1 div.sk-label:hover label.sk-toggleable__label {background-color: #d4ebff;}#sk-container-id-1 div.sk-serial::before {content: \"\";position: absolute;border-left: 1px solid gray;box-sizing: border-box;top: 0;bottom: 0;left: 50%;z-index: 0;}#sk-container-id-1 div.sk-serial {display: flex;flex-direction: column;align-items: center;background-color: white;padding-right: 0.2em;padding-left: 0.2em;position: relative;}#sk-container-id-1 div.sk-item {position: relative;z-index: 1;}#sk-container-id-1 div.sk-parallel {display: flex;align-items: stretch;justify-content: center;background-color: white;position: relative;}#sk-container-id-1 div.sk-item::before, #sk-container-id-1 div.sk-parallel-item::before {content: \"\";position: absolute;border-left: 1px solid gray;box-sizing: border-box;top: 0;bottom: 0;left: 50%;z-index: -1;}#sk-container-id-1 div.sk-parallel-item {display: flex;flex-direction: column;z-index: 1;position: relative;background-color: white;}#sk-container-id-1 div.sk-parallel-item:first-child::after {align-self: flex-end;width: 50%;}#sk-container-id-1 div.sk-parallel-item:last-child::after {align-self: flex-start;width: 50%;}#sk-container-id-1 div.sk-parallel-item:only-child::after {width: 0;}#sk-container-id-1 div.sk-dashed-wrapped {border: 1px dashed gray;margin: 0 0.4em 0.5em 0.4em;box-sizing: border-box;padding-bottom: 0.4em;background-color: white;}#sk-container-id-1 div.sk-label label {font-family: monospace;font-weight: bold;display: inline-block;line-height: 1.2em;}#sk-container-id-1 div.sk-label-container {text-align: center;}#sk-container-id-1 div.sk-container {/* jupyter's `normalize.less` sets `[hidden] { display: none; }` but bootstrap.min.css set `[hidden] { display: none !important; }` so we also need the `!important` here to be able to override the default hidden behavior on the sphinx rendered scikit-learn.org. See: https://github.com/scikit-learn/scikit-learn/issues/21755 */display: inline-block !important;position: relative;}#sk-container-id-1 div.sk-text-repr-fallback {display: none;}</style><div id=\"sk-container-id-1\" class=\"sk-top-container\"><div class=\"sk-text-repr-fallback\"><pre>Pipeline(steps=[(&#x27;preprocessor&#x27;,\n",
       "                 ColumnTransformer(transformers=[(&#x27;pipeline-1&#x27;,\n",
       "                                                  Pipeline(steps=[(&#x27;onehotencoder&#x27;,\n",
       "                                                                   OneHotEncoder(handle_unknown=&#x27;ignore&#x27;))]),\n",
       "                                                  [&#x27;INSTITUCION&#x27;, &#x27;GENERO&#x27;,\n",
       "                                                   &#x27;JORNADA&#x27;, &#x27;PAIS_ORIGEN&#x27;,\n",
       "                                                   &#x27;DISCAPACIDAD&#x27;, &#x27;SRPA&#x27;,\n",
       "                                                   &#x27;INSTITUCION_SECTOR&#x27;,\n",
       "                                                   &#x27;INSTITUCION_MODELO&#x27;,\n",
       "                                                   &#x27;INSTITUCION_APOYO_ACADEMICO_ESPECIAL&#x27;,\n",
       "                                                   &#x27;INSTITUCION_ZONA&#x27;,\n",
       "                                                   &#x27;INSTITUCION_CARACTER&#x27;,\n",
       "                                                   &#x27;INS...\n",
       "                                                   &#x27;INSTITUCION_ESPECIALIDAD_AGROPECUARIO&#x27;,\n",
       "                                                   &#x27;INSTITUCION_ESPECIALIDAD_COMERCIAL&#x27;,\n",
       "                                                   &#x27;INSTITUCION_ESPECIALIDAD_INDUSTRIAL&#x27;,\n",
       "                                                   &#x27;INSTITUCION_ESPECIALIDAD_NO_APLICA&#x27;,\n",
       "                                                   &#x27;INSTITUCION_ESPECIALIDAD_OTRO&#x27;])])),\n",
       "                (&#x27;smote&#x27;, SMOTE(n_jobs=-1, random_state=42)),\n",
       "                [&#x27;GradientBoosting&#x27;,\n",
       "                 GradientBoostingClassifier(learning_rate=0.01, n_estimators=5,\n",
       "                                            n_iter_no_change=5, random_state=42,\n",
       "                                            validation_fraction=0.2)]])</pre><b>In a Jupyter environment, please rerun this cell to show the HTML representation or trust the notebook. <br />On GitHub, the HTML representation is unable to render, please try loading this page with nbviewer.org.</b></div><div class=\"sk-container\" hidden><div class=\"sk-item sk-dashed-wrapped\"><div class=\"sk-label-container\"><div class=\"sk-label sk-toggleable\"><input class=\"sk-toggleable__control sk-hidden--visually\" id=\"sk-estimator-id-1\" type=\"checkbox\" ><label for=\"sk-estimator-id-1\" class=\"sk-toggleable__label sk-toggleable__label-arrow\">Pipeline</label><div class=\"sk-toggleable__content\"><pre>Pipeline(steps=[(&#x27;preprocessor&#x27;,\n",
       "                 ColumnTransformer(transformers=[(&#x27;pipeline-1&#x27;,\n",
       "                                                  Pipeline(steps=[(&#x27;onehotencoder&#x27;,\n",
       "                                                                   OneHotEncoder(handle_unknown=&#x27;ignore&#x27;))]),\n",
       "                                                  [&#x27;INSTITUCION&#x27;, &#x27;GENERO&#x27;,\n",
       "                                                   &#x27;JORNADA&#x27;, &#x27;PAIS_ORIGEN&#x27;,\n",
       "                                                   &#x27;DISCAPACIDAD&#x27;, &#x27;SRPA&#x27;,\n",
       "                                                   &#x27;INSTITUCION_SECTOR&#x27;,\n",
       "                                                   &#x27;INSTITUCION_MODELO&#x27;,\n",
       "                                                   &#x27;INSTITUCION_APOYO_ACADEMICO_ESPECIAL&#x27;,\n",
       "                                                   &#x27;INSTITUCION_ZONA&#x27;,\n",
       "                                                   &#x27;INSTITUCION_CARACTER&#x27;,\n",
       "                                                   &#x27;INS...\n",
       "                                                   &#x27;INSTITUCION_ESPECIALIDAD_AGROPECUARIO&#x27;,\n",
       "                                                   &#x27;INSTITUCION_ESPECIALIDAD_COMERCIAL&#x27;,\n",
       "                                                   &#x27;INSTITUCION_ESPECIALIDAD_INDUSTRIAL&#x27;,\n",
       "                                                   &#x27;INSTITUCION_ESPECIALIDAD_NO_APLICA&#x27;,\n",
       "                                                   &#x27;INSTITUCION_ESPECIALIDAD_OTRO&#x27;])])),\n",
       "                (&#x27;smote&#x27;, SMOTE(n_jobs=-1, random_state=42)),\n",
       "                [&#x27;GradientBoosting&#x27;,\n",
       "                 GradientBoostingClassifier(learning_rate=0.01, n_estimators=5,\n",
       "                                            n_iter_no_change=5, random_state=42,\n",
       "                                            validation_fraction=0.2)]])</pre></div></div></div><div class=\"sk-serial\"><div class=\"sk-item sk-dashed-wrapped\"><div class=\"sk-label-container\"><div class=\"sk-label sk-toggleable\"><input class=\"sk-toggleable__control sk-hidden--visually\" id=\"sk-estimator-id-2\" type=\"checkbox\" ><label for=\"sk-estimator-id-2\" class=\"sk-toggleable__label sk-toggleable__label-arrow\">preprocessor: ColumnTransformer</label><div class=\"sk-toggleable__content\"><pre>ColumnTransformer(transformers=[(&#x27;pipeline-1&#x27;,\n",
       "                                 Pipeline(steps=[(&#x27;onehotencoder&#x27;,\n",
       "                                                  OneHotEncoder(handle_unknown=&#x27;ignore&#x27;))]),\n",
       "                                 [&#x27;INSTITUCION&#x27;, &#x27;GENERO&#x27;, &#x27;JORNADA&#x27;,\n",
       "                                  &#x27;PAIS_ORIGEN&#x27;, &#x27;DISCAPACIDAD&#x27;, &#x27;SRPA&#x27;,\n",
       "                                  &#x27;INSTITUCION_SECTOR&#x27;, &#x27;INSTITUCION_MODELO&#x27;,\n",
       "                                  &#x27;INSTITUCION_APOYO_ACADEMICO_ESPECIAL&#x27;,\n",
       "                                  &#x27;INSTITUCION_ZONA&#x27;, &#x27;INSTITUCION_CARACTER&#x27;,\n",
       "                                  &#x27;INSTITUCION_ESTADO&#x27;,\n",
       "                                  &#x27;INSTITUCION_PR...\n",
       "                                  &#x27;INSTITUCION_NIVEL_SECUNDARIA_PRIMARIA&#x27;,\n",
       "                                  &#x27;INSTITUCION_NIVEL_MEDIA&#x27;,\n",
       "                                  &#x27;INSTITUCION_NIVEL_PREESCOLAR&#x27;,\n",
       "                                  &#x27;INSTITUCION_NIVEL_PRIMERA_INFANCIA&#x27;,\n",
       "                                  &#x27;INSTITUCION_ESPECIALIDAD_ACADÉMICA&#x27;,\n",
       "                                  &#x27;INSTITUCION_ESPECIALIDAD_AGROPECUARIO&#x27;,\n",
       "                                  &#x27;INSTITUCION_ESPECIALIDAD_COMERCIAL&#x27;,\n",
       "                                  &#x27;INSTITUCION_ESPECIALIDAD_INDUSTRIAL&#x27;,\n",
       "                                  &#x27;INSTITUCION_ESPECIALIDAD_NO_APLICA&#x27;,\n",
       "                                  &#x27;INSTITUCION_ESPECIALIDAD_OTRO&#x27;])])</pre></div></div></div><div class=\"sk-parallel\"><div class=\"sk-parallel-item\"><div class=\"sk-item\"><div class=\"sk-label-container\"><div class=\"sk-label sk-toggleable\"><input class=\"sk-toggleable__control sk-hidden--visually\" id=\"sk-estimator-id-3\" type=\"checkbox\" ><label for=\"sk-estimator-id-3\" class=\"sk-toggleable__label sk-toggleable__label-arrow\">pipeline-1</label><div class=\"sk-toggleable__content\"><pre>[&#x27;INSTITUCION&#x27;, &#x27;GENERO&#x27;, &#x27;JORNADA&#x27;, &#x27;PAIS_ORIGEN&#x27;, &#x27;DISCAPACIDAD&#x27;, &#x27;SRPA&#x27;, &#x27;INSTITUCION_SECTOR&#x27;, &#x27;INSTITUCION_MODELO&#x27;, &#x27;INSTITUCION_APOYO_ACADEMICO_ESPECIAL&#x27;, &#x27;INSTITUCION_ZONA&#x27;, &#x27;INSTITUCION_CARACTER&#x27;, &#x27;INSTITUCION_ESTADO&#x27;, &#x27;INSTITUCION_PRESTADOR_DE_SERVICIO&#x27;]</pre></div></div></div><div class=\"sk-serial\"><div class=\"sk-item\"><div class=\"sk-serial\"><div class=\"sk-item\"><div class=\"sk-estimator sk-toggleable\"><input class=\"sk-toggleable__control sk-hidden--visually\" id=\"sk-estimator-id-4\" type=\"checkbox\" ><label for=\"sk-estimator-id-4\" class=\"sk-toggleable__label sk-toggleable__label-arrow\">OneHotEncoder</label><div class=\"sk-toggleable__content\"><pre>OneHotEncoder(handle_unknown=&#x27;ignore&#x27;)</pre></div></div></div></div></div></div></div></div><div class=\"sk-parallel-item\"><div class=\"sk-item\"><div class=\"sk-label-container\"><div class=\"sk-label sk-toggleable\"><input class=\"sk-toggleable__control sk-hidden--visually\" id=\"sk-estimator-id-5\" type=\"checkbox\" ><label for=\"sk-estimator-id-5\" class=\"sk-toggleable__label sk-toggleable__label-arrow\">pipeline-2</label><div class=\"sk-toggleable__content\"><pre>[&#x27;GRADO_COD&#x27;, &#x27;ESTRATO&#x27;, &#x27;INSTITUCION_TAMAÑO&#x27;]</pre></div></div></div><div class=\"sk-serial\"><div class=\"sk-item\"><div class=\"sk-serial\"><div class=\"sk-item\"><div class=\"sk-estimator sk-toggleable\"><input class=\"sk-toggleable__control sk-hidden--visually\" id=\"sk-estimator-id-6\" type=\"checkbox\" ><label for=\"sk-estimator-id-6\" class=\"sk-toggleable__label sk-toggleable__label-arrow\">OrdinalEncoder</label><div class=\"sk-toggleable__content\"><pre>OrdinalEncoder(categories=[[-2.0, -1.0, 0.0, 1.0, 2.0, 3.0, 4.0, 5.0, 6.0, 7.0,\n",
       "                            8.0, 9.0, 10.0, 11.0, 12.0, 20.0, 21.0, 22.0, 23.0,\n",
       "                            24.0, 25.0, 26.0],\n",
       "                           [&#x27;ESTRATO 0&#x27;, &#x27;ESTRATO 1&#x27;, &#x27;ESTRATO 2&#x27;, &#x27;ESTRATO 3&#x27;,\n",
       "                            &#x27;ESTRATO 4&#x27;, &#x27;ESTRATO 5&#x27;, &#x27;ESTRATO 6&#x27;],\n",
       "                           [&#x27;Pequeña&#x27;, &#x27;Mediana&#x27;, &#x27;Grande&#x27;]])</pre></div></div></div></div></div></div></div></div><div class=\"sk-parallel-item\"><div class=\"sk-item\"><div class=\"sk-label-container\"><div class=\"sk-label sk-toggleable\"><input class=\"sk-toggleable__control sk-hidden--visually\" id=\"sk-estimator-id-7\" type=\"checkbox\" ><label for=\"sk-estimator-id-7\" class=\"sk-toggleable__label sk-toggleable__label-arrow\">pipeline-3</label><div class=\"sk-toggleable__content\"><pre>[&#x27;EDAD&#x27;, &#x27;INSTITUCION_NUMERO_DE_SEDES&#x27;]</pre></div></div></div><div class=\"sk-serial\"><div class=\"sk-item\"><div class=\"sk-serial\"><div class=\"sk-item\"><div class=\"sk-estimator sk-toggleable\"><input class=\"sk-toggleable__control sk-hidden--visually\" id=\"sk-estimator-id-8\" type=\"checkbox\" ><label for=\"sk-estimator-id-8\" class=\"sk-toggleable__label sk-toggleable__label-arrow\">StandardScaler</label><div class=\"sk-toggleable__content\"><pre>StandardScaler()</pre></div></div></div></div></div></div></div></div><div class=\"sk-parallel-item\"><div class=\"sk-item\"><div class=\"sk-label-container\"><div class=\"sk-label sk-toggleable\"><input class=\"sk-toggleable__control sk-hidden--visually\" id=\"sk-estimator-id-9\" type=\"checkbox\" ><label for=\"sk-estimator-id-9\" class=\"sk-toggleable__label sk-toggleable__label-arrow\">pipeline-4</label><div class=\"sk-toggleable__content\"><pre>[&#x27;INSTITUCION_NIVEL_BASICA_PRIMARIA&#x27;, &#x27;INSTITUCION_NIVEL_SECUNDARIA_PRIMARIA&#x27;, &#x27;INSTITUCION_NIVEL_MEDIA&#x27;, &#x27;INSTITUCION_NIVEL_PREESCOLAR&#x27;, &#x27;INSTITUCION_NIVEL_PRIMERA_INFANCIA&#x27;, &#x27;INSTITUCION_ESPECIALIDAD_ACADÉMICA&#x27;, &#x27;INSTITUCION_ESPECIALIDAD_AGROPECUARIO&#x27;, &#x27;INSTITUCION_ESPECIALIDAD_COMERCIAL&#x27;, &#x27;INSTITUCION_ESPECIALIDAD_INDUSTRIAL&#x27;, &#x27;INSTITUCION_ESPECIALIDAD_NO_APLICA&#x27;, &#x27;INSTITUCION_ESPECIALIDAD_OTRO&#x27;]</pre></div></div></div><div class=\"sk-serial\"><div class=\"sk-item\"><div class=\"sk-serial\"><div class=\"sk-item\"><div class=\"sk-estimator sk-toggleable\"><input class=\"sk-toggleable__control sk-hidden--visually\" id=\"sk-estimator-id-10\" type=\"checkbox\" ><label for=\"sk-estimator-id-10\" class=\"sk-toggleable__label sk-toggleable__label-arrow\">FunctionTransformer</label><div class=\"sk-toggleable__content\"><pre>FunctionTransformer(func=&lt;function boolean_transformation at 0x000002583A196440&gt;)</pre></div></div></div></div></div></div></div></div></div></div><div class=\"sk-item\"><div class=\"sk-estimator sk-toggleable\"><input class=\"sk-toggleable__control sk-hidden--visually\" id=\"sk-estimator-id-11\" type=\"checkbox\" ><label for=\"sk-estimator-id-11\" class=\"sk-toggleable__label sk-toggleable__label-arrow\">SMOTE</label><div class=\"sk-toggleable__content\"><pre>SMOTE(n_jobs=-1, random_state=42)</pre></div></div></div><div class=\"sk-item\"><div class=\"sk-estimator sk-toggleable\"><input class=\"sk-toggleable__control sk-hidden--visually\" id=\"sk-estimator-id-12\" type=\"checkbox\" ><label for=\"sk-estimator-id-12\" class=\"sk-toggleable__label sk-toggleable__label-arrow\">GradientBoostingClassifier</label><div class=\"sk-toggleable__content\"><pre>GradientBoostingClassifier(learning_rate=0.01, n_estimators=5,\n",
       "                           n_iter_no_change=5, random_state=42,\n",
       "                           validation_fraction=0.2)</pre></div></div></div></div></div></div></div>"
      ],
      "text/plain": [
       "Pipeline(steps=[('preprocessor',\n",
       "                 ColumnTransformer(transformers=[('pipeline-1',\n",
       "                                                  Pipeline(steps=[('onehotencoder',\n",
       "                                                                   OneHotEncoder(handle_unknown='ignore'))]),\n",
       "                                                  ['INSTITUCION', 'GENERO',\n",
       "                                                   'JORNADA', 'PAIS_ORIGEN',\n",
       "                                                   'DISCAPACIDAD', 'SRPA',\n",
       "                                                   'INSTITUCION_SECTOR',\n",
       "                                                   'INSTITUCION_MODELO',\n",
       "                                                   'INSTITUCION_APOYO_ACADEMICO_ESPECIAL',\n",
       "                                                   'INSTITUCION_ZONA',\n",
       "                                                   'INSTITUCION_CARACTER',\n",
       "                                                   'INS...\n",
       "                                                   'INSTITUCION_ESPECIALIDAD_AGROPECUARIO',\n",
       "                                                   'INSTITUCION_ESPECIALIDAD_COMERCIAL',\n",
       "                                                   'INSTITUCION_ESPECIALIDAD_INDUSTRIAL',\n",
       "                                                   'INSTITUCION_ESPECIALIDAD_NO_APLICA',\n",
       "                                                   'INSTITUCION_ESPECIALIDAD_OTRO'])])),\n",
       "                ('smote', SMOTE(n_jobs=-1, random_state=42)),\n",
       "                ['GradientBoosting',\n",
       "                 GradientBoostingClassifier(learning_rate=0.01, n_estimators=5,\n",
       "                                            n_iter_no_change=5, random_state=42,\n",
       "                                            validation_fraction=0.2)]])"
      ]
     },
     "execution_count": 21,
     "metadata": {},
     "output_type": "execute_result"
    }
   ],
   "source": [
    "imbpipeline_clf.fit(X_train, y_train)"
   ]
  },
  {
   "cell_type": "markdown",
   "id": "559b2692-8a35-4629-a760-c96fe737200e",
   "metadata": {},
   "source": [
    "Predict the probabilities"
   ]
  },
  {
   "cell_type": "code",
   "execution_count": 22,
   "id": "bf479f55-c455-4cef-9030-1684d1daabf3",
   "metadata": {},
   "outputs": [],
   "source": [
    "y_prob = imbpipeline_clf.predict_proba(X_test)\n",
    "y_prob = y_prob[:, 1]"
   ]
  },
  {
   "cell_type": "markdown",
   "id": "66e23a12-b46b-4573-95ff-fb68ab39fb77",
   "metadata": {},
   "source": [
    "Let's selet the threshold based on the best parameters"
   ]
  },
  {
   "cell_type": "code",
   "execution_count": 23,
   "id": "ecc090ba-192f-4ca6-9d6a-802921fbda06",
   "metadata": {},
   "outputs": [
    {
     "name": "stdout",
     "output_type": "stream",
     "text": [
      "Best results\n",
      "- Best Threshold:\t 0.503\n",
      "- Best Score:\t\t 0.199\n",
      "\n",
      "\n"
     ]
    },
    {
     "data": {
      "image/png": "[encoded data removed]",
      "text/plain": [
       "<Figure size 432x360 with 1 Axes>"
      ]
     },
     "metadata": {
      "needs_background": "light"
     },
     "output_type": "display_data"
    }
   ],
   "source": [
    "threshold = threshold_selection(y_test, y_prob)"
   ]
  },
  {
   "cell_type": "markdown",
   "id": "4da6c3ac-cab6-4121-b7d1-047d378c9bcc",
   "metadata": {},
   "source": [
    "Making the predictions based on the probabilities and threshold"
   ]
  },
  {
   "cell_type": "code",
   "execution_count": 24,
   "id": "8b22451e-46ce-46e4-b598-a24d9a04771a",
   "metadata": {},
   "outputs": [],
   "source": [
    "y_pred = (y_prob >= threshold).astype(int)"
   ]
  },
  {
   "cell_type": "markdown",
   "id": "83c05511-fc65-4367-85a4-e22d0ce73054",
   "metadata": {},
   "source": [
    "Now, we can get the metrics"
   ]
  },
  {
   "cell_type": "code",
   "execution_count": 25,
   "id": "1936d668-9fbe-48f7-a0b4-2fe2e0580f18",
   "metadata": {},
   "outputs": [],
   "source": [
    "roc_auc = round(roc_auc_score(y_test, y_prob), 3)\n",
    "recall_0, recall_1 = recall_score(y_test, y_pred, average=None).round(3)\n",
    "f1 = round(f1_score(y_test, y_pred), 3)\n",
    "precision = round(precision_score(y_test, y_pred), 3)"
   ]
  },
  {
   "cell_type": "code",
   "execution_count": 26,
   "id": "0a2478a1-8ff2-41c7-81a0-02fc084b85bb",
   "metadata": {},
   "outputs": [
    {
     "data": {
      "image/png": "[encoded data removed]",
      "text/plain": [
       "<Figure size 432x288 with 2 Axes>"
      ]
     },
     "metadata": {
      "needs_background": "light"
     },
     "output_type": "display_data"
    }
   ],
   "source": [
    "display = ConfusionMatrixDisplay.from_predictions(y_test, y_pred, \n",
    "                                                  display_labels=[\"Not dropped out\", \n",
    "                                                                  \"Dropped out\"])\n",
    "_ = display.ax_.set_title(\"Confusion matrix\")"
   ]
  },
  {
   "cell_type": "code",
   "execution_count": 27,
   "id": "ec686ede-4b54-462b-9933-bd5cee20c716",
   "metadata": {},
   "outputs": [
    {
     "data": {
      "image/png": "[encoded data removed]",
      "text/plain": [
       "<Figure size 432x432 with 1 Axes>"
      ]
     },
     "metadata": {
      "needs_background": "light"
     },
     "output_type": "display_data"
    }
   ],
   "source": [
    "fpr = dict()\n",
    "tpr = dict()\n",
    "fpr[\"micro\"], tpr[\"micro\"], _ = roc_curve(y_test.ravel(), y_prob.ravel())\n",
    "\n",
    "plt.subplots(1, figsize=(6, 6))\n",
    "plt.title(\"Receiver Operating Characteristic\")\n",
    "plt.plot(fpr[\"micro\"], tpr[\"micro\"])\n",
    "plt.plot([0, 1], ls=\"--\")\n",
    "plt.plot([0, 0], [1, 0] , c=\".7\"), plt.plot([1, 1] , c=\".7\")\n",
    "plt.ylabel(\"True Positive Rate\")\n",
    "plt.xlabel(\"False Positive Rate\")\n",
    "plt.show()"
   ]
  },
  {
   "cell_type": "code",
   "execution_count": 28,
   "id": "bcd43158-465c-4432-8d5b-10009fc10f95",
   "metadata": {},
   "outputs": [
    {
     "data": {
      "image/png": "[encoded data removed]",
      "text/plain": [
       "<Figure size 432x288 with 1 Axes>"
      ]
     },
     "metadata": {
      "needs_background": "light"
     },
     "output_type": "display_data"
    }
   ],
   "source": [
    "precision_, recall_, thresh_ = precision_recall_curve(y_test, y_prob)\n",
    "\n",
    "plt.subplots(1, figsize=(6, 4))\n",
    "plt.plot(recall_, precision_,  color=\"#1F77B4\");\n",
    "plt.scatter(recall_1, precision, marker=\"o\", s=100, color=\"red\", label=\"Best\")\n",
    "plt.xlabel(\"Recall (Positive label: 1)\")\n",
    "plt.ylabel(\"Precision (Positive label: 1)\")\n",
    "plt.title(\"2-class Precision-Recall curve\")\n",
    "plt.legend([\"Gradient Boosting (AP = %.2f)\"% (precision)], loc=0)\n",
    "plt.show()"
   ]
  },
  {
   "cell_type": "code",
   "execution_count": 30,
   "id": "a9f957c4-337a-4590-bb76-4c27f92eef87",
   "metadata": {},
   "outputs": [
    {
     "data": {
      "text/html": [
       "<div>\n",
       "<style scoped>\n",
       "    .dataframe tbody tr th:only-of-type {\n",
       "        vertical-align: middle;\n",
       "    }\n",
       "\n",
       "    .dataframe tbody tr th {\n",
       "        vertical-align: top;\n",
       "    }\n",
       "\n",
       "    .dataframe thead th {\n",
       "        text-align: right;\n",
       "    }\n",
       "</style>\n",
       "<table border=\"1\" class=\"dataframe\">\n",
       "  <thead>\n",
       "    <tr style=\"text-align: right;\">\n",
       "      <th></th>\n",
       "      <th>Model</th>\n",
       "      <th>Threshold</th>\n",
       "      <th>ROC-AUC</th>\n",
       "      <th>Recall - 0</th>\n",
       "      <th>Recall - 1</th>\n",
       "      <th>Precision</th>\n",
       "      <th>F1</th>\n",
       "    </tr>\n",
       "  </thead>\n",
       "  <tbody>\n",
       "    <tr>\n",
       "      <th>0</th>\n",
       "      <td>OverSampling - Gradient Boosting - EDAD</td>\n",
       "      <td>0.503</td>\n",
       "      <td>0.695</td>\n",
       "      <td>0.905</td>\n",
       "      <td>0.421</td>\n",
       "      <td>0.256</td>\n",
       "      <td>0.318</td>\n",
       "    </tr>\n",
       "  </tbody>\n",
       "</table>\n",
       "</div>"
      ],
      "text/plain": [
       "                                     Model  Threshold  ROC-AUC  Recall - 0  \\\n",
       "0  OverSampling - Gradient Boosting - EDAD      0.503    0.695       0.905   \n",
       "\n",
       "   Recall - 1  Precision     F1  \n",
       "0       0.421      0.256  0.318  "
      ]
     },
     "execution_count": 30,
     "metadata": {},
     "output_type": "execute_result"
    }
   ],
   "source": [
    "df_models_metrics_complete = pd.DataFrame({\n",
    "    \"Model\" : [\"OverSampling - Gradient Boosting - EDAD\"],\n",
    "    \"Threshold\" : threshold,\n",
    "    \"ROC-AUC\" : roc_auc,    \n",
    "    \"Recall - 0\" : recall_0,\n",
    "    \"Recall - 1\" : recall_1,\n",
    "    \"Precision\" : precision,\n",
    "    \"F1\" : f1,    \n",
    "})\n",
    "\n",
    "df_models_metrics_complete"
   ]
  },
  {
   "cell_type": "code",
   "execution_count": null,
   "id": "83afcfd8-443c-468d-9041-0c1b8e56dff7",
   "metadata": {},
   "outputs": [],
   "source": []
  },
  {
   "cell_type": "markdown",
   "id": "a6faf907-a4e0-4614-8c3b-212001567d79",
   "metadata": {
    "tags": []
   },
   "source": [
    "## 7. Gloabal interpretation"
   ]
  },
  {
   "cell_type": "code",
   "execution_count": 31,
   "id": "331e8635-b910-4fe1-aee7-54d05258260d",
   "metadata": {},
   "outputs": [],
   "source": [
    "results = permutation_importance(imbpipeline_clf, X_train, y_train)"
   ]
  },
  {
   "cell_type": "code",
   "execution_count": 32,
   "id": "2edd941f-e0be-4a29-afac-2ec8a6b31438",
   "metadata": {},
   "outputs": [],
   "source": [
    "df_importance = pd.DataFrame({\n",
    "                    \"Feature\" : X_train.columns,\n",
    "                    \"Importance\" : results.importances_mean\n",
    "                })\n",
    "\n",
    "df_importance = df_importance.sort_values(\"Importance\", ascending=False)"
   ]
  },
  {
   "cell_type": "code",
   "execution_count": 33,
   "id": "e7641a93-f337-4c60-9c49-96c07cb6118f",
   "metadata": {},
   "outputs": [
    {
     "data": {
      "image/png": "[encoded data removed]",
      "text/plain": [
       "<Figure size 720x576 with 1 Axes>"
      ]
     },
     "metadata": {
      "needs_background": "light"
     },
     "output_type": "display_data"
    }
   ],
   "source": [
    "# Initializing figure    \n",
    "fig = plt.subplots(figsize=(10, 8))\n",
    "\n",
    "plot = sns.barplot(data=df_importance, y=df_importance[\"Feature\"], x=df_importance[\"Importance\"])\n",
    "\n",
    "plt.title(\" Features Importance\", fontdict={ \"fontsize\": 16, \"fontweight\": \"normal\" })\n",
    "plt.xlabel(\"Importance\")\n",
    "plt.ylabel(\"Features\")\n",
    "plt.tight_layout()\n",
    "plt.show()"
   ]
  },
  {
   "cell_type": "code",
   "execution_count": null,
   "id": "96050797-99d2-4f19-909d-8d3d369d9f2e",
   "metadata": {},
   "outputs": [],
   "source": []
  },
  {
   "cell_type": "code",
   "execution_count": null,
   "id": "c323e3ba-3346-4725-be0d-577029de4b3b",
   "metadata": {},
   "outputs": [],
   "source": []
  },
  {
   "cell_type": "code",
   "execution_count": null,
   "id": "8789354e-fa15-46c8-9476-6c5fec514d93",
   "metadata": {},
   "outputs": [],
   "source": []
  },
  {
   "cell_type": "code",
   "execution_count": null,
   "id": "4558a8ba-8a70-4ed5-afa7-9edfabbeef6c",
   "metadata": {},
   "outputs": [],
   "source": []
  },
  {
   "cell_type": "code",
   "execution_count": null,
   "id": "1ef8e654-e153-422e-b595-01b7268823a4",
   "metadata": {},
   "outputs": [],
   "source": []
  },
  {
   "cell_type": "code",
   "execution_count": null,
   "id": "5139d45f-b74c-43a5-a4fa-2efb13a412c6",
   "metadata": {},
   "outputs": [],
   "source": []
  },
  {
   "cell_type": "code",
   "execution_count": null,
   "id": "4a43b0b7-c178-47d2-a712-445fdfa0b2b0",
   "metadata": {},
   "outputs": [],
   "source": []
  },
  {
   "cell_type": "code",
   "execution_count": null,
   "id": "58a0d15c-4416-4603-9715-519edc0d539a",
   "metadata": {},
   "outputs": [],
   "source": []
  },
  {
   "cell_type": "code",
   "execution_count": 34,
   "id": "2e7ee606-57ba-4b1b-a4fb-79233a324be3",
   "metadata": {},
   "outputs": [],
   "source": [
    "def age_clasification(age):\n",
    "    if 0 <= age <= 5:\n",
    "        new_age = \"0-5\"\n",
    "    if 6 <= age <= 10:\n",
    "        new_age = \"6-10\"\n",
    "    if 11 <= age <= 15:\n",
    "        new_age = \"11-15\"\n",
    "    if 16 <= age <= 20:\n",
    "        new_age = \"16-20\"\n",
    "    if 21 <= age <= 25:\n",
    "        new_age = \"21-25\"\n",
    "    if 26 <= age:\n",
    "        new_age = \"26+\"\n",
    "    return new_age"
   ]
  },
  {
   "cell_type": "code",
   "execution_count": 35,
   "id": "945db94e-f1d4-4e35-ba06-eec51183c1fd",
   "metadata": {},
   "outputs": [],
   "source": [
    "df_students[\"EDAD_CLASIFICACION\"] = df_students[\"EDAD\"].apply(age_clasification)"
   ]
  },
  {
   "cell_type": "code",
   "execution_count": 36,
   "id": "a109a8ea-cb90-4a88-82f0-0ad095c09087",
   "metadata": {},
   "outputs": [
    {
     "data": {
      "text/html": [
       "<div>\n",
       "<style scoped>\n",
       "    .dataframe tbody tr th:only-of-type {\n",
       "        vertical-align: middle;\n",
       "    }\n",
       "\n",
       "    .dataframe tbody tr th {\n",
       "        vertical-align: top;\n",
       "    }\n",
       "\n",
       "    .dataframe thead th {\n",
       "        text-align: right;\n",
       "    }\n",
       "</style>\n",
       "<table border=\"1\" class=\"dataframe\">\n",
       "  <thead>\n",
       "    <tr style=\"text-align: right;\">\n",
       "      <th></th>\n",
       "      <th>EDAD</th>\n",
       "      <th>EDAD_CLASIFICACION</th>\n",
       "    </tr>\n",
       "  </thead>\n",
       "  <tbody>\n",
       "    <tr>\n",
       "      <th>0</th>\n",
       "      <td>24</td>\n",
       "      <td>21-25</td>\n",
       "    </tr>\n",
       "    <tr>\n",
       "      <th>1</th>\n",
       "      <td>23</td>\n",
       "      <td>21-25</td>\n",
       "    </tr>\n",
       "    <tr>\n",
       "      <th>2</th>\n",
       "      <td>20</td>\n",
       "      <td>16-20</td>\n",
       "    </tr>\n",
       "    <tr>\n",
       "      <th>3</th>\n",
       "      <td>24</td>\n",
       "      <td>21-25</td>\n",
       "    </tr>\n",
       "    <tr>\n",
       "      <th>4</th>\n",
       "      <td>27</td>\n",
       "      <td>26+</td>\n",
       "    </tr>\n",
       "    <tr>\n",
       "      <th>...</th>\n",
       "      <td>...</td>\n",
       "      <td>...</td>\n",
       "    </tr>\n",
       "    <tr>\n",
       "      <th>281182</th>\n",
       "      <td>7</td>\n",
       "      <td>6-10</td>\n",
       "    </tr>\n",
       "    <tr>\n",
       "      <th>281183</th>\n",
       "      <td>9</td>\n",
       "      <td>6-10</td>\n",
       "    </tr>\n",
       "    <tr>\n",
       "      <th>281184</th>\n",
       "      <td>7</td>\n",
       "      <td>6-10</td>\n",
       "    </tr>\n",
       "    <tr>\n",
       "      <th>281185</th>\n",
       "      <td>9</td>\n",
       "      <td>6-10</td>\n",
       "    </tr>\n",
       "    <tr>\n",
       "      <th>281186</th>\n",
       "      <td>19</td>\n",
       "      <td>16-20</td>\n",
       "    </tr>\n",
       "  </tbody>\n",
       "</table>\n",
       "<p>281187 rows × 2 columns</p>\n",
       "</div>"
      ],
      "text/plain": [
       "        EDAD EDAD_CLASIFICACION\n",
       "0         24              21-25\n",
       "1         23              21-25\n",
       "2         20              16-20\n",
       "3         24              21-25\n",
       "4         27                26+\n",
       "...      ...                ...\n",
       "281182     7               6-10\n",
       "281183     9               6-10\n",
       "281184     7               6-10\n",
       "281185     9               6-10\n",
       "281186    19              16-20\n",
       "\n",
       "[281187 rows x 2 columns]"
      ]
     },
     "execution_count": 36,
     "metadata": {},
     "output_type": "execute_result"
    }
   ],
   "source": [
    "df_students[[\"EDAD\", \"EDAD_CLASIFICACION\"]]"
   ]
  },
  {
   "cell_type": "markdown",
   "id": "926827af-344f-4e19-b05d-60c27bd2e2a2",
   "metadata": {},
   "source": [
    "Now, we are let's identify the training columns in the dataset"
   ]
  },
  {
   "cell_type": "code",
   "execution_count": 37,
   "id": "07e98468-9c6f-48fb-8719-0b20f5608afa",
   "metadata": {},
   "outputs": [],
   "source": [
    "NOT_TRAINING_COLUMNS = [\n",
    "    \"ESTADO\", \"AÑO\", \"PER_ID_AÑO\", \"PER_ID\", \"EDAD\", \"INSTITUCION_LATITUDE\", \"INSTITUCION_LONGITUD\"\n",
    "]\n",
    "\n",
    "TRAINING_COLUMNS = [col for col in df_students if col not in NOT_TRAINING_COLUMNS]"
   ]
  },
  {
   "cell_type": "markdown",
   "id": "bfc68e09-0080-47a8-870f-db82a3668e8a",
   "metadata": {},
   "source": [
    "Let's proced to split the data"
   ]
  },
  {
   "cell_type": "code",
   "execution_count": 38,
   "id": "fa740685-449c-4a9e-8145-3f9766bc5752",
   "metadata": {},
   "outputs": [],
   "source": [
    "X = df_students[TRAINING_COLUMNS].copy()"
   ]
  },
  {
   "cell_type": "code",
   "execution_count": 39,
   "id": "d2bfacb6-9ecc-4de5-ae8b-47b659a7d666",
   "metadata": {},
   "outputs": [],
   "source": [
    "y_target = df_students.loc[:, \"ESTADO\"]"
   ]
  },
  {
   "cell_type": "code",
   "execution_count": 40,
   "id": "29f73a2c-7876-4277-b89f-b4d2af8bb2e5",
   "metadata": {},
   "outputs": [],
   "source": [
    "X_train, X_test, y_train, y_test = train_test_split(X, y_target, test_size=0.2,\n",
    "                                                    stratify=y_target, random_state=42)"
   ]
  },
  {
   "cell_type": "code",
   "execution_count": 41,
   "id": "445adb9a-a03b-4b68-9c7a-b4f2d7097286",
   "metadata": {},
   "outputs": [
    {
     "name": "stdout",
     "output_type": "stream",
     "text": [
      "X_train: (224949, 29)\n",
      "y_train: (224949,)\n",
      "------------------------------\n",
      "X_test: (56238, 29)\n",
      "y_test: (56238,)\n"
     ]
    }
   ],
   "source": [
    "print(\"X_train: {}\".format(X_train.shape))\n",
    "print(\"y_train: {}\".format(y_train.shape))\n",
    "print(30*\"-\")\n",
    "print(\"X_test: {}\".format(X_test.shape))\n",
    "print(\"y_test: {}\".format(y_test.shape))"
   ]
  },
  {
   "cell_type": "markdown",
   "id": "a79c1647-ceb7-4e7b-917e-c09a7bfa9ce2",
   "metadata": {
    "tags": []
   },
   "source": [
    "## 4. Data preprocessing"
   ]
  },
  {
   "cell_type": "code",
   "execution_count": 42,
   "id": "d19d58c0-5282-4968-9f8f-d8e608ba8b6b",
   "metadata": {},
   "outputs": [],
   "source": [
    "def boolean_transformation(X):\n",
    "    return X.astype(int)"
   ]
  },
  {
   "cell_type": "code",
   "execution_count": 43,
   "id": "12083603-9c10-4a3c-b5eb-35da1011495f",
   "metadata": {},
   "outputs": [
    {
     "data": {
      "text/plain": [
       "Index(['INSTITUCION', 'GENERO', 'GRADO_COD', 'JORNADA', 'ESTRATO',\n",
       "       'PAIS_ORIGEN', 'DISCAPACIDAD', 'SRPA', 'INSTITUCION_SECTOR',\n",
       "       'INSTITUCION_MODELO', 'INSTITUCION_APOYO_ACADEMICO_ESPECIAL',\n",
       "       'INSTITUCION_ZONA', 'INSTITUCION_CARACTER',\n",
       "       'INSTITUCION_NUMERO_DE_SEDES', 'INSTITUCION_ESTADO',\n",
       "       'INSTITUCION_PRESTADOR_DE_SERVICIO', 'INSTITUCION_TAMAÑO',\n",
       "       'INSTITUCION_NIVEL_BASICA_PRIMARIA',\n",
       "       'INSTITUCION_NIVEL_SECUNDARIA_PRIMARIA', 'INSTITUCION_NIVEL_MEDIA',\n",
       "       'INSTITUCION_NIVEL_PREESCOLAR', 'INSTITUCION_NIVEL_PRIMERA_INFANCIA',\n",
       "       'INSTITUCION_ESPECIALIDAD_ACADÉMICA',\n",
       "       'INSTITUCION_ESPECIALIDAD_AGROPECUARIO',\n",
       "       'INSTITUCION_ESPECIALIDAD_COMERCIAL',\n",
       "       'INSTITUCION_ESPECIALIDAD_INDUSTRIAL',\n",
       "       'INSTITUCION_ESPECIALIDAD_NO_APLICA', 'INSTITUCION_ESPECIALIDAD_OTRO',\n",
       "       'EDAD_CLASIFICACION'],\n",
       "      dtype='object')"
      ]
     },
     "execution_count": 43,
     "metadata": {},
     "output_type": "execute_result"
    }
   ],
   "source": [
    "X_train.columns"
   ]
  },
  {
   "cell_type": "code",
   "execution_count": 44,
   "id": "0d083c0d-04aa-47b0-a77b-35d6d525b168",
   "metadata": {},
   "outputs": [],
   "source": [
    "CATEGORICAL_FEATURES = [\n",
    "    \"INSTITUCION\", \"GENERO\", \"JORNADA\", \"PAIS_ORIGEN\", \"DISCAPACIDAD\", \"SRPA\", \"INSTITUCION_SECTOR\",\n",
    "    \"INSTITUCION_MODELO\", \"INSTITUCION_APOYO_ACADEMICO_ESPECIAL\", \"INSTITUCION_ZONA\", \"INSTITUCION_CARACTER\",\n",
    "    \"INSTITUCION_ESTADO\", \"INSTITUCION_PRESTADOR_DE_SERVICIO\"\n",
    "]\n",
    "ORDINAL_FEATURES = [\n",
    "    \"ESTRATO\", \"INSTITUCION_TAMAÑO\"\n",
    "]\n",
    "ORDINAL_FEATURES = [\n",
    "    \"EDAD_CLASIFICACION\", \"GRADO_COD\", \"ESTRATO\", \"INSTITUCION_TAMAÑO\"\n",
    "]\n",
    "NUMERICAL_FEATURES = [\n",
    "    \"INSTITUCION_NUMERO_DE_SEDES\"\n",
    "]\n",
    "BOOLEAN_FEATURES = [\n",
    "    \"INSTITUCION_NIVEL_BASICA_PRIMARIA\", \"INSTITUCION_NIVEL_SECUNDARIA_PRIMARIA\", \"INSTITUCION_NIVEL_MEDIA\",\n",
    "    \"INSTITUCION_NIVEL_PREESCOLAR\", \"INSTITUCION_NIVEL_PRIMERA_INFANCIA\", \"INSTITUCION_ESPECIALIDAD_ACADÉMICA\", \n",
    "    \"INSTITUCION_ESPECIALIDAD_AGROPECUARIO\", \"INSTITUCION_ESPECIALIDAD_COMERCIAL\", \n",
    "    \"INSTITUCION_ESPECIALIDAD_INDUSTRIAL\", \"INSTITUCION_ESPECIALIDAD_NO_APLICA\",\n",
    "    \"INSTITUCION_ESPECIALIDAD_OTRO\"\n",
    "]"
   ]
  },
  {
   "cell_type": "code",
   "execution_count": 45,
   "id": "66967e28-3a88-44de-bd13-ad5cc578ebc8",
   "metadata": {},
   "outputs": [],
   "source": [
    "categorical_pipeline = make_pipeline(OneHotEncoder(handle_unknown=\"ignore\"))\n",
    "\n",
    "ordinal_pipeline = make_pipeline(OrdinalEncoder(categories=[\n",
    "    [\"0-5\", \"6-10\", \"11-15\", \"16-20\", \"21-25\",\"26+\"],\n",
    "    [-2.0, -1.0, 0.0, 1.0, 2.0, 3.0, 4.0, 5.0, 6.0, 7.0, 8.0, 9.0, 10.0, 11.0, 12.0, 20.0, 21.0, 22.0, 23.0, 24.0, 25.0, 26.0],\n",
    "    ['ESTRATO 0', 'ESTRATO 1', 'ESTRATO 2', 'ESTRATO 3', 'ESTRATO 4', 'ESTRATO 5', 'ESTRATO 6'],\n",
    "    ['Pequeña', 'Mediana',  'Grande']\n",
    "]))\n",
    "\n",
    "numerical_pipeline = make_pipeline(StandardScaler())\n",
    "\n",
    "boolean_pipeline = make_pipeline(FunctionTransformer(boolean_transformation))"
   ]
  },
  {
   "cell_type": "code",
   "execution_count": 46,
   "id": "5a0e6695-1b9b-445a-b03c-01ad7fd239eb",
   "metadata": {},
   "outputs": [],
   "source": [
    "preprocessor = make_column_transformer(\n",
    "    (categorical_pipeline, CATEGORICAL_FEATURES),\n",
    "    (ordinal_pipeline, ORDINAL_FEATURES),\n",
    "    (numerical_pipeline, NUMERICAL_FEATURES),\n",
    "    (boolean_pipeline, BOOLEAN_FEATURES)\n",
    ")"
   ]
  },
  {
   "cell_type": "markdown",
   "id": "3b95edcd-c7ee-47ba-9582-7fcedb87786a",
   "metadata": {
    "tags": []
   },
   "source": [
    "## 5. Custom evaluations"
   ]
  },
  {
   "cell_type": "markdown",
   "id": "57fbc5be-915f-4180-876e-32e5c29e5924",
   "metadata": {
    "tags": []
   },
   "source": [
    "### 5.1. Custom Score"
   ]
  },
  {
   "cell_type": "markdown",
   "id": "cf3695dc-ac5c-4025-bdc7-cac2e97ea212",
   "metadata": {},
   "source": [
    "We are going to penalize False Negative that are students dropped out, and they were predicted incorrectly.<br> Due to that, we are going to define a Custom Score."
   ]
  },
  {
   "cell_type": "code",
   "execution_count": 47,
   "id": "f64744c3-9faa-4236-8f48-f09435e4014c",
   "metadata": {},
   "outputs": [],
   "source": [
    "def custom_score(y_test, y_pred):\n",
    "    \"\"\"\n",
    "    Method used to calculate a score based on the penalization of False Negatives.\n",
    "\n",
    "    Parameters:\n",
    "    -----------------\n",
    "        y_test (series): True values\n",
    "        y_pred (series): Predicted values\n",
    "        threshold (float): Threshold value to use\n",
    "        \n",
    "    Returns:\n",
    "    -----------------\n",
    "        Score. (float): Score obtained based on the rules defined to measure. \n",
    "    \"\"\"\n",
    "    \n",
    "    TN_rate = 1        # Students that do not drop out and were predicted correctly\n",
    "    TP_rate = 1        # Students that dropped out and were predicted correctly\n",
    "    FP_rate = -1       # Students that do not drop out and were predicted incorrectly\n",
    "    FN_rate = -10      # Students that dropped out and were predicted incorrectly\n",
    "    \n",
    "    # Getting all values based on confusion matrix\n",
    "    (TN, FP, FN, TP) = confusion_matrix(y_test, y_pred, labels=[0, 1]).ravel()\n",
    "\n",
    "    # Total of default and not default cases\n",
    "    total_not_default = TN + FP     # Not drop out cases\n",
    "    total_default = TP + FN         # Drop out cases \n",
    "    \n",
    "    gain_total = TN*TN_rate + TP*TP_rate + FP*FP_rate + FN*FN_rate\n",
    "    gain_maximun = total_not_default*TN_rate + total_default*TP_rate\n",
    "    gain_minumun = total_not_default*TN_rate + total_default*FN_rate\n",
    "    \n",
    "    # normalize to get score between 0 (baseline) and 1\n",
    "    score = (gain_total - gain_minumun) / (gain_maximun - gain_minumun)    \n",
    "    return score\n"
   ]
  },
  {
   "cell_type": "markdown",
   "id": "43fe153b-d5c7-40e0-b32e-0b8ec80a1be8",
   "metadata": {
    "tags": []
   },
   "source": [
    "### 5.2. Threshold selection"
   ]
  },
  {
   "cell_type": "markdown",
   "id": "4167c23a-4536-44cd-b1e1-01782b318766",
   "metadata": {},
   "source": [
    "Based on the probability predictions and Custom Score, we are going to identify the best treshold to mesure our models."
   ]
  },
  {
   "cell_type": "code",
   "execution_count": 48,
   "id": "cdd7b10c-5574-4763-bf5a-74c34c3b5ae7",
   "metadata": {},
   "outputs": [],
   "source": [
    "def threshold_selection(y_test, y_prob):\n",
    "    \"\"\"\n",
    "    Method used to calculate the threshold based on the Custom Score.\n",
    "\n",
    "    Parameters:\n",
    "    -----------------\n",
    "        df (pandas.DataFrame): Dataset to analyze\n",
    "        y_test (1d array-like): True values\n",
    "        y_prob (1d array-like): Probabilite values predicted\n",
    "        \n",
    "    Returns:\n",
    "    -----------------\n",
    "        threshold (float) : Best threshold value\n",
    "        Threshold (image) : Plot the threshold and the best score\n",
    "    \"\"\"\n",
    "    \n",
    "    thresholds = np.arange(0, 1, 0.001)\n",
    "    scores = []\n",
    "    \n",
    "    for threshold in thresholds:\n",
    "        y_pred = (y_prob >= threshold).astype(\"int\")\n",
    "        score = custom_score(y_test, y_pred)\n",
    "        scores.append(score)\n",
    "        \n",
    "    scores = np.asarray(scores)\n",
    "    ix = np.argmax(scores)\n",
    "    \n",
    "    best_threshold, best_score = (thresholds[ix], round(scores[ix], 3))\n",
    "    \n",
    "    print(\"Best results\")\n",
    "    print(\"- Best Threshold:\\t\", best_threshold)\n",
    "    print(\"- Best Score:\\t\\t\", best_score)\n",
    "    print(\"\\n\")\n",
    "    \n",
    "    plt.subplots(1, figsize=(6, 5))\n",
    "    plt.plot(thresholds, scores, lw=1)\n",
    "    plt.axvline(best_threshold, ls=\"--\", lw=1, c=\"r\")\n",
    "    plt.title(\"Threshold\")\n",
    "    plt.xlabel(\"proba threshold\")\n",
    "    plt.ylabel(\"Score performed\")\n",
    "    plt.show()\n",
    "    \n",
    "    return best_threshold"
   ]
  },
  {
   "cell_type": "markdown",
   "id": "0c09e395-c707-4917-a3b2-f9308410748f",
   "metadata": {
    "tags": []
   },
   "source": [
    "## 6. Modelisation"
   ]
  },
  {
   "cell_type": "markdown",
   "id": "28fce0a3-7da4-4bcb-85df-f93ea8c38a46",
   "metadata": {},
   "source": [
    "<div class=\"admonition warning alert alert-info\">\n",
    "<p>To model the classification predictions, we are going to work with <b>Oversampling - Gradiend Boosting</b></p>\n",
    "</div>"
   ]
  },
  {
   "cell_type": "markdown",
   "id": "02b593c3-17a1-464f-8ac6-9e9bd5cf16ea",
   "metadata": {},
   "source": [
    "To treat the unbalanced class, we are going to implement OverSampling technique with SMOTE."
   ]
  },
  {
   "cell_type": "code",
   "execution_count": 49,
   "id": "48bbc457-65ff-4561-8fd0-5b494bb880f4",
   "metadata": {},
   "outputs": [],
   "source": [
    "smote = SMOTE(random_state=42, n_jobs=-1)"
   ]
  },
  {
   "cell_type": "code",
   "execution_count": 50,
   "id": "25f8cc1b-edc4-486b-885f-a962280e26e6",
   "metadata": {},
   "outputs": [],
   "source": [
    "gbc_parameters = {\n",
    "    \"learning_rate\": 0.01,\n",
    "    \"max_depth\": 3,\n",
    "    \"n_estimators\": 5\n",
    "}"
   ]
  },
  {
   "cell_type": "code",
   "execution_count": 51,
   "id": "f88974be-df9f-4d9f-a6f2-688af684287e",
   "metadata": {},
   "outputs": [],
   "source": [
    "imbpipeline_clf = imbpipeline(steps=[\n",
    "    [\"preprocessor\", preprocessor],\n",
    "    [\"smote\", smote],\n",
    "    [\"GradientBoosting\", GradientBoostingClassifier(**gbc_parameters,\n",
    "                                                validation_fraction=0.2, \n",
    "                                                n_iter_no_change=5,\n",
    "                                                random_state=42)\n",
    "    ]\n",
    "])"
   ]
  },
  {
   "cell_type": "markdown",
   "id": "8e4c6d9c-9e27-415a-a48f-8dcee615d939",
   "metadata": {},
   "source": [
    "Executing the model with the complete dataset"
   ]
  },
  {
   "cell_type": "code",
   "execution_count": 52,
   "id": "5c29d478-ce33-427b-8788-2ad8aa389814",
   "metadata": {},
   "outputs": [
    {
     "data": {
      "text/html": [
       "<style>#sk-container-id-2 {color: black;background-color: white;}#sk-container-id-2 pre{padding: 0;}#sk-container-id-2 div.sk-toggleable {background-color: white;}#sk-container-id-2 label.sk-toggleable__label {cursor: pointer;display: block;width: 100%;margin-bottom: 0;padding: 0.3em;box-sizing: border-box;text-align: center;}#sk-container-id-2 label.sk-toggleable__label-arrow:before {content: \"▸\";float: left;margin-right: 0.25em;color: #696969;}#sk-container-id-2 label.sk-toggleable__label-arrow:hover:before {color: black;}#sk-container-id-2 div.sk-estimator:hover label.sk-toggleable__label-arrow:before {color: black;}#sk-container-id-2 div.sk-toggleable__content {max-height: 0;max-width: 0;overflow: hidden;text-align: left;background-color: #f0f8ff;}#sk-container-id-2 div.sk-toggleable__content pre {margin: 0.2em;color: black;border-radius: 0.25em;background-color: #f0f8ff;}#sk-container-id-2 input.sk-toggleable__control:checked~div.sk-toggleable__content {max-height: 200px;max-width: 100%;overflow: auto;}#sk-container-id-2 input.sk-toggleable__control:checked~label.sk-toggleable__label-arrow:before {content: \"▾\";}#sk-container-id-2 div.sk-estimator input.sk-toggleable__control:checked~label.sk-toggleable__label {background-color: #d4ebff;}#sk-container-id-2 div.sk-label input.sk-toggleable__control:checked~label.sk-toggleable__label {background-color: #d4ebff;}#sk-container-id-2 input.sk-hidden--visually {border: 0;clip: rect(1px 1px 1px 1px);clip: rect(1px, 1px, 1px, 1px);height: 1px;margin: -1px;overflow: hidden;padding: 0;position: absolute;width: 1px;}#sk-container-id-2 div.sk-estimator {font-family: monospace;background-color: #f0f8ff;border: 1px dotted black;border-radius: 0.25em;box-sizing: border-box;margin-bottom: 0.5em;}#sk-container-id-2 div.sk-estimator:hover {background-color: #d4ebff;}#sk-container-id-2 div.sk-parallel-item::after {content: \"\";width: 100%;border-bottom: 1px solid gray;flex-grow: 1;}#sk-container-id-2 div.sk-label:hover label.sk-toggleable__label {background-color: #d4ebff;}#sk-container-id-2 div.sk-serial::before {content: \"\";position: absolute;border-left: 1px solid gray;box-sizing: border-box;top: 0;bottom: 0;left: 50%;z-index: 0;}#sk-container-id-2 div.sk-serial {display: flex;flex-direction: column;align-items: center;background-color: white;padding-right: 0.2em;padding-left: 0.2em;position: relative;}#sk-container-id-2 div.sk-item {position: relative;z-index: 1;}#sk-container-id-2 div.sk-parallel {display: flex;align-items: stretch;justify-content: center;background-color: white;position: relative;}#sk-container-id-2 div.sk-item::before, #sk-container-id-2 div.sk-parallel-item::before {content: \"\";position: absolute;border-left: 1px solid gray;box-sizing: border-box;top: 0;bottom: 0;left: 50%;z-index: -1;}#sk-container-id-2 div.sk-parallel-item {display: flex;flex-direction: column;z-index: 1;position: relative;background-color: white;}#sk-container-id-2 div.sk-parallel-item:first-child::after {align-self: flex-end;width: 50%;}#sk-container-id-2 div.sk-parallel-item:last-child::after {align-self: flex-start;width: 50%;}#sk-container-id-2 div.sk-parallel-item:only-child::after {width: 0;}#sk-container-id-2 div.sk-dashed-wrapped {border: 1px dashed gray;margin: 0 0.4em 0.5em 0.4em;box-sizing: border-box;padding-bottom: 0.4em;background-color: white;}#sk-container-id-2 div.sk-label label {font-family: monospace;font-weight: bold;display: inline-block;line-height: 1.2em;}#sk-container-id-2 div.sk-label-container {text-align: center;}#sk-container-id-2 div.sk-container {/* jupyter's `normalize.less` sets `[hidden] { display: none; }` but bootstrap.min.css set `[hidden] { display: none !important; }` so we also need the `!important` here to be able to override the default hidden behavior on the sphinx rendered scikit-learn.org. See: https://github.com/scikit-learn/scikit-learn/issues/21755 */display: inline-block !important;position: relative;}#sk-container-id-2 div.sk-text-repr-fallback {display: none;}</style><div id=\"sk-container-id-2\" class=\"sk-top-container\"><div class=\"sk-text-repr-fallback\"><pre>Pipeline(steps=[(&#x27;preprocessor&#x27;,\n",
       "                 ColumnTransformer(transformers=[(&#x27;pipeline-1&#x27;,\n",
       "                                                  Pipeline(steps=[(&#x27;onehotencoder&#x27;,\n",
       "                                                                   OneHotEncoder(handle_unknown=&#x27;ignore&#x27;))]),\n",
       "                                                  [&#x27;INSTITUCION&#x27;, &#x27;GENERO&#x27;,\n",
       "                                                   &#x27;JORNADA&#x27;, &#x27;PAIS_ORIGEN&#x27;,\n",
       "                                                   &#x27;DISCAPACIDAD&#x27;, &#x27;SRPA&#x27;,\n",
       "                                                   &#x27;INSTITUCION_SECTOR&#x27;,\n",
       "                                                   &#x27;INSTITUCION_MODELO&#x27;,\n",
       "                                                   &#x27;INSTITUCION_APOYO_ACADEMICO_ESPECIAL&#x27;,\n",
       "                                                   &#x27;INSTITUCION_ZONA&#x27;,\n",
       "                                                   &#x27;INSTITUCION_CARACTER&#x27;,\n",
       "                                                   &#x27;INS...\n",
       "                                                   &#x27;INSTITUCION_ESPECIALIDAD_AGROPECUARIO&#x27;,\n",
       "                                                   &#x27;INSTITUCION_ESPECIALIDAD_COMERCIAL&#x27;,\n",
       "                                                   &#x27;INSTITUCION_ESPECIALIDAD_INDUSTRIAL&#x27;,\n",
       "                                                   &#x27;INSTITUCION_ESPECIALIDAD_NO_APLICA&#x27;,\n",
       "                                                   &#x27;INSTITUCION_ESPECIALIDAD_OTRO&#x27;])])),\n",
       "                (&#x27;smote&#x27;, SMOTE(n_jobs=-1, random_state=42)),\n",
       "                [&#x27;GradientBoosting&#x27;,\n",
       "                 GradientBoostingClassifier(learning_rate=0.01, n_estimators=5,\n",
       "                                            n_iter_no_change=5, random_state=42,\n",
       "                                            validation_fraction=0.2)]])</pre><b>In a Jupyter environment, please rerun this cell to show the HTML representation or trust the notebook. <br />On GitHub, the HTML representation is unable to render, please try loading this page with nbviewer.org.</b></div><div class=\"sk-container\" hidden><div class=\"sk-item sk-dashed-wrapped\"><div class=\"sk-label-container\"><div class=\"sk-label sk-toggleable\"><input class=\"sk-toggleable__control sk-hidden--visually\" id=\"sk-estimator-id-13\" type=\"checkbox\" ><label for=\"sk-estimator-id-13\" class=\"sk-toggleable__label sk-toggleable__label-arrow\">Pipeline</label><div class=\"sk-toggleable__content\"><pre>Pipeline(steps=[(&#x27;preprocessor&#x27;,\n",
       "                 ColumnTransformer(transformers=[(&#x27;pipeline-1&#x27;,\n",
       "                                                  Pipeline(steps=[(&#x27;onehotencoder&#x27;,\n",
       "                                                                   OneHotEncoder(handle_unknown=&#x27;ignore&#x27;))]),\n",
       "                                                  [&#x27;INSTITUCION&#x27;, &#x27;GENERO&#x27;,\n",
       "                                                   &#x27;JORNADA&#x27;, &#x27;PAIS_ORIGEN&#x27;,\n",
       "                                                   &#x27;DISCAPACIDAD&#x27;, &#x27;SRPA&#x27;,\n",
       "                                                   &#x27;INSTITUCION_SECTOR&#x27;,\n",
       "                                                   &#x27;INSTITUCION_MODELO&#x27;,\n",
       "                                                   &#x27;INSTITUCION_APOYO_ACADEMICO_ESPECIAL&#x27;,\n",
       "                                                   &#x27;INSTITUCION_ZONA&#x27;,\n",
       "                                                   &#x27;INSTITUCION_CARACTER&#x27;,\n",
       "                                                   &#x27;INS...\n",
       "                                                   &#x27;INSTITUCION_ESPECIALIDAD_AGROPECUARIO&#x27;,\n",
       "                                                   &#x27;INSTITUCION_ESPECIALIDAD_COMERCIAL&#x27;,\n",
       "                                                   &#x27;INSTITUCION_ESPECIALIDAD_INDUSTRIAL&#x27;,\n",
       "                                                   &#x27;INSTITUCION_ESPECIALIDAD_NO_APLICA&#x27;,\n",
       "                                                   &#x27;INSTITUCION_ESPECIALIDAD_OTRO&#x27;])])),\n",
       "                (&#x27;smote&#x27;, SMOTE(n_jobs=-1, random_state=42)),\n",
       "                [&#x27;GradientBoosting&#x27;,\n",
       "                 GradientBoostingClassifier(learning_rate=0.01, n_estimators=5,\n",
       "                                            n_iter_no_change=5, random_state=42,\n",
       "                                            validation_fraction=0.2)]])</pre></div></div></div><div class=\"sk-serial\"><div class=\"sk-item sk-dashed-wrapped\"><div class=\"sk-label-container\"><div class=\"sk-label sk-toggleable\"><input class=\"sk-toggleable__control sk-hidden--visually\" id=\"sk-estimator-id-14\" type=\"checkbox\" ><label for=\"sk-estimator-id-14\" class=\"sk-toggleable__label sk-toggleable__label-arrow\">preprocessor: ColumnTransformer</label><div class=\"sk-toggleable__content\"><pre>ColumnTransformer(transformers=[(&#x27;pipeline-1&#x27;,\n",
       "                                 Pipeline(steps=[(&#x27;onehotencoder&#x27;,\n",
       "                                                  OneHotEncoder(handle_unknown=&#x27;ignore&#x27;))]),\n",
       "                                 [&#x27;INSTITUCION&#x27;, &#x27;GENERO&#x27;, &#x27;JORNADA&#x27;,\n",
       "                                  &#x27;PAIS_ORIGEN&#x27;, &#x27;DISCAPACIDAD&#x27;, &#x27;SRPA&#x27;,\n",
       "                                  &#x27;INSTITUCION_SECTOR&#x27;, &#x27;INSTITUCION_MODELO&#x27;,\n",
       "                                  &#x27;INSTITUCION_APOYO_ACADEMICO_ESPECIAL&#x27;,\n",
       "                                  &#x27;INSTITUCION_ZONA&#x27;, &#x27;INSTITUCION_CARACTER&#x27;,\n",
       "                                  &#x27;INSTITUCION_ESTADO&#x27;,\n",
       "                                  &#x27;INSTITUCION_PR...\n",
       "                                  &#x27;INSTITUCION_NIVEL_SECUNDARIA_PRIMARIA&#x27;,\n",
       "                                  &#x27;INSTITUCION_NIVEL_MEDIA&#x27;,\n",
       "                                  &#x27;INSTITUCION_NIVEL_PREESCOLAR&#x27;,\n",
       "                                  &#x27;INSTITUCION_NIVEL_PRIMERA_INFANCIA&#x27;,\n",
       "                                  &#x27;INSTITUCION_ESPECIALIDAD_ACADÉMICA&#x27;,\n",
       "                                  &#x27;INSTITUCION_ESPECIALIDAD_AGROPECUARIO&#x27;,\n",
       "                                  &#x27;INSTITUCION_ESPECIALIDAD_COMERCIAL&#x27;,\n",
       "                                  &#x27;INSTITUCION_ESPECIALIDAD_INDUSTRIAL&#x27;,\n",
       "                                  &#x27;INSTITUCION_ESPECIALIDAD_NO_APLICA&#x27;,\n",
       "                                  &#x27;INSTITUCION_ESPECIALIDAD_OTRO&#x27;])])</pre></div></div></div><div class=\"sk-parallel\"><div class=\"sk-parallel-item\"><div class=\"sk-item\"><div class=\"sk-label-container\"><div class=\"sk-label sk-toggleable\"><input class=\"sk-toggleable__control sk-hidden--visually\" id=\"sk-estimator-id-15\" type=\"checkbox\" ><label for=\"sk-estimator-id-15\" class=\"sk-toggleable__label sk-toggleable__label-arrow\">pipeline-1</label><div class=\"sk-toggleable__content\"><pre>[&#x27;INSTITUCION&#x27;, &#x27;GENERO&#x27;, &#x27;JORNADA&#x27;, &#x27;PAIS_ORIGEN&#x27;, &#x27;DISCAPACIDAD&#x27;, &#x27;SRPA&#x27;, &#x27;INSTITUCION_SECTOR&#x27;, &#x27;INSTITUCION_MODELO&#x27;, &#x27;INSTITUCION_APOYO_ACADEMICO_ESPECIAL&#x27;, &#x27;INSTITUCION_ZONA&#x27;, &#x27;INSTITUCION_CARACTER&#x27;, &#x27;INSTITUCION_ESTADO&#x27;, &#x27;INSTITUCION_PRESTADOR_DE_SERVICIO&#x27;]</pre></div></div></div><div class=\"sk-serial\"><div class=\"sk-item\"><div class=\"sk-serial\"><div class=\"sk-item\"><div class=\"sk-estimator sk-toggleable\"><input class=\"sk-toggleable__control sk-hidden--visually\" id=\"sk-estimator-id-16\" type=\"checkbox\" ><label for=\"sk-estimator-id-16\" class=\"sk-toggleable__label sk-toggleable__label-arrow\">OneHotEncoder</label><div class=\"sk-toggleable__content\"><pre>OneHotEncoder(handle_unknown=&#x27;ignore&#x27;)</pre></div></div></div></div></div></div></div></div><div class=\"sk-parallel-item\"><div class=\"sk-item\"><div class=\"sk-label-container\"><div class=\"sk-label sk-toggleable\"><input class=\"sk-toggleable__control sk-hidden--visually\" id=\"sk-estimator-id-17\" type=\"checkbox\" ><label for=\"sk-estimator-id-17\" class=\"sk-toggleable__label sk-toggleable__label-arrow\">pipeline-2</label><div class=\"sk-toggleable__content\"><pre>[&#x27;EDAD_CLASIFICACION&#x27;, &#x27;GRADO_COD&#x27;, &#x27;ESTRATO&#x27;, &#x27;INSTITUCION_TAMAÑO&#x27;]</pre></div></div></div><div class=\"sk-serial\"><div class=\"sk-item\"><div class=\"sk-serial\"><div class=\"sk-item\"><div class=\"sk-estimator sk-toggleable\"><input class=\"sk-toggleable__control sk-hidden--visually\" id=\"sk-estimator-id-18\" type=\"checkbox\" ><label for=\"sk-estimator-id-18\" class=\"sk-toggleable__label sk-toggleable__label-arrow\">OrdinalEncoder</label><div class=\"sk-toggleable__content\"><pre>OrdinalEncoder(categories=[[&#x27;0-5&#x27;, &#x27;6-10&#x27;, &#x27;11-15&#x27;, &#x27;16-20&#x27;, &#x27;21-25&#x27;, &#x27;26+&#x27;],\n",
       "                           [-2.0, -1.0, 0.0, 1.0, 2.0, 3.0, 4.0, 5.0, 6.0, 7.0,\n",
       "                            8.0, 9.0, 10.0, 11.0, 12.0, 20.0, 21.0, 22.0, 23.0,\n",
       "                            24.0, 25.0, 26.0],\n",
       "                           [&#x27;ESTRATO 0&#x27;, &#x27;ESTRATO 1&#x27;, &#x27;ESTRATO 2&#x27;, &#x27;ESTRATO 3&#x27;,\n",
       "                            &#x27;ESTRATO 4&#x27;, &#x27;ESTRATO 5&#x27;, &#x27;ESTRATO 6&#x27;],\n",
       "                           [&#x27;Pequeña&#x27;, &#x27;Mediana&#x27;, &#x27;Grande&#x27;]])</pre></div></div></div></div></div></div></div></div><div class=\"sk-parallel-item\"><div class=\"sk-item\"><div class=\"sk-label-container\"><div class=\"sk-label sk-toggleable\"><input class=\"sk-toggleable__control sk-hidden--visually\" id=\"sk-estimator-id-19\" type=\"checkbox\" ><label for=\"sk-estimator-id-19\" class=\"sk-toggleable__label sk-toggleable__label-arrow\">pipeline-3</label><div class=\"sk-toggleable__content\"><pre>[&#x27;INSTITUCION_NUMERO_DE_SEDES&#x27;]</pre></div></div></div><div class=\"sk-serial\"><div class=\"sk-item\"><div class=\"sk-serial\"><div class=\"sk-item\"><div class=\"sk-estimator sk-toggleable\"><input class=\"sk-toggleable__control sk-hidden--visually\" id=\"sk-estimator-id-20\" type=\"checkbox\" ><label for=\"sk-estimator-id-20\" class=\"sk-toggleable__label sk-toggleable__label-arrow\">StandardScaler</label><div class=\"sk-toggleable__content\"><pre>StandardScaler()</pre></div></div></div></div></div></div></div></div><div class=\"sk-parallel-item\"><div class=\"sk-item\"><div class=\"sk-label-container\"><div class=\"sk-label sk-toggleable\"><input class=\"sk-toggleable__control sk-hidden--visually\" id=\"sk-estimator-id-21\" type=\"checkbox\" ><label for=\"sk-estimator-id-21\" class=\"sk-toggleable__label sk-toggleable__label-arrow\">pipeline-4</label><div class=\"sk-toggleable__content\"><pre>[&#x27;INSTITUCION_NIVEL_BASICA_PRIMARIA&#x27;, &#x27;INSTITUCION_NIVEL_SECUNDARIA_PRIMARIA&#x27;, &#x27;INSTITUCION_NIVEL_MEDIA&#x27;, &#x27;INSTITUCION_NIVEL_PREESCOLAR&#x27;, &#x27;INSTITUCION_NIVEL_PRIMERA_INFANCIA&#x27;, &#x27;INSTITUCION_ESPECIALIDAD_ACADÉMICA&#x27;, &#x27;INSTITUCION_ESPECIALIDAD_AGROPECUARIO&#x27;, &#x27;INSTITUCION_ESPECIALIDAD_COMERCIAL&#x27;, &#x27;INSTITUCION_ESPECIALIDAD_INDUSTRIAL&#x27;, &#x27;INSTITUCION_ESPECIALIDAD_NO_APLICA&#x27;, &#x27;INSTITUCION_ESPECIALIDAD_OTRO&#x27;]</pre></div></div></div><div class=\"sk-serial\"><div class=\"sk-item\"><div class=\"sk-serial\"><div class=\"sk-item\"><div class=\"sk-estimator sk-toggleable\"><input class=\"sk-toggleable__control sk-hidden--visually\" id=\"sk-estimator-id-22\" type=\"checkbox\" ><label for=\"sk-estimator-id-22\" class=\"sk-toggleable__label sk-toggleable__label-arrow\">FunctionTransformer</label><div class=\"sk-toggleable__content\"><pre>FunctionTransformer(func=&lt;function boolean_transformation at 0x0000025850C79360&gt;)</pre></div></div></div></div></div></div></div></div></div></div><div class=\"sk-item\"><div class=\"sk-estimator sk-toggleable\"><input class=\"sk-toggleable__control sk-hidden--visually\" id=\"sk-estimator-id-23\" type=\"checkbox\" ><label for=\"sk-estimator-id-23\" class=\"sk-toggleable__label sk-toggleable__label-arrow\">SMOTE</label><div class=\"sk-toggleable__content\"><pre>SMOTE(n_jobs=-1, random_state=42)</pre></div></div></div><div class=\"sk-item\"><div class=\"sk-estimator sk-toggleable\"><input class=\"sk-toggleable__control sk-hidden--visually\" id=\"sk-estimator-id-24\" type=\"checkbox\" ><label for=\"sk-estimator-id-24\" class=\"sk-toggleable__label sk-toggleable__label-arrow\">GradientBoostingClassifier</label><div class=\"sk-toggleable__content\"><pre>GradientBoostingClassifier(learning_rate=0.01, n_estimators=5,\n",
       "                           n_iter_no_change=5, random_state=42,\n",
       "                           validation_fraction=0.2)</pre></div></div></div></div></div></div></div>"
      ],
      "text/plain": [
       "Pipeline(steps=[('preprocessor',\n",
       "                 ColumnTransformer(transformers=[('pipeline-1',\n",
       "                                                  Pipeline(steps=[('onehotencoder',\n",
       "                                                                   OneHotEncoder(handle_unknown='ignore'))]),\n",
       "                                                  ['INSTITUCION', 'GENERO',\n",
       "                                                   'JORNADA', 'PAIS_ORIGEN',\n",
       "                                                   'DISCAPACIDAD', 'SRPA',\n",
       "                                                   'INSTITUCION_SECTOR',\n",
       "                                                   'INSTITUCION_MODELO',\n",
       "                                                   'INSTITUCION_APOYO_ACADEMICO_ESPECIAL',\n",
       "                                                   'INSTITUCION_ZONA',\n",
       "                                                   'INSTITUCION_CARACTER',\n",
       "                                                   'INS...\n",
       "                                                   'INSTITUCION_ESPECIALIDAD_AGROPECUARIO',\n",
       "                                                   'INSTITUCION_ESPECIALIDAD_COMERCIAL',\n",
       "                                                   'INSTITUCION_ESPECIALIDAD_INDUSTRIAL',\n",
       "                                                   'INSTITUCION_ESPECIALIDAD_NO_APLICA',\n",
       "                                                   'INSTITUCION_ESPECIALIDAD_OTRO'])])),\n",
       "                ('smote', SMOTE(n_jobs=-1, random_state=42)),\n",
       "                ['GradientBoosting',\n",
       "                 GradientBoostingClassifier(learning_rate=0.01, n_estimators=5,\n",
       "                                            n_iter_no_change=5, random_state=42,\n",
       "                                            validation_fraction=0.2)]])"
      ]
     },
     "execution_count": 52,
     "metadata": {},
     "output_type": "execute_result"
    }
   ],
   "source": [
    "imbpipeline_clf.fit(X_train, y_train)"
   ]
  },
  {
   "cell_type": "markdown",
   "id": "32d62c70-8c84-423c-9452-6645713ed2d6",
   "metadata": {},
   "source": [
    "Predict the probabilities"
   ]
  },
  {
   "cell_type": "code",
   "execution_count": 53,
   "id": "bc3f23c6-7564-4433-8a73-87f54ba8867e",
   "metadata": {},
   "outputs": [],
   "source": [
    "y_prob = imbpipeline_clf.predict_proba(X_test)\n",
    "y_prob = y_prob[:, 1]"
   ]
  },
  {
   "cell_type": "markdown",
   "id": "f01bf66e-c7b1-41ef-b4b2-4b89b3c07b27",
   "metadata": {},
   "source": [
    "Let's selet the threshold based on the best parameters"
   ]
  },
  {
   "cell_type": "code",
   "execution_count": 54,
   "id": "196480a8-bba3-4c67-8e03-e9ac4c066f25",
   "metadata": {},
   "outputs": [
    {
     "name": "stdout",
     "output_type": "stream",
     "text": [
      "Best results\n",
      "- Best Threshold:\t 0.508\n",
      "- Best Score:\t\t 0.192\n",
      "\n",
      "\n"
     ]
    },
    {
     "data": {
      "image/png": "[encoded data removed]",
      "text/plain": [
       "<Figure size 432x360 with 1 Axes>"
      ]
     },
     "metadata": {
      "needs_background": "light"
     },
     "output_type": "display_data"
    }
   ],
   "source": [
    "threshold = threshold_selection(y_test, y_prob)"
   ]
  },
  {
   "cell_type": "markdown",
   "id": "719cb077-f1ed-4d65-83ed-dcdebec72827",
   "metadata": {},
   "source": [
    "Making the predictions based on the probabilities and threshold"
   ]
  },
  {
   "cell_type": "code",
   "execution_count": 55,
   "id": "71cd345d-7aa9-455a-ac5c-4c62d28761f5",
   "metadata": {},
   "outputs": [],
   "source": [
    "y_pred = (y_prob >= threshold).astype(int)"
   ]
  },
  {
   "cell_type": "markdown",
   "id": "acfd4289-d706-4a02-8858-06658eb0e8c5",
   "metadata": {},
   "source": [
    "Now, we can get the metrics"
   ]
  },
  {
   "cell_type": "code",
   "execution_count": 56,
   "id": "a30bd3eb-130b-439b-8c59-79cf53acb2f3",
   "metadata": {},
   "outputs": [],
   "source": [
    "roc_auc = round(roc_auc_score(y_test, y_prob), 3)\n",
    "recall_0, recall_1 = recall_score(y_test, y_pred, average=None).round(3)\n",
    "f1 = round(f1_score(y_test, y_pred), 3)\n",
    "precision = round(precision_score(y_test, y_pred), 3)"
   ]
  },
  {
   "cell_type": "code",
   "execution_count": 57,
   "id": "1fdcbf3b-3de2-48d5-9a40-b9801d6c4768",
   "metadata": {},
   "outputs": [
    {
     "data": {
      "image/png": "[encoded data removed]",
      "text/plain": [
       "<Figure size 432x288 with 2 Axes>"
      ]
     },
     "metadata": {
      "needs_background": "light"
     },
     "output_type": "display_data"
    }
   ],
   "source": [
    "display = ConfusionMatrixDisplay.from_predictions(y_test, y_pred, \n",
    "                                                  display_labels=[\"Not dropped out\", \n",
    "                                                                  \"Dropped out\"])\n",
    "_ = display.ax_.set_title(\"Confusion matrix\")"
   ]
  },
  {
   "cell_type": "code",
   "execution_count": 58,
   "id": "98eb556c-be25-4b34-9926-a92b0964b0fa",
   "metadata": {},
   "outputs": [
    {
     "data": {
      "image/png": "[encoded data removed]",
      "text/plain": [
       "<Figure size 432x432 with 1 Axes>"
      ]
     },
     "metadata": {
      "needs_background": "light"
     },
     "output_type": "display_data"
    }
   ],
   "source": [
    "fpr = dict()\n",
    "tpr = dict()\n",
    "fpr[\"micro\"], tpr[\"micro\"], _ = roc_curve(y_test.ravel(), y_prob.ravel())\n",
    "\n",
    "plt.subplots(1, figsize=(6, 6))\n",
    "plt.title(\"Receiver Operating Characteristic\")\n",
    "plt.plot(fpr[\"micro\"], tpr[\"micro\"])\n",
    "plt.plot([0, 1], ls=\"--\")\n",
    "plt.plot([0, 0], [1, 0] , c=\".7\"), plt.plot([1, 1] , c=\".7\")\n",
    "plt.ylabel(\"True Positive Rate\")\n",
    "plt.xlabel(\"False Positive Rate\")\n",
    "plt.show()"
   ]
  },
  {
   "cell_type": "code",
   "execution_count": 59,
   "id": "34b06bc1-5e8e-42c1-877f-261d8f954a47",
   "metadata": {},
   "outputs": [
    {
     "data": {
      "image/png": "[encoded data removed]",
      "text/plain": [
       "<Figure size 432x288 with 1 Axes>"
      ]
     },
     "metadata": {
      "needs_background": "light"
     },
     "output_type": "display_data"
    }
   ],
   "source": [
    "precision_, recall_, thresh_ = precision_recall_curve(y_test, y_prob)\n",
    "\n",
    "plt.subplots(1, figsize=(6, 4))\n",
    "plt.plot(recall_, precision_,  color=\"#1F77B4\");\n",
    "plt.scatter(recall_1, precision, marker=\"o\", s=100, color=\"red\", label=\"Best\")\n",
    "plt.xlabel(\"Recall (Positive label: 1)\")\n",
    "plt.ylabel(\"Precision (Positive label: 1)\")\n",
    "plt.title(\"2-class Precision-Recall curve\")\n",
    "plt.legend([\"Gradient Boosting (AP = %.2f)\"% (precision)], loc=0)\n",
    "plt.show()"
   ]
  },
  {
   "cell_type": "code",
   "execution_count": 61,
   "id": "bd2729d0-c70d-4b59-a615-20fc88d2980f",
   "metadata": {},
   "outputs": [
    {
     "data": {
      "text/html": [
       "<div>\n",
       "<style scoped>\n",
       "    .dataframe tbody tr th:only-of-type {\n",
       "        vertical-align: middle;\n",
       "    }\n",
       "\n",
       "    .dataframe tbody tr th {\n",
       "        vertical-align: top;\n",
       "    }\n",
       "\n",
       "    .dataframe thead th {\n",
       "        text-align: right;\n",
       "    }\n",
       "</style>\n",
       "<table border=\"1\" class=\"dataframe\">\n",
       "  <thead>\n",
       "    <tr style=\"text-align: right;\">\n",
       "      <th></th>\n",
       "      <th>Model</th>\n",
       "      <th>Threshold</th>\n",
       "      <th>ROC-AUC</th>\n",
       "      <th>Recall - 0</th>\n",
       "      <th>Recall - 1</th>\n",
       "      <th>Precision</th>\n",
       "      <th>F1</th>\n",
       "    </tr>\n",
       "  </thead>\n",
       "  <tbody>\n",
       "    <tr>\n",
       "      <th>0</th>\n",
       "      <td>OverSampling - Gradient Boosting - EDAD</td>\n",
       "      <td>0.503</td>\n",
       "      <td>0.695</td>\n",
       "      <td>0.905</td>\n",
       "      <td>0.421</td>\n",
       "      <td>0.256</td>\n",
       "      <td>0.318</td>\n",
       "    </tr>\n",
       "    <tr>\n",
       "      <th>1</th>\n",
       "      <td>OVerSampling - Gradient Boosting - EDAD clasif...</td>\n",
       "      <td>0.508</td>\n",
       "      <td>0.696</td>\n",
       "      <td>0.928</td>\n",
       "      <td>0.361</td>\n",
       "      <td>0.280</td>\n",
       "      <td>0.315</td>\n",
       "    </tr>\n",
       "  </tbody>\n",
       "</table>\n",
       "</div>"
      ],
      "text/plain": [
       "                                               Model  Threshold  ROC-AUC  \\\n",
       "0            OverSampling - Gradient Boosting - EDAD      0.503    0.695   \n",
       "1  OVerSampling - Gradient Boosting - EDAD clasif...      0.508    0.696   \n",
       "\n",
       "   Recall - 0  Recall - 1  Precision     F1  \n",
       "0       0.905       0.421      0.256  0.318  \n",
       "1       0.928       0.361      0.280  0.315  "
      ]
     },
     "execution_count": 61,
     "metadata": {},
     "output_type": "execute_result"
    }
   ],
   "source": [
    "df_temp  = pd.DataFrame({\n",
    "    \"Model\" : [\"OVerSampling - Gradient Boosting - EDAD clasificacion\"],\n",
    "    \"Threshold\" : threshold,\n",
    "    \"ROC-AUC\" : roc_auc,    \n",
    "    \"Recall - 0\" : recall_0,\n",
    "    \"Recall - 1\" : recall_1,\n",
    "    \"Precision\" : precision,\n",
    "    \"F1\" : f1,    \n",
    "})\n",
    "\n",
    "df_models_metrics_complete = pd.concat([df_models_metrics_complete, df_temp])\n",
    "df_models_metrics_complete.reset_index(drop=True)"
   ]
  },
  {
   "cell_type": "code",
   "execution_count": null,
   "id": "1569e8af-ed43-4ba2-a1f2-5ffc56958160",
   "metadata": {},
   "outputs": [],
   "source": [
    "df_models_metrics_complete"
   ]
  },
  {
   "cell_type": "markdown",
   "id": "8baac76b-2eca-48de-aaba-9a1db8dff5ae",
   "metadata": {
    "tags": []
   },
   "source": [
    "## 7. Gloabal interpretation"
   ]
  },
  {
   "cell_type": "code",
   "execution_count": 126,
   "id": "a06c8de8-e166-4111-b7af-a0d81f6101bc",
   "metadata": {},
   "outputs": [],
   "source": [
    "results = permutation_importance(imbpipeline_clf, X_train, y_train)"
   ]
  },
  {
   "cell_type": "code",
   "execution_count": 127,
   "id": "8b98d45b-43ce-4ef7-a329-656d8bc3e69d",
   "metadata": {},
   "outputs": [],
   "source": [
    "df_importance = pd.DataFrame({\n",
    "                    \"Feature\" : X_train.columns,\n",
    "                    \"Importance\" : results.importances_mean\n",
    "                })\n",
    "\n",
    "df_importance = df_importance.sort_values(\"Importance\", ascending=False)"
   ]
  },
  {
   "cell_type": "code",
   "execution_count": 128,
   "id": "ea984291-ac20-4a65-a776-1bb3e7e98f82",
   "metadata": {},
   "outputs": [
    {
     "data": {
      "image/png": "[encoded data removed]",
      "text/plain": [
       "<Figure size 720x576 with 1 Axes>"
      ]
     },
     "metadata": {
      "needs_background": "light"
     },
     "output_type": "display_data"
    }
   ],
   "source": [
    "# Initializing figure    \n",
    "fig = plt.subplots(figsize=(10, 8))\n",
    "\n",
    "plot = sns.barplot(data=df_importance, y=df_importance[\"Feature\"], x=df_importance[\"Importance\"])\n",
    "\n",
    "plt.title(\" Features Importance\", fontdict={ \"fontsize\": 16, \"fontweight\": \"normal\" })\n",
    "plt.xlabel(\"Importance\")\n",
    "plt.ylabel(\"Features\")\n",
    "plt.tight_layout()\n",
    "plt.show()"
   ]
  },
  {
   "cell_type": "code",
   "execution_count": null,
   "id": "cfe9d951-2121-4325-9d9f-18f6bfeeb85b",
   "metadata": {},
   "outputs": [],
   "source": []
  },
  {
   "cell_type": "code",
   "execution_count": null,
   "id": "bdaaf70d-fc4c-45eb-9ead-7ab3485bd927",
   "metadata": {},
   "outputs": [],
   "source": []
  }
 ],
 "metadata": {
  "kernelspec": {
   "display_name": "Python 3 (ipykernel)",
   "language": "python",
   "name": "python3"
  },
  "language_info": {
   "codemirror_mode": {
    "name": "ipython",
    "version": 3
   },
   "file_extension": ".py",
   "mimetype": "text/x-python",
   "name": "python",
   "nbconvert_exporter": "python",
   "pygments_lexer": "ipython3",
   "version": "3.10.4"
  }
 },
 "nbformat": 4,
 "nbformat_minor": 5
}
