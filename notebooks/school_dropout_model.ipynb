{
 "cells": [
  {
   "cell_type": "markdown",
   "id": "41163bc3-f419-45ce-9f17-9173c7362050",
   "metadata": {
    "tags": []
   },
   "source": [
    "<h1 style=\"margin: auto; font-weight: bold; padding: 30px 30px 0px 30px; color:#000;\" align=\"center\">SCHOOL DROPOUT IN SOGAMOSO</h1>\n",
    "<p style=\"width: 100%; text-align: center; margin: 0px; padding: 0px; font-size: 24px; color:#000;\" align=\"center\">| EDA Notebook |</p>\n",
    "<p style=\"width: 100%; text-align: center; margin: 0px; padding: 0px; font-size: 20px; color:#000;\" align=\"center\">Correlation One - DS4A</p>\n",
    "<p style=\"text-align:center;\">This notebook contains the <b>MODELING</b> of the machine learning algorithms based on the selected features.</p>"
   ]
  },
  {
   "cell_type": "markdown",
   "id": "795ef4f3-ba39-4ae1-9320-d69b7ad69a39",
   "metadata": {},
   "source": [
    "## 1. Libraries"
   ]
  },
  {
   "cell_type": "code",
   "execution_count": 1,
   "id": "5ce77a15-67d2-4d99-b280-3af8eb5f5828",
   "metadata": {
    "tags": []
   },
   "outputs": [],
   "source": [
    "# General\n",
    "import pandas as pd\n",
    "import numpy as np\n",
    "import matplotlib.pyplot as plt\n",
    "import seaborn as sns\n",
    "\n",
    "#Scikit-learn ligrary\n",
    "from sklearn.experimental import enable_halving_search_cv\n",
    "from sklearn.model_selection import (train_test_split, StratifiedKFold,\n",
    "                                    KFold, HalvingGridSearchCV)\n",
    "from sklearn.pipeline import make_pipeline\n",
    "from sklearn.compose import make_column_transformer\n",
    "from sklearn.preprocessing import (StandardScaler, OneHotEncoder,\n",
    "                                   OrdinalEncoder, FunctionTransformer)\n",
    "from sklearn.ensemble import RandomForestClassifier\n",
    "from sklearn.metrics import roc_auc_score, confusion_matrix\n",
    "\n",
    "from imblearn.pipeline import Pipeline as imbpipeline\n",
    "from imblearn.over_sampling import SMOTE\n",
    "\n",
    "## Own specific functions \n",
    "from functions import *"
   ]
  },
  {
   "cell_type": "code",
   "execution_count": null,
   "id": "9afca988",
   "metadata": {},
   "outputs": [],
   "source": [
    "#!pip install --user imbalanced-learn==0.9.1\n"
   ]
  },
  {
   "cell_type": "markdown",
   "id": "691c3184-e596-4de4-af4a-0510ce990d0c",
   "metadata": {
    "tags": []
   },
   "source": [
    "## 2. Importing files"
   ]
  },
  {
   "cell_type": "code",
   "execution_count": 2,
   "id": "d4c58285-152b-4e17-9584-6ac0663bec1f",
   "metadata": {},
   "outputs": [],
   "source": [
    "df_students = pd.read_csv(\"datasets/df_students.csv\")"
   ]
  },
  {
   "cell_type": "code",
   "execution_count": 3,
   "id": "80b35b4e-650f-4217-b878-a724e81c260e",
   "metadata": {},
   "outputs": [
    {
     "name": "stdout",
     "output_type": "stream",
     "text": [
      "\n",
      "Analysis header\n",
      "--------------------------------------------------------------------------------\n",
      "- Dataset shape:\t\t\t 311866 rows and 35 columns\n",
      "- Total of NaN values:\t\t\t 0\n",
      "- Total of infinite values:\t\t 0\n",
      "- Total of empty columns:\t\t 0\n",
      "- Total of empty rows:\t\t\t 0\n",
      "- Total of full duplicates rows:\t 0\n",
      "- Unique indexes:\t\t\t True\n",
      "- Memory usage:\t\t\t\t 83.3+ MB\n",
      "\n",
      "- The key(s):\t ['PER_ID_ANO'] is not present multiple times in the dataframe. \n",
      "\t\t It CAN be used as a primary key.\n",
      "\n",
      "\n",
      "Detailed analysis\n",
      "--------------------------------------------------------------------------------\n"
     ]
    },
    {
     "data": {
      "text/html": [
       "<div>\n",
       "<style scoped>\n",
       "    .dataframe tbody tr th:only-of-type {\n",
       "        vertical-align: middle;\n",
       "    }\n",
       "\n",
       "    .dataframe tbody tr th {\n",
       "        vertical-align: top;\n",
       "    }\n",
       "\n",
       "    .dataframe thead th {\n",
       "        text-align: right;\n",
       "    }\n",
       "</style>\n",
       "<table border=\"1\" class=\"dataframe\">\n",
       "  <thead>\n",
       "    <tr style=\"text-align: right;\">\n",
       "      <th></th>\n",
       "      <th>name</th>\n",
       "      <th>type</th>\n",
       "      <th>records</th>\n",
       "      <th>unique</th>\n",
       "      <th># NaN</th>\n",
       "      <th>% NaN</th>\n",
       "      <th>mean</th>\n",
       "      <th>min</th>\n",
       "      <th>25%</th>\n",
       "      <th>50%</th>\n",
       "      <th>75%</th>\n",
       "      <th>max</th>\n",
       "      <th>std</th>\n",
       "    </tr>\n",
       "  </thead>\n",
       "  <tbody>\n",
       "    <tr>\n",
       "      <th>0</th>\n",
       "      <td>ANO</td>\n",
       "      <td>int64</td>\n",
       "      <td>311866</td>\n",
       "      <td>10</td>\n",
       "      <td>0</td>\n",
       "      <td>0.00000</td>\n",
       "      <td>2017.44093</td>\n",
       "      <td>2013.00000</td>\n",
       "      <td>2015.00000</td>\n",
       "      <td>2017.00000</td>\n",
       "      <td>2020.00000</td>\n",
       "      <td>2022.00000</td>\n",
       "      <td>2.88220</td>\n",
       "    </tr>\n",
       "    <tr>\n",
       "      <th>26</th>\n",
       "      <td>INSTITUCION_NIVEL_MEDIA</td>\n",
       "      <td>int64</td>\n",
       "      <td>311866</td>\n",
       "      <td>2</td>\n",
       "      <td>0</td>\n",
       "      <td>0.00000</td>\n",
       "      <td>0.94293</td>\n",
       "      <td>0.00000</td>\n",
       "      <td>1.00000</td>\n",
       "      <td>1.00000</td>\n",
       "      <td>1.00000</td>\n",
       "      <td>1.00000</td>\n",
       "      <td>0.23198</td>\n",
       "    </tr>\n",
       "    <tr>\n",
       "      <th>20</th>\n",
       "      <td>INSTITUCION_LATITUDE</td>\n",
       "      <td>float64</td>\n",
       "      <td>311866</td>\n",
       "      <td>76</td>\n",
       "      <td>0</td>\n",
       "      <td>0.00000</td>\n",
       "      <td>5.71590</td>\n",
       "      <td>5.61974</td>\n",
       "      <td>5.70473</td>\n",
       "      <td>5.71505</td>\n",
       "      <td>5.72353</td>\n",
       "      <td>5.75943</td>\n",
       "      <td>0.02154</td>\n",
       "    </tr>\n",
       "    <tr>\n",
       "      <th>21</th>\n",
       "      <td>INSTITUCION_LONGITUD</td>\n",
       "      <td>float64</td>\n",
       "      <td>311866</td>\n",
       "      <td>76</td>\n",
       "      <td>0</td>\n",
       "      <td>0.00000</td>\n",
       "      <td>-72.92979</td>\n",
       "      <td>-72.96245</td>\n",
       "      <td>-72.93943</td>\n",
       "      <td>-72.93211</td>\n",
       "      <td>-72.92435</td>\n",
       "      <td>-72.88859</td>\n",
       "      <td>0.01313</td>\n",
       "    </tr>\n",
       "    <tr>\n",
       "      <th>22</th>\n",
       "      <td>INSTITUCION_PRESTADOR_DE_SERVICIO</td>\n",
       "      <td>object</td>\n",
       "      <td>311866</td>\n",
       "      <td>4</td>\n",
       "      <td>0</td>\n",
       "      <td>0.00000</td>\n",
       "      <td>NaN</td>\n",
       "      <td>NaN</td>\n",
       "      <td>NaN</td>\n",
       "      <td>NaN</td>\n",
       "      <td>NaN</td>\n",
       "      <td>NaN</td>\n",
       "      <td>NaN</td>\n",
       "    </tr>\n",
       "    <tr>\n",
       "      <th>23</th>\n",
       "      <td>INSTITUCION_TAMAÑO</td>\n",
       "      <td>object</td>\n",
       "      <td>311866</td>\n",
       "      <td>3</td>\n",
       "      <td>0</td>\n",
       "      <td>0.00000</td>\n",
       "      <td>NaN</td>\n",
       "      <td>NaN</td>\n",
       "      <td>NaN</td>\n",
       "      <td>NaN</td>\n",
       "      <td>NaN</td>\n",
       "      <td>NaN</td>\n",
       "      <td>NaN</td>\n",
       "    </tr>\n",
       "    <tr>\n",
       "      <th>24</th>\n",
       "      <td>INSTITUCION_NIVEL_BASICA_PRIMARIA</td>\n",
       "      <td>int64</td>\n",
       "      <td>311866</td>\n",
       "      <td>2</td>\n",
       "      <td>0</td>\n",
       "      <td>0.00000</td>\n",
       "      <td>0.98260</td>\n",
       "      <td>0.00000</td>\n",
       "      <td>1.00000</td>\n",
       "      <td>1.00000</td>\n",
       "      <td>1.00000</td>\n",
       "      <td>1.00000</td>\n",
       "      <td>0.13076</td>\n",
       "    </tr>\n",
       "    <tr>\n",
       "      <th>25</th>\n",
       "      <td>INSTITUCION_NIVEL_SECUNDARIA_PRIMARIA</td>\n",
       "      <td>int64</td>\n",
       "      <td>311866</td>\n",
       "      <td>2</td>\n",
       "      <td>0</td>\n",
       "      <td>0.00000</td>\n",
       "      <td>0.94667</td>\n",
       "      <td>0.00000</td>\n",
       "      <td>1.00000</td>\n",
       "      <td>1.00000</td>\n",
       "      <td>1.00000</td>\n",
       "      <td>1.00000</td>\n",
       "      <td>0.22470</td>\n",
       "    </tr>\n",
       "    <tr>\n",
       "      <th>27</th>\n",
       "      <td>INSTITUCION_NIVEL_PREESCOLAR</td>\n",
       "      <td>int64</td>\n",
       "      <td>311866</td>\n",
       "      <td>2</td>\n",
       "      <td>0</td>\n",
       "      <td>0.00000</td>\n",
       "      <td>0.96091</td>\n",
       "      <td>0.00000</td>\n",
       "      <td>1.00000</td>\n",
       "      <td>1.00000</td>\n",
       "      <td>1.00000</td>\n",
       "      <td>1.00000</td>\n",
       "      <td>0.19382</td>\n",
       "    </tr>\n",
       "    <tr>\n",
       "      <th>18</th>\n",
       "      <td>INSTITUCION_NUMERO_DE_SEDES</td>\n",
       "      <td>float64</td>\n",
       "      <td>311866</td>\n",
       "      <td>8</td>\n",
       "      <td>0</td>\n",
       "      <td>0.00000</td>\n",
       "      <td>3.36785</td>\n",
       "      <td>1.00000</td>\n",
       "      <td>1.00000</td>\n",
       "      <td>3.00000</td>\n",
       "      <td>5.00000</td>\n",
       "      <td>8.00000</td>\n",
       "      <td>2.31163</td>\n",
       "    </tr>\n",
       "    <tr>\n",
       "      <th>28</th>\n",
       "      <td>INSTITUCION_NIVEL_PRIMERA_INFANCIA</td>\n",
       "      <td>int64</td>\n",
       "      <td>311866</td>\n",
       "      <td>2</td>\n",
       "      <td>0</td>\n",
       "      <td>0.00000</td>\n",
       "      <td>0.10307</td>\n",
       "      <td>0.00000</td>\n",
       "      <td>0.00000</td>\n",
       "      <td>0.00000</td>\n",
       "      <td>0.00000</td>\n",
       "      <td>1.00000</td>\n",
       "      <td>0.30405</td>\n",
       "    </tr>\n",
       "    <tr>\n",
       "      <th>29</th>\n",
       "      <td>INSTITUCION_ESPECIALIDAD_ACADÉMICA</td>\n",
       "      <td>int64</td>\n",
       "      <td>311866</td>\n",
       "      <td>2</td>\n",
       "      <td>0</td>\n",
       "      <td>0.00000</td>\n",
       "      <td>0.90453</td>\n",
       "      <td>0.00000</td>\n",
       "      <td>1.00000</td>\n",
       "      <td>1.00000</td>\n",
       "      <td>1.00000</td>\n",
       "      <td>1.00000</td>\n",
       "      <td>0.29386</td>\n",
       "    </tr>\n",
       "    <tr>\n",
       "      <th>30</th>\n",
       "      <td>INSTITUCION_ESPECIALIDAD_AGROPECUARIO</td>\n",
       "      <td>int64</td>\n",
       "      <td>311866</td>\n",
       "      <td>2</td>\n",
       "      <td>0</td>\n",
       "      <td>0.00000</td>\n",
       "      <td>0.07492</td>\n",
       "      <td>0.00000</td>\n",
       "      <td>0.00000</td>\n",
       "      <td>0.00000</td>\n",
       "      <td>0.00000</td>\n",
       "      <td>1.00000</td>\n",
       "      <td>0.26327</td>\n",
       "    </tr>\n",
       "    <tr>\n",
       "      <th>31</th>\n",
       "      <td>INSTITUCION_ESPECIALIDAD_COMERCIAL</td>\n",
       "      <td>int64</td>\n",
       "      <td>311866</td>\n",
       "      <td>2</td>\n",
       "      <td>0</td>\n",
       "      <td>0.00000</td>\n",
       "      <td>0.00878</td>\n",
       "      <td>0.00000</td>\n",
       "      <td>0.00000</td>\n",
       "      <td>0.00000</td>\n",
       "      <td>0.00000</td>\n",
       "      <td>1.00000</td>\n",
       "      <td>0.09327</td>\n",
       "    </tr>\n",
       "    <tr>\n",
       "      <th>32</th>\n",
       "      <td>INSTITUCION_ESPECIALIDAD_INDUSTRIAL</td>\n",
       "      <td>int64</td>\n",
       "      <td>311866</td>\n",
       "      <td>2</td>\n",
       "      <td>0</td>\n",
       "      <td>0.00000</td>\n",
       "      <td>0.63968</td>\n",
       "      <td>0.00000</td>\n",
       "      <td>0.00000</td>\n",
       "      <td>1.00000</td>\n",
       "      <td>1.00000</td>\n",
       "      <td>1.00000</td>\n",
       "      <td>0.48010</td>\n",
       "    </tr>\n",
       "    <tr>\n",
       "      <th>33</th>\n",
       "      <td>INSTITUCION_ESPECIALIDAD_NO_APLICA</td>\n",
       "      <td>int64</td>\n",
       "      <td>311866</td>\n",
       "      <td>2</td>\n",
       "      <td>0</td>\n",
       "      <td>0.00000</td>\n",
       "      <td>0.38291</td>\n",
       "      <td>0.00000</td>\n",
       "      <td>0.00000</td>\n",
       "      <td>0.00000</td>\n",
       "      <td>1.00000</td>\n",
       "      <td>1.00000</td>\n",
       "      <td>0.48610</td>\n",
       "    </tr>\n",
       "    <tr>\n",
       "      <th>19</th>\n",
       "      <td>INSTITUCION_ESTADO</td>\n",
       "      <td>object</td>\n",
       "      <td>311866</td>\n",
       "      <td>3</td>\n",
       "      <td>0</td>\n",
       "      <td>0.00000</td>\n",
       "      <td>NaN</td>\n",
       "      <td>NaN</td>\n",
       "      <td>NaN</td>\n",
       "      <td>NaN</td>\n",
       "      <td>NaN</td>\n",
       "      <td>NaN</td>\n",
       "      <td>NaN</td>\n",
       "    </tr>\n",
       "    <tr>\n",
       "      <th>17</th>\n",
       "      <td>INSTITUCION_CARACTER</td>\n",
       "      <td>object</td>\n",
       "      <td>311866</td>\n",
       "      <td>3</td>\n",
       "      <td>0</td>\n",
       "      <td>0.00000</td>\n",
       "      <td>NaN</td>\n",
       "      <td>NaN</td>\n",
       "      <td>NaN</td>\n",
       "      <td>NaN</td>\n",
       "      <td>NaN</td>\n",
       "      <td>NaN</td>\n",
       "      <td>NaN</td>\n",
       "    </tr>\n",
       "    <tr>\n",
       "      <th>1</th>\n",
       "      <td>INSTITUCION</td>\n",
       "      <td>object</td>\n",
       "      <td>311866</td>\n",
       "      <td>76</td>\n",
       "      <td>0</td>\n",
       "      <td>0.00000</td>\n",
       "      <td>NaN</td>\n",
       "      <td>NaN</td>\n",
       "      <td>NaN</td>\n",
       "      <td>NaN</td>\n",
       "      <td>NaN</td>\n",
       "      <td>NaN</td>\n",
       "      <td>NaN</td>\n",
       "    </tr>\n",
       "    <tr>\n",
       "      <th>8</th>\n",
       "      <td>ESTADO</td>\n",
       "      <td>int64</td>\n",
       "      <td>311866</td>\n",
       "      <td>2</td>\n",
       "      <td>0</td>\n",
       "      <td>0.00000</td>\n",
       "      <td>0.07248</td>\n",
       "      <td>0.00000</td>\n",
       "      <td>0.00000</td>\n",
       "      <td>0.00000</td>\n",
       "      <td>0.00000</td>\n",
       "      <td>1.00000</td>\n",
       "      <td>0.25929</td>\n",
       "    </tr>\n",
       "    <tr>\n",
       "      <th>2</th>\n",
       "      <td>PER_ID_ANO</td>\n",
       "      <td>int64</td>\n",
       "      <td>311866</td>\n",
       "      <td>311866</td>\n",
       "      <td>0</td>\n",
       "      <td>0.00000</td>\n",
       "      <td>571503249761.55334</td>\n",
       "      <td>5918562017.00000</td>\n",
       "      <td>423536512014.75000</td>\n",
       "      <td>612837832016.50000</td>\n",
       "      <td>696745972019.75000</td>\n",
       "      <td>844002412022.00000</td>\n",
       "      <td>155156417700.33301</td>\n",
       "    </tr>\n",
       "    <tr>\n",
       "      <th>3</th>\n",
       "      <td>PER_ID</td>\n",
       "      <td>int64</td>\n",
       "      <td>311866</td>\n",
       "      <td>73584</td>\n",
       "      <td>0</td>\n",
       "      <td>0.00000</td>\n",
       "      <td>57150324.77447</td>\n",
       "      <td>591856.00000</td>\n",
       "      <td>42353651.00000</td>\n",
       "      <td>61283783.00000</td>\n",
       "      <td>69674597.00000</td>\n",
       "      <td>84400241.00000</td>\n",
       "      <td>15515641.76990</td>\n",
       "    </tr>\n",
       "    <tr>\n",
       "      <th>4</th>\n",
       "      <td>EDAD</td>\n",
       "      <td>int64</td>\n",
       "      <td>311866</td>\n",
       "      <td>99</td>\n",
       "      <td>0</td>\n",
       "      <td>0.00000</td>\n",
       "      <td>16.82296</td>\n",
       "      <td>3.00000</td>\n",
       "      <td>12.00000</td>\n",
       "      <td>16.00000</td>\n",
       "      <td>20.00000</td>\n",
       "      <td>102.00000</td>\n",
       "      <td>7.91179</td>\n",
       "    </tr>\n",
       "    <tr>\n",
       "      <th>5</th>\n",
       "      <td>GENERO</td>\n",
       "      <td>object</td>\n",
       "      <td>311866</td>\n",
       "      <td>2</td>\n",
       "      <td>0</td>\n",
       "      <td>0.00000</td>\n",
       "      <td>NaN</td>\n",
       "      <td>NaN</td>\n",
       "      <td>NaN</td>\n",
       "      <td>NaN</td>\n",
       "      <td>NaN</td>\n",
       "      <td>NaN</td>\n",
       "      <td>NaN</td>\n",
       "    </tr>\n",
       "    <tr>\n",
       "      <th>6</th>\n",
       "      <td>GRADO_COD</td>\n",
       "      <td>float64</td>\n",
       "      <td>311866</td>\n",
       "      <td>22</td>\n",
       "      <td>0</td>\n",
       "      <td>0.00000</td>\n",
       "      <td>7.22984</td>\n",
       "      <td>-2.00000</td>\n",
       "      <td>3.00000</td>\n",
       "      <td>6.00000</td>\n",
       "      <td>9.00000</td>\n",
       "      <td>26.00000</td>\n",
       "      <td>6.63487</td>\n",
       "    </tr>\n",
       "    <tr>\n",
       "      <th>7</th>\n",
       "      <td>JORNADA</td>\n",
       "      <td>object</td>\n",
       "      <td>311866</td>\n",
       "      <td>6</td>\n",
       "      <td>0</td>\n",
       "      <td>0.00000</td>\n",
       "      <td>NaN</td>\n",
       "      <td>NaN</td>\n",
       "      <td>NaN</td>\n",
       "      <td>NaN</td>\n",
       "      <td>NaN</td>\n",
       "      <td>NaN</td>\n",
       "      <td>NaN</td>\n",
       "    </tr>\n",
       "    <tr>\n",
       "      <th>9</th>\n",
       "      <td>ESTRATO</td>\n",
       "      <td>object</td>\n",
       "      <td>311866</td>\n",
       "      <td>7</td>\n",
       "      <td>0</td>\n",
       "      <td>0.00000</td>\n",
       "      <td>NaN</td>\n",
       "      <td>NaN</td>\n",
       "      <td>NaN</td>\n",
       "      <td>NaN</td>\n",
       "      <td>NaN</td>\n",
       "      <td>NaN</td>\n",
       "      <td>NaN</td>\n",
       "    </tr>\n",
       "    <tr>\n",
       "      <th>16</th>\n",
       "      <td>INSTITUCION_ZONA</td>\n",
       "      <td>object</td>\n",
       "      <td>311866</td>\n",
       "      <td>3</td>\n",
       "      <td>0</td>\n",
       "      <td>0.00000</td>\n",
       "      <td>NaN</td>\n",
       "      <td>NaN</td>\n",
       "      <td>NaN</td>\n",
       "      <td>NaN</td>\n",
       "      <td>NaN</td>\n",
       "      <td>NaN</td>\n",
       "      <td>NaN</td>\n",
       "    </tr>\n",
       "    <tr>\n",
       "      <th>10</th>\n",
       "      <td>PAIS_ORIGEN</td>\n",
       "      <td>object</td>\n",
       "      <td>311866</td>\n",
       "      <td>25</td>\n",
       "      <td>0</td>\n",
       "      <td>0.00000</td>\n",
       "      <td>NaN</td>\n",
       "      <td>NaN</td>\n",
       "      <td>NaN</td>\n",
       "      <td>NaN</td>\n",
       "      <td>NaN</td>\n",
       "      <td>NaN</td>\n",
       "      <td>NaN</td>\n",
       "    </tr>\n",
       "    <tr>\n",
       "      <th>11</th>\n",
       "      <td>DISCAPACIDAD</td>\n",
       "      <td>object</td>\n",
       "      <td>311866</td>\n",
       "      <td>18</td>\n",
       "      <td>0</td>\n",
       "      <td>0.00000</td>\n",
       "      <td>NaN</td>\n",
       "      <td>NaN</td>\n",
       "      <td>NaN</td>\n",
       "      <td>NaN</td>\n",
       "      <td>NaN</td>\n",
       "      <td>NaN</td>\n",
       "      <td>NaN</td>\n",
       "    </tr>\n",
       "    <tr>\n",
       "      <th>12</th>\n",
       "      <td>SRPA</td>\n",
       "      <td>object</td>\n",
       "      <td>311866</td>\n",
       "      <td>3</td>\n",
       "      <td>0</td>\n",
       "      <td>0.00000</td>\n",
       "      <td>NaN</td>\n",
       "      <td>NaN</td>\n",
       "      <td>NaN</td>\n",
       "      <td>NaN</td>\n",
       "      <td>NaN</td>\n",
       "      <td>NaN</td>\n",
       "      <td>NaN</td>\n",
       "    </tr>\n",
       "    <tr>\n",
       "      <th>13</th>\n",
       "      <td>INSTITUCION_SECTOR</td>\n",
       "      <td>object</td>\n",
       "      <td>311866</td>\n",
       "      <td>2</td>\n",
       "      <td>0</td>\n",
       "      <td>0.00000</td>\n",
       "      <td>NaN</td>\n",
       "      <td>NaN</td>\n",
       "      <td>NaN</td>\n",
       "      <td>NaN</td>\n",
       "      <td>NaN</td>\n",
       "      <td>NaN</td>\n",
       "      <td>NaN</td>\n",
       "    </tr>\n",
       "    <tr>\n",
       "      <th>14</th>\n",
       "      <td>INSTITUCION_MODELO</td>\n",
       "      <td>object</td>\n",
       "      <td>311866</td>\n",
       "      <td>14</td>\n",
       "      <td>0</td>\n",
       "      <td>0.00000</td>\n",
       "      <td>NaN</td>\n",
       "      <td>NaN</td>\n",
       "      <td>NaN</td>\n",
       "      <td>NaN</td>\n",
       "      <td>NaN</td>\n",
       "      <td>NaN</td>\n",
       "      <td>NaN</td>\n",
       "    </tr>\n",
       "    <tr>\n",
       "      <th>15</th>\n",
       "      <td>INSTITUCION_APOYO_ACADEMICO_ESPECIAL</td>\n",
       "      <td>object</td>\n",
       "      <td>311866</td>\n",
       "      <td>5</td>\n",
       "      <td>0</td>\n",
       "      <td>0.00000</td>\n",
       "      <td>NaN</td>\n",
       "      <td>NaN</td>\n",
       "      <td>NaN</td>\n",
       "      <td>NaN</td>\n",
       "      <td>NaN</td>\n",
       "      <td>NaN</td>\n",
       "      <td>NaN</td>\n",
       "    </tr>\n",
       "    <tr>\n",
       "      <th>34</th>\n",
       "      <td>INSTITUCION_ESPECIALIDAD_OTRO</td>\n",
       "      <td>int64</td>\n",
       "      <td>311866</td>\n",
       "      <td>2</td>\n",
       "      <td>0</td>\n",
       "      <td>0.00000</td>\n",
       "      <td>0.73458</td>\n",
       "      <td>0.00000</td>\n",
       "      <td>0.00000</td>\n",
       "      <td>1.00000</td>\n",
       "      <td>1.00000</td>\n",
       "      <td>1.00000</td>\n",
       "      <td>0.44156</td>\n",
       "    </tr>\n",
       "  </tbody>\n",
       "</table>\n",
       "</div>"
      ],
      "text/plain": [
       "                                     name     type  records  unique  # NaN  \\\n",
       "0                                     ANO    int64   311866      10      0   \n",
       "26                INSTITUCION_NIVEL_MEDIA    int64   311866       2      0   \n",
       "20                   INSTITUCION_LATITUDE  float64   311866      76      0   \n",
       "21                   INSTITUCION_LONGITUD  float64   311866      76      0   \n",
       "22      INSTITUCION_PRESTADOR_DE_SERVICIO   object   311866       4      0   \n",
       "23                     INSTITUCION_TAMAÑO   object   311866       3      0   \n",
       "24      INSTITUCION_NIVEL_BASICA_PRIMARIA    int64   311866       2      0   \n",
       "25  INSTITUCION_NIVEL_SECUNDARIA_PRIMARIA    int64   311866       2      0   \n",
       "27           INSTITUCION_NIVEL_PREESCOLAR    int64   311866       2      0   \n",
       "18            INSTITUCION_NUMERO_DE_SEDES  float64   311866       8      0   \n",
       "28     INSTITUCION_NIVEL_PRIMERA_INFANCIA    int64   311866       2      0   \n",
       "29     INSTITUCION_ESPECIALIDAD_ACADÉMICA    int64   311866       2      0   \n",
       "30  INSTITUCION_ESPECIALIDAD_AGROPECUARIO    int64   311866       2      0   \n",
       "31     INSTITUCION_ESPECIALIDAD_COMERCIAL    int64   311866       2      0   \n",
       "32    INSTITUCION_ESPECIALIDAD_INDUSTRIAL    int64   311866       2      0   \n",
       "33     INSTITUCION_ESPECIALIDAD_NO_APLICA    int64   311866       2      0   \n",
       "19                     INSTITUCION_ESTADO   object   311866       3      0   \n",
       "17                   INSTITUCION_CARACTER   object   311866       3      0   \n",
       "1                             INSTITUCION   object   311866      76      0   \n",
       "8                                  ESTADO    int64   311866       2      0   \n",
       "2                              PER_ID_ANO    int64   311866  311866      0   \n",
       "3                                  PER_ID    int64   311866   73584      0   \n",
       "4                                    EDAD    int64   311866      99      0   \n",
       "5                                  GENERO   object   311866       2      0   \n",
       "6                               GRADO_COD  float64   311866      22      0   \n",
       "7                                 JORNADA   object   311866       6      0   \n",
       "9                                 ESTRATO   object   311866       7      0   \n",
       "16                       INSTITUCION_ZONA   object   311866       3      0   \n",
       "10                            PAIS_ORIGEN   object   311866      25      0   \n",
       "11                           DISCAPACIDAD   object   311866      18      0   \n",
       "12                                   SRPA   object   311866       3      0   \n",
       "13                     INSTITUCION_SECTOR   object   311866       2      0   \n",
       "14                     INSTITUCION_MODELO   object   311866      14      0   \n",
       "15   INSTITUCION_APOYO_ACADEMICO_ESPECIAL   object   311866       5      0   \n",
       "34          INSTITUCION_ESPECIALIDAD_OTRO    int64   311866       2      0   \n",
       "\n",
       "     % NaN               mean              min                25%  \\\n",
       "0  0.00000         2017.44093       2013.00000         2015.00000   \n",
       "26 0.00000            0.94293          0.00000            1.00000   \n",
       "20 0.00000            5.71590          5.61974            5.70473   \n",
       "21 0.00000          -72.92979        -72.96245          -72.93943   \n",
       "22 0.00000                NaN              NaN                NaN   \n",
       "23 0.00000                NaN              NaN                NaN   \n",
       "24 0.00000            0.98260          0.00000            1.00000   \n",
       "25 0.00000            0.94667          0.00000            1.00000   \n",
       "27 0.00000            0.96091          0.00000            1.00000   \n",
       "18 0.00000            3.36785          1.00000            1.00000   \n",
       "28 0.00000            0.10307          0.00000            0.00000   \n",
       "29 0.00000            0.90453          0.00000            1.00000   \n",
       "30 0.00000            0.07492          0.00000            0.00000   \n",
       "31 0.00000            0.00878          0.00000            0.00000   \n",
       "32 0.00000            0.63968          0.00000            0.00000   \n",
       "33 0.00000            0.38291          0.00000            0.00000   \n",
       "19 0.00000                NaN              NaN                NaN   \n",
       "17 0.00000                NaN              NaN                NaN   \n",
       "1  0.00000                NaN              NaN                NaN   \n",
       "8  0.00000            0.07248          0.00000            0.00000   \n",
       "2  0.00000 571503249761.55334 5918562017.00000 423536512014.75000   \n",
       "3  0.00000     57150324.77447     591856.00000     42353651.00000   \n",
       "4  0.00000           16.82296          3.00000           12.00000   \n",
       "5  0.00000                NaN              NaN                NaN   \n",
       "6  0.00000            7.22984         -2.00000            3.00000   \n",
       "7  0.00000                NaN              NaN                NaN   \n",
       "9  0.00000                NaN              NaN                NaN   \n",
       "16 0.00000                NaN              NaN                NaN   \n",
       "10 0.00000                NaN              NaN                NaN   \n",
       "11 0.00000                NaN              NaN                NaN   \n",
       "12 0.00000                NaN              NaN                NaN   \n",
       "13 0.00000                NaN              NaN                NaN   \n",
       "14 0.00000                NaN              NaN                NaN   \n",
       "15 0.00000                NaN              NaN                NaN   \n",
       "34 0.00000            0.73458          0.00000            0.00000   \n",
       "\n",
       "                  50%                75%                max                std  \n",
       "0          2017.00000         2020.00000         2022.00000            2.88220  \n",
       "26            1.00000            1.00000            1.00000            0.23198  \n",
       "20            5.71505            5.72353            5.75943            0.02154  \n",
       "21          -72.93211          -72.92435          -72.88859            0.01313  \n",
       "22                NaN                NaN                NaN                NaN  \n",
       "23                NaN                NaN                NaN                NaN  \n",
       "24            1.00000            1.00000            1.00000            0.13076  \n",
       "25            1.00000            1.00000            1.00000            0.22470  \n",
       "27            1.00000            1.00000            1.00000            0.19382  \n",
       "18            3.00000            5.00000            8.00000            2.31163  \n",
       "28            0.00000            0.00000            1.00000            0.30405  \n",
       "29            1.00000            1.00000            1.00000            0.29386  \n",
       "30            0.00000            0.00000            1.00000            0.26327  \n",
       "31            0.00000            0.00000            1.00000            0.09327  \n",
       "32            1.00000            1.00000            1.00000            0.48010  \n",
       "33            0.00000            1.00000            1.00000            0.48610  \n",
       "19                NaN                NaN                NaN                NaN  \n",
       "17                NaN                NaN                NaN                NaN  \n",
       "1                 NaN                NaN                NaN                NaN  \n",
       "8             0.00000            0.00000            1.00000            0.25929  \n",
       "2  612837832016.50000 696745972019.75000 844002412022.00000 155156417700.33301  \n",
       "3      61283783.00000     69674597.00000     84400241.00000     15515641.76990  \n",
       "4            16.00000           20.00000          102.00000            7.91179  \n",
       "5                 NaN                NaN                NaN                NaN  \n",
       "6             6.00000            9.00000           26.00000            6.63487  \n",
       "7                 NaN                NaN                NaN                NaN  \n",
       "9                 NaN                NaN                NaN                NaN  \n",
       "16                NaN                NaN                NaN                NaN  \n",
       "10                NaN                NaN                NaN                NaN  \n",
       "11                NaN                NaN                NaN                NaN  \n",
       "12                NaN                NaN                NaN                NaN  \n",
       "13                NaN                NaN                NaN                NaN  \n",
       "14                NaN                NaN                NaN                NaN  \n",
       "15                NaN                NaN                NaN                NaN  \n",
       "34            1.00000            1.00000            1.00000            0.44156  "
      ]
     },
     "metadata": {},
     "output_type": "display_data"
    }
   ],
   "source": [
    "df_analysis(df_students, key_columns=[\"PER_ID_ANO\"], analysis_type=\"complete\")"
   ]
  },
  {
   "cell_type": "markdown",
   "id": "d6def296-b285-457e-8409-2882e59dd27c",
   "metadata": {
    "tags": []
   },
   "source": [
    "## 3. Analyzing target variable"
   ]
  },
  {
   "cell_type": "code",
   "execution_count": 4,
   "id": "bd4b5f7e-98a9-4ef9-8b24-a088e870115b",
   "metadata": {},
   "outputs": [
    {
     "data": {
      "image/png": "[encoded data removed]",
      "text/plain": [
       "<Figure size 576x432 with 1 Axes>"
      ]
     },
     "metadata": {
      "needs_background": "light"
     },
     "output_type": "display_data"
    }
   ],
   "source": [
    "fig, ax1 = plt.subplots(figsize=(8, 6))\n",
    "plot = sns.barplot(x=df_students[\"ESTADO\"].value_counts(ascending=False).index, \n",
    "                   y=df_students[\"ESTADO\"].value_counts(ascending=False))\n",
    "for p in plot.patches:\n",
    "    plot.annotate(format(p.get_height(), \".0f\"), (p.get_x() + p.get_width() / 2., p.get_height()), \n",
    "                    ha=\"center\", va=\"center\", xytext=(0, 9), textcoords=\"offset points\")\n",
    "plot.set_xticklabels(labels=df_students[\"ESTADO\"].value_counts(ascending=False).index,\n",
    "                     size=12, horizontalalignment=\"center\")\n",
    "plt.title(\"Número de estudiantes por estado\", size=16)\n",
    "plt.xlabel(\"Estados\", size=14)\n",
    "plt.ylabel(\"Número de estudiantes\", size=14)\n",
    "plt.tight_layout()\n",
    "plt.show()"
   ]
  },
  {
   "cell_type": "markdown",
   "id": "858197c5-3ef6-4fc3-986f-36f6f4957b21",
   "metadata": {
    "tags": []
   },
   "source": [
    "<div class=\"alert alert-block alert-warning\">\n",
    "    <p><b>Observations</b></p>\n",
    "    <p>Based on the plot, we can say that we are facing an imbalanced classification problem</p>\n",
    "\n",
    "</div>"
   ]
  },
  {
   "cell_type": "markdown",
   "id": "32537e6c-f069-4c36-bfb8-e111e1348fb8",
   "metadata": {
    "tags": []
   },
   "source": [
    "## 4. Splitting data"
   ]
  },
  {
   "cell_type": "markdown",
   "id": "da6c5f74-ace1-4c6f-b6bd-a1d4d58a886b",
   "metadata": {},
   "source": [
    "First of all, we are going to separate the data to predict (2022) from the data to do the training (from 2013 to 2021)"
   ]
  },
  {
   "cell_type": "code",
   "execution_count": 5,
   "id": "9c16bba5",
   "metadata": {},
   "outputs": [
    {
     "data": {
      "text/plain": [
       "(6237, 35)"
      ]
     },
     "execution_count": 5,
     "metadata": {},
     "output_type": "execute_result"
    }
   ],
   "source": [
    "df_students=df_students.groupby('ESTADO', group_keys=False).apply(lambda x: x.sample(frac=0.02))\n",
    "df_students.shape"
   ]
  },
  {
   "cell_type": "code",
   "execution_count": 6,
   "id": "377dde09-1a35-4769-8a3c-96daccfef4e8",
   "metadata": {},
   "outputs": [],
   "source": [
    "df_students_2022 = df_students[df_students[\"ANO\"]==2022].copy()\n",
    "df_students_2022[\"ESTADO\"] = np.NaN\n",
    "\n",
    "df_students = df_students[df_students[\"ANO\"]!=2022].copy()"
   ]
  },
  {
   "cell_type": "markdown",
   "id": "248bc89f-9e90-4bb8-a343-02edbc9a1108",
   "metadata": {},
   "source": [
    "Now, we are let's identify the training columns in the dataset"
   ]
  },
  {
   "cell_type": "code",
   "execution_count": 7,
   "id": "a28f2c60-fdb1-4d25-bc27-50dc63f827c3",
   "metadata": {},
   "outputs": [],
   "source": [
    "NOT_TRAINING_COLUMNS = [\n",
    "    \"ESTADO\", \"ANO\", \"PER_ID_ANO\", \"PER_ID\", \"INSTITUCION_LATITUDE\", \"INSTITUCION_LONGITUD\",\n",
    "]\n",
    "\n",
    "TRAINING_COLUMNS = [col for col in df_students if col not in NOT_TRAINING_COLUMNS]"
   ]
  },
  {
   "cell_type": "markdown",
   "id": "2abfa4bd-eb2a-4d98-bb2a-c869eea69e43",
   "metadata": {},
   "source": [
    "Let's proced to split the data"
   ]
  },
  {
   "cell_type": "code",
   "execution_count": 8,
   "id": "b93204de-db4d-4753-bbc3-c4bd68d82c63",
   "metadata": {},
   "outputs": [],
   "source": [
    "X = df_students[TRAINING_COLUMNS].copy()"
   ]
  },
  {
   "cell_type": "code",
   "execution_count": 9,
   "id": "c6f73777-8bc2-4589-8aaf-c36b77035cdd",
   "metadata": {},
   "outputs": [],
   "source": [
    "y_target = df_students.loc[:, \"ESTADO\"]"
   ]
  },
  {
   "cell_type": "code",
   "execution_count": 10,
   "id": "e48c1257-1069-4d15-83b9-bc602daaf57a",
   "metadata": {},
   "outputs": [],
   "source": [
    "X_train, X_test, y_train, y_test = train_test_split(X, y_target, test_size=0.2,\n",
    "                                                    stratify=y_target, random_state=42)"
   ]
  },
  {
   "cell_type": "code",
   "execution_count": 11,
   "id": "b5316896-d911-4958-876b-a093548b6e88",
   "metadata": {},
   "outputs": [
    {
     "name": "stdout",
     "output_type": "stream",
     "text": [
      "X_train: (4485, 29)\n",
      "y_train: (4485,)\n",
      "------------------------------\n",
      "X_test: (1122, 29)\n",
      "y_test: (1122,)\n"
     ]
    }
   ],
   "source": [
    "print(\"X_train: {}\".format(X_train.shape))\n",
    "print(\"y_train: {}\".format(y_train.shape))\n",
    "print(30*\"-\")\n",
    "print(\"X_test: {}\".format(X_test.shape))\n",
    "print(\"y_test: {}\".format(y_test.shape))"
   ]
  },
  {
   "cell_type": "markdown",
   "id": "273ccf02-85c5-4a75-8050-9a71d66fc573",
   "metadata": {
    "tags": []
   },
   "source": [
    "## 5. Data preprocessing"
   ]
  },
  {
   "cell_type": "code",
   "execution_count": 12,
   "id": "c6ddb020-5c51-4a85-b299-cbe82430744a",
   "metadata": {},
   "outputs": [],
   "source": [
    "def boolean_transformation(X):\n",
    "    return X.astype(int)"
   ]
  },
  {
   "cell_type": "code",
   "execution_count": 13,
   "id": "f32f7e73-509f-4016-8c42-34ba9eda2a49",
   "metadata": {},
   "outputs": [
    {
     "data": {
      "text/plain": [
       "Index(['INSTITUCION', 'EDAD', 'GENERO', 'GRADO_COD', 'JORNADA', 'ESTRATO',\n",
       "       'PAIS_ORIGEN', 'DISCAPACIDAD', 'SRPA', 'INSTITUCION_SECTOR',\n",
       "       'INSTITUCION_MODELO', 'INSTITUCION_APOYO_ACADEMICO_ESPECIAL',\n",
       "       'INSTITUCION_ZONA', 'INSTITUCION_CARACTER',\n",
       "       'INSTITUCION_NUMERO_DE_SEDES', 'INSTITUCION_ESTADO',\n",
       "       'INSTITUCION_PRESTADOR_DE_SERVICIO', 'INSTITUCION_TAMAÑO',\n",
       "       'INSTITUCION_NIVEL_BASICA_PRIMARIA',\n",
       "       'INSTITUCION_NIVEL_SECUNDARIA_PRIMARIA', 'INSTITUCION_NIVEL_MEDIA',\n",
       "       'INSTITUCION_NIVEL_PREESCOLAR', 'INSTITUCION_NIVEL_PRIMERA_INFANCIA',\n",
       "       'INSTITUCION_ESPECIALIDAD_ACADÉMICA',\n",
       "       'INSTITUCION_ESPECIALIDAD_AGROPECUARIO',\n",
       "       'INSTITUCION_ESPECIALIDAD_COMERCIAL',\n",
       "       'INSTITUCION_ESPECIALIDAD_INDUSTRIAL',\n",
       "       'INSTITUCION_ESPECIALIDAD_NO_APLICA', 'INSTITUCION_ESPECIALIDAD_OTRO'],\n",
       "      dtype='object')"
      ]
     },
     "execution_count": 13,
     "metadata": {},
     "output_type": "execute_result"
    }
   ],
   "source": [
    "X_train.columns"
   ]
  },
  {
   "cell_type": "code",
   "execution_count": 14,
   "id": "c8c38443-56c7-410d-af04-15c1b296c044",
   "metadata": {},
   "outputs": [],
   "source": [
    "CATEGORICAL_FEATURES = [\n",
    "    \"INSTITUCION\", \"GENERO\", \"JORNADA\", \"PAIS_ORIGEN\", \"DISCAPACIDAD\", \"SRPA\", \"INSTITUCION_SECTOR\",\n",
    "    \"INSTITUCION_MODELO\", \"INSTITUCION_APOYO_ACADEMICO_ESPECIAL\", \"INSTITUCION_ZONA\", \"INSTITUCION_CARACTER\",\n",
    "    \"INSTITUCION_ESTADO\", \"INSTITUCION_PRESTADOR_DE_SERVICIO\", \n",
    "]\n",
    "ORDINAL_FEATURES = [\n",
    "    \"GRADO_COD\", \"ESTRATO\", \"INSTITUCION_TAMAÑO\"\n",
    "]\n",
    "NUMERICAL_FEATURES = [\n",
    "    \"EDAD\", \"INSTITUCION_NUMERO_DE_SEDES\"\n",
    "]\n",
    "BOOLEAN_FEATURES = [\n",
    "    \"INSTITUCION_NIVEL_BASICA_PRIMARIA\", \"INSTITUCION_NIVEL_SECUNDARIA_PRIMARIA\", \"INSTITUCION_NIVEL_MEDIA\",\n",
    "    \"INSTITUCION_NIVEL_PREESCOLAR\", \"INSTITUCION_NIVEL_PRIMERA_INFANCIA\", \"INSTITUCION_ESPECIALIDAD_ACADÉMICA\", \n",
    "    \"INSTITUCION_ESPECIALIDAD_AGROPECUARIO\", \"INSTITUCION_ESPECIALIDAD_COMERCIAL\", \n",
    "    \"INSTITUCION_ESPECIALIDAD_INDUSTRIAL\", \"INSTITUCION_ESPECIALIDAD_NO_APLICA\",\n",
    "    \"INSTITUCION_ESPECIALIDAD_OTRO\"\n",
    "]"
   ]
  },
  {
   "cell_type": "code",
   "execution_count": 15,
   "id": "c77bda53-435f-4fdf-9a63-5612edc6f69b",
   "metadata": {},
   "outputs": [],
   "source": [
    "categorical_pipeline = make_pipeline(OneHotEncoder(handle_unknown=\"ignore\"))\n",
    "\n",
    "ordinal_pipeline = make_pipeline(OrdinalEncoder(categories=[\n",
    "    [-2.0, -1.0, 0.0, 1.0, 2.0, 3.0, 4.0, 5.0, 6.0, 7.0, 8.0, 9.0, 10.0, 11.0, 12.0, 20.0, 21.0, 22.0, 23.0, 24.0, 25.0, 26.0],\n",
    "    ['ESTRATO 0', 'ESTRATO 1', 'ESTRATO 2', 'ESTRATO 3', 'ESTRATO 4', 'ESTRATO 5', 'ESTRATO 6'],\n",
    "    ['Pequeña', 'Mediana',  'Grande']\n",
    "]))\n",
    "\n",
    "numerical_pipeline = make_pipeline(StandardScaler())\n",
    "\n",
    "boolean_pipeline = make_pipeline(FunctionTransformer(boolean_transformation))"
   ]
  },
  {
   "cell_type": "code",
   "execution_count": 16,
   "id": "bbc65f6e-b5e8-4e9d-96cc-1d44e04b8ca3",
   "metadata": {},
   "outputs": [],
   "source": [
    "preprocessor = make_column_transformer(\n",
    "    (categorical_pipeline, CATEGORICAL_FEATURES),\n",
    "    (ordinal_pipeline, ORDINAL_FEATURES),\n",
    "    (numerical_pipeline, NUMERICAL_FEATURES),\n",
    "    (boolean_pipeline, BOOLEAN_FEATURES)\n",
    ")"
   ]
  },
  {
   "cell_type": "markdown",
   "id": "788ef26d-9eac-4954-b989-0966ebec9ec6",
   "metadata": {
    "tags": []
   },
   "source": [
    "## 6. Random Forest"
   ]
  },
  {
   "cell_type": "code",
   "execution_count": 17,
   "id": "7a36d6b5-f715-4b71-aa81-b03d0cb29c2a",
   "metadata": {},
   "outputs": [],
   "source": [
    "rfm = RandomForestClassifier(class_weight=\"balanced\")"
   ]
  },
  {
   "cell_type": "code",
   "execution_count": 18,
   "id": "e22c3c8d-2b78-4da1-82fa-298c9ee11aa4",
   "metadata": {},
   "outputs": [],
   "source": [
    "clf = make_pipeline(preprocessor, rfm)"
   ]
  },
  {
   "cell_type": "code",
   "execution_count": 19,
   "id": "4796b8c9-9d93-4d19-9ac2-9d8f8ec7e3ae",
   "metadata": {},
   "outputs": [
    {
     "data": {
      "text/plain": [
       "['columntransformer',\n",
       " 'columntransformer__n_jobs',\n",
       " 'columntransformer__pipeline-1',\n",
       " 'columntransformer__pipeline-1__memory',\n",
       " 'columntransformer__pipeline-1__onehotencoder',\n",
       " 'columntransformer__pipeline-1__onehotencoder__categories',\n",
       " 'columntransformer__pipeline-1__onehotencoder__drop',\n",
       " 'columntransformer__pipeline-1__onehotencoder__dtype',\n",
       " 'columntransformer__pipeline-1__onehotencoder__handle_unknown',\n",
       " 'columntransformer__pipeline-1__onehotencoder__max_categories',\n",
       " 'columntransformer__pipeline-1__onehotencoder__min_frequency',\n",
       " 'columntransformer__pipeline-1__onehotencoder__sparse',\n",
       " 'columntransformer__pipeline-1__steps',\n",
       " 'columntransformer__pipeline-1__verbose',\n",
       " 'columntransformer__pipeline-2',\n",
       " 'columntransformer__pipeline-2__memory',\n",
       " 'columntransformer__pipeline-2__ordinalencoder',\n",
       " 'columntransformer__pipeline-2__ordinalencoder__categories',\n",
       " 'columntransformer__pipeline-2__ordinalencoder__dtype',\n",
       " 'columntransformer__pipeline-2__ordinalencoder__encoded_missing_value',\n",
       " 'columntransformer__pipeline-2__ordinalencoder__handle_unknown',\n",
       " 'columntransformer__pipeline-2__ordinalencoder__unknown_value',\n",
       " 'columntransformer__pipeline-2__steps',\n",
       " 'columntransformer__pipeline-2__verbose',\n",
       " 'columntransformer__pipeline-3',\n",
       " 'columntransformer__pipeline-3__memory',\n",
       " 'columntransformer__pipeline-3__standardscaler',\n",
       " 'columntransformer__pipeline-3__standardscaler__copy',\n",
       " 'columntransformer__pipeline-3__standardscaler__with_mean',\n",
       " 'columntransformer__pipeline-3__standardscaler__with_std',\n",
       " 'columntransformer__pipeline-3__steps',\n",
       " 'columntransformer__pipeline-3__verbose',\n",
       " 'columntransformer__pipeline-4',\n",
       " 'columntransformer__pipeline-4__functiontransformer',\n",
       " 'columntransformer__pipeline-4__functiontransformer__accept_sparse',\n",
       " 'columntransformer__pipeline-4__functiontransformer__check_inverse',\n",
       " 'columntransformer__pipeline-4__functiontransformer__feature_names_out',\n",
       " 'columntransformer__pipeline-4__functiontransformer__func',\n",
       " 'columntransformer__pipeline-4__functiontransformer__inv_kw_args',\n",
       " 'columntransformer__pipeline-4__functiontransformer__inverse_func',\n",
       " 'columntransformer__pipeline-4__functiontransformer__kw_args',\n",
       " 'columntransformer__pipeline-4__functiontransformer__validate',\n",
       " 'columntransformer__pipeline-4__memory',\n",
       " 'columntransformer__pipeline-4__steps',\n",
       " 'columntransformer__pipeline-4__verbose',\n",
       " 'columntransformer__remainder',\n",
       " 'columntransformer__sparse_threshold',\n",
       " 'columntransformer__transformer_weights',\n",
       " 'columntransformer__transformers',\n",
       " 'columntransformer__verbose',\n",
       " 'columntransformer__verbose_feature_names_out',\n",
       " 'memory',\n",
       " 'randomforestclassifier',\n",
       " 'randomforestclassifier__bootstrap',\n",
       " 'randomforestclassifier__ccp_alpha',\n",
       " 'randomforestclassifier__class_weight',\n",
       " 'randomforestclassifier__criterion',\n",
       " 'randomforestclassifier__max_depth',\n",
       " 'randomforestclassifier__max_features',\n",
       " 'randomforestclassifier__max_leaf_nodes',\n",
       " 'randomforestclassifier__max_samples',\n",
       " 'randomforestclassifier__min_impurity_decrease',\n",
       " 'randomforestclassifier__min_samples_leaf',\n",
       " 'randomforestclassifier__min_samples_split',\n",
       " 'randomforestclassifier__min_weight_fraction_leaf',\n",
       " 'randomforestclassifier__n_estimators',\n",
       " 'randomforestclassifier__n_jobs',\n",
       " 'randomforestclassifier__oob_score',\n",
       " 'randomforestclassifier__random_state',\n",
       " 'randomforestclassifier__verbose',\n",
       " 'randomforestclassifier__warm_start',\n",
       " 'steps',\n",
       " 'verbose']"
      ]
     },
     "execution_count": 19,
     "metadata": {},
     "output_type": "execute_result"
    }
   ],
   "source": [
    "sorted(clf.get_params().keys())"
   ]
  },
  {
   "cell_type": "code",
   "execution_count": 20,
   "id": "e78c35d1-c8c7-4238-96e0-7f59bb34b7a2",
   "metadata": {},
   "outputs": [],
   "source": [
    "param_grid = {\n",
    "    \"randomforestclassifier__n_estimators\" : np.arange(500, 900, 100),\n",
    "    \"randomforestclassifier__max_depth\" : np.arange(20, 30, 2)\n",
    "}"
   ]
  },
  {
   "cell_type": "markdown",
   "id": "2449a248-7a94-429b-9576-b0c659b29492",
   "metadata": {},
   "source": [
    "We are going to use Stratified K-Folds cross-validator to ensure that each fold of dataset has the same proportion of observations with a given label"
   ]
  },
  {
   "cell_type": "code",
   "execution_count": null,
   "id": "757c788a-7780-482d-9363-34efa2d66b7c",
   "metadata": {},
   "outputs": [],
   "source": [
    "stratified_kfold = StratifiedKFold(n_splits=3, shuffle=True, random_state=42)"
   ]
  },
  {
   "cell_type": "code",
   "execution_count": 21,
   "id": "ca295569-1d7e-4d8f-8717-b2c07032b330",
   "metadata": {},
   "outputs": [],
   "source": [
    "search = HalvingGridSearchCV(clf, param_grid, scoring=\"roc_auc\",\n",
    "                             cv=3, n_jobs=-2)"
   ]
  },
  {
   "cell_type": "code",
   "execution_count": 22,
   "id": "2bcfdafe-d648-4516-a481-84b5c5cac8a3",
   "metadata": {},
   "outputs": [
    {
     "data": {
      "text/html": [
       "<style>#sk-container-id-1 {color: black;background-color: white;}#sk-container-id-1 pre{padding: 0;}#sk-container-id-1 div.sk-toggleable {background-color: white;}#sk-container-id-1 label.sk-toggleable__label {cursor: pointer;display: block;width: 100%;margin-bottom: 0;padding: 0.3em;box-sizing: border-box;text-align: center;}#sk-container-id-1 label.sk-toggleable__label-arrow:before {content: \"▸\";float: left;margin-right: 0.25em;color: #696969;}#sk-container-id-1 label.sk-toggleable__label-arrow:hover:before {color: black;}#sk-container-id-1 div.sk-estimator:hover label.sk-toggleable__label-arrow:before {color: black;}#sk-container-id-1 div.sk-toggleable__content {max-height: 0;max-width: 0;overflow: hidden;text-align: left;background-color: #f0f8ff;}#sk-container-id-1 div.sk-toggleable__content pre {margin: 0.2em;color: black;border-radius: 0.25em;background-color: #f0f8ff;}#sk-container-id-1 input.sk-toggleable__control:checked~div.sk-toggleable__content {max-height: 200px;max-width: 100%;overflow: auto;}#sk-container-id-1 input.sk-toggleable__control:checked~label.sk-toggleable__label-arrow:before {content: \"▾\";}#sk-container-id-1 div.sk-estimator input.sk-toggleable__control:checked~label.sk-toggleable__label {background-color: #d4ebff;}#sk-container-id-1 div.sk-label input.sk-toggleable__control:checked~label.sk-toggleable__label {background-color: #d4ebff;}#sk-container-id-1 input.sk-hidden--visually {border: 0;clip: rect(1px 1px 1px 1px);clip: rect(1px, 1px, 1px, 1px);height: 1px;margin: -1px;overflow: hidden;padding: 0;position: absolute;width: 1px;}#sk-container-id-1 div.sk-estimator {font-family: monospace;background-color: #f0f8ff;border: 1px dotted black;border-radius: 0.25em;box-sizing: border-box;margin-bottom: 0.5em;}#sk-container-id-1 div.sk-estimator:hover {background-color: #d4ebff;}#sk-container-id-1 div.sk-parallel-item::after {content: \"\";width: 100%;border-bottom: 1px solid gray;flex-grow: 1;}#sk-container-id-1 div.sk-label:hover label.sk-toggleable__label {background-color: #d4ebff;}#sk-container-id-1 div.sk-serial::before {content: \"\";position: absolute;border-left: 1px solid gray;box-sizing: border-box;top: 0;bottom: 0;left: 50%;z-index: 0;}#sk-container-id-1 div.sk-serial {display: flex;flex-direction: column;align-items: center;background-color: white;padding-right: 0.2em;padding-left: 0.2em;position: relative;}#sk-container-id-1 div.sk-item {position: relative;z-index: 1;}#sk-container-id-1 div.sk-parallel {display: flex;align-items: stretch;justify-content: center;background-color: white;position: relative;}#sk-container-id-1 div.sk-item::before, #sk-container-id-1 div.sk-parallel-item::before {content: \"\";position: absolute;border-left: 1px solid gray;box-sizing: border-box;top: 0;bottom: 0;left: 50%;z-index: -1;}#sk-container-id-1 div.sk-parallel-item {display: flex;flex-direction: column;z-index: 1;position: relative;background-color: white;}#sk-container-id-1 div.sk-parallel-item:first-child::after {align-self: flex-end;width: 50%;}#sk-container-id-1 div.sk-parallel-item:last-child::after {align-self: flex-start;width: 50%;}#sk-container-id-1 div.sk-parallel-item:only-child::after {width: 0;}#sk-container-id-1 div.sk-dashed-wrapped {border: 1px dashed gray;margin: 0 0.4em 0.5em 0.4em;box-sizing: border-box;padding-bottom: 0.4em;background-color: white;}#sk-container-id-1 div.sk-label label {font-family: monospace;font-weight: bold;display: inline-block;line-height: 1.2em;}#sk-container-id-1 div.sk-label-container {text-align: center;}#sk-container-id-1 div.sk-container {/* jupyter's `normalize.less` sets `[hidden] { display: none; }` but bootstrap.min.css set `[hidden] { display: none !important; }` so we also need the `!important` here to be able to override the default hidden behavior on the sphinx rendered scikit-learn.org. See: https://github.com/scikit-learn/scikit-learn/issues/21755 */display: inline-block !important;position: relative;}#sk-container-id-1 div.sk-text-repr-fallback {display: none;}</style><div id=\"sk-container-id-1\" class=\"sk-top-container\"><div class=\"sk-text-repr-fallback\"><pre>HalvingGridSearchCV(cv=3,\n",
       "                    estimator=Pipeline(steps=[(&#x27;columntransformer&#x27;,\n",
       "                                               ColumnTransformer(transformers=[(&#x27;pipeline-1&#x27;,\n",
       "                                                                                Pipeline(steps=[(&#x27;onehotencoder&#x27;,\n",
       "                                                                                                 OneHotEncoder(handle_unknown=&#x27;ignore&#x27;))]),\n",
       "                                                                                [&#x27;INSTITUCION&#x27;,\n",
       "                                                                                 &#x27;GENERO&#x27;,\n",
       "                                                                                 &#x27;JORNADA&#x27;,\n",
       "                                                                                 &#x27;PAIS_ORIGEN&#x27;,\n",
       "                                                                                 &#x27;DISCAPACIDAD&#x27;,\n",
       "                                                                                 &#x27;SRPA&#x27;,\n",
       "                                                                                 &#x27;INSTITUCION_SECTOR&#x27;,\n",
       "                                                                                 &#x27;INSTITUCION_MODELO&#x27;,\n",
       "                                                                                 &#x27;INSTITUCION_APOYO_ACADEMICO_ESPECIAL&#x27;,\n",
       "                                                                                 &#x27;INSTI...\n",
       "                                                                                 &#x27;INSTITUCION_ESPECIALIDAD_INDUSTRIAL&#x27;,\n",
       "                                                                                 &#x27;INSTITUCION_ESPECIALIDAD_NO_APLICA&#x27;,\n",
       "                                                                                 &#x27;INSTITUCION_ESPECIALIDAD_OTRO&#x27;])])),\n",
       "                                              (&#x27;randomforestclassifier&#x27;,\n",
       "                                               RandomForestClassifier(class_weight=&#x27;balanced&#x27;))]),\n",
       "                    n_jobs=-2,\n",
       "                    param_grid={&#x27;randomforestclassifier__max_depth&#x27;: array([20, 22, 24, 26, 28]),\n",
       "                                &#x27;randomforestclassifier__n_estimators&#x27;: array([500, 600, 700, 800])},\n",
       "                    scoring=&#x27;roc_auc&#x27;)</pre><b>In a Jupyter environment, please rerun this cell to show the HTML representation or trust the notebook. <br />On GitHub, the HTML representation is unable to render, please try loading this page with nbviewer.org.</b></div><div class=\"sk-container\" hidden><div class=\"sk-item sk-dashed-wrapped\"><div class=\"sk-label-container\"><div class=\"sk-label sk-toggleable\"><input class=\"sk-toggleable__control sk-hidden--visually\" id=\"sk-estimator-id-1\" type=\"checkbox\" ><label for=\"sk-estimator-id-1\" class=\"sk-toggleable__label sk-toggleable__label-arrow\">HalvingGridSearchCV</label><div class=\"sk-toggleable__content\"><pre>HalvingGridSearchCV(cv=3,\n",
       "                    estimator=Pipeline(steps=[(&#x27;columntransformer&#x27;,\n",
       "                                               ColumnTransformer(transformers=[(&#x27;pipeline-1&#x27;,\n",
       "                                                                                Pipeline(steps=[(&#x27;onehotencoder&#x27;,\n",
       "                                                                                                 OneHotEncoder(handle_unknown=&#x27;ignore&#x27;))]),\n",
       "                                                                                [&#x27;INSTITUCION&#x27;,\n",
       "                                                                                 &#x27;GENERO&#x27;,\n",
       "                                                                                 &#x27;JORNADA&#x27;,\n",
       "                                                                                 &#x27;PAIS_ORIGEN&#x27;,\n",
       "                                                                                 &#x27;DISCAPACIDAD&#x27;,\n",
       "                                                                                 &#x27;SRPA&#x27;,\n",
       "                                                                                 &#x27;INSTITUCION_SECTOR&#x27;,\n",
       "                                                                                 &#x27;INSTITUCION_MODELO&#x27;,\n",
       "                                                                                 &#x27;INSTITUCION_APOYO_ACADEMICO_ESPECIAL&#x27;,\n",
       "                                                                                 &#x27;INSTI...\n",
       "                                                                                 &#x27;INSTITUCION_ESPECIALIDAD_INDUSTRIAL&#x27;,\n",
       "                                                                                 &#x27;INSTITUCION_ESPECIALIDAD_NO_APLICA&#x27;,\n",
       "                                                                                 &#x27;INSTITUCION_ESPECIALIDAD_OTRO&#x27;])])),\n",
       "                                              (&#x27;randomforestclassifier&#x27;,\n",
       "                                               RandomForestClassifier(class_weight=&#x27;balanced&#x27;))]),\n",
       "                    n_jobs=-2,\n",
       "                    param_grid={&#x27;randomforestclassifier__max_depth&#x27;: array([20, 22, 24, 26, 28]),\n",
       "                                &#x27;randomforestclassifier__n_estimators&#x27;: array([500, 600, 700, 800])},\n",
       "                    scoring=&#x27;roc_auc&#x27;)</pre></div></div></div><div class=\"sk-parallel\"><div class=\"sk-parallel-item\"><div class=\"sk-item\"><div class=\"sk-label-container\"><div class=\"sk-label sk-toggleable\"><input class=\"sk-toggleable__control sk-hidden--visually\" id=\"sk-estimator-id-2\" type=\"checkbox\" ><label for=\"sk-estimator-id-2\" class=\"sk-toggleable__label sk-toggleable__label-arrow\">estimator: Pipeline</label><div class=\"sk-toggleable__content\"><pre>Pipeline(steps=[(&#x27;columntransformer&#x27;,\n",
       "                 ColumnTransformer(transformers=[(&#x27;pipeline-1&#x27;,\n",
       "                                                  Pipeline(steps=[(&#x27;onehotencoder&#x27;,\n",
       "                                                                   OneHotEncoder(handle_unknown=&#x27;ignore&#x27;))]),\n",
       "                                                  [&#x27;INSTITUCION&#x27;, &#x27;GENERO&#x27;,\n",
       "                                                   &#x27;JORNADA&#x27;, &#x27;PAIS_ORIGEN&#x27;,\n",
       "                                                   &#x27;DISCAPACIDAD&#x27;, &#x27;SRPA&#x27;,\n",
       "                                                   &#x27;INSTITUCION_SECTOR&#x27;,\n",
       "                                                   &#x27;INSTITUCION_MODELO&#x27;,\n",
       "                                                   &#x27;INSTITUCION_APOYO_ACADEMICO_ESPECIAL&#x27;,\n",
       "                                                   &#x27;INSTITUCION_ZONA&#x27;,\n",
       "                                                   &#x27;INSTITUCION_CARACTER&#x27;...\n",
       "                                                   &#x27;INSTITUCION_NIVEL_PREESCOLAR&#x27;,\n",
       "                                                   &#x27;INSTITUCION_NIVEL_PRIMERA_INFANCIA&#x27;,\n",
       "                                                   &#x27;INSTITUCION_ESPECIALIDAD_ACADÉMICA&#x27;,\n",
       "                                                   &#x27;INSTITUCION_ESPECIALIDAD_AGROPECUARIO&#x27;,\n",
       "                                                   &#x27;INSTITUCION_ESPECIALIDAD_COMERCIAL&#x27;,\n",
       "                                                   &#x27;INSTITUCION_ESPECIALIDAD_INDUSTRIAL&#x27;,\n",
       "                                                   &#x27;INSTITUCION_ESPECIALIDAD_NO_APLICA&#x27;,\n",
       "                                                   &#x27;INSTITUCION_ESPECIALIDAD_OTRO&#x27;])])),\n",
       "                (&#x27;randomforestclassifier&#x27;,\n",
       "                 RandomForestClassifier(class_weight=&#x27;balanced&#x27;))])</pre></div></div></div><div class=\"sk-serial\"><div class=\"sk-item\"><div class=\"sk-serial\"><div class=\"sk-item sk-dashed-wrapped\"><div class=\"sk-label-container\"><div class=\"sk-label sk-toggleable\"><input class=\"sk-toggleable__control sk-hidden--visually\" id=\"sk-estimator-id-3\" type=\"checkbox\" ><label for=\"sk-estimator-id-3\" class=\"sk-toggleable__label sk-toggleable__label-arrow\">columntransformer: ColumnTransformer</label><div class=\"sk-toggleable__content\"><pre>ColumnTransformer(transformers=[(&#x27;pipeline-1&#x27;,\n",
       "                                 Pipeline(steps=[(&#x27;onehotencoder&#x27;,\n",
       "                                                  OneHotEncoder(handle_unknown=&#x27;ignore&#x27;))]),\n",
       "                                 [&#x27;INSTITUCION&#x27;, &#x27;GENERO&#x27;, &#x27;JORNADA&#x27;,\n",
       "                                  &#x27;PAIS_ORIGEN&#x27;, &#x27;DISCAPACIDAD&#x27;, &#x27;SRPA&#x27;,\n",
       "                                  &#x27;INSTITUCION_SECTOR&#x27;, &#x27;INSTITUCION_MODELO&#x27;,\n",
       "                                  &#x27;INSTITUCION_APOYO_ACADEMICO_ESPECIAL&#x27;,\n",
       "                                  &#x27;INSTITUCION_ZONA&#x27;, &#x27;INSTITUCION_CARACTER&#x27;,\n",
       "                                  &#x27;INSTITUCION_ESTADO&#x27;,\n",
       "                                  &#x27;INSTITUCION_PR...\n",
       "                                  &#x27;INSTITUCION_NIVEL_SECUNDARIA_PRIMARIA&#x27;,\n",
       "                                  &#x27;INSTITUCION_NIVEL_MEDIA&#x27;,\n",
       "                                  &#x27;INSTITUCION_NIVEL_PREESCOLAR&#x27;,\n",
       "                                  &#x27;INSTITUCION_NIVEL_PRIMERA_INFANCIA&#x27;,\n",
       "                                  &#x27;INSTITUCION_ESPECIALIDAD_ACADÉMICA&#x27;,\n",
       "                                  &#x27;INSTITUCION_ESPECIALIDAD_AGROPECUARIO&#x27;,\n",
       "                                  &#x27;INSTITUCION_ESPECIALIDAD_COMERCIAL&#x27;,\n",
       "                                  &#x27;INSTITUCION_ESPECIALIDAD_INDUSTRIAL&#x27;,\n",
       "                                  &#x27;INSTITUCION_ESPECIALIDAD_NO_APLICA&#x27;,\n",
       "                                  &#x27;INSTITUCION_ESPECIALIDAD_OTRO&#x27;])])</pre></div></div></div><div class=\"sk-parallel\"><div class=\"sk-parallel-item\"><div class=\"sk-item\"><div class=\"sk-label-container\"><div class=\"sk-label sk-toggleable\"><input class=\"sk-toggleable__control sk-hidden--visually\" id=\"sk-estimator-id-4\" type=\"checkbox\" ><label for=\"sk-estimator-id-4\" class=\"sk-toggleable__label sk-toggleable__label-arrow\">pipeline-1</label><div class=\"sk-toggleable__content\"><pre>[&#x27;INSTITUCION&#x27;, &#x27;GENERO&#x27;, &#x27;JORNADA&#x27;, &#x27;PAIS_ORIGEN&#x27;, &#x27;DISCAPACIDAD&#x27;, &#x27;SRPA&#x27;, &#x27;INSTITUCION_SECTOR&#x27;, &#x27;INSTITUCION_MODELO&#x27;, &#x27;INSTITUCION_APOYO_ACADEMICO_ESPECIAL&#x27;, &#x27;INSTITUCION_ZONA&#x27;, &#x27;INSTITUCION_CARACTER&#x27;, &#x27;INSTITUCION_ESTADO&#x27;, &#x27;INSTITUCION_PRESTADOR_DE_SERVICIO&#x27;]</pre></div></div></div><div class=\"sk-serial\"><div class=\"sk-item\"><div class=\"sk-serial\"><div class=\"sk-item\"><div class=\"sk-estimator sk-toggleable\"><input class=\"sk-toggleable__control sk-hidden--visually\" id=\"sk-estimator-id-5\" type=\"checkbox\" ><label for=\"sk-estimator-id-5\" class=\"sk-toggleable__label sk-toggleable__label-arrow\">OneHotEncoder</label><div class=\"sk-toggleable__content\"><pre>OneHotEncoder(handle_unknown=&#x27;ignore&#x27;)</pre></div></div></div></div></div></div></div></div><div class=\"sk-parallel-item\"><div class=\"sk-item\"><div class=\"sk-label-container\"><div class=\"sk-label sk-toggleable\"><input class=\"sk-toggleable__control sk-hidden--visually\" id=\"sk-estimator-id-6\" type=\"checkbox\" ><label for=\"sk-estimator-id-6\" class=\"sk-toggleable__label sk-toggleable__label-arrow\">pipeline-2</label><div class=\"sk-toggleable__content\"><pre>[&#x27;GRADO_COD&#x27;, &#x27;ESTRATO&#x27;, &#x27;INSTITUCION_TAMAÑO&#x27;]</pre></div></div></div><div class=\"sk-serial\"><div class=\"sk-item\"><div class=\"sk-serial\"><div class=\"sk-item\"><div class=\"sk-estimator sk-toggleable\"><input class=\"sk-toggleable__control sk-hidden--visually\" id=\"sk-estimator-id-7\" type=\"checkbox\" ><label for=\"sk-estimator-id-7\" class=\"sk-toggleable__label sk-toggleable__label-arrow\">OrdinalEncoder</label><div class=\"sk-toggleable__content\"><pre>OrdinalEncoder(categories=[[-2.0, -1.0, 0.0, 1.0, 2.0, 3.0, 4.0, 5.0, 6.0, 7.0,\n",
       "                            8.0, 9.0, 10.0, 11.0, 12.0, 20.0, 21.0, 22.0, 23.0,\n",
       "                            24.0, 25.0, 26.0],\n",
       "                           [&#x27;ESTRATO 0&#x27;, &#x27;ESTRATO 1&#x27;, &#x27;ESTRATO 2&#x27;, &#x27;ESTRATO 3&#x27;,\n",
       "                            &#x27;ESTRATO 4&#x27;, &#x27;ESTRATO 5&#x27;, &#x27;ESTRATO 6&#x27;],\n",
       "                           [&#x27;Pequeña&#x27;, &#x27;Mediana&#x27;, &#x27;Grande&#x27;]])</pre></div></div></div></div></div></div></div></div><div class=\"sk-parallel-item\"><div class=\"sk-item\"><div class=\"sk-label-container\"><div class=\"sk-label sk-toggleable\"><input class=\"sk-toggleable__control sk-hidden--visually\" id=\"sk-estimator-id-8\" type=\"checkbox\" ><label for=\"sk-estimator-id-8\" class=\"sk-toggleable__label sk-toggleable__label-arrow\">pipeline-3</label><div class=\"sk-toggleable__content\"><pre>[&#x27;EDAD&#x27;, &#x27;INSTITUCION_NUMERO_DE_SEDES&#x27;]</pre></div></div></div><div class=\"sk-serial\"><div class=\"sk-item\"><div class=\"sk-serial\"><div class=\"sk-item\"><div class=\"sk-estimator sk-toggleable\"><input class=\"sk-toggleable__control sk-hidden--visually\" id=\"sk-estimator-id-9\" type=\"checkbox\" ><label for=\"sk-estimator-id-9\" class=\"sk-toggleable__label sk-toggleable__label-arrow\">StandardScaler</label><div class=\"sk-toggleable__content\"><pre>StandardScaler()</pre></div></div></div></div></div></div></div></div><div class=\"sk-parallel-item\"><div class=\"sk-item\"><div class=\"sk-label-container\"><div class=\"sk-label sk-toggleable\"><input class=\"sk-toggleable__control sk-hidden--visually\" id=\"sk-estimator-id-10\" type=\"checkbox\" ><label for=\"sk-estimator-id-10\" class=\"sk-toggleable__label sk-toggleable__label-arrow\">pipeline-4</label><div class=\"sk-toggleable__content\"><pre>[&#x27;INSTITUCION_NIVEL_BASICA_PRIMARIA&#x27;, &#x27;INSTITUCION_NIVEL_SECUNDARIA_PRIMARIA&#x27;, &#x27;INSTITUCION_NIVEL_MEDIA&#x27;, &#x27;INSTITUCION_NIVEL_PREESCOLAR&#x27;, &#x27;INSTITUCION_NIVEL_PRIMERA_INFANCIA&#x27;, &#x27;INSTITUCION_ESPECIALIDAD_ACADÉMICA&#x27;, &#x27;INSTITUCION_ESPECIALIDAD_AGROPECUARIO&#x27;, &#x27;INSTITUCION_ESPECIALIDAD_COMERCIAL&#x27;, &#x27;INSTITUCION_ESPECIALIDAD_INDUSTRIAL&#x27;, &#x27;INSTITUCION_ESPECIALIDAD_NO_APLICA&#x27;, &#x27;INSTITUCION_ESPECIALIDAD_OTRO&#x27;]</pre></div></div></div><div class=\"sk-serial\"><div class=\"sk-item\"><div class=\"sk-serial\"><div class=\"sk-item\"><div class=\"sk-estimator sk-toggleable\"><input class=\"sk-toggleable__control sk-hidden--visually\" id=\"sk-estimator-id-11\" type=\"checkbox\" ><label for=\"sk-estimator-id-11\" class=\"sk-toggleable__label sk-toggleable__label-arrow\">FunctionTransformer</label><div class=\"sk-toggleable__content\"><pre>FunctionTransformer(func=&lt;function boolean_transformation at 0x000001D1392C3310&gt;)</pre></div></div></div></div></div></div></div></div></div></div><div class=\"sk-item\"><div class=\"sk-estimator sk-toggleable\"><input class=\"sk-toggleable__control sk-hidden--visually\" id=\"sk-estimator-id-12\" type=\"checkbox\" ><label for=\"sk-estimator-id-12\" class=\"sk-toggleable__label sk-toggleable__label-arrow\">RandomForestClassifier</label><div class=\"sk-toggleable__content\"><pre>RandomForestClassifier(class_weight=&#x27;balanced&#x27;)</pre></div></div></div></div></div></div></div></div></div></div></div></div>"
      ],
      "text/plain": [
       "HalvingGridSearchCV(cv=3,\n",
       "                    estimator=Pipeline(steps=[('columntransformer',\n",
       "                                               ColumnTransformer(transformers=[('pipeline-1',\n",
       "                                                                                Pipeline(steps=[('onehotencoder',\n",
       "                                                                                                 OneHotEncoder(handle_unknown='ignore'))]),\n",
       "                                                                                ['INSTITUCION',\n",
       "                                                                                 'GENERO',\n",
       "                                                                                 'JORNADA',\n",
       "                                                                                 'PAIS_ORIGEN',\n",
       "                                                                                 'DISCAPACIDAD',\n",
       "                                                                                 'SRPA',\n",
       "                                                                                 'INSTITUCION_SECTOR',\n",
       "                                                                                 'INSTITUCION_MODELO',\n",
       "                                                                                 'INSTITUCION_APOYO_ACADEMICO_ESPECIAL',\n",
       "                                                                                 'INSTI...\n",
       "                                                                                 'INSTITUCION_ESPECIALIDAD_INDUSTRIAL',\n",
       "                                                                                 'INSTITUCION_ESPECIALIDAD_NO_APLICA',\n",
       "                                                                                 'INSTITUCION_ESPECIALIDAD_OTRO'])])),\n",
       "                                              ('randomforestclassifier',\n",
       "                                               RandomForestClassifier(class_weight='balanced'))]),\n",
       "                    n_jobs=-2,\n",
       "                    param_grid={'randomforestclassifier__max_depth': array([20, 22, 24, 26, 28]),\n",
       "                                'randomforestclassifier__n_estimators': array([500, 600, 700, 800])},\n",
       "                    scoring='roc_auc')"
      ]
     },
     "execution_count": 22,
     "metadata": {},
     "output_type": "execute_result"
    }
   ],
   "source": [
    "search.fit(X_train, y_train)"
   ]
  },
  {
   "cell_type": "code",
   "execution_count": 23,
   "id": "5168f93d-e2fc-4350-a53f-86298fe4ef87",
   "metadata": {},
   "outputs": [
    {
     "data": {
      "text/plain": [
       "{'randomforestclassifier__max_depth': 26,\n",
       " 'randomforestclassifier__n_estimators': 800}"
      ]
     },
     "execution_count": 23,
     "metadata": {},
     "output_type": "execute_result"
    }
   ],
   "source": [
    "search.best_params_"
   ]
  },
  {
   "cell_type": "code",
   "execution_count": 24,
   "id": "92936c4f-dbcb-4485-b55f-07710969577e",
   "metadata": {},
   "outputs": [
    {
     "data": {
      "text/plain": [
       "0.6867227928480074"
      ]
     },
     "execution_count": 24,
     "metadata": {},
     "output_type": "execute_result"
    }
   ],
   "source": [
    "search.best_score_"
   ]
  },
  {
   "cell_type": "code",
   "execution_count": null,
   "id": "8d635022-ea43-4c5b-bc93-e9ad2939fa9c",
   "metadata": {},
   "outputs": [],
   "source": []
  },
  {
   "cell_type": "code",
   "execution_count": null,
   "id": "94f742a9-58c1-4708-a43b-6e9e05ef6442",
   "metadata": {},
   "outputs": [],
   "source": []
  },
  {
   "cell_type": "code",
   "execution_count": null,
   "id": "b6b36c14-6353-47d9-9d11-6541bca6c0dd",
   "metadata": {},
   "outputs": [],
   "source": []
  },
  {
   "cell_type": "code",
   "execution_count": null,
   "id": "c978e62b-e1d6-4b83-a0da-cff5c1bff45a",
   "metadata": {},
   "outputs": [],
   "source": []
  },
  {
   "cell_type": "code",
   "execution_count": 52,
   "id": "25731e18-fbbe-4bc2-8d68-0e43684de92f",
   "metadata": {},
   "outputs": [],
   "source": [
    "rfm_test = RandomForestClassifier(max_depth=20, n_estimators=600,\n",
    "                                  class_weight=\"balanced\",\n",
    "                                  random_state=42,\n",
    "                                  n_jobs=-1)"
   ]
  },
  {
   "cell_type": "code",
   "execution_count": 53,
   "id": "d7af0f16-3c11-4544-965f-758747050708",
   "metadata": {},
   "outputs": [],
   "source": [
    "clf_test = make_pipeline(preprocessor, rfm_test)"
   ]
  },
  {
   "cell_type": "code",
   "execution_count": 54,
   "id": "37d38d5d-642c-436c-8583-fce75791fb70",
   "metadata": {},
   "outputs": [
    {
     "data": {
      "text/html": [
       "<style>#sk-container-id-7 {color: black;background-color: white;}#sk-container-id-7 pre{padding: 0;}#sk-container-id-7 div.sk-toggleable {background-color: white;}#sk-container-id-7 label.sk-toggleable__label {cursor: pointer;display: block;width: 100%;margin-bottom: 0;padding: 0.3em;box-sizing: border-box;text-align: center;}#sk-container-id-7 label.sk-toggleable__label-arrow:before {content: \"▸\";float: left;margin-right: 0.25em;color: #696969;}#sk-container-id-7 label.sk-toggleable__label-arrow:hover:before {color: black;}#sk-container-id-7 div.sk-estimator:hover label.sk-toggleable__label-arrow:before {color: black;}#sk-container-id-7 div.sk-toggleable__content {max-height: 0;max-width: 0;overflow: hidden;text-align: left;background-color: #f0f8ff;}#sk-container-id-7 div.sk-toggleable__content pre {margin: 0.2em;color: black;border-radius: 0.25em;background-color: #f0f8ff;}#sk-container-id-7 input.sk-toggleable__control:checked~div.sk-toggleable__content {max-height: 200px;max-width: 100%;overflow: auto;}#sk-container-id-7 input.sk-toggleable__control:checked~label.sk-toggleable__label-arrow:before {content: \"▾\";}#sk-container-id-7 div.sk-estimator input.sk-toggleable__control:checked~label.sk-toggleable__label {background-color: #d4ebff;}#sk-container-id-7 div.sk-label input.sk-toggleable__control:checked~label.sk-toggleable__label {background-color: #d4ebff;}#sk-container-id-7 input.sk-hidden--visually {border: 0;clip: rect(1px 1px 1px 1px);clip: rect(1px, 1px, 1px, 1px);height: 1px;margin: -1px;overflow: hidden;padding: 0;position: absolute;width: 1px;}#sk-container-id-7 div.sk-estimator {font-family: monospace;background-color: #f0f8ff;border: 1px dotted black;border-radius: 0.25em;box-sizing: border-box;margin-bottom: 0.5em;}#sk-container-id-7 div.sk-estimator:hover {background-color: #d4ebff;}#sk-container-id-7 div.sk-parallel-item::after {content: \"\";width: 100%;border-bottom: 1px solid gray;flex-grow: 1;}#sk-container-id-7 div.sk-label:hover label.sk-toggleable__label {background-color: #d4ebff;}#sk-container-id-7 div.sk-serial::before {content: \"\";position: absolute;border-left: 1px solid gray;box-sizing: border-box;top: 0;bottom: 0;left: 50%;z-index: 0;}#sk-container-id-7 div.sk-serial {display: flex;flex-direction: column;align-items: center;background-color: white;padding-right: 0.2em;padding-left: 0.2em;position: relative;}#sk-container-id-7 div.sk-item {position: relative;z-index: 1;}#sk-container-id-7 div.sk-parallel {display: flex;align-items: stretch;justify-content: center;background-color: white;position: relative;}#sk-container-id-7 div.sk-item::before, #sk-container-id-7 div.sk-parallel-item::before {content: \"\";position: absolute;border-left: 1px solid gray;box-sizing: border-box;top: 0;bottom: 0;left: 50%;z-index: -1;}#sk-container-id-7 div.sk-parallel-item {display: flex;flex-direction: column;z-index: 1;position: relative;background-color: white;}#sk-container-id-7 div.sk-parallel-item:first-child::after {align-self: flex-end;width: 50%;}#sk-container-id-7 div.sk-parallel-item:last-child::after {align-self: flex-start;width: 50%;}#sk-container-id-7 div.sk-parallel-item:only-child::after {width: 0;}#sk-container-id-7 div.sk-dashed-wrapped {border: 1px dashed gray;margin: 0 0.4em 0.5em 0.4em;box-sizing: border-box;padding-bottom: 0.4em;background-color: white;}#sk-container-id-7 div.sk-label label {font-family: monospace;font-weight: bold;display: inline-block;line-height: 1.2em;}#sk-container-id-7 div.sk-label-container {text-align: center;}#sk-container-id-7 div.sk-container {/* jupyter's `normalize.less` sets `[hidden] { display: none; }` but bootstrap.min.css set `[hidden] { display: none !important; }` so we also need the `!important` here to be able to override the default hidden behavior on the sphinx rendered scikit-learn.org. See: https://github.com/scikit-learn/scikit-learn/issues/21755 */display: inline-block !important;position: relative;}#sk-container-id-7 div.sk-text-repr-fallback {display: none;}</style><div id=\"sk-container-id-7\" class=\"sk-top-container\"><div class=\"sk-text-repr-fallback\"><pre>Pipeline(steps=[(&#x27;columntransformer&#x27;,\n",
       "                 ColumnTransformer(transformers=[(&#x27;pipeline-1&#x27;,\n",
       "                                                  Pipeline(steps=[(&#x27;onehotencoder&#x27;,\n",
       "                                                                   OneHotEncoder(handle_unknown=&#x27;ignore&#x27;))]),\n",
       "                                                  [&#x27;INSTITUCION&#x27;, &#x27;GENERO&#x27;,\n",
       "                                                   &#x27;JORNADA&#x27;, &#x27;PAIS_ORIGEN&#x27;,\n",
       "                                                   &#x27;DISCAPACIDAD&#x27;, &#x27;SRPA&#x27;,\n",
       "                                                   &#x27;INSTITUCION_SECTOR&#x27;,\n",
       "                                                   &#x27;INSTITUCION_MODELO&#x27;,\n",
       "                                                   &#x27;INSTITUCION_APOYO_ACADEMICO_ESPECIAL&#x27;,\n",
       "                                                   &#x27;INSTITUCION_ZONA&#x27;,\n",
       "                                                   &#x27;INSTITUCION_CARACTER&#x27;...\n",
       "                                                   &#x27;INSTITUCION_ESPECIALIDAD_ACADÉMICA&#x27;,\n",
       "                                                   &#x27;INSTITUCION_ESPECIALIDAD_AGROPECUARIO&#x27;,\n",
       "                                                   &#x27;INSTITUCION_ESPECIALIDAD_COMERCIAL&#x27;,\n",
       "                                                   &#x27;INSTITUCION_ESPECIALIDAD_INDUSTRIAL&#x27;,\n",
       "                                                   &#x27;INSTITUCION_ESPECIALIDAD_NO_APLICA&#x27;,\n",
       "                                                   &#x27;INSTITUCION_ESPECIALIDAD_OTRO&#x27;])])),\n",
       "                (&#x27;randomforestclassifier&#x27;,\n",
       "                 RandomForestClassifier(class_weight=&#x27;balanced&#x27;, max_depth=20,\n",
       "                                        n_estimators=600, n_jobs=-1,\n",
       "                                        random_state=42))])</pre><b>In a Jupyter environment, please rerun this cell to show the HTML representation or trust the notebook. <br />On GitHub, the HTML representation is unable to render, please try loading this page with nbviewer.org.</b></div><div class=\"sk-container\" hidden><div class=\"sk-item sk-dashed-wrapped\"><div class=\"sk-label-container\"><div class=\"sk-label sk-toggleable\"><input class=\"sk-toggleable__control sk-hidden--visually\" id=\"sk-estimator-id-70\" type=\"checkbox\" ><label for=\"sk-estimator-id-70\" class=\"sk-toggleable__label sk-toggleable__label-arrow\">Pipeline</label><div class=\"sk-toggleable__content\"><pre>Pipeline(steps=[(&#x27;columntransformer&#x27;,\n",
       "                 ColumnTransformer(transformers=[(&#x27;pipeline-1&#x27;,\n",
       "                                                  Pipeline(steps=[(&#x27;onehotencoder&#x27;,\n",
       "                                                                   OneHotEncoder(handle_unknown=&#x27;ignore&#x27;))]),\n",
       "                                                  [&#x27;INSTITUCION&#x27;, &#x27;GENERO&#x27;,\n",
       "                                                   &#x27;JORNADA&#x27;, &#x27;PAIS_ORIGEN&#x27;,\n",
       "                                                   &#x27;DISCAPACIDAD&#x27;, &#x27;SRPA&#x27;,\n",
       "                                                   &#x27;INSTITUCION_SECTOR&#x27;,\n",
       "                                                   &#x27;INSTITUCION_MODELO&#x27;,\n",
       "                                                   &#x27;INSTITUCION_APOYO_ACADEMICO_ESPECIAL&#x27;,\n",
       "                                                   &#x27;INSTITUCION_ZONA&#x27;,\n",
       "                                                   &#x27;INSTITUCION_CARACTER&#x27;...\n",
       "                                                   &#x27;INSTITUCION_ESPECIALIDAD_ACADÉMICA&#x27;,\n",
       "                                                   &#x27;INSTITUCION_ESPECIALIDAD_AGROPECUARIO&#x27;,\n",
       "                                                   &#x27;INSTITUCION_ESPECIALIDAD_COMERCIAL&#x27;,\n",
       "                                                   &#x27;INSTITUCION_ESPECIALIDAD_INDUSTRIAL&#x27;,\n",
       "                                                   &#x27;INSTITUCION_ESPECIALIDAD_NO_APLICA&#x27;,\n",
       "                                                   &#x27;INSTITUCION_ESPECIALIDAD_OTRO&#x27;])])),\n",
       "                (&#x27;randomforestclassifier&#x27;,\n",
       "                 RandomForestClassifier(class_weight=&#x27;balanced&#x27;, max_depth=20,\n",
       "                                        n_estimators=600, n_jobs=-1,\n",
       "                                        random_state=42))])</pre></div></div></div><div class=\"sk-serial\"><div class=\"sk-item sk-dashed-wrapped\"><div class=\"sk-label-container\"><div class=\"sk-label sk-toggleable\"><input class=\"sk-toggleable__control sk-hidden--visually\" id=\"sk-estimator-id-71\" type=\"checkbox\" ><label for=\"sk-estimator-id-71\" class=\"sk-toggleable__label sk-toggleable__label-arrow\">columntransformer: ColumnTransformer</label><div class=\"sk-toggleable__content\"><pre>ColumnTransformer(transformers=[(&#x27;pipeline-1&#x27;,\n",
       "                                 Pipeline(steps=[(&#x27;onehotencoder&#x27;,\n",
       "                                                  OneHotEncoder(handle_unknown=&#x27;ignore&#x27;))]),\n",
       "                                 [&#x27;INSTITUCION&#x27;, &#x27;GENERO&#x27;, &#x27;JORNADA&#x27;,\n",
       "                                  &#x27;PAIS_ORIGEN&#x27;, &#x27;DISCAPACIDAD&#x27;, &#x27;SRPA&#x27;,\n",
       "                                  &#x27;INSTITUCION_SECTOR&#x27;, &#x27;INSTITUCION_MODELO&#x27;,\n",
       "                                  &#x27;INSTITUCION_APOYO_ACADEMICO_ESPECIAL&#x27;,\n",
       "                                  &#x27;INSTITUCION_ZONA&#x27;, &#x27;INSTITUCION_CARACTER&#x27;,\n",
       "                                  &#x27;INSTITUCION_ESTADO&#x27;,\n",
       "                                  &#x27;INSTITUCION_PR...\n",
       "                                  &#x27;INSTITUCION_NIVEL_SECUNDARIA_PRIMARIA&#x27;,\n",
       "                                  &#x27;INSTITUCION_NIVEL_MEDIA&#x27;,\n",
       "                                  &#x27;INSTITUCION_NIVEL_PREESCOLAR&#x27;,\n",
       "                                  &#x27;INSTITUCION_NIVEL_PRIMERA_INFANCIA&#x27;,\n",
       "                                  &#x27;INSTITUCION_ESPECIALIDAD_ACADÉMICA&#x27;,\n",
       "                                  &#x27;INSTITUCION_ESPECIALIDAD_AGROPECUARIO&#x27;,\n",
       "                                  &#x27;INSTITUCION_ESPECIALIDAD_COMERCIAL&#x27;,\n",
       "                                  &#x27;INSTITUCION_ESPECIALIDAD_INDUSTRIAL&#x27;,\n",
       "                                  &#x27;INSTITUCION_ESPECIALIDAD_NO_APLICA&#x27;,\n",
       "                                  &#x27;INSTITUCION_ESPECIALIDAD_OTRO&#x27;])])</pre></div></div></div><div class=\"sk-parallel\"><div class=\"sk-parallel-item\"><div class=\"sk-item\"><div class=\"sk-label-container\"><div class=\"sk-label sk-toggleable\"><input class=\"sk-toggleable__control sk-hidden--visually\" id=\"sk-estimator-id-72\" type=\"checkbox\" ><label for=\"sk-estimator-id-72\" class=\"sk-toggleable__label sk-toggleable__label-arrow\">pipeline-1</label><div class=\"sk-toggleable__content\"><pre>[&#x27;INSTITUCION&#x27;, &#x27;GENERO&#x27;, &#x27;JORNADA&#x27;, &#x27;PAIS_ORIGEN&#x27;, &#x27;DISCAPACIDAD&#x27;, &#x27;SRPA&#x27;, &#x27;INSTITUCION_SECTOR&#x27;, &#x27;INSTITUCION_MODELO&#x27;, &#x27;INSTITUCION_APOYO_ACADEMICO_ESPECIAL&#x27;, &#x27;INSTITUCION_ZONA&#x27;, &#x27;INSTITUCION_CARACTER&#x27;, &#x27;INSTITUCION_ESTADO&#x27;, &#x27;INSTITUCION_PRESTADOR_DE_SERVICIO&#x27;]</pre></div></div></div><div class=\"sk-serial\"><div class=\"sk-item\"><div class=\"sk-serial\"><div class=\"sk-item\"><div class=\"sk-estimator sk-toggleable\"><input class=\"sk-toggleable__control sk-hidden--visually\" id=\"sk-estimator-id-73\" type=\"checkbox\" ><label for=\"sk-estimator-id-73\" class=\"sk-toggleable__label sk-toggleable__label-arrow\">OneHotEncoder</label><div class=\"sk-toggleable__content\"><pre>OneHotEncoder(handle_unknown=&#x27;ignore&#x27;)</pre></div></div></div></div></div></div></div></div><div class=\"sk-parallel-item\"><div class=\"sk-item\"><div class=\"sk-label-container\"><div class=\"sk-label sk-toggleable\"><input class=\"sk-toggleable__control sk-hidden--visually\" id=\"sk-estimator-id-74\" type=\"checkbox\" ><label for=\"sk-estimator-id-74\" class=\"sk-toggleable__label sk-toggleable__label-arrow\">pipeline-2</label><div class=\"sk-toggleable__content\"><pre>[&#x27;GRADO_COD&#x27;, &#x27;ESTRATO&#x27;, &#x27;INSTITUCION_TAMAÑO&#x27;]</pre></div></div></div><div class=\"sk-serial\"><div class=\"sk-item\"><div class=\"sk-serial\"><div class=\"sk-item\"><div class=\"sk-estimator sk-toggleable\"><input class=\"sk-toggleable__control sk-hidden--visually\" id=\"sk-estimator-id-75\" type=\"checkbox\" ><label for=\"sk-estimator-id-75\" class=\"sk-toggleable__label sk-toggleable__label-arrow\">OrdinalEncoder</label><div class=\"sk-toggleable__content\"><pre>OrdinalEncoder(categories=[[-2.0, -1.0, 0.0, 1.0, 2.0, 3.0, 4.0, 5.0, 6.0, 7.0,\n",
       "                            8.0, 9.0, 10.0, 11.0, 12.0, 20.0, 21.0, 22.0, 23.0,\n",
       "                            24.0, 25.0, 26.0],\n",
       "                           [&#x27;ESTRATO 0&#x27;, &#x27;ESTRATO 1&#x27;, &#x27;ESTRATO 2&#x27;, &#x27;ESTRATO 3&#x27;,\n",
       "                            &#x27;ESTRATO 4&#x27;, &#x27;ESTRATO 5&#x27;, &#x27;ESTRATO 6&#x27;],\n",
       "                           [&#x27;Pequeña&#x27;, &#x27;Mediana&#x27;, &#x27;Grande&#x27;]])</pre></div></div></div></div></div></div></div></div><div class=\"sk-parallel-item\"><div class=\"sk-item\"><div class=\"sk-label-container\"><div class=\"sk-label sk-toggleable\"><input class=\"sk-toggleable__control sk-hidden--visually\" id=\"sk-estimator-id-76\" type=\"checkbox\" ><label for=\"sk-estimator-id-76\" class=\"sk-toggleable__label sk-toggleable__label-arrow\">pipeline-3</label><div class=\"sk-toggleable__content\"><pre>[&#x27;EDAD&#x27;, &#x27;INSTITUCION_NUMERO_DE_SEDES&#x27;]</pre></div></div></div><div class=\"sk-serial\"><div class=\"sk-item\"><div class=\"sk-serial\"><div class=\"sk-item\"><div class=\"sk-estimator sk-toggleable\"><input class=\"sk-toggleable__control sk-hidden--visually\" id=\"sk-estimator-id-77\" type=\"checkbox\" ><label for=\"sk-estimator-id-77\" class=\"sk-toggleable__label sk-toggleable__label-arrow\">StandardScaler</label><div class=\"sk-toggleable__content\"><pre>StandardScaler()</pre></div></div></div></div></div></div></div></div><div class=\"sk-parallel-item\"><div class=\"sk-item\"><div class=\"sk-label-container\"><div class=\"sk-label sk-toggleable\"><input class=\"sk-toggleable__control sk-hidden--visually\" id=\"sk-estimator-id-78\" type=\"checkbox\" ><label for=\"sk-estimator-id-78\" class=\"sk-toggleable__label sk-toggleable__label-arrow\">pipeline-4</label><div class=\"sk-toggleable__content\"><pre>[&#x27;INSTITUCION_NIVEL_BASICA_PRIMARIA&#x27;, &#x27;INSTITUCION_NIVEL_SECUNDARIA_PRIMARIA&#x27;, &#x27;INSTITUCION_NIVEL_MEDIA&#x27;, &#x27;INSTITUCION_NIVEL_PREESCOLAR&#x27;, &#x27;INSTITUCION_NIVEL_PRIMERA_INFANCIA&#x27;, &#x27;INSTITUCION_ESPECIALIDAD_ACADÉMICA&#x27;, &#x27;INSTITUCION_ESPECIALIDAD_AGROPECUARIO&#x27;, &#x27;INSTITUCION_ESPECIALIDAD_COMERCIAL&#x27;, &#x27;INSTITUCION_ESPECIALIDAD_INDUSTRIAL&#x27;, &#x27;INSTITUCION_ESPECIALIDAD_NO_APLICA&#x27;, &#x27;INSTITUCION_ESPECIALIDAD_OTRO&#x27;]</pre></div></div></div><div class=\"sk-serial\"><div class=\"sk-item\"><div class=\"sk-serial\"><div class=\"sk-item\"><div class=\"sk-estimator sk-toggleable\"><input class=\"sk-toggleable__control sk-hidden--visually\" id=\"sk-estimator-id-79\" type=\"checkbox\" ><label for=\"sk-estimator-id-79\" class=\"sk-toggleable__label sk-toggleable__label-arrow\">FunctionTransformer</label><div class=\"sk-toggleable__content\"><pre>FunctionTransformer(func=&lt;function boolean_transformation at 0x000001D1392C3310&gt;)</pre></div></div></div></div></div></div></div></div></div></div><div class=\"sk-item\"><div class=\"sk-estimator sk-toggleable\"><input class=\"sk-toggleable__control sk-hidden--visually\" id=\"sk-estimator-id-80\" type=\"checkbox\" ><label for=\"sk-estimator-id-80\" class=\"sk-toggleable__label sk-toggleable__label-arrow\">RandomForestClassifier</label><div class=\"sk-toggleable__content\"><pre>RandomForestClassifier(class_weight=&#x27;balanced&#x27;, max_depth=20, n_estimators=600,\n",
       "                       n_jobs=-1, random_state=42)</pre></div></div></div></div></div></div></div>"
      ],
      "text/plain": [
       "Pipeline(steps=[('columntransformer',\n",
       "                 ColumnTransformer(transformers=[('pipeline-1',\n",
       "                                                  Pipeline(steps=[('onehotencoder',\n",
       "                                                                   OneHotEncoder(handle_unknown='ignore'))]),\n",
       "                                                  ['INSTITUCION', 'GENERO',\n",
       "                                                   'JORNADA', 'PAIS_ORIGEN',\n",
       "                                                   'DISCAPACIDAD', 'SRPA',\n",
       "                                                   'INSTITUCION_SECTOR',\n",
       "                                                   'INSTITUCION_MODELO',\n",
       "                                                   'INSTITUCION_APOYO_ACADEMICO_ESPECIAL',\n",
       "                                                   'INSTITUCION_ZONA',\n",
       "                                                   'INSTITUCION_CARACTER'...\n",
       "                                                   'INSTITUCION_ESPECIALIDAD_ACADÉMICA',\n",
       "                                                   'INSTITUCION_ESPECIALIDAD_AGROPECUARIO',\n",
       "                                                   'INSTITUCION_ESPECIALIDAD_COMERCIAL',\n",
       "                                                   'INSTITUCION_ESPECIALIDAD_INDUSTRIAL',\n",
       "                                                   'INSTITUCION_ESPECIALIDAD_NO_APLICA',\n",
       "                                                   'INSTITUCION_ESPECIALIDAD_OTRO'])])),\n",
       "                ('randomforestclassifier',\n",
       "                 RandomForestClassifier(class_weight='balanced', max_depth=20,\n",
       "                                        n_estimators=600, n_jobs=-1,\n",
       "                                        random_state=42))])"
      ]
     },
     "execution_count": 54,
     "metadata": {},
     "output_type": "execute_result"
    }
   ],
   "source": [
    "clf_test.fit(X_train, y_train)"
   ]
  },
  {
   "cell_type": "code",
   "execution_count": 55,
   "id": "0344dbba",
   "metadata": {},
   "outputs": [
    {
     "data": {
      "image/png": "[encoded data removed]",
      "text/plain": [
       "<Figure size 360x360 with 1 Axes>"
      ]
     },
     "metadata": {
      "needs_background": "light"
     },
     "output_type": "display_data"
    }
   ],
   "source": [
    "crfm = confusion_matrix(y_test, clf_test.predict(X_test))\n",
    "\n",
    "fig, ax = plt.subplots(figsize=(5, 5))\n",
    "ax.imshow(crfm,cmap ='Pastel1')\n",
    "ax.grid(False)\n",
    "ax.xaxis.set(ticks=(0, 1), ticklabels=('Predicted 0s', 'Predicted 1s'))\n",
    "ax.yaxis.set(ticks=(0, 1), ticklabels=('Actual 0s', 'Actual 1s'))\n",
    "ax.set_ylim(1.5, -0.5)\n",
    "for i in range(2):\n",
    "    for j in range(2):\n",
    "        ax.text(j, i, crfm[i, j], ha='center', va='center', color='black')\n",
    "plt.show()"
   ]
  },
  {
   "cell_type": "code",
   "execution_count": 56,
   "id": "7a2e31ca",
   "metadata": {},
   "outputs": [
    {
     "name": "stdout",
     "output_type": "stream",
     "text": [
      "              precision    recall  f1-score   support\n",
      "\n",
      "           0       0.93      0.96      0.94      1032\n",
      "           1       0.22      0.14      0.18        90\n",
      "\n",
      "    accuracy                           0.89      1122\n",
      "   macro avg       0.58      0.55      0.56      1122\n",
      "weighted avg       0.87      0.89      0.88      1122\n",
      "\n"
     ]
    }
   ],
   "source": [
    "from sklearn.metrics import roc_auc_score, classification_report\n",
    "print(classification_report(y_test, clf_test.predict(X_test)))"
   ]
  },
  {
   "cell_type": "code",
   "execution_count": 57,
   "id": "eccf3159-9735-4eb1-8f82-f5e15d57efd6",
   "metadata": {},
   "outputs": [
    {
     "data": {
      "text/plain": [
       "0.5504198966408268"
      ]
     },
     "execution_count": 57,
     "metadata": {},
     "output_type": "execute_result"
    }
   ],
   "source": [
    "roc_auc_score(y_test, clf_test.predict(X_test))"
   ]
  },
  {
   "cell_type": "code",
   "execution_count": null,
   "id": "23926367-2db4-43a7-b5d3-a6dd458babf4",
   "metadata": {},
   "outputs": [],
   "source": []
  },
  {
   "cell_type": "code",
   "execution_count": null,
   "id": "c91be86c-a1fa-484a-82fb-32f5c77ba073",
   "metadata": {},
   "outputs": [],
   "source": []
  },
  {
   "cell_type": "markdown",
   "id": "2f10f0d6",
   "metadata": {},
   "source": [
    "Now we will try to balance the classes with the library: imbalanced-learn taking into account the same variables of the previous model."
   ]
  },
  {
   "cell_type": "code",
   "execution_count": 58,
   "id": "36b81d1e-6d48-479f-b64f-e9e1e04ee539",
   "metadata": {},
   "outputs": [],
   "source": [
    "imbpipeline_clf = imbpipeline(steps=[\n",
    "    (\"preprocessor\", preprocessor),\n",
    "    (\"smote\", SMOTE()),\n",
    "    (\"rfm_imblearn\", RandomForestClassifier(max_depth=20, \n",
    "                                            n_estimators=600,\n",
    "                                            random_state=42,\n",
    "                                            n_jobs=-1)\n",
    "    )\n",
    "])"
   ]
  },
  {
   "cell_type": "code",
   "execution_count": null,
   "id": "1540f528-de4c-41a2-a8bd-7c9612f34575",
   "metadata": {},
   "outputs": [],
   "source": []
  },
  {
   "cell_type": "code",
   "execution_count": 59,
   "id": "88d531e5-0a23-4067-9862-cdf1de4cb19c",
   "metadata": {},
   "outputs": [
    {
     "data": {
      "text/html": [
       "<style>#sk-container-id-8 {color: black;background-color: white;}#sk-container-id-8 pre{padding: 0;}#sk-container-id-8 div.sk-toggleable {background-color: white;}#sk-container-id-8 label.sk-toggleable__label {cursor: pointer;display: block;width: 100%;margin-bottom: 0;padding: 0.3em;box-sizing: border-box;text-align: center;}#sk-container-id-8 label.sk-toggleable__label-arrow:before {content: \"▸\";float: left;margin-right: 0.25em;color: #696969;}#sk-container-id-8 label.sk-toggleable__label-arrow:hover:before {color: black;}#sk-container-id-8 div.sk-estimator:hover label.sk-toggleable__label-arrow:before {color: black;}#sk-container-id-8 div.sk-toggleable__content {max-height: 0;max-width: 0;overflow: hidden;text-align: left;background-color: #f0f8ff;}#sk-container-id-8 div.sk-toggleable__content pre {margin: 0.2em;color: black;border-radius: 0.25em;background-color: #f0f8ff;}#sk-container-id-8 input.sk-toggleable__control:checked~div.sk-toggleable__content {max-height: 200px;max-width: 100%;overflow: auto;}#sk-container-id-8 input.sk-toggleable__control:checked~label.sk-toggleable__label-arrow:before {content: \"▾\";}#sk-container-id-8 div.sk-estimator input.sk-toggleable__control:checked~label.sk-toggleable__label {background-color: #d4ebff;}#sk-container-id-8 div.sk-label input.sk-toggleable__control:checked~label.sk-toggleable__label {background-color: #d4ebff;}#sk-container-id-8 input.sk-hidden--visually {border: 0;clip: rect(1px 1px 1px 1px);clip: rect(1px, 1px, 1px, 1px);height: 1px;margin: -1px;overflow: hidden;padding: 0;position: absolute;width: 1px;}#sk-container-id-8 div.sk-estimator {font-family: monospace;background-color: #f0f8ff;border: 1px dotted black;border-radius: 0.25em;box-sizing: border-box;margin-bottom: 0.5em;}#sk-container-id-8 div.sk-estimator:hover {background-color: #d4ebff;}#sk-container-id-8 div.sk-parallel-item::after {content: \"\";width: 100%;border-bottom: 1px solid gray;flex-grow: 1;}#sk-container-id-8 div.sk-label:hover label.sk-toggleable__label {background-color: #d4ebff;}#sk-container-id-8 div.sk-serial::before {content: \"\";position: absolute;border-left: 1px solid gray;box-sizing: border-box;top: 0;bottom: 0;left: 50%;z-index: 0;}#sk-container-id-8 div.sk-serial {display: flex;flex-direction: column;align-items: center;background-color: white;padding-right: 0.2em;padding-left: 0.2em;position: relative;}#sk-container-id-8 div.sk-item {position: relative;z-index: 1;}#sk-container-id-8 div.sk-parallel {display: flex;align-items: stretch;justify-content: center;background-color: white;position: relative;}#sk-container-id-8 div.sk-item::before, #sk-container-id-8 div.sk-parallel-item::before {content: \"\";position: absolute;border-left: 1px solid gray;box-sizing: border-box;top: 0;bottom: 0;left: 50%;z-index: -1;}#sk-container-id-8 div.sk-parallel-item {display: flex;flex-direction: column;z-index: 1;position: relative;background-color: white;}#sk-container-id-8 div.sk-parallel-item:first-child::after {align-self: flex-end;width: 50%;}#sk-container-id-8 div.sk-parallel-item:last-child::after {align-self: flex-start;width: 50%;}#sk-container-id-8 div.sk-parallel-item:only-child::after {width: 0;}#sk-container-id-8 div.sk-dashed-wrapped {border: 1px dashed gray;margin: 0 0.4em 0.5em 0.4em;box-sizing: border-box;padding-bottom: 0.4em;background-color: white;}#sk-container-id-8 div.sk-label label {font-family: monospace;font-weight: bold;display: inline-block;line-height: 1.2em;}#sk-container-id-8 div.sk-label-container {text-align: center;}#sk-container-id-8 div.sk-container {/* jupyter's `normalize.less` sets `[hidden] { display: none; }` but bootstrap.min.css set `[hidden] { display: none !important; }` so we also need the `!important` here to be able to override the default hidden behavior on the sphinx rendered scikit-learn.org. See: https://github.com/scikit-learn/scikit-learn/issues/21755 */display: inline-block !important;position: relative;}#sk-container-id-8 div.sk-text-repr-fallback {display: none;}</style><div id=\"sk-container-id-8\" class=\"sk-top-container\"><div class=\"sk-text-repr-fallback\"><pre>Pipeline(steps=[(&#x27;preprocessor&#x27;,\n",
       "                 ColumnTransformer(transformers=[(&#x27;pipeline-1&#x27;,\n",
       "                                                  Pipeline(steps=[(&#x27;onehotencoder&#x27;,\n",
       "                                                                   OneHotEncoder(handle_unknown=&#x27;ignore&#x27;))]),\n",
       "                                                  [&#x27;INSTITUCION&#x27;, &#x27;GENERO&#x27;,\n",
       "                                                   &#x27;JORNADA&#x27;, &#x27;PAIS_ORIGEN&#x27;,\n",
       "                                                   &#x27;DISCAPACIDAD&#x27;, &#x27;SRPA&#x27;,\n",
       "                                                   &#x27;INSTITUCION_SECTOR&#x27;,\n",
       "                                                   &#x27;INSTITUCION_MODELO&#x27;,\n",
       "                                                   &#x27;INSTITUCION_APOYO_ACADEMICO_ESPECIAL&#x27;,\n",
       "                                                   &#x27;INSTITUCION_ZONA&#x27;,\n",
       "                                                   &#x27;INSTITUCION_CARACTER&#x27;,\n",
       "                                                   &#x27;INS...\n",
       "                                                   &#x27;INSTITUCION_NIVEL_PRIMERA_INFANCIA&#x27;,\n",
       "                                                   &#x27;INSTITUCION_ESPECIALIDAD_ACADÉMICA&#x27;,\n",
       "                                                   &#x27;INSTITUCION_ESPECIALIDAD_AGROPECUARIO&#x27;,\n",
       "                                                   &#x27;INSTITUCION_ESPECIALIDAD_COMERCIAL&#x27;,\n",
       "                                                   &#x27;INSTITUCION_ESPECIALIDAD_INDUSTRIAL&#x27;,\n",
       "                                                   &#x27;INSTITUCION_ESPECIALIDAD_NO_APLICA&#x27;,\n",
       "                                                   &#x27;INSTITUCION_ESPECIALIDAD_OTRO&#x27;])])),\n",
       "                (&#x27;smote&#x27;, SMOTE()),\n",
       "                (&#x27;rfm_imblearn&#x27;,\n",
       "                 RandomForestClassifier(max_depth=20, n_estimators=600,\n",
       "                                        n_jobs=-1, random_state=42))])</pre><b>In a Jupyter environment, please rerun this cell to show the HTML representation or trust the notebook. <br />On GitHub, the HTML representation is unable to render, please try loading this page with nbviewer.org.</b></div><div class=\"sk-container\" hidden><div class=\"sk-item sk-dashed-wrapped\"><div class=\"sk-label-container\"><div class=\"sk-label sk-toggleable\"><input class=\"sk-toggleable__control sk-hidden--visually\" id=\"sk-estimator-id-81\" type=\"checkbox\" ><label for=\"sk-estimator-id-81\" class=\"sk-toggleable__label sk-toggleable__label-arrow\">Pipeline</label><div class=\"sk-toggleable__content\"><pre>Pipeline(steps=[(&#x27;preprocessor&#x27;,\n",
       "                 ColumnTransformer(transformers=[(&#x27;pipeline-1&#x27;,\n",
       "                                                  Pipeline(steps=[(&#x27;onehotencoder&#x27;,\n",
       "                                                                   OneHotEncoder(handle_unknown=&#x27;ignore&#x27;))]),\n",
       "                                                  [&#x27;INSTITUCION&#x27;, &#x27;GENERO&#x27;,\n",
       "                                                   &#x27;JORNADA&#x27;, &#x27;PAIS_ORIGEN&#x27;,\n",
       "                                                   &#x27;DISCAPACIDAD&#x27;, &#x27;SRPA&#x27;,\n",
       "                                                   &#x27;INSTITUCION_SECTOR&#x27;,\n",
       "                                                   &#x27;INSTITUCION_MODELO&#x27;,\n",
       "                                                   &#x27;INSTITUCION_APOYO_ACADEMICO_ESPECIAL&#x27;,\n",
       "                                                   &#x27;INSTITUCION_ZONA&#x27;,\n",
       "                                                   &#x27;INSTITUCION_CARACTER&#x27;,\n",
       "                                                   &#x27;INS...\n",
       "                                                   &#x27;INSTITUCION_NIVEL_PRIMERA_INFANCIA&#x27;,\n",
       "                                                   &#x27;INSTITUCION_ESPECIALIDAD_ACADÉMICA&#x27;,\n",
       "                                                   &#x27;INSTITUCION_ESPECIALIDAD_AGROPECUARIO&#x27;,\n",
       "                                                   &#x27;INSTITUCION_ESPECIALIDAD_COMERCIAL&#x27;,\n",
       "                                                   &#x27;INSTITUCION_ESPECIALIDAD_INDUSTRIAL&#x27;,\n",
       "                                                   &#x27;INSTITUCION_ESPECIALIDAD_NO_APLICA&#x27;,\n",
       "                                                   &#x27;INSTITUCION_ESPECIALIDAD_OTRO&#x27;])])),\n",
       "                (&#x27;smote&#x27;, SMOTE()),\n",
       "                (&#x27;rfm_imblearn&#x27;,\n",
       "                 RandomForestClassifier(max_depth=20, n_estimators=600,\n",
       "                                        n_jobs=-1, random_state=42))])</pre></div></div></div><div class=\"sk-serial\"><div class=\"sk-item sk-dashed-wrapped\"><div class=\"sk-label-container\"><div class=\"sk-label sk-toggleable\"><input class=\"sk-toggleable__control sk-hidden--visually\" id=\"sk-estimator-id-82\" type=\"checkbox\" ><label for=\"sk-estimator-id-82\" class=\"sk-toggleable__label sk-toggleable__label-arrow\">preprocessor: ColumnTransformer</label><div class=\"sk-toggleable__content\"><pre>ColumnTransformer(transformers=[(&#x27;pipeline-1&#x27;,\n",
       "                                 Pipeline(steps=[(&#x27;onehotencoder&#x27;,\n",
       "                                                  OneHotEncoder(handle_unknown=&#x27;ignore&#x27;))]),\n",
       "                                 [&#x27;INSTITUCION&#x27;, &#x27;GENERO&#x27;, &#x27;JORNADA&#x27;,\n",
       "                                  &#x27;PAIS_ORIGEN&#x27;, &#x27;DISCAPACIDAD&#x27;, &#x27;SRPA&#x27;,\n",
       "                                  &#x27;INSTITUCION_SECTOR&#x27;, &#x27;INSTITUCION_MODELO&#x27;,\n",
       "                                  &#x27;INSTITUCION_APOYO_ACADEMICO_ESPECIAL&#x27;,\n",
       "                                  &#x27;INSTITUCION_ZONA&#x27;, &#x27;INSTITUCION_CARACTER&#x27;,\n",
       "                                  &#x27;INSTITUCION_ESTADO&#x27;,\n",
       "                                  &#x27;INSTITUCION_PR...\n",
       "                                  &#x27;INSTITUCION_NIVEL_SECUNDARIA_PRIMARIA&#x27;,\n",
       "                                  &#x27;INSTITUCION_NIVEL_MEDIA&#x27;,\n",
       "                                  &#x27;INSTITUCION_NIVEL_PREESCOLAR&#x27;,\n",
       "                                  &#x27;INSTITUCION_NIVEL_PRIMERA_INFANCIA&#x27;,\n",
       "                                  &#x27;INSTITUCION_ESPECIALIDAD_ACADÉMICA&#x27;,\n",
       "                                  &#x27;INSTITUCION_ESPECIALIDAD_AGROPECUARIO&#x27;,\n",
       "                                  &#x27;INSTITUCION_ESPECIALIDAD_COMERCIAL&#x27;,\n",
       "                                  &#x27;INSTITUCION_ESPECIALIDAD_INDUSTRIAL&#x27;,\n",
       "                                  &#x27;INSTITUCION_ESPECIALIDAD_NO_APLICA&#x27;,\n",
       "                                  &#x27;INSTITUCION_ESPECIALIDAD_OTRO&#x27;])])</pre></div></div></div><div class=\"sk-parallel\"><div class=\"sk-parallel-item\"><div class=\"sk-item\"><div class=\"sk-label-container\"><div class=\"sk-label sk-toggleable\"><input class=\"sk-toggleable__control sk-hidden--visually\" id=\"sk-estimator-id-83\" type=\"checkbox\" ><label for=\"sk-estimator-id-83\" class=\"sk-toggleable__label sk-toggleable__label-arrow\">pipeline-1</label><div class=\"sk-toggleable__content\"><pre>[&#x27;INSTITUCION&#x27;, &#x27;GENERO&#x27;, &#x27;JORNADA&#x27;, &#x27;PAIS_ORIGEN&#x27;, &#x27;DISCAPACIDAD&#x27;, &#x27;SRPA&#x27;, &#x27;INSTITUCION_SECTOR&#x27;, &#x27;INSTITUCION_MODELO&#x27;, &#x27;INSTITUCION_APOYO_ACADEMICO_ESPECIAL&#x27;, &#x27;INSTITUCION_ZONA&#x27;, &#x27;INSTITUCION_CARACTER&#x27;, &#x27;INSTITUCION_ESTADO&#x27;, &#x27;INSTITUCION_PRESTADOR_DE_SERVICIO&#x27;]</pre></div></div></div><div class=\"sk-serial\"><div class=\"sk-item\"><div class=\"sk-serial\"><div class=\"sk-item\"><div class=\"sk-estimator sk-toggleable\"><input class=\"sk-toggleable__control sk-hidden--visually\" id=\"sk-estimator-id-84\" type=\"checkbox\" ><label for=\"sk-estimator-id-84\" class=\"sk-toggleable__label sk-toggleable__label-arrow\">OneHotEncoder</label><div class=\"sk-toggleable__content\"><pre>OneHotEncoder(handle_unknown=&#x27;ignore&#x27;)</pre></div></div></div></div></div></div></div></div><div class=\"sk-parallel-item\"><div class=\"sk-item\"><div class=\"sk-label-container\"><div class=\"sk-label sk-toggleable\"><input class=\"sk-toggleable__control sk-hidden--visually\" id=\"sk-estimator-id-85\" type=\"checkbox\" ><label for=\"sk-estimator-id-85\" class=\"sk-toggleable__label sk-toggleable__label-arrow\">pipeline-2</label><div class=\"sk-toggleable__content\"><pre>[&#x27;GRADO_COD&#x27;, &#x27;ESTRATO&#x27;, &#x27;INSTITUCION_TAMAÑO&#x27;]</pre></div></div></div><div class=\"sk-serial\"><div class=\"sk-item\"><div class=\"sk-serial\"><div class=\"sk-item\"><div class=\"sk-estimator sk-toggleable\"><input class=\"sk-toggleable__control sk-hidden--visually\" id=\"sk-estimator-id-86\" type=\"checkbox\" ><label for=\"sk-estimator-id-86\" class=\"sk-toggleable__label sk-toggleable__label-arrow\">OrdinalEncoder</label><div class=\"sk-toggleable__content\"><pre>OrdinalEncoder(categories=[[-2.0, -1.0, 0.0, 1.0, 2.0, 3.0, 4.0, 5.0, 6.0, 7.0,\n",
       "                            8.0, 9.0, 10.0, 11.0, 12.0, 20.0, 21.0, 22.0, 23.0,\n",
       "                            24.0, 25.0, 26.0],\n",
       "                           [&#x27;ESTRATO 0&#x27;, &#x27;ESTRATO 1&#x27;, &#x27;ESTRATO 2&#x27;, &#x27;ESTRATO 3&#x27;,\n",
       "                            &#x27;ESTRATO 4&#x27;, &#x27;ESTRATO 5&#x27;, &#x27;ESTRATO 6&#x27;],\n",
       "                           [&#x27;Pequeña&#x27;, &#x27;Mediana&#x27;, &#x27;Grande&#x27;]])</pre></div></div></div></div></div></div></div></div><div class=\"sk-parallel-item\"><div class=\"sk-item\"><div class=\"sk-label-container\"><div class=\"sk-label sk-toggleable\"><input class=\"sk-toggleable__control sk-hidden--visually\" id=\"sk-estimator-id-87\" type=\"checkbox\" ><label for=\"sk-estimator-id-87\" class=\"sk-toggleable__label sk-toggleable__label-arrow\">pipeline-3</label><div class=\"sk-toggleable__content\"><pre>[&#x27;EDAD&#x27;, &#x27;INSTITUCION_NUMERO_DE_SEDES&#x27;]</pre></div></div></div><div class=\"sk-serial\"><div class=\"sk-item\"><div class=\"sk-serial\"><div class=\"sk-item\"><div class=\"sk-estimator sk-toggleable\"><input class=\"sk-toggleable__control sk-hidden--visually\" id=\"sk-estimator-id-88\" type=\"checkbox\" ><label for=\"sk-estimator-id-88\" class=\"sk-toggleable__label sk-toggleable__label-arrow\">StandardScaler</label><div class=\"sk-toggleable__content\"><pre>StandardScaler()</pre></div></div></div></div></div></div></div></div><div class=\"sk-parallel-item\"><div class=\"sk-item\"><div class=\"sk-label-container\"><div class=\"sk-label sk-toggleable\"><input class=\"sk-toggleable__control sk-hidden--visually\" id=\"sk-estimator-id-89\" type=\"checkbox\" ><label for=\"sk-estimator-id-89\" class=\"sk-toggleable__label sk-toggleable__label-arrow\">pipeline-4</label><div class=\"sk-toggleable__content\"><pre>[&#x27;INSTITUCION_NIVEL_BASICA_PRIMARIA&#x27;, &#x27;INSTITUCION_NIVEL_SECUNDARIA_PRIMARIA&#x27;, &#x27;INSTITUCION_NIVEL_MEDIA&#x27;, &#x27;INSTITUCION_NIVEL_PREESCOLAR&#x27;, &#x27;INSTITUCION_NIVEL_PRIMERA_INFANCIA&#x27;, &#x27;INSTITUCION_ESPECIALIDAD_ACADÉMICA&#x27;, &#x27;INSTITUCION_ESPECIALIDAD_AGROPECUARIO&#x27;, &#x27;INSTITUCION_ESPECIALIDAD_COMERCIAL&#x27;, &#x27;INSTITUCION_ESPECIALIDAD_INDUSTRIAL&#x27;, &#x27;INSTITUCION_ESPECIALIDAD_NO_APLICA&#x27;, &#x27;INSTITUCION_ESPECIALIDAD_OTRO&#x27;]</pre></div></div></div><div class=\"sk-serial\"><div class=\"sk-item\"><div class=\"sk-serial\"><div class=\"sk-item\"><div class=\"sk-estimator sk-toggleable\"><input class=\"sk-toggleable__control sk-hidden--visually\" id=\"sk-estimator-id-90\" type=\"checkbox\" ><label for=\"sk-estimator-id-90\" class=\"sk-toggleable__label sk-toggleable__label-arrow\">FunctionTransformer</label><div class=\"sk-toggleable__content\"><pre>FunctionTransformer(func=&lt;function boolean_transformation at 0x000001D1392C3310&gt;)</pre></div></div></div></div></div></div></div></div></div></div><div class=\"sk-item\"><div class=\"sk-estimator sk-toggleable\"><input class=\"sk-toggleable__control sk-hidden--visually\" id=\"sk-estimator-id-91\" type=\"checkbox\" ><label for=\"sk-estimator-id-91\" class=\"sk-toggleable__label sk-toggleable__label-arrow\">SMOTE</label><div class=\"sk-toggleable__content\"><pre>SMOTE()</pre></div></div></div><div class=\"sk-item\"><div class=\"sk-estimator sk-toggleable\"><input class=\"sk-toggleable__control sk-hidden--visually\" id=\"sk-estimator-id-92\" type=\"checkbox\" ><label for=\"sk-estimator-id-92\" class=\"sk-toggleable__label sk-toggleable__label-arrow\">RandomForestClassifier</label><div class=\"sk-toggleable__content\"><pre>RandomForestClassifier(max_depth=20, n_estimators=600, n_jobs=-1,\n",
       "                       random_state=42)</pre></div></div></div></div></div></div></div>"
      ],
      "text/plain": [
       "Pipeline(steps=[('preprocessor',\n",
       "                 ColumnTransformer(transformers=[('pipeline-1',\n",
       "                                                  Pipeline(steps=[('onehotencoder',\n",
       "                                                                   OneHotEncoder(handle_unknown='ignore'))]),\n",
       "                                                  ['INSTITUCION', 'GENERO',\n",
       "                                                   'JORNADA', 'PAIS_ORIGEN',\n",
       "                                                   'DISCAPACIDAD', 'SRPA',\n",
       "                                                   'INSTITUCION_SECTOR',\n",
       "                                                   'INSTITUCION_MODELO',\n",
       "                                                   'INSTITUCION_APOYO_ACADEMICO_ESPECIAL',\n",
       "                                                   'INSTITUCION_ZONA',\n",
       "                                                   'INSTITUCION_CARACTER',\n",
       "                                                   'INS...\n",
       "                                                   'INSTITUCION_NIVEL_PRIMERA_INFANCIA',\n",
       "                                                   'INSTITUCION_ESPECIALIDAD_ACADÉMICA',\n",
       "                                                   'INSTITUCION_ESPECIALIDAD_AGROPECUARIO',\n",
       "                                                   'INSTITUCION_ESPECIALIDAD_COMERCIAL',\n",
       "                                                   'INSTITUCION_ESPECIALIDAD_INDUSTRIAL',\n",
       "                                                   'INSTITUCION_ESPECIALIDAD_NO_APLICA',\n",
       "                                                   'INSTITUCION_ESPECIALIDAD_OTRO'])])),\n",
       "                ('smote', SMOTE()),\n",
       "                ('rfm_imblearn',\n",
       "                 RandomForestClassifier(max_depth=20, n_estimators=600,\n",
       "                                        n_jobs=-1, random_state=42))])"
      ]
     },
     "execution_count": 59,
     "metadata": {},
     "output_type": "execute_result"
    }
   ],
   "source": [
    "imbpipeline_clf.fit(X_train, y_train)"
   ]
  },
  {
   "cell_type": "code",
   "execution_count": 61,
   "id": "c44c9730",
   "metadata": {},
   "outputs": [
    {
     "data": {
      "image/png": "[encoded data removed]",
      "text/plain": [
       "<Figure size 360x360 with 1 Axes>"
      ]
     },
     "metadata": {
      "needs_background": "light"
     },
     "output_type": "display_data"
    }
   ],
   "source": [
    "crfmi = confusion_matrix(y_test, imbpipeline_clf.predict(X_test))\n",
    "\n",
    "fig, ax = plt.subplots(figsize=(5, 5))\n",
    "ax.imshow(crfmi,cmap ='Pastel1')\n",
    "ax.grid(False)\n",
    "ax.xaxis.set(ticks=(0, 1), ticklabels=('Predicted 0s', 'Predicted 1s'))\n",
    "ax.yaxis.set(ticks=(0, 1), ticklabels=('Actual 0s', 'Actual 1s'))\n",
    "ax.set_ylim(1.5, -0.5)\n",
    "for i in range(2):\n",
    "    for j in range(2):\n",
    "        ax.text(j, i, crfmi[i, j], ha='center', va='center', color='black')\n",
    "plt.show()"
   ]
  },
  {
   "cell_type": "code",
   "execution_count": 62,
   "id": "76a039e5",
   "metadata": {},
   "outputs": [
    {
     "name": "stdout",
     "output_type": "stream",
     "text": [
      "              precision    recall  f1-score   support\n",
      "\n",
      "           0       0.93      0.94      0.94      1032\n",
      "           1       0.25      0.21      0.23        90\n",
      "\n",
      "    accuracy                           0.89      1122\n",
      "   macro avg       0.59      0.58      0.58      1122\n",
      "weighted avg       0.88      0.89      0.88      1122\n",
      "\n"
     ]
    }
   ],
   "source": [
    "from sklearn.metrics import roc_auc_score, classification_report\n",
    "print(classification_report(y_test, imbpipeline_clf.predict(X_test)))"
   ]
  },
  {
   "cell_type": "code",
   "execution_count": 63,
   "id": "9ed691ff-fac3-4b09-b82b-3053cc4a0499",
   "metadata": {},
   "outputs": [
    {
     "data": {
      "text/plain": [
       "0.577939276485788"
      ]
     },
     "execution_count": 63,
     "metadata": {},
     "output_type": "execute_result"
    }
   ],
   "source": [
    "roc_auc_score(y_test, imbpipeline_clf.predict(X_test))"
   ]
  },
  {
   "cell_type": "code",
   "execution_count": null,
   "id": "13d3c979-2533-4f31-b378-2a44fcf6975b",
   "metadata": {},
   "outputs": [],
   "source": []
  },
  {
   "cell_type": "code",
   "execution_count": null,
   "id": "7ad1e315",
   "metadata": {},
   "outputs": [],
   "source": []
  },
  {
   "cell_type": "markdown",
   "id": "6d404659",
   "metadata": {},
   "source": [
    "A logistic will also be tested with the same variables of the previous Random Forest"
   ]
  },
  {
   "cell_type": "markdown",
   "id": "56b1c55e",
   "metadata": {},
   "source": [
    "## 7. Logistic Regresion"
   ]
  },
  {
   "cell_type": "code",
   "execution_count": 67,
   "id": "898bd8c6",
   "metadata": {},
   "outputs": [],
   "source": [
    "from sklearn.linear_model import LogisticRegressionCV\n",
    "lr = LogisticRegressionCV(class_weight=\"balanced\")"
   ]
  },
  {
   "cell_type": "code",
   "execution_count": 68,
   "id": "fd109ce1",
   "metadata": {},
   "outputs": [],
   "source": [
    "clr = make_pipeline(preprocessor, lr)"
   ]
  },
  {
   "cell_type": "code",
   "execution_count": 69,
   "id": "663654d5",
   "metadata": {},
   "outputs": [
    {
     "data": {
      "text/plain": [
       "['columntransformer',\n",
       " 'columntransformer__n_jobs',\n",
       " 'columntransformer__pipeline-1',\n",
       " 'columntransformer__pipeline-1__memory',\n",
       " 'columntransformer__pipeline-1__onehotencoder',\n",
       " 'columntransformer__pipeline-1__onehotencoder__categories',\n",
       " 'columntransformer__pipeline-1__onehotencoder__drop',\n",
       " 'columntransformer__pipeline-1__onehotencoder__dtype',\n",
       " 'columntransformer__pipeline-1__onehotencoder__handle_unknown',\n",
       " 'columntransformer__pipeline-1__onehotencoder__max_categories',\n",
       " 'columntransformer__pipeline-1__onehotencoder__min_frequency',\n",
       " 'columntransformer__pipeline-1__onehotencoder__sparse',\n",
       " 'columntransformer__pipeline-1__steps',\n",
       " 'columntransformer__pipeline-1__verbose',\n",
       " 'columntransformer__pipeline-2',\n",
       " 'columntransformer__pipeline-2__memory',\n",
       " 'columntransformer__pipeline-2__ordinalencoder',\n",
       " 'columntransformer__pipeline-2__ordinalencoder__categories',\n",
       " 'columntransformer__pipeline-2__ordinalencoder__dtype',\n",
       " 'columntransformer__pipeline-2__ordinalencoder__encoded_missing_value',\n",
       " 'columntransformer__pipeline-2__ordinalencoder__handle_unknown',\n",
       " 'columntransformer__pipeline-2__ordinalencoder__unknown_value',\n",
       " 'columntransformer__pipeline-2__steps',\n",
       " 'columntransformer__pipeline-2__verbose',\n",
       " 'columntransformer__pipeline-3',\n",
       " 'columntransformer__pipeline-3__memory',\n",
       " 'columntransformer__pipeline-3__standardscaler',\n",
       " 'columntransformer__pipeline-3__standardscaler__copy',\n",
       " 'columntransformer__pipeline-3__standardscaler__with_mean',\n",
       " 'columntransformer__pipeline-3__standardscaler__with_std',\n",
       " 'columntransformer__pipeline-3__steps',\n",
       " 'columntransformer__pipeline-3__verbose',\n",
       " 'columntransformer__pipeline-4',\n",
       " 'columntransformer__pipeline-4__functiontransformer',\n",
       " 'columntransformer__pipeline-4__functiontransformer__accept_sparse',\n",
       " 'columntransformer__pipeline-4__functiontransformer__check_inverse',\n",
       " 'columntransformer__pipeline-4__functiontransformer__feature_names_out',\n",
       " 'columntransformer__pipeline-4__functiontransformer__func',\n",
       " 'columntransformer__pipeline-4__functiontransformer__inv_kw_args',\n",
       " 'columntransformer__pipeline-4__functiontransformer__inverse_func',\n",
       " 'columntransformer__pipeline-4__functiontransformer__kw_args',\n",
       " 'columntransformer__pipeline-4__functiontransformer__validate',\n",
       " 'columntransformer__pipeline-4__memory',\n",
       " 'columntransformer__pipeline-4__steps',\n",
       " 'columntransformer__pipeline-4__verbose',\n",
       " 'columntransformer__remainder',\n",
       " 'columntransformer__sparse_threshold',\n",
       " 'columntransformer__transformer_weights',\n",
       " 'columntransformer__transformers',\n",
       " 'columntransformer__verbose',\n",
       " 'columntransformer__verbose_feature_names_out',\n",
       " 'logisticregressioncv',\n",
       " 'logisticregressioncv__Cs',\n",
       " 'logisticregressioncv__class_weight',\n",
       " 'logisticregressioncv__cv',\n",
       " 'logisticregressioncv__dual',\n",
       " 'logisticregressioncv__fit_intercept',\n",
       " 'logisticregressioncv__intercept_scaling',\n",
       " 'logisticregressioncv__l1_ratios',\n",
       " 'logisticregressioncv__max_iter',\n",
       " 'logisticregressioncv__multi_class',\n",
       " 'logisticregressioncv__n_jobs',\n",
       " 'logisticregressioncv__penalty',\n",
       " 'logisticregressioncv__random_state',\n",
       " 'logisticregressioncv__refit',\n",
       " 'logisticregressioncv__scoring',\n",
       " 'logisticregressioncv__solver',\n",
       " 'logisticregressioncv__tol',\n",
       " 'logisticregressioncv__verbose',\n",
       " 'memory',\n",
       " 'steps',\n",
       " 'verbose']"
      ]
     },
     "execution_count": 69,
     "metadata": {},
     "output_type": "execute_result"
    }
   ],
   "source": [
    "sorted(clr.get_params().keys())"
   ]
  },
  {
   "cell_type": "code",
   "execution_count": 107,
   "id": "cca24be1",
   "metadata": {},
   "outputs": [],
   "source": [
    "solver==['newton-cg', 'lbfgs','liblinear']\n",
    "penalty==['l1','l2']\n",
    "param_grid = {\n",
    "    \"logisticregressioncv__solver\" : solver,\n",
    "    \"logisticregressioncv__penalty\": penalty\n",
    "}"
   ]
  },
  {
   "cell_type": "code",
   "execution_count": 87,
   "id": "8af65010",
   "metadata": {},
   "outputs": [],
   "source": [
    "stratified_kfold = StratifiedKFold(n_splits=3, shuffle=True, random_state=42)"
   ]
  },
  {
   "cell_type": "code",
   "execution_count": 108,
   "id": "ab6a8cff",
   "metadata": {},
   "outputs": [],
   "source": [
    "search = HalvingGridSearchCV(lr, param_grid, scoring=\"roc_auc\",\n",
    "                             cv=3, n_jobs=-2)"
   ]
  },
  {
   "cell_type": "code",
   "execution_count": 109,
   "id": "305e4282",
   "metadata": {},
   "outputs": [
    {
     "ename": "ValueError",
     "evalue": "Invalid parameter 'logisticregressioncv' for estimator LogisticRegressionCV(class_weight='balanced'). Valid parameters are: ['Cs', 'class_weight', 'cv', 'dual', 'fit_intercept', 'intercept_scaling', 'l1_ratios', 'max_iter', 'multi_class', 'n_jobs', 'penalty', 'random_state', 'refit', 'scoring', 'solver', 'tol', 'verbose'].",
     "output_type": "error",
     "traceback": [
      "\u001b[1;31m---------------------------------------------------------------------------\u001b[0m",
      "\u001b[1;31m_RemoteTraceback\u001b[0m                          Traceback (most recent call last)",
      "\u001b[1;31m_RemoteTraceback\u001b[0m: \n\"\"\"\nTraceback (most recent call last):\n  File \"C:\\Users\\Nelcy-Aflore\\anaconda3\\lib\\site-packages\\joblib\\externals\\loky\\process_executor.py\", line 436, in _process_worker\n    r = call_item()\n  File \"C:\\Users\\Nelcy-Aflore\\anaconda3\\lib\\site-packages\\joblib\\externals\\loky\\process_executor.py\", line 288, in __call__\n    return self.fn(*self.args, **self.kwargs)\n  File \"C:\\Users\\Nelcy-Aflore\\anaconda3\\lib\\site-packages\\joblib\\_parallel_backends.py\", line 595, in __call__\n    return self.func(*args, **kwargs)\n  File \"C:\\Users\\Nelcy-Aflore\\anaconda3\\lib\\site-packages\\joblib\\parallel.py\", line 262, in __call__\n    return [func(*args, **kwargs)\n  File \"C:\\Users\\Nelcy-Aflore\\anaconda3\\lib\\site-packages\\joblib\\parallel.py\", line 262, in <listcomp>\n    return [func(*args, **kwargs)\n  File \"C:\\Users\\Nelcy-Aflore\\anaconda3\\lib\\site-packages\\sklearn\\utils\\fixes.py\", line 117, in __call__\n    return self.function(*args, **kwargs)\n  File \"C:\\Users\\Nelcy-Aflore\\anaconda3\\lib\\site-packages\\sklearn\\model_selection\\_validation.py\", line 674, in _fit_and_score\n    estimator = estimator.set_params(**cloned_parameters)\n  File \"C:\\Users\\Nelcy-Aflore\\anaconda3\\lib\\site-packages\\sklearn\\base.py\", line 246, in set_params\n    raise ValueError(\nValueError: Invalid parameter 'logisticregressioncv' for estimator LogisticRegressionCV(class_weight='balanced'). Valid parameters are: ['Cs', 'class_weight', 'cv', 'dual', 'fit_intercept', 'intercept_scaling', 'l1_ratios', 'max_iter', 'multi_class', 'n_jobs', 'penalty', 'random_state', 'refit', 'scoring', 'solver', 'tol', 'verbose'].\n\"\"\"",
      "\nThe above exception was the direct cause of the following exception:\n",
      "\u001b[1;31mValueError\u001b[0m                                Traceback (most recent call last)",
      "\u001b[1;32mC:\\Users\\NELCY-~1\\AppData\\Local\\Temp/ipykernel_14892/2805879829.py\u001b[0m in \u001b[0;36m<module>\u001b[1;34m\u001b[0m\n\u001b[1;32m----> 1\u001b[1;33m \u001b[0msearch\u001b[0m\u001b[1;33m.\u001b[0m\u001b[0mfit\u001b[0m\u001b[1;33m(\u001b[0m\u001b[0mX_train\u001b[0m\u001b[1;33m,\u001b[0m \u001b[0my_train\u001b[0m\u001b[1;33m)\u001b[0m\u001b[1;33m\u001b[0m\u001b[1;33m\u001b[0m\u001b[0m\n\u001b[0m",
      "\u001b[1;32m~\\anaconda3\\lib\\site-packages\\sklearn\\model_selection\\_search_successive_halving.py\u001b[0m in \u001b[0;36mfit\u001b[1;34m(self, X, y, groups, **fit_params)\u001b[0m\n\u001b[0;32m    259\u001b[0m         \u001b[0mself\u001b[0m\u001b[1;33m.\u001b[0m\u001b[0m_n_samples_orig\u001b[0m \u001b[1;33m=\u001b[0m \u001b[0m_num_samples\u001b[0m\u001b[1;33m(\u001b[0m\u001b[0mX\u001b[0m\u001b[1;33m)\u001b[0m\u001b[1;33m\u001b[0m\u001b[1;33m\u001b[0m\u001b[0m\n\u001b[0;32m    260\u001b[0m \u001b[1;33m\u001b[0m\u001b[0m\n\u001b[1;32m--> 261\u001b[1;33m         \u001b[0msuper\u001b[0m\u001b[1;33m(\u001b[0m\u001b[1;33m)\u001b[0m\u001b[1;33m.\u001b[0m\u001b[0mfit\u001b[0m\u001b[1;33m(\u001b[0m\u001b[0mX\u001b[0m\u001b[1;33m,\u001b[0m \u001b[0my\u001b[0m\u001b[1;33m=\u001b[0m\u001b[0my\u001b[0m\u001b[1;33m,\u001b[0m \u001b[0mgroups\u001b[0m\u001b[1;33m=\u001b[0m\u001b[0mgroups\u001b[0m\u001b[1;33m,\u001b[0m \u001b[1;33m**\u001b[0m\u001b[0mfit_params\u001b[0m\u001b[1;33m)\u001b[0m\u001b[1;33m\u001b[0m\u001b[1;33m\u001b[0m\u001b[0m\n\u001b[0m\u001b[0;32m    262\u001b[0m \u001b[1;33m\u001b[0m\u001b[0m\n\u001b[0;32m    263\u001b[0m         \u001b[1;31m# Set best_score_: BaseSearchCV does not set it, as refit is a callable\u001b[0m\u001b[1;33m\u001b[0m\u001b[1;33m\u001b[0m\u001b[0m\n",
      "\u001b[1;32m~\\anaconda3\\lib\\site-packages\\sklearn\\model_selection\\_search.py\u001b[0m in \u001b[0;36mfit\u001b[1;34m(self, X, y, groups, **fit_params)\u001b[0m\n\u001b[0;32m    873\u001b[0m                 \u001b[1;32mreturn\u001b[0m \u001b[0mresults\u001b[0m\u001b[1;33m\u001b[0m\u001b[1;33m\u001b[0m\u001b[0m\n\u001b[0;32m    874\u001b[0m \u001b[1;33m\u001b[0m\u001b[0m\n\u001b[1;32m--> 875\u001b[1;33m             \u001b[0mself\u001b[0m\u001b[1;33m.\u001b[0m\u001b[0m_run_search\u001b[0m\u001b[1;33m(\u001b[0m\u001b[0mevaluate_candidates\u001b[0m\u001b[1;33m)\u001b[0m\u001b[1;33m\u001b[0m\u001b[1;33m\u001b[0m\u001b[0m\n\u001b[0m\u001b[0;32m    876\u001b[0m \u001b[1;33m\u001b[0m\u001b[0m\n\u001b[0;32m    877\u001b[0m             \u001b[1;31m# multimetric is determined here because in the case of a callable\u001b[0m\u001b[1;33m\u001b[0m\u001b[1;33m\u001b[0m\u001b[0m\n",
      "\u001b[1;32m~\\anaconda3\\lib\\site-packages\\sklearn\\model_selection\\_search_successive_halving.py\u001b[0m in \u001b[0;36m_run_search\u001b[1;34m(self, evaluate_candidates)\u001b[0m\n\u001b[0;32m    364\u001b[0m             }\n\u001b[0;32m    365\u001b[0m \u001b[1;33m\u001b[0m\u001b[0m\n\u001b[1;32m--> 366\u001b[1;33m             results = evaluate_candidates(\n\u001b[0m\u001b[0;32m    367\u001b[0m                 \u001b[0mcandidate_params\u001b[0m\u001b[1;33m,\u001b[0m \u001b[0mcv\u001b[0m\u001b[1;33m,\u001b[0m \u001b[0mmore_results\u001b[0m\u001b[1;33m=\u001b[0m\u001b[0mmore_results\u001b[0m\u001b[1;33m\u001b[0m\u001b[1;33m\u001b[0m\u001b[0m\n\u001b[0;32m    368\u001b[0m             )\n",
      "\u001b[1;32m~\\anaconda3\\lib\\site-packages\\sklearn\\model_selection\\_search.py\u001b[0m in \u001b[0;36mevaluate_candidates\u001b[1;34m(candidate_params, cv, more_results)\u001b[0m\n\u001b[0;32m    820\u001b[0m                     )\n\u001b[0;32m    821\u001b[0m \u001b[1;33m\u001b[0m\u001b[0m\n\u001b[1;32m--> 822\u001b[1;33m                 out = parallel(\n\u001b[0m\u001b[0;32m    823\u001b[0m                     delayed(_fit_and_score)(\n\u001b[0;32m    824\u001b[0m                         \u001b[0mclone\u001b[0m\u001b[1;33m(\u001b[0m\u001b[0mbase_estimator\u001b[0m\u001b[1;33m)\u001b[0m\u001b[1;33m,\u001b[0m\u001b[1;33m\u001b[0m\u001b[1;33m\u001b[0m\u001b[0m\n",
      "\u001b[1;32m~\\anaconda3\\lib\\site-packages\\joblib\\parallel.py\u001b[0m in \u001b[0;36m__call__\u001b[1;34m(self, iterable)\u001b[0m\n\u001b[0;32m   1054\u001b[0m \u001b[1;33m\u001b[0m\u001b[0m\n\u001b[0;32m   1055\u001b[0m             \u001b[1;32mwith\u001b[0m \u001b[0mself\u001b[0m\u001b[1;33m.\u001b[0m\u001b[0m_backend\u001b[0m\u001b[1;33m.\u001b[0m\u001b[0mretrieval_context\u001b[0m\u001b[1;33m(\u001b[0m\u001b[1;33m)\u001b[0m\u001b[1;33m:\u001b[0m\u001b[1;33m\u001b[0m\u001b[1;33m\u001b[0m\u001b[0m\n\u001b[1;32m-> 1056\u001b[1;33m                 \u001b[0mself\u001b[0m\u001b[1;33m.\u001b[0m\u001b[0mretrieve\u001b[0m\u001b[1;33m(\u001b[0m\u001b[1;33m)\u001b[0m\u001b[1;33m\u001b[0m\u001b[1;33m\u001b[0m\u001b[0m\n\u001b[0m\u001b[0;32m   1057\u001b[0m             \u001b[1;31m# Make sure that we get a last message telling us we are done\u001b[0m\u001b[1;33m\u001b[0m\u001b[1;33m\u001b[0m\u001b[0m\n\u001b[0;32m   1058\u001b[0m             \u001b[0melapsed_time\u001b[0m \u001b[1;33m=\u001b[0m \u001b[0mtime\u001b[0m\u001b[1;33m.\u001b[0m\u001b[0mtime\u001b[0m\u001b[1;33m(\u001b[0m\u001b[1;33m)\u001b[0m \u001b[1;33m-\u001b[0m \u001b[0mself\u001b[0m\u001b[1;33m.\u001b[0m\u001b[0m_start_time\u001b[0m\u001b[1;33m\u001b[0m\u001b[1;33m\u001b[0m\u001b[0m\n",
      "\u001b[1;32m~\\anaconda3\\lib\\site-packages\\joblib\\parallel.py\u001b[0m in \u001b[0;36mretrieve\u001b[1;34m(self)\u001b[0m\n\u001b[0;32m    933\u001b[0m             \u001b[1;32mtry\u001b[0m\u001b[1;33m:\u001b[0m\u001b[1;33m\u001b[0m\u001b[1;33m\u001b[0m\u001b[0m\n\u001b[0;32m    934\u001b[0m                 \u001b[1;32mif\u001b[0m \u001b[0mgetattr\u001b[0m\u001b[1;33m(\u001b[0m\u001b[0mself\u001b[0m\u001b[1;33m.\u001b[0m\u001b[0m_backend\u001b[0m\u001b[1;33m,\u001b[0m \u001b[1;34m'supports_timeout'\u001b[0m\u001b[1;33m,\u001b[0m \u001b[1;32mFalse\u001b[0m\u001b[1;33m)\u001b[0m\u001b[1;33m:\u001b[0m\u001b[1;33m\u001b[0m\u001b[1;33m\u001b[0m\u001b[0m\n\u001b[1;32m--> 935\u001b[1;33m                     \u001b[0mself\u001b[0m\u001b[1;33m.\u001b[0m\u001b[0m_output\u001b[0m\u001b[1;33m.\u001b[0m\u001b[0mextend\u001b[0m\u001b[1;33m(\u001b[0m\u001b[0mjob\u001b[0m\u001b[1;33m.\u001b[0m\u001b[0mget\u001b[0m\u001b[1;33m(\u001b[0m\u001b[0mtimeout\u001b[0m\u001b[1;33m=\u001b[0m\u001b[0mself\u001b[0m\u001b[1;33m.\u001b[0m\u001b[0mtimeout\u001b[0m\u001b[1;33m)\u001b[0m\u001b[1;33m)\u001b[0m\u001b[1;33m\u001b[0m\u001b[1;33m\u001b[0m\u001b[0m\n\u001b[0m\u001b[0;32m    936\u001b[0m                 \u001b[1;32melse\u001b[0m\u001b[1;33m:\u001b[0m\u001b[1;33m\u001b[0m\u001b[1;33m\u001b[0m\u001b[0m\n\u001b[0;32m    937\u001b[0m                     \u001b[0mself\u001b[0m\u001b[1;33m.\u001b[0m\u001b[0m_output\u001b[0m\u001b[1;33m.\u001b[0m\u001b[0mextend\u001b[0m\u001b[1;33m(\u001b[0m\u001b[0mjob\u001b[0m\u001b[1;33m.\u001b[0m\u001b[0mget\u001b[0m\u001b[1;33m(\u001b[0m\u001b[1;33m)\u001b[0m\u001b[1;33m)\u001b[0m\u001b[1;33m\u001b[0m\u001b[1;33m\u001b[0m\u001b[0m\n",
      "\u001b[1;32m~\\anaconda3\\lib\\site-packages\\joblib\\_parallel_backends.py\u001b[0m in \u001b[0;36mwrap_future_result\u001b[1;34m(future, timeout)\u001b[0m\n\u001b[0;32m    540\u001b[0m         AsyncResults.get from multiprocessing.\"\"\"\n\u001b[0;32m    541\u001b[0m         \u001b[1;32mtry\u001b[0m\u001b[1;33m:\u001b[0m\u001b[1;33m\u001b[0m\u001b[1;33m\u001b[0m\u001b[0m\n\u001b[1;32m--> 542\u001b[1;33m             \u001b[1;32mreturn\u001b[0m \u001b[0mfuture\u001b[0m\u001b[1;33m.\u001b[0m\u001b[0mresult\u001b[0m\u001b[1;33m(\u001b[0m\u001b[0mtimeout\u001b[0m\u001b[1;33m=\u001b[0m\u001b[0mtimeout\u001b[0m\u001b[1;33m)\u001b[0m\u001b[1;33m\u001b[0m\u001b[1;33m\u001b[0m\u001b[0m\n\u001b[0m\u001b[0;32m    543\u001b[0m         \u001b[1;32mexcept\u001b[0m \u001b[0mCfTimeoutError\u001b[0m \u001b[1;32mas\u001b[0m \u001b[0me\u001b[0m\u001b[1;33m:\u001b[0m\u001b[1;33m\u001b[0m\u001b[1;33m\u001b[0m\u001b[0m\n\u001b[0;32m    544\u001b[0m             \u001b[1;32mraise\u001b[0m \u001b[0mTimeoutError\u001b[0m \u001b[1;32mfrom\u001b[0m \u001b[0me\u001b[0m\u001b[1;33m\u001b[0m\u001b[1;33m\u001b[0m\u001b[0m\n",
      "\u001b[1;32m~\\anaconda3\\lib\\concurrent\\futures\\_base.py\u001b[0m in \u001b[0;36mresult\u001b[1;34m(self, timeout)\u001b[0m\n\u001b[0;32m    443\u001b[0m                     \u001b[1;32mraise\u001b[0m \u001b[0mCancelledError\u001b[0m\u001b[1;33m(\u001b[0m\u001b[1;33m)\u001b[0m\u001b[1;33m\u001b[0m\u001b[1;33m\u001b[0m\u001b[0m\n\u001b[0;32m    444\u001b[0m                 \u001b[1;32melif\u001b[0m \u001b[0mself\u001b[0m\u001b[1;33m.\u001b[0m\u001b[0m_state\u001b[0m \u001b[1;33m==\u001b[0m \u001b[0mFINISHED\u001b[0m\u001b[1;33m:\u001b[0m\u001b[1;33m\u001b[0m\u001b[1;33m\u001b[0m\u001b[0m\n\u001b[1;32m--> 445\u001b[1;33m                     \u001b[1;32mreturn\u001b[0m \u001b[0mself\u001b[0m\u001b[1;33m.\u001b[0m\u001b[0m__get_result\u001b[0m\u001b[1;33m(\u001b[0m\u001b[1;33m)\u001b[0m\u001b[1;33m\u001b[0m\u001b[1;33m\u001b[0m\u001b[0m\n\u001b[0m\u001b[0;32m    446\u001b[0m                 \u001b[1;32melse\u001b[0m\u001b[1;33m:\u001b[0m\u001b[1;33m\u001b[0m\u001b[1;33m\u001b[0m\u001b[0m\n\u001b[0;32m    447\u001b[0m                     \u001b[1;32mraise\u001b[0m \u001b[0mTimeoutError\u001b[0m\u001b[1;33m(\u001b[0m\u001b[1;33m)\u001b[0m\u001b[1;33m\u001b[0m\u001b[1;33m\u001b[0m\u001b[0m\n",
      "\u001b[1;32m~\\anaconda3\\lib\\concurrent\\futures\\_base.py\u001b[0m in \u001b[0;36m__get_result\u001b[1;34m(self)\u001b[0m\n\u001b[0;32m    388\u001b[0m         \u001b[1;32mif\u001b[0m \u001b[0mself\u001b[0m\u001b[1;33m.\u001b[0m\u001b[0m_exception\u001b[0m\u001b[1;33m:\u001b[0m\u001b[1;33m\u001b[0m\u001b[1;33m\u001b[0m\u001b[0m\n\u001b[0;32m    389\u001b[0m             \u001b[1;32mtry\u001b[0m\u001b[1;33m:\u001b[0m\u001b[1;33m\u001b[0m\u001b[1;33m\u001b[0m\u001b[0m\n\u001b[1;32m--> 390\u001b[1;33m                 \u001b[1;32mraise\u001b[0m \u001b[0mself\u001b[0m\u001b[1;33m.\u001b[0m\u001b[0m_exception\u001b[0m\u001b[1;33m\u001b[0m\u001b[1;33m\u001b[0m\u001b[0m\n\u001b[0m\u001b[0;32m    391\u001b[0m             \u001b[1;32mfinally\u001b[0m\u001b[1;33m:\u001b[0m\u001b[1;33m\u001b[0m\u001b[1;33m\u001b[0m\u001b[0m\n\u001b[0;32m    392\u001b[0m                 \u001b[1;31m# Break a reference cycle with the exception in self._exception\u001b[0m\u001b[1;33m\u001b[0m\u001b[1;33m\u001b[0m\u001b[0m\n",
      "\u001b[1;31mValueError\u001b[0m: Invalid parameter 'logisticregressioncv' for estimator LogisticRegressionCV(class_weight='balanced'). Valid parameters are: ['Cs', 'class_weight', 'cv', 'dual', 'fit_intercept', 'intercept_scaling', 'l1_ratios', 'max_iter', 'multi_class', 'n_jobs', 'penalty', 'random_state', 'refit', 'scoring', 'solver', 'tol', 'verbose']."
     ]
    }
   ],
   "source": [
    "search.fit(X_train, y_train)"
   ]
  },
  {
   "cell_type": "code",
   "execution_count": null,
   "id": "6c77e818",
   "metadata": {},
   "outputs": [],
   "source": [
    "search.best_params_"
   ]
  },
  {
   "cell_type": "code",
   "execution_count": null,
   "id": "8765ce9b",
   "metadata": {},
   "outputs": [],
   "source": [
    "search.best_score_"
   ]
  },
  {
   "cell_type": "code",
   "execution_count": null,
   "id": "34e07df0",
   "metadata": {},
   "outputs": [],
   "source": []
  },
  {
   "cell_type": "code",
   "execution_count": null,
   "id": "20656f2a",
   "metadata": {},
   "outputs": [],
   "source": []
  },
  {
   "cell_type": "code",
   "execution_count": null,
   "id": "fa24797b",
   "metadata": {},
   "outputs": [],
   "source": []
  },
  {
   "cell_type": "code",
   "execution_count": null,
   "id": "7219763f",
   "metadata": {},
   "outputs": [],
   "source": [
    "lr_test = LogisticRegressionCV(solver='liblinear',\n",
    "                                  class_weight=\"balanced\",\n",
    "                                  random_state=42,\n",
    "                                  n_jobs=-1)"
   ]
  },
  {
   "cell_type": "code",
   "execution_count": null,
   "id": "00ebc854",
   "metadata": {},
   "outputs": [],
   "source": [
    "lr_test = make_pipeline(preprocessor, lr_test)"
   ]
  },
  {
   "cell_type": "code",
   "execution_count": null,
   "id": "82800799",
   "metadata": {},
   "outputs": [],
   "source": [
    "lr_test.fit(X_train, y_train)"
   ]
  },
  {
   "cell_type": "code",
   "execution_count": null,
   "id": "9478cfa6",
   "metadata": {},
   "outputs": [],
   "source": [
    "clr = confusion_matrix(y_test, lr_test.predict(X_test))\n",
    "\n",
    "fig, ax = plt.subplots(figsize=(5, 5))\n",
    "ax.imshow(clr,cmap ='Pastel1')\n",
    "ax.grid(False)\n",
    "ax.xaxis.set(ticks=(0, 1), ticklabels=('Predicted 0s', 'Predicted 1s'))\n",
    "ax.yaxis.set(ticks=(0, 1), ticklabels=('Actual 0s', 'Actual 1s'))\n",
    "ax.set_ylim(1.5, -0.5)\n",
    "for i in range(2):\n",
    "    for j in range(2):\n",
    "        ax.text(j, i, clr[i, j], ha='center', va='center', color='black')\n",
    "plt.show()"
   ]
  },
  {
   "cell_type": "code",
   "execution_count": null,
   "id": "7c1bb0cb",
   "metadata": {},
   "outputs": [],
   "source": [
    "print(classification_report(y_test, lr_test.predict(X_test)))"
   ]
  },
  {
   "cell_type": "code",
   "execution_count": null,
   "id": "43b6b904",
   "metadata": {},
   "outputs": [],
   "source": [
    "roc_auc_score(y_test, lr_test.predict(X_test))"
   ]
  },
  {
   "cell_type": "code",
   "execution_count": null,
   "id": "d68d0bae",
   "metadata": {},
   "outputs": [],
   "source": []
  },
  {
   "cell_type": "markdown",
   "id": "4d71ddfb",
   "metadata": {},
   "source": [
    "## 8. GBM"
   ]
  },
  {
   "cell_type": "code",
   "execution_count": 111,
   "id": "2bc2535f",
   "metadata": {},
   "outputs": [],
   "source": [
    "from sklearn.ensemble import GradientBoostingClassifier\n",
    "gbc = GradientBoostingClassifier()"
   ]
  },
  {
   "cell_type": "code",
   "execution_count": 112,
   "id": "c2200c46",
   "metadata": {},
   "outputs": [],
   "source": [
    "cgbc = make_pipeline(preprocessor, gbc)"
   ]
  },
  {
   "cell_type": "code",
   "execution_count": 113,
   "id": "d97ff94c",
   "metadata": {},
   "outputs": [
    {
     "data": {
      "text/plain": [
       "['columntransformer',\n",
       " 'columntransformer__n_jobs',\n",
       " 'columntransformer__pipeline-1',\n",
       " 'columntransformer__pipeline-1__memory',\n",
       " 'columntransformer__pipeline-1__onehotencoder',\n",
       " 'columntransformer__pipeline-1__onehotencoder__categories',\n",
       " 'columntransformer__pipeline-1__onehotencoder__drop',\n",
       " 'columntransformer__pipeline-1__onehotencoder__dtype',\n",
       " 'columntransformer__pipeline-1__onehotencoder__handle_unknown',\n",
       " 'columntransformer__pipeline-1__onehotencoder__max_categories',\n",
       " 'columntransformer__pipeline-1__onehotencoder__min_frequency',\n",
       " 'columntransformer__pipeline-1__onehotencoder__sparse',\n",
       " 'columntransformer__pipeline-1__steps',\n",
       " 'columntransformer__pipeline-1__verbose',\n",
       " 'columntransformer__pipeline-2',\n",
       " 'columntransformer__pipeline-2__memory',\n",
       " 'columntransformer__pipeline-2__ordinalencoder',\n",
       " 'columntransformer__pipeline-2__ordinalencoder__categories',\n",
       " 'columntransformer__pipeline-2__ordinalencoder__dtype',\n",
       " 'columntransformer__pipeline-2__ordinalencoder__encoded_missing_value',\n",
       " 'columntransformer__pipeline-2__ordinalencoder__handle_unknown',\n",
       " 'columntransformer__pipeline-2__ordinalencoder__unknown_value',\n",
       " 'columntransformer__pipeline-2__steps',\n",
       " 'columntransformer__pipeline-2__verbose',\n",
       " 'columntransformer__pipeline-3',\n",
       " 'columntransformer__pipeline-3__memory',\n",
       " 'columntransformer__pipeline-3__standardscaler',\n",
       " 'columntransformer__pipeline-3__standardscaler__copy',\n",
       " 'columntransformer__pipeline-3__standardscaler__with_mean',\n",
       " 'columntransformer__pipeline-3__standardscaler__with_std',\n",
       " 'columntransformer__pipeline-3__steps',\n",
       " 'columntransformer__pipeline-3__verbose',\n",
       " 'columntransformer__pipeline-4',\n",
       " 'columntransformer__pipeline-4__functiontransformer',\n",
       " 'columntransformer__pipeline-4__functiontransformer__accept_sparse',\n",
       " 'columntransformer__pipeline-4__functiontransformer__check_inverse',\n",
       " 'columntransformer__pipeline-4__functiontransformer__feature_names_out',\n",
       " 'columntransformer__pipeline-4__functiontransformer__func',\n",
       " 'columntransformer__pipeline-4__functiontransformer__inv_kw_args',\n",
       " 'columntransformer__pipeline-4__functiontransformer__inverse_func',\n",
       " 'columntransformer__pipeline-4__functiontransformer__kw_args',\n",
       " 'columntransformer__pipeline-4__functiontransformer__validate',\n",
       " 'columntransformer__pipeline-4__memory',\n",
       " 'columntransformer__pipeline-4__steps',\n",
       " 'columntransformer__pipeline-4__verbose',\n",
       " 'columntransformer__remainder',\n",
       " 'columntransformer__sparse_threshold',\n",
       " 'columntransformer__transformer_weights',\n",
       " 'columntransformer__transformers',\n",
       " 'columntransformer__verbose',\n",
       " 'columntransformer__verbose_feature_names_out',\n",
       " 'gradientboostingclassifier',\n",
       " 'gradientboostingclassifier__ccp_alpha',\n",
       " 'gradientboostingclassifier__criterion',\n",
       " 'gradientboostingclassifier__init',\n",
       " 'gradientboostingclassifier__learning_rate',\n",
       " 'gradientboostingclassifier__loss',\n",
       " 'gradientboostingclassifier__max_depth',\n",
       " 'gradientboostingclassifier__max_features',\n",
       " 'gradientboostingclassifier__max_leaf_nodes',\n",
       " 'gradientboostingclassifier__min_impurity_decrease',\n",
       " 'gradientboostingclassifier__min_samples_leaf',\n",
       " 'gradientboostingclassifier__min_samples_split',\n",
       " 'gradientboostingclassifier__min_weight_fraction_leaf',\n",
       " 'gradientboostingclassifier__n_estimators',\n",
       " 'gradientboostingclassifier__n_iter_no_change',\n",
       " 'gradientboostingclassifier__random_state',\n",
       " 'gradientboostingclassifier__subsample',\n",
       " 'gradientboostingclassifier__tol',\n",
       " 'gradientboostingclassifier__validation_fraction',\n",
       " 'gradientboostingclassifier__verbose',\n",
       " 'gradientboostingclassifier__warm_start',\n",
       " 'memory',\n",
       " 'steps',\n",
       " 'verbose']"
      ]
     },
     "execution_count": 113,
     "metadata": {},
     "output_type": "execute_result"
    }
   ],
   "source": [
    "sorted(cgbc.get_params().keys())"
   ]
  },
  {
   "cell_type": "code",
   "execution_count": 129,
   "id": "ca0f6bd8",
   "metadata": {},
   "outputs": [],
   "source": [
    "param_grid = {\n",
    "    \"gradientboostingclassifier__n_estimators\" : np.arange(5, 10, 500),\n",
    "    \"gradientboostingclassifier__max_depth\": np.arange( 3, 5, 15),\n",
    "    \"gradientboostingclassifier__learning_rate\": np.arange(0.01, 0.1,  10)\n",
    "}"
   ]
  },
  {
   "cell_type": "code",
   "execution_count": 130,
   "id": "f606f063",
   "metadata": {},
   "outputs": [],
   "source": [
    "stratified_kfold = StratifiedKFold(n_splits=3, shuffle=True, random_state=42)"
   ]
  },
  {
   "cell_type": "code",
   "execution_count": 133,
   "id": "6b6034f0",
   "metadata": {},
   "outputs": [],
   "source": [
    "search = HalvingGridSearchCV(cgbc, param_grid, scoring=\"roc_auc\",\n",
    "                             cv=3, n_jobs=-2)"
   ]
  },
  {
   "cell_type": "code",
   "execution_count": 134,
   "id": "9ee66e3e",
   "metadata": {},
   "outputs": [
    {
     "data": {
      "text/html": [
       "<style>#sk-container-id-9 {color: black;background-color: white;}#sk-container-id-9 pre{padding: 0;}#sk-container-id-9 div.sk-toggleable {background-color: white;}#sk-container-id-9 label.sk-toggleable__label {cursor: pointer;display: block;width: 100%;margin-bottom: 0;padding: 0.3em;box-sizing: border-box;text-align: center;}#sk-container-id-9 label.sk-toggleable__label-arrow:before {content: \"▸\";float: left;margin-right: 0.25em;color: #696969;}#sk-container-id-9 label.sk-toggleable__label-arrow:hover:before {color: black;}#sk-container-id-9 div.sk-estimator:hover label.sk-toggleable__label-arrow:before {color: black;}#sk-container-id-9 div.sk-toggleable__content {max-height: 0;max-width: 0;overflow: hidden;text-align: left;background-color: #f0f8ff;}#sk-container-id-9 div.sk-toggleable__content pre {margin: 0.2em;color: black;border-radius: 0.25em;background-color: #f0f8ff;}#sk-container-id-9 input.sk-toggleable__control:checked~div.sk-toggleable__content {max-height: 200px;max-width: 100%;overflow: auto;}#sk-container-id-9 input.sk-toggleable__control:checked~label.sk-toggleable__label-arrow:before {content: \"▾\";}#sk-container-id-9 div.sk-estimator input.sk-toggleable__control:checked~label.sk-toggleable__label {background-color: #d4ebff;}#sk-container-id-9 div.sk-label input.sk-toggleable__control:checked~label.sk-toggleable__label {background-color: #d4ebff;}#sk-container-id-9 input.sk-hidden--visually {border: 0;clip: rect(1px 1px 1px 1px);clip: rect(1px, 1px, 1px, 1px);height: 1px;margin: -1px;overflow: hidden;padding: 0;position: absolute;width: 1px;}#sk-container-id-9 div.sk-estimator {font-family: monospace;background-color: #f0f8ff;border: 1px dotted black;border-radius: 0.25em;box-sizing: border-box;margin-bottom: 0.5em;}#sk-container-id-9 div.sk-estimator:hover {background-color: #d4ebff;}#sk-container-id-9 div.sk-parallel-item::after {content: \"\";width: 100%;border-bottom: 1px solid gray;flex-grow: 1;}#sk-container-id-9 div.sk-label:hover label.sk-toggleable__label {background-color: #d4ebff;}#sk-container-id-9 div.sk-serial::before {content: \"\";position: absolute;border-left: 1px solid gray;box-sizing: border-box;top: 0;bottom: 0;left: 50%;z-index: 0;}#sk-container-id-9 div.sk-serial {display: flex;flex-direction: column;align-items: center;background-color: white;padding-right: 0.2em;padding-left: 0.2em;position: relative;}#sk-container-id-9 div.sk-item {position: relative;z-index: 1;}#sk-container-id-9 div.sk-parallel {display: flex;align-items: stretch;justify-content: center;background-color: white;position: relative;}#sk-container-id-9 div.sk-item::before, #sk-container-id-9 div.sk-parallel-item::before {content: \"\";position: absolute;border-left: 1px solid gray;box-sizing: border-box;top: 0;bottom: 0;left: 50%;z-index: -1;}#sk-container-id-9 div.sk-parallel-item {display: flex;flex-direction: column;z-index: 1;position: relative;background-color: white;}#sk-container-id-9 div.sk-parallel-item:first-child::after {align-self: flex-end;width: 50%;}#sk-container-id-9 div.sk-parallel-item:last-child::after {align-self: flex-start;width: 50%;}#sk-container-id-9 div.sk-parallel-item:only-child::after {width: 0;}#sk-container-id-9 div.sk-dashed-wrapped {border: 1px dashed gray;margin: 0 0.4em 0.5em 0.4em;box-sizing: border-box;padding-bottom: 0.4em;background-color: white;}#sk-container-id-9 div.sk-label label {font-family: monospace;font-weight: bold;display: inline-block;line-height: 1.2em;}#sk-container-id-9 div.sk-label-container {text-align: center;}#sk-container-id-9 div.sk-container {/* jupyter's `normalize.less` sets `[hidden] { display: none; }` but bootstrap.min.css set `[hidden] { display: none !important; }` so we also need the `!important` here to be able to override the default hidden behavior on the sphinx rendered scikit-learn.org. See: https://github.com/scikit-learn/scikit-learn/issues/21755 */display: inline-block !important;position: relative;}#sk-container-id-9 div.sk-text-repr-fallback {display: none;}</style><div id=\"sk-container-id-9\" class=\"sk-top-container\"><div class=\"sk-text-repr-fallback\"><pre>HalvingGridSearchCV(cv=3,\n",
       "                    estimator=Pipeline(steps=[(&#x27;columntransformer&#x27;,\n",
       "                                               ColumnTransformer(transformers=[(&#x27;pipeline-1&#x27;,\n",
       "                                                                                Pipeline(steps=[(&#x27;onehotencoder&#x27;,\n",
       "                                                                                                 OneHotEncoder(handle_unknown=&#x27;ignore&#x27;))]),\n",
       "                                                                                [&#x27;INSTITUCION&#x27;,\n",
       "                                                                                 &#x27;GENERO&#x27;,\n",
       "                                                                                 &#x27;JORNADA&#x27;,\n",
       "                                                                                 &#x27;PAIS_ORIGEN&#x27;,\n",
       "                                                                                 &#x27;DISCAPACIDAD&#x27;,\n",
       "                                                                                 &#x27;SRPA&#x27;,\n",
       "                                                                                 &#x27;INSTITUCION_SECTOR&#x27;,\n",
       "                                                                                 &#x27;INSTITUCION_MODELO&#x27;,\n",
       "                                                                                 &#x27;INSTITUCION_APOYO_ACADEMICO_ESPECIAL&#x27;,\n",
       "                                                                                 &#x27;INSTI...\n",
       "                                                                                 &#x27;INSTITUCION_ESPECIALIDAD_INDUSTRIAL&#x27;,\n",
       "                                                                                 &#x27;INSTITUCION_ESPECIALIDAD_NO_APLICA&#x27;,\n",
       "                                                                                 &#x27;INSTITUCION_ESPECIALIDAD_OTRO&#x27;])])),\n",
       "                                              (&#x27;gradientboostingclassifier&#x27;,\n",
       "                                               GradientBoostingClassifier())]),\n",
       "                    n_jobs=-2,\n",
       "                    param_grid={&#x27;gradientboostingclassifier__learning_rate&#x27;: array([0.01]),\n",
       "                                &#x27;gradientboostingclassifier__max_depth&#x27;: array([3]),\n",
       "                                &#x27;gradientboostingclassifier__n_estimators&#x27;: array([5])},\n",
       "                    scoring=&#x27;roc_auc&#x27;)</pre><b>In a Jupyter environment, please rerun this cell to show the HTML representation or trust the notebook. <br />On GitHub, the HTML representation is unable to render, please try loading this page with nbviewer.org.</b></div><div class=\"sk-container\" hidden><div class=\"sk-item sk-dashed-wrapped\"><div class=\"sk-label-container\"><div class=\"sk-label sk-toggleable\"><input class=\"sk-toggleable__control sk-hidden--visually\" id=\"sk-estimator-id-93\" type=\"checkbox\" ><label for=\"sk-estimator-id-93\" class=\"sk-toggleable__label sk-toggleable__label-arrow\">HalvingGridSearchCV</label><div class=\"sk-toggleable__content\"><pre>HalvingGridSearchCV(cv=3,\n",
       "                    estimator=Pipeline(steps=[(&#x27;columntransformer&#x27;,\n",
       "                                               ColumnTransformer(transformers=[(&#x27;pipeline-1&#x27;,\n",
       "                                                                                Pipeline(steps=[(&#x27;onehotencoder&#x27;,\n",
       "                                                                                                 OneHotEncoder(handle_unknown=&#x27;ignore&#x27;))]),\n",
       "                                                                                [&#x27;INSTITUCION&#x27;,\n",
       "                                                                                 &#x27;GENERO&#x27;,\n",
       "                                                                                 &#x27;JORNADA&#x27;,\n",
       "                                                                                 &#x27;PAIS_ORIGEN&#x27;,\n",
       "                                                                                 &#x27;DISCAPACIDAD&#x27;,\n",
       "                                                                                 &#x27;SRPA&#x27;,\n",
       "                                                                                 &#x27;INSTITUCION_SECTOR&#x27;,\n",
       "                                                                                 &#x27;INSTITUCION_MODELO&#x27;,\n",
       "                                                                                 &#x27;INSTITUCION_APOYO_ACADEMICO_ESPECIAL&#x27;,\n",
       "                                                                                 &#x27;INSTI...\n",
       "                                                                                 &#x27;INSTITUCION_ESPECIALIDAD_INDUSTRIAL&#x27;,\n",
       "                                                                                 &#x27;INSTITUCION_ESPECIALIDAD_NO_APLICA&#x27;,\n",
       "                                                                                 &#x27;INSTITUCION_ESPECIALIDAD_OTRO&#x27;])])),\n",
       "                                              (&#x27;gradientboostingclassifier&#x27;,\n",
       "                                               GradientBoostingClassifier())]),\n",
       "                    n_jobs=-2,\n",
       "                    param_grid={&#x27;gradientboostingclassifier__learning_rate&#x27;: array([0.01]),\n",
       "                                &#x27;gradientboostingclassifier__max_depth&#x27;: array([3]),\n",
       "                                &#x27;gradientboostingclassifier__n_estimators&#x27;: array([5])},\n",
       "                    scoring=&#x27;roc_auc&#x27;)</pre></div></div></div><div class=\"sk-parallel\"><div class=\"sk-parallel-item\"><div class=\"sk-item\"><div class=\"sk-label-container\"><div class=\"sk-label sk-toggleable\"><input class=\"sk-toggleable__control sk-hidden--visually\" id=\"sk-estimator-id-94\" type=\"checkbox\" ><label for=\"sk-estimator-id-94\" class=\"sk-toggleable__label sk-toggleable__label-arrow\">estimator: Pipeline</label><div class=\"sk-toggleable__content\"><pre>Pipeline(steps=[(&#x27;columntransformer&#x27;,\n",
       "                 ColumnTransformer(transformers=[(&#x27;pipeline-1&#x27;,\n",
       "                                                  Pipeline(steps=[(&#x27;onehotencoder&#x27;,\n",
       "                                                                   OneHotEncoder(handle_unknown=&#x27;ignore&#x27;))]),\n",
       "                                                  [&#x27;INSTITUCION&#x27;, &#x27;GENERO&#x27;,\n",
       "                                                   &#x27;JORNADA&#x27;, &#x27;PAIS_ORIGEN&#x27;,\n",
       "                                                   &#x27;DISCAPACIDAD&#x27;, &#x27;SRPA&#x27;,\n",
       "                                                   &#x27;INSTITUCION_SECTOR&#x27;,\n",
       "                                                   &#x27;INSTITUCION_MODELO&#x27;,\n",
       "                                                   &#x27;INSTITUCION_APOYO_ACADEMICO_ESPECIAL&#x27;,\n",
       "                                                   &#x27;INSTITUCION_ZONA&#x27;,\n",
       "                                                   &#x27;INSTITUCION_CARACTER&#x27;...\n",
       "                                                   &#x27;INSTITUCION_NIVEL_PREESCOLAR&#x27;,\n",
       "                                                   &#x27;INSTITUCION_NIVEL_PRIMERA_INFANCIA&#x27;,\n",
       "                                                   &#x27;INSTITUCION_ESPECIALIDAD_ACADÉMICA&#x27;,\n",
       "                                                   &#x27;INSTITUCION_ESPECIALIDAD_AGROPECUARIO&#x27;,\n",
       "                                                   &#x27;INSTITUCION_ESPECIALIDAD_COMERCIAL&#x27;,\n",
       "                                                   &#x27;INSTITUCION_ESPECIALIDAD_INDUSTRIAL&#x27;,\n",
       "                                                   &#x27;INSTITUCION_ESPECIALIDAD_NO_APLICA&#x27;,\n",
       "                                                   &#x27;INSTITUCION_ESPECIALIDAD_OTRO&#x27;])])),\n",
       "                (&#x27;gradientboostingclassifier&#x27;, GradientBoostingClassifier())])</pre></div></div></div><div class=\"sk-serial\"><div class=\"sk-item\"><div class=\"sk-serial\"><div class=\"sk-item sk-dashed-wrapped\"><div class=\"sk-label-container\"><div class=\"sk-label sk-toggleable\"><input class=\"sk-toggleable__control sk-hidden--visually\" id=\"sk-estimator-id-95\" type=\"checkbox\" ><label for=\"sk-estimator-id-95\" class=\"sk-toggleable__label sk-toggleable__label-arrow\">columntransformer: ColumnTransformer</label><div class=\"sk-toggleable__content\"><pre>ColumnTransformer(transformers=[(&#x27;pipeline-1&#x27;,\n",
       "                                 Pipeline(steps=[(&#x27;onehotencoder&#x27;,\n",
       "                                                  OneHotEncoder(handle_unknown=&#x27;ignore&#x27;))]),\n",
       "                                 [&#x27;INSTITUCION&#x27;, &#x27;GENERO&#x27;, &#x27;JORNADA&#x27;,\n",
       "                                  &#x27;PAIS_ORIGEN&#x27;, &#x27;DISCAPACIDAD&#x27;, &#x27;SRPA&#x27;,\n",
       "                                  &#x27;INSTITUCION_SECTOR&#x27;, &#x27;INSTITUCION_MODELO&#x27;,\n",
       "                                  &#x27;INSTITUCION_APOYO_ACADEMICO_ESPECIAL&#x27;,\n",
       "                                  &#x27;INSTITUCION_ZONA&#x27;, &#x27;INSTITUCION_CARACTER&#x27;,\n",
       "                                  &#x27;INSTITUCION_ESTADO&#x27;,\n",
       "                                  &#x27;INSTITUCION_PR...\n",
       "                                  &#x27;INSTITUCION_NIVEL_SECUNDARIA_PRIMARIA&#x27;,\n",
       "                                  &#x27;INSTITUCION_NIVEL_MEDIA&#x27;,\n",
       "                                  &#x27;INSTITUCION_NIVEL_PREESCOLAR&#x27;,\n",
       "                                  &#x27;INSTITUCION_NIVEL_PRIMERA_INFANCIA&#x27;,\n",
       "                                  &#x27;INSTITUCION_ESPECIALIDAD_ACADÉMICA&#x27;,\n",
       "                                  &#x27;INSTITUCION_ESPECIALIDAD_AGROPECUARIO&#x27;,\n",
       "                                  &#x27;INSTITUCION_ESPECIALIDAD_COMERCIAL&#x27;,\n",
       "                                  &#x27;INSTITUCION_ESPECIALIDAD_INDUSTRIAL&#x27;,\n",
       "                                  &#x27;INSTITUCION_ESPECIALIDAD_NO_APLICA&#x27;,\n",
       "                                  &#x27;INSTITUCION_ESPECIALIDAD_OTRO&#x27;])])</pre></div></div></div><div class=\"sk-parallel\"><div class=\"sk-parallel-item\"><div class=\"sk-item\"><div class=\"sk-label-container\"><div class=\"sk-label sk-toggleable\"><input class=\"sk-toggleable__control sk-hidden--visually\" id=\"sk-estimator-id-96\" type=\"checkbox\" ><label for=\"sk-estimator-id-96\" class=\"sk-toggleable__label sk-toggleable__label-arrow\">pipeline-1</label><div class=\"sk-toggleable__content\"><pre>[&#x27;INSTITUCION&#x27;, &#x27;GENERO&#x27;, &#x27;JORNADA&#x27;, &#x27;PAIS_ORIGEN&#x27;, &#x27;DISCAPACIDAD&#x27;, &#x27;SRPA&#x27;, &#x27;INSTITUCION_SECTOR&#x27;, &#x27;INSTITUCION_MODELO&#x27;, &#x27;INSTITUCION_APOYO_ACADEMICO_ESPECIAL&#x27;, &#x27;INSTITUCION_ZONA&#x27;, &#x27;INSTITUCION_CARACTER&#x27;, &#x27;INSTITUCION_ESTADO&#x27;, &#x27;INSTITUCION_PRESTADOR_DE_SERVICIO&#x27;]</pre></div></div></div><div class=\"sk-serial\"><div class=\"sk-item\"><div class=\"sk-serial\"><div class=\"sk-item\"><div class=\"sk-estimator sk-toggleable\"><input class=\"sk-toggleable__control sk-hidden--visually\" id=\"sk-estimator-id-97\" type=\"checkbox\" ><label for=\"sk-estimator-id-97\" class=\"sk-toggleable__label sk-toggleable__label-arrow\">OneHotEncoder</label><div class=\"sk-toggleable__content\"><pre>OneHotEncoder(handle_unknown=&#x27;ignore&#x27;)</pre></div></div></div></div></div></div></div></div><div class=\"sk-parallel-item\"><div class=\"sk-item\"><div class=\"sk-label-container\"><div class=\"sk-label sk-toggleable\"><input class=\"sk-toggleable__control sk-hidden--visually\" id=\"sk-estimator-id-98\" type=\"checkbox\" ><label for=\"sk-estimator-id-98\" class=\"sk-toggleable__label sk-toggleable__label-arrow\">pipeline-2</label><div class=\"sk-toggleable__content\"><pre>[&#x27;GRADO_COD&#x27;, &#x27;ESTRATO&#x27;, &#x27;INSTITUCION_TAMAÑO&#x27;]</pre></div></div></div><div class=\"sk-serial\"><div class=\"sk-item\"><div class=\"sk-serial\"><div class=\"sk-item\"><div class=\"sk-estimator sk-toggleable\"><input class=\"sk-toggleable__control sk-hidden--visually\" id=\"sk-estimator-id-99\" type=\"checkbox\" ><label for=\"sk-estimator-id-99\" class=\"sk-toggleable__label sk-toggleable__label-arrow\">OrdinalEncoder</label><div class=\"sk-toggleable__content\"><pre>OrdinalEncoder(categories=[[-2.0, -1.0, 0.0, 1.0, 2.0, 3.0, 4.0, 5.0, 6.0, 7.0,\n",
       "                            8.0, 9.0, 10.0, 11.0, 12.0, 20.0, 21.0, 22.0, 23.0,\n",
       "                            24.0, 25.0, 26.0],\n",
       "                           [&#x27;ESTRATO 0&#x27;, &#x27;ESTRATO 1&#x27;, &#x27;ESTRATO 2&#x27;, &#x27;ESTRATO 3&#x27;,\n",
       "                            &#x27;ESTRATO 4&#x27;, &#x27;ESTRATO 5&#x27;, &#x27;ESTRATO 6&#x27;],\n",
       "                           [&#x27;Pequeña&#x27;, &#x27;Mediana&#x27;, &#x27;Grande&#x27;]])</pre></div></div></div></div></div></div></div></div><div class=\"sk-parallel-item\"><div class=\"sk-item\"><div class=\"sk-label-container\"><div class=\"sk-label sk-toggleable\"><input class=\"sk-toggleable__control sk-hidden--visually\" id=\"sk-estimator-id-100\" type=\"checkbox\" ><label for=\"sk-estimator-id-100\" class=\"sk-toggleable__label sk-toggleable__label-arrow\">pipeline-3</label><div class=\"sk-toggleable__content\"><pre>[&#x27;EDAD&#x27;, &#x27;INSTITUCION_NUMERO_DE_SEDES&#x27;]</pre></div></div></div><div class=\"sk-serial\"><div class=\"sk-item\"><div class=\"sk-serial\"><div class=\"sk-item\"><div class=\"sk-estimator sk-toggleable\"><input class=\"sk-toggleable__control sk-hidden--visually\" id=\"sk-estimator-id-101\" type=\"checkbox\" ><label for=\"sk-estimator-id-101\" class=\"sk-toggleable__label sk-toggleable__label-arrow\">StandardScaler</label><div class=\"sk-toggleable__content\"><pre>StandardScaler()</pre></div></div></div></div></div></div></div></div><div class=\"sk-parallel-item\"><div class=\"sk-item\"><div class=\"sk-label-container\"><div class=\"sk-label sk-toggleable\"><input class=\"sk-toggleable__control sk-hidden--visually\" id=\"sk-estimator-id-102\" type=\"checkbox\" ><label for=\"sk-estimator-id-102\" class=\"sk-toggleable__label sk-toggleable__label-arrow\">pipeline-4</label><div class=\"sk-toggleable__content\"><pre>[&#x27;INSTITUCION_NIVEL_BASICA_PRIMARIA&#x27;, &#x27;INSTITUCION_NIVEL_SECUNDARIA_PRIMARIA&#x27;, &#x27;INSTITUCION_NIVEL_MEDIA&#x27;, &#x27;INSTITUCION_NIVEL_PREESCOLAR&#x27;, &#x27;INSTITUCION_NIVEL_PRIMERA_INFANCIA&#x27;, &#x27;INSTITUCION_ESPECIALIDAD_ACADÉMICA&#x27;, &#x27;INSTITUCION_ESPECIALIDAD_AGROPECUARIO&#x27;, &#x27;INSTITUCION_ESPECIALIDAD_COMERCIAL&#x27;, &#x27;INSTITUCION_ESPECIALIDAD_INDUSTRIAL&#x27;, &#x27;INSTITUCION_ESPECIALIDAD_NO_APLICA&#x27;, &#x27;INSTITUCION_ESPECIALIDAD_OTRO&#x27;]</pre></div></div></div><div class=\"sk-serial\"><div class=\"sk-item\"><div class=\"sk-serial\"><div class=\"sk-item\"><div class=\"sk-estimator sk-toggleable\"><input class=\"sk-toggleable__control sk-hidden--visually\" id=\"sk-estimator-id-103\" type=\"checkbox\" ><label for=\"sk-estimator-id-103\" class=\"sk-toggleable__label sk-toggleable__label-arrow\">FunctionTransformer</label><div class=\"sk-toggleable__content\"><pre>FunctionTransformer(func=&lt;function boolean_transformation at 0x000001D1392C3310&gt;)</pre></div></div></div></div></div></div></div></div></div></div><div class=\"sk-item\"><div class=\"sk-estimator sk-toggleable\"><input class=\"sk-toggleable__control sk-hidden--visually\" id=\"sk-estimator-id-104\" type=\"checkbox\" ><label for=\"sk-estimator-id-104\" class=\"sk-toggleable__label sk-toggleable__label-arrow\">GradientBoostingClassifier</label><div class=\"sk-toggleable__content\"><pre>GradientBoostingClassifier()</pre></div></div></div></div></div></div></div></div></div></div></div></div>"
      ],
      "text/plain": [
       "HalvingGridSearchCV(cv=3,\n",
       "                    estimator=Pipeline(steps=[('columntransformer',\n",
       "                                               ColumnTransformer(transformers=[('pipeline-1',\n",
       "                                                                                Pipeline(steps=[('onehotencoder',\n",
       "                                                                                                 OneHotEncoder(handle_unknown='ignore'))]),\n",
       "                                                                                ['INSTITUCION',\n",
       "                                                                                 'GENERO',\n",
       "                                                                                 'JORNADA',\n",
       "                                                                                 'PAIS_ORIGEN',\n",
       "                                                                                 'DISCAPACIDAD',\n",
       "                                                                                 'SRPA',\n",
       "                                                                                 'INSTITUCION_SECTOR',\n",
       "                                                                                 'INSTITUCION_MODELO',\n",
       "                                                                                 'INSTITUCION_APOYO_ACADEMICO_ESPECIAL',\n",
       "                                                                                 'INSTI...\n",
       "                                                                                 'INSTITUCION_ESPECIALIDAD_INDUSTRIAL',\n",
       "                                                                                 'INSTITUCION_ESPECIALIDAD_NO_APLICA',\n",
       "                                                                                 'INSTITUCION_ESPECIALIDAD_OTRO'])])),\n",
       "                                              ('gradientboostingclassifier',\n",
       "                                               GradientBoostingClassifier())]),\n",
       "                    n_jobs=-2,\n",
       "                    param_grid={'gradientboostingclassifier__learning_rate': array([0.01]),\n",
       "                                'gradientboostingclassifier__max_depth': array([3]),\n",
       "                                'gradientboostingclassifier__n_estimators': array([5])},\n",
       "                    scoring='roc_auc')"
      ]
     },
     "execution_count": 134,
     "metadata": {},
     "output_type": "execute_result"
    }
   ],
   "source": [
    "search.fit(X_train, y_train)"
   ]
  },
  {
   "cell_type": "code",
   "execution_count": 135,
   "id": "4eb21a96",
   "metadata": {},
   "outputs": [
    {
     "data": {
      "text/plain": [
       "{'gradientboostingclassifier__learning_rate': 0.01,\n",
       " 'gradientboostingclassifier__max_depth': 3,\n",
       " 'gradientboostingclassifier__n_estimators': 5}"
      ]
     },
     "execution_count": 135,
     "metadata": {},
     "output_type": "execute_result"
    }
   ],
   "source": [
    "search.best_params_"
   ]
  },
  {
   "cell_type": "code",
   "execution_count": 136,
   "id": "cb539d42",
   "metadata": {},
   "outputs": [
    {
     "data": {
      "text/plain": [
       "0.665949384275466"
      ]
     },
     "execution_count": 136,
     "metadata": {},
     "output_type": "execute_result"
    }
   ],
   "source": [
    "search.best_score_"
   ]
  },
  {
   "cell_type": "code",
   "execution_count": 141,
   "id": "bc2179d1",
   "metadata": {},
   "outputs": [],
   "source": [
    "gbc_test = GradientBoostingClassifier(learning_rate=0.01,max_depth= 3,n_estimators=5, random_state = 42)"
   ]
  },
  {
   "cell_type": "code",
   "execution_count": 142,
   "id": "d30069a0",
   "metadata": {},
   "outputs": [],
   "source": [
    "gbc_test = make_pipeline(preprocessor, gbc_test)"
   ]
  },
  {
   "cell_type": "code",
   "execution_count": 143,
   "id": "c4b2fd35",
   "metadata": {},
   "outputs": [
    {
     "data": {
      "text/html": [
       "<style>#sk-container-id-10 {color: black;background-color: white;}#sk-container-id-10 pre{padding: 0;}#sk-container-id-10 div.sk-toggleable {background-color: white;}#sk-container-id-10 label.sk-toggleable__label {cursor: pointer;display: block;width: 100%;margin-bottom: 0;padding: 0.3em;box-sizing: border-box;text-align: center;}#sk-container-id-10 label.sk-toggleable__label-arrow:before {content: \"▸\";float: left;margin-right: 0.25em;color: #696969;}#sk-container-id-10 label.sk-toggleable__label-arrow:hover:before {color: black;}#sk-container-id-10 div.sk-estimator:hover label.sk-toggleable__label-arrow:before {color: black;}#sk-container-id-10 div.sk-toggleable__content {max-height: 0;max-width: 0;overflow: hidden;text-align: left;background-color: #f0f8ff;}#sk-container-id-10 div.sk-toggleable__content pre {margin: 0.2em;color: black;border-radius: 0.25em;background-color: #f0f8ff;}#sk-container-id-10 input.sk-toggleable__control:checked~div.sk-toggleable__content {max-height: 200px;max-width: 100%;overflow: auto;}#sk-container-id-10 input.sk-toggleable__control:checked~label.sk-toggleable__label-arrow:before {content: \"▾\";}#sk-container-id-10 div.sk-estimator input.sk-toggleable__control:checked~label.sk-toggleable__label {background-color: #d4ebff;}#sk-container-id-10 div.sk-label input.sk-toggleable__control:checked~label.sk-toggleable__label {background-color: #d4ebff;}#sk-container-id-10 input.sk-hidden--visually {border: 0;clip: rect(1px 1px 1px 1px);clip: rect(1px, 1px, 1px, 1px);height: 1px;margin: -1px;overflow: hidden;padding: 0;position: absolute;width: 1px;}#sk-container-id-10 div.sk-estimator {font-family: monospace;background-color: #f0f8ff;border: 1px dotted black;border-radius: 0.25em;box-sizing: border-box;margin-bottom: 0.5em;}#sk-container-id-10 div.sk-estimator:hover {background-color: #d4ebff;}#sk-container-id-10 div.sk-parallel-item::after {content: \"\";width: 100%;border-bottom: 1px solid gray;flex-grow: 1;}#sk-container-id-10 div.sk-label:hover label.sk-toggleable__label {background-color: #d4ebff;}#sk-container-id-10 div.sk-serial::before {content: \"\";position: absolute;border-left: 1px solid gray;box-sizing: border-box;top: 0;bottom: 0;left: 50%;z-index: 0;}#sk-container-id-10 div.sk-serial {display: flex;flex-direction: column;align-items: center;background-color: white;padding-right: 0.2em;padding-left: 0.2em;position: relative;}#sk-container-id-10 div.sk-item {position: relative;z-index: 1;}#sk-container-id-10 div.sk-parallel {display: flex;align-items: stretch;justify-content: center;background-color: white;position: relative;}#sk-container-id-10 div.sk-item::before, #sk-container-id-10 div.sk-parallel-item::before {content: \"\";position: absolute;border-left: 1px solid gray;box-sizing: border-box;top: 0;bottom: 0;left: 50%;z-index: -1;}#sk-container-id-10 div.sk-parallel-item {display: flex;flex-direction: column;z-index: 1;position: relative;background-color: white;}#sk-container-id-10 div.sk-parallel-item:first-child::after {align-self: flex-end;width: 50%;}#sk-container-id-10 div.sk-parallel-item:last-child::after {align-self: flex-start;width: 50%;}#sk-container-id-10 div.sk-parallel-item:only-child::after {width: 0;}#sk-container-id-10 div.sk-dashed-wrapped {border: 1px dashed gray;margin: 0 0.4em 0.5em 0.4em;box-sizing: border-box;padding-bottom: 0.4em;background-color: white;}#sk-container-id-10 div.sk-label label {font-family: monospace;font-weight: bold;display: inline-block;line-height: 1.2em;}#sk-container-id-10 div.sk-label-container {text-align: center;}#sk-container-id-10 div.sk-container {/* jupyter's `normalize.less` sets `[hidden] { display: none; }` but bootstrap.min.css set `[hidden] { display: none !important; }` so we also need the `!important` here to be able to override the default hidden behavior on the sphinx rendered scikit-learn.org. See: https://github.com/scikit-learn/scikit-learn/issues/21755 */display: inline-block !important;position: relative;}#sk-container-id-10 div.sk-text-repr-fallback {display: none;}</style><div id=\"sk-container-id-10\" class=\"sk-top-container\"><div class=\"sk-text-repr-fallback\"><pre>Pipeline(steps=[(&#x27;columntransformer&#x27;,\n",
       "                 ColumnTransformer(transformers=[(&#x27;pipeline-1&#x27;,\n",
       "                                                  Pipeline(steps=[(&#x27;onehotencoder&#x27;,\n",
       "                                                                   OneHotEncoder(handle_unknown=&#x27;ignore&#x27;))]),\n",
       "                                                  [&#x27;INSTITUCION&#x27;, &#x27;GENERO&#x27;,\n",
       "                                                   &#x27;JORNADA&#x27;, &#x27;PAIS_ORIGEN&#x27;,\n",
       "                                                   &#x27;DISCAPACIDAD&#x27;, &#x27;SRPA&#x27;,\n",
       "                                                   &#x27;INSTITUCION_SECTOR&#x27;,\n",
       "                                                   &#x27;INSTITUCION_MODELO&#x27;,\n",
       "                                                   &#x27;INSTITUCION_APOYO_ACADEMICO_ESPECIAL&#x27;,\n",
       "                                                   &#x27;INSTITUCION_ZONA&#x27;,\n",
       "                                                   &#x27;INSTITUCION_CARACTER&#x27;...\n",
       "                                                   &#x27;INSTITUCION_NIVEL_PRIMERA_INFANCIA&#x27;,\n",
       "                                                   &#x27;INSTITUCION_ESPECIALIDAD_ACADÉMICA&#x27;,\n",
       "                                                   &#x27;INSTITUCION_ESPECIALIDAD_AGROPECUARIO&#x27;,\n",
       "                                                   &#x27;INSTITUCION_ESPECIALIDAD_COMERCIAL&#x27;,\n",
       "                                                   &#x27;INSTITUCION_ESPECIALIDAD_INDUSTRIAL&#x27;,\n",
       "                                                   &#x27;INSTITUCION_ESPECIALIDAD_NO_APLICA&#x27;,\n",
       "                                                   &#x27;INSTITUCION_ESPECIALIDAD_OTRO&#x27;])])),\n",
       "                (&#x27;gradientboostingclassifier&#x27;,\n",
       "                 GradientBoostingClassifier(learning_rate=0.01, n_estimators=5,\n",
       "                                            random_state=42))])</pre><b>In a Jupyter environment, please rerun this cell to show the HTML representation or trust the notebook. <br />On GitHub, the HTML representation is unable to render, please try loading this page with nbviewer.org.</b></div><div class=\"sk-container\" hidden><div class=\"sk-item sk-dashed-wrapped\"><div class=\"sk-label-container\"><div class=\"sk-label sk-toggleable\"><input class=\"sk-toggleable__control sk-hidden--visually\" id=\"sk-estimator-id-105\" type=\"checkbox\" ><label for=\"sk-estimator-id-105\" class=\"sk-toggleable__label sk-toggleable__label-arrow\">Pipeline</label><div class=\"sk-toggleable__content\"><pre>Pipeline(steps=[(&#x27;columntransformer&#x27;,\n",
       "                 ColumnTransformer(transformers=[(&#x27;pipeline-1&#x27;,\n",
       "                                                  Pipeline(steps=[(&#x27;onehotencoder&#x27;,\n",
       "                                                                   OneHotEncoder(handle_unknown=&#x27;ignore&#x27;))]),\n",
       "                                                  [&#x27;INSTITUCION&#x27;, &#x27;GENERO&#x27;,\n",
       "                                                   &#x27;JORNADA&#x27;, &#x27;PAIS_ORIGEN&#x27;,\n",
       "                                                   &#x27;DISCAPACIDAD&#x27;, &#x27;SRPA&#x27;,\n",
       "                                                   &#x27;INSTITUCION_SECTOR&#x27;,\n",
       "                                                   &#x27;INSTITUCION_MODELO&#x27;,\n",
       "                                                   &#x27;INSTITUCION_APOYO_ACADEMICO_ESPECIAL&#x27;,\n",
       "                                                   &#x27;INSTITUCION_ZONA&#x27;,\n",
       "                                                   &#x27;INSTITUCION_CARACTER&#x27;...\n",
       "                                                   &#x27;INSTITUCION_NIVEL_PRIMERA_INFANCIA&#x27;,\n",
       "                                                   &#x27;INSTITUCION_ESPECIALIDAD_ACADÉMICA&#x27;,\n",
       "                                                   &#x27;INSTITUCION_ESPECIALIDAD_AGROPECUARIO&#x27;,\n",
       "                                                   &#x27;INSTITUCION_ESPECIALIDAD_COMERCIAL&#x27;,\n",
       "                                                   &#x27;INSTITUCION_ESPECIALIDAD_INDUSTRIAL&#x27;,\n",
       "                                                   &#x27;INSTITUCION_ESPECIALIDAD_NO_APLICA&#x27;,\n",
       "                                                   &#x27;INSTITUCION_ESPECIALIDAD_OTRO&#x27;])])),\n",
       "                (&#x27;gradientboostingclassifier&#x27;,\n",
       "                 GradientBoostingClassifier(learning_rate=0.01, n_estimators=5,\n",
       "                                            random_state=42))])</pre></div></div></div><div class=\"sk-serial\"><div class=\"sk-item sk-dashed-wrapped\"><div class=\"sk-label-container\"><div class=\"sk-label sk-toggleable\"><input class=\"sk-toggleable__control sk-hidden--visually\" id=\"sk-estimator-id-106\" type=\"checkbox\" ><label for=\"sk-estimator-id-106\" class=\"sk-toggleable__label sk-toggleable__label-arrow\">columntransformer: ColumnTransformer</label><div class=\"sk-toggleable__content\"><pre>ColumnTransformer(transformers=[(&#x27;pipeline-1&#x27;,\n",
       "                                 Pipeline(steps=[(&#x27;onehotencoder&#x27;,\n",
       "                                                  OneHotEncoder(handle_unknown=&#x27;ignore&#x27;))]),\n",
       "                                 [&#x27;INSTITUCION&#x27;, &#x27;GENERO&#x27;, &#x27;JORNADA&#x27;,\n",
       "                                  &#x27;PAIS_ORIGEN&#x27;, &#x27;DISCAPACIDAD&#x27;, &#x27;SRPA&#x27;,\n",
       "                                  &#x27;INSTITUCION_SECTOR&#x27;, &#x27;INSTITUCION_MODELO&#x27;,\n",
       "                                  &#x27;INSTITUCION_APOYO_ACADEMICO_ESPECIAL&#x27;,\n",
       "                                  &#x27;INSTITUCION_ZONA&#x27;, &#x27;INSTITUCION_CARACTER&#x27;,\n",
       "                                  &#x27;INSTITUCION_ESTADO&#x27;,\n",
       "                                  &#x27;INSTITUCION_PR...\n",
       "                                  &#x27;INSTITUCION_NIVEL_SECUNDARIA_PRIMARIA&#x27;,\n",
       "                                  &#x27;INSTITUCION_NIVEL_MEDIA&#x27;,\n",
       "                                  &#x27;INSTITUCION_NIVEL_PREESCOLAR&#x27;,\n",
       "                                  &#x27;INSTITUCION_NIVEL_PRIMERA_INFANCIA&#x27;,\n",
       "                                  &#x27;INSTITUCION_ESPECIALIDAD_ACADÉMICA&#x27;,\n",
       "                                  &#x27;INSTITUCION_ESPECIALIDAD_AGROPECUARIO&#x27;,\n",
       "                                  &#x27;INSTITUCION_ESPECIALIDAD_COMERCIAL&#x27;,\n",
       "                                  &#x27;INSTITUCION_ESPECIALIDAD_INDUSTRIAL&#x27;,\n",
       "                                  &#x27;INSTITUCION_ESPECIALIDAD_NO_APLICA&#x27;,\n",
       "                                  &#x27;INSTITUCION_ESPECIALIDAD_OTRO&#x27;])])</pre></div></div></div><div class=\"sk-parallel\"><div class=\"sk-parallel-item\"><div class=\"sk-item\"><div class=\"sk-label-container\"><div class=\"sk-label sk-toggleable\"><input class=\"sk-toggleable__control sk-hidden--visually\" id=\"sk-estimator-id-107\" type=\"checkbox\" ><label for=\"sk-estimator-id-107\" class=\"sk-toggleable__label sk-toggleable__label-arrow\">pipeline-1</label><div class=\"sk-toggleable__content\"><pre>[&#x27;INSTITUCION&#x27;, &#x27;GENERO&#x27;, &#x27;JORNADA&#x27;, &#x27;PAIS_ORIGEN&#x27;, &#x27;DISCAPACIDAD&#x27;, &#x27;SRPA&#x27;, &#x27;INSTITUCION_SECTOR&#x27;, &#x27;INSTITUCION_MODELO&#x27;, &#x27;INSTITUCION_APOYO_ACADEMICO_ESPECIAL&#x27;, &#x27;INSTITUCION_ZONA&#x27;, &#x27;INSTITUCION_CARACTER&#x27;, &#x27;INSTITUCION_ESTADO&#x27;, &#x27;INSTITUCION_PRESTADOR_DE_SERVICIO&#x27;]</pre></div></div></div><div class=\"sk-serial\"><div class=\"sk-item\"><div class=\"sk-serial\"><div class=\"sk-item\"><div class=\"sk-estimator sk-toggleable\"><input class=\"sk-toggleable__control sk-hidden--visually\" id=\"sk-estimator-id-108\" type=\"checkbox\" ><label for=\"sk-estimator-id-108\" class=\"sk-toggleable__label sk-toggleable__label-arrow\">OneHotEncoder</label><div class=\"sk-toggleable__content\"><pre>OneHotEncoder(handle_unknown=&#x27;ignore&#x27;)</pre></div></div></div></div></div></div></div></div><div class=\"sk-parallel-item\"><div class=\"sk-item\"><div class=\"sk-label-container\"><div class=\"sk-label sk-toggleable\"><input class=\"sk-toggleable__control sk-hidden--visually\" id=\"sk-estimator-id-109\" type=\"checkbox\" ><label for=\"sk-estimator-id-109\" class=\"sk-toggleable__label sk-toggleable__label-arrow\">pipeline-2</label><div class=\"sk-toggleable__content\"><pre>[&#x27;GRADO_COD&#x27;, &#x27;ESTRATO&#x27;, &#x27;INSTITUCION_TAMAÑO&#x27;]</pre></div></div></div><div class=\"sk-serial\"><div class=\"sk-item\"><div class=\"sk-serial\"><div class=\"sk-item\"><div class=\"sk-estimator sk-toggleable\"><input class=\"sk-toggleable__control sk-hidden--visually\" id=\"sk-estimator-id-110\" type=\"checkbox\" ><label for=\"sk-estimator-id-110\" class=\"sk-toggleable__label sk-toggleable__label-arrow\">OrdinalEncoder</label><div class=\"sk-toggleable__content\"><pre>OrdinalEncoder(categories=[[-2.0, -1.0, 0.0, 1.0, 2.0, 3.0, 4.0, 5.0, 6.0, 7.0,\n",
       "                            8.0, 9.0, 10.0, 11.0, 12.0, 20.0, 21.0, 22.0, 23.0,\n",
       "                            24.0, 25.0, 26.0],\n",
       "                           [&#x27;ESTRATO 0&#x27;, &#x27;ESTRATO 1&#x27;, &#x27;ESTRATO 2&#x27;, &#x27;ESTRATO 3&#x27;,\n",
       "                            &#x27;ESTRATO 4&#x27;, &#x27;ESTRATO 5&#x27;, &#x27;ESTRATO 6&#x27;],\n",
       "                           [&#x27;Pequeña&#x27;, &#x27;Mediana&#x27;, &#x27;Grande&#x27;]])</pre></div></div></div></div></div></div></div></div><div class=\"sk-parallel-item\"><div class=\"sk-item\"><div class=\"sk-label-container\"><div class=\"sk-label sk-toggleable\"><input class=\"sk-toggleable__control sk-hidden--visually\" id=\"sk-estimator-id-111\" type=\"checkbox\" ><label for=\"sk-estimator-id-111\" class=\"sk-toggleable__label sk-toggleable__label-arrow\">pipeline-3</label><div class=\"sk-toggleable__content\"><pre>[&#x27;EDAD&#x27;, &#x27;INSTITUCION_NUMERO_DE_SEDES&#x27;]</pre></div></div></div><div class=\"sk-serial\"><div class=\"sk-item\"><div class=\"sk-serial\"><div class=\"sk-item\"><div class=\"sk-estimator sk-toggleable\"><input class=\"sk-toggleable__control sk-hidden--visually\" id=\"sk-estimator-id-112\" type=\"checkbox\" ><label for=\"sk-estimator-id-112\" class=\"sk-toggleable__label sk-toggleable__label-arrow\">StandardScaler</label><div class=\"sk-toggleable__content\"><pre>StandardScaler()</pre></div></div></div></div></div></div></div></div><div class=\"sk-parallel-item\"><div class=\"sk-item\"><div class=\"sk-label-container\"><div class=\"sk-label sk-toggleable\"><input class=\"sk-toggleable__control sk-hidden--visually\" id=\"sk-estimator-id-113\" type=\"checkbox\" ><label for=\"sk-estimator-id-113\" class=\"sk-toggleable__label sk-toggleable__label-arrow\">pipeline-4</label><div class=\"sk-toggleable__content\"><pre>[&#x27;INSTITUCION_NIVEL_BASICA_PRIMARIA&#x27;, &#x27;INSTITUCION_NIVEL_SECUNDARIA_PRIMARIA&#x27;, &#x27;INSTITUCION_NIVEL_MEDIA&#x27;, &#x27;INSTITUCION_NIVEL_PREESCOLAR&#x27;, &#x27;INSTITUCION_NIVEL_PRIMERA_INFANCIA&#x27;, &#x27;INSTITUCION_ESPECIALIDAD_ACADÉMICA&#x27;, &#x27;INSTITUCION_ESPECIALIDAD_AGROPECUARIO&#x27;, &#x27;INSTITUCION_ESPECIALIDAD_COMERCIAL&#x27;, &#x27;INSTITUCION_ESPECIALIDAD_INDUSTRIAL&#x27;, &#x27;INSTITUCION_ESPECIALIDAD_NO_APLICA&#x27;, &#x27;INSTITUCION_ESPECIALIDAD_OTRO&#x27;]</pre></div></div></div><div class=\"sk-serial\"><div class=\"sk-item\"><div class=\"sk-serial\"><div class=\"sk-item\"><div class=\"sk-estimator sk-toggleable\"><input class=\"sk-toggleable__control sk-hidden--visually\" id=\"sk-estimator-id-114\" type=\"checkbox\" ><label for=\"sk-estimator-id-114\" class=\"sk-toggleable__label sk-toggleable__label-arrow\">FunctionTransformer</label><div class=\"sk-toggleable__content\"><pre>FunctionTransformer(func=&lt;function boolean_transformation at 0x000001D1392C3310&gt;)</pre></div></div></div></div></div></div></div></div></div></div><div class=\"sk-item\"><div class=\"sk-estimator sk-toggleable\"><input class=\"sk-toggleable__control sk-hidden--visually\" id=\"sk-estimator-id-115\" type=\"checkbox\" ><label for=\"sk-estimator-id-115\" class=\"sk-toggleable__label sk-toggleable__label-arrow\">GradientBoostingClassifier</label><div class=\"sk-toggleable__content\"><pre>GradientBoostingClassifier(learning_rate=0.01, n_estimators=5, random_state=42)</pre></div></div></div></div></div></div></div>"
      ],
      "text/plain": [
       "Pipeline(steps=[('columntransformer',\n",
       "                 ColumnTransformer(transformers=[('pipeline-1',\n",
       "                                                  Pipeline(steps=[('onehotencoder',\n",
       "                                                                   OneHotEncoder(handle_unknown='ignore'))]),\n",
       "                                                  ['INSTITUCION', 'GENERO',\n",
       "                                                   'JORNADA', 'PAIS_ORIGEN',\n",
       "                                                   'DISCAPACIDAD', 'SRPA',\n",
       "                                                   'INSTITUCION_SECTOR',\n",
       "                                                   'INSTITUCION_MODELO',\n",
       "                                                   'INSTITUCION_APOYO_ACADEMICO_ESPECIAL',\n",
       "                                                   'INSTITUCION_ZONA',\n",
       "                                                   'INSTITUCION_CARACTER'...\n",
       "                                                   'INSTITUCION_NIVEL_PRIMERA_INFANCIA',\n",
       "                                                   'INSTITUCION_ESPECIALIDAD_ACADÉMICA',\n",
       "                                                   'INSTITUCION_ESPECIALIDAD_AGROPECUARIO',\n",
       "                                                   'INSTITUCION_ESPECIALIDAD_COMERCIAL',\n",
       "                                                   'INSTITUCION_ESPECIALIDAD_INDUSTRIAL',\n",
       "                                                   'INSTITUCION_ESPECIALIDAD_NO_APLICA',\n",
       "                                                   'INSTITUCION_ESPECIALIDAD_OTRO'])])),\n",
       "                ('gradientboostingclassifier',\n",
       "                 GradientBoostingClassifier(learning_rate=0.01, n_estimators=5,\n",
       "                                            random_state=42))])"
      ]
     },
     "execution_count": 143,
     "metadata": {},
     "output_type": "execute_result"
    }
   ],
   "source": [
    "gbc_test.fit(X_train, y_train)"
   ]
  },
  {
   "cell_type": "code",
   "execution_count": 144,
   "id": "cd31f10f",
   "metadata": {},
   "outputs": [
    {
     "data": {
      "image/png": "[encoded data removed]",
      "text/plain": [
       "<Figure size 360x360 with 1 Axes>"
      ]
     },
     "metadata": {
      "needs_background": "light"
     },
     "output_type": "display_data"
    }
   ],
   "source": [
    "cgbc = confusion_matrix(y_test, gbc_test.predict(X_test))\n",
    "\n",
    "fig, ax = plt.subplots(figsize=(5, 5))\n",
    "ax.imshow(cgbc,cmap ='Pastel1')\n",
    "ax.grid(False)\n",
    "ax.xaxis.set(ticks=(0, 1), ticklabels=('Predicted 0s', 'Predicted 1s'))\n",
    "ax.yaxis.set(ticks=(0, 1), ticklabels=('Actual 0s', 'Actual 1s'))\n",
    "ax.set_ylim(1.5, -0.5)\n",
    "for i in range(2):\n",
    "    for j in range(2):\n",
    "        ax.text(j, i, cgbc[i, j], ha='center', va='center', color='black')\n",
    "plt.show()"
   ]
  },
  {
   "cell_type": "code",
   "execution_count": 146,
   "id": "804d5954",
   "metadata": {},
   "outputs": [
    {
     "name": "stdout",
     "output_type": "stream",
     "text": [
      "              precision    recall  f1-score   support\n",
      "\n",
      "           0       0.92      1.00      0.96      1032\n",
      "           1       0.00      0.00      0.00        90\n",
      "\n",
      "    accuracy                           0.92      1122\n",
      "   macro avg       0.46      0.50      0.48      1122\n",
      "weighted avg       0.85      0.92      0.88      1122\n",
      "\n"
     ]
    },
    {
     "name": "stderr",
     "output_type": "stream",
     "text": [
      "C:\\Users\\Nelcy-Aflore\\anaconda3\\lib\\site-packages\\sklearn\\metrics\\_classification.py:1327: UndefinedMetricWarning: Precision and F-score are ill-defined and being set to 0.0 in labels with no predicted samples. Use `zero_division` parameter to control this behavior.\n",
      "  _warn_prf(average, modifier, msg_start, len(result))\n",
      "C:\\Users\\Nelcy-Aflore\\anaconda3\\lib\\site-packages\\sklearn\\metrics\\_classification.py:1327: UndefinedMetricWarning: Precision and F-score are ill-defined and being set to 0.0 in labels with no predicted samples. Use `zero_division` parameter to control this behavior.\n",
      "  _warn_prf(average, modifier, msg_start, len(result))\n",
      "C:\\Users\\Nelcy-Aflore\\anaconda3\\lib\\site-packages\\sklearn\\metrics\\_classification.py:1327: UndefinedMetricWarning: Precision and F-score are ill-defined and being set to 0.0 in labels with no predicted samples. Use `zero_division` parameter to control this behavior.\n",
      "  _warn_prf(average, modifier, msg_start, len(result))\n"
     ]
    }
   ],
   "source": [
    "print(classification_report(y_test, gbc_test.predict(X_test)))"
   ]
  },
  {
   "cell_type": "code",
   "execution_count": 147,
   "id": "c15e7ed5",
   "metadata": {},
   "outputs": [
    {
     "name": "stdout",
     "output_type": "stream",
     "text": [
      "Curva ROC - AUC del modelo:\n"
     ]
    },
    {
     "data": {
      "text/plain": [
       "0.5"
      ]
     },
     "execution_count": 147,
     "metadata": {},
     "output_type": "execute_result"
    }
   ],
   "source": [
    "print(\"Curva ROC - AUC del modelo:\")\n",
    "roc_auc_score(y_test,gbc_test.predict(X_test))"
   ]
  },
  {
   "cell_type": "code",
   "execution_count": null,
   "id": "ddfc0ca8",
   "metadata": {},
   "outputs": [],
   "source": []
  },
  {
   "cell_type": "markdown",
   "id": "5884c4fe",
   "metadata": {},
   "source": [
    "## 9. XGBOOST"
   ]
  },
  {
   "cell_type": "code",
   "execution_count": 148,
   "id": "1b673965",
   "metadata": {},
   "outputs": [],
   "source": [
    "import xgboost as xgb\n",
    "mxgb = xgb.XGBClassifier()"
   ]
  },
  {
   "cell_type": "code",
   "execution_count": 149,
   "id": "35799eee",
   "metadata": {},
   "outputs": [],
   "source": [
    "cmxgb = make_pipeline(preprocessor, mxgb)"
   ]
  },
  {
   "cell_type": "code",
   "execution_count": 150,
   "id": "4d9d389b",
   "metadata": {},
   "outputs": [
    {
     "data": {
      "text/plain": [
       "['columntransformer',\n",
       " 'columntransformer__n_jobs',\n",
       " 'columntransformer__pipeline-1',\n",
       " 'columntransformer__pipeline-1__memory',\n",
       " 'columntransformer__pipeline-1__onehotencoder',\n",
       " 'columntransformer__pipeline-1__onehotencoder__categories',\n",
       " 'columntransformer__pipeline-1__onehotencoder__drop',\n",
       " 'columntransformer__pipeline-1__onehotencoder__dtype',\n",
       " 'columntransformer__pipeline-1__onehotencoder__handle_unknown',\n",
       " 'columntransformer__pipeline-1__onehotencoder__max_categories',\n",
       " 'columntransformer__pipeline-1__onehotencoder__min_frequency',\n",
       " 'columntransformer__pipeline-1__onehotencoder__sparse',\n",
       " 'columntransformer__pipeline-1__steps',\n",
       " 'columntransformer__pipeline-1__verbose',\n",
       " 'columntransformer__pipeline-2',\n",
       " 'columntransformer__pipeline-2__memory',\n",
       " 'columntransformer__pipeline-2__ordinalencoder',\n",
       " 'columntransformer__pipeline-2__ordinalencoder__categories',\n",
       " 'columntransformer__pipeline-2__ordinalencoder__dtype',\n",
       " 'columntransformer__pipeline-2__ordinalencoder__encoded_missing_value',\n",
       " 'columntransformer__pipeline-2__ordinalencoder__handle_unknown',\n",
       " 'columntransformer__pipeline-2__ordinalencoder__unknown_value',\n",
       " 'columntransformer__pipeline-2__steps',\n",
       " 'columntransformer__pipeline-2__verbose',\n",
       " 'columntransformer__pipeline-3',\n",
       " 'columntransformer__pipeline-3__memory',\n",
       " 'columntransformer__pipeline-3__standardscaler',\n",
       " 'columntransformer__pipeline-3__standardscaler__copy',\n",
       " 'columntransformer__pipeline-3__standardscaler__with_mean',\n",
       " 'columntransformer__pipeline-3__standardscaler__with_std',\n",
       " 'columntransformer__pipeline-3__steps',\n",
       " 'columntransformer__pipeline-3__verbose',\n",
       " 'columntransformer__pipeline-4',\n",
       " 'columntransformer__pipeline-4__functiontransformer',\n",
       " 'columntransformer__pipeline-4__functiontransformer__accept_sparse',\n",
       " 'columntransformer__pipeline-4__functiontransformer__check_inverse',\n",
       " 'columntransformer__pipeline-4__functiontransformer__feature_names_out',\n",
       " 'columntransformer__pipeline-4__functiontransformer__func',\n",
       " 'columntransformer__pipeline-4__functiontransformer__inv_kw_args',\n",
       " 'columntransformer__pipeline-4__functiontransformer__inverse_func',\n",
       " 'columntransformer__pipeline-4__functiontransformer__kw_args',\n",
       " 'columntransformer__pipeline-4__functiontransformer__validate',\n",
       " 'columntransformer__pipeline-4__memory',\n",
       " 'columntransformer__pipeline-4__steps',\n",
       " 'columntransformer__pipeline-4__verbose',\n",
       " 'columntransformer__remainder',\n",
       " 'columntransformer__sparse_threshold',\n",
       " 'columntransformer__transformer_weights',\n",
       " 'columntransformer__transformers',\n",
       " 'columntransformer__verbose',\n",
       " 'columntransformer__verbose_feature_names_out',\n",
       " 'memory',\n",
       " 'steps',\n",
       " 'verbose',\n",
       " 'xgbclassifier',\n",
       " 'xgbclassifier__base_score',\n",
       " 'xgbclassifier__booster',\n",
       " 'xgbclassifier__callbacks',\n",
       " 'xgbclassifier__colsample_bylevel',\n",
       " 'xgbclassifier__colsample_bynode',\n",
       " 'xgbclassifier__colsample_bytree',\n",
       " 'xgbclassifier__early_stopping_rounds',\n",
       " 'xgbclassifier__enable_categorical',\n",
       " 'xgbclassifier__eval_metric',\n",
       " 'xgbclassifier__gamma',\n",
       " 'xgbclassifier__gpu_id',\n",
       " 'xgbclassifier__grow_policy',\n",
       " 'xgbclassifier__importance_type',\n",
       " 'xgbclassifier__interaction_constraints',\n",
       " 'xgbclassifier__learning_rate',\n",
       " 'xgbclassifier__max_bin',\n",
       " 'xgbclassifier__max_cat_to_onehot',\n",
       " 'xgbclassifier__max_delta_step',\n",
       " 'xgbclassifier__max_depth',\n",
       " 'xgbclassifier__max_leaves',\n",
       " 'xgbclassifier__min_child_weight',\n",
       " 'xgbclassifier__missing',\n",
       " 'xgbclassifier__monotone_constraints',\n",
       " 'xgbclassifier__n_estimators',\n",
       " 'xgbclassifier__n_jobs',\n",
       " 'xgbclassifier__num_parallel_tree',\n",
       " 'xgbclassifier__objective',\n",
       " 'xgbclassifier__predictor',\n",
       " 'xgbclassifier__random_state',\n",
       " 'xgbclassifier__reg_alpha',\n",
       " 'xgbclassifier__reg_lambda',\n",
       " 'xgbclassifier__sampling_method',\n",
       " 'xgbclassifier__scale_pos_weight',\n",
       " 'xgbclassifier__subsample',\n",
       " 'xgbclassifier__tree_method',\n",
       " 'xgbclassifier__use_label_encoder',\n",
       " 'xgbclassifier__validate_parameters',\n",
       " 'xgbclassifier__verbosity']"
      ]
     },
     "execution_count": 150,
     "metadata": {},
     "output_type": "execute_result"
    }
   ],
   "source": [
    "sorted(cmxgb.get_params().keys())"
   ]
  },
  {
   "cell_type": "code",
   "execution_count": 158,
   "id": "6501ef6c",
   "metadata": {},
   "outputs": [],
   "source": [
    "param_grid = {\n",
    "    \"xgbclassifier__n_estimators\" : np.arange(5, 10, 500),\n",
    "    \"xgbclassifier__max_depth\": np.arange( 3, 5, 15),\n",
    "    \"xgbclassifier__learning_rate\": np.arange(0.01, 0.1,  10),\n",
    "    \"xgbclassifier__min_child_weight\": np.arange(0.5, 5.0,  10.0),\n",
    "    \"xgbclassifier__reg_lambda\": np.arange(0.5, 10.0,  100.0)\n",
    "}"
   ]
  },
  {
   "cell_type": "code",
   "execution_count": null,
   "id": "04ff0130",
   "metadata": {},
   "outputs": [],
   "source": [
    "stratified_kfold = StratifiedKFold(n_splits=3, shuffle=True, random_state=42)"
   ]
  },
  {
   "cell_type": "code",
   "execution_count": 159,
   "id": "b162f9fa",
   "metadata": {},
   "outputs": [],
   "source": [
    "search = HalvingGridSearchCV(cmxgb, param_grid, scoring=\"roc_auc\",\n",
    "                             cv=3, n_jobs=-2)"
   ]
  },
  {
   "cell_type": "code",
   "execution_count": 160,
   "id": "9ffcb333",
   "metadata": {},
   "outputs": [
    {
     "data": {
      "text/html": [
       "<style>#sk-container-id-11 {color: black;background-color: white;}#sk-container-id-11 pre{padding: 0;}#sk-container-id-11 div.sk-toggleable {background-color: white;}#sk-container-id-11 label.sk-toggleable__label {cursor: pointer;display: block;width: 100%;margin-bottom: 0;padding: 0.3em;box-sizing: border-box;text-align: center;}#sk-container-id-11 label.sk-toggleable__label-arrow:before {content: \"▸\";float: left;margin-right: 0.25em;color: #696969;}#sk-container-id-11 label.sk-toggleable__label-arrow:hover:before {color: black;}#sk-container-id-11 div.sk-estimator:hover label.sk-toggleable__label-arrow:before {color: black;}#sk-container-id-11 div.sk-toggleable__content {max-height: 0;max-width: 0;overflow: hidden;text-align: left;background-color: #f0f8ff;}#sk-container-id-11 div.sk-toggleable__content pre {margin: 0.2em;color: black;border-radius: 0.25em;background-color: #f0f8ff;}#sk-container-id-11 input.sk-toggleable__control:checked~div.sk-toggleable__content {max-height: 200px;max-width: 100%;overflow: auto;}#sk-container-id-11 input.sk-toggleable__control:checked~label.sk-toggleable__label-arrow:before {content: \"▾\";}#sk-container-id-11 div.sk-estimator input.sk-toggleable__control:checked~label.sk-toggleable__label {background-color: #d4ebff;}#sk-container-id-11 div.sk-label input.sk-toggleable__control:checked~label.sk-toggleable__label {background-color: #d4ebff;}#sk-container-id-11 input.sk-hidden--visually {border: 0;clip: rect(1px 1px 1px 1px);clip: rect(1px, 1px, 1px, 1px);height: 1px;margin: -1px;overflow: hidden;padding: 0;position: absolute;width: 1px;}#sk-container-id-11 div.sk-estimator {font-family: monospace;background-color: #f0f8ff;border: 1px dotted black;border-radius: 0.25em;box-sizing: border-box;margin-bottom: 0.5em;}#sk-container-id-11 div.sk-estimator:hover {background-color: #d4ebff;}#sk-container-id-11 div.sk-parallel-item::after {content: \"\";width: 100%;border-bottom: 1px solid gray;flex-grow: 1;}#sk-container-id-11 div.sk-label:hover label.sk-toggleable__label {background-color: #d4ebff;}#sk-container-id-11 div.sk-serial::before {content: \"\";position: absolute;border-left: 1px solid gray;box-sizing: border-box;top: 0;bottom: 0;left: 50%;z-index: 0;}#sk-container-id-11 div.sk-serial {display: flex;flex-direction: column;align-items: center;background-color: white;padding-right: 0.2em;padding-left: 0.2em;position: relative;}#sk-container-id-11 div.sk-item {position: relative;z-index: 1;}#sk-container-id-11 div.sk-parallel {display: flex;align-items: stretch;justify-content: center;background-color: white;position: relative;}#sk-container-id-11 div.sk-item::before, #sk-container-id-11 div.sk-parallel-item::before {content: \"\";position: absolute;border-left: 1px solid gray;box-sizing: border-box;top: 0;bottom: 0;left: 50%;z-index: -1;}#sk-container-id-11 div.sk-parallel-item {display: flex;flex-direction: column;z-index: 1;position: relative;background-color: white;}#sk-container-id-11 div.sk-parallel-item:first-child::after {align-self: flex-end;width: 50%;}#sk-container-id-11 div.sk-parallel-item:last-child::after {align-self: flex-start;width: 50%;}#sk-container-id-11 div.sk-parallel-item:only-child::after {width: 0;}#sk-container-id-11 div.sk-dashed-wrapped {border: 1px dashed gray;margin: 0 0.4em 0.5em 0.4em;box-sizing: border-box;padding-bottom: 0.4em;background-color: white;}#sk-container-id-11 div.sk-label label {font-family: monospace;font-weight: bold;display: inline-block;line-height: 1.2em;}#sk-container-id-11 div.sk-label-container {text-align: center;}#sk-container-id-11 div.sk-container {/* jupyter's `normalize.less` sets `[hidden] { display: none; }` but bootstrap.min.css set `[hidden] { display: none !important; }` so we also need the `!important` here to be able to override the default hidden behavior on the sphinx rendered scikit-learn.org. See: https://github.com/scikit-learn/scikit-learn/issues/21755 */display: inline-block !important;position: relative;}#sk-container-id-11 div.sk-text-repr-fallback {display: none;}</style><div id=\"sk-container-id-11\" class=\"sk-top-container\"><div class=\"sk-text-repr-fallback\"><pre>HalvingGridSearchCV(cv=3,\n",
       "                    estimator=Pipeline(steps=[(&#x27;columntransformer&#x27;,\n",
       "                                               ColumnTransformer(transformers=[(&#x27;pipeline-1&#x27;,\n",
       "                                                                                Pipeline(steps=[(&#x27;onehotencoder&#x27;,\n",
       "                                                                                                 OneHotEncoder(handle_unknown=&#x27;ignore&#x27;))]),\n",
       "                                                                                [&#x27;INSTITUCION&#x27;,\n",
       "                                                                                 &#x27;GENERO&#x27;,\n",
       "                                                                                 &#x27;JORNADA&#x27;,\n",
       "                                                                                 &#x27;PAIS_ORIGEN&#x27;,\n",
       "                                                                                 &#x27;DISCAPACIDAD&#x27;,\n",
       "                                                                                 &#x27;SRPA&#x27;,\n",
       "                                                                                 &#x27;INSTITUCION_SECTOR&#x27;,\n",
       "                                                                                 &#x27;INSTITUCION_MODELO&#x27;,\n",
       "                                                                                 &#x27;INSTITUCION_APOYO_ACADEMICO_ESPECIAL&#x27;,\n",
       "                                                                                 &#x27;INSTI...\n",
       "                                                             n_jobs=None,\n",
       "                                                             num_parallel_tree=None,\n",
       "                                                             predictor=None,\n",
       "                                                             random_state=None,\n",
       "                                                             reg_alpha=None,\n",
       "                                                             reg_lambda=None, ...))]),\n",
       "                    n_jobs=-2,\n",
       "                    param_grid={&#x27;xgbclassifier__learning_rate&#x27;: array([0.01]),\n",
       "                                &#x27;xgbclassifier__max_depth&#x27;: array([3]),\n",
       "                                &#x27;xgbclassifier__min_child_weight&#x27;: array([0.5]),\n",
       "                                &#x27;xgbclassifier__n_estimators&#x27;: array([5]),\n",
       "                                &#x27;xgbclassifier__reg_lambda&#x27;: array([0.5])},\n",
       "                    scoring=&#x27;roc_auc&#x27;)</pre><b>In a Jupyter environment, please rerun this cell to show the HTML representation or trust the notebook. <br />On GitHub, the HTML representation is unable to render, please try loading this page with nbviewer.org.</b></div><div class=\"sk-container\" hidden><div class=\"sk-item sk-dashed-wrapped\"><div class=\"sk-label-container\"><div class=\"sk-label sk-toggleable\"><input class=\"sk-toggleable__control sk-hidden--visually\" id=\"sk-estimator-id-116\" type=\"checkbox\" ><label for=\"sk-estimator-id-116\" class=\"sk-toggleable__label sk-toggleable__label-arrow\">HalvingGridSearchCV</label><div class=\"sk-toggleable__content\"><pre>HalvingGridSearchCV(cv=3,\n",
       "                    estimator=Pipeline(steps=[(&#x27;columntransformer&#x27;,\n",
       "                                               ColumnTransformer(transformers=[(&#x27;pipeline-1&#x27;,\n",
       "                                                                                Pipeline(steps=[(&#x27;onehotencoder&#x27;,\n",
       "                                                                                                 OneHotEncoder(handle_unknown=&#x27;ignore&#x27;))]),\n",
       "                                                                                [&#x27;INSTITUCION&#x27;,\n",
       "                                                                                 &#x27;GENERO&#x27;,\n",
       "                                                                                 &#x27;JORNADA&#x27;,\n",
       "                                                                                 &#x27;PAIS_ORIGEN&#x27;,\n",
       "                                                                                 &#x27;DISCAPACIDAD&#x27;,\n",
       "                                                                                 &#x27;SRPA&#x27;,\n",
       "                                                                                 &#x27;INSTITUCION_SECTOR&#x27;,\n",
       "                                                                                 &#x27;INSTITUCION_MODELO&#x27;,\n",
       "                                                                                 &#x27;INSTITUCION_APOYO_ACADEMICO_ESPECIAL&#x27;,\n",
       "                                                                                 &#x27;INSTI...\n",
       "                                                             n_jobs=None,\n",
       "                                                             num_parallel_tree=None,\n",
       "                                                             predictor=None,\n",
       "                                                             random_state=None,\n",
       "                                                             reg_alpha=None,\n",
       "                                                             reg_lambda=None, ...))]),\n",
       "                    n_jobs=-2,\n",
       "                    param_grid={&#x27;xgbclassifier__learning_rate&#x27;: array([0.01]),\n",
       "                                &#x27;xgbclassifier__max_depth&#x27;: array([3]),\n",
       "                                &#x27;xgbclassifier__min_child_weight&#x27;: array([0.5]),\n",
       "                                &#x27;xgbclassifier__n_estimators&#x27;: array([5]),\n",
       "                                &#x27;xgbclassifier__reg_lambda&#x27;: array([0.5])},\n",
       "                    scoring=&#x27;roc_auc&#x27;)</pre></div></div></div><div class=\"sk-parallel\"><div class=\"sk-parallel-item\"><div class=\"sk-item\"><div class=\"sk-label-container\"><div class=\"sk-label sk-toggleable\"><input class=\"sk-toggleable__control sk-hidden--visually\" id=\"sk-estimator-id-117\" type=\"checkbox\" ><label for=\"sk-estimator-id-117\" class=\"sk-toggleable__label sk-toggleable__label-arrow\">estimator: Pipeline</label><div class=\"sk-toggleable__content\"><pre>Pipeline(steps=[(&#x27;columntransformer&#x27;,\n",
       "                 ColumnTransformer(transformers=[(&#x27;pipeline-1&#x27;,\n",
       "                                                  Pipeline(steps=[(&#x27;onehotencoder&#x27;,\n",
       "                                                                   OneHotEncoder(handle_unknown=&#x27;ignore&#x27;))]),\n",
       "                                                  [&#x27;INSTITUCION&#x27;, &#x27;GENERO&#x27;,\n",
       "                                                   &#x27;JORNADA&#x27;, &#x27;PAIS_ORIGEN&#x27;,\n",
       "                                                   &#x27;DISCAPACIDAD&#x27;, &#x27;SRPA&#x27;,\n",
       "                                                   &#x27;INSTITUCION_SECTOR&#x27;,\n",
       "                                                   &#x27;INSTITUCION_MODELO&#x27;,\n",
       "                                                   &#x27;INSTITUCION_APOYO_ACADEMICO_ESPECIAL&#x27;,\n",
       "                                                   &#x27;INSTITUCION_ZONA&#x27;,\n",
       "                                                   &#x27;INSTITUCION_CARACTER&#x27;...\n",
       "                               gamma=None, gpu_id=None, grow_policy=None,\n",
       "                               importance_type=None,\n",
       "                               interaction_constraints=None, learning_rate=None,\n",
       "                               max_bin=None, max_cat_to_onehot=None,\n",
       "                               max_delta_step=None, max_depth=None,\n",
       "                               max_leaves=None, min_child_weight=None,\n",
       "                               missing=nan, monotone_constraints=None,\n",
       "                               n_estimators=100, n_jobs=None,\n",
       "                               num_parallel_tree=None, predictor=None,\n",
       "                               random_state=None, reg_alpha=None,\n",
       "                               reg_lambda=None, ...))])</pre></div></div></div><div class=\"sk-serial\"><div class=\"sk-item\"><div class=\"sk-serial\"><div class=\"sk-item sk-dashed-wrapped\"><div class=\"sk-label-container\"><div class=\"sk-label sk-toggleable\"><input class=\"sk-toggleable__control sk-hidden--visually\" id=\"sk-estimator-id-118\" type=\"checkbox\" ><label for=\"sk-estimator-id-118\" class=\"sk-toggleable__label sk-toggleable__label-arrow\">columntransformer: ColumnTransformer</label><div class=\"sk-toggleable__content\"><pre>ColumnTransformer(transformers=[(&#x27;pipeline-1&#x27;,\n",
       "                                 Pipeline(steps=[(&#x27;onehotencoder&#x27;,\n",
       "                                                  OneHotEncoder(handle_unknown=&#x27;ignore&#x27;))]),\n",
       "                                 [&#x27;INSTITUCION&#x27;, &#x27;GENERO&#x27;, &#x27;JORNADA&#x27;,\n",
       "                                  &#x27;PAIS_ORIGEN&#x27;, &#x27;DISCAPACIDAD&#x27;, &#x27;SRPA&#x27;,\n",
       "                                  &#x27;INSTITUCION_SECTOR&#x27;, &#x27;INSTITUCION_MODELO&#x27;,\n",
       "                                  &#x27;INSTITUCION_APOYO_ACADEMICO_ESPECIAL&#x27;,\n",
       "                                  &#x27;INSTITUCION_ZONA&#x27;, &#x27;INSTITUCION_CARACTER&#x27;,\n",
       "                                  &#x27;INSTITUCION_ESTADO&#x27;,\n",
       "                                  &#x27;INSTITUCION_PR...\n",
       "                                  &#x27;INSTITUCION_NIVEL_SECUNDARIA_PRIMARIA&#x27;,\n",
       "                                  &#x27;INSTITUCION_NIVEL_MEDIA&#x27;,\n",
       "                                  &#x27;INSTITUCION_NIVEL_PREESCOLAR&#x27;,\n",
       "                                  &#x27;INSTITUCION_NIVEL_PRIMERA_INFANCIA&#x27;,\n",
       "                                  &#x27;INSTITUCION_ESPECIALIDAD_ACADÉMICA&#x27;,\n",
       "                                  &#x27;INSTITUCION_ESPECIALIDAD_AGROPECUARIO&#x27;,\n",
       "                                  &#x27;INSTITUCION_ESPECIALIDAD_COMERCIAL&#x27;,\n",
       "                                  &#x27;INSTITUCION_ESPECIALIDAD_INDUSTRIAL&#x27;,\n",
       "                                  &#x27;INSTITUCION_ESPECIALIDAD_NO_APLICA&#x27;,\n",
       "                                  &#x27;INSTITUCION_ESPECIALIDAD_OTRO&#x27;])])</pre></div></div></div><div class=\"sk-parallel\"><div class=\"sk-parallel-item\"><div class=\"sk-item\"><div class=\"sk-label-container\"><div class=\"sk-label sk-toggleable\"><input class=\"sk-toggleable__control sk-hidden--visually\" id=\"sk-estimator-id-119\" type=\"checkbox\" ><label for=\"sk-estimator-id-119\" class=\"sk-toggleable__label sk-toggleable__label-arrow\">pipeline-1</label><div class=\"sk-toggleable__content\"><pre>[&#x27;INSTITUCION&#x27;, &#x27;GENERO&#x27;, &#x27;JORNADA&#x27;, &#x27;PAIS_ORIGEN&#x27;, &#x27;DISCAPACIDAD&#x27;, &#x27;SRPA&#x27;, &#x27;INSTITUCION_SECTOR&#x27;, &#x27;INSTITUCION_MODELO&#x27;, &#x27;INSTITUCION_APOYO_ACADEMICO_ESPECIAL&#x27;, &#x27;INSTITUCION_ZONA&#x27;, &#x27;INSTITUCION_CARACTER&#x27;, &#x27;INSTITUCION_ESTADO&#x27;, &#x27;INSTITUCION_PRESTADOR_DE_SERVICIO&#x27;]</pre></div></div></div><div class=\"sk-serial\"><div class=\"sk-item\"><div class=\"sk-serial\"><div class=\"sk-item\"><div class=\"sk-estimator sk-toggleable\"><input class=\"sk-toggleable__control sk-hidden--visually\" id=\"sk-estimator-id-120\" type=\"checkbox\" ><label for=\"sk-estimator-id-120\" class=\"sk-toggleable__label sk-toggleable__label-arrow\">OneHotEncoder</label><div class=\"sk-toggleable__content\"><pre>OneHotEncoder(handle_unknown=&#x27;ignore&#x27;)</pre></div></div></div></div></div></div></div></div><div class=\"sk-parallel-item\"><div class=\"sk-item\"><div class=\"sk-label-container\"><div class=\"sk-label sk-toggleable\"><input class=\"sk-toggleable__control sk-hidden--visually\" id=\"sk-estimator-id-121\" type=\"checkbox\" ><label for=\"sk-estimator-id-121\" class=\"sk-toggleable__label sk-toggleable__label-arrow\">pipeline-2</label><div class=\"sk-toggleable__content\"><pre>[&#x27;GRADO_COD&#x27;, &#x27;ESTRATO&#x27;, &#x27;INSTITUCION_TAMAÑO&#x27;]</pre></div></div></div><div class=\"sk-serial\"><div class=\"sk-item\"><div class=\"sk-serial\"><div class=\"sk-item\"><div class=\"sk-estimator sk-toggleable\"><input class=\"sk-toggleable__control sk-hidden--visually\" id=\"sk-estimator-id-122\" type=\"checkbox\" ><label for=\"sk-estimator-id-122\" class=\"sk-toggleable__label sk-toggleable__label-arrow\">OrdinalEncoder</label><div class=\"sk-toggleable__content\"><pre>OrdinalEncoder(categories=[[-2.0, -1.0, 0.0, 1.0, 2.0, 3.0, 4.0, 5.0, 6.0, 7.0,\n",
       "                            8.0, 9.0, 10.0, 11.0, 12.0, 20.0, 21.0, 22.0, 23.0,\n",
       "                            24.0, 25.0, 26.0],\n",
       "                           [&#x27;ESTRATO 0&#x27;, &#x27;ESTRATO 1&#x27;, &#x27;ESTRATO 2&#x27;, &#x27;ESTRATO 3&#x27;,\n",
       "                            &#x27;ESTRATO 4&#x27;, &#x27;ESTRATO 5&#x27;, &#x27;ESTRATO 6&#x27;],\n",
       "                           [&#x27;Pequeña&#x27;, &#x27;Mediana&#x27;, &#x27;Grande&#x27;]])</pre></div></div></div></div></div></div></div></div><div class=\"sk-parallel-item\"><div class=\"sk-item\"><div class=\"sk-label-container\"><div class=\"sk-label sk-toggleable\"><input class=\"sk-toggleable__control sk-hidden--visually\" id=\"sk-estimator-id-123\" type=\"checkbox\" ><label for=\"sk-estimator-id-123\" class=\"sk-toggleable__label sk-toggleable__label-arrow\">pipeline-3</label><div class=\"sk-toggleable__content\"><pre>[&#x27;EDAD&#x27;, &#x27;INSTITUCION_NUMERO_DE_SEDES&#x27;]</pre></div></div></div><div class=\"sk-serial\"><div class=\"sk-item\"><div class=\"sk-serial\"><div class=\"sk-item\"><div class=\"sk-estimator sk-toggleable\"><input class=\"sk-toggleable__control sk-hidden--visually\" id=\"sk-estimator-id-124\" type=\"checkbox\" ><label for=\"sk-estimator-id-124\" class=\"sk-toggleable__label sk-toggleable__label-arrow\">StandardScaler</label><div class=\"sk-toggleable__content\"><pre>StandardScaler()</pre></div></div></div></div></div></div></div></div><div class=\"sk-parallel-item\"><div class=\"sk-item\"><div class=\"sk-label-container\"><div class=\"sk-label sk-toggleable\"><input class=\"sk-toggleable__control sk-hidden--visually\" id=\"sk-estimator-id-125\" type=\"checkbox\" ><label for=\"sk-estimator-id-125\" class=\"sk-toggleable__label sk-toggleable__label-arrow\">pipeline-4</label><div class=\"sk-toggleable__content\"><pre>[&#x27;INSTITUCION_NIVEL_BASICA_PRIMARIA&#x27;, &#x27;INSTITUCION_NIVEL_SECUNDARIA_PRIMARIA&#x27;, &#x27;INSTITUCION_NIVEL_MEDIA&#x27;, &#x27;INSTITUCION_NIVEL_PREESCOLAR&#x27;, &#x27;INSTITUCION_NIVEL_PRIMERA_INFANCIA&#x27;, &#x27;INSTITUCION_ESPECIALIDAD_ACADÉMICA&#x27;, &#x27;INSTITUCION_ESPECIALIDAD_AGROPECUARIO&#x27;, &#x27;INSTITUCION_ESPECIALIDAD_COMERCIAL&#x27;, &#x27;INSTITUCION_ESPECIALIDAD_INDUSTRIAL&#x27;, &#x27;INSTITUCION_ESPECIALIDAD_NO_APLICA&#x27;, &#x27;INSTITUCION_ESPECIALIDAD_OTRO&#x27;]</pre></div></div></div><div class=\"sk-serial\"><div class=\"sk-item\"><div class=\"sk-serial\"><div class=\"sk-item\"><div class=\"sk-estimator sk-toggleable\"><input class=\"sk-toggleable__control sk-hidden--visually\" id=\"sk-estimator-id-126\" type=\"checkbox\" ><label for=\"sk-estimator-id-126\" class=\"sk-toggleable__label sk-toggleable__label-arrow\">FunctionTransformer</label><div class=\"sk-toggleable__content\"><pre>FunctionTransformer(func=&lt;function boolean_transformation at 0x000001D1392C3310&gt;)</pre></div></div></div></div></div></div></div></div></div></div><div class=\"sk-item\"><div class=\"sk-estimator sk-toggleable\"><input class=\"sk-toggleable__control sk-hidden--visually\" id=\"sk-estimator-id-127\" type=\"checkbox\" ><label for=\"sk-estimator-id-127\" class=\"sk-toggleable__label sk-toggleable__label-arrow\">XGBClassifier</label><div class=\"sk-toggleable__content\"><pre>XGBClassifier(base_score=None, booster=None, callbacks=None,\n",
       "              colsample_bylevel=None, colsample_bynode=None,\n",
       "              colsample_bytree=None, early_stopping_rounds=None,\n",
       "              enable_categorical=False, eval_metric=None, gamma=None,\n",
       "              gpu_id=None, grow_policy=None, importance_type=None,\n",
       "              interaction_constraints=None, learning_rate=None, max_bin=None,\n",
       "              max_cat_to_onehot=None, max_delta_step=None, max_depth=None,\n",
       "              max_leaves=None, min_child_weight=None, missing=nan,\n",
       "              monotone_constraints=None, n_estimators=100, n_jobs=None,\n",
       "              num_parallel_tree=None, predictor=None, random_state=None,\n",
       "              reg_alpha=None, reg_lambda=None, ...)</pre></div></div></div></div></div></div></div></div></div></div></div></div>"
      ],
      "text/plain": [
       "HalvingGridSearchCV(cv=3,\n",
       "                    estimator=Pipeline(steps=[('columntransformer',\n",
       "                                               ColumnTransformer(transformers=[('pipeline-1',\n",
       "                                                                                Pipeline(steps=[('onehotencoder',\n",
       "                                                                                                 OneHotEncoder(handle_unknown='ignore'))]),\n",
       "                                                                                ['INSTITUCION',\n",
       "                                                                                 'GENERO',\n",
       "                                                                                 'JORNADA',\n",
       "                                                                                 'PAIS_ORIGEN',\n",
       "                                                                                 'DISCAPACIDAD',\n",
       "                                                                                 'SRPA',\n",
       "                                                                                 'INSTITUCION_SECTOR',\n",
       "                                                                                 'INSTITUCION_MODELO',\n",
       "                                                                                 'INSTITUCION_APOYO_ACADEMICO_ESPECIAL',\n",
       "                                                                                 'INSTI...\n",
       "                                                             n_jobs=None,\n",
       "                                                             num_parallel_tree=None,\n",
       "                                                             predictor=None,\n",
       "                                                             random_state=None,\n",
       "                                                             reg_alpha=None,\n",
       "                                                             reg_lambda=None, ...))]),\n",
       "                    n_jobs=-2,\n",
       "                    param_grid={'xgbclassifier__learning_rate': array([0.01]),\n",
       "                                'xgbclassifier__max_depth': array([3]),\n",
       "                                'xgbclassifier__min_child_weight': array([0.5]),\n",
       "                                'xgbclassifier__n_estimators': array([5]),\n",
       "                                'xgbclassifier__reg_lambda': array([0.5])},\n",
       "                    scoring='roc_auc')"
      ]
     },
     "execution_count": 160,
     "metadata": {},
     "output_type": "execute_result"
    }
   ],
   "source": [
    "search.fit(X_train, y_train)"
   ]
  },
  {
   "cell_type": "code",
   "execution_count": 161,
   "id": "892f9502",
   "metadata": {},
   "outputs": [
    {
     "data": {
      "text/plain": [
       "{'xgbclassifier__learning_rate': 0.01,\n",
       " 'xgbclassifier__max_depth': 3,\n",
       " 'xgbclassifier__min_child_weight': 0.5,\n",
       " 'xgbclassifier__n_estimators': 5,\n",
       " 'xgbclassifier__reg_lambda': 0.5}"
      ]
     },
     "execution_count": 161,
     "metadata": {},
     "output_type": "execute_result"
    }
   ],
   "source": [
    "search.best_params_"
   ]
  },
  {
   "cell_type": "code",
   "execution_count": 162,
   "id": "0efca050",
   "metadata": {},
   "outputs": [
    {
     "data": {
      "text/plain": [
       "0.6675848561037127"
      ]
     },
     "execution_count": 162,
     "metadata": {},
     "output_type": "execute_result"
    }
   ],
   "source": [
    "search.best_score_"
   ]
  },
  {
   "cell_type": "code",
   "execution_count": 168,
   "id": "872e02ce",
   "metadata": {},
   "outputs": [],
   "source": [
    "xgb_test = xgb.XGBClassifier(learning_rate=0.01,max_depth= 3,n_estimators=5,min_child_weight=5,reg_lambda=0.5, random_state = 42)"
   ]
  },
  {
   "cell_type": "code",
   "execution_count": 169,
   "id": "432a119b",
   "metadata": {},
   "outputs": [],
   "source": [
    "xgb_test = make_pipeline(preprocessor, xgb_test)"
   ]
  },
  {
   "cell_type": "code",
   "execution_count": 170,
   "id": "dc5ddbcb",
   "metadata": {},
   "outputs": [
    {
     "data": {
      "text/html": [
       "<style>#sk-container-id-12 {color: black;background-color: white;}#sk-container-id-12 pre{padding: 0;}#sk-container-id-12 div.sk-toggleable {background-color: white;}#sk-container-id-12 label.sk-toggleable__label {cursor: pointer;display: block;width: 100%;margin-bottom: 0;padding: 0.3em;box-sizing: border-box;text-align: center;}#sk-container-id-12 label.sk-toggleable__label-arrow:before {content: \"▸\";float: left;margin-right: 0.25em;color: #696969;}#sk-container-id-12 label.sk-toggleable__label-arrow:hover:before {color: black;}#sk-container-id-12 div.sk-estimator:hover label.sk-toggleable__label-arrow:before {color: black;}#sk-container-id-12 div.sk-toggleable__content {max-height: 0;max-width: 0;overflow: hidden;text-align: left;background-color: #f0f8ff;}#sk-container-id-12 div.sk-toggleable__content pre {margin: 0.2em;color: black;border-radius: 0.25em;background-color: #f0f8ff;}#sk-container-id-12 input.sk-toggleable__control:checked~div.sk-toggleable__content {max-height: 200px;max-width: 100%;overflow: auto;}#sk-container-id-12 input.sk-toggleable__control:checked~label.sk-toggleable__label-arrow:before {content: \"▾\";}#sk-container-id-12 div.sk-estimator input.sk-toggleable__control:checked~label.sk-toggleable__label {background-color: #d4ebff;}#sk-container-id-12 div.sk-label input.sk-toggleable__control:checked~label.sk-toggleable__label {background-color: #d4ebff;}#sk-container-id-12 input.sk-hidden--visually {border: 0;clip: rect(1px 1px 1px 1px);clip: rect(1px, 1px, 1px, 1px);height: 1px;margin: -1px;overflow: hidden;padding: 0;position: absolute;width: 1px;}#sk-container-id-12 div.sk-estimator {font-family: monospace;background-color: #f0f8ff;border: 1px dotted black;border-radius: 0.25em;box-sizing: border-box;margin-bottom: 0.5em;}#sk-container-id-12 div.sk-estimator:hover {background-color: #d4ebff;}#sk-container-id-12 div.sk-parallel-item::after {content: \"\";width: 100%;border-bottom: 1px solid gray;flex-grow: 1;}#sk-container-id-12 div.sk-label:hover label.sk-toggleable__label {background-color: #d4ebff;}#sk-container-id-12 div.sk-serial::before {content: \"\";position: absolute;border-left: 1px solid gray;box-sizing: border-box;top: 0;bottom: 0;left: 50%;z-index: 0;}#sk-container-id-12 div.sk-serial {display: flex;flex-direction: column;align-items: center;background-color: white;padding-right: 0.2em;padding-left: 0.2em;position: relative;}#sk-container-id-12 div.sk-item {position: relative;z-index: 1;}#sk-container-id-12 div.sk-parallel {display: flex;align-items: stretch;justify-content: center;background-color: white;position: relative;}#sk-container-id-12 div.sk-item::before, #sk-container-id-12 div.sk-parallel-item::before {content: \"\";position: absolute;border-left: 1px solid gray;box-sizing: border-box;top: 0;bottom: 0;left: 50%;z-index: -1;}#sk-container-id-12 div.sk-parallel-item {display: flex;flex-direction: column;z-index: 1;position: relative;background-color: white;}#sk-container-id-12 div.sk-parallel-item:first-child::after {align-self: flex-end;width: 50%;}#sk-container-id-12 div.sk-parallel-item:last-child::after {align-self: flex-start;width: 50%;}#sk-container-id-12 div.sk-parallel-item:only-child::after {width: 0;}#sk-container-id-12 div.sk-dashed-wrapped {border: 1px dashed gray;margin: 0 0.4em 0.5em 0.4em;box-sizing: border-box;padding-bottom: 0.4em;background-color: white;}#sk-container-id-12 div.sk-label label {font-family: monospace;font-weight: bold;display: inline-block;line-height: 1.2em;}#sk-container-id-12 div.sk-label-container {text-align: center;}#sk-container-id-12 div.sk-container {/* jupyter's `normalize.less` sets `[hidden] { display: none; }` but bootstrap.min.css set `[hidden] { display: none !important; }` so we also need the `!important` here to be able to override the default hidden behavior on the sphinx rendered scikit-learn.org. See: https://github.com/scikit-learn/scikit-learn/issues/21755 */display: inline-block !important;position: relative;}#sk-container-id-12 div.sk-text-repr-fallback {display: none;}</style><div id=\"sk-container-id-12\" class=\"sk-top-container\"><div class=\"sk-text-repr-fallback\"><pre>Pipeline(steps=[(&#x27;columntransformer&#x27;,\n",
       "                 ColumnTransformer(transformers=[(&#x27;pipeline-1&#x27;,\n",
       "                                                  Pipeline(steps=[(&#x27;onehotencoder&#x27;,\n",
       "                                                                   OneHotEncoder(handle_unknown=&#x27;ignore&#x27;))]),\n",
       "                                                  [&#x27;INSTITUCION&#x27;, &#x27;GENERO&#x27;,\n",
       "                                                   &#x27;JORNADA&#x27;, &#x27;PAIS_ORIGEN&#x27;,\n",
       "                                                   &#x27;DISCAPACIDAD&#x27;, &#x27;SRPA&#x27;,\n",
       "                                                   &#x27;INSTITUCION_SECTOR&#x27;,\n",
       "                                                   &#x27;INSTITUCION_MODELO&#x27;,\n",
       "                                                   &#x27;INSTITUCION_APOYO_ACADEMICO_ESPECIAL&#x27;,\n",
       "                                                   &#x27;INSTITUCION_ZONA&#x27;,\n",
       "                                                   &#x27;INSTITUCION_CARACTER&#x27;...\n",
       "                               gamma=0, gpu_id=-1, grow_policy=&#x27;depthwise&#x27;,\n",
       "                               importance_type=None, interaction_constraints=&#x27;&#x27;,\n",
       "                               learning_rate=0.01, max_bin=256,\n",
       "                               max_cat_to_onehot=4, max_delta_step=0,\n",
       "                               max_depth=3, max_leaves=0, min_child_weight=5,\n",
       "                               missing=nan, monotone_constraints=&#x27;()&#x27;,\n",
       "                               n_estimators=5, n_jobs=0, num_parallel_tree=1,\n",
       "                               predictor=&#x27;auto&#x27;, random_state=42, reg_alpha=0,\n",
       "                               reg_lambda=0.5, ...))])</pre><b>In a Jupyter environment, please rerun this cell to show the HTML representation or trust the notebook. <br />On GitHub, the HTML representation is unable to render, please try loading this page with nbviewer.org.</b></div><div class=\"sk-container\" hidden><div class=\"sk-item sk-dashed-wrapped\"><div class=\"sk-label-container\"><div class=\"sk-label sk-toggleable\"><input class=\"sk-toggleable__control sk-hidden--visually\" id=\"sk-estimator-id-128\" type=\"checkbox\" ><label for=\"sk-estimator-id-128\" class=\"sk-toggleable__label sk-toggleable__label-arrow\">Pipeline</label><div class=\"sk-toggleable__content\"><pre>Pipeline(steps=[(&#x27;columntransformer&#x27;,\n",
       "                 ColumnTransformer(transformers=[(&#x27;pipeline-1&#x27;,\n",
       "                                                  Pipeline(steps=[(&#x27;onehotencoder&#x27;,\n",
       "                                                                   OneHotEncoder(handle_unknown=&#x27;ignore&#x27;))]),\n",
       "                                                  [&#x27;INSTITUCION&#x27;, &#x27;GENERO&#x27;,\n",
       "                                                   &#x27;JORNADA&#x27;, &#x27;PAIS_ORIGEN&#x27;,\n",
       "                                                   &#x27;DISCAPACIDAD&#x27;, &#x27;SRPA&#x27;,\n",
       "                                                   &#x27;INSTITUCION_SECTOR&#x27;,\n",
       "                                                   &#x27;INSTITUCION_MODELO&#x27;,\n",
       "                                                   &#x27;INSTITUCION_APOYO_ACADEMICO_ESPECIAL&#x27;,\n",
       "                                                   &#x27;INSTITUCION_ZONA&#x27;,\n",
       "                                                   &#x27;INSTITUCION_CARACTER&#x27;...\n",
       "                               gamma=0, gpu_id=-1, grow_policy=&#x27;depthwise&#x27;,\n",
       "                               importance_type=None, interaction_constraints=&#x27;&#x27;,\n",
       "                               learning_rate=0.01, max_bin=256,\n",
       "                               max_cat_to_onehot=4, max_delta_step=0,\n",
       "                               max_depth=3, max_leaves=0, min_child_weight=5,\n",
       "                               missing=nan, monotone_constraints=&#x27;()&#x27;,\n",
       "                               n_estimators=5, n_jobs=0, num_parallel_tree=1,\n",
       "                               predictor=&#x27;auto&#x27;, random_state=42, reg_alpha=0,\n",
       "                               reg_lambda=0.5, ...))])</pre></div></div></div><div class=\"sk-serial\"><div class=\"sk-item sk-dashed-wrapped\"><div class=\"sk-label-container\"><div class=\"sk-label sk-toggleable\"><input class=\"sk-toggleable__control sk-hidden--visually\" id=\"sk-estimator-id-129\" type=\"checkbox\" ><label for=\"sk-estimator-id-129\" class=\"sk-toggleable__label sk-toggleable__label-arrow\">columntransformer: ColumnTransformer</label><div class=\"sk-toggleable__content\"><pre>ColumnTransformer(transformers=[(&#x27;pipeline-1&#x27;,\n",
       "                                 Pipeline(steps=[(&#x27;onehotencoder&#x27;,\n",
       "                                                  OneHotEncoder(handle_unknown=&#x27;ignore&#x27;))]),\n",
       "                                 [&#x27;INSTITUCION&#x27;, &#x27;GENERO&#x27;, &#x27;JORNADA&#x27;,\n",
       "                                  &#x27;PAIS_ORIGEN&#x27;, &#x27;DISCAPACIDAD&#x27;, &#x27;SRPA&#x27;,\n",
       "                                  &#x27;INSTITUCION_SECTOR&#x27;, &#x27;INSTITUCION_MODELO&#x27;,\n",
       "                                  &#x27;INSTITUCION_APOYO_ACADEMICO_ESPECIAL&#x27;,\n",
       "                                  &#x27;INSTITUCION_ZONA&#x27;, &#x27;INSTITUCION_CARACTER&#x27;,\n",
       "                                  &#x27;INSTITUCION_ESTADO&#x27;,\n",
       "                                  &#x27;INSTITUCION_PR...\n",
       "                                  &#x27;INSTITUCION_NIVEL_SECUNDARIA_PRIMARIA&#x27;,\n",
       "                                  &#x27;INSTITUCION_NIVEL_MEDIA&#x27;,\n",
       "                                  &#x27;INSTITUCION_NIVEL_PREESCOLAR&#x27;,\n",
       "                                  &#x27;INSTITUCION_NIVEL_PRIMERA_INFANCIA&#x27;,\n",
       "                                  &#x27;INSTITUCION_ESPECIALIDAD_ACADÉMICA&#x27;,\n",
       "                                  &#x27;INSTITUCION_ESPECIALIDAD_AGROPECUARIO&#x27;,\n",
       "                                  &#x27;INSTITUCION_ESPECIALIDAD_COMERCIAL&#x27;,\n",
       "                                  &#x27;INSTITUCION_ESPECIALIDAD_INDUSTRIAL&#x27;,\n",
       "                                  &#x27;INSTITUCION_ESPECIALIDAD_NO_APLICA&#x27;,\n",
       "                                  &#x27;INSTITUCION_ESPECIALIDAD_OTRO&#x27;])])</pre></div></div></div><div class=\"sk-parallel\"><div class=\"sk-parallel-item\"><div class=\"sk-item\"><div class=\"sk-label-container\"><div class=\"sk-label sk-toggleable\"><input class=\"sk-toggleable__control sk-hidden--visually\" id=\"sk-estimator-id-130\" type=\"checkbox\" ><label for=\"sk-estimator-id-130\" class=\"sk-toggleable__label sk-toggleable__label-arrow\">pipeline-1</label><div class=\"sk-toggleable__content\"><pre>[&#x27;INSTITUCION&#x27;, &#x27;GENERO&#x27;, &#x27;JORNADA&#x27;, &#x27;PAIS_ORIGEN&#x27;, &#x27;DISCAPACIDAD&#x27;, &#x27;SRPA&#x27;, &#x27;INSTITUCION_SECTOR&#x27;, &#x27;INSTITUCION_MODELO&#x27;, &#x27;INSTITUCION_APOYO_ACADEMICO_ESPECIAL&#x27;, &#x27;INSTITUCION_ZONA&#x27;, &#x27;INSTITUCION_CARACTER&#x27;, &#x27;INSTITUCION_ESTADO&#x27;, &#x27;INSTITUCION_PRESTADOR_DE_SERVICIO&#x27;]</pre></div></div></div><div class=\"sk-serial\"><div class=\"sk-item\"><div class=\"sk-serial\"><div class=\"sk-item\"><div class=\"sk-estimator sk-toggleable\"><input class=\"sk-toggleable__control sk-hidden--visually\" id=\"sk-estimator-id-131\" type=\"checkbox\" ><label for=\"sk-estimator-id-131\" class=\"sk-toggleable__label sk-toggleable__label-arrow\">OneHotEncoder</label><div class=\"sk-toggleable__content\"><pre>OneHotEncoder(handle_unknown=&#x27;ignore&#x27;)</pre></div></div></div></div></div></div></div></div><div class=\"sk-parallel-item\"><div class=\"sk-item\"><div class=\"sk-label-container\"><div class=\"sk-label sk-toggleable\"><input class=\"sk-toggleable__control sk-hidden--visually\" id=\"sk-estimator-id-132\" type=\"checkbox\" ><label for=\"sk-estimator-id-132\" class=\"sk-toggleable__label sk-toggleable__label-arrow\">pipeline-2</label><div class=\"sk-toggleable__content\"><pre>[&#x27;GRADO_COD&#x27;, &#x27;ESTRATO&#x27;, &#x27;INSTITUCION_TAMAÑO&#x27;]</pre></div></div></div><div class=\"sk-serial\"><div class=\"sk-item\"><div class=\"sk-serial\"><div class=\"sk-item\"><div class=\"sk-estimator sk-toggleable\"><input class=\"sk-toggleable__control sk-hidden--visually\" id=\"sk-estimator-id-133\" type=\"checkbox\" ><label for=\"sk-estimator-id-133\" class=\"sk-toggleable__label sk-toggleable__label-arrow\">OrdinalEncoder</label><div class=\"sk-toggleable__content\"><pre>OrdinalEncoder(categories=[[-2.0, -1.0, 0.0, 1.0, 2.0, 3.0, 4.0, 5.0, 6.0, 7.0,\n",
       "                            8.0, 9.0, 10.0, 11.0, 12.0, 20.0, 21.0, 22.0, 23.0,\n",
       "                            24.0, 25.0, 26.0],\n",
       "                           [&#x27;ESTRATO 0&#x27;, &#x27;ESTRATO 1&#x27;, &#x27;ESTRATO 2&#x27;, &#x27;ESTRATO 3&#x27;,\n",
       "                            &#x27;ESTRATO 4&#x27;, &#x27;ESTRATO 5&#x27;, &#x27;ESTRATO 6&#x27;],\n",
       "                           [&#x27;Pequeña&#x27;, &#x27;Mediana&#x27;, &#x27;Grande&#x27;]])</pre></div></div></div></div></div></div></div></div><div class=\"sk-parallel-item\"><div class=\"sk-item\"><div class=\"sk-label-container\"><div class=\"sk-label sk-toggleable\"><input class=\"sk-toggleable__control sk-hidden--visually\" id=\"sk-estimator-id-134\" type=\"checkbox\" ><label for=\"sk-estimator-id-134\" class=\"sk-toggleable__label sk-toggleable__label-arrow\">pipeline-3</label><div class=\"sk-toggleable__content\"><pre>[&#x27;EDAD&#x27;, &#x27;INSTITUCION_NUMERO_DE_SEDES&#x27;]</pre></div></div></div><div class=\"sk-serial\"><div class=\"sk-item\"><div class=\"sk-serial\"><div class=\"sk-item\"><div class=\"sk-estimator sk-toggleable\"><input class=\"sk-toggleable__control sk-hidden--visually\" id=\"sk-estimator-id-135\" type=\"checkbox\" ><label for=\"sk-estimator-id-135\" class=\"sk-toggleable__label sk-toggleable__label-arrow\">StandardScaler</label><div class=\"sk-toggleable__content\"><pre>StandardScaler()</pre></div></div></div></div></div></div></div></div><div class=\"sk-parallel-item\"><div class=\"sk-item\"><div class=\"sk-label-container\"><div class=\"sk-label sk-toggleable\"><input class=\"sk-toggleable__control sk-hidden--visually\" id=\"sk-estimator-id-136\" type=\"checkbox\" ><label for=\"sk-estimator-id-136\" class=\"sk-toggleable__label sk-toggleable__label-arrow\">pipeline-4</label><div class=\"sk-toggleable__content\"><pre>[&#x27;INSTITUCION_NIVEL_BASICA_PRIMARIA&#x27;, &#x27;INSTITUCION_NIVEL_SECUNDARIA_PRIMARIA&#x27;, &#x27;INSTITUCION_NIVEL_MEDIA&#x27;, &#x27;INSTITUCION_NIVEL_PREESCOLAR&#x27;, &#x27;INSTITUCION_NIVEL_PRIMERA_INFANCIA&#x27;, &#x27;INSTITUCION_ESPECIALIDAD_ACADÉMICA&#x27;, &#x27;INSTITUCION_ESPECIALIDAD_AGROPECUARIO&#x27;, &#x27;INSTITUCION_ESPECIALIDAD_COMERCIAL&#x27;, &#x27;INSTITUCION_ESPECIALIDAD_INDUSTRIAL&#x27;, &#x27;INSTITUCION_ESPECIALIDAD_NO_APLICA&#x27;, &#x27;INSTITUCION_ESPECIALIDAD_OTRO&#x27;]</pre></div></div></div><div class=\"sk-serial\"><div class=\"sk-item\"><div class=\"sk-serial\"><div class=\"sk-item\"><div class=\"sk-estimator sk-toggleable\"><input class=\"sk-toggleable__control sk-hidden--visually\" id=\"sk-estimator-id-137\" type=\"checkbox\" ><label for=\"sk-estimator-id-137\" class=\"sk-toggleable__label sk-toggleable__label-arrow\">FunctionTransformer</label><div class=\"sk-toggleable__content\"><pre>FunctionTransformer(func=&lt;function boolean_transformation at 0x000001D1392C3310&gt;)</pre></div></div></div></div></div></div></div></div></div></div><div class=\"sk-item\"><div class=\"sk-estimator sk-toggleable\"><input class=\"sk-toggleable__control sk-hidden--visually\" id=\"sk-estimator-id-138\" type=\"checkbox\" ><label for=\"sk-estimator-id-138\" class=\"sk-toggleable__label sk-toggleable__label-arrow\">XGBClassifier</label><div class=\"sk-toggleable__content\"><pre>XGBClassifier(base_score=0.5, booster=&#x27;gbtree&#x27;, callbacks=None,\n",
       "              colsample_bylevel=1, colsample_bynode=1, colsample_bytree=1,\n",
       "              early_stopping_rounds=None, enable_categorical=False,\n",
       "              eval_metric=None, gamma=0, gpu_id=-1, grow_policy=&#x27;depthwise&#x27;,\n",
       "              importance_type=None, interaction_constraints=&#x27;&#x27;,\n",
       "              learning_rate=0.01, max_bin=256, max_cat_to_onehot=4,\n",
       "              max_delta_step=0, max_depth=3, max_leaves=0, min_child_weight=5,\n",
       "              missing=nan, monotone_constraints=&#x27;()&#x27;, n_estimators=5, n_jobs=0,\n",
       "              num_parallel_tree=1, predictor=&#x27;auto&#x27;, random_state=42,\n",
       "              reg_alpha=0, reg_lambda=0.5, ...)</pre></div></div></div></div></div></div></div>"
      ],
      "text/plain": [
       "Pipeline(steps=[('columntransformer',\n",
       "                 ColumnTransformer(transformers=[('pipeline-1',\n",
       "                                                  Pipeline(steps=[('onehotencoder',\n",
       "                                                                   OneHotEncoder(handle_unknown='ignore'))]),\n",
       "                                                  ['INSTITUCION', 'GENERO',\n",
       "                                                   'JORNADA', 'PAIS_ORIGEN',\n",
       "                                                   'DISCAPACIDAD', 'SRPA',\n",
       "                                                   'INSTITUCION_SECTOR',\n",
       "                                                   'INSTITUCION_MODELO',\n",
       "                                                   'INSTITUCION_APOYO_ACADEMICO_ESPECIAL',\n",
       "                                                   'INSTITUCION_ZONA',\n",
       "                                                   'INSTITUCION_CARACTER'...\n",
       "                               gamma=0, gpu_id=-1, grow_policy='depthwise',\n",
       "                               importance_type=None, interaction_constraints='',\n",
       "                               learning_rate=0.01, max_bin=256,\n",
       "                               max_cat_to_onehot=4, max_delta_step=0,\n",
       "                               max_depth=3, max_leaves=0, min_child_weight=5,\n",
       "                               missing=nan, monotone_constraints='()',\n",
       "                               n_estimators=5, n_jobs=0, num_parallel_tree=1,\n",
       "                               predictor='auto', random_state=42, reg_alpha=0,\n",
       "                               reg_lambda=0.5, ...))])"
      ]
     },
     "execution_count": 170,
     "metadata": {},
     "output_type": "execute_result"
    }
   ],
   "source": [
    "xgb_test.fit(X_train, y_train)"
   ]
  },
  {
   "cell_type": "code",
   "execution_count": 171,
   "id": "4a4e3fd0",
   "metadata": {},
   "outputs": [
    {
     "data": {
      "image/png": "[encoded data removed]",
      "text/plain": [
       "<Figure size 360x360 with 1 Axes>"
      ]
     },
     "metadata": {
      "needs_background": "light"
     },
     "output_type": "display_data"
    }
   ],
   "source": [
    "cxgb = confusion_matrix(y_test, xgb_test.predict(X_test))\n",
    "\n",
    "fig, ax = plt.subplots(figsize=(5, 5))\n",
    "ax.imshow(cxgb,cmap ='Pastel1')\n",
    "ax.grid(False)\n",
    "ax.xaxis.set(ticks=(0, 1), ticklabels=('Predicted 0s', 'Predicted 1s'))\n",
    "ax.yaxis.set(ticks=(0, 1), ticklabels=('Actual 0s', 'Actual 1s'))\n",
    "ax.set_ylim(1.5, -0.5)\n",
    "for i in range(2):\n",
    "    for j in range(2):\n",
    "        ax.text(j, i, cxgb[i, j], ha='center', va='center', color='black')\n",
    "plt.show()"
   ]
  },
  {
   "cell_type": "code",
   "execution_count": 172,
   "id": "98c09809",
   "metadata": {},
   "outputs": [
    {
     "name": "stdout",
     "output_type": "stream",
     "text": [
      "              precision    recall  f1-score   support\n",
      "\n",
      "           0       0.92      1.00      0.96      1032\n",
      "           1       0.00      0.00      0.00        90\n",
      "\n",
      "    accuracy                           0.92      1122\n",
      "   macro avg       0.46      0.50      0.48      1122\n",
      "weighted avg       0.85      0.92      0.88      1122\n",
      "\n"
     ]
    },
    {
     "name": "stderr",
     "output_type": "stream",
     "text": [
      "C:\\Users\\Nelcy-Aflore\\anaconda3\\lib\\site-packages\\sklearn\\metrics\\_classification.py:1327: UndefinedMetricWarning: Precision and F-score are ill-defined and being set to 0.0 in labels with no predicted samples. Use `zero_division` parameter to control this behavior.\n",
      "  _warn_prf(average, modifier, msg_start, len(result))\n",
      "C:\\Users\\Nelcy-Aflore\\anaconda3\\lib\\site-packages\\sklearn\\metrics\\_classification.py:1327: UndefinedMetricWarning: Precision and F-score are ill-defined and being set to 0.0 in labels with no predicted samples. Use `zero_division` parameter to control this behavior.\n",
      "  _warn_prf(average, modifier, msg_start, len(result))\n",
      "C:\\Users\\Nelcy-Aflore\\anaconda3\\lib\\site-packages\\sklearn\\metrics\\_classification.py:1327: UndefinedMetricWarning: Precision and F-score are ill-defined and being set to 0.0 in labels with no predicted samples. Use `zero_division` parameter to control this behavior.\n",
      "  _warn_prf(average, modifier, msg_start, len(result))\n"
     ]
    }
   ],
   "source": [
    "print(classification_report(y_test, xgb_test.predict(X_test)))"
   ]
  },
  {
   "cell_type": "code",
   "execution_count": 173,
   "id": "8188c7aa",
   "metadata": {},
   "outputs": [
    {
     "name": "stdout",
     "output_type": "stream",
     "text": [
      "Curva ROC - AUC del modelo:\n"
     ]
    },
    {
     "data": {
      "text/plain": [
       "0.5"
      ]
     },
     "execution_count": 173,
     "metadata": {},
     "output_type": "execute_result"
    }
   ],
   "source": [
    "print(\"Curva ROC - AUC del modelo:\")\n",
    "roc_auc_score(y_test,xgb_test.predict(X_test))"
   ]
  },
  {
   "cell_type": "code",
   "execution_count": null,
   "id": "cc9184ff",
   "metadata": {},
   "outputs": [],
   "source": []
  },
  {
   "cell_type": "code",
   "execution_count": null,
   "id": "8c34e769",
   "metadata": {},
   "outputs": [],
   "source": []
  }
 ],
 "metadata": {
  "kernelspec": {
   "display_name": "Python 3 (ipykernel)",
   "language": "python",
   "name": "python3"
  },
  "language_info": {
   "codemirror_mode": {
    "name": "ipython",
    "version": 3
   },
   "file_extension": ".py",
   "mimetype": "text/x-python",
   "name": "python",
   "nbconvert_exporter": "python",
   "pygments_lexer": "ipython3",
   "version": "3.9.7"
  }
 },
 "nbformat": 4,
 "nbformat_minor": 5
}
