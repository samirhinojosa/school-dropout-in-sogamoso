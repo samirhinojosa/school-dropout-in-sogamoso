{
 "cells": [
  {
   "cell_type": "markdown",
   "id": "dc83a416-2b81-452e-b59a-46e74c8aeb12",
   "metadata": {
    "tags": []
   },
   "source": [
    "<h1 style=\"margin: auto; font-weight: bold; padding: 30px 30px 0px 30px; color:#000;\" align=\"center\">SCHOOL DROPOUT IN SOGAMOSO</h1>\n",
    "<p style=\"width: 100%; text-align: center; margin: 0px; padding: 0px; font-size: 24px; color:#000;\" align=\"center\">| MODELING Notebook |</p>\n",
    "<p style=\"width: 100%; text-align: center; margin: 0px; padding: 0px; font-size: 20px; color:#000;\" align=\"center\">Correlation One - DS4A</p>\n",
    "<p style=\"text-align:center;\">This notebook contains the <b>MODELING</b> of the machine learning algorithms based on the selected features.</p>"
   ]
  },
  {
   "cell_type": "markdown",
   "id": "795ef4f3-ba39-4ae1-9320-d69b7ad69a39",
   "metadata": {},
   "source": [
    "## 1. Libraries"
   ]
  },
  {
   "cell_type": "code",
   "execution_count": 137,
   "id": "5ce77a15-67d2-4d99-b280-3af8eb5f5828",
   "metadata": {
    "tags": []
   },
   "outputs": [],
   "source": [
    "# General\n",
    "import timeit\n",
    "import pandas as pd\n",
    "import numpy as np\n",
    "import matplotlib.pyplot as plt\n",
    "import seaborn as sns\n",
    "\n",
    "# Scikit-learn ligrary\n",
    "from sklearn.experimental import enable_halving_search_cv\n",
    "from sklearn.model_selection import (train_test_split, StratifiedKFold,\n",
    "                                    KFold, cross_validate, HalvingGridSearchCV)\n",
    "from sklearn.pipeline import make_pipeline\n",
    "from sklearn.compose import make_column_transformer\n",
    "from sklearn.preprocessing import (StandardScaler, OneHotEncoder,\n",
    "                                   OrdinalEncoder, FunctionTransformer)\n",
    "from sklearn.dummy import DummyClassifier\n",
    "from sklearn.linear_model import LogisticRegressionCV\n",
    "from sklearn.ensemble import RandomForestClassifier, GradientBoostingClassifier\n",
    "from sklearn.metrics import (roc_auc_score, confusion_matrix,recall_score,\n",
    "                             f1_score, precision_score, ConfusionMatrixDisplay,\n",
    "                             roc_curve, precision_recall_curve)\n",
    "\n",
    "\n",
    "# from sklearn.metrics import (precision_score, roc_auc_score, recall_score, \n",
    "#                              f1_score, fbeta_score, confusion_matrix, roc_curve, \n",
    "#                              PrecisionRecallDisplay, ConfusionMatrixDisplay,\n",
    "#                             precision_recall_curve)\n",
    "\n",
    "# XGBoost ligrary\n",
    "from xgboost import XGBClassifier\n",
    "\n",
    "# Imbalanced-learn ligrary\n",
    "from imblearn.pipeline import Pipeline as imbpipeline\n",
    "from imblearn.over_sampling import SMOTE\n",
    "\n",
    "# Own specific functions \n",
    "from functions import *"
   ]
  },
  {
   "cell_type": "markdown",
   "id": "691c3184-e596-4de4-af4a-0510ce990d0c",
   "metadata": {
    "tags": []
   },
   "source": [
    "## 2. Importing files"
   ]
  },
  {
   "cell_type": "code",
   "execution_count": 2,
   "id": "d4c58285-152b-4e17-9584-6ac0663bec1f",
   "metadata": {},
   "outputs": [],
   "source": [
    "df_students = pd.read_csv(\"datasets/df_students.csv\")"
   ]
  },
  {
   "cell_type": "code",
   "execution_count": 3,
   "id": "80b35b4e-650f-4217-b878-a724e81c260e",
   "metadata": {},
   "outputs": [
    {
     "name": "stdout",
     "output_type": "stream",
     "text": [
      "\n",
      "Analysis header\n",
      "--------------------------------------------------------------------------------\n",
      "- Dataset shape:\t\t\t 311866 rows and 35 columns\n",
      "- Total of NaN values:\t\t\t 183550\n",
      "- Percentage of NaN:\t\t\t 1.68 %\n",
      "- Total of infinite values:\t\t 0\n",
      "- Total of empty columns:\t\t 0\n",
      "- Total of empty rows:\t\t\t 0\n",
      "- Total of full duplicates rows:\t 0\n",
      "- Unique indexes:\t\t\t True\n",
      "- Memory usage:\t\t\t\t 83.3+ MB\n",
      "\n",
      "- The key(s):\t ['PER_ID_AÑO'] is not present multiple times in the dataframe. \n",
      "\t\t It CAN be used as a primary key.\n",
      "\n",
      "\n",
      "Detailed analysis\n",
      "--------------------------------------------------------------------------------\n"
     ]
    },
    {
     "data": {
      "text/html": [
       "<div>\n",
       "<style scoped>\n",
       "    .dataframe tbody tr th:only-of-type {\n",
       "        vertical-align: middle;\n",
       "    }\n",
       "\n",
       "    .dataframe tbody tr th {\n",
       "        vertical-align: top;\n",
       "    }\n",
       "\n",
       "    .dataframe thead th {\n",
       "        text-align: right;\n",
       "    }\n",
       "</style>\n",
       "<table border=\"1\" class=\"dataframe\">\n",
       "  <thead>\n",
       "    <tr style=\"text-align: right;\">\n",
       "      <th></th>\n",
       "      <th>name</th>\n",
       "      <th>type</th>\n",
       "      <th>records</th>\n",
       "      <th>unique</th>\n",
       "      <th># NaN</th>\n",
       "      <th>% NaN</th>\n",
       "      <th>mean</th>\n",
       "      <th>min</th>\n",
       "      <th>25%</th>\n",
       "      <th>50%</th>\n",
       "      <th>75%</th>\n",
       "      <th>max</th>\n",
       "      <th>std</th>\n",
       "    </tr>\n",
       "  </thead>\n",
       "  <tbody>\n",
       "    <tr>\n",
       "      <th>0</th>\n",
       "      <td>AÑO</td>\n",
       "      <td>int64</td>\n",
       "      <td>311866</td>\n",
       "      <td>10</td>\n",
       "      <td>0</td>\n",
       "      <td>0.00000</td>\n",
       "      <td>2017.44093</td>\n",
       "      <td>2013.00000</td>\n",
       "      <td>2015.00000</td>\n",
       "      <td>2017.00000</td>\n",
       "      <td>2020.00000</td>\n",
       "      <td>2022.00000</td>\n",
       "      <td>2.88220</td>\n",
       "    </tr>\n",
       "    <tr>\n",
       "      <th>1</th>\n",
       "      <td>INSTITUCION</td>\n",
       "      <td>object</td>\n",
       "      <td>311866</td>\n",
       "      <td>76</td>\n",
       "      <td>0</td>\n",
       "      <td>0.00000</td>\n",
       "      <td>NaN</td>\n",
       "      <td>NaN</td>\n",
       "      <td>NaN</td>\n",
       "      <td>NaN</td>\n",
       "      <td>NaN</td>\n",
       "      <td>NaN</td>\n",
       "      <td>NaN</td>\n",
       "    </tr>\n",
       "    <tr>\n",
       "      <th>33</th>\n",
       "      <td>INSTITUCION_ESPECIALIDAD_NO_APLICA</td>\n",
       "      <td>int64</td>\n",
       "      <td>311866</td>\n",
       "      <td>2</td>\n",
       "      <td>0</td>\n",
       "      <td>0.00000</td>\n",
       "      <td>0.38291</td>\n",
       "      <td>0.00000</td>\n",
       "      <td>0.00000</td>\n",
       "      <td>0.00000</td>\n",
       "      <td>1.00000</td>\n",
       "      <td>1.00000</td>\n",
       "      <td>0.48610</td>\n",
       "    </tr>\n",
       "    <tr>\n",
       "      <th>32</th>\n",
       "      <td>INSTITUCION_ESPECIALIDAD_INDUSTRIAL</td>\n",
       "      <td>int64</td>\n",
       "      <td>311866</td>\n",
       "      <td>2</td>\n",
       "      <td>0</td>\n",
       "      <td>0.00000</td>\n",
       "      <td>0.63968</td>\n",
       "      <td>0.00000</td>\n",
       "      <td>0.00000</td>\n",
       "      <td>1.00000</td>\n",
       "      <td>1.00000</td>\n",
       "      <td>1.00000</td>\n",
       "      <td>0.48010</td>\n",
       "    </tr>\n",
       "    <tr>\n",
       "      <th>31</th>\n",
       "      <td>INSTITUCION_ESPECIALIDAD_COMERCIAL</td>\n",
       "      <td>int64</td>\n",
       "      <td>311866</td>\n",
       "      <td>2</td>\n",
       "      <td>0</td>\n",
       "      <td>0.00000</td>\n",
       "      <td>0.00878</td>\n",
       "      <td>0.00000</td>\n",
       "      <td>0.00000</td>\n",
       "      <td>0.00000</td>\n",
       "      <td>0.00000</td>\n",
       "      <td>1.00000</td>\n",
       "      <td>0.09327</td>\n",
       "    </tr>\n",
       "    <tr>\n",
       "      <th>30</th>\n",
       "      <td>INSTITUCION_ESPECIALIDAD_AGROPECUARIO</td>\n",
       "      <td>int64</td>\n",
       "      <td>311866</td>\n",
       "      <td>2</td>\n",
       "      <td>0</td>\n",
       "      <td>0.00000</td>\n",
       "      <td>0.07492</td>\n",
       "      <td>0.00000</td>\n",
       "      <td>0.00000</td>\n",
       "      <td>0.00000</td>\n",
       "      <td>0.00000</td>\n",
       "      <td>1.00000</td>\n",
       "      <td>0.26327</td>\n",
       "    </tr>\n",
       "    <tr>\n",
       "      <th>29</th>\n",
       "      <td>INSTITUCION_ESPECIALIDAD_ACADÉMICA</td>\n",
       "      <td>int64</td>\n",
       "      <td>311866</td>\n",
       "      <td>2</td>\n",
       "      <td>0</td>\n",
       "      <td>0.00000</td>\n",
       "      <td>0.90453</td>\n",
       "      <td>0.00000</td>\n",
       "      <td>1.00000</td>\n",
       "      <td>1.00000</td>\n",
       "      <td>1.00000</td>\n",
       "      <td>1.00000</td>\n",
       "      <td>0.29386</td>\n",
       "    </tr>\n",
       "    <tr>\n",
       "      <th>28</th>\n",
       "      <td>INSTITUCION_NIVEL_PRIMERA_INFANCIA</td>\n",
       "      <td>int64</td>\n",
       "      <td>311866</td>\n",
       "      <td>2</td>\n",
       "      <td>0</td>\n",
       "      <td>0.00000</td>\n",
       "      <td>0.10307</td>\n",
       "      <td>0.00000</td>\n",
       "      <td>0.00000</td>\n",
       "      <td>0.00000</td>\n",
       "      <td>0.00000</td>\n",
       "      <td>1.00000</td>\n",
       "      <td>0.30405</td>\n",
       "    </tr>\n",
       "    <tr>\n",
       "      <th>27</th>\n",
       "      <td>INSTITUCION_NIVEL_PREESCOLAR</td>\n",
       "      <td>int64</td>\n",
       "      <td>311866</td>\n",
       "      <td>2</td>\n",
       "      <td>0</td>\n",
       "      <td>0.00000</td>\n",
       "      <td>0.96091</td>\n",
       "      <td>0.00000</td>\n",
       "      <td>1.00000</td>\n",
       "      <td>1.00000</td>\n",
       "      <td>1.00000</td>\n",
       "      <td>1.00000</td>\n",
       "      <td>0.19382</td>\n",
       "    </tr>\n",
       "    <tr>\n",
       "      <th>26</th>\n",
       "      <td>INSTITUCION_NIVEL_MEDIA</td>\n",
       "      <td>int64</td>\n",
       "      <td>311866</td>\n",
       "      <td>2</td>\n",
       "      <td>0</td>\n",
       "      <td>0.00000</td>\n",
       "      <td>0.94293</td>\n",
       "      <td>0.00000</td>\n",
       "      <td>1.00000</td>\n",
       "      <td>1.00000</td>\n",
       "      <td>1.00000</td>\n",
       "      <td>1.00000</td>\n",
       "      <td>0.23198</td>\n",
       "    </tr>\n",
       "    <tr>\n",
       "      <th>25</th>\n",
       "      <td>INSTITUCION_NIVEL_SECUNDARIA_PRIMARIA</td>\n",
       "      <td>int64</td>\n",
       "      <td>311866</td>\n",
       "      <td>2</td>\n",
       "      <td>0</td>\n",
       "      <td>0.00000</td>\n",
       "      <td>0.94667</td>\n",
       "      <td>0.00000</td>\n",
       "      <td>1.00000</td>\n",
       "      <td>1.00000</td>\n",
       "      <td>1.00000</td>\n",
       "      <td>1.00000</td>\n",
       "      <td>0.22470</td>\n",
       "    </tr>\n",
       "    <tr>\n",
       "      <th>24</th>\n",
       "      <td>INSTITUCION_NIVEL_BASICA_PRIMARIA</td>\n",
       "      <td>int64</td>\n",
       "      <td>311866</td>\n",
       "      <td>2</td>\n",
       "      <td>0</td>\n",
       "      <td>0.00000</td>\n",
       "      <td>0.98260</td>\n",
       "      <td>0.00000</td>\n",
       "      <td>1.00000</td>\n",
       "      <td>1.00000</td>\n",
       "      <td>1.00000</td>\n",
       "      <td>1.00000</td>\n",
       "      <td>0.13076</td>\n",
       "    </tr>\n",
       "    <tr>\n",
       "      <th>23</th>\n",
       "      <td>INSTITUCION_TAMAÑO</td>\n",
       "      <td>object</td>\n",
       "      <td>311866</td>\n",
       "      <td>3</td>\n",
       "      <td>0</td>\n",
       "      <td>0.00000</td>\n",
       "      <td>NaN</td>\n",
       "      <td>NaN</td>\n",
       "      <td>NaN</td>\n",
       "      <td>NaN</td>\n",
       "      <td>NaN</td>\n",
       "      <td>NaN</td>\n",
       "      <td>NaN</td>\n",
       "    </tr>\n",
       "    <tr>\n",
       "      <th>22</th>\n",
       "      <td>INSTITUCION_PRESTADOR_DE_SERVICIO</td>\n",
       "      <td>object</td>\n",
       "      <td>311866</td>\n",
       "      <td>4</td>\n",
       "      <td>0</td>\n",
       "      <td>0.00000</td>\n",
       "      <td>NaN</td>\n",
       "      <td>NaN</td>\n",
       "      <td>NaN</td>\n",
       "      <td>NaN</td>\n",
       "      <td>NaN</td>\n",
       "      <td>NaN</td>\n",
       "      <td>NaN</td>\n",
       "    </tr>\n",
       "    <tr>\n",
       "      <th>19</th>\n",
       "      <td>INSTITUCION_ESTADO</td>\n",
       "      <td>object</td>\n",
       "      <td>311866</td>\n",
       "      <td>3</td>\n",
       "      <td>0</td>\n",
       "      <td>0.00000</td>\n",
       "      <td>NaN</td>\n",
       "      <td>NaN</td>\n",
       "      <td>NaN</td>\n",
       "      <td>NaN</td>\n",
       "      <td>NaN</td>\n",
       "      <td>NaN</td>\n",
       "      <td>NaN</td>\n",
       "    </tr>\n",
       "    <tr>\n",
       "      <th>18</th>\n",
       "      <td>INSTITUCION_NUMERO_DE_SEDES</td>\n",
       "      <td>float64</td>\n",
       "      <td>311866</td>\n",
       "      <td>8</td>\n",
       "      <td>0</td>\n",
       "      <td>0.00000</td>\n",
       "      <td>3.36785</td>\n",
       "      <td>1.00000</td>\n",
       "      <td>1.00000</td>\n",
       "      <td>3.00000</td>\n",
       "      <td>5.00000</td>\n",
       "      <td>8.00000</td>\n",
       "      <td>2.31163</td>\n",
       "    </tr>\n",
       "    <tr>\n",
       "      <th>17</th>\n",
       "      <td>INSTITUCION_CARACTER</td>\n",
       "      <td>object</td>\n",
       "      <td>311866</td>\n",
       "      <td>3</td>\n",
       "      <td>0</td>\n",
       "      <td>0.00000</td>\n",
       "      <td>NaN</td>\n",
       "      <td>NaN</td>\n",
       "      <td>NaN</td>\n",
       "      <td>NaN</td>\n",
       "      <td>NaN</td>\n",
       "      <td>NaN</td>\n",
       "      <td>NaN</td>\n",
       "    </tr>\n",
       "    <tr>\n",
       "      <th>16</th>\n",
       "      <td>INSTITUCION_ZONA</td>\n",
       "      <td>object</td>\n",
       "      <td>311866</td>\n",
       "      <td>3</td>\n",
       "      <td>0</td>\n",
       "      <td>0.00000</td>\n",
       "      <td>NaN</td>\n",
       "      <td>NaN</td>\n",
       "      <td>NaN</td>\n",
       "      <td>NaN</td>\n",
       "      <td>NaN</td>\n",
       "      <td>NaN</td>\n",
       "      <td>NaN</td>\n",
       "    </tr>\n",
       "    <tr>\n",
       "      <th>15</th>\n",
       "      <td>INSTITUCION_APOYO_ACADEMICO_ESPECIAL</td>\n",
       "      <td>object</td>\n",
       "      <td>311866</td>\n",
       "      <td>5</td>\n",
       "      <td>0</td>\n",
       "      <td>0.00000</td>\n",
       "      <td>NaN</td>\n",
       "      <td>NaN</td>\n",
       "      <td>NaN</td>\n",
       "      <td>NaN</td>\n",
       "      <td>NaN</td>\n",
       "      <td>NaN</td>\n",
       "      <td>NaN</td>\n",
       "    </tr>\n",
       "    <tr>\n",
       "      <th>2</th>\n",
       "      <td>PER_ID_AÑO</td>\n",
       "      <td>int64</td>\n",
       "      <td>311866</td>\n",
       "      <td>311866</td>\n",
       "      <td>0</td>\n",
       "      <td>0.00000</td>\n",
       "      <td>571503249762.11316</td>\n",
       "      <td>5918562017.00000</td>\n",
       "      <td>423536512014.75000</td>\n",
       "      <td>612837832016.50000</td>\n",
       "      <td>696745972019.75000</td>\n",
       "      <td>844002412022.00000</td>\n",
       "      <td>155156417700.33472</td>\n",
       "    </tr>\n",
       "    <tr>\n",
       "      <th>3</th>\n",
       "      <td>PER_ID</td>\n",
       "      <td>int64</td>\n",
       "      <td>311866</td>\n",
       "      <td>73584</td>\n",
       "      <td>0</td>\n",
       "      <td>0.00000</td>\n",
       "      <td>57150324.77447</td>\n",
       "      <td>591856.00000</td>\n",
       "      <td>42353651.00000</td>\n",
       "      <td>61283783.00000</td>\n",
       "      <td>69674597.00000</td>\n",
       "      <td>84400241.00000</td>\n",
       "      <td>15515641.76989</td>\n",
       "    </tr>\n",
       "    <tr>\n",
       "      <th>4</th>\n",
       "      <td>EDAD</td>\n",
       "      <td>int64</td>\n",
       "      <td>311866</td>\n",
       "      <td>99</td>\n",
       "      <td>0</td>\n",
       "      <td>0.00000</td>\n",
       "      <td>16.83950</td>\n",
       "      <td>3.00000</td>\n",
       "      <td>12.00000</td>\n",
       "      <td>16.00000</td>\n",
       "      <td>20.00000</td>\n",
       "      <td>102.00000</td>\n",
       "      <td>7.91173</td>\n",
       "    </tr>\n",
       "    <tr>\n",
       "      <th>5</th>\n",
       "      <td>GENERO</td>\n",
       "      <td>object</td>\n",
       "      <td>311866</td>\n",
       "      <td>2</td>\n",
       "      <td>0</td>\n",
       "      <td>0.00000</td>\n",
       "      <td>NaN</td>\n",
       "      <td>NaN</td>\n",
       "      <td>NaN</td>\n",
       "      <td>NaN</td>\n",
       "      <td>NaN</td>\n",
       "      <td>NaN</td>\n",
       "      <td>NaN</td>\n",
       "    </tr>\n",
       "    <tr>\n",
       "      <th>6</th>\n",
       "      <td>GRADO_COD</td>\n",
       "      <td>float64</td>\n",
       "      <td>311866</td>\n",
       "      <td>22</td>\n",
       "      <td>0</td>\n",
       "      <td>0.00000</td>\n",
       "      <td>7.22984</td>\n",
       "      <td>-2.00000</td>\n",
       "      <td>3.00000</td>\n",
       "      <td>6.00000</td>\n",
       "      <td>9.00000</td>\n",
       "      <td>26.00000</td>\n",
       "      <td>6.63487</td>\n",
       "    </tr>\n",
       "    <tr>\n",
       "      <th>7</th>\n",
       "      <td>JORNADA</td>\n",
       "      <td>object</td>\n",
       "      <td>311866</td>\n",
       "      <td>6</td>\n",
       "      <td>0</td>\n",
       "      <td>0.00000</td>\n",
       "      <td>NaN</td>\n",
       "      <td>NaN</td>\n",
       "      <td>NaN</td>\n",
       "      <td>NaN</td>\n",
       "      <td>NaN</td>\n",
       "      <td>NaN</td>\n",
       "      <td>NaN</td>\n",
       "    </tr>\n",
       "    <tr>\n",
       "      <th>8</th>\n",
       "      <td>ESTADO</td>\n",
       "      <td>int64</td>\n",
       "      <td>311866</td>\n",
       "      <td>2</td>\n",
       "      <td>0</td>\n",
       "      <td>0.00000</td>\n",
       "      <td>0.06534</td>\n",
       "      <td>0.00000</td>\n",
       "      <td>0.00000</td>\n",
       "      <td>0.00000</td>\n",
       "      <td>0.00000</td>\n",
       "      <td>1.00000</td>\n",
       "      <td>0.24712</td>\n",
       "    </tr>\n",
       "    <tr>\n",
       "      <th>9</th>\n",
       "      <td>ESTRATO</td>\n",
       "      <td>object</td>\n",
       "      <td>311866</td>\n",
       "      <td>7</td>\n",
       "      <td>0</td>\n",
       "      <td>0.00000</td>\n",
       "      <td>NaN</td>\n",
       "      <td>NaN</td>\n",
       "      <td>NaN</td>\n",
       "      <td>NaN</td>\n",
       "      <td>NaN</td>\n",
       "      <td>NaN</td>\n",
       "      <td>NaN</td>\n",
       "    </tr>\n",
       "    <tr>\n",
       "      <th>10</th>\n",
       "      <td>PAIS_ORIGEN</td>\n",
       "      <td>object</td>\n",
       "      <td>311866</td>\n",
       "      <td>25</td>\n",
       "      <td>0</td>\n",
       "      <td>0.00000</td>\n",
       "      <td>NaN</td>\n",
       "      <td>NaN</td>\n",
       "      <td>NaN</td>\n",
       "      <td>NaN</td>\n",
       "      <td>NaN</td>\n",
       "      <td>NaN</td>\n",
       "      <td>NaN</td>\n",
       "    </tr>\n",
       "    <tr>\n",
       "      <th>11</th>\n",
       "      <td>DISCAPACIDAD</td>\n",
       "      <td>object</td>\n",
       "      <td>311866</td>\n",
       "      <td>18</td>\n",
       "      <td>0</td>\n",
       "      <td>0.00000</td>\n",
       "      <td>NaN</td>\n",
       "      <td>NaN</td>\n",
       "      <td>NaN</td>\n",
       "      <td>NaN</td>\n",
       "      <td>NaN</td>\n",
       "      <td>NaN</td>\n",
       "      <td>NaN</td>\n",
       "    </tr>\n",
       "    <tr>\n",
       "      <th>12</th>\n",
       "      <td>SRPA</td>\n",
       "      <td>object</td>\n",
       "      <td>311866</td>\n",
       "      <td>3</td>\n",
       "      <td>0</td>\n",
       "      <td>0.00000</td>\n",
       "      <td>NaN</td>\n",
       "      <td>NaN</td>\n",
       "      <td>NaN</td>\n",
       "      <td>NaN</td>\n",
       "      <td>NaN</td>\n",
       "      <td>NaN</td>\n",
       "      <td>NaN</td>\n",
       "    </tr>\n",
       "    <tr>\n",
       "      <th>13</th>\n",
       "      <td>INSTITUCION_SECTOR</td>\n",
       "      <td>object</td>\n",
       "      <td>311866</td>\n",
       "      <td>2</td>\n",
       "      <td>0</td>\n",
       "      <td>0.00000</td>\n",
       "      <td>NaN</td>\n",
       "      <td>NaN</td>\n",
       "      <td>NaN</td>\n",
       "      <td>NaN</td>\n",
       "      <td>NaN</td>\n",
       "      <td>NaN</td>\n",
       "      <td>NaN</td>\n",
       "    </tr>\n",
       "    <tr>\n",
       "      <th>14</th>\n",
       "      <td>INSTITUCION_MODELO</td>\n",
       "      <td>object</td>\n",
       "      <td>311866</td>\n",
       "      <td>14</td>\n",
       "      <td>0</td>\n",
       "      <td>0.00000</td>\n",
       "      <td>NaN</td>\n",
       "      <td>NaN</td>\n",
       "      <td>NaN</td>\n",
       "      <td>NaN</td>\n",
       "      <td>NaN</td>\n",
       "      <td>NaN</td>\n",
       "      <td>NaN</td>\n",
       "    </tr>\n",
       "    <tr>\n",
       "      <th>34</th>\n",
       "      <td>INSTITUCION_ESPECIALIDAD_OTRO</td>\n",
       "      <td>int64</td>\n",
       "      <td>311866</td>\n",
       "      <td>2</td>\n",
       "      <td>0</td>\n",
       "      <td>0.00000</td>\n",
       "      <td>0.73458</td>\n",
       "      <td>0.00000</td>\n",
       "      <td>0.00000</td>\n",
       "      <td>1.00000</td>\n",
       "      <td>1.00000</td>\n",
       "      <td>1.00000</td>\n",
       "      <td>0.44156</td>\n",
       "    </tr>\n",
       "    <tr>\n",
       "      <th>21</th>\n",
       "      <td>INSTITUCION_LONGITUD</td>\n",
       "      <td>object</td>\n",
       "      <td>220091</td>\n",
       "      <td>16</td>\n",
       "      <td>91775</td>\n",
       "      <td>29.43000</td>\n",
       "      <td>NaN</td>\n",
       "      <td>NaN</td>\n",
       "      <td>NaN</td>\n",
       "      <td>NaN</td>\n",
       "      <td>NaN</td>\n",
       "      <td>NaN</td>\n",
       "      <td>NaN</td>\n",
       "    </tr>\n",
       "    <tr>\n",
       "      <th>20</th>\n",
       "      <td>INSTITUCION_LATITUDE</td>\n",
       "      <td>object</td>\n",
       "      <td>220091</td>\n",
       "      <td>16</td>\n",
       "      <td>91775</td>\n",
       "      <td>29.43000</td>\n",
       "      <td>NaN</td>\n",
       "      <td>NaN</td>\n",
       "      <td>NaN</td>\n",
       "      <td>NaN</td>\n",
       "      <td>NaN</td>\n",
       "      <td>NaN</td>\n",
       "      <td>NaN</td>\n",
       "    </tr>\n",
       "  </tbody>\n",
       "</table>\n",
       "</div>"
      ],
      "text/plain": [
       "                                     name     type  records  unique  # NaN  \\\n",
       "0                                     AÑO    int64   311866      10      0   \n",
       "1                             INSTITUCION   object   311866      76      0   \n",
       "33     INSTITUCION_ESPECIALIDAD_NO_APLICA    int64   311866       2      0   \n",
       "32    INSTITUCION_ESPECIALIDAD_INDUSTRIAL    int64   311866       2      0   \n",
       "31     INSTITUCION_ESPECIALIDAD_COMERCIAL    int64   311866       2      0   \n",
       "30  INSTITUCION_ESPECIALIDAD_AGROPECUARIO    int64   311866       2      0   \n",
       "29     INSTITUCION_ESPECIALIDAD_ACADÉMICA    int64   311866       2      0   \n",
       "28     INSTITUCION_NIVEL_PRIMERA_INFANCIA    int64   311866       2      0   \n",
       "27           INSTITUCION_NIVEL_PREESCOLAR    int64   311866       2      0   \n",
       "26                INSTITUCION_NIVEL_MEDIA    int64   311866       2      0   \n",
       "25  INSTITUCION_NIVEL_SECUNDARIA_PRIMARIA    int64   311866       2      0   \n",
       "24      INSTITUCION_NIVEL_BASICA_PRIMARIA    int64   311866       2      0   \n",
       "23                     INSTITUCION_TAMAÑO   object   311866       3      0   \n",
       "22      INSTITUCION_PRESTADOR_DE_SERVICIO   object   311866       4      0   \n",
       "19                     INSTITUCION_ESTADO   object   311866       3      0   \n",
       "18            INSTITUCION_NUMERO_DE_SEDES  float64   311866       8      0   \n",
       "17                   INSTITUCION_CARACTER   object   311866       3      0   \n",
       "16                       INSTITUCION_ZONA   object   311866       3      0   \n",
       "15   INSTITUCION_APOYO_ACADEMICO_ESPECIAL   object   311866       5      0   \n",
       "2                              PER_ID_AÑO    int64   311866  311866      0   \n",
       "3                                  PER_ID    int64   311866   73584      0   \n",
       "4                                    EDAD    int64   311866      99      0   \n",
       "5                                  GENERO   object   311866       2      0   \n",
       "6                               GRADO_COD  float64   311866      22      0   \n",
       "7                                 JORNADA   object   311866       6      0   \n",
       "8                                  ESTADO    int64   311866       2      0   \n",
       "9                                 ESTRATO   object   311866       7      0   \n",
       "10                            PAIS_ORIGEN   object   311866      25      0   \n",
       "11                           DISCAPACIDAD   object   311866      18      0   \n",
       "12                                   SRPA   object   311866       3      0   \n",
       "13                     INSTITUCION_SECTOR   object   311866       2      0   \n",
       "14                     INSTITUCION_MODELO   object   311866      14      0   \n",
       "34          INSTITUCION_ESPECIALIDAD_OTRO    int64   311866       2      0   \n",
       "21                   INSTITUCION_LONGITUD   object   220091      16  91775   \n",
       "20                   INSTITUCION_LATITUDE   object   220091      16  91775   \n",
       "\n",
       "      % NaN               mean              min                25%  \\\n",
       "0   0.00000         2017.44093       2013.00000         2015.00000   \n",
       "1   0.00000                NaN              NaN                NaN   \n",
       "33  0.00000            0.38291          0.00000            0.00000   \n",
       "32  0.00000            0.63968          0.00000            0.00000   \n",
       "31  0.00000            0.00878          0.00000            0.00000   \n",
       "30  0.00000            0.07492          0.00000            0.00000   \n",
       "29  0.00000            0.90453          0.00000            1.00000   \n",
       "28  0.00000            0.10307          0.00000            0.00000   \n",
       "27  0.00000            0.96091          0.00000            1.00000   \n",
       "26  0.00000            0.94293          0.00000            1.00000   \n",
       "25  0.00000            0.94667          0.00000            1.00000   \n",
       "24  0.00000            0.98260          0.00000            1.00000   \n",
       "23  0.00000                NaN              NaN                NaN   \n",
       "22  0.00000                NaN              NaN                NaN   \n",
       "19  0.00000                NaN              NaN                NaN   \n",
       "18  0.00000            3.36785          1.00000            1.00000   \n",
       "17  0.00000                NaN              NaN                NaN   \n",
       "16  0.00000                NaN              NaN                NaN   \n",
       "15  0.00000                NaN              NaN                NaN   \n",
       "2   0.00000 571503249762.11316 5918562017.00000 423536512014.75000   \n",
       "3   0.00000     57150324.77447     591856.00000     42353651.00000   \n",
       "4   0.00000           16.83950          3.00000           12.00000   \n",
       "5   0.00000                NaN              NaN                NaN   \n",
       "6   0.00000            7.22984         -2.00000            3.00000   \n",
       "7   0.00000                NaN              NaN                NaN   \n",
       "8   0.00000            0.06534          0.00000            0.00000   \n",
       "9   0.00000                NaN              NaN                NaN   \n",
       "10  0.00000                NaN              NaN                NaN   \n",
       "11  0.00000                NaN              NaN                NaN   \n",
       "12  0.00000                NaN              NaN                NaN   \n",
       "13  0.00000                NaN              NaN                NaN   \n",
       "14  0.00000                NaN              NaN                NaN   \n",
       "34  0.00000            0.73458          0.00000            0.00000   \n",
       "21 29.43000                NaN              NaN                NaN   \n",
       "20 29.43000                NaN              NaN                NaN   \n",
       "\n",
       "                  50%                75%                max                std  \n",
       "0          2017.00000         2020.00000         2022.00000            2.88220  \n",
       "1                 NaN                NaN                NaN                NaN  \n",
       "33            0.00000            1.00000            1.00000            0.48610  \n",
       "32            1.00000            1.00000            1.00000            0.48010  \n",
       "31            0.00000            0.00000            1.00000            0.09327  \n",
       "30            0.00000            0.00000            1.00000            0.26327  \n",
       "29            1.00000            1.00000            1.00000            0.29386  \n",
       "28            0.00000            0.00000            1.00000            0.30405  \n",
       "27            1.00000            1.00000            1.00000            0.19382  \n",
       "26            1.00000            1.00000            1.00000            0.23198  \n",
       "25            1.00000            1.00000            1.00000            0.22470  \n",
       "24            1.00000            1.00000            1.00000            0.13076  \n",
       "23                NaN                NaN                NaN                NaN  \n",
       "22                NaN                NaN                NaN                NaN  \n",
       "19                NaN                NaN                NaN                NaN  \n",
       "18            3.00000            5.00000            8.00000            2.31163  \n",
       "17                NaN                NaN                NaN                NaN  \n",
       "16                NaN                NaN                NaN                NaN  \n",
       "15                NaN                NaN                NaN                NaN  \n",
       "2  612837832016.50000 696745972019.75000 844002412022.00000 155156417700.33472  \n",
       "3      61283783.00000     69674597.00000     84400241.00000     15515641.76989  \n",
       "4            16.00000           20.00000          102.00000            7.91173  \n",
       "5                 NaN                NaN                NaN                NaN  \n",
       "6             6.00000            9.00000           26.00000            6.63487  \n",
       "7                 NaN                NaN                NaN                NaN  \n",
       "8             0.00000            0.00000            1.00000            0.24712  \n",
       "9                 NaN                NaN                NaN                NaN  \n",
       "10                NaN                NaN                NaN                NaN  \n",
       "11                NaN                NaN                NaN                NaN  \n",
       "12                NaN                NaN                NaN                NaN  \n",
       "13                NaN                NaN                NaN                NaN  \n",
       "14                NaN                NaN                NaN                NaN  \n",
       "34            1.00000            1.00000            1.00000            0.44156  \n",
       "21                NaN                NaN                NaN                NaN  \n",
       "20                NaN                NaN                NaN                NaN  "
      ]
     },
     "metadata": {},
     "output_type": "display_data"
    }
   ],
   "source": [
    "df_analysis(df_students, key_columns=[\"PER_ID_AÑO\"], analysis_type=\"complete\")"
   ]
  },
  {
   "cell_type": "markdown",
   "id": "d6def296-b285-457e-8409-2882e59dd27c",
   "metadata": {
    "tags": []
   },
   "source": [
    "## 3. Analyzing target variable"
   ]
  },
  {
   "cell_type": "code",
   "execution_count": 4,
   "id": "1f37e0e7-2bae-4c5e-9d35-ef945b434e84",
   "metadata": {},
   "outputs": [
    {
     "data": {
      "image/png": "[encoded data removed]",
      "text/plain": [
       "<Figure size 720x360 with 2 Axes>"
      ]
     },
     "metadata": {
      "needs_background": "light"
     },
     "output_type": "display_data"
    }
   ],
   "source": [
    "barplot_and_pie(df_students[\"ESTADO\"], \"Número de estudiantes por estado\", \"\")"
   ]
  },
  {
   "cell_type": "markdown",
   "id": "858197c5-3ef6-4fc3-986f-36f6f4957b21",
   "metadata": {
    "tags": []
   },
   "source": [
    "<div class=\"alert alert-block alert-warning\">\n",
    "    <p><b>Observations</b></p>\n",
    "    <p>Based on the plot, we can say that we are facing an imbalanced classification problem</p>\n",
    "\n",
    "</div>"
   ]
  },
  {
   "cell_type": "markdown",
   "id": "32537e6c-f069-4c36-bfb8-e111e1348fb8",
   "metadata": {
    "tags": []
   },
   "source": [
    "## 4. Splitting data"
   ]
  },
  {
   "cell_type": "markdown",
   "id": "da6c5f74-ace1-4c6f-b6bd-a1d4d58a886b",
   "metadata": {},
   "source": [
    "First of all, we are going to separate the data to predict (2022) from the data to do the training (from 2013 to 2021)"
   ]
  },
  {
   "cell_type": "code",
   "execution_count": 5,
   "id": "377dde09-1a35-4769-8a3c-96daccfef4e8",
   "metadata": {},
   "outputs": [],
   "source": [
    "df_students_2022 = df_students[df_students[\"AÑO\"]==2022].copy()\n",
    "df_students_2022[\"ESTADO\"] = np.NaN\n",
    "\n",
    "df_students = df_students[df_students[\"AÑO\"]!=2022].copy()"
   ]
  },
  {
   "cell_type": "markdown",
   "id": "248bc89f-9e90-4bb8-a343-02edbc9a1108",
   "metadata": {},
   "source": [
    "Now, we are let's identify the training columns in the dataset"
   ]
  },
  {
   "cell_type": "code",
   "execution_count": 6,
   "id": "a28f2c60-fdb1-4d25-bc27-50dc63f827c3",
   "metadata": {},
   "outputs": [],
   "source": [
    "NOT_TRAINING_COLUMNS = [\n",
    "    \"ESTADO\", \"AÑO\", \"PER_ID_AÑO\", \"PER_ID\", \"INSTITUCION_LATITUDE\", \"INSTITUCION_LONGITUD\",\n",
    "]\n",
    "\n",
    "TRAINING_COLUMNS = [col for col in df_students if col not in NOT_TRAINING_COLUMNS]"
   ]
  },
  {
   "cell_type": "markdown",
   "id": "2abfa4bd-eb2a-4d98-bb2a-c869eea69e43",
   "metadata": {},
   "source": [
    "Let's proced to split the data"
   ]
  },
  {
   "cell_type": "code",
   "execution_count": 7,
   "id": "b93204de-db4d-4753-bbc3-c4bd68d82c63",
   "metadata": {},
   "outputs": [],
   "source": [
    "X = df_students[TRAINING_COLUMNS].copy()"
   ]
  },
  {
   "cell_type": "code",
   "execution_count": 8,
   "id": "c6f73777-8bc2-4589-8aaf-c36b77035cdd",
   "metadata": {},
   "outputs": [],
   "source": [
    "y_target = df_students.loc[:, \"ESTADO\"]"
   ]
  },
  {
   "cell_type": "code",
   "execution_count": 9,
   "id": "e48c1257-1069-4d15-83b9-bc602daaf57a",
   "metadata": {},
   "outputs": [],
   "source": [
    "X_train, X_test, y_train, y_test = train_test_split(X, y_target, test_size=0.2,\n",
    "                                                    stratify=y_target, random_state=42)"
   ]
  },
  {
   "cell_type": "code",
   "execution_count": 10,
   "id": "b5316896-d911-4958-876b-a093548b6e88",
   "metadata": {},
   "outputs": [
    {
     "name": "stdout",
     "output_type": "stream",
     "text": [
      "X_train: (224949, 29)\n",
      "y_train: (224949,)\n",
      "------------------------------\n",
      "X_test: (56238, 29)\n",
      "y_test: (56238,)\n"
     ]
    }
   ],
   "source": [
    "print(\"X_train: {}\".format(X_train.shape))\n",
    "print(\"y_train: {}\".format(y_train.shape))\n",
    "print(30*\"-\")\n",
    "print(\"X_test: {}\".format(X_test.shape))\n",
    "print(\"y_test: {}\".format(y_test.shape))"
   ]
  },
  {
   "cell_type": "markdown",
   "id": "273ccf02-85c5-4a75-8050-9a71d66fc573",
   "metadata": {
    "tags": []
   },
   "source": [
    "## 5. Data preprocessing"
   ]
  },
  {
   "cell_type": "code",
   "execution_count": 11,
   "id": "c6ddb020-5c51-4a85-b299-cbe82430744a",
   "metadata": {},
   "outputs": [],
   "source": [
    "def boolean_transformation(X):\n",
    "    return X.astype(int)"
   ]
  },
  {
   "cell_type": "code",
   "execution_count": 12,
   "id": "f32f7e73-509f-4016-8c42-34ba9eda2a49",
   "metadata": {},
   "outputs": [
    {
     "data": {
      "text/plain": [
       "Index(['INSTITUCION', 'EDAD', 'GENERO', 'GRADO_COD', 'JORNADA', 'ESTRATO',\n",
       "       'PAIS_ORIGEN', 'DISCAPACIDAD', 'SRPA', 'INSTITUCION_SECTOR',\n",
       "       'INSTITUCION_MODELO', 'INSTITUCION_APOYO_ACADEMICO_ESPECIAL',\n",
       "       'INSTITUCION_ZONA', 'INSTITUCION_CARACTER',\n",
       "       'INSTITUCION_NUMERO_DE_SEDES', 'INSTITUCION_ESTADO',\n",
       "       'INSTITUCION_PRESTADOR_DE_SERVICIO', 'INSTITUCION_TAMAÑO',\n",
       "       'INSTITUCION_NIVEL_BASICA_PRIMARIA',\n",
       "       'INSTITUCION_NIVEL_SECUNDARIA_PRIMARIA', 'INSTITUCION_NIVEL_MEDIA',\n",
       "       'INSTITUCION_NIVEL_PREESCOLAR', 'INSTITUCION_NIVEL_PRIMERA_INFANCIA',\n",
       "       'INSTITUCION_ESPECIALIDAD_ACADÉMICA',\n",
       "       'INSTITUCION_ESPECIALIDAD_AGROPECUARIO',\n",
       "       'INSTITUCION_ESPECIALIDAD_COMERCIAL',\n",
       "       'INSTITUCION_ESPECIALIDAD_INDUSTRIAL',\n",
       "       'INSTITUCION_ESPECIALIDAD_NO_APLICA', 'INSTITUCION_ESPECIALIDAD_OTRO'],\n",
       "      dtype='object')"
      ]
     },
     "execution_count": 12,
     "metadata": {},
     "output_type": "execute_result"
    }
   ],
   "source": [
    "X_train.columns"
   ]
  },
  {
   "cell_type": "code",
   "execution_count": 13,
   "id": "c8c38443-56c7-410d-af04-15c1b296c044",
   "metadata": {},
   "outputs": [],
   "source": [
    "CATEGORICAL_FEATURES = [\n",
    "    \"INSTITUCION\", \"GENERO\", \"JORNADA\", \"PAIS_ORIGEN\", \"DISCAPACIDAD\", \"SRPA\", \"INSTITUCION_SECTOR\",\n",
    "    \"INSTITUCION_MODELO\", \"INSTITUCION_APOYO_ACADEMICO_ESPECIAL\", \"INSTITUCION_ZONA\", \"INSTITUCION_CARACTER\",\n",
    "    \"INSTITUCION_ESTADO\", \"INSTITUCION_PRESTADOR_DE_SERVICIO\", \n",
    "]\n",
    "ORDINAL_FEATURES = [\n",
    "    \"GRADO_COD\", \"ESTRATO\", \"INSTITUCION_TAMAÑO\"\n",
    "]\n",
    "NUMERICAL_FEATURES = [\n",
    "    \"EDAD\", \"INSTITUCION_NUMERO_DE_SEDES\"\n",
    "]\n",
    "BOOLEAN_FEATURES = [\n",
    "    \"INSTITUCION_NIVEL_BASICA_PRIMARIA\", \"INSTITUCION_NIVEL_SECUNDARIA_PRIMARIA\", \"INSTITUCION_NIVEL_MEDIA\",\n",
    "    \"INSTITUCION_NIVEL_PREESCOLAR\", \"INSTITUCION_NIVEL_PRIMERA_INFANCIA\", \"INSTITUCION_ESPECIALIDAD_ACADÉMICA\", \n",
    "    \"INSTITUCION_ESPECIALIDAD_AGROPECUARIO\", \"INSTITUCION_ESPECIALIDAD_COMERCIAL\", \n",
    "    \"INSTITUCION_ESPECIALIDAD_INDUSTRIAL\", \"INSTITUCION_ESPECIALIDAD_NO_APLICA\",\n",
    "    \"INSTITUCION_ESPECIALIDAD_OTRO\"\n",
    "]"
   ]
  },
  {
   "cell_type": "code",
   "execution_count": 14,
   "id": "c77bda53-435f-4fdf-9a63-5612edc6f69b",
   "metadata": {},
   "outputs": [],
   "source": [
    "categorical_pipeline = make_pipeline(OneHotEncoder(handle_unknown=\"ignore\"))\n",
    "\n",
    "ordinal_pipeline = make_pipeline(OrdinalEncoder(categories=[\n",
    "    [-2.0, -1.0, 0.0, 1.0, 2.0, 3.0, 4.0, 5.0, 6.0, 7.0, 8.0, 9.0, 10.0, 11.0, 12.0, 20.0, 21.0, 22.0, 23.0, 24.0, 25.0, 26.0],\n",
    "    ['ESTRATO 0', 'ESTRATO 1', 'ESTRATO 2', 'ESTRATO 3', 'ESTRATO 4', 'ESTRATO 5', 'ESTRATO 6'],\n",
    "    ['Pequeña', 'Mediana',  'Grande']\n",
    "]))\n",
    "\n",
    "numerical_pipeline = make_pipeline(StandardScaler())\n",
    "\n",
    "boolean_pipeline = make_pipeline(FunctionTransformer(boolean_transformation))"
   ]
  },
  {
   "cell_type": "code",
   "execution_count": 15,
   "id": "bbc65f6e-b5e8-4e9d-96cc-1d44e04b8ca3",
   "metadata": {},
   "outputs": [],
   "source": [
    "preprocessor = make_column_transformer(\n",
    "    (categorical_pipeline, CATEGORICAL_FEATURES),\n",
    "    (ordinal_pipeline, ORDINAL_FEATURES),\n",
    "    (numerical_pipeline, NUMERICAL_FEATURES),\n",
    "    (boolean_pipeline, BOOLEAN_FEATURES)\n",
    ")"
   ]
  },
  {
   "cell_type": "markdown",
   "id": "9b1400c0-1acb-444e-8844-729045fd1516",
   "metadata": {
    "tags": []
   },
   "source": [
    "## 6. Modelisation initial"
   ]
  },
  {
   "cell_type": "markdown",
   "id": "cc209347-a0ba-49e9-bcfc-c6f2eda02c16",
   "metadata": {},
   "source": [
    "we are going to use three models\n",
    "\n",
    "- Logistic Regression\n",
    "- Random Forest\n",
    "- Gradient Boosting\n",
    "- XGBoost \n",
    "\n",
    "Also, we are going to use a Dummy Classifier as a baseline to compare the models\n",
    "\n",
    "We are going to use Stratified K-Folds cross-validator to ensure that each fold of dataset has the same proportion of observations with a given label"
   ]
  },
  {
   "cell_type": "code",
   "execution_count": 16,
   "id": "35144e4d-a5dd-47ad-8304-04c684672080",
   "metadata": {},
   "outputs": [],
   "source": [
    "stratified_kfold = StratifiedKFold(n_splits=3, shuffle=True, random_state=42)"
   ]
  },
  {
   "cell_type": "markdown",
   "id": "dcc796f7-a35d-443b-aa16-11669f742c23",
   "metadata": {},
   "source": [
    "Metrics to use."
   ]
  },
  {
   "cell_type": "code",
   "execution_count": 18,
   "id": "c6b94e97-524b-40bc-bf10-e46fce257d5a",
   "metadata": {},
   "outputs": [],
   "source": [
    "scorings = [\"roc_auc\", \"recall\", \"f1\"]"
   ]
  },
  {
   "cell_type": "code",
   "execution_count": 17,
   "id": "b85850e9-aad8-4891-9089-3c56a5f66b2e",
   "metadata": {},
   "outputs": [],
   "source": [
    "classifiers = {\n",
    "    \"Dummy Classifier\" : DummyClassifier(),\n",
    "    \"Logistic Regressions\" : LogisticRegressionCV(max_iter=3000),\n",
    "    \"Random Forest\" : RandomForestClassifier(),\n",
    "    \"Gradient Boosting\" : GradientBoostingClassifier(),\n",
    "    \"XGBoost\" : XGBClassifier()\n",
    "}"
   ]
  },
  {
   "cell_type": "code",
   "execution_count": 19,
   "id": "7ccc72f0-fa9e-4f93-832b-34818143798f",
   "metadata": {},
   "outputs": [],
   "source": [
    "# List of metrics results for each models \n",
    "LIST_MODEL, LIST_RECALL, LIST_ROC_AUC, LIST_F1, LIST_DURATION  = ([] for i in range(5))\n",
    "\n",
    "for key, model in classifiers.items():\n",
    "\n",
    "    start_time_model = timeit.default_timer()\n",
    "    \n",
    "    clf = make_pipeline(preprocessor, model)\n",
    "    \n",
    "    scores = cross_validate(clf, X_train, y_train, \n",
    "                            cv=stratified_kfold, scoring=scorings,  \n",
    "                            n_jobs=-1)\n",
    "    \n",
    "    end_time_model =  round(timeit.default_timer() - start_time_model, 3)\n",
    "    \n",
    "    # Adding results into LIST\n",
    "    LIST_MODEL.append(key)\n",
    "    LIST_RECALL.append(round(scores.get(\"test_recall\").mean(), 3))\n",
    "    LIST_ROC_AUC.append(round(scores.get(\"test_roc_auc\").mean(), 3))\n",
    "    LIST_F1.append(round(scores.get(\"test_f1\").mean(), 3))\n",
    "    LIST_DURATION.append(end_time_model)"
   ]
  },
  {
   "cell_type": "code",
   "execution_count": 20,
   "id": "c8958caf-da06-4ad3-958e-d371b08b4a85",
   "metadata": {},
   "outputs": [
    {
     "data": {
      "text/html": [
       "<div>\n",
       "<style scoped>\n",
       "    .dataframe tbody tr th:only-of-type {\n",
       "        vertical-align: middle;\n",
       "    }\n",
       "\n",
       "    .dataframe tbody tr th {\n",
       "        vertical-align: top;\n",
       "    }\n",
       "\n",
       "    .dataframe thead th {\n",
       "        text-align: right;\n",
       "    }\n",
       "</style>\n",
       "<table border=\"1\" class=\"dataframe\">\n",
       "  <thead>\n",
       "    <tr style=\"text-align: right;\">\n",
       "      <th></th>\n",
       "      <th>Model</th>\n",
       "      <th>ROC-AUC</th>\n",
       "      <th>Recall</th>\n",
       "      <th>F1</th>\n",
       "      <th>Duration</th>\n",
       "    </tr>\n",
       "  </thead>\n",
       "  <tbody>\n",
       "    <tr>\n",
       "      <th>0</th>\n",
       "      <td>Dummy Classifier</td>\n",
       "      <td>0.500</td>\n",
       "      <td>0.000</td>\n",
       "      <td>0.000</td>\n",
       "      <td>0.1</td>\n",
       "    </tr>\n",
       "    <tr>\n",
       "      <th>1</th>\n",
       "      <td>Logistic Regressions</td>\n",
       "      <td>0.695</td>\n",
       "      <td>0.006</td>\n",
       "      <td>0.011</td>\n",
       "      <td>3.8</td>\n",
       "    </tr>\n",
       "    <tr>\n",
       "      <th>2</th>\n",
       "      <td>Random Forest</td>\n",
       "      <td>0.685</td>\n",
       "      <td>0.175</td>\n",
       "      <td>0.244</td>\n",
       "      <td>4.5</td>\n",
       "    </tr>\n",
       "    <tr>\n",
       "      <th>3</th>\n",
       "      <td>Gradient Boosting</td>\n",
       "      <td>0.745</td>\n",
       "      <td>0.056</td>\n",
       "      <td>0.104</td>\n",
       "      <td>0.7</td>\n",
       "    </tr>\n",
       "    <tr>\n",
       "      <th>4</th>\n",
       "      <td>XGBoost</td>\n",
       "      <td>0.764</td>\n",
       "      <td>0.124</td>\n",
       "      <td>0.209</td>\n",
       "      <td>0.4</td>\n",
       "    </tr>\n",
       "  </tbody>\n",
       "</table>\n",
       "</div>"
      ],
      "text/plain": [
       "                  Model  ROC-AUC  Recall     F1  Duration\n",
       "0      Dummy Classifier    0.500   0.000  0.000       0.1\n",
       "1  Logistic Regressions    0.695   0.006  0.011       3.8\n",
       "2         Random Forest    0.685   0.175  0.244       4.5\n",
       "3     Gradient Boosting    0.745   0.056  0.104       0.7\n",
       "4               XGBoost    0.764   0.124  0.209       0.4"
      ]
     },
     "execution_count": 20,
     "metadata": {},
     "output_type": "execute_result"
    }
   ],
   "source": [
    "df_initial_models = pd.DataFrame({\n",
    "    \"Model\" : LIST_MODEL,\n",
    "    \"ROC-AUC\" : LIST_ROC_AUC,\n",
    "    \"Recall\" : LIST_RECALL,    \n",
    "    \"F1\" : LIST_F1,\n",
    "    \"Duration\" : LIST_DURATION,\n",
    "})\n",
    "\n",
    "# transforming duration to minutes\n",
    "df_initial_models[\"Duration\"] = round(df_initial_models[\"Duration\"]/60, 1)\n",
    "\n",
    "df_initial_models"
   ]
  },
  {
   "cell_type": "code",
   "execution_count": 21,
   "id": "51561efe-bf7f-4c1e-a44f-5f13131e5bc2",
   "metadata": {},
   "outputs": [
    {
     "data": {
      "text/html": [
       "<div>\n",
       "<style scoped>\n",
       "    .dataframe tbody tr th:only-of-type {\n",
       "        vertical-align: middle;\n",
       "    }\n",
       "\n",
       "    .dataframe tbody tr th {\n",
       "        vertical-align: top;\n",
       "    }\n",
       "\n",
       "    .dataframe thead th {\n",
       "        text-align: right;\n",
       "    }\n",
       "</style>\n",
       "<table border=\"1\" class=\"dataframe\">\n",
       "  <thead>\n",
       "    <tr style=\"text-align: right;\">\n",
       "      <th></th>\n",
       "      <th>Model</th>\n",
       "      <th>Metric</th>\n",
       "      <th>Value</th>\n",
       "    </tr>\n",
       "  </thead>\n",
       "  <tbody>\n",
       "    <tr>\n",
       "      <th>0</th>\n",
       "      <td>Dummy Classifier</td>\n",
       "      <td>ROC-AUC</td>\n",
       "      <td>0.500</td>\n",
       "    </tr>\n",
       "    <tr>\n",
       "      <th>1</th>\n",
       "      <td>Logistic Regressions</td>\n",
       "      <td>ROC-AUC</td>\n",
       "      <td>0.695</td>\n",
       "    </tr>\n",
       "    <tr>\n",
       "      <th>2</th>\n",
       "      <td>Random Forest</td>\n",
       "      <td>ROC-AUC</td>\n",
       "      <td>0.685</td>\n",
       "    </tr>\n",
       "    <tr>\n",
       "      <th>3</th>\n",
       "      <td>Gradient Boosting</td>\n",
       "      <td>ROC-AUC</td>\n",
       "      <td>0.745</td>\n",
       "    </tr>\n",
       "    <tr>\n",
       "      <th>4</th>\n",
       "      <td>XGBoost</td>\n",
       "      <td>ROC-AUC</td>\n",
       "      <td>0.764</td>\n",
       "    </tr>\n",
       "  </tbody>\n",
       "</table>\n",
       "</div>"
      ],
      "text/plain": [
       "                  Model   Metric  Value\n",
       "0      Dummy Classifier  ROC-AUC  0.500\n",
       "1  Logistic Regressions  ROC-AUC  0.695\n",
       "2         Random Forest  ROC-AUC  0.685\n",
       "3     Gradient Boosting  ROC-AUC  0.745\n",
       "4               XGBoost  ROC-AUC  0.764"
      ]
     },
     "execution_count": 21,
     "metadata": {},
     "output_type": "execute_result"
    }
   ],
   "source": [
    "df_models_metrics_reduced = pd.melt(df_initial_models, id_vars=\"Model\", var_name=\"Metric\", value_name=\"Value\")\n",
    "df_models_metrics_reduced.head()"
   ]
  },
  {
   "cell_type": "code",
   "execution_count": 22,
   "id": "5ae82c58-973f-428d-9b0a-566961954aca",
   "metadata": {},
   "outputs": [
    {
     "data": {
      "image/png": "[encoded data removed]",
      "text/plain": [
       "<Figure size 864x432 with 1 Axes>"
      ]
     },
     "metadata": {
      "needs_background": "light"
     },
     "output_type": "display_data"
    }
   ],
   "source": [
    "fig, ax1 = plt.subplots(figsize=(12, 6))\n",
    "plot = sns.barplot(x=\"Model\", y=\"Value\", hue=\"Metric\", data=df_models_metrics_reduced, ax=ax1)\n",
    "for p in plot.patches:\n",
    "    plot.annotate(format(p.get_height(), \".3f\"), (p.get_x() + p.get_width() / 2., p.get_height()), \n",
    "                    ha=\"center\", va=\"center\", xytext=(0, 8), textcoords=\"offset points\")\n",
    "plt.title(\"Model comparison (default mode)\", size=20)\n",
    "plt.legend(bbox_to_anchor=(1.14, 1), borderaxespad=0, title=\"Metrics\")\n",
    "plt.tight_layout()\n",
    "plt.xlabel(\"Models\", size=12)\n",
    "plt.ylabel(\"Metrics\", size=12)\n",
    "sns.despine(fig)"
   ]
  },
  {
   "cell_type": "markdown",
   "id": "cbeb706c-91e4-402c-aeec-5b5b621ef7e4",
   "metadata": {},
   "source": [
    "<div class=\"admonition warning alert alert-info\">\n",
    "<p class=\"first admonition-title\" style=\"font-weight: bold;\">Observations / Conclusions</p>\n",
    "<p class=\"last\">Using only default mode, all models have obtained better result compared to Dummy Classifier.<br>In addition, the XGBoost has obtained the best result in less time\n",
    "</p>\n",
    "</div>"
   ]
  },
  {
   "cell_type": "markdown",
   "id": "a9c72c77-a2f0-443c-a539-10f5712330ae",
   "metadata": {
    "tags": []
   },
   "source": [
    "## 7. Hyperparameters Tuning"
   ]
  },
  {
   "cell_type": "markdown",
   "id": "68c14af0-c1e5-495b-9a1e-16769b1b160b",
   "metadata": {},
   "source": [
    "For reasons of processing cost, we are going to tune the models with a subsample of the data.\n",
    "Done this, we will proceed to continue the modeling with the parameters obtained."
   ]
  },
  {
   "cell_type": "markdown",
   "id": "e1aaadb3-9c1f-43ac-9e15-617f1b4817fb",
   "metadata": {
    "tags": []
   },
   "source": [
    "### 7.1. Subsample of the data"
   ]
  },
  {
   "cell_type": "code",
   "execution_count": 34,
   "id": "f79e2746-4a59-438d-ab25-60f19bfdcfc9",
   "metadata": {},
   "outputs": [],
   "source": [
    "df_subsample = df_students.copy()\n",
    "df_subsample = df_subsample.sample(frac=0.4)"
   ]
  },
  {
   "cell_type": "code",
   "execution_count": 35,
   "id": "060a9adc-479c-4458-93de-d8546b4668db",
   "metadata": {},
   "outputs": [
    {
     "data": {
      "image/png": "[encoded data removed]",
      "text/plain": [
       "<Figure size 720x360 with 2 Axes>"
      ]
     },
     "metadata": {
      "needs_background": "light"
     },
     "output_type": "display_data"
    }
   ],
   "source": [
    "barplot_and_pie(df_subsample[\"ESTADO\"], \"Número de estudiantes por estado (sub-muestra)\", \"\")"
   ]
  },
  {
   "cell_type": "markdown",
   "id": "710c09c0-85e4-4493-ba1b-bfd4a82ae717",
   "metadata": {},
   "source": [
    "Now, we are going to split the subsample of the data to tune the models"
   ]
  },
  {
   "cell_type": "code",
   "execution_count": 36,
   "id": "3f4f71a9-54dc-46c7-b301-c1bd78819e4b",
   "metadata": {},
   "outputs": [],
   "source": [
    "X_ss = df_subsample[TRAINING_COLUMNS]"
   ]
  },
  {
   "cell_type": "code",
   "execution_count": 37,
   "id": "25e8e510-6a5d-42de-ae0a-3b6ab45b24cb",
   "metadata": {},
   "outputs": [],
   "source": [
    "y_target_ss = df_subsample.loc[:,\"ESTADO\"]"
   ]
  },
  {
   "cell_type": "code",
   "execution_count": 38,
   "id": "8e9eba97-9767-4822-9ec8-ba1a4dac29b6",
   "metadata": {},
   "outputs": [],
   "source": [
    "X_train_ss, X_test_ss, y_train_ss, y_test_ss = train_test_split(X_ss, y_target_ss, test_size=0.20, stratify=y_target_ss, random_state=42)"
   ]
  },
  {
   "cell_type": "code",
   "execution_count": 39,
   "id": "1477eb8d-3bbc-4ef9-80fb-4d5ab7114cb7",
   "metadata": {},
   "outputs": [
    {
     "name": "stdout",
     "output_type": "stream",
     "text": [
      "X_train_ss: (89980, 29)\n",
      "y_train_ss: (89980,)\n",
      "------------------------------\n",
      "X_test_ss: (22495, 29)\n",
      "y_test_ss: (22495,)\n"
     ]
    }
   ],
   "source": [
    "print(\"X_train_ss: {}\".format(X_train_ss.shape))\n",
    "print(\"y_train_ss: {}\".format(y_train_ss.shape))\n",
    "print(30*\"-\")\n",
    "print(\"X_test_ss: {}\".format(X_test_ss.shape))\n",
    "print(\"y_test_ss: {}\".format(y_test_ss.shape))"
   ]
  },
  {
   "cell_type": "markdown",
   "id": "c4731e19-11e6-48eb-a8ea-a981448691e4",
   "metadata": {
    "tags": []
   },
   "source": [
    "### 7.2. Logistic Regresion"
   ]
  },
  {
   "cell_type": "code",
   "execution_count": 48,
   "id": "e8f5484b-526f-4cca-af3b-bf39ef71c2d7",
   "metadata": {
    "tags": []
   },
   "outputs": [
    {
     "data": {
      "text/plain": [
       "['columntransformer',\n",
       " 'columntransformer__n_jobs',\n",
       " 'columntransformer__pipeline-1',\n",
       " 'columntransformer__pipeline-1__memory',\n",
       " 'columntransformer__pipeline-1__onehotencoder',\n",
       " 'columntransformer__pipeline-1__onehotencoder__categories',\n",
       " 'columntransformer__pipeline-1__onehotencoder__drop',\n",
       " 'columntransformer__pipeline-1__onehotencoder__dtype',\n",
       " 'columntransformer__pipeline-1__onehotencoder__handle_unknown',\n",
       " 'columntransformer__pipeline-1__onehotencoder__max_categories',\n",
       " 'columntransformer__pipeline-1__onehotencoder__min_frequency',\n",
       " 'columntransformer__pipeline-1__onehotencoder__sparse',\n",
       " 'columntransformer__pipeline-1__steps',\n",
       " 'columntransformer__pipeline-1__verbose',\n",
       " 'columntransformer__pipeline-2',\n",
       " 'columntransformer__pipeline-2__memory',\n",
       " 'columntransformer__pipeline-2__ordinalencoder',\n",
       " 'columntransformer__pipeline-2__ordinalencoder__categories',\n",
       " 'columntransformer__pipeline-2__ordinalencoder__dtype',\n",
       " 'columntransformer__pipeline-2__ordinalencoder__encoded_missing_value',\n",
       " 'columntransformer__pipeline-2__ordinalencoder__handle_unknown',\n",
       " 'columntransformer__pipeline-2__ordinalencoder__unknown_value',\n",
       " 'columntransformer__pipeline-2__steps',\n",
       " 'columntransformer__pipeline-2__verbose',\n",
       " 'columntransformer__pipeline-3',\n",
       " 'columntransformer__pipeline-3__memory',\n",
       " 'columntransformer__pipeline-3__standardscaler',\n",
       " 'columntransformer__pipeline-3__standardscaler__copy',\n",
       " 'columntransformer__pipeline-3__standardscaler__with_mean',\n",
       " 'columntransformer__pipeline-3__standardscaler__with_std',\n",
       " 'columntransformer__pipeline-3__steps',\n",
       " 'columntransformer__pipeline-3__verbose',\n",
       " 'columntransformer__pipeline-4',\n",
       " 'columntransformer__pipeline-4__functiontransformer',\n",
       " 'columntransformer__pipeline-4__functiontransformer__accept_sparse',\n",
       " 'columntransformer__pipeline-4__functiontransformer__check_inverse',\n",
       " 'columntransformer__pipeline-4__functiontransformer__feature_names_out',\n",
       " 'columntransformer__pipeline-4__functiontransformer__func',\n",
       " 'columntransformer__pipeline-4__functiontransformer__inv_kw_args',\n",
       " 'columntransformer__pipeline-4__functiontransformer__inverse_func',\n",
       " 'columntransformer__pipeline-4__functiontransformer__kw_args',\n",
       " 'columntransformer__pipeline-4__functiontransformer__validate',\n",
       " 'columntransformer__pipeline-4__memory',\n",
       " 'columntransformer__pipeline-4__steps',\n",
       " 'columntransformer__pipeline-4__verbose',\n",
       " 'columntransformer__remainder',\n",
       " 'columntransformer__sparse_threshold',\n",
       " 'columntransformer__transformer_weights',\n",
       " 'columntransformer__transformers',\n",
       " 'columntransformer__verbose',\n",
       " 'columntransformer__verbose_feature_names_out',\n",
       " 'logisticregressioncv',\n",
       " 'logisticregressioncv__Cs',\n",
       " 'logisticregressioncv__class_weight',\n",
       " 'logisticregressioncv__cv',\n",
       " 'logisticregressioncv__dual',\n",
       " 'logisticregressioncv__fit_intercept',\n",
       " 'logisticregressioncv__intercept_scaling',\n",
       " 'logisticregressioncv__l1_ratios',\n",
       " 'logisticregressioncv__max_iter',\n",
       " 'logisticregressioncv__multi_class',\n",
       " 'logisticregressioncv__n_jobs',\n",
       " 'logisticregressioncv__penalty',\n",
       " 'logisticregressioncv__random_state',\n",
       " 'logisticregressioncv__refit',\n",
       " 'logisticregressioncv__scoring',\n",
       " 'logisticregressioncv__solver',\n",
       " 'logisticregressioncv__tol',\n",
       " 'logisticregressioncv__verbose',\n",
       " 'memory',\n",
       " 'steps',\n",
       " 'verbose']"
      ]
     },
     "execution_count": 48,
     "metadata": {},
     "output_type": "execute_result"
    }
   ],
   "source": [
    "lr = LogisticRegressionCV()\n",
    "clr = make_pipeline(preprocessor, lr)\n",
    "\n",
    "sorted(clr.get_params().keys())"
   ]
  },
  {
   "cell_type": "code",
   "execution_count": 59,
   "id": "a73d7ca2-3740-4b44-a588-8cb54c4454c8",
   "metadata": {},
   "outputs": [],
   "source": [
    "param_grid = {\n",
    "    \"logisticregressioncv__max_iter\" : [2000, 3000, 4000, 5000, 6000],\n",
    "    \"logisticregressioncv__solver\"  : [\"newton-cg\", \"lbfgs\", \"liblinear\"],\n",
    "}"
   ]
  },
  {
   "cell_type": "code",
   "execution_count": 60,
   "id": "0a0c1eca-1e46-4821-9f66-5249cbe1b430",
   "metadata": {},
   "outputs": [],
   "source": [
    "search = HalvingGridSearchCV(clr, param_grid, scoring=\"roc_auc\", \n",
    "                             cv=stratified_kfold, n_jobs=-1)"
   ]
  },
  {
   "cell_type": "code",
   "execution_count": 61,
   "id": "361843cd-3c43-4ed6-a169-589a5a53bbc6",
   "metadata": {},
   "outputs": [
    {
     "data": {
      "text/html": [
       "<style>#sk-container-id-2 {color: black;background-color: white;}#sk-container-id-2 pre{padding: 0;}#sk-container-id-2 div.sk-toggleable {background-color: white;}#sk-container-id-2 label.sk-toggleable__label {cursor: pointer;display: block;width: 100%;margin-bottom: 0;padding: 0.3em;box-sizing: border-box;text-align: center;}#sk-container-id-2 label.sk-toggleable__label-arrow:before {content: \"▸\";float: left;margin-right: 0.25em;color: #696969;}#sk-container-id-2 label.sk-toggleable__label-arrow:hover:before {color: black;}#sk-container-id-2 div.sk-estimator:hover label.sk-toggleable__label-arrow:before {color: black;}#sk-container-id-2 div.sk-toggleable__content {max-height: 0;max-width: 0;overflow: hidden;text-align: left;background-color: #f0f8ff;}#sk-container-id-2 div.sk-toggleable__content pre {margin: 0.2em;color: black;border-radius: 0.25em;background-color: #f0f8ff;}#sk-container-id-2 input.sk-toggleable__control:checked~div.sk-toggleable__content {max-height: 200px;max-width: 100%;overflow: auto;}#sk-container-id-2 input.sk-toggleable__control:checked~label.sk-toggleable__label-arrow:before {content: \"▾\";}#sk-container-id-2 div.sk-estimator input.sk-toggleable__control:checked~label.sk-toggleable__label {background-color: #d4ebff;}#sk-container-id-2 div.sk-label input.sk-toggleable__control:checked~label.sk-toggleable__label {background-color: #d4ebff;}#sk-container-id-2 input.sk-hidden--visually {border: 0;clip: rect(1px 1px 1px 1px);clip: rect(1px, 1px, 1px, 1px);height: 1px;margin: -1px;overflow: hidden;padding: 0;position: absolute;width: 1px;}#sk-container-id-2 div.sk-estimator {font-family: monospace;background-color: #f0f8ff;border: 1px dotted black;border-radius: 0.25em;box-sizing: border-box;margin-bottom: 0.5em;}#sk-container-id-2 div.sk-estimator:hover {background-color: #d4ebff;}#sk-container-id-2 div.sk-parallel-item::after {content: \"\";width: 100%;border-bottom: 1px solid gray;flex-grow: 1;}#sk-container-id-2 div.sk-label:hover label.sk-toggleable__label {background-color: #d4ebff;}#sk-container-id-2 div.sk-serial::before {content: \"\";position: absolute;border-left: 1px solid gray;box-sizing: border-box;top: 0;bottom: 0;left: 50%;z-index: 0;}#sk-container-id-2 div.sk-serial {display: flex;flex-direction: column;align-items: center;background-color: white;padding-right: 0.2em;padding-left: 0.2em;position: relative;}#sk-container-id-2 div.sk-item {position: relative;z-index: 1;}#sk-container-id-2 div.sk-parallel {display: flex;align-items: stretch;justify-content: center;background-color: white;position: relative;}#sk-container-id-2 div.sk-item::before, #sk-container-id-2 div.sk-parallel-item::before {content: \"\";position: absolute;border-left: 1px solid gray;box-sizing: border-box;top: 0;bottom: 0;left: 50%;z-index: -1;}#sk-container-id-2 div.sk-parallel-item {display: flex;flex-direction: column;z-index: 1;position: relative;background-color: white;}#sk-container-id-2 div.sk-parallel-item:first-child::after {align-self: flex-end;width: 50%;}#sk-container-id-2 div.sk-parallel-item:last-child::after {align-self: flex-start;width: 50%;}#sk-container-id-2 div.sk-parallel-item:only-child::after {width: 0;}#sk-container-id-2 div.sk-dashed-wrapped {border: 1px dashed gray;margin: 0 0.4em 0.5em 0.4em;box-sizing: border-box;padding-bottom: 0.4em;background-color: white;}#sk-container-id-2 div.sk-label label {font-family: monospace;font-weight: bold;display: inline-block;line-height: 1.2em;}#sk-container-id-2 div.sk-label-container {text-align: center;}#sk-container-id-2 div.sk-container {/* jupyter's `normalize.less` sets `[hidden] { display: none; }` but bootstrap.min.css set `[hidden] { display: none !important; }` so we also need the `!important` here to be able to override the default hidden behavior on the sphinx rendered scikit-learn.org. See: https://github.com/scikit-learn/scikit-learn/issues/21755 */display: inline-block !important;position: relative;}#sk-container-id-2 div.sk-text-repr-fallback {display: none;}</style><div id=\"sk-container-id-2\" class=\"sk-top-container\"><div class=\"sk-text-repr-fallback\"><pre>HalvingGridSearchCV(cv=StratifiedKFold(n_splits=3, random_state=42, shuffle=True),\n",
       "                    estimator=Pipeline(steps=[(&#x27;columntransformer&#x27;,\n",
       "                                               ColumnTransformer(transformers=[(&#x27;pipeline-1&#x27;,\n",
       "                                                                                Pipeline(steps=[(&#x27;onehotencoder&#x27;,\n",
       "                                                                                                 OneHotEncoder(handle_unknown=&#x27;ignore&#x27;))]),\n",
       "                                                                                [&#x27;INSTITUCION&#x27;,\n",
       "                                                                                 &#x27;GENERO&#x27;,\n",
       "                                                                                 &#x27;JORNADA&#x27;,\n",
       "                                                                                 &#x27;PAIS_ORIGEN&#x27;,\n",
       "                                                                                 &#x27;DISCAPACIDAD&#x27;,\n",
       "                                                                                 &#x27;SRPA&#x27;,\n",
       "                                                                                 &#x27;INSTITUCION_SECTOR&#x27;,\n",
       "                                                                                 &#x27;INSTITUCIO...\n",
       "                                                                                 &#x27;INSTITUCION_ESPECIALIDAD_COMERCIAL&#x27;,\n",
       "                                                                                 &#x27;INSTITUCION_ESPECIALIDAD_INDUSTRIAL&#x27;,\n",
       "                                                                                 &#x27;INSTITUCION_ESPECIALIDAD_NO_APLICA&#x27;,\n",
       "                                                                                 &#x27;INSTITUCION_ESPECIALIDAD_OTRO&#x27;])])),\n",
       "                                              (&#x27;logisticregressioncv&#x27;,\n",
       "                                               LogisticRegressionCV())]),\n",
       "                    n_jobs=-1,\n",
       "                    param_grid={&#x27;logisticregressioncv__max_iter&#x27;: [2000, 3000,\n",
       "                                                                   4000, 5000,\n",
       "                                                                   6000],\n",
       "                                &#x27;logisticregressioncv__solver&#x27;: [&#x27;newton-cg&#x27;,\n",
       "                                                                 &#x27;lbfgs&#x27;,\n",
       "                                                                 &#x27;liblinear&#x27;]},\n",
       "                    scoring=&#x27;roc_auc&#x27;)</pre><b>In a Jupyter environment, please rerun this cell to show the HTML representation or trust the notebook. <br />On GitHub, the HTML representation is unable to render, please try loading this page with nbviewer.org.</b></div><div class=\"sk-container\" hidden><div class=\"sk-item sk-dashed-wrapped\"><div class=\"sk-label-container\"><div class=\"sk-label sk-toggleable\"><input class=\"sk-toggleable__control sk-hidden--visually\" id=\"sk-estimator-id-13\" type=\"checkbox\" ><label for=\"sk-estimator-id-13\" class=\"sk-toggleable__label sk-toggleable__label-arrow\">HalvingGridSearchCV</label><div class=\"sk-toggleable__content\"><pre>HalvingGridSearchCV(cv=StratifiedKFold(n_splits=3, random_state=42, shuffle=True),\n",
       "                    estimator=Pipeline(steps=[(&#x27;columntransformer&#x27;,\n",
       "                                               ColumnTransformer(transformers=[(&#x27;pipeline-1&#x27;,\n",
       "                                                                                Pipeline(steps=[(&#x27;onehotencoder&#x27;,\n",
       "                                                                                                 OneHotEncoder(handle_unknown=&#x27;ignore&#x27;))]),\n",
       "                                                                                [&#x27;INSTITUCION&#x27;,\n",
       "                                                                                 &#x27;GENERO&#x27;,\n",
       "                                                                                 &#x27;JORNADA&#x27;,\n",
       "                                                                                 &#x27;PAIS_ORIGEN&#x27;,\n",
       "                                                                                 &#x27;DISCAPACIDAD&#x27;,\n",
       "                                                                                 &#x27;SRPA&#x27;,\n",
       "                                                                                 &#x27;INSTITUCION_SECTOR&#x27;,\n",
       "                                                                                 &#x27;INSTITUCIO...\n",
       "                                                                                 &#x27;INSTITUCION_ESPECIALIDAD_COMERCIAL&#x27;,\n",
       "                                                                                 &#x27;INSTITUCION_ESPECIALIDAD_INDUSTRIAL&#x27;,\n",
       "                                                                                 &#x27;INSTITUCION_ESPECIALIDAD_NO_APLICA&#x27;,\n",
       "                                                                                 &#x27;INSTITUCION_ESPECIALIDAD_OTRO&#x27;])])),\n",
       "                                              (&#x27;logisticregressioncv&#x27;,\n",
       "                                               LogisticRegressionCV())]),\n",
       "                    n_jobs=-1,\n",
       "                    param_grid={&#x27;logisticregressioncv__max_iter&#x27;: [2000, 3000,\n",
       "                                                                   4000, 5000,\n",
       "                                                                   6000],\n",
       "                                &#x27;logisticregressioncv__solver&#x27;: [&#x27;newton-cg&#x27;,\n",
       "                                                                 &#x27;lbfgs&#x27;,\n",
       "                                                                 &#x27;liblinear&#x27;]},\n",
       "                    scoring=&#x27;roc_auc&#x27;)</pre></div></div></div><div class=\"sk-parallel\"><div class=\"sk-parallel-item\"><div class=\"sk-item\"><div class=\"sk-label-container\"><div class=\"sk-label sk-toggleable\"><input class=\"sk-toggleable__control sk-hidden--visually\" id=\"sk-estimator-id-14\" type=\"checkbox\" ><label for=\"sk-estimator-id-14\" class=\"sk-toggleable__label sk-toggleable__label-arrow\">estimator: Pipeline</label><div class=\"sk-toggleable__content\"><pre>Pipeline(steps=[(&#x27;columntransformer&#x27;,\n",
       "                 ColumnTransformer(transformers=[(&#x27;pipeline-1&#x27;,\n",
       "                                                  Pipeline(steps=[(&#x27;onehotencoder&#x27;,\n",
       "                                                                   OneHotEncoder(handle_unknown=&#x27;ignore&#x27;))]),\n",
       "                                                  [&#x27;INSTITUCION&#x27;, &#x27;GENERO&#x27;,\n",
       "                                                   &#x27;JORNADA&#x27;, &#x27;PAIS_ORIGEN&#x27;,\n",
       "                                                   &#x27;DISCAPACIDAD&#x27;, &#x27;SRPA&#x27;,\n",
       "                                                   &#x27;INSTITUCION_SECTOR&#x27;,\n",
       "                                                   &#x27;INSTITUCION_MODELO&#x27;,\n",
       "                                                   &#x27;INSTITUCION_APOYO_ACADEMICO_ESPECIAL&#x27;,\n",
       "                                                   &#x27;INSTITUCION_ZONA&#x27;,\n",
       "                                                   &#x27;INSTITUCION_CARACTER&#x27;...\n",
       "                                                   &#x27;INSTITUCION_NIVEL_MEDIA&#x27;,\n",
       "                                                   &#x27;INSTITUCION_NIVEL_PREESCOLAR&#x27;,\n",
       "                                                   &#x27;INSTITUCION_NIVEL_PRIMERA_INFANCIA&#x27;,\n",
       "                                                   &#x27;INSTITUCION_ESPECIALIDAD_ACADÉMICA&#x27;,\n",
       "                                                   &#x27;INSTITUCION_ESPECIALIDAD_AGROPECUARIO&#x27;,\n",
       "                                                   &#x27;INSTITUCION_ESPECIALIDAD_COMERCIAL&#x27;,\n",
       "                                                   &#x27;INSTITUCION_ESPECIALIDAD_INDUSTRIAL&#x27;,\n",
       "                                                   &#x27;INSTITUCION_ESPECIALIDAD_NO_APLICA&#x27;,\n",
       "                                                   &#x27;INSTITUCION_ESPECIALIDAD_OTRO&#x27;])])),\n",
       "                (&#x27;logisticregressioncv&#x27;, LogisticRegressionCV())])</pre></div></div></div><div class=\"sk-serial\"><div class=\"sk-item\"><div class=\"sk-serial\"><div class=\"sk-item sk-dashed-wrapped\"><div class=\"sk-label-container\"><div class=\"sk-label sk-toggleable\"><input class=\"sk-toggleable__control sk-hidden--visually\" id=\"sk-estimator-id-15\" type=\"checkbox\" ><label for=\"sk-estimator-id-15\" class=\"sk-toggleable__label sk-toggleable__label-arrow\">columntransformer: ColumnTransformer</label><div class=\"sk-toggleable__content\"><pre>ColumnTransformer(transformers=[(&#x27;pipeline-1&#x27;,\n",
       "                                 Pipeline(steps=[(&#x27;onehotencoder&#x27;,\n",
       "                                                  OneHotEncoder(handle_unknown=&#x27;ignore&#x27;))]),\n",
       "                                 [&#x27;INSTITUCION&#x27;, &#x27;GENERO&#x27;, &#x27;JORNADA&#x27;,\n",
       "                                  &#x27;PAIS_ORIGEN&#x27;, &#x27;DISCAPACIDAD&#x27;, &#x27;SRPA&#x27;,\n",
       "                                  &#x27;INSTITUCION_SECTOR&#x27;, &#x27;INSTITUCION_MODELO&#x27;,\n",
       "                                  &#x27;INSTITUCION_APOYO_ACADEMICO_ESPECIAL&#x27;,\n",
       "                                  &#x27;INSTITUCION_ZONA&#x27;, &#x27;INSTITUCION_CARACTER&#x27;,\n",
       "                                  &#x27;INSTITUCION_ESTADO&#x27;,\n",
       "                                  &#x27;INSTITUCION_PR...\n",
       "                                  &#x27;INSTITUCION_NIVEL_SECUNDARIA_PRIMARIA&#x27;,\n",
       "                                  &#x27;INSTITUCION_NIVEL_MEDIA&#x27;,\n",
       "                                  &#x27;INSTITUCION_NIVEL_PREESCOLAR&#x27;,\n",
       "                                  &#x27;INSTITUCION_NIVEL_PRIMERA_INFANCIA&#x27;,\n",
       "                                  &#x27;INSTITUCION_ESPECIALIDAD_ACADÉMICA&#x27;,\n",
       "                                  &#x27;INSTITUCION_ESPECIALIDAD_AGROPECUARIO&#x27;,\n",
       "                                  &#x27;INSTITUCION_ESPECIALIDAD_COMERCIAL&#x27;,\n",
       "                                  &#x27;INSTITUCION_ESPECIALIDAD_INDUSTRIAL&#x27;,\n",
       "                                  &#x27;INSTITUCION_ESPECIALIDAD_NO_APLICA&#x27;,\n",
       "                                  &#x27;INSTITUCION_ESPECIALIDAD_OTRO&#x27;])])</pre></div></div></div><div class=\"sk-parallel\"><div class=\"sk-parallel-item\"><div class=\"sk-item\"><div class=\"sk-label-container\"><div class=\"sk-label sk-toggleable\"><input class=\"sk-toggleable__control sk-hidden--visually\" id=\"sk-estimator-id-16\" type=\"checkbox\" ><label for=\"sk-estimator-id-16\" class=\"sk-toggleable__label sk-toggleable__label-arrow\">pipeline-1</label><div class=\"sk-toggleable__content\"><pre>[&#x27;INSTITUCION&#x27;, &#x27;GENERO&#x27;, &#x27;JORNADA&#x27;, &#x27;PAIS_ORIGEN&#x27;, &#x27;DISCAPACIDAD&#x27;, &#x27;SRPA&#x27;, &#x27;INSTITUCION_SECTOR&#x27;, &#x27;INSTITUCION_MODELO&#x27;, &#x27;INSTITUCION_APOYO_ACADEMICO_ESPECIAL&#x27;, &#x27;INSTITUCION_ZONA&#x27;, &#x27;INSTITUCION_CARACTER&#x27;, &#x27;INSTITUCION_ESTADO&#x27;, &#x27;INSTITUCION_PRESTADOR_DE_SERVICIO&#x27;]</pre></div></div></div><div class=\"sk-serial\"><div class=\"sk-item\"><div class=\"sk-serial\"><div class=\"sk-item\"><div class=\"sk-estimator sk-toggleable\"><input class=\"sk-toggleable__control sk-hidden--visually\" id=\"sk-estimator-id-17\" type=\"checkbox\" ><label for=\"sk-estimator-id-17\" class=\"sk-toggleable__label sk-toggleable__label-arrow\">OneHotEncoder</label><div class=\"sk-toggleable__content\"><pre>OneHotEncoder(handle_unknown=&#x27;ignore&#x27;)</pre></div></div></div></div></div></div></div></div><div class=\"sk-parallel-item\"><div class=\"sk-item\"><div class=\"sk-label-container\"><div class=\"sk-label sk-toggleable\"><input class=\"sk-toggleable__control sk-hidden--visually\" id=\"sk-estimator-id-18\" type=\"checkbox\" ><label for=\"sk-estimator-id-18\" class=\"sk-toggleable__label sk-toggleable__label-arrow\">pipeline-2</label><div class=\"sk-toggleable__content\"><pre>[&#x27;GRADO_COD&#x27;, &#x27;ESTRATO&#x27;, &#x27;INSTITUCION_TAMAÑO&#x27;]</pre></div></div></div><div class=\"sk-serial\"><div class=\"sk-item\"><div class=\"sk-serial\"><div class=\"sk-item\"><div class=\"sk-estimator sk-toggleable\"><input class=\"sk-toggleable__control sk-hidden--visually\" id=\"sk-estimator-id-19\" type=\"checkbox\" ><label for=\"sk-estimator-id-19\" class=\"sk-toggleable__label sk-toggleable__label-arrow\">OrdinalEncoder</label><div class=\"sk-toggleable__content\"><pre>OrdinalEncoder(categories=[[-2.0, -1.0, 0.0, 1.0, 2.0, 3.0, 4.0, 5.0, 6.0, 7.0,\n",
       "                            8.0, 9.0, 10.0, 11.0, 12.0, 20.0, 21.0, 22.0, 23.0,\n",
       "                            24.0, 25.0, 26.0],\n",
       "                           [&#x27;ESTRATO 0&#x27;, &#x27;ESTRATO 1&#x27;, &#x27;ESTRATO 2&#x27;, &#x27;ESTRATO 3&#x27;,\n",
       "                            &#x27;ESTRATO 4&#x27;, &#x27;ESTRATO 5&#x27;, &#x27;ESTRATO 6&#x27;],\n",
       "                           [&#x27;Pequeña&#x27;, &#x27;Mediana&#x27;, &#x27;Grande&#x27;]])</pre></div></div></div></div></div></div></div></div><div class=\"sk-parallel-item\"><div class=\"sk-item\"><div class=\"sk-label-container\"><div class=\"sk-label sk-toggleable\"><input class=\"sk-toggleable__control sk-hidden--visually\" id=\"sk-estimator-id-20\" type=\"checkbox\" ><label for=\"sk-estimator-id-20\" class=\"sk-toggleable__label sk-toggleable__label-arrow\">pipeline-3</label><div class=\"sk-toggleable__content\"><pre>[&#x27;EDAD&#x27;, &#x27;INSTITUCION_NUMERO_DE_SEDES&#x27;]</pre></div></div></div><div class=\"sk-serial\"><div class=\"sk-item\"><div class=\"sk-serial\"><div class=\"sk-item\"><div class=\"sk-estimator sk-toggleable\"><input class=\"sk-toggleable__control sk-hidden--visually\" id=\"sk-estimator-id-21\" type=\"checkbox\" ><label for=\"sk-estimator-id-21\" class=\"sk-toggleable__label sk-toggleable__label-arrow\">StandardScaler</label><div class=\"sk-toggleable__content\"><pre>StandardScaler()</pre></div></div></div></div></div></div></div></div><div class=\"sk-parallel-item\"><div class=\"sk-item\"><div class=\"sk-label-container\"><div class=\"sk-label sk-toggleable\"><input class=\"sk-toggleable__control sk-hidden--visually\" id=\"sk-estimator-id-22\" type=\"checkbox\" ><label for=\"sk-estimator-id-22\" class=\"sk-toggleable__label sk-toggleable__label-arrow\">pipeline-4</label><div class=\"sk-toggleable__content\"><pre>[&#x27;INSTITUCION_NIVEL_BASICA_PRIMARIA&#x27;, &#x27;INSTITUCION_NIVEL_SECUNDARIA_PRIMARIA&#x27;, &#x27;INSTITUCION_NIVEL_MEDIA&#x27;, &#x27;INSTITUCION_NIVEL_PREESCOLAR&#x27;, &#x27;INSTITUCION_NIVEL_PRIMERA_INFANCIA&#x27;, &#x27;INSTITUCION_ESPECIALIDAD_ACADÉMICA&#x27;, &#x27;INSTITUCION_ESPECIALIDAD_AGROPECUARIO&#x27;, &#x27;INSTITUCION_ESPECIALIDAD_COMERCIAL&#x27;, &#x27;INSTITUCION_ESPECIALIDAD_INDUSTRIAL&#x27;, &#x27;INSTITUCION_ESPECIALIDAD_NO_APLICA&#x27;, &#x27;INSTITUCION_ESPECIALIDAD_OTRO&#x27;]</pre></div></div></div><div class=\"sk-serial\"><div class=\"sk-item\"><div class=\"sk-serial\"><div class=\"sk-item\"><div class=\"sk-estimator sk-toggleable\"><input class=\"sk-toggleable__control sk-hidden--visually\" id=\"sk-estimator-id-23\" type=\"checkbox\" ><label for=\"sk-estimator-id-23\" class=\"sk-toggleable__label sk-toggleable__label-arrow\">FunctionTransformer</label><div class=\"sk-toggleable__content\"><pre>FunctionTransformer(func=&lt;function boolean_transformation at 0x7fbe1dff1120&gt;)</pre></div></div></div></div></div></div></div></div></div></div><div class=\"sk-item\"><div class=\"sk-estimator sk-toggleable\"><input class=\"sk-toggleable__control sk-hidden--visually\" id=\"sk-estimator-id-24\" type=\"checkbox\" ><label for=\"sk-estimator-id-24\" class=\"sk-toggleable__label sk-toggleable__label-arrow\">LogisticRegressionCV</label><div class=\"sk-toggleable__content\"><pre>LogisticRegressionCV()</pre></div></div></div></div></div></div></div></div></div></div></div></div>"
      ],
      "text/plain": [
       "HalvingGridSearchCV(cv=StratifiedKFold(n_splits=3, random_state=42, shuffle=True),\n",
       "                    estimator=Pipeline(steps=[('columntransformer',\n",
       "                                               ColumnTransformer(transformers=[('pipeline-1',\n",
       "                                                                                Pipeline(steps=[('onehotencoder',\n",
       "                                                                                                 OneHotEncoder(handle_unknown='ignore'))]),\n",
       "                                                                                ['INSTITUCION',\n",
       "                                                                                 'GENERO',\n",
       "                                                                                 'JORNADA',\n",
       "                                                                                 'PAIS_ORIGEN',\n",
       "                                                                                 'DISCAPACIDAD',\n",
       "                                                                                 'SRPA',\n",
       "                                                                                 'INSTITUCION_SECTOR',\n",
       "                                                                                 'INSTITUCIO...\n",
       "                                                                                 'INSTITUCION_ESPECIALIDAD_COMERCIAL',\n",
       "                                                                                 'INSTITUCION_ESPECIALIDAD_INDUSTRIAL',\n",
       "                                                                                 'INSTITUCION_ESPECIALIDAD_NO_APLICA',\n",
       "                                                                                 'INSTITUCION_ESPECIALIDAD_OTRO'])])),\n",
       "                                              ('logisticregressioncv',\n",
       "                                               LogisticRegressionCV())]),\n",
       "                    n_jobs=-1,\n",
       "                    param_grid={'logisticregressioncv__max_iter': [2000, 3000,\n",
       "                                                                   4000, 5000,\n",
       "                                                                   6000],\n",
       "                                'logisticregressioncv__solver': ['newton-cg',\n",
       "                                                                 'lbfgs',\n",
       "                                                                 'liblinear']},\n",
       "                    scoring='roc_auc')"
      ]
     },
     "execution_count": 61,
     "metadata": {},
     "output_type": "execute_result"
    }
   ],
   "source": [
    "search.fit(X_train_ss, y_train_ss)"
   ]
  },
  {
   "cell_type": "code",
   "execution_count": 65,
   "id": "45d98a7d-f8f5-443d-b187-6e3006f82a8e",
   "metadata": {},
   "outputs": [
    {
     "data": {
      "text/plain": [
       "{'logisticregressioncv__max_iter': 5000,\n",
       " 'logisticregressioncv__solver': 'lbfgs'}"
      ]
     },
     "execution_count": 65,
     "metadata": {},
     "output_type": "execute_result"
    }
   ],
   "source": [
    "search.best_params_"
   ]
  },
  {
   "cell_type": "code",
   "execution_count": 66,
   "id": "fe25f1eb-c44e-4633-8ba5-bf05b8c3d3b0",
   "metadata": {},
   "outputs": [],
   "source": [
    "lr_parameters = search.best_params_"
   ]
  },
  {
   "cell_type": "code",
   "execution_count": 63,
   "id": "f7879849-2746-4528-81db-2599c212fc83",
   "metadata": {},
   "outputs": [
    {
     "data": {
      "text/plain": [
       "0.640686881291492"
      ]
     },
     "execution_count": 63,
     "metadata": {},
     "output_type": "execute_result"
    }
   ],
   "source": [
    "search.best_score_"
   ]
  },
  {
   "cell_type": "markdown",
   "id": "0cedc9c7-aa59-4577-a99a-d97b6d47ea9a",
   "metadata": {
    "tags": []
   },
   "source": [
    "### 7.3. Random Forest"
   ]
  },
  {
   "cell_type": "code",
   "execution_count": 67,
   "id": "711122ac-2dd6-4afc-ba5a-4c557733a8ab",
   "metadata": {
    "tags": []
   },
   "outputs": [
    {
     "data": {
      "text/plain": [
       "['columntransformer',\n",
       " 'columntransformer__n_jobs',\n",
       " 'columntransformer__pipeline-1',\n",
       " 'columntransformer__pipeline-1__memory',\n",
       " 'columntransformer__pipeline-1__onehotencoder',\n",
       " 'columntransformer__pipeline-1__onehotencoder__categories',\n",
       " 'columntransformer__pipeline-1__onehotencoder__drop',\n",
       " 'columntransformer__pipeline-1__onehotencoder__dtype',\n",
       " 'columntransformer__pipeline-1__onehotencoder__handle_unknown',\n",
       " 'columntransformer__pipeline-1__onehotencoder__max_categories',\n",
       " 'columntransformer__pipeline-1__onehotencoder__min_frequency',\n",
       " 'columntransformer__pipeline-1__onehotencoder__sparse',\n",
       " 'columntransformer__pipeline-1__steps',\n",
       " 'columntransformer__pipeline-1__verbose',\n",
       " 'columntransformer__pipeline-2',\n",
       " 'columntransformer__pipeline-2__memory',\n",
       " 'columntransformer__pipeline-2__ordinalencoder',\n",
       " 'columntransformer__pipeline-2__ordinalencoder__categories',\n",
       " 'columntransformer__pipeline-2__ordinalencoder__dtype',\n",
       " 'columntransformer__pipeline-2__ordinalencoder__encoded_missing_value',\n",
       " 'columntransformer__pipeline-2__ordinalencoder__handle_unknown',\n",
       " 'columntransformer__pipeline-2__ordinalencoder__unknown_value',\n",
       " 'columntransformer__pipeline-2__steps',\n",
       " 'columntransformer__pipeline-2__verbose',\n",
       " 'columntransformer__pipeline-3',\n",
       " 'columntransformer__pipeline-3__memory',\n",
       " 'columntransformer__pipeline-3__standardscaler',\n",
       " 'columntransformer__pipeline-3__standardscaler__copy',\n",
       " 'columntransformer__pipeline-3__standardscaler__with_mean',\n",
       " 'columntransformer__pipeline-3__standardscaler__with_std',\n",
       " 'columntransformer__pipeline-3__steps',\n",
       " 'columntransformer__pipeline-3__verbose',\n",
       " 'columntransformer__pipeline-4',\n",
       " 'columntransformer__pipeline-4__functiontransformer',\n",
       " 'columntransformer__pipeline-4__functiontransformer__accept_sparse',\n",
       " 'columntransformer__pipeline-4__functiontransformer__check_inverse',\n",
       " 'columntransformer__pipeline-4__functiontransformer__feature_names_out',\n",
       " 'columntransformer__pipeline-4__functiontransformer__func',\n",
       " 'columntransformer__pipeline-4__functiontransformer__inv_kw_args',\n",
       " 'columntransformer__pipeline-4__functiontransformer__inverse_func',\n",
       " 'columntransformer__pipeline-4__functiontransformer__kw_args',\n",
       " 'columntransformer__pipeline-4__functiontransformer__validate',\n",
       " 'columntransformer__pipeline-4__memory',\n",
       " 'columntransformer__pipeline-4__steps',\n",
       " 'columntransformer__pipeline-4__verbose',\n",
       " 'columntransformer__remainder',\n",
       " 'columntransformer__sparse_threshold',\n",
       " 'columntransformer__transformer_weights',\n",
       " 'columntransformer__transformers',\n",
       " 'columntransformer__verbose',\n",
       " 'columntransformer__verbose_feature_names_out',\n",
       " 'memory',\n",
       " 'randomforestclassifier',\n",
       " 'randomforestclassifier__bootstrap',\n",
       " 'randomforestclassifier__ccp_alpha',\n",
       " 'randomforestclassifier__class_weight',\n",
       " 'randomforestclassifier__criterion',\n",
       " 'randomforestclassifier__max_depth',\n",
       " 'randomforestclassifier__max_features',\n",
       " 'randomforestclassifier__max_leaf_nodes',\n",
       " 'randomforestclassifier__max_samples',\n",
       " 'randomforestclassifier__min_impurity_decrease',\n",
       " 'randomforestclassifier__min_samples_leaf',\n",
       " 'randomforestclassifier__min_samples_split',\n",
       " 'randomforestclassifier__min_weight_fraction_leaf',\n",
       " 'randomforestclassifier__n_estimators',\n",
       " 'randomforestclassifier__n_jobs',\n",
       " 'randomforestclassifier__oob_score',\n",
       " 'randomforestclassifier__random_state',\n",
       " 'randomforestclassifier__verbose',\n",
       " 'randomforestclassifier__warm_start',\n",
       " 'steps',\n",
       " 'verbose']"
      ]
     },
     "execution_count": 67,
     "metadata": {},
     "output_type": "execute_result"
    }
   ],
   "source": [
    "rfc = RandomForestClassifier()\n",
    "clr = make_pipeline(preprocessor, rfc)\n",
    "\n",
    "sorted(clr.get_params().keys())"
   ]
  },
  {
   "cell_type": "code",
   "execution_count": 68,
   "id": "8f32cd6b-ff9a-45eb-b00a-205bba09bf77",
   "metadata": {},
   "outputs": [],
   "source": [
    "param_grid = {\n",
    "    \"randomforestclassifier__n_estimators\" : np.arange(500, 900, 100),\n",
    "    \"randomforestclassifier__max_depth\" : np.arange(20, 30, 2)\n",
    "}"
   ]
  },
  {
   "cell_type": "code",
   "execution_count": 69,
   "id": "1ffb2087-2b43-4daa-9444-32048184d9fd",
   "metadata": {},
   "outputs": [],
   "source": [
    "search = HalvingGridSearchCV(clr, param_grid, scoring=\"roc_auc\", \n",
    "                             cv=stratified_kfold, n_jobs=-1)"
   ]
  },
  {
   "cell_type": "code",
   "execution_count": 70,
   "id": "c7f8f006-be45-4d52-80a8-a53be2d82ce6",
   "metadata": {},
   "outputs": [
    {
     "data": {
      "text/html": [
       "<style>#sk-container-id-3 {color: black;background-color: white;}#sk-container-id-3 pre{padding: 0;}#sk-container-id-3 div.sk-toggleable {background-color: white;}#sk-container-id-3 label.sk-toggleable__label {cursor: pointer;display: block;width: 100%;margin-bottom: 0;padding: 0.3em;box-sizing: border-box;text-align: center;}#sk-container-id-3 label.sk-toggleable__label-arrow:before {content: \"▸\";float: left;margin-right: 0.25em;color: #696969;}#sk-container-id-3 label.sk-toggleable__label-arrow:hover:before {color: black;}#sk-container-id-3 div.sk-estimator:hover label.sk-toggleable__label-arrow:before {color: black;}#sk-container-id-3 div.sk-toggleable__content {max-height: 0;max-width: 0;overflow: hidden;text-align: left;background-color: #f0f8ff;}#sk-container-id-3 div.sk-toggleable__content pre {margin: 0.2em;color: black;border-radius: 0.25em;background-color: #f0f8ff;}#sk-container-id-3 input.sk-toggleable__control:checked~div.sk-toggleable__content {max-height: 200px;max-width: 100%;overflow: auto;}#sk-container-id-3 input.sk-toggleable__control:checked~label.sk-toggleable__label-arrow:before {content: \"▾\";}#sk-container-id-3 div.sk-estimator input.sk-toggleable__control:checked~label.sk-toggleable__label {background-color: #d4ebff;}#sk-container-id-3 div.sk-label input.sk-toggleable__control:checked~label.sk-toggleable__label {background-color: #d4ebff;}#sk-container-id-3 input.sk-hidden--visually {border: 0;clip: rect(1px 1px 1px 1px);clip: rect(1px, 1px, 1px, 1px);height: 1px;margin: -1px;overflow: hidden;padding: 0;position: absolute;width: 1px;}#sk-container-id-3 div.sk-estimator {font-family: monospace;background-color: #f0f8ff;border: 1px dotted black;border-radius: 0.25em;box-sizing: border-box;margin-bottom: 0.5em;}#sk-container-id-3 div.sk-estimator:hover {background-color: #d4ebff;}#sk-container-id-3 div.sk-parallel-item::after {content: \"\";width: 100%;border-bottom: 1px solid gray;flex-grow: 1;}#sk-container-id-3 div.sk-label:hover label.sk-toggleable__label {background-color: #d4ebff;}#sk-container-id-3 div.sk-serial::before {content: \"\";position: absolute;border-left: 1px solid gray;box-sizing: border-box;top: 0;bottom: 0;left: 50%;z-index: 0;}#sk-container-id-3 div.sk-serial {display: flex;flex-direction: column;align-items: center;background-color: white;padding-right: 0.2em;padding-left: 0.2em;position: relative;}#sk-container-id-3 div.sk-item {position: relative;z-index: 1;}#sk-container-id-3 div.sk-parallel {display: flex;align-items: stretch;justify-content: center;background-color: white;position: relative;}#sk-container-id-3 div.sk-item::before, #sk-container-id-3 div.sk-parallel-item::before {content: \"\";position: absolute;border-left: 1px solid gray;box-sizing: border-box;top: 0;bottom: 0;left: 50%;z-index: -1;}#sk-container-id-3 div.sk-parallel-item {display: flex;flex-direction: column;z-index: 1;position: relative;background-color: white;}#sk-container-id-3 div.sk-parallel-item:first-child::after {align-self: flex-end;width: 50%;}#sk-container-id-3 div.sk-parallel-item:last-child::after {align-self: flex-start;width: 50%;}#sk-container-id-3 div.sk-parallel-item:only-child::after {width: 0;}#sk-container-id-3 div.sk-dashed-wrapped {border: 1px dashed gray;margin: 0 0.4em 0.5em 0.4em;box-sizing: border-box;padding-bottom: 0.4em;background-color: white;}#sk-container-id-3 div.sk-label label {font-family: monospace;font-weight: bold;display: inline-block;line-height: 1.2em;}#sk-container-id-3 div.sk-label-container {text-align: center;}#sk-container-id-3 div.sk-container {/* jupyter's `normalize.less` sets `[hidden] { display: none; }` but bootstrap.min.css set `[hidden] { display: none !important; }` so we also need the `!important` here to be able to override the default hidden behavior on the sphinx rendered scikit-learn.org. See: https://github.com/scikit-learn/scikit-learn/issues/21755 */display: inline-block !important;position: relative;}#sk-container-id-3 div.sk-text-repr-fallback {display: none;}</style><div id=\"sk-container-id-3\" class=\"sk-top-container\"><div class=\"sk-text-repr-fallback\"><pre>HalvingGridSearchCV(cv=StratifiedKFold(n_splits=3, random_state=42, shuffle=True),\n",
       "                    estimator=Pipeline(steps=[(&#x27;columntransformer&#x27;,\n",
       "                                               ColumnTransformer(transformers=[(&#x27;pipeline-1&#x27;,\n",
       "                                                                                Pipeline(steps=[(&#x27;onehotencoder&#x27;,\n",
       "                                                                                                 OneHotEncoder(handle_unknown=&#x27;ignore&#x27;))]),\n",
       "                                                                                [&#x27;INSTITUCION&#x27;,\n",
       "                                                                                 &#x27;GENERO&#x27;,\n",
       "                                                                                 &#x27;JORNADA&#x27;,\n",
       "                                                                                 &#x27;PAIS_ORIGEN&#x27;,\n",
       "                                                                                 &#x27;DISCAPACIDAD&#x27;,\n",
       "                                                                                 &#x27;SRPA&#x27;,\n",
       "                                                                                 &#x27;INSTITUCION_SECTOR&#x27;,\n",
       "                                                                                 &#x27;INSTITUCIO...\n",
       "                                                                                 &#x27;INSTITUCION_ESPECIALIDAD_COMERCIAL&#x27;,\n",
       "                                                                                 &#x27;INSTITUCION_ESPECIALIDAD_INDUSTRIAL&#x27;,\n",
       "                                                                                 &#x27;INSTITUCION_ESPECIALIDAD_NO_APLICA&#x27;,\n",
       "                                                                                 &#x27;INSTITUCION_ESPECIALIDAD_OTRO&#x27;])])),\n",
       "                                              (&#x27;randomforestclassifier&#x27;,\n",
       "                                               RandomForestClassifier())]),\n",
       "                    n_jobs=-1,\n",
       "                    param_grid={&#x27;randomforestclassifier__max_depth&#x27;: array([20, 22, 24, 26, 28]),\n",
       "                                &#x27;randomforestclassifier__n_estimators&#x27;: array([500, 600, 700, 800])},\n",
       "                    scoring=&#x27;roc_auc&#x27;)</pre><b>In a Jupyter environment, please rerun this cell to show the HTML representation or trust the notebook. <br />On GitHub, the HTML representation is unable to render, please try loading this page with nbviewer.org.</b></div><div class=\"sk-container\" hidden><div class=\"sk-item sk-dashed-wrapped\"><div class=\"sk-label-container\"><div class=\"sk-label sk-toggleable\"><input class=\"sk-toggleable__control sk-hidden--visually\" id=\"sk-estimator-id-25\" type=\"checkbox\" ><label for=\"sk-estimator-id-25\" class=\"sk-toggleable__label sk-toggleable__label-arrow\">HalvingGridSearchCV</label><div class=\"sk-toggleable__content\"><pre>HalvingGridSearchCV(cv=StratifiedKFold(n_splits=3, random_state=42, shuffle=True),\n",
       "                    estimator=Pipeline(steps=[(&#x27;columntransformer&#x27;,\n",
       "                                               ColumnTransformer(transformers=[(&#x27;pipeline-1&#x27;,\n",
       "                                                                                Pipeline(steps=[(&#x27;onehotencoder&#x27;,\n",
       "                                                                                                 OneHotEncoder(handle_unknown=&#x27;ignore&#x27;))]),\n",
       "                                                                                [&#x27;INSTITUCION&#x27;,\n",
       "                                                                                 &#x27;GENERO&#x27;,\n",
       "                                                                                 &#x27;JORNADA&#x27;,\n",
       "                                                                                 &#x27;PAIS_ORIGEN&#x27;,\n",
       "                                                                                 &#x27;DISCAPACIDAD&#x27;,\n",
       "                                                                                 &#x27;SRPA&#x27;,\n",
       "                                                                                 &#x27;INSTITUCION_SECTOR&#x27;,\n",
       "                                                                                 &#x27;INSTITUCIO...\n",
       "                                                                                 &#x27;INSTITUCION_ESPECIALIDAD_COMERCIAL&#x27;,\n",
       "                                                                                 &#x27;INSTITUCION_ESPECIALIDAD_INDUSTRIAL&#x27;,\n",
       "                                                                                 &#x27;INSTITUCION_ESPECIALIDAD_NO_APLICA&#x27;,\n",
       "                                                                                 &#x27;INSTITUCION_ESPECIALIDAD_OTRO&#x27;])])),\n",
       "                                              (&#x27;randomforestclassifier&#x27;,\n",
       "                                               RandomForestClassifier())]),\n",
       "                    n_jobs=-1,\n",
       "                    param_grid={&#x27;randomforestclassifier__max_depth&#x27;: array([20, 22, 24, 26, 28]),\n",
       "                                &#x27;randomforestclassifier__n_estimators&#x27;: array([500, 600, 700, 800])},\n",
       "                    scoring=&#x27;roc_auc&#x27;)</pre></div></div></div><div class=\"sk-parallel\"><div class=\"sk-parallel-item\"><div class=\"sk-item\"><div class=\"sk-label-container\"><div class=\"sk-label sk-toggleable\"><input class=\"sk-toggleable__control sk-hidden--visually\" id=\"sk-estimator-id-26\" type=\"checkbox\" ><label for=\"sk-estimator-id-26\" class=\"sk-toggleable__label sk-toggleable__label-arrow\">estimator: Pipeline</label><div class=\"sk-toggleable__content\"><pre>Pipeline(steps=[(&#x27;columntransformer&#x27;,\n",
       "                 ColumnTransformer(transformers=[(&#x27;pipeline-1&#x27;,\n",
       "                                                  Pipeline(steps=[(&#x27;onehotencoder&#x27;,\n",
       "                                                                   OneHotEncoder(handle_unknown=&#x27;ignore&#x27;))]),\n",
       "                                                  [&#x27;INSTITUCION&#x27;, &#x27;GENERO&#x27;,\n",
       "                                                   &#x27;JORNADA&#x27;, &#x27;PAIS_ORIGEN&#x27;,\n",
       "                                                   &#x27;DISCAPACIDAD&#x27;, &#x27;SRPA&#x27;,\n",
       "                                                   &#x27;INSTITUCION_SECTOR&#x27;,\n",
       "                                                   &#x27;INSTITUCION_MODELO&#x27;,\n",
       "                                                   &#x27;INSTITUCION_APOYO_ACADEMICO_ESPECIAL&#x27;,\n",
       "                                                   &#x27;INSTITUCION_ZONA&#x27;,\n",
       "                                                   &#x27;INSTITUCION_CARACTER&#x27;...\n",
       "                                                   &#x27;INSTITUCION_NIVEL_MEDIA&#x27;,\n",
       "                                                   &#x27;INSTITUCION_NIVEL_PREESCOLAR&#x27;,\n",
       "                                                   &#x27;INSTITUCION_NIVEL_PRIMERA_INFANCIA&#x27;,\n",
       "                                                   &#x27;INSTITUCION_ESPECIALIDAD_ACADÉMICA&#x27;,\n",
       "                                                   &#x27;INSTITUCION_ESPECIALIDAD_AGROPECUARIO&#x27;,\n",
       "                                                   &#x27;INSTITUCION_ESPECIALIDAD_COMERCIAL&#x27;,\n",
       "                                                   &#x27;INSTITUCION_ESPECIALIDAD_INDUSTRIAL&#x27;,\n",
       "                                                   &#x27;INSTITUCION_ESPECIALIDAD_NO_APLICA&#x27;,\n",
       "                                                   &#x27;INSTITUCION_ESPECIALIDAD_OTRO&#x27;])])),\n",
       "                (&#x27;randomforestclassifier&#x27;, RandomForestClassifier())])</pre></div></div></div><div class=\"sk-serial\"><div class=\"sk-item\"><div class=\"sk-serial\"><div class=\"sk-item sk-dashed-wrapped\"><div class=\"sk-label-container\"><div class=\"sk-label sk-toggleable\"><input class=\"sk-toggleable__control sk-hidden--visually\" id=\"sk-estimator-id-27\" type=\"checkbox\" ><label for=\"sk-estimator-id-27\" class=\"sk-toggleable__label sk-toggleable__label-arrow\">columntransformer: ColumnTransformer</label><div class=\"sk-toggleable__content\"><pre>ColumnTransformer(transformers=[(&#x27;pipeline-1&#x27;,\n",
       "                                 Pipeline(steps=[(&#x27;onehotencoder&#x27;,\n",
       "                                                  OneHotEncoder(handle_unknown=&#x27;ignore&#x27;))]),\n",
       "                                 [&#x27;INSTITUCION&#x27;, &#x27;GENERO&#x27;, &#x27;JORNADA&#x27;,\n",
       "                                  &#x27;PAIS_ORIGEN&#x27;, &#x27;DISCAPACIDAD&#x27;, &#x27;SRPA&#x27;,\n",
       "                                  &#x27;INSTITUCION_SECTOR&#x27;, &#x27;INSTITUCION_MODELO&#x27;,\n",
       "                                  &#x27;INSTITUCION_APOYO_ACADEMICO_ESPECIAL&#x27;,\n",
       "                                  &#x27;INSTITUCION_ZONA&#x27;, &#x27;INSTITUCION_CARACTER&#x27;,\n",
       "                                  &#x27;INSTITUCION_ESTADO&#x27;,\n",
       "                                  &#x27;INSTITUCION_PR...\n",
       "                                  &#x27;INSTITUCION_NIVEL_SECUNDARIA_PRIMARIA&#x27;,\n",
       "                                  &#x27;INSTITUCION_NIVEL_MEDIA&#x27;,\n",
       "                                  &#x27;INSTITUCION_NIVEL_PREESCOLAR&#x27;,\n",
       "                                  &#x27;INSTITUCION_NIVEL_PRIMERA_INFANCIA&#x27;,\n",
       "                                  &#x27;INSTITUCION_ESPECIALIDAD_ACADÉMICA&#x27;,\n",
       "                                  &#x27;INSTITUCION_ESPECIALIDAD_AGROPECUARIO&#x27;,\n",
       "                                  &#x27;INSTITUCION_ESPECIALIDAD_COMERCIAL&#x27;,\n",
       "                                  &#x27;INSTITUCION_ESPECIALIDAD_INDUSTRIAL&#x27;,\n",
       "                                  &#x27;INSTITUCION_ESPECIALIDAD_NO_APLICA&#x27;,\n",
       "                                  &#x27;INSTITUCION_ESPECIALIDAD_OTRO&#x27;])])</pre></div></div></div><div class=\"sk-parallel\"><div class=\"sk-parallel-item\"><div class=\"sk-item\"><div class=\"sk-label-container\"><div class=\"sk-label sk-toggleable\"><input class=\"sk-toggleable__control sk-hidden--visually\" id=\"sk-estimator-id-28\" type=\"checkbox\" ><label for=\"sk-estimator-id-28\" class=\"sk-toggleable__label sk-toggleable__label-arrow\">pipeline-1</label><div class=\"sk-toggleable__content\"><pre>[&#x27;INSTITUCION&#x27;, &#x27;GENERO&#x27;, &#x27;JORNADA&#x27;, &#x27;PAIS_ORIGEN&#x27;, &#x27;DISCAPACIDAD&#x27;, &#x27;SRPA&#x27;, &#x27;INSTITUCION_SECTOR&#x27;, &#x27;INSTITUCION_MODELO&#x27;, &#x27;INSTITUCION_APOYO_ACADEMICO_ESPECIAL&#x27;, &#x27;INSTITUCION_ZONA&#x27;, &#x27;INSTITUCION_CARACTER&#x27;, &#x27;INSTITUCION_ESTADO&#x27;, &#x27;INSTITUCION_PRESTADOR_DE_SERVICIO&#x27;]</pre></div></div></div><div class=\"sk-serial\"><div class=\"sk-item\"><div class=\"sk-serial\"><div class=\"sk-item\"><div class=\"sk-estimator sk-toggleable\"><input class=\"sk-toggleable__control sk-hidden--visually\" id=\"sk-estimator-id-29\" type=\"checkbox\" ><label for=\"sk-estimator-id-29\" class=\"sk-toggleable__label sk-toggleable__label-arrow\">OneHotEncoder</label><div class=\"sk-toggleable__content\"><pre>OneHotEncoder(handle_unknown=&#x27;ignore&#x27;)</pre></div></div></div></div></div></div></div></div><div class=\"sk-parallel-item\"><div class=\"sk-item\"><div class=\"sk-label-container\"><div class=\"sk-label sk-toggleable\"><input class=\"sk-toggleable__control sk-hidden--visually\" id=\"sk-estimator-id-30\" type=\"checkbox\" ><label for=\"sk-estimator-id-30\" class=\"sk-toggleable__label sk-toggleable__label-arrow\">pipeline-2</label><div class=\"sk-toggleable__content\"><pre>[&#x27;GRADO_COD&#x27;, &#x27;ESTRATO&#x27;, &#x27;INSTITUCION_TAMAÑO&#x27;]</pre></div></div></div><div class=\"sk-serial\"><div class=\"sk-item\"><div class=\"sk-serial\"><div class=\"sk-item\"><div class=\"sk-estimator sk-toggleable\"><input class=\"sk-toggleable__control sk-hidden--visually\" id=\"sk-estimator-id-31\" type=\"checkbox\" ><label for=\"sk-estimator-id-31\" class=\"sk-toggleable__label sk-toggleable__label-arrow\">OrdinalEncoder</label><div class=\"sk-toggleable__content\"><pre>OrdinalEncoder(categories=[[-2.0, -1.0, 0.0, 1.0, 2.0, 3.0, 4.0, 5.0, 6.0, 7.0,\n",
       "                            8.0, 9.0, 10.0, 11.0, 12.0, 20.0, 21.0, 22.0, 23.0,\n",
       "                            24.0, 25.0, 26.0],\n",
       "                           [&#x27;ESTRATO 0&#x27;, &#x27;ESTRATO 1&#x27;, &#x27;ESTRATO 2&#x27;, &#x27;ESTRATO 3&#x27;,\n",
       "                            &#x27;ESTRATO 4&#x27;, &#x27;ESTRATO 5&#x27;, &#x27;ESTRATO 6&#x27;],\n",
       "                           [&#x27;Pequeña&#x27;, &#x27;Mediana&#x27;, &#x27;Grande&#x27;]])</pre></div></div></div></div></div></div></div></div><div class=\"sk-parallel-item\"><div class=\"sk-item\"><div class=\"sk-label-container\"><div class=\"sk-label sk-toggleable\"><input class=\"sk-toggleable__control sk-hidden--visually\" id=\"sk-estimator-id-32\" type=\"checkbox\" ><label for=\"sk-estimator-id-32\" class=\"sk-toggleable__label sk-toggleable__label-arrow\">pipeline-3</label><div class=\"sk-toggleable__content\"><pre>[&#x27;EDAD&#x27;, &#x27;INSTITUCION_NUMERO_DE_SEDES&#x27;]</pre></div></div></div><div class=\"sk-serial\"><div class=\"sk-item\"><div class=\"sk-serial\"><div class=\"sk-item\"><div class=\"sk-estimator sk-toggleable\"><input class=\"sk-toggleable__control sk-hidden--visually\" id=\"sk-estimator-id-33\" type=\"checkbox\" ><label for=\"sk-estimator-id-33\" class=\"sk-toggleable__label sk-toggleable__label-arrow\">StandardScaler</label><div class=\"sk-toggleable__content\"><pre>StandardScaler()</pre></div></div></div></div></div></div></div></div><div class=\"sk-parallel-item\"><div class=\"sk-item\"><div class=\"sk-label-container\"><div class=\"sk-label sk-toggleable\"><input class=\"sk-toggleable__control sk-hidden--visually\" id=\"sk-estimator-id-34\" type=\"checkbox\" ><label for=\"sk-estimator-id-34\" class=\"sk-toggleable__label sk-toggleable__label-arrow\">pipeline-4</label><div class=\"sk-toggleable__content\"><pre>[&#x27;INSTITUCION_NIVEL_BASICA_PRIMARIA&#x27;, &#x27;INSTITUCION_NIVEL_SECUNDARIA_PRIMARIA&#x27;, &#x27;INSTITUCION_NIVEL_MEDIA&#x27;, &#x27;INSTITUCION_NIVEL_PREESCOLAR&#x27;, &#x27;INSTITUCION_NIVEL_PRIMERA_INFANCIA&#x27;, &#x27;INSTITUCION_ESPECIALIDAD_ACADÉMICA&#x27;, &#x27;INSTITUCION_ESPECIALIDAD_AGROPECUARIO&#x27;, &#x27;INSTITUCION_ESPECIALIDAD_COMERCIAL&#x27;, &#x27;INSTITUCION_ESPECIALIDAD_INDUSTRIAL&#x27;, &#x27;INSTITUCION_ESPECIALIDAD_NO_APLICA&#x27;, &#x27;INSTITUCION_ESPECIALIDAD_OTRO&#x27;]</pre></div></div></div><div class=\"sk-serial\"><div class=\"sk-item\"><div class=\"sk-serial\"><div class=\"sk-item\"><div class=\"sk-estimator sk-toggleable\"><input class=\"sk-toggleable__control sk-hidden--visually\" id=\"sk-estimator-id-35\" type=\"checkbox\" ><label for=\"sk-estimator-id-35\" class=\"sk-toggleable__label sk-toggleable__label-arrow\">FunctionTransformer</label><div class=\"sk-toggleable__content\"><pre>FunctionTransformer(func=&lt;function boolean_transformation at 0x7fbe1dff1120&gt;)</pre></div></div></div></div></div></div></div></div></div></div><div class=\"sk-item\"><div class=\"sk-estimator sk-toggleable\"><input class=\"sk-toggleable__control sk-hidden--visually\" id=\"sk-estimator-id-36\" type=\"checkbox\" ><label for=\"sk-estimator-id-36\" class=\"sk-toggleable__label sk-toggleable__label-arrow\">RandomForestClassifier</label><div class=\"sk-toggleable__content\"><pre>RandomForestClassifier()</pre></div></div></div></div></div></div></div></div></div></div></div></div>"
      ],
      "text/plain": [
       "HalvingGridSearchCV(cv=StratifiedKFold(n_splits=3, random_state=42, shuffle=True),\n",
       "                    estimator=Pipeline(steps=[('columntransformer',\n",
       "                                               ColumnTransformer(transformers=[('pipeline-1',\n",
       "                                                                                Pipeline(steps=[('onehotencoder',\n",
       "                                                                                                 OneHotEncoder(handle_unknown='ignore'))]),\n",
       "                                                                                ['INSTITUCION',\n",
       "                                                                                 'GENERO',\n",
       "                                                                                 'JORNADA',\n",
       "                                                                                 'PAIS_ORIGEN',\n",
       "                                                                                 'DISCAPACIDAD',\n",
       "                                                                                 'SRPA',\n",
       "                                                                                 'INSTITUCION_SECTOR',\n",
       "                                                                                 'INSTITUCIO...\n",
       "                                                                                 'INSTITUCION_ESPECIALIDAD_COMERCIAL',\n",
       "                                                                                 'INSTITUCION_ESPECIALIDAD_INDUSTRIAL',\n",
       "                                                                                 'INSTITUCION_ESPECIALIDAD_NO_APLICA',\n",
       "                                                                                 'INSTITUCION_ESPECIALIDAD_OTRO'])])),\n",
       "                                              ('randomforestclassifier',\n",
       "                                               RandomForestClassifier())]),\n",
       "                    n_jobs=-1,\n",
       "                    param_grid={'randomforestclassifier__max_depth': array([20, 22, 24, 26, 28]),\n",
       "                                'randomforestclassifier__n_estimators': array([500, 600, 700, 800])},\n",
       "                    scoring='roc_auc')"
      ]
     },
     "execution_count": 70,
     "metadata": {},
     "output_type": "execute_result"
    }
   ],
   "source": [
    "search.fit(X_train_ss, y_train_ss)"
   ]
  },
  {
   "cell_type": "code",
   "execution_count": 71,
   "id": "b86b036a-c549-45a0-b7fe-1d925f81e3fc",
   "metadata": {},
   "outputs": [
    {
     "data": {
      "text/plain": [
       "{'randomforestclassifier__max_depth': 20,\n",
       " 'randomforestclassifier__n_estimators': 800}"
      ]
     },
     "execution_count": 71,
     "metadata": {},
     "output_type": "execute_result"
    }
   ],
   "source": [
    "search.best_params_"
   ]
  },
  {
   "cell_type": "code",
   "execution_count": 72,
   "id": "b9e447e6-10c4-45a8-a6bb-1a001314b8f5",
   "metadata": {},
   "outputs": [],
   "source": [
    "rfm_parameters = search.best_params_"
   ]
  },
  {
   "cell_type": "code",
   "execution_count": 73,
   "id": "060ba84c-b833-4d79-b79a-6aa35ba5dff7",
   "metadata": {},
   "outputs": [
    {
     "data": {
      "text/plain": [
       "0.7352077988945265"
      ]
     },
     "execution_count": 73,
     "metadata": {},
     "output_type": "execute_result"
    }
   ],
   "source": [
    "search.best_score_"
   ]
  },
  {
   "cell_type": "markdown",
   "id": "0c2fbbe3-5f68-4596-8f16-f79b5d624577",
   "metadata": {
    "tags": []
   },
   "source": [
    "### 7.4. Gradient Boosting"
   ]
  },
  {
   "cell_type": "code",
   "execution_count": 74,
   "id": "30d04a51-153c-4354-a09c-2a9d7b494989",
   "metadata": {
    "tags": []
   },
   "outputs": [
    {
     "data": {
      "text/plain": [
       "['columntransformer',\n",
       " 'columntransformer__n_jobs',\n",
       " 'columntransformer__pipeline-1',\n",
       " 'columntransformer__pipeline-1__memory',\n",
       " 'columntransformer__pipeline-1__onehotencoder',\n",
       " 'columntransformer__pipeline-1__onehotencoder__categories',\n",
       " 'columntransformer__pipeline-1__onehotencoder__drop',\n",
       " 'columntransformer__pipeline-1__onehotencoder__dtype',\n",
       " 'columntransformer__pipeline-1__onehotencoder__handle_unknown',\n",
       " 'columntransformer__pipeline-1__onehotencoder__max_categories',\n",
       " 'columntransformer__pipeline-1__onehotencoder__min_frequency',\n",
       " 'columntransformer__pipeline-1__onehotencoder__sparse',\n",
       " 'columntransformer__pipeline-1__steps',\n",
       " 'columntransformer__pipeline-1__verbose',\n",
       " 'columntransformer__pipeline-2',\n",
       " 'columntransformer__pipeline-2__memory',\n",
       " 'columntransformer__pipeline-2__ordinalencoder',\n",
       " 'columntransformer__pipeline-2__ordinalencoder__categories',\n",
       " 'columntransformer__pipeline-2__ordinalencoder__dtype',\n",
       " 'columntransformer__pipeline-2__ordinalencoder__encoded_missing_value',\n",
       " 'columntransformer__pipeline-2__ordinalencoder__handle_unknown',\n",
       " 'columntransformer__pipeline-2__ordinalencoder__unknown_value',\n",
       " 'columntransformer__pipeline-2__steps',\n",
       " 'columntransformer__pipeline-2__verbose',\n",
       " 'columntransformer__pipeline-3',\n",
       " 'columntransformer__pipeline-3__memory',\n",
       " 'columntransformer__pipeline-3__standardscaler',\n",
       " 'columntransformer__pipeline-3__standardscaler__copy',\n",
       " 'columntransformer__pipeline-3__standardscaler__with_mean',\n",
       " 'columntransformer__pipeline-3__standardscaler__with_std',\n",
       " 'columntransformer__pipeline-3__steps',\n",
       " 'columntransformer__pipeline-3__verbose',\n",
       " 'columntransformer__pipeline-4',\n",
       " 'columntransformer__pipeline-4__functiontransformer',\n",
       " 'columntransformer__pipeline-4__functiontransformer__accept_sparse',\n",
       " 'columntransformer__pipeline-4__functiontransformer__check_inverse',\n",
       " 'columntransformer__pipeline-4__functiontransformer__feature_names_out',\n",
       " 'columntransformer__pipeline-4__functiontransformer__func',\n",
       " 'columntransformer__pipeline-4__functiontransformer__inv_kw_args',\n",
       " 'columntransformer__pipeline-4__functiontransformer__inverse_func',\n",
       " 'columntransformer__pipeline-4__functiontransformer__kw_args',\n",
       " 'columntransformer__pipeline-4__functiontransformer__validate',\n",
       " 'columntransformer__pipeline-4__memory',\n",
       " 'columntransformer__pipeline-4__steps',\n",
       " 'columntransformer__pipeline-4__verbose',\n",
       " 'columntransformer__remainder',\n",
       " 'columntransformer__sparse_threshold',\n",
       " 'columntransformer__transformer_weights',\n",
       " 'columntransformer__transformers',\n",
       " 'columntransformer__verbose',\n",
       " 'columntransformer__verbose_feature_names_out',\n",
       " 'gradientboostingclassifier',\n",
       " 'gradientboostingclassifier__ccp_alpha',\n",
       " 'gradientboostingclassifier__criterion',\n",
       " 'gradientboostingclassifier__init',\n",
       " 'gradientboostingclassifier__learning_rate',\n",
       " 'gradientboostingclassifier__loss',\n",
       " 'gradientboostingclassifier__max_depth',\n",
       " 'gradientboostingclassifier__max_features',\n",
       " 'gradientboostingclassifier__max_leaf_nodes',\n",
       " 'gradientboostingclassifier__min_impurity_decrease',\n",
       " 'gradientboostingclassifier__min_samples_leaf',\n",
       " 'gradientboostingclassifier__min_samples_split',\n",
       " 'gradientboostingclassifier__min_weight_fraction_leaf',\n",
       " 'gradientboostingclassifier__n_estimators',\n",
       " 'gradientboostingclassifier__n_iter_no_change',\n",
       " 'gradientboostingclassifier__random_state',\n",
       " 'gradientboostingclassifier__subsample',\n",
       " 'gradientboostingclassifier__tol',\n",
       " 'gradientboostingclassifier__validation_fraction',\n",
       " 'gradientboostingclassifier__verbose',\n",
       " 'gradientboostingclassifier__warm_start',\n",
       " 'memory',\n",
       " 'steps',\n",
       " 'verbose']"
      ]
     },
     "execution_count": 74,
     "metadata": {},
     "output_type": "execute_result"
    }
   ],
   "source": [
    "gbc = GradientBoostingClassifier()\n",
    "clr = make_pipeline(preprocessor, gbc)\n",
    "\n",
    "sorted(clr.get_params().keys())"
   ]
  },
  {
   "cell_type": "code",
   "execution_count": 75,
   "id": "f95e8de9-f72a-4610-8620-e7c42ab96412",
   "metadata": {},
   "outputs": [],
   "source": [
    "param_grid = {\n",
    "    \"gradientboostingclassifier__n_estimators\" : np.arange(5, 10, 500),\n",
    "    \"gradientboostingclassifier__max_depth\": np.arange( 3, 5, 15),\n",
    "    \"gradientboostingclassifier__learning_rate\": np.arange(0.01, 0.1, 10)\n",
    "}"
   ]
  },
  {
   "cell_type": "code",
   "execution_count": 76,
   "id": "db4a14ba-341c-445c-a132-433e870e5147",
   "metadata": {},
   "outputs": [],
   "source": [
    "search = HalvingGridSearchCV(clr, param_grid, scoring=\"roc_auc\", \n",
    "                             cv=stratified_kfold, n_jobs=-1)"
   ]
  },
  {
   "cell_type": "code",
   "execution_count": 77,
   "id": "cfecee15-578d-4040-a1f0-70d1b877c885",
   "metadata": {},
   "outputs": [
    {
     "data": {
      "text/html": [
       "<style>#sk-container-id-4 {color: black;background-color: white;}#sk-container-id-4 pre{padding: 0;}#sk-container-id-4 div.sk-toggleable {background-color: white;}#sk-container-id-4 label.sk-toggleable__label {cursor: pointer;display: block;width: 100%;margin-bottom: 0;padding: 0.3em;box-sizing: border-box;text-align: center;}#sk-container-id-4 label.sk-toggleable__label-arrow:before {content: \"▸\";float: left;margin-right: 0.25em;color: #696969;}#sk-container-id-4 label.sk-toggleable__label-arrow:hover:before {color: black;}#sk-container-id-4 div.sk-estimator:hover label.sk-toggleable__label-arrow:before {color: black;}#sk-container-id-4 div.sk-toggleable__content {max-height: 0;max-width: 0;overflow: hidden;text-align: left;background-color: #f0f8ff;}#sk-container-id-4 div.sk-toggleable__content pre {margin: 0.2em;color: black;border-radius: 0.25em;background-color: #f0f8ff;}#sk-container-id-4 input.sk-toggleable__control:checked~div.sk-toggleable__content {max-height: 200px;max-width: 100%;overflow: auto;}#sk-container-id-4 input.sk-toggleable__control:checked~label.sk-toggleable__label-arrow:before {content: \"▾\";}#sk-container-id-4 div.sk-estimator input.sk-toggleable__control:checked~label.sk-toggleable__label {background-color: #d4ebff;}#sk-container-id-4 div.sk-label input.sk-toggleable__control:checked~label.sk-toggleable__label {background-color: #d4ebff;}#sk-container-id-4 input.sk-hidden--visually {border: 0;clip: rect(1px 1px 1px 1px);clip: rect(1px, 1px, 1px, 1px);height: 1px;margin: -1px;overflow: hidden;padding: 0;position: absolute;width: 1px;}#sk-container-id-4 div.sk-estimator {font-family: monospace;background-color: #f0f8ff;border: 1px dotted black;border-radius: 0.25em;box-sizing: border-box;margin-bottom: 0.5em;}#sk-container-id-4 div.sk-estimator:hover {background-color: #d4ebff;}#sk-container-id-4 div.sk-parallel-item::after {content: \"\";width: 100%;border-bottom: 1px solid gray;flex-grow: 1;}#sk-container-id-4 div.sk-label:hover label.sk-toggleable__label {background-color: #d4ebff;}#sk-container-id-4 div.sk-serial::before {content: \"\";position: absolute;border-left: 1px solid gray;box-sizing: border-box;top: 0;bottom: 0;left: 50%;z-index: 0;}#sk-container-id-4 div.sk-serial {display: flex;flex-direction: column;align-items: center;background-color: white;padding-right: 0.2em;padding-left: 0.2em;position: relative;}#sk-container-id-4 div.sk-item {position: relative;z-index: 1;}#sk-container-id-4 div.sk-parallel {display: flex;align-items: stretch;justify-content: center;background-color: white;position: relative;}#sk-container-id-4 div.sk-item::before, #sk-container-id-4 div.sk-parallel-item::before {content: \"\";position: absolute;border-left: 1px solid gray;box-sizing: border-box;top: 0;bottom: 0;left: 50%;z-index: -1;}#sk-container-id-4 div.sk-parallel-item {display: flex;flex-direction: column;z-index: 1;position: relative;background-color: white;}#sk-container-id-4 div.sk-parallel-item:first-child::after {align-self: flex-end;width: 50%;}#sk-container-id-4 div.sk-parallel-item:last-child::after {align-self: flex-start;width: 50%;}#sk-container-id-4 div.sk-parallel-item:only-child::after {width: 0;}#sk-container-id-4 div.sk-dashed-wrapped {border: 1px dashed gray;margin: 0 0.4em 0.5em 0.4em;box-sizing: border-box;padding-bottom: 0.4em;background-color: white;}#sk-container-id-4 div.sk-label label {font-family: monospace;font-weight: bold;display: inline-block;line-height: 1.2em;}#sk-container-id-4 div.sk-label-container {text-align: center;}#sk-container-id-4 div.sk-container {/* jupyter's `normalize.less` sets `[hidden] { display: none; }` but bootstrap.min.css set `[hidden] { display: none !important; }` so we also need the `!important` here to be able to override the default hidden behavior on the sphinx rendered scikit-learn.org. See: https://github.com/scikit-learn/scikit-learn/issues/21755 */display: inline-block !important;position: relative;}#sk-container-id-4 div.sk-text-repr-fallback {display: none;}</style><div id=\"sk-container-id-4\" class=\"sk-top-container\"><div class=\"sk-text-repr-fallback\"><pre>HalvingGridSearchCV(cv=StratifiedKFold(n_splits=3, random_state=42, shuffle=True),\n",
       "                    estimator=Pipeline(steps=[(&#x27;columntransformer&#x27;,\n",
       "                                               ColumnTransformer(transformers=[(&#x27;pipeline-1&#x27;,\n",
       "                                                                                Pipeline(steps=[(&#x27;onehotencoder&#x27;,\n",
       "                                                                                                 OneHotEncoder(handle_unknown=&#x27;ignore&#x27;))]),\n",
       "                                                                                [&#x27;INSTITUCION&#x27;,\n",
       "                                                                                 &#x27;GENERO&#x27;,\n",
       "                                                                                 &#x27;JORNADA&#x27;,\n",
       "                                                                                 &#x27;PAIS_ORIGEN&#x27;,\n",
       "                                                                                 &#x27;DISCAPACIDAD&#x27;,\n",
       "                                                                                 &#x27;SRPA&#x27;,\n",
       "                                                                                 &#x27;INSTITUCION_SECTOR&#x27;,\n",
       "                                                                                 &#x27;INSTITUCIO...\n",
       "                                                                                 &#x27;INSTITUCION_ESPECIALIDAD_INDUSTRIAL&#x27;,\n",
       "                                                                                 &#x27;INSTITUCION_ESPECIALIDAD_NO_APLICA&#x27;,\n",
       "                                                                                 &#x27;INSTITUCION_ESPECIALIDAD_OTRO&#x27;])])),\n",
       "                                              (&#x27;gradientboostingclassifier&#x27;,\n",
       "                                               GradientBoostingClassifier())]),\n",
       "                    n_jobs=-1,\n",
       "                    param_grid={&#x27;gradientboostingclassifier__learning_rate&#x27;: array([0.01]),\n",
       "                                &#x27;gradientboostingclassifier__max_depth&#x27;: array([3]),\n",
       "                                &#x27;gradientboostingclassifier__n_estimators&#x27;: array([5])},\n",
       "                    scoring=&#x27;roc_auc&#x27;)</pre><b>In a Jupyter environment, please rerun this cell to show the HTML representation or trust the notebook. <br />On GitHub, the HTML representation is unable to render, please try loading this page with nbviewer.org.</b></div><div class=\"sk-container\" hidden><div class=\"sk-item sk-dashed-wrapped\"><div class=\"sk-label-container\"><div class=\"sk-label sk-toggleable\"><input class=\"sk-toggleable__control sk-hidden--visually\" id=\"sk-estimator-id-37\" type=\"checkbox\" ><label for=\"sk-estimator-id-37\" class=\"sk-toggleable__label sk-toggleable__label-arrow\">HalvingGridSearchCV</label><div class=\"sk-toggleable__content\"><pre>HalvingGridSearchCV(cv=StratifiedKFold(n_splits=3, random_state=42, shuffle=True),\n",
       "                    estimator=Pipeline(steps=[(&#x27;columntransformer&#x27;,\n",
       "                                               ColumnTransformer(transformers=[(&#x27;pipeline-1&#x27;,\n",
       "                                                                                Pipeline(steps=[(&#x27;onehotencoder&#x27;,\n",
       "                                                                                                 OneHotEncoder(handle_unknown=&#x27;ignore&#x27;))]),\n",
       "                                                                                [&#x27;INSTITUCION&#x27;,\n",
       "                                                                                 &#x27;GENERO&#x27;,\n",
       "                                                                                 &#x27;JORNADA&#x27;,\n",
       "                                                                                 &#x27;PAIS_ORIGEN&#x27;,\n",
       "                                                                                 &#x27;DISCAPACIDAD&#x27;,\n",
       "                                                                                 &#x27;SRPA&#x27;,\n",
       "                                                                                 &#x27;INSTITUCION_SECTOR&#x27;,\n",
       "                                                                                 &#x27;INSTITUCIO...\n",
       "                                                                                 &#x27;INSTITUCION_ESPECIALIDAD_INDUSTRIAL&#x27;,\n",
       "                                                                                 &#x27;INSTITUCION_ESPECIALIDAD_NO_APLICA&#x27;,\n",
       "                                                                                 &#x27;INSTITUCION_ESPECIALIDAD_OTRO&#x27;])])),\n",
       "                                              (&#x27;gradientboostingclassifier&#x27;,\n",
       "                                               GradientBoostingClassifier())]),\n",
       "                    n_jobs=-1,\n",
       "                    param_grid={&#x27;gradientboostingclassifier__learning_rate&#x27;: array([0.01]),\n",
       "                                &#x27;gradientboostingclassifier__max_depth&#x27;: array([3]),\n",
       "                                &#x27;gradientboostingclassifier__n_estimators&#x27;: array([5])},\n",
       "                    scoring=&#x27;roc_auc&#x27;)</pre></div></div></div><div class=\"sk-parallel\"><div class=\"sk-parallel-item\"><div class=\"sk-item\"><div class=\"sk-label-container\"><div class=\"sk-label sk-toggleable\"><input class=\"sk-toggleable__control sk-hidden--visually\" id=\"sk-estimator-id-38\" type=\"checkbox\" ><label for=\"sk-estimator-id-38\" class=\"sk-toggleable__label sk-toggleable__label-arrow\">estimator: Pipeline</label><div class=\"sk-toggleable__content\"><pre>Pipeline(steps=[(&#x27;columntransformer&#x27;,\n",
       "                 ColumnTransformer(transformers=[(&#x27;pipeline-1&#x27;,\n",
       "                                                  Pipeline(steps=[(&#x27;onehotencoder&#x27;,\n",
       "                                                                   OneHotEncoder(handle_unknown=&#x27;ignore&#x27;))]),\n",
       "                                                  [&#x27;INSTITUCION&#x27;, &#x27;GENERO&#x27;,\n",
       "                                                   &#x27;JORNADA&#x27;, &#x27;PAIS_ORIGEN&#x27;,\n",
       "                                                   &#x27;DISCAPACIDAD&#x27;, &#x27;SRPA&#x27;,\n",
       "                                                   &#x27;INSTITUCION_SECTOR&#x27;,\n",
       "                                                   &#x27;INSTITUCION_MODELO&#x27;,\n",
       "                                                   &#x27;INSTITUCION_APOYO_ACADEMICO_ESPECIAL&#x27;,\n",
       "                                                   &#x27;INSTITUCION_ZONA&#x27;,\n",
       "                                                   &#x27;INSTITUCION_CARACTER&#x27;...\n",
       "                                                   &#x27;INSTITUCION_NIVEL_PREESCOLAR&#x27;,\n",
       "                                                   &#x27;INSTITUCION_NIVEL_PRIMERA_INFANCIA&#x27;,\n",
       "                                                   &#x27;INSTITUCION_ESPECIALIDAD_ACADÉMICA&#x27;,\n",
       "                                                   &#x27;INSTITUCION_ESPECIALIDAD_AGROPECUARIO&#x27;,\n",
       "                                                   &#x27;INSTITUCION_ESPECIALIDAD_COMERCIAL&#x27;,\n",
       "                                                   &#x27;INSTITUCION_ESPECIALIDAD_INDUSTRIAL&#x27;,\n",
       "                                                   &#x27;INSTITUCION_ESPECIALIDAD_NO_APLICA&#x27;,\n",
       "                                                   &#x27;INSTITUCION_ESPECIALIDAD_OTRO&#x27;])])),\n",
       "                (&#x27;gradientboostingclassifier&#x27;, GradientBoostingClassifier())])</pre></div></div></div><div class=\"sk-serial\"><div class=\"sk-item\"><div class=\"sk-serial\"><div class=\"sk-item sk-dashed-wrapped\"><div class=\"sk-label-container\"><div class=\"sk-label sk-toggleable\"><input class=\"sk-toggleable__control sk-hidden--visually\" id=\"sk-estimator-id-39\" type=\"checkbox\" ><label for=\"sk-estimator-id-39\" class=\"sk-toggleable__label sk-toggleable__label-arrow\">columntransformer: ColumnTransformer</label><div class=\"sk-toggleable__content\"><pre>ColumnTransformer(transformers=[(&#x27;pipeline-1&#x27;,\n",
       "                                 Pipeline(steps=[(&#x27;onehotencoder&#x27;,\n",
       "                                                  OneHotEncoder(handle_unknown=&#x27;ignore&#x27;))]),\n",
       "                                 [&#x27;INSTITUCION&#x27;, &#x27;GENERO&#x27;, &#x27;JORNADA&#x27;,\n",
       "                                  &#x27;PAIS_ORIGEN&#x27;, &#x27;DISCAPACIDAD&#x27;, &#x27;SRPA&#x27;,\n",
       "                                  &#x27;INSTITUCION_SECTOR&#x27;, &#x27;INSTITUCION_MODELO&#x27;,\n",
       "                                  &#x27;INSTITUCION_APOYO_ACADEMICO_ESPECIAL&#x27;,\n",
       "                                  &#x27;INSTITUCION_ZONA&#x27;, &#x27;INSTITUCION_CARACTER&#x27;,\n",
       "                                  &#x27;INSTITUCION_ESTADO&#x27;,\n",
       "                                  &#x27;INSTITUCION_PR...\n",
       "                                  &#x27;INSTITUCION_NIVEL_SECUNDARIA_PRIMARIA&#x27;,\n",
       "                                  &#x27;INSTITUCION_NIVEL_MEDIA&#x27;,\n",
       "                                  &#x27;INSTITUCION_NIVEL_PREESCOLAR&#x27;,\n",
       "                                  &#x27;INSTITUCION_NIVEL_PRIMERA_INFANCIA&#x27;,\n",
       "                                  &#x27;INSTITUCION_ESPECIALIDAD_ACADÉMICA&#x27;,\n",
       "                                  &#x27;INSTITUCION_ESPECIALIDAD_AGROPECUARIO&#x27;,\n",
       "                                  &#x27;INSTITUCION_ESPECIALIDAD_COMERCIAL&#x27;,\n",
       "                                  &#x27;INSTITUCION_ESPECIALIDAD_INDUSTRIAL&#x27;,\n",
       "                                  &#x27;INSTITUCION_ESPECIALIDAD_NO_APLICA&#x27;,\n",
       "                                  &#x27;INSTITUCION_ESPECIALIDAD_OTRO&#x27;])])</pre></div></div></div><div class=\"sk-parallel\"><div class=\"sk-parallel-item\"><div class=\"sk-item\"><div class=\"sk-label-container\"><div class=\"sk-label sk-toggleable\"><input class=\"sk-toggleable__control sk-hidden--visually\" id=\"sk-estimator-id-40\" type=\"checkbox\" ><label for=\"sk-estimator-id-40\" class=\"sk-toggleable__label sk-toggleable__label-arrow\">pipeline-1</label><div class=\"sk-toggleable__content\"><pre>[&#x27;INSTITUCION&#x27;, &#x27;GENERO&#x27;, &#x27;JORNADA&#x27;, &#x27;PAIS_ORIGEN&#x27;, &#x27;DISCAPACIDAD&#x27;, &#x27;SRPA&#x27;, &#x27;INSTITUCION_SECTOR&#x27;, &#x27;INSTITUCION_MODELO&#x27;, &#x27;INSTITUCION_APOYO_ACADEMICO_ESPECIAL&#x27;, &#x27;INSTITUCION_ZONA&#x27;, &#x27;INSTITUCION_CARACTER&#x27;, &#x27;INSTITUCION_ESTADO&#x27;, &#x27;INSTITUCION_PRESTADOR_DE_SERVICIO&#x27;]</pre></div></div></div><div class=\"sk-serial\"><div class=\"sk-item\"><div class=\"sk-serial\"><div class=\"sk-item\"><div class=\"sk-estimator sk-toggleable\"><input class=\"sk-toggleable__control sk-hidden--visually\" id=\"sk-estimator-id-41\" type=\"checkbox\" ><label for=\"sk-estimator-id-41\" class=\"sk-toggleable__label sk-toggleable__label-arrow\">OneHotEncoder</label><div class=\"sk-toggleable__content\"><pre>OneHotEncoder(handle_unknown=&#x27;ignore&#x27;)</pre></div></div></div></div></div></div></div></div><div class=\"sk-parallel-item\"><div class=\"sk-item\"><div class=\"sk-label-container\"><div class=\"sk-label sk-toggleable\"><input class=\"sk-toggleable__control sk-hidden--visually\" id=\"sk-estimator-id-42\" type=\"checkbox\" ><label for=\"sk-estimator-id-42\" class=\"sk-toggleable__label sk-toggleable__label-arrow\">pipeline-2</label><div class=\"sk-toggleable__content\"><pre>[&#x27;GRADO_COD&#x27;, &#x27;ESTRATO&#x27;, &#x27;INSTITUCION_TAMAÑO&#x27;]</pre></div></div></div><div class=\"sk-serial\"><div class=\"sk-item\"><div class=\"sk-serial\"><div class=\"sk-item\"><div class=\"sk-estimator sk-toggleable\"><input class=\"sk-toggleable__control sk-hidden--visually\" id=\"sk-estimator-id-43\" type=\"checkbox\" ><label for=\"sk-estimator-id-43\" class=\"sk-toggleable__label sk-toggleable__label-arrow\">OrdinalEncoder</label><div class=\"sk-toggleable__content\"><pre>OrdinalEncoder(categories=[[-2.0, -1.0, 0.0, 1.0, 2.0, 3.0, 4.0, 5.0, 6.0, 7.0,\n",
       "                            8.0, 9.0, 10.0, 11.0, 12.0, 20.0, 21.0, 22.0, 23.0,\n",
       "                            24.0, 25.0, 26.0],\n",
       "                           [&#x27;ESTRATO 0&#x27;, &#x27;ESTRATO 1&#x27;, &#x27;ESTRATO 2&#x27;, &#x27;ESTRATO 3&#x27;,\n",
       "                            &#x27;ESTRATO 4&#x27;, &#x27;ESTRATO 5&#x27;, &#x27;ESTRATO 6&#x27;],\n",
       "                           [&#x27;Pequeña&#x27;, &#x27;Mediana&#x27;, &#x27;Grande&#x27;]])</pre></div></div></div></div></div></div></div></div><div class=\"sk-parallel-item\"><div class=\"sk-item\"><div class=\"sk-label-container\"><div class=\"sk-label sk-toggleable\"><input class=\"sk-toggleable__control sk-hidden--visually\" id=\"sk-estimator-id-44\" type=\"checkbox\" ><label for=\"sk-estimator-id-44\" class=\"sk-toggleable__label sk-toggleable__label-arrow\">pipeline-3</label><div class=\"sk-toggleable__content\"><pre>[&#x27;EDAD&#x27;, &#x27;INSTITUCION_NUMERO_DE_SEDES&#x27;]</pre></div></div></div><div class=\"sk-serial\"><div class=\"sk-item\"><div class=\"sk-serial\"><div class=\"sk-item\"><div class=\"sk-estimator sk-toggleable\"><input class=\"sk-toggleable__control sk-hidden--visually\" id=\"sk-estimator-id-45\" type=\"checkbox\" ><label for=\"sk-estimator-id-45\" class=\"sk-toggleable__label sk-toggleable__label-arrow\">StandardScaler</label><div class=\"sk-toggleable__content\"><pre>StandardScaler()</pre></div></div></div></div></div></div></div></div><div class=\"sk-parallel-item\"><div class=\"sk-item\"><div class=\"sk-label-container\"><div class=\"sk-label sk-toggleable\"><input class=\"sk-toggleable__control sk-hidden--visually\" id=\"sk-estimator-id-46\" type=\"checkbox\" ><label for=\"sk-estimator-id-46\" class=\"sk-toggleable__label sk-toggleable__label-arrow\">pipeline-4</label><div class=\"sk-toggleable__content\"><pre>[&#x27;INSTITUCION_NIVEL_BASICA_PRIMARIA&#x27;, &#x27;INSTITUCION_NIVEL_SECUNDARIA_PRIMARIA&#x27;, &#x27;INSTITUCION_NIVEL_MEDIA&#x27;, &#x27;INSTITUCION_NIVEL_PREESCOLAR&#x27;, &#x27;INSTITUCION_NIVEL_PRIMERA_INFANCIA&#x27;, &#x27;INSTITUCION_ESPECIALIDAD_ACADÉMICA&#x27;, &#x27;INSTITUCION_ESPECIALIDAD_AGROPECUARIO&#x27;, &#x27;INSTITUCION_ESPECIALIDAD_COMERCIAL&#x27;, &#x27;INSTITUCION_ESPECIALIDAD_INDUSTRIAL&#x27;, &#x27;INSTITUCION_ESPECIALIDAD_NO_APLICA&#x27;, &#x27;INSTITUCION_ESPECIALIDAD_OTRO&#x27;]</pre></div></div></div><div class=\"sk-serial\"><div class=\"sk-item\"><div class=\"sk-serial\"><div class=\"sk-item\"><div class=\"sk-estimator sk-toggleable\"><input class=\"sk-toggleable__control sk-hidden--visually\" id=\"sk-estimator-id-47\" type=\"checkbox\" ><label for=\"sk-estimator-id-47\" class=\"sk-toggleable__label sk-toggleable__label-arrow\">FunctionTransformer</label><div class=\"sk-toggleable__content\"><pre>FunctionTransformer(func=&lt;function boolean_transformation at 0x7fbe1dff1120&gt;)</pre></div></div></div></div></div></div></div></div></div></div><div class=\"sk-item\"><div class=\"sk-estimator sk-toggleable\"><input class=\"sk-toggleable__control sk-hidden--visually\" id=\"sk-estimator-id-48\" type=\"checkbox\" ><label for=\"sk-estimator-id-48\" class=\"sk-toggleable__label sk-toggleable__label-arrow\">GradientBoostingClassifier</label><div class=\"sk-toggleable__content\"><pre>GradientBoostingClassifier()</pre></div></div></div></div></div></div></div></div></div></div></div></div>"
      ],
      "text/plain": [
       "HalvingGridSearchCV(cv=StratifiedKFold(n_splits=3, random_state=42, shuffle=True),\n",
       "                    estimator=Pipeline(steps=[('columntransformer',\n",
       "                                               ColumnTransformer(transformers=[('pipeline-1',\n",
       "                                                                                Pipeline(steps=[('onehotencoder',\n",
       "                                                                                                 OneHotEncoder(handle_unknown='ignore'))]),\n",
       "                                                                                ['INSTITUCION',\n",
       "                                                                                 'GENERO',\n",
       "                                                                                 'JORNADA',\n",
       "                                                                                 'PAIS_ORIGEN',\n",
       "                                                                                 'DISCAPACIDAD',\n",
       "                                                                                 'SRPA',\n",
       "                                                                                 'INSTITUCION_SECTOR',\n",
       "                                                                                 'INSTITUCIO...\n",
       "                                                                                 'INSTITUCION_ESPECIALIDAD_INDUSTRIAL',\n",
       "                                                                                 'INSTITUCION_ESPECIALIDAD_NO_APLICA',\n",
       "                                                                                 'INSTITUCION_ESPECIALIDAD_OTRO'])])),\n",
       "                                              ('gradientboostingclassifier',\n",
       "                                               GradientBoostingClassifier())]),\n",
       "                    n_jobs=-1,\n",
       "                    param_grid={'gradientboostingclassifier__learning_rate': array([0.01]),\n",
       "                                'gradientboostingclassifier__max_depth': array([3]),\n",
       "                                'gradientboostingclassifier__n_estimators': array([5])},\n",
       "                    scoring='roc_auc')"
      ]
     },
     "execution_count": 77,
     "metadata": {},
     "output_type": "execute_result"
    }
   ],
   "source": [
    "search.fit(X_train_ss, y_train_ss)"
   ]
  },
  {
   "cell_type": "code",
   "execution_count": 78,
   "id": "99913754-1605-4e9e-a016-b18f9b6844f0",
   "metadata": {},
   "outputs": [
    {
     "data": {
      "text/plain": [
       "{'gradientboostingclassifier__learning_rate': 0.01,\n",
       " 'gradientboostingclassifier__max_depth': 3,\n",
       " 'gradientboostingclassifier__n_estimators': 5}"
      ]
     },
     "execution_count": 78,
     "metadata": {},
     "output_type": "execute_result"
    }
   ],
   "source": [
    "search.best_params_"
   ]
  },
  {
   "cell_type": "code",
   "execution_count": 79,
   "id": "f0759e44-a4c6-4980-9bc7-7fffe3d6b405",
   "metadata": {},
   "outputs": [],
   "source": [
    "gbc_parameters = search.best_params_"
   ]
  },
  {
   "cell_type": "code",
   "execution_count": 80,
   "id": "110ebdf4-6ac3-43b2-8ab0-35d8ee794bca",
   "metadata": {},
   "outputs": [
    {
     "data": {
      "text/plain": [
       "0.6665163447233509"
      ]
     },
     "execution_count": 80,
     "metadata": {},
     "output_type": "execute_result"
    }
   ],
   "source": [
    "search.best_score_"
   ]
  },
  {
   "cell_type": "markdown",
   "id": "bda294f1-79ed-4da7-a5d0-40dbbf67667a",
   "metadata": {
    "tags": []
   },
   "source": [
    "### 7.5. XGBoost"
   ]
  },
  {
   "cell_type": "code",
   "execution_count": 81,
   "id": "62d22d67-e492-4ac3-a748-e4c3bd637756",
   "metadata": {
    "tags": []
   },
   "outputs": [
    {
     "data": {
      "text/plain": [
       "['columntransformer',\n",
       " 'columntransformer__n_jobs',\n",
       " 'columntransformer__pipeline-1',\n",
       " 'columntransformer__pipeline-1__memory',\n",
       " 'columntransformer__pipeline-1__onehotencoder',\n",
       " 'columntransformer__pipeline-1__onehotencoder__categories',\n",
       " 'columntransformer__pipeline-1__onehotencoder__drop',\n",
       " 'columntransformer__pipeline-1__onehotencoder__dtype',\n",
       " 'columntransformer__pipeline-1__onehotencoder__handle_unknown',\n",
       " 'columntransformer__pipeline-1__onehotencoder__max_categories',\n",
       " 'columntransformer__pipeline-1__onehotencoder__min_frequency',\n",
       " 'columntransformer__pipeline-1__onehotencoder__sparse',\n",
       " 'columntransformer__pipeline-1__steps',\n",
       " 'columntransformer__pipeline-1__verbose',\n",
       " 'columntransformer__pipeline-2',\n",
       " 'columntransformer__pipeline-2__memory',\n",
       " 'columntransformer__pipeline-2__ordinalencoder',\n",
       " 'columntransformer__pipeline-2__ordinalencoder__categories',\n",
       " 'columntransformer__pipeline-2__ordinalencoder__dtype',\n",
       " 'columntransformer__pipeline-2__ordinalencoder__encoded_missing_value',\n",
       " 'columntransformer__pipeline-2__ordinalencoder__handle_unknown',\n",
       " 'columntransformer__pipeline-2__ordinalencoder__unknown_value',\n",
       " 'columntransformer__pipeline-2__steps',\n",
       " 'columntransformer__pipeline-2__verbose',\n",
       " 'columntransformer__pipeline-3',\n",
       " 'columntransformer__pipeline-3__memory',\n",
       " 'columntransformer__pipeline-3__standardscaler',\n",
       " 'columntransformer__pipeline-3__standardscaler__copy',\n",
       " 'columntransformer__pipeline-3__standardscaler__with_mean',\n",
       " 'columntransformer__pipeline-3__standardscaler__with_std',\n",
       " 'columntransformer__pipeline-3__steps',\n",
       " 'columntransformer__pipeline-3__verbose',\n",
       " 'columntransformer__pipeline-4',\n",
       " 'columntransformer__pipeline-4__functiontransformer',\n",
       " 'columntransformer__pipeline-4__functiontransformer__accept_sparse',\n",
       " 'columntransformer__pipeline-4__functiontransformer__check_inverse',\n",
       " 'columntransformer__pipeline-4__functiontransformer__feature_names_out',\n",
       " 'columntransformer__pipeline-4__functiontransformer__func',\n",
       " 'columntransformer__pipeline-4__functiontransformer__inv_kw_args',\n",
       " 'columntransformer__pipeline-4__functiontransformer__inverse_func',\n",
       " 'columntransformer__pipeline-4__functiontransformer__kw_args',\n",
       " 'columntransformer__pipeline-4__functiontransformer__validate',\n",
       " 'columntransformer__pipeline-4__memory',\n",
       " 'columntransformer__pipeline-4__steps',\n",
       " 'columntransformer__pipeline-4__verbose',\n",
       " 'columntransformer__remainder',\n",
       " 'columntransformer__sparse_threshold',\n",
       " 'columntransformer__transformer_weights',\n",
       " 'columntransformer__transformers',\n",
       " 'columntransformer__verbose',\n",
       " 'columntransformer__verbose_feature_names_out',\n",
       " 'memory',\n",
       " 'steps',\n",
       " 'verbose',\n",
       " 'xgbclassifier',\n",
       " 'xgbclassifier__base_score',\n",
       " 'xgbclassifier__booster',\n",
       " 'xgbclassifier__callbacks',\n",
       " 'xgbclassifier__colsample_bylevel',\n",
       " 'xgbclassifier__colsample_bynode',\n",
       " 'xgbclassifier__colsample_bytree',\n",
       " 'xgbclassifier__early_stopping_rounds',\n",
       " 'xgbclassifier__enable_categorical',\n",
       " 'xgbclassifier__eval_metric',\n",
       " 'xgbclassifier__gamma',\n",
       " 'xgbclassifier__gpu_id',\n",
       " 'xgbclassifier__grow_policy',\n",
       " 'xgbclassifier__importance_type',\n",
       " 'xgbclassifier__interaction_constraints',\n",
       " 'xgbclassifier__learning_rate',\n",
       " 'xgbclassifier__max_bin',\n",
       " 'xgbclassifier__max_cat_to_onehot',\n",
       " 'xgbclassifier__max_delta_step',\n",
       " 'xgbclassifier__max_depth',\n",
       " 'xgbclassifier__max_leaves',\n",
       " 'xgbclassifier__min_child_weight',\n",
       " 'xgbclassifier__missing',\n",
       " 'xgbclassifier__monotone_constraints',\n",
       " 'xgbclassifier__n_estimators',\n",
       " 'xgbclassifier__n_jobs',\n",
       " 'xgbclassifier__num_parallel_tree',\n",
       " 'xgbclassifier__objective',\n",
       " 'xgbclassifier__predictor',\n",
       " 'xgbclassifier__random_state',\n",
       " 'xgbclassifier__reg_alpha',\n",
       " 'xgbclassifier__reg_lambda',\n",
       " 'xgbclassifier__sampling_method',\n",
       " 'xgbclassifier__scale_pos_weight',\n",
       " 'xgbclassifier__subsample',\n",
       " 'xgbclassifier__tree_method',\n",
       " 'xgbclassifier__use_label_encoder',\n",
       " 'xgbclassifier__validate_parameters',\n",
       " 'xgbclassifier__verbosity']"
      ]
     },
     "execution_count": 81,
     "metadata": {},
     "output_type": "execute_result"
    }
   ],
   "source": [
    "xbgc = XGBClassifier()\n",
    "clr = make_pipeline(preprocessor, xbgc)\n",
    "\n",
    "sorted(clr.get_params().keys())"
   ]
  },
  {
   "cell_type": "code",
   "execution_count": 82,
   "id": "053f53a8-c513-4ddc-b23b-f4b21827d121",
   "metadata": {},
   "outputs": [],
   "source": [
    "param_grid = {\n",
    "    \"xgbclassifier__min_child_weight\" : [1, 5, 10],\n",
    "    \"xgbclassifier__gamma\" : [0.5, 1, 1.5, 2, 5],\n",
    "    \"xgbclassifier__subsample\" : [0.6, 0.8, 1.0],\n",
    "    \"xgbclassifier__colsample_bytree\" : [0.6, 0.8, 1.0],\n",
    "    \"xgbclassifier__max_depth\" : np.arange( 3, 5, 15)\n",
    "}"
   ]
  },
  {
   "cell_type": "code",
   "execution_count": 83,
   "id": "95ca50b0-ba6e-4d9b-a1d5-a09b9623b10e",
   "metadata": {},
   "outputs": [],
   "source": [
    "search = HalvingGridSearchCV(clr, param_grid, scoring=\"roc_auc\", \n",
    "                             cv=stratified_kfold, n_jobs=-1)"
   ]
  },
  {
   "cell_type": "code",
   "execution_count": 84,
   "id": "736468c3-b0c5-4638-ba6f-1c95fe98e081",
   "metadata": {},
   "outputs": [
    {
     "data": {
      "text/html": [
       "<style>#sk-container-id-5 {color: black;background-color: white;}#sk-container-id-5 pre{padding: 0;}#sk-container-id-5 div.sk-toggleable {background-color: white;}#sk-container-id-5 label.sk-toggleable__label {cursor: pointer;display: block;width: 100%;margin-bottom: 0;padding: 0.3em;box-sizing: border-box;text-align: center;}#sk-container-id-5 label.sk-toggleable__label-arrow:before {content: \"▸\";float: left;margin-right: 0.25em;color: #696969;}#sk-container-id-5 label.sk-toggleable__label-arrow:hover:before {color: black;}#sk-container-id-5 div.sk-estimator:hover label.sk-toggleable__label-arrow:before {color: black;}#sk-container-id-5 div.sk-toggleable__content {max-height: 0;max-width: 0;overflow: hidden;text-align: left;background-color: #f0f8ff;}#sk-container-id-5 div.sk-toggleable__content pre {margin: 0.2em;color: black;border-radius: 0.25em;background-color: #f0f8ff;}#sk-container-id-5 input.sk-toggleable__control:checked~div.sk-toggleable__content {max-height: 200px;max-width: 100%;overflow: auto;}#sk-container-id-5 input.sk-toggleable__control:checked~label.sk-toggleable__label-arrow:before {content: \"▾\";}#sk-container-id-5 div.sk-estimator input.sk-toggleable__control:checked~label.sk-toggleable__label {background-color: #d4ebff;}#sk-container-id-5 div.sk-label input.sk-toggleable__control:checked~label.sk-toggleable__label {background-color: #d4ebff;}#sk-container-id-5 input.sk-hidden--visually {border: 0;clip: rect(1px 1px 1px 1px);clip: rect(1px, 1px, 1px, 1px);height: 1px;margin: -1px;overflow: hidden;padding: 0;position: absolute;width: 1px;}#sk-container-id-5 div.sk-estimator {font-family: monospace;background-color: #f0f8ff;border: 1px dotted black;border-radius: 0.25em;box-sizing: border-box;margin-bottom: 0.5em;}#sk-container-id-5 div.sk-estimator:hover {background-color: #d4ebff;}#sk-container-id-5 div.sk-parallel-item::after {content: \"\";width: 100%;border-bottom: 1px solid gray;flex-grow: 1;}#sk-container-id-5 div.sk-label:hover label.sk-toggleable__label {background-color: #d4ebff;}#sk-container-id-5 div.sk-serial::before {content: \"\";position: absolute;border-left: 1px solid gray;box-sizing: border-box;top: 0;bottom: 0;left: 50%;z-index: 0;}#sk-container-id-5 div.sk-serial {display: flex;flex-direction: column;align-items: center;background-color: white;padding-right: 0.2em;padding-left: 0.2em;position: relative;}#sk-container-id-5 div.sk-item {position: relative;z-index: 1;}#sk-container-id-5 div.sk-parallel {display: flex;align-items: stretch;justify-content: center;background-color: white;position: relative;}#sk-container-id-5 div.sk-item::before, #sk-container-id-5 div.sk-parallel-item::before {content: \"\";position: absolute;border-left: 1px solid gray;box-sizing: border-box;top: 0;bottom: 0;left: 50%;z-index: -1;}#sk-container-id-5 div.sk-parallel-item {display: flex;flex-direction: column;z-index: 1;position: relative;background-color: white;}#sk-container-id-5 div.sk-parallel-item:first-child::after {align-self: flex-end;width: 50%;}#sk-container-id-5 div.sk-parallel-item:last-child::after {align-self: flex-start;width: 50%;}#sk-container-id-5 div.sk-parallel-item:only-child::after {width: 0;}#sk-container-id-5 div.sk-dashed-wrapped {border: 1px dashed gray;margin: 0 0.4em 0.5em 0.4em;box-sizing: border-box;padding-bottom: 0.4em;background-color: white;}#sk-container-id-5 div.sk-label label {font-family: monospace;font-weight: bold;display: inline-block;line-height: 1.2em;}#sk-container-id-5 div.sk-label-container {text-align: center;}#sk-container-id-5 div.sk-container {/* jupyter's `normalize.less` sets `[hidden] { display: none; }` but bootstrap.min.css set `[hidden] { display: none !important; }` so we also need the `!important` here to be able to override the default hidden behavior on the sphinx rendered scikit-learn.org. See: https://github.com/scikit-learn/scikit-learn/issues/21755 */display: inline-block !important;position: relative;}#sk-container-id-5 div.sk-text-repr-fallback {display: none;}</style><div id=\"sk-container-id-5\" class=\"sk-top-container\"><div class=\"sk-text-repr-fallback\"><pre>HalvingGridSearchCV(cv=StratifiedKFold(n_splits=3, random_state=42, shuffle=True),\n",
       "                    estimator=Pipeline(steps=[(&#x27;columntransformer&#x27;,\n",
       "                                               ColumnTransformer(transformers=[(&#x27;pipeline-1&#x27;,\n",
       "                                                                                Pipeline(steps=[(&#x27;onehotencoder&#x27;,\n",
       "                                                                                                 OneHotEncoder(handle_unknown=&#x27;ignore&#x27;))]),\n",
       "                                                                                [&#x27;INSTITUCION&#x27;,\n",
       "                                                                                 &#x27;GENERO&#x27;,\n",
       "                                                                                 &#x27;JORNADA&#x27;,\n",
       "                                                                                 &#x27;PAIS_ORIGEN&#x27;,\n",
       "                                                                                 &#x27;DISCAPACIDAD&#x27;,\n",
       "                                                                                 &#x27;SRPA&#x27;,\n",
       "                                                                                 &#x27;INSTITUCION_SECTOR&#x27;,\n",
       "                                                                                 &#x27;INSTITUCIO...\n",
       "                                                             n_jobs=None,\n",
       "                                                             num_parallel_tree=None,\n",
       "                                                             predictor=None,\n",
       "                                                             random_state=None,\n",
       "                                                             reg_alpha=None,\n",
       "                                                             reg_lambda=None, ...))]),\n",
       "                    n_jobs=-1,\n",
       "                    param_grid={&#x27;xgbclassifier__colsample_bytree&#x27;: [0.6, 0.8,\n",
       "                                                                    1.0],\n",
       "                                &#x27;xgbclassifier__gamma&#x27;: [0.5, 1, 1.5, 2, 5],\n",
       "                                &#x27;xgbclassifier__max_depth&#x27;: array([3]),\n",
       "                                &#x27;xgbclassifier__min_child_weight&#x27;: [1, 5, 10],\n",
       "                                &#x27;xgbclassifier__subsample&#x27;: [0.6, 0.8, 1.0]},\n",
       "                    scoring=&#x27;roc_auc&#x27;)</pre><b>In a Jupyter environment, please rerun this cell to show the HTML representation or trust the notebook. <br />On GitHub, the HTML representation is unable to render, please try loading this page with nbviewer.org.</b></div><div class=\"sk-container\" hidden><div class=\"sk-item sk-dashed-wrapped\"><div class=\"sk-label-container\"><div class=\"sk-label sk-toggleable\"><input class=\"sk-toggleable__control sk-hidden--visually\" id=\"sk-estimator-id-49\" type=\"checkbox\" ><label for=\"sk-estimator-id-49\" class=\"sk-toggleable__label sk-toggleable__label-arrow\">HalvingGridSearchCV</label><div class=\"sk-toggleable__content\"><pre>HalvingGridSearchCV(cv=StratifiedKFold(n_splits=3, random_state=42, shuffle=True),\n",
       "                    estimator=Pipeline(steps=[(&#x27;columntransformer&#x27;,\n",
       "                                               ColumnTransformer(transformers=[(&#x27;pipeline-1&#x27;,\n",
       "                                                                                Pipeline(steps=[(&#x27;onehotencoder&#x27;,\n",
       "                                                                                                 OneHotEncoder(handle_unknown=&#x27;ignore&#x27;))]),\n",
       "                                                                                [&#x27;INSTITUCION&#x27;,\n",
       "                                                                                 &#x27;GENERO&#x27;,\n",
       "                                                                                 &#x27;JORNADA&#x27;,\n",
       "                                                                                 &#x27;PAIS_ORIGEN&#x27;,\n",
       "                                                                                 &#x27;DISCAPACIDAD&#x27;,\n",
       "                                                                                 &#x27;SRPA&#x27;,\n",
       "                                                                                 &#x27;INSTITUCION_SECTOR&#x27;,\n",
       "                                                                                 &#x27;INSTITUCIO...\n",
       "                                                             n_jobs=None,\n",
       "                                                             num_parallel_tree=None,\n",
       "                                                             predictor=None,\n",
       "                                                             random_state=None,\n",
       "                                                             reg_alpha=None,\n",
       "                                                             reg_lambda=None, ...))]),\n",
       "                    n_jobs=-1,\n",
       "                    param_grid={&#x27;xgbclassifier__colsample_bytree&#x27;: [0.6, 0.8,\n",
       "                                                                    1.0],\n",
       "                                &#x27;xgbclassifier__gamma&#x27;: [0.5, 1, 1.5, 2, 5],\n",
       "                                &#x27;xgbclassifier__max_depth&#x27;: array([3]),\n",
       "                                &#x27;xgbclassifier__min_child_weight&#x27;: [1, 5, 10],\n",
       "                                &#x27;xgbclassifier__subsample&#x27;: [0.6, 0.8, 1.0]},\n",
       "                    scoring=&#x27;roc_auc&#x27;)</pre></div></div></div><div class=\"sk-parallel\"><div class=\"sk-parallel-item\"><div class=\"sk-item\"><div class=\"sk-label-container\"><div class=\"sk-label sk-toggleable\"><input class=\"sk-toggleable__control sk-hidden--visually\" id=\"sk-estimator-id-50\" type=\"checkbox\" ><label for=\"sk-estimator-id-50\" class=\"sk-toggleable__label sk-toggleable__label-arrow\">estimator: Pipeline</label><div class=\"sk-toggleable__content\"><pre>Pipeline(steps=[(&#x27;columntransformer&#x27;,\n",
       "                 ColumnTransformer(transformers=[(&#x27;pipeline-1&#x27;,\n",
       "                                                  Pipeline(steps=[(&#x27;onehotencoder&#x27;,\n",
       "                                                                   OneHotEncoder(handle_unknown=&#x27;ignore&#x27;))]),\n",
       "                                                  [&#x27;INSTITUCION&#x27;, &#x27;GENERO&#x27;,\n",
       "                                                   &#x27;JORNADA&#x27;, &#x27;PAIS_ORIGEN&#x27;,\n",
       "                                                   &#x27;DISCAPACIDAD&#x27;, &#x27;SRPA&#x27;,\n",
       "                                                   &#x27;INSTITUCION_SECTOR&#x27;,\n",
       "                                                   &#x27;INSTITUCION_MODELO&#x27;,\n",
       "                                                   &#x27;INSTITUCION_APOYO_ACADEMICO_ESPECIAL&#x27;,\n",
       "                                                   &#x27;INSTITUCION_ZONA&#x27;,\n",
       "                                                   &#x27;INSTITUCION_CARACTER&#x27;...\n",
       "                               gamma=None, gpu_id=None, grow_policy=None,\n",
       "                               importance_type=None,\n",
       "                               interaction_constraints=None, learning_rate=None,\n",
       "                               max_bin=None, max_cat_to_onehot=None,\n",
       "                               max_delta_step=None, max_depth=None,\n",
       "                               max_leaves=None, min_child_weight=None,\n",
       "                               missing=nan, monotone_constraints=None,\n",
       "                               n_estimators=100, n_jobs=None,\n",
       "                               num_parallel_tree=None, predictor=None,\n",
       "                               random_state=None, reg_alpha=None,\n",
       "                               reg_lambda=None, ...))])</pre></div></div></div><div class=\"sk-serial\"><div class=\"sk-item\"><div class=\"sk-serial\"><div class=\"sk-item sk-dashed-wrapped\"><div class=\"sk-label-container\"><div class=\"sk-label sk-toggleable\"><input class=\"sk-toggleable__control sk-hidden--visually\" id=\"sk-estimator-id-51\" type=\"checkbox\" ><label for=\"sk-estimator-id-51\" class=\"sk-toggleable__label sk-toggleable__label-arrow\">columntransformer: ColumnTransformer</label><div class=\"sk-toggleable__content\"><pre>ColumnTransformer(transformers=[(&#x27;pipeline-1&#x27;,\n",
       "                                 Pipeline(steps=[(&#x27;onehotencoder&#x27;,\n",
       "                                                  OneHotEncoder(handle_unknown=&#x27;ignore&#x27;))]),\n",
       "                                 [&#x27;INSTITUCION&#x27;, &#x27;GENERO&#x27;, &#x27;JORNADA&#x27;,\n",
       "                                  &#x27;PAIS_ORIGEN&#x27;, &#x27;DISCAPACIDAD&#x27;, &#x27;SRPA&#x27;,\n",
       "                                  &#x27;INSTITUCION_SECTOR&#x27;, &#x27;INSTITUCION_MODELO&#x27;,\n",
       "                                  &#x27;INSTITUCION_APOYO_ACADEMICO_ESPECIAL&#x27;,\n",
       "                                  &#x27;INSTITUCION_ZONA&#x27;, &#x27;INSTITUCION_CARACTER&#x27;,\n",
       "                                  &#x27;INSTITUCION_ESTADO&#x27;,\n",
       "                                  &#x27;INSTITUCION_PR...\n",
       "                                  &#x27;INSTITUCION_NIVEL_SECUNDARIA_PRIMARIA&#x27;,\n",
       "                                  &#x27;INSTITUCION_NIVEL_MEDIA&#x27;,\n",
       "                                  &#x27;INSTITUCION_NIVEL_PREESCOLAR&#x27;,\n",
       "                                  &#x27;INSTITUCION_NIVEL_PRIMERA_INFANCIA&#x27;,\n",
       "                                  &#x27;INSTITUCION_ESPECIALIDAD_ACADÉMICA&#x27;,\n",
       "                                  &#x27;INSTITUCION_ESPECIALIDAD_AGROPECUARIO&#x27;,\n",
       "                                  &#x27;INSTITUCION_ESPECIALIDAD_COMERCIAL&#x27;,\n",
       "                                  &#x27;INSTITUCION_ESPECIALIDAD_INDUSTRIAL&#x27;,\n",
       "                                  &#x27;INSTITUCION_ESPECIALIDAD_NO_APLICA&#x27;,\n",
       "                                  &#x27;INSTITUCION_ESPECIALIDAD_OTRO&#x27;])])</pre></div></div></div><div class=\"sk-parallel\"><div class=\"sk-parallel-item\"><div class=\"sk-item\"><div class=\"sk-label-container\"><div class=\"sk-label sk-toggleable\"><input class=\"sk-toggleable__control sk-hidden--visually\" id=\"sk-estimator-id-52\" type=\"checkbox\" ><label for=\"sk-estimator-id-52\" class=\"sk-toggleable__label sk-toggleable__label-arrow\">pipeline-1</label><div class=\"sk-toggleable__content\"><pre>[&#x27;INSTITUCION&#x27;, &#x27;GENERO&#x27;, &#x27;JORNADA&#x27;, &#x27;PAIS_ORIGEN&#x27;, &#x27;DISCAPACIDAD&#x27;, &#x27;SRPA&#x27;, &#x27;INSTITUCION_SECTOR&#x27;, &#x27;INSTITUCION_MODELO&#x27;, &#x27;INSTITUCION_APOYO_ACADEMICO_ESPECIAL&#x27;, &#x27;INSTITUCION_ZONA&#x27;, &#x27;INSTITUCION_CARACTER&#x27;, &#x27;INSTITUCION_ESTADO&#x27;, &#x27;INSTITUCION_PRESTADOR_DE_SERVICIO&#x27;]</pre></div></div></div><div class=\"sk-serial\"><div class=\"sk-item\"><div class=\"sk-serial\"><div class=\"sk-item\"><div class=\"sk-estimator sk-toggleable\"><input class=\"sk-toggleable__control sk-hidden--visually\" id=\"sk-estimator-id-53\" type=\"checkbox\" ><label for=\"sk-estimator-id-53\" class=\"sk-toggleable__label sk-toggleable__label-arrow\">OneHotEncoder</label><div class=\"sk-toggleable__content\"><pre>OneHotEncoder(handle_unknown=&#x27;ignore&#x27;)</pre></div></div></div></div></div></div></div></div><div class=\"sk-parallel-item\"><div class=\"sk-item\"><div class=\"sk-label-container\"><div class=\"sk-label sk-toggleable\"><input class=\"sk-toggleable__control sk-hidden--visually\" id=\"sk-estimator-id-54\" type=\"checkbox\" ><label for=\"sk-estimator-id-54\" class=\"sk-toggleable__label sk-toggleable__label-arrow\">pipeline-2</label><div class=\"sk-toggleable__content\"><pre>[&#x27;GRADO_COD&#x27;, &#x27;ESTRATO&#x27;, &#x27;INSTITUCION_TAMAÑO&#x27;]</pre></div></div></div><div class=\"sk-serial\"><div class=\"sk-item\"><div class=\"sk-serial\"><div class=\"sk-item\"><div class=\"sk-estimator sk-toggleable\"><input class=\"sk-toggleable__control sk-hidden--visually\" id=\"sk-estimator-id-55\" type=\"checkbox\" ><label for=\"sk-estimator-id-55\" class=\"sk-toggleable__label sk-toggleable__label-arrow\">OrdinalEncoder</label><div class=\"sk-toggleable__content\"><pre>OrdinalEncoder(categories=[[-2.0, -1.0, 0.0, 1.0, 2.0, 3.0, 4.0, 5.0, 6.0, 7.0,\n",
       "                            8.0, 9.0, 10.0, 11.0, 12.0, 20.0, 21.0, 22.0, 23.0,\n",
       "                            24.0, 25.0, 26.0],\n",
       "                           [&#x27;ESTRATO 0&#x27;, &#x27;ESTRATO 1&#x27;, &#x27;ESTRATO 2&#x27;, &#x27;ESTRATO 3&#x27;,\n",
       "                            &#x27;ESTRATO 4&#x27;, &#x27;ESTRATO 5&#x27;, &#x27;ESTRATO 6&#x27;],\n",
       "                           [&#x27;Pequeña&#x27;, &#x27;Mediana&#x27;, &#x27;Grande&#x27;]])</pre></div></div></div></div></div></div></div></div><div class=\"sk-parallel-item\"><div class=\"sk-item\"><div class=\"sk-label-container\"><div class=\"sk-label sk-toggleable\"><input class=\"sk-toggleable__control sk-hidden--visually\" id=\"sk-estimator-id-56\" type=\"checkbox\" ><label for=\"sk-estimator-id-56\" class=\"sk-toggleable__label sk-toggleable__label-arrow\">pipeline-3</label><div class=\"sk-toggleable__content\"><pre>[&#x27;EDAD&#x27;, &#x27;INSTITUCION_NUMERO_DE_SEDES&#x27;]</pre></div></div></div><div class=\"sk-serial\"><div class=\"sk-item\"><div class=\"sk-serial\"><div class=\"sk-item\"><div class=\"sk-estimator sk-toggleable\"><input class=\"sk-toggleable__control sk-hidden--visually\" id=\"sk-estimator-id-57\" type=\"checkbox\" ><label for=\"sk-estimator-id-57\" class=\"sk-toggleable__label sk-toggleable__label-arrow\">StandardScaler</label><div class=\"sk-toggleable__content\"><pre>StandardScaler()</pre></div></div></div></div></div></div></div></div><div class=\"sk-parallel-item\"><div class=\"sk-item\"><div class=\"sk-label-container\"><div class=\"sk-label sk-toggleable\"><input class=\"sk-toggleable__control sk-hidden--visually\" id=\"sk-estimator-id-58\" type=\"checkbox\" ><label for=\"sk-estimator-id-58\" class=\"sk-toggleable__label sk-toggleable__label-arrow\">pipeline-4</label><div class=\"sk-toggleable__content\"><pre>[&#x27;INSTITUCION_NIVEL_BASICA_PRIMARIA&#x27;, &#x27;INSTITUCION_NIVEL_SECUNDARIA_PRIMARIA&#x27;, &#x27;INSTITUCION_NIVEL_MEDIA&#x27;, &#x27;INSTITUCION_NIVEL_PREESCOLAR&#x27;, &#x27;INSTITUCION_NIVEL_PRIMERA_INFANCIA&#x27;, &#x27;INSTITUCION_ESPECIALIDAD_ACADÉMICA&#x27;, &#x27;INSTITUCION_ESPECIALIDAD_AGROPECUARIO&#x27;, &#x27;INSTITUCION_ESPECIALIDAD_COMERCIAL&#x27;, &#x27;INSTITUCION_ESPECIALIDAD_INDUSTRIAL&#x27;, &#x27;INSTITUCION_ESPECIALIDAD_NO_APLICA&#x27;, &#x27;INSTITUCION_ESPECIALIDAD_OTRO&#x27;]</pre></div></div></div><div class=\"sk-serial\"><div class=\"sk-item\"><div class=\"sk-serial\"><div class=\"sk-item\"><div class=\"sk-estimator sk-toggleable\"><input class=\"sk-toggleable__control sk-hidden--visually\" id=\"sk-estimator-id-59\" type=\"checkbox\" ><label for=\"sk-estimator-id-59\" class=\"sk-toggleable__label sk-toggleable__label-arrow\">FunctionTransformer</label><div class=\"sk-toggleable__content\"><pre>FunctionTransformer(func=&lt;function boolean_transformation at 0x7fbe1dff1120&gt;)</pre></div></div></div></div></div></div></div></div></div></div><div class=\"sk-item\"><div class=\"sk-estimator sk-toggleable\"><input class=\"sk-toggleable__control sk-hidden--visually\" id=\"sk-estimator-id-60\" type=\"checkbox\" ><label for=\"sk-estimator-id-60\" class=\"sk-toggleable__label sk-toggleable__label-arrow\">XGBClassifier</label><div class=\"sk-toggleable__content\"><pre>XGBClassifier(base_score=None, booster=None, callbacks=None,\n",
       "              colsample_bylevel=None, colsample_bynode=None,\n",
       "              colsample_bytree=None, early_stopping_rounds=None,\n",
       "              enable_categorical=False, eval_metric=None, gamma=None,\n",
       "              gpu_id=None, grow_policy=None, importance_type=None,\n",
       "              interaction_constraints=None, learning_rate=None, max_bin=None,\n",
       "              max_cat_to_onehot=None, max_delta_step=None, max_depth=None,\n",
       "              max_leaves=None, min_child_weight=None, missing=nan,\n",
       "              monotone_constraints=None, n_estimators=100, n_jobs=None,\n",
       "              num_parallel_tree=None, predictor=None, random_state=None,\n",
       "              reg_alpha=None, reg_lambda=None, ...)</pre></div></div></div></div></div></div></div></div></div></div></div></div>"
      ],
      "text/plain": [
       "HalvingGridSearchCV(cv=StratifiedKFold(n_splits=3, random_state=42, shuffle=True),\n",
       "                    estimator=Pipeline(steps=[('columntransformer',\n",
       "                                               ColumnTransformer(transformers=[('pipeline-1',\n",
       "                                                                                Pipeline(steps=[('onehotencoder',\n",
       "                                                                                                 OneHotEncoder(handle_unknown='ignore'))]),\n",
       "                                                                                ['INSTITUCION',\n",
       "                                                                                 'GENERO',\n",
       "                                                                                 'JORNADA',\n",
       "                                                                                 'PAIS_ORIGEN',\n",
       "                                                                                 'DISCAPACIDAD',\n",
       "                                                                                 'SRPA',\n",
       "                                                                                 'INSTITUCION_SECTOR',\n",
       "                                                                                 'INSTITUCIO...\n",
       "                                                             n_jobs=None,\n",
       "                                                             num_parallel_tree=None,\n",
       "                                                             predictor=None,\n",
       "                                                             random_state=None,\n",
       "                                                             reg_alpha=None,\n",
       "                                                             reg_lambda=None, ...))]),\n",
       "                    n_jobs=-1,\n",
       "                    param_grid={'xgbclassifier__colsample_bytree': [0.6, 0.8,\n",
       "                                                                    1.0],\n",
       "                                'xgbclassifier__gamma': [0.5, 1, 1.5, 2, 5],\n",
       "                                'xgbclassifier__max_depth': array([3]),\n",
       "                                'xgbclassifier__min_child_weight': [1, 5, 10],\n",
       "                                'xgbclassifier__subsample': [0.6, 0.8, 1.0]},\n",
       "                    scoring='roc_auc')"
      ]
     },
     "execution_count": 84,
     "metadata": {},
     "output_type": "execute_result"
    }
   ],
   "source": [
    "search.fit(X_train_ss, y_train_ss)"
   ]
  },
  {
   "cell_type": "code",
   "execution_count": 85,
   "id": "5f345a40-68cc-4e7d-88a3-96afabbf469c",
   "metadata": {},
   "outputs": [
    {
     "data": {
      "text/plain": [
       "{'xgbclassifier__colsample_bytree': 0.8,\n",
       " 'xgbclassifier__gamma': 5,\n",
       " 'xgbclassifier__max_depth': 3,\n",
       " 'xgbclassifier__min_child_weight': 1,\n",
       " 'xgbclassifier__subsample': 0.8}"
      ]
     },
     "execution_count": 85,
     "metadata": {},
     "output_type": "execute_result"
    }
   ],
   "source": [
    "search.best_params_"
   ]
  },
  {
   "cell_type": "code",
   "execution_count": 86,
   "id": "71980854-3fc4-4560-bbcb-1389299a3ed2",
   "metadata": {},
   "outputs": [],
   "source": [
    "xbgc_parameters = search.best_params_"
   ]
  },
  {
   "cell_type": "code",
   "execution_count": 87,
   "id": "705f5a81-bb9b-420f-9ac2-1dadec27e9cc",
   "metadata": {},
   "outputs": [
    {
     "data": {
      "text/plain": [
       "0.7518060453543275"
      ]
     },
     "execution_count": 87,
     "metadata": {},
     "output_type": "execute_result"
    }
   ],
   "source": [
    "search.best_score_"
   ]
  },
  {
   "cell_type": "markdown",
   "id": "1540fc4e-9d32-4f97-9b35-c59f149d74a8",
   "metadata": {
    "tags": []
   },
   "source": [
    "## 8. Custom evaluations"
   ]
  },
  {
   "cell_type": "markdown",
   "id": "1175c974-5b5b-4b8c-9d6e-e924c2771c5c",
   "metadata": {
    "tags": []
   },
   "source": [
    "### 8.1. Custom Score"
   ]
  },
  {
   "cell_type": "markdown",
   "id": "884b2fa1-3c96-423e-8003-21f1ac9f8999",
   "metadata": {},
   "source": [
    "We are going to penalize False Negative that are students dropped out, and they were predicted incorrectly.<br> Due to that, we are going to define a Custom Score."
   ]
  },
  {
   "cell_type": "code",
   "execution_count": 124,
   "id": "92a2d090-b4fa-49fd-865f-6387a2f481c7",
   "metadata": {},
   "outputs": [],
   "source": [
    "def custom_score(y_test, y_pred):\n",
    "    \"\"\"\n",
    "    Method used to calculate a score based on the penalization of False Negatives.\n",
    "\n",
    "    Parameters:\n",
    "    -----------------\n",
    "        y_test (series): True values\n",
    "        y_pred (series): Predicted values\n",
    "        threshold (float): Threshold value to use\n",
    "        \n",
    "    Returns:\n",
    "    -----------------\n",
    "        Score. (float): Score obtained based on the rules defined to measure. \n",
    "    \"\"\"\n",
    "    \n",
    "    TN_rate = 1        # Students that do not drop out and were predicted correctly\n",
    "    TP_rate = 1        # Students that dropped out and were predicted correctly\n",
    "    FP_rate = -1       # Students that do not drop out and were predicted incorrectly\n",
    "    FN_rate = -10       # Students that dropped out and were were predicted incorrectly\n",
    "    \n",
    "    # Getting all values based on confusion matrix\n",
    "    (TN, FP, FN, TP) = confusion_matrix(y_test, y_pred, labels=[0, 1]).ravel()\n",
    "\n",
    "    # Total of default and not default cases\n",
    "    total_not_default = TN + FP     # Not drop out cases\n",
    "    total_default = TP + FN         # Drop out cases \n",
    "    \n",
    "    gain_total = TN*TN_rate + TP*TP_rate + FP*FP_rate + FN*FN_rate\n",
    "    gain_maximun = total_not_default*TN_rate + total_default*TP_rate\n",
    "    gain_minumun = total_not_default*TN_rate + total_default*FN_rate\n",
    "    \n",
    "    # normalize to get score between 0 (baseline) and 1\n",
    "    score = (gain_total - gain_minumun) / (gain_maximun - gain_minumun)\n",
    "    \n",
    "    return score"
   ]
  },
  {
   "cell_type": "markdown",
   "id": "20474580-b221-4bcf-b80c-8b856e778a20",
   "metadata": {
    "tags": []
   },
   "source": [
    "### 8.2. Threshold selection"
   ]
  },
  {
   "cell_type": "markdown",
   "id": "ad8c49e1-3430-4f44-b3cb-8dbda76345b4",
   "metadata": {},
   "source": [
    "Based on the probability predictions and Custom Score, we are going to identify the best treshold to mesure our models."
   ]
  },
  {
   "cell_type": "code",
   "execution_count": 122,
   "id": "540e7bcf-f59d-4127-a339-f0ae5112f9ae",
   "metadata": {},
   "outputs": [],
   "source": [
    "def threshold_selection(y_test, y_prob):\n",
    "    \"\"\"\n",
    "    Method used to calculate the threshold based on the Custom Score.\n",
    "\n",
    "    Parameters:\n",
    "    -----------------\n",
    "        df (pandas.DataFrame): Dataset to analyze\n",
    "        y_test (1d array-like): True values\n",
    "        y_prob (1d array-like): Probabilite values predicted\n",
    "        \n",
    "    Returns:\n",
    "    -----------------\n",
    "        threshold (float) : Best threshold value\n",
    "        Threshold (image) : Plot the threshold and the best score\n",
    "    \"\"\"\n",
    "    \n",
    "    thresholds = np.arange(0, 1, 0.001)\n",
    "    scores = []\n",
    "    \n",
    "    for threshold in thresholds:\n",
    "        y_pred = (y_prob >= threshold).astype(\"int\")\n",
    "        score = custom_score(y_test, y_pred)\n",
    "        scores.append(score)\n",
    "        \n",
    "    scores = np.asarray(scores)\n",
    "    ix = np.argmax(scores)\n",
    "    \n",
    "    best_threshold, best_score = (thresholds[ix], round(scores[ix], 3))\n",
    "    \n",
    "    print(\"Best results\")\n",
    "    print(\"- Best Threshold:\\t\", best_threshold)\n",
    "    print(\"- Best Score:\\t\\t\", best_score)\n",
    "    print(\"\\n\")\n",
    "    \n",
    "    plt.subplots(1, figsize=(6, 5))\n",
    "    plt.plot(thresholds, scores, lw=1)\n",
    "    plt.axvline(best_threshold, ls=\"--\", lw=1, c=\"r\")\n",
    "    plt.title(\"Threshold\")\n",
    "    plt.xlabel(\"proba threshold\")\n",
    "    plt.ylabel(\"Score performed\")\n",
    "    plt.show()\n",
    "    \n",
    "    return best_threshold"
   ]
  },
  {
   "cell_type": "markdown",
   "id": "4358393b-738c-40be-96f4-52b50962b367",
   "metadata": {
    "tags": []
   },
   "source": [
    "## 9. Modelisation using class_weight"
   ]
  },
  {
   "cell_type": "markdown",
   "id": "4f4f3be2-9dae-4335-b93b-8318d1fa646c",
   "metadata": {},
   "source": [
    "At this point, we are going to use the parameter class_weight to affect the computation of the model to penalize differently a false classification from the minority and majority class"
   ]
  },
  {
   "cell_type": "markdown",
   "id": "c7d8e91b-b122-4521-a40e-d1f043954fcc",
   "metadata": {
    "tags": []
   },
   "source": [
    "### 9.1. Logistic Regresion"
   ]
  },
  {
   "cell_type": "code",
   "execution_count": 108,
   "id": "7588debb-ccb8-4556-a32a-cee052abb7d8",
   "metadata": {},
   "outputs": [],
   "source": [
    "# delete string corresponding to pipeline's name\n",
    "lr_parameters = {k.replace(\"logisticregressioncv__\", \"\") : v for k, v in lr_parameters.items()}\n",
    "\n",
    "lr_cw = LogisticRegressionCV(**lr_parameters,\n",
    "                             class_weight=\"balanced\",\n",
    "                             random_state=42,\n",
    "                             n_jobs=-1)\n",
    "\n",
    "clf_lr_cw = make_pipeline(preprocessor, lr_cw)"
   ]
  },
  {
   "cell_type": "markdown",
   "id": "5672d28a-692d-4eb2-9a81-2b66716457b4",
   "metadata": {},
   "source": [
    "Executing the model with the complete dataset"
   ]
  },
  {
   "cell_type": "code",
   "execution_count": 109,
   "id": "111c8e50-6d6f-4291-92bd-196d00a53d6e",
   "metadata": {},
   "outputs": [],
   "source": [
    "start_time_model = timeit.default_timer()\n",
    "\n",
    "clf_lr_cw.fit(X_train, y_train)\n",
    "\n",
    "end_time_model =  round(timeit.default_timer() - start_time_model, 3)"
   ]
  },
  {
   "cell_type": "markdown",
   "id": "6830d941-c448-41bb-ab00-508cf8490429",
   "metadata": {},
   "source": [
    "Predict the probabilities"
   ]
  },
  {
   "cell_type": "code",
   "execution_count": 111,
   "id": "9f8979c8-3ed6-4f0c-b605-8f2ba33cb91a",
   "metadata": {},
   "outputs": [],
   "source": [
    "y_prob = clf_lr_cw.predict_proba(X_test)\n",
    "y_prob = y_prob[:, 1]"
   ]
  },
  {
   "cell_type": "markdown",
   "id": "9aa53f79-0d0a-44d2-b83c-4d7f32171bba",
   "metadata": {},
   "source": [
    "Let's selet the threshold based on the best parameters"
   ]
  },
  {
   "cell_type": "code",
   "execution_count": 125,
   "id": "1c805afa-27da-437d-a1e2-ee577581e024",
   "metadata": {},
   "outputs": [
    {
     "name": "stdout",
     "output_type": "stream",
     "text": [
      "Best results\n",
      "- Best Threshold:\t 0.671\n",
      "- Best Score:\t\t 0.19\n",
      "\n",
      "\n"
     ]
    },
    {
     "data": {
      "image/png": "[encoded data removed]",
      "text/plain": [
       "<Figure size 432x360 with 1 Axes>"
      ]
     },
     "metadata": {
      "needs_background": "light"
     },
     "output_type": "display_data"
    }
   ],
   "source": [
    "threshold = threshold_selection(y_test, y_prob)"
   ]
  },
  {
   "cell_type": "markdown",
   "id": "f07cede3-f8e5-48f2-acec-8b949d8a4a4d",
   "metadata": {},
   "source": [
    "Making the predictions based on the probabilities and threshold"
   ]
  },
  {
   "cell_type": "code",
   "execution_count": 126,
   "id": "9546a06c-4216-449a-89cb-98c0e452f0de",
   "metadata": {},
   "outputs": [],
   "source": [
    "y_pred = (y_prob >= threshold).astype(int)"
   ]
  },
  {
   "cell_type": "markdown",
   "id": "b6201278-1fb8-42e4-a35b-93dc770d74ab",
   "metadata": {},
   "source": [
    "Now, we can get the metrics"
   ]
  },
  {
   "cell_type": "code",
   "execution_count": 127,
   "id": "9a299a4f-ad20-4e35-a99e-3bac19dc65ed",
   "metadata": {},
   "outputs": [],
   "source": [
    "roc_auc = round(roc_auc_score(y_test, y_prob), 3)\n",
    "recall_0, recall_1 = recall_score(y_test, y_pred, average=None).round(3)\n",
    "f1 = round(f1_score(y_test, y_pred), 3)\n",
    "precision = round(precision_score(y_test, y_pred), 3)"
   ]
  },
  {
   "cell_type": "code",
   "execution_count": 131,
   "id": "40c128df-a9eb-4a34-b812-dcbe4fb7f6d5",
   "metadata": {},
   "outputs": [
    {
     "data": {
      "image/png": "[encoded data removed]",
      "text/plain": [
       "<Figure size 432x288 with 2 Axes>"
      ]
     },
     "metadata": {
      "needs_background": "light"
     },
     "output_type": "display_data"
    }
   ],
   "source": [
    "display = ConfusionMatrixDisplay.from_predictions(y_test, y_pred, \n",
    "                                                  display_labels=[\"Not dropped out\", \n",
    "                                                                  \"Dropped out\"])\n",
    "_ = display.ax_.set_title(\"Confusion matrix\")"
   ]
  },
  {
   "cell_type": "code",
   "execution_count": 135,
   "id": "8ad43acf-483f-426d-84ca-5fa22c403487",
   "metadata": {},
   "outputs": [
    {
     "data": {
      "image/png": "[encoded data removed]",
      "text/plain": [
       "<Figure size 432x432 with 1 Axes>"
      ]
     },
     "metadata": {
      "needs_background": "light"
     },
     "output_type": "display_data"
    }
   ],
   "source": [
    "fpr = dict()\n",
    "tpr = dict()\n",
    "fpr[\"micro\"], tpr[\"micro\"], _ = roc_curve(y_test.ravel(), y_prob.ravel())\n",
    "\n",
    "plt.subplots(1, figsize=(6, 6))\n",
    "plt.title(\"Receiver Operating Characteristic\")\n",
    "plt.plot(fpr[\"micro\"], tpr[\"micro\"])\n",
    "plt.plot([0, 1], ls=\"--\")\n",
    "plt.plot([0, 0], [1, 0] , c=\".7\"), plt.plot([1, 1] , c=\".7\")\n",
    "plt.ylabel(\"True Positive Rate\")\n",
    "plt.xlabel(\"False Positive Rate\")\n",
    "plt.show()"
   ]
  },
  {
   "cell_type": "code",
   "execution_count": 139,
   "id": "513b080e-5b74-4f2d-954f-e20a98ef6a91",
   "metadata": {},
   "outputs": [
    {
     "data": {
      "image/png": "[encoded data removed]",
      "text/plain": [
       "<Figure size 432x288 with 1 Axes>"
      ]
     },
     "metadata": {
      "needs_background": "light"
     },
     "output_type": "display_data"
    }
   ],
   "source": [
    "precision_, recall_, thresh_ = precision_recall_curve(y_test, y_prob)\n",
    "\n",
    "plt.subplots(1, figsize=(6, 4))\n",
    "plt.plot(recall_, precision_,  color=\"#1F77B4\");\n",
    "plt.scatter(recall_1, precision, marker=\"o\", s=100, color=\"red\", label=\"Best\")\n",
    "plt.xlabel(\"Recall (Positive label: 1)\")\n",
    "plt.ylabel(\"Precision (Positive label: 1)\")\n",
    "plt.title(\"2-class Precision-Recall curve\")\n",
    "plt.legend([\"Logistic Regresion (AP = %.2f)\"% (precision)], loc=0)\n",
    "plt.show()"
   ]
  },
  {
   "cell_type": "markdown",
   "id": "4665f7e5-31c7-4466-9021-381d57252f64",
   "metadata": {},
   "source": [
    "Let's save the metrics to compare against the others models"
   ]
  },
  {
   "cell_type": "code",
   "execution_count": 141,
   "id": "6a37e25e-00b9-443e-ab04-b5ac4763f3e2",
   "metadata": {},
   "outputs": [
    {
     "data": {
      "text/html": [
       "<div>\n",
       "<style scoped>\n",
       "    .dataframe tbody tr th:only-of-type {\n",
       "        vertical-align: middle;\n",
       "    }\n",
       "\n",
       "    .dataframe tbody tr th {\n",
       "        vertical-align: top;\n",
       "    }\n",
       "\n",
       "    .dataframe thead th {\n",
       "        text-align: right;\n",
       "    }\n",
       "</style>\n",
       "<table border=\"1\" class=\"dataframe\">\n",
       "  <thead>\n",
       "    <tr style=\"text-align: right;\">\n",
       "      <th></th>\n",
       "      <th>Model</th>\n",
       "      <th>Threshold</th>\n",
       "      <th>ROC-AUC</th>\n",
       "      <th>Recall - 0</th>\n",
       "      <th>Recall - 1</th>\n",
       "      <th>Precision</th>\n",
       "      <th>F1</th>\n",
       "      <th>Duration</th>\n",
       "    </tr>\n",
       "  </thead>\n",
       "  <tbody>\n",
       "    <tr>\n",
       "      <th>0</th>\n",
       "      <td>Class weight - Logistic Regresion</td>\n",
       "      <td>0.671</td>\n",
       "      <td>0.727</td>\n",
       "      <td>0.913</td>\n",
       "      <td>0.393</td>\n",
       "      <td>0.261</td>\n",
       "      <td>0.313</td>\n",
       "      <td>1.9</td>\n",
       "    </tr>\n",
       "  </tbody>\n",
       "</table>\n",
       "</div>"
      ],
      "text/plain": [
       "                               Model  Threshold  ROC-AUC  Recall - 0  \\\n",
       "0  Class weight - Logistic Regresion      0.671    0.727       0.913   \n",
       "\n",
       "   Recall - 1  Precision     F1  Duration  \n",
       "0       0.393      0.261  0.313       1.9  "
      ]
     },
     "execution_count": 141,
     "metadata": {},
     "output_type": "execute_result"
    }
   ],
   "source": [
    "df_models_metrics_complete = pd.DataFrame({\n",
    "    \"Model\" : [\"Class weight - Logistic Regresion\"],\n",
    "    \"Threshold\" : threshold,\n",
    "    \"ROC-AUC\" : roc_auc,    \n",
    "    \"Recall - 0\" : recall_0,\n",
    "    \"Recall - 1\" : recall_1,\n",
    "    \"Precision\" : precision,\n",
    "    \"F1\" : f1,    \n",
    "    \"Duration\" : round(end_time_model/60, 1)\n",
    "})\n",
    "\n",
    "df_models_metrics_complete"
   ]
  },
  {
   "cell_type": "markdown",
   "id": "34aedc57-fd8b-4f61-885e-854445999075",
   "metadata": {
    "tags": []
   },
   "source": [
    "### 9.2. Random Forest"
   ]
  },
  {
   "cell_type": "code",
   "execution_count": 145,
   "id": "287dd0c3-5334-4ec1-bac7-bea87432bb72",
   "metadata": {},
   "outputs": [],
   "source": [
    "# delete string corresponding to pipeline's name\n",
    "rfm_parameters = {k.replace(\"randomforestclassifier__\", \"\") : v for k, v in rfm_parameters.items()}\n",
    "\n",
    "rfc_cw = RandomForestClassifier(**rfm_parameters,\n",
    "                                class_weight=\"balanced\",\n",
    "                                random_state=42,\n",
    "                                n_jobs=-1)\n",
    "\n",
    "clf_rfc_cw = make_pipeline(preprocessor, rfc_cw)"
   ]
  },
  {
   "cell_type": "markdown",
   "id": "e3a787f6-6a46-4896-adac-ace97ba631ea",
   "metadata": {},
   "source": [
    "Executing the model with the complete dataset"
   ]
  },
  {
   "cell_type": "code",
   "execution_count": 146,
   "id": "8d808d98-079a-40db-b117-90d44734a8e5",
   "metadata": {},
   "outputs": [],
   "source": [
    "start_time_model = timeit.default_timer()\n",
    "\n",
    "clf_rfc_cw.fit(X_train, y_train)\n",
    "\n",
    "end_time_model =  round(timeit.default_timer() - start_time_model, 3)"
   ]
  },
  {
   "cell_type": "markdown",
   "id": "9111e631-d3a3-4edd-880c-5e2a35ee9cb7",
   "metadata": {},
   "source": [
    "Predict the probabilities"
   ]
  },
  {
   "cell_type": "code",
   "execution_count": 147,
   "id": "05ec7d2f-3730-45fa-a8a0-837bae7b07c8",
   "metadata": {},
   "outputs": [],
   "source": [
    "y_prob = clf_rfc_cw.predict_proba(X_test)\n",
    "y_prob = y_prob[:, 1]"
   ]
  },
  {
   "cell_type": "markdown",
   "id": "2b0b3402-bc0e-4303-ad3c-9ea269dbeeee",
   "metadata": {},
   "source": [
    "Let's selet the threshold based on the best parameters"
   ]
  },
  {
   "cell_type": "code",
   "execution_count": 148,
   "id": "8db61039-3b6d-43c4-85da-7dcb86feecdb",
   "metadata": {},
   "outputs": [
    {
     "name": "stdout",
     "output_type": "stream",
     "text": [
      "Best results\n",
      "- Best Threshold:\t 0.5760000000000001\n",
      "- Best Score:\t\t 0.214\n",
      "\n",
      "\n"
     ]
    },
    {
     "data": {
      "image/png": "[encoded data removed]",
      "text/plain": [
       "<Figure size 432x360 with 1 Axes>"
      ]
     },
     "metadata": {
      "needs_background": "light"
     },
     "output_type": "display_data"
    }
   ],
   "source": [
    "threshold = threshold_selection(y_test, y_prob)"
   ]
  },
  {
   "cell_type": "markdown",
   "id": "d3ebbc64-e246-44da-87fe-5cc84b79cc39",
   "metadata": {},
   "source": [
    "Making the predictions based on the probabilities and threshold"
   ]
  },
  {
   "cell_type": "code",
   "execution_count": 149,
   "id": "e676e280-e99a-4626-a469-e562395c6bb3",
   "metadata": {},
   "outputs": [],
   "source": [
    "y_pred = (y_prob >= threshold).astype(int)"
   ]
  },
  {
   "cell_type": "markdown",
   "id": "19dfeca3-e100-43a6-ab81-af90a1365759",
   "metadata": {},
   "source": [
    "Now, we can get the metrics"
   ]
  },
  {
   "cell_type": "code",
   "execution_count": 150,
   "id": "1a5fd1f9-7eb2-4b64-b53d-a8faf0a10b03",
   "metadata": {},
   "outputs": [],
   "source": [
    "roc_auc = round(roc_auc_score(y_test, y_prob), 3)\n",
    "recall_0, recall_1 = recall_score(y_test, y_pred, average=None).round(3)\n",
    "f1 = round(f1_score(y_test, y_pred), 3)\n",
    "precision = round(precision_score(y_test, y_pred), 3)"
   ]
  },
  {
   "cell_type": "code",
   "execution_count": 151,
   "id": "559659f8-c1d4-42aa-8eda-2c9c3fd8230c",
   "metadata": {},
   "outputs": [
    {
     "data": {
      "image/png": "[encoded data removed]",
      "text/plain": [
       "<Figure size 432x288 with 2 Axes>"
      ]
     },
     "metadata": {
      "needs_background": "light"
     },
     "output_type": "display_data"
    }
   ],
   "source": [
    "display = ConfusionMatrixDisplay.from_predictions(y_test, y_pred, \n",
    "                                                  display_labels=[\"Not dropped out\", \n",
    "                                                                  \"Dropped out\"])\n",
    "_ = display.ax_.set_title(\"Confusion matrix\")"
   ]
  },
  {
   "cell_type": "code",
   "execution_count": 152,
   "id": "a9794f2c-a016-4b89-9ec4-4931316086aa",
   "metadata": {},
   "outputs": [
    {
     "data": {
      "image/png": "[encoded data removed]",
      "text/plain": [
       "<Figure size 432x432 with 1 Axes>"
      ]
     },
     "metadata": {
      "needs_background": "light"
     },
     "output_type": "display_data"
    }
   ],
   "source": [
    "fpr = dict()\n",
    "tpr = dict()\n",
    "fpr[\"micro\"], tpr[\"micro\"], _ = roc_curve(y_test.ravel(), y_prob.ravel())\n",
    "\n",
    "plt.subplots(1, figsize=(6, 6))\n",
    "plt.title(\"Receiver Operating Characteristic\")\n",
    "plt.plot(fpr[\"micro\"], tpr[\"micro\"])\n",
    "plt.plot([0, 1], ls=\"--\")\n",
    "plt.plot([0, 0], [1, 0] , c=\".7\"), plt.plot([1, 1] , c=\".7\")\n",
    "plt.ylabel(\"True Positive Rate\")\n",
    "plt.xlabel(\"False Positive Rate\")\n",
    "plt.show()"
   ]
  },
  {
   "cell_type": "code",
   "execution_count": 153,
   "id": "7010c2a0-9065-464b-b475-3434e5e2233b",
   "metadata": {},
   "outputs": [
    {
     "data": {
      "image/png": "[encoded data removed]",
      "text/plain": [
       "<Figure size 432x288 with 1 Axes>"
      ]
     },
     "metadata": {
      "needs_background": "light"
     },
     "output_type": "display_data"
    }
   ],
   "source": [
    "precision_, recall_, thresh_ = precision_recall_curve(y_test, y_prob)\n",
    "\n",
    "plt.subplots(1, figsize=(6, 4))\n",
    "plt.plot(recall_, precision_,  color=\"#1F77B4\");\n",
    "plt.scatter(recall_1, precision, marker=\"o\", s=100, color=\"red\", label=\"Best\")\n",
    "plt.xlabel(\"Recall (Positive label: 1)\")\n",
    "plt.ylabel(\"Precision (Positive label: 1)\")\n",
    "plt.title(\"2-class Precision-Recall curve\")\n",
    "plt.legend([\"Random Forest (AP = %.2f)\"% (precision)], loc=0)\n",
    "plt.show()"
   ]
  },
  {
   "cell_type": "markdown",
   "id": "0879ad8c-5bb0-47f8-92e7-e19b6b69d0ae",
   "metadata": {},
   "source": [
    "Let's save the metrics to compare against the others models"
   ]
  },
  {
   "cell_type": "code",
   "execution_count": 154,
   "id": "dc048563-54bc-4269-8df0-afd9e3fc1607",
   "metadata": {},
   "outputs": [
    {
     "data": {
      "text/html": [
       "<div>\n",
       "<style scoped>\n",
       "    .dataframe tbody tr th:only-of-type {\n",
       "        vertical-align: middle;\n",
       "    }\n",
       "\n",
       "    .dataframe tbody tr th {\n",
       "        vertical-align: top;\n",
       "    }\n",
       "\n",
       "    .dataframe thead th {\n",
       "        text-align: right;\n",
       "    }\n",
       "</style>\n",
       "<table border=\"1\" class=\"dataframe\">\n",
       "  <thead>\n",
       "    <tr style=\"text-align: right;\">\n",
       "      <th></th>\n",
       "      <th>Model</th>\n",
       "      <th>Threshold</th>\n",
       "      <th>ROC-AUC</th>\n",
       "      <th>Recall - 0</th>\n",
       "      <th>Recall - 1</th>\n",
       "      <th>Precision</th>\n",
       "      <th>F1</th>\n",
       "      <th>Duration</th>\n",
       "    </tr>\n",
       "  </thead>\n",
       "  <tbody>\n",
       "    <tr>\n",
       "      <th>0</th>\n",
       "      <td>Class weight - Logistic Regresion</td>\n",
       "      <td>0.671</td>\n",
       "      <td>0.727</td>\n",
       "      <td>0.913</td>\n",
       "      <td>0.393</td>\n",
       "      <td>0.261</td>\n",
       "      <td>0.313</td>\n",
       "      <td>1.9</td>\n",
       "    </tr>\n",
       "    <tr>\n",
       "      <th>1</th>\n",
       "      <td>Class weight - Logistic Regresion</td>\n",
       "      <td>0.576</td>\n",
       "      <td>0.728</td>\n",
       "      <td>0.945</td>\n",
       "      <td>0.341</td>\n",
       "      <td>0.328</td>\n",
       "      <td>0.335</td>\n",
       "      <td>3.9</td>\n",
       "    </tr>\n",
       "  </tbody>\n",
       "</table>\n",
       "</div>"
      ],
      "text/plain": [
       "                               Model  Threshold  ROC-AUC  Recall - 0  \\\n",
       "0  Class weight - Logistic Regresion      0.671    0.727       0.913   \n",
       "1  Class weight - Logistic Regresion      0.576    0.728       0.945   \n",
       "\n",
       "   Recall - 1  Precision     F1  Duration  \n",
       "0       0.393      0.261  0.313       1.9  \n",
       "1       0.341      0.328  0.335       3.9  "
      ]
     },
     "execution_count": 154,
     "metadata": {},
     "output_type": "execute_result"
    }
   ],
   "source": [
    "df_temp  = pd.DataFrame({\n",
    "    \"Model\" : [\"Class weight - Random Forest\"],\n",
    "    \"Threshold\" : threshold,\n",
    "    \"ROC-AUC\" : roc_auc,    \n",
    "    \"Recall - 0\" : recall_0,\n",
    "    \"Recall - 1\" : recall_1,\n",
    "    \"Precision\" : precision,\n",
    "    \"F1\" : f1,    \n",
    "    \"Duration\" : round(end_time_model/60, 1)\n",
    "})\n",
    "\n",
    "df_models_metrics_complete = pd.concat([df_models_metrics_complete, df_temp])\n",
    "df_models_metrics_complete.reset_index(drop=True)"
   ]
  },
  {
   "cell_type": "markdown",
   "id": "316668a3-dd09-4595-88ce-a9b5aba33733",
   "metadata": {
    "tags": []
   },
   "source": [
    "### 9.3. Gradient Boosting"
   ]
  },
  {
   "cell_type": "markdown",
   "id": "8352e3d6-8fb9-4c68-87b9-43843b36f1b6",
   "metadata": {},
   "source": [
    "Unfortunately, Gradient Boosting (GBM) doesn't have a parameters call `class_weight` to treat with Imbalanced Class.<br>\n",
    "\n",
    "But, GBM deals with class imbalance by constructing successive training sets based on incorrectly classified examples"
   ]
  },
  {
   "cell_type": "code",
   "execution_count": 158,
   "id": "ffa61e13-8d22-4149-9cd3-6b82de5d8185",
   "metadata": {},
   "outputs": [],
   "source": [
    "# delete string corresponding to pipeline's name\n",
    "gbc_parameters = {k.replace(\"gradientboostingclassifier__\", \"\") : v for k, v in gbc_parameters.items()}\n",
    "\n",
    "gbc_cw = GradientBoostingClassifier(**gbc_parameters,\n",
    "                                    validation_fraction=0.2, \n",
    "                                    n_iter_no_change=5,\n",
    "                                    random_state=42)\n",
    "\n",
    "clf_gbc_cw = make_pipeline(preprocessor, gbc_cw)"
   ]
  },
  {
   "cell_type": "markdown",
   "id": "9b0c9c26-3d27-4be4-a611-e100f46bcebe",
   "metadata": {},
   "source": [
    "Executing the model with the complete dataset"
   ]
  },
  {
   "cell_type": "code",
   "execution_count": 159,
   "id": "95006684-d192-4210-9ff7-3fe28d7bc14a",
   "metadata": {},
   "outputs": [],
   "source": [
    "start_time_model = timeit.default_timer()\n",
    "\n",
    "clf_gbc_cw.fit(X_train, y_train)\n",
    "\n",
    "end_time_model =  round(timeit.default_timer() - start_time_model, 3)"
   ]
  },
  {
   "cell_type": "markdown",
   "id": "145420d0-ea86-403c-be71-71db28e7465b",
   "metadata": {},
   "source": [
    "Predict the probabilities"
   ]
  },
  {
   "cell_type": "code",
   "execution_count": 160,
   "id": "64f38937-f7e1-459a-8544-a12945994940",
   "metadata": {},
   "outputs": [],
   "source": [
    "y_prob = clf_gbc_cw.predict_proba(X_test)\n",
    "y_prob = y_prob[:, 1]"
   ]
  },
  {
   "cell_type": "markdown",
   "id": "c81f300c-f8a6-4eb3-ad95-b74dbece2f97",
   "metadata": {},
   "source": [
    "Let's selet the threshold based on the best parameters"
   ]
  },
  {
   "cell_type": "code",
   "execution_count": 161,
   "id": "f9b05ecd-3318-4a60-a934-9dc34ab6bb7d",
   "metadata": {},
   "outputs": [
    {
     "name": "stdout",
     "output_type": "stream",
     "text": [
      "Best results\n",
      "- Best Threshold:\t 0.076\n",
      "- Best Score:\t\t 0.208\n",
      "\n",
      "\n"
     ]
    },
    {
     "data": {
      "image/png": "[encoded data removed]",
      "text/plain": [
       "<Figure size 432x360 with 1 Axes>"
      ]
     },
     "metadata": {
      "needs_background": "light"
     },
     "output_type": "display_data"
    }
   ],
   "source": [
    "threshold = threshold_selection(y_test, y_prob)"
   ]
  },
  {
   "cell_type": "markdown",
   "id": "a0c073c0-5528-48fd-9e18-b7c86a8f883f",
   "metadata": {},
   "source": [
    "Making the predictions based on the probabilities and threshold"
   ]
  },
  {
   "cell_type": "code",
   "execution_count": 162,
   "id": "8865f255-be0b-4be7-ac2f-a2a1824a54a9",
   "metadata": {},
   "outputs": [],
   "source": [
    "y_pred = (y_prob >= threshold).astype(int)"
   ]
  },
  {
   "cell_type": "markdown",
   "id": "54df2435-c41b-4250-8e7c-e3eed209eaf3",
   "metadata": {},
   "source": [
    "Now, we can get the metrics"
   ]
  },
  {
   "cell_type": "code",
   "execution_count": 164,
   "id": "a574ff8e-0ac6-48ab-b68b-d1ae29faa5ed",
   "metadata": {},
   "outputs": [],
   "source": [
    "roc_auc = round(roc_auc_score(y_test, y_prob), 3)\n",
    "recall_0, recall_1 = recall_score(y_test, y_pred, average=None).round(3)\n",
    "f1 = round(f1_score(y_test, y_pred), 3)\n",
    "precision = round(precision_score(y_test, y_pred), 3)"
   ]
  },
  {
   "cell_type": "code",
   "execution_count": 165,
   "id": "d9f4fbca-656e-4e4c-b30e-339222b6503e",
   "metadata": {},
   "outputs": [
    {
     "data": {
      "image/png": "[encoded data removed]",
      "text/plain": [
       "<Figure size 432x288 with 2 Axes>"
      ]
     },
     "metadata": {
      "needs_background": "light"
     },
     "output_type": "display_data"
    }
   ],
   "source": [
    "display = ConfusionMatrixDisplay.from_predictions(y_test, y_pred, \n",
    "                                                  display_labels=[\"Not dropped out\", \n",
    "                                                                  \"Dropped out\"])\n",
    "_ = display.ax_.set_title(\"Confusion matrix\")"
   ]
  },
  {
   "cell_type": "code",
   "execution_count": 166,
   "id": "984e0257-6172-4b94-b53d-77a4c7855d23",
   "metadata": {},
   "outputs": [
    {
     "data": {
      "image/png": "[encoded data removed]",
      "text/plain": [
       "<Figure size 432x432 with 1 Axes>"
      ]
     },
     "metadata": {
      "needs_background": "light"
     },
     "output_type": "display_data"
    }
   ],
   "source": [
    "fpr = dict()\n",
    "tpr = dict()\n",
    "fpr[\"micro\"], tpr[\"micro\"], _ = roc_curve(y_test.ravel(), y_prob.ravel())\n",
    "\n",
    "plt.subplots(1, figsize=(6, 6))\n",
    "plt.title(\"Receiver Operating Characteristic\")\n",
    "plt.plot(fpr[\"micro\"], tpr[\"micro\"])\n",
    "plt.plot([0, 1], ls=\"--\")\n",
    "plt.plot([0, 0], [1, 0] , c=\".7\"), plt.plot([1, 1] , c=\".7\")\n",
    "plt.ylabel(\"True Positive Rate\")\n",
    "plt.xlabel(\"False Positive Rate\")\n",
    "plt.show()"
   ]
  },
  {
   "cell_type": "code",
   "execution_count": 168,
   "id": "396b04c6-c022-4cee-ae45-0c262a9b403b",
   "metadata": {},
   "outputs": [
    {
     "data": {
      "image/png": "[encoded data removed]",
      "text/plain": [
       "<Figure size 432x288 with 1 Axes>"
      ]
     },
     "metadata": {
      "needs_background": "light"
     },
     "output_type": "display_data"
    }
   ],
   "source": [
    "precision_, recall_, thresh_ = precision_recall_curve(y_test, y_prob)\n",
    "\n",
    "plt.subplots(1, figsize=(6, 4))\n",
    "plt.plot(recall_, precision_,  color=\"#1F77B4\");\n",
    "plt.scatter(recall_1, precision, marker=\"o\", s=100, color=\"red\", label=\"Best\")\n",
    "plt.xlabel(\"Recall (Positive label: 1)\")\n",
    "plt.ylabel(\"Precision (Positive label: 1)\")\n",
    "plt.title(\"2-class Precision-Recall curve\")\n",
    "plt.legend([\"Gradient Boosting (AP = %.2f)\"% (precision)], loc=0)\n",
    "plt.show()"
   ]
  },
  {
   "cell_type": "markdown",
   "id": "af5298a2-7d05-4cd1-993f-7ba8713faf25",
   "metadata": {},
   "source": [
    "Let's save the metrics to compare against the others models"
   ]
  },
  {
   "cell_type": "code",
   "execution_count": 169,
   "id": "0e6a3e19-6ea3-4b27-9883-58085207d403",
   "metadata": {},
   "outputs": [
    {
     "data": {
      "text/html": [
       "<div>\n",
       "<style scoped>\n",
       "    .dataframe tbody tr th:only-of-type {\n",
       "        vertical-align: middle;\n",
       "    }\n",
       "\n",
       "    .dataframe tbody tr th {\n",
       "        vertical-align: top;\n",
       "    }\n",
       "\n",
       "    .dataframe thead th {\n",
       "        text-align: right;\n",
       "    }\n",
       "</style>\n",
       "<table border=\"1\" class=\"dataframe\">\n",
       "  <thead>\n",
       "    <tr style=\"text-align: right;\">\n",
       "      <th></th>\n",
       "      <th>Model</th>\n",
       "      <th>Threshold</th>\n",
       "      <th>ROC-AUC</th>\n",
       "      <th>Recall - 0</th>\n",
       "      <th>Recall - 1</th>\n",
       "      <th>Precision</th>\n",
       "      <th>F1</th>\n",
       "      <th>Duration</th>\n",
       "    </tr>\n",
       "  </thead>\n",
       "  <tbody>\n",
       "    <tr>\n",
       "      <th>0</th>\n",
       "      <td>Class weight - Logistic Regresion</td>\n",
       "      <td>0.671</td>\n",
       "      <td>0.727</td>\n",
       "      <td>0.913</td>\n",
       "      <td>0.393</td>\n",
       "      <td>0.261</td>\n",
       "      <td>0.313</td>\n",
       "      <td>1.9</td>\n",
       "    </tr>\n",
       "    <tr>\n",
       "      <th>1</th>\n",
       "      <td>Class weight - Logistic Regresion</td>\n",
       "      <td>0.576</td>\n",
       "      <td>0.728</td>\n",
       "      <td>0.945</td>\n",
       "      <td>0.341</td>\n",
       "      <td>0.328</td>\n",
       "      <td>0.335</td>\n",
       "      <td>3.9</td>\n",
       "    </tr>\n",
       "    <tr>\n",
       "      <th>2</th>\n",
       "      <td>Tuned - Gradient Boosting</td>\n",
       "      <td>0.076</td>\n",
       "      <td>0.665</td>\n",
       "      <td>0.931</td>\n",
       "      <td>0.369</td>\n",
       "      <td>0.293</td>\n",
       "      <td>0.327</td>\n",
       "      <td>0.1</td>\n",
       "    </tr>\n",
       "  </tbody>\n",
       "</table>\n",
       "</div>"
      ],
      "text/plain": [
       "                               Model  Threshold  ROC-AUC  Recall - 0  \\\n",
       "0  Class weight - Logistic Regresion      0.671    0.727       0.913   \n",
       "1  Class weight - Logistic Regresion      0.576    0.728       0.945   \n",
       "2          Tuned - Gradient Boosting      0.076    0.665       0.931   \n",
       "\n",
       "   Recall - 1  Precision     F1  Duration  \n",
       "0       0.393      0.261  0.313       1.9  \n",
       "1       0.341      0.328  0.335       3.9  \n",
       "2       0.369      0.293  0.327       0.1  "
      ]
     },
     "execution_count": 169,
     "metadata": {},
     "output_type": "execute_result"
    }
   ],
   "source": [
    "df_temp  = pd.DataFrame({\n",
    "    \"Model\" : [\"Tuned - Gradient Boosting\"],\n",
    "    \"Threshold\" : threshold,\n",
    "    \"ROC-AUC\" : roc_auc,    \n",
    "    \"Recall - 0\" : recall_0,\n",
    "    \"Recall - 1\" : recall_1,\n",
    "    \"Precision\" : precision,\n",
    "    \"F1\" : f1,    \n",
    "    \"Duration\" : round(end_time_model/60, 1)\n",
    "})\n",
    "\n",
    "df_models_metrics_complete = pd.concat([df_models_metrics_complete, df_temp])\n",
    "df_models_metrics_complete.reset_index(drop=True)"
   ]
  },
  {
   "cell_type": "code",
   "execution_count": null,
   "id": "05556eed-d643-4c63-8925-e079b0ac9631",
   "metadata": {},
   "outputs": [],
   "source": []
  },
  {
   "cell_type": "code",
   "execution_count": null,
   "id": "afd69a95-b297-4c7c-ae15-e0fa14dcd361",
   "metadata": {},
   "outputs": [],
   "source": []
  },
  {
   "cell_type": "code",
   "execution_count": null,
   "id": "ccd5dfa0-1715-45a2-a99b-794b6a71fd19",
   "metadata": {},
   "outputs": [],
   "source": []
  },
  {
   "cell_type": "code",
   "execution_count": null,
   "id": "17768f39-4f27-475f-ba13-fd08c2a7a225",
   "metadata": {},
   "outputs": [],
   "source": []
  },
  {
   "cell_type": "code",
   "execution_count": null,
   "id": "13e5ec4e-e88a-4984-bcbf-e408210d8714",
   "metadata": {},
   "outputs": [],
   "source": []
  },
  {
   "cell_type": "code",
   "execution_count": null,
   "id": "a40343cd-1784-44f2-a039-7ea88271f9bf",
   "metadata": {},
   "outputs": [],
   "source": []
  },
  {
   "cell_type": "code",
   "execution_count": null,
   "id": "c79d2f03-54af-458c-8e87-08ddc1dc561a",
   "metadata": {},
   "outputs": [],
   "source": []
  },
  {
   "cell_type": "code",
   "execution_count": null,
   "id": "407d5dc9-81fa-461d-864b-d1ff6ed41323",
   "metadata": {},
   "outputs": [],
   "source": []
  },
  {
   "cell_type": "code",
   "execution_count": null,
   "id": "68dd3d7b-e015-41cf-a4b3-3b6f034a2cb7",
   "metadata": {},
   "outputs": [],
   "source": []
  },
  {
   "cell_type": "code",
   "execution_count": null,
   "id": "a2706c05-059b-4e5c-b0a4-c9db203b1391",
   "metadata": {},
   "outputs": [],
   "source": []
  },
  {
   "cell_type": "code",
   "execution_count": null,
   "id": "f19ea488-02ed-499e-ab5a-0c42a3045fd8",
   "metadata": {},
   "outputs": [],
   "source": []
  },
  {
   "cell_type": "code",
   "execution_count": null,
   "id": "4a41852c-4b73-438c-ba61-1b65b6a080f6",
   "metadata": {},
   "outputs": [],
   "source": []
  },
  {
   "cell_type": "markdown",
   "id": "788ef26d-9eac-4954-b989-0966ebec9ec6",
   "metadata": {
    "tags": []
   },
   "source": [
    "## 6. Random Forest"
   ]
  },
  {
   "cell_type": "code",
   "execution_count": null,
   "id": "7a36d6b5-f715-4b71-aa81-b03d0cb29c2a",
   "metadata": {},
   "outputs": [],
   "source": [
    "rfm = RandomForestClassifier(class_weight=\"balanced\")"
   ]
  },
  {
   "cell_type": "code",
   "execution_count": null,
   "id": "e22c3c8d-2b78-4da1-82fa-298c9ee11aa4",
   "metadata": {},
   "outputs": [],
   "source": [
    "clf = make_pipeline(preprocessor, rfm)"
   ]
  },
  {
   "cell_type": "code",
   "execution_count": null,
   "id": "4796b8c9-9d93-4d19-9ac2-9d8f8ec7e3ae",
   "metadata": {},
   "outputs": [],
   "source": [
    "sorted(clf.get_params().keys())"
   ]
  },
  {
   "cell_type": "code",
   "execution_count": null,
   "id": "e78c35d1-c8c7-4238-96e0-7f59bb34b7a2",
   "metadata": {},
   "outputs": [],
   "source": [
    "param_grid = {\n",
    "    \"randomforestclassifier__n_estimators\" : np.arange(500, 1000, 100),\n",
    "    \"randomforestclassifier__max_depth\" : np.arange(20, 30, 2)\n",
    "}"
   ]
  },
  {
   "cell_type": "markdown",
   "id": "2449a248-7a94-429b-9576-b0c659b29492",
   "metadata": {},
   "source": [
    "We are going to use Stratified K-Folds cross-validator to ensure that each fold of dataset has the same proportion of observations with a given label"
   ]
  },
  {
   "cell_type": "code",
   "execution_count": null,
   "id": "757c788a-7780-482d-9363-34efa2d66b7c",
   "metadata": {},
   "outputs": [],
   "source": [
    "stratified_kfold = StratifiedKFold(n_splits=3, shuffle=True, random_state=42)"
   ]
  },
  {
   "cell_type": "code",
   "execution_count": null,
   "id": "ca295569-1d7e-4d8f-8717-b2c07032b330",
   "metadata": {},
   "outputs": [],
   "source": [
    "search = HalvingGridSearchCV(clf, param_grid, scoring=\"roc_auc\",\n",
    "                             cv=stratified_kfold, n_jobs=-2)"
   ]
  },
  {
   "cell_type": "code",
   "execution_count": null,
   "id": "2bcfdafe-d648-4516-a481-84b5c5cac8a3",
   "metadata": {},
   "outputs": [],
   "source": [
    "search.fit(X_train, y_train)"
   ]
  },
  {
   "cell_type": "code",
   "execution_count": null,
   "id": "5168f93d-e2fc-4350-a53f-86298fe4ef87",
   "metadata": {},
   "outputs": [],
   "source": [
    "search.best_params_"
   ]
  },
  {
   "cell_type": "code",
   "execution_count": null,
   "id": "92936c4f-dbcb-4485-b55f-07710969577e",
   "metadata": {},
   "outputs": [],
   "source": [
    "search.best_score_"
   ]
  },
  {
   "cell_type": "code",
   "execution_count": null,
   "id": "8d635022-ea43-4c5b-bc93-e9ad2939fa9c",
   "metadata": {},
   "outputs": [],
   "source": []
  },
  {
   "cell_type": "code",
   "execution_count": null,
   "id": "94f742a9-58c1-4708-a43b-6e9e05ef6442",
   "metadata": {},
   "outputs": [],
   "source": []
  },
  {
   "cell_type": "code",
   "execution_count": null,
   "id": "b6b36c14-6353-47d9-9d11-6541bca6c0dd",
   "metadata": {},
   "outputs": [],
   "source": []
  },
  {
   "cell_type": "code",
   "execution_count": null,
   "id": "c978e62b-e1d6-4b83-a0da-cff5c1bff45a",
   "metadata": {},
   "outputs": [],
   "source": []
  },
  {
   "cell_type": "code",
   "execution_count": null,
   "id": "25731e18-fbbe-4bc2-8d68-0e43684de92f",
   "metadata": {},
   "outputs": [],
   "source": [
    "rfm_test = RandomForestClassifier(max_depth=20, n_estimators=600,\n",
    "                                  class_weight=\"balanced\",\n",
    "                                  random_state=42,\n",
    "                                  n_jobs=-1)"
   ]
  },
  {
   "cell_type": "code",
   "execution_count": null,
   "id": "d7af0f16-3c11-4544-965f-758747050708",
   "metadata": {},
   "outputs": [],
   "source": [
    "clf_test = make_pipeline(preprocessor, rfm_test)"
   ]
  },
  {
   "cell_type": "code",
   "execution_count": null,
   "id": "37d38d5d-642c-436c-8583-fce75791fb70",
   "metadata": {},
   "outputs": [],
   "source": [
    "clf_test.fit(X_train, y_train)"
   ]
  },
  {
   "cell_type": "code",
   "execution_count": null,
   "id": "eccf3159-9735-4eb1-8f82-f5e15d57efd6",
   "metadata": {},
   "outputs": [],
   "source": [
    "roc_auc_score(y_test, clf_test.predict(X_test))"
   ]
  },
  {
   "cell_type": "code",
   "execution_count": null,
   "id": "23926367-2db4-43a7-b5d3-a6dd458babf4",
   "metadata": {},
   "outputs": [],
   "source": []
  },
  {
   "cell_type": "code",
   "execution_count": null,
   "id": "c91be86c-a1fa-484a-82fb-32f5c77ba073",
   "metadata": {},
   "outputs": [],
   "source": []
  },
  {
   "cell_type": "code",
   "execution_count": null,
   "id": "5c6fddc1-28f5-46eb-93f5-2729de94bd66",
   "metadata": {},
   "outputs": [],
   "source": []
  },
  {
   "cell_type": "code",
   "execution_count": null,
   "id": "36b81d1e-6d48-479f-b64f-e9e1e04ee539",
   "metadata": {},
   "outputs": [],
   "source": [
    "imbpipeline_clf = imbpipeline(steps=[\n",
    "    (\"preprocessor\", preprocessor),\n",
    "    (\"smote\", SMOTE()),\n",
    "    (\"rfm_imblearn\", RandomForestClassifier(max_depth=20, \n",
    "                                            n_estimators=600,\n",
    "                                            random_state=42,\n",
    "                                            n_jobs=-1)\n",
    "    )\n",
    "])"
   ]
  },
  {
   "cell_type": "code",
   "execution_count": null,
   "id": "88d531e5-0a23-4067-9862-cdf1de4cb19c",
   "metadata": {},
   "outputs": [],
   "source": [
    "imbpipeline_clf.fit(X_train, y_train)"
   ]
  },
  {
   "cell_type": "code",
   "execution_count": null,
   "id": "9ed691ff-fac3-4b09-b82b-3053cc4a0499",
   "metadata": {},
   "outputs": [],
   "source": [
    "roc_auc_score(y_test, imbpipeline_clf.predict(X_test))"
   ]
  },
  {
   "cell_type": "code",
   "execution_count": null,
   "id": "13d3c979-2533-4f31-b378-2a44fcf6975b",
   "metadata": {},
   "outputs": [],
   "source": []
  }
 ],
 "metadata": {
  "kernelspec": {
   "display_name": "Python 3 (ipykernel)",
   "language": "python",
   "name": "python3"
  },
  "language_info": {
   "codemirror_mode": {
    "name": "ipython",
    "version": 3
   },
   "file_extension": ".py",
   "mimetype": "text/x-python",
   "name": "python",
   "nbconvert_exporter": "python",
   "pygments_lexer": "ipython3",
   "version": "3.10.4"
  }
 },
 "nbformat": 4,
 "nbformat_minor": 5
}
