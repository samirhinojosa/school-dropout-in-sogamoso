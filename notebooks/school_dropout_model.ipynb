{
 "cells": [
  {
   "cell_type": "markdown",
   "id": "dc83a416-2b81-452e-b59a-46e74c8aeb12",
   "metadata": {
    "tags": []
   },
   "source": [
    "<h1 style=\"margin: auto; font-weight: bold; padding: 30px 30px 0px 30px; color:#000;\" align=\"center\">SCHOOL DROPOUT IN SOGAMOSO</h1>\n",
    "<p style=\"width: 100%; text-align: center; margin: 0px; padding: 0px; font-size: 24px; color:#000;\" align=\"center\">| MODELING Notebook |</p>\n",
    "<p style=\"width: 100%; text-align: center; margin: 0px; padding: 0px; font-size: 20px; color:#000;\" align=\"center\">Correlation One - DS4A</p>\n",
    "<p style=\"text-align:center;\">This notebook contains the <b>MODELING</b> of the machine learning algorithms based on the selected features.</p>"
   ]
  },
  {
   "cell_type": "markdown",
   "id": "795ef4f3-ba39-4ae1-9320-d69b7ad69a39",
   "metadata": {},
   "source": [
    "## 1. Libraries"
   ]
  },
  {
   "cell_type": "code",
   "execution_count": 1,
   "id": "5ce77a15-67d2-4d99-b280-3af8eb5f5828",
   "metadata": {
    "tags": []
   },
   "outputs": [],
   "source": [
    "# General\n",
    "import timeit\n",
    "from collections import Counter\n",
    "import pandas as pd\n",
    "import numpy as np\n",
    "from numpy import sqrt \n",
    "import matplotlib.pyplot as plt\n",
    "import seaborn as sns\n",
    "\n",
    "# Scikit-learn ligrary\n",
    "from sklearn.experimental import enable_halving_search_cv\n",
    "from sklearn.model_selection import (train_test_split, StratifiedKFold,\n",
    "                                    KFold, cross_validate, HalvingGridSearchCV)\n",
    "from sklearn.pipeline import make_pipeline\n",
    "from sklearn.compose import make_column_transformer\n",
    "from sklearn.preprocessing import (StandardScaler, OneHotEncoder,\n",
    "                                   OrdinalEncoder, FunctionTransformer)\n",
    "from sklearn.dummy import DummyClassifier\n",
    "from sklearn.linear_model import LogisticRegressionCV\n",
    "from sklearn.ensemble import (RandomForestClassifier, GradientBoostingClassifier,\n",
    "                              IsolationForest)\n",
    "from sklearn.metrics import (roc_auc_score, confusion_matrix,recall_score,\n",
    "                             f1_score, precision_score, ConfusionMatrixDisplay,\n",
    "                             roc_curve, precision_recall_curve, classification_report)\n",
    "\n",
    "# XGBoost ligrary\n",
    "from xgboost import XGBClassifier\n",
    "\n",
    "# Imbalanced-learn ligrary\n",
    "from imblearn.pipeline import Pipeline as imbpipeline\n",
    "from imblearn.over_sampling import SMOTE\n",
    "\n",
    "# Own specific functions \n",
    "from functions import *"
   ]
  },
  {
   "cell_type": "markdown",
   "id": "691c3184-e596-4de4-af4a-0510ce990d0c",
   "metadata": {
    "tags": []
   },
   "source": [
    "## 2. Importing files"
   ]
  },
  {
   "cell_type": "code",
   "execution_count": 2,
   "id": "d4c58285-152b-4e17-9584-6ac0663bec1f",
   "metadata": {},
   "outputs": [],
   "source": [
    "df_students = pd.read_csv(\"datasets/df_students.csv\")"
   ]
  },
  {
   "cell_type": "code",
   "execution_count": 3,
   "id": "80b35b4e-650f-4217-b878-a724e81c260e",
   "metadata": {},
   "outputs": [
    {
     "name": "stdout",
     "output_type": "stream",
     "text": [
      "\n",
      "Analysis header\n",
      "--------------------------------------------------------------------------------\n",
      "- Dataset shape:\t\t\t 311866 rows and 35 columns\n",
      "- Total of NaN values:\t\t\t 183550\n",
      "- Percentage of NaN:\t\t\t 1.68 %\n",
      "- Total of infinite values:\t\t 0\n",
      "- Total of empty columns:\t\t 0\n",
      "- Total of empty rows:\t\t\t 0\n",
      "- Total of full duplicates rows:\t 0\n",
      "- Unique indexes:\t\t\t True\n",
      "- Memory usage:\t\t\t\t 83.3+ MB\n",
      "\n",
      "- The key(s):\t ['PER_ID_AÑO'] is not present multiple times in the dataframe. \n",
      "\t\t It CAN be used as a primary key.\n",
      "\n",
      "\n",
      "Detailed analysis\n",
      "--------------------------------------------------------------------------------\n"
     ]
    },
    {
     "data": {
      "text/html": [
       "<div>\n",
       "<style scoped>\n",
       "    .dataframe tbody tr th:only-of-type {\n",
       "        vertical-align: middle;\n",
       "    }\n",
       "\n",
       "    .dataframe tbody tr th {\n",
       "        vertical-align: top;\n",
       "    }\n",
       "\n",
       "    .dataframe thead th {\n",
       "        text-align: right;\n",
       "    }\n",
       "</style>\n",
       "<table border=\"1\" class=\"dataframe\">\n",
       "  <thead>\n",
       "    <tr style=\"text-align: right;\">\n",
       "      <th></th>\n",
       "      <th>name</th>\n",
       "      <th>type</th>\n",
       "      <th>records</th>\n",
       "      <th>unique</th>\n",
       "      <th># NaN</th>\n",
       "      <th>% NaN</th>\n",
       "      <th>mean</th>\n",
       "      <th>min</th>\n",
       "      <th>25%</th>\n",
       "      <th>50%</th>\n",
       "      <th>75%</th>\n",
       "      <th>max</th>\n",
       "      <th>std</th>\n",
       "    </tr>\n",
       "  </thead>\n",
       "  <tbody>\n",
       "    <tr>\n",
       "      <th>0</th>\n",
       "      <td>AÑO</td>\n",
       "      <td>int64</td>\n",
       "      <td>311866</td>\n",
       "      <td>10</td>\n",
       "      <td>0</td>\n",
       "      <td>0.00000</td>\n",
       "      <td>2017.44093</td>\n",
       "      <td>2013.00000</td>\n",
       "      <td>2015.00000</td>\n",
       "      <td>2017.00000</td>\n",
       "      <td>2020.00000</td>\n",
       "      <td>2022.00000</td>\n",
       "      <td>2.88220</td>\n",
       "    </tr>\n",
       "    <tr>\n",
       "      <th>1</th>\n",
       "      <td>INSTITUCION</td>\n",
       "      <td>object</td>\n",
       "      <td>311866</td>\n",
       "      <td>76</td>\n",
       "      <td>0</td>\n",
       "      <td>0.00000</td>\n",
       "      <td>NaN</td>\n",
       "      <td>NaN</td>\n",
       "      <td>NaN</td>\n",
       "      <td>NaN</td>\n",
       "      <td>NaN</td>\n",
       "      <td>NaN</td>\n",
       "      <td>NaN</td>\n",
       "    </tr>\n",
       "    <tr>\n",
       "      <th>33</th>\n",
       "      <td>INSTITUCION_ESPECIALIDAD_NO_APLICA</td>\n",
       "      <td>int64</td>\n",
       "      <td>311866</td>\n",
       "      <td>2</td>\n",
       "      <td>0</td>\n",
       "      <td>0.00000</td>\n",
       "      <td>0.38291</td>\n",
       "      <td>0.00000</td>\n",
       "      <td>0.00000</td>\n",
       "      <td>0.00000</td>\n",
       "      <td>1.00000</td>\n",
       "      <td>1.00000</td>\n",
       "      <td>0.48610</td>\n",
       "    </tr>\n",
       "    <tr>\n",
       "      <th>32</th>\n",
       "      <td>INSTITUCION_ESPECIALIDAD_INDUSTRIAL</td>\n",
       "      <td>int64</td>\n",
       "      <td>311866</td>\n",
       "      <td>2</td>\n",
       "      <td>0</td>\n",
       "      <td>0.00000</td>\n",
       "      <td>0.63968</td>\n",
       "      <td>0.00000</td>\n",
       "      <td>0.00000</td>\n",
       "      <td>1.00000</td>\n",
       "      <td>1.00000</td>\n",
       "      <td>1.00000</td>\n",
       "      <td>0.48010</td>\n",
       "    </tr>\n",
       "    <tr>\n",
       "      <th>31</th>\n",
       "      <td>INSTITUCION_ESPECIALIDAD_COMERCIAL</td>\n",
       "      <td>int64</td>\n",
       "      <td>311866</td>\n",
       "      <td>2</td>\n",
       "      <td>0</td>\n",
       "      <td>0.00000</td>\n",
       "      <td>0.00878</td>\n",
       "      <td>0.00000</td>\n",
       "      <td>0.00000</td>\n",
       "      <td>0.00000</td>\n",
       "      <td>0.00000</td>\n",
       "      <td>1.00000</td>\n",
       "      <td>0.09327</td>\n",
       "    </tr>\n",
       "    <tr>\n",
       "      <th>30</th>\n",
       "      <td>INSTITUCION_ESPECIALIDAD_AGROPECUARIO</td>\n",
       "      <td>int64</td>\n",
       "      <td>311866</td>\n",
       "      <td>2</td>\n",
       "      <td>0</td>\n",
       "      <td>0.00000</td>\n",
       "      <td>0.07492</td>\n",
       "      <td>0.00000</td>\n",
       "      <td>0.00000</td>\n",
       "      <td>0.00000</td>\n",
       "      <td>0.00000</td>\n",
       "      <td>1.00000</td>\n",
       "      <td>0.26327</td>\n",
       "    </tr>\n",
       "    <tr>\n",
       "      <th>29</th>\n",
       "      <td>INSTITUCION_ESPECIALIDAD_ACADÉMICA</td>\n",
       "      <td>int64</td>\n",
       "      <td>311866</td>\n",
       "      <td>2</td>\n",
       "      <td>0</td>\n",
       "      <td>0.00000</td>\n",
       "      <td>0.90453</td>\n",
       "      <td>0.00000</td>\n",
       "      <td>1.00000</td>\n",
       "      <td>1.00000</td>\n",
       "      <td>1.00000</td>\n",
       "      <td>1.00000</td>\n",
       "      <td>0.29386</td>\n",
       "    </tr>\n",
       "    <tr>\n",
       "      <th>28</th>\n",
       "      <td>INSTITUCION_NIVEL_PRIMERA_INFANCIA</td>\n",
       "      <td>int64</td>\n",
       "      <td>311866</td>\n",
       "      <td>2</td>\n",
       "      <td>0</td>\n",
       "      <td>0.00000</td>\n",
       "      <td>0.10307</td>\n",
       "      <td>0.00000</td>\n",
       "      <td>0.00000</td>\n",
       "      <td>0.00000</td>\n",
       "      <td>0.00000</td>\n",
       "      <td>1.00000</td>\n",
       "      <td>0.30405</td>\n",
       "    </tr>\n",
       "    <tr>\n",
       "      <th>27</th>\n",
       "      <td>INSTITUCION_NIVEL_PREESCOLAR</td>\n",
       "      <td>int64</td>\n",
       "      <td>311866</td>\n",
       "      <td>2</td>\n",
       "      <td>0</td>\n",
       "      <td>0.00000</td>\n",
       "      <td>0.96091</td>\n",
       "      <td>0.00000</td>\n",
       "      <td>1.00000</td>\n",
       "      <td>1.00000</td>\n",
       "      <td>1.00000</td>\n",
       "      <td>1.00000</td>\n",
       "      <td>0.19382</td>\n",
       "    </tr>\n",
       "    <tr>\n",
       "      <th>26</th>\n",
       "      <td>INSTITUCION_NIVEL_MEDIA</td>\n",
       "      <td>int64</td>\n",
       "      <td>311866</td>\n",
       "      <td>2</td>\n",
       "      <td>0</td>\n",
       "      <td>0.00000</td>\n",
       "      <td>0.94293</td>\n",
       "      <td>0.00000</td>\n",
       "      <td>1.00000</td>\n",
       "      <td>1.00000</td>\n",
       "      <td>1.00000</td>\n",
       "      <td>1.00000</td>\n",
       "      <td>0.23198</td>\n",
       "    </tr>\n",
       "    <tr>\n",
       "      <th>25</th>\n",
       "      <td>INSTITUCION_NIVEL_SECUNDARIA_PRIMARIA</td>\n",
       "      <td>int64</td>\n",
       "      <td>311866</td>\n",
       "      <td>2</td>\n",
       "      <td>0</td>\n",
       "      <td>0.00000</td>\n",
       "      <td>0.94667</td>\n",
       "      <td>0.00000</td>\n",
       "      <td>1.00000</td>\n",
       "      <td>1.00000</td>\n",
       "      <td>1.00000</td>\n",
       "      <td>1.00000</td>\n",
       "      <td>0.22470</td>\n",
       "    </tr>\n",
       "    <tr>\n",
       "      <th>24</th>\n",
       "      <td>INSTITUCION_NIVEL_BASICA_PRIMARIA</td>\n",
       "      <td>int64</td>\n",
       "      <td>311866</td>\n",
       "      <td>2</td>\n",
       "      <td>0</td>\n",
       "      <td>0.00000</td>\n",
       "      <td>0.98260</td>\n",
       "      <td>0.00000</td>\n",
       "      <td>1.00000</td>\n",
       "      <td>1.00000</td>\n",
       "      <td>1.00000</td>\n",
       "      <td>1.00000</td>\n",
       "      <td>0.13076</td>\n",
       "    </tr>\n",
       "    <tr>\n",
       "      <th>23</th>\n",
       "      <td>INSTITUCION_TAMAÑO</td>\n",
       "      <td>object</td>\n",
       "      <td>311866</td>\n",
       "      <td>3</td>\n",
       "      <td>0</td>\n",
       "      <td>0.00000</td>\n",
       "      <td>NaN</td>\n",
       "      <td>NaN</td>\n",
       "      <td>NaN</td>\n",
       "      <td>NaN</td>\n",
       "      <td>NaN</td>\n",
       "      <td>NaN</td>\n",
       "      <td>NaN</td>\n",
       "    </tr>\n",
       "    <tr>\n",
       "      <th>22</th>\n",
       "      <td>INSTITUCION_PRESTADOR_DE_SERVICIO</td>\n",
       "      <td>object</td>\n",
       "      <td>311866</td>\n",
       "      <td>4</td>\n",
       "      <td>0</td>\n",
       "      <td>0.00000</td>\n",
       "      <td>NaN</td>\n",
       "      <td>NaN</td>\n",
       "      <td>NaN</td>\n",
       "      <td>NaN</td>\n",
       "      <td>NaN</td>\n",
       "      <td>NaN</td>\n",
       "      <td>NaN</td>\n",
       "    </tr>\n",
       "    <tr>\n",
       "      <th>19</th>\n",
       "      <td>INSTITUCION_ESTADO</td>\n",
       "      <td>object</td>\n",
       "      <td>311866</td>\n",
       "      <td>3</td>\n",
       "      <td>0</td>\n",
       "      <td>0.00000</td>\n",
       "      <td>NaN</td>\n",
       "      <td>NaN</td>\n",
       "      <td>NaN</td>\n",
       "      <td>NaN</td>\n",
       "      <td>NaN</td>\n",
       "      <td>NaN</td>\n",
       "      <td>NaN</td>\n",
       "    </tr>\n",
       "    <tr>\n",
       "      <th>18</th>\n",
       "      <td>INSTITUCION_NUMERO_DE_SEDES</td>\n",
       "      <td>float64</td>\n",
       "      <td>311866</td>\n",
       "      <td>8</td>\n",
       "      <td>0</td>\n",
       "      <td>0.00000</td>\n",
       "      <td>3.36785</td>\n",
       "      <td>1.00000</td>\n",
       "      <td>1.00000</td>\n",
       "      <td>3.00000</td>\n",
       "      <td>5.00000</td>\n",
       "      <td>8.00000</td>\n",
       "      <td>2.31163</td>\n",
       "    </tr>\n",
       "    <tr>\n",
       "      <th>17</th>\n",
       "      <td>INSTITUCION_CARACTER</td>\n",
       "      <td>object</td>\n",
       "      <td>311866</td>\n",
       "      <td>3</td>\n",
       "      <td>0</td>\n",
       "      <td>0.00000</td>\n",
       "      <td>NaN</td>\n",
       "      <td>NaN</td>\n",
       "      <td>NaN</td>\n",
       "      <td>NaN</td>\n",
       "      <td>NaN</td>\n",
       "      <td>NaN</td>\n",
       "      <td>NaN</td>\n",
       "    </tr>\n",
       "    <tr>\n",
       "      <th>16</th>\n",
       "      <td>INSTITUCION_ZONA</td>\n",
       "      <td>object</td>\n",
       "      <td>311866</td>\n",
       "      <td>3</td>\n",
       "      <td>0</td>\n",
       "      <td>0.00000</td>\n",
       "      <td>NaN</td>\n",
       "      <td>NaN</td>\n",
       "      <td>NaN</td>\n",
       "      <td>NaN</td>\n",
       "      <td>NaN</td>\n",
       "      <td>NaN</td>\n",
       "      <td>NaN</td>\n",
       "    </tr>\n",
       "    <tr>\n",
       "      <th>15</th>\n",
       "      <td>INSTITUCION_APOYO_ACADEMICO_ESPECIAL</td>\n",
       "      <td>object</td>\n",
       "      <td>311866</td>\n",
       "      <td>5</td>\n",
       "      <td>0</td>\n",
       "      <td>0.00000</td>\n",
       "      <td>NaN</td>\n",
       "      <td>NaN</td>\n",
       "      <td>NaN</td>\n",
       "      <td>NaN</td>\n",
       "      <td>NaN</td>\n",
       "      <td>NaN</td>\n",
       "      <td>NaN</td>\n",
       "    </tr>\n",
       "    <tr>\n",
       "      <th>2</th>\n",
       "      <td>PER_ID_AÑO</td>\n",
       "      <td>int64</td>\n",
       "      <td>311866</td>\n",
       "      <td>311866</td>\n",
       "      <td>0</td>\n",
       "      <td>0.00000</td>\n",
       "      <td>571503249762.11316</td>\n",
       "      <td>5918562017.00000</td>\n",
       "      <td>423536512014.75000</td>\n",
       "      <td>612837832016.50000</td>\n",
       "      <td>696745972019.75000</td>\n",
       "      <td>844002412022.00000</td>\n",
       "      <td>155156417700.33472</td>\n",
       "    </tr>\n",
       "    <tr>\n",
       "      <th>3</th>\n",
       "      <td>PER_ID</td>\n",
       "      <td>int64</td>\n",
       "      <td>311866</td>\n",
       "      <td>73584</td>\n",
       "      <td>0</td>\n",
       "      <td>0.00000</td>\n",
       "      <td>57150324.77447</td>\n",
       "      <td>591856.00000</td>\n",
       "      <td>42353651.00000</td>\n",
       "      <td>61283783.00000</td>\n",
       "      <td>69674597.00000</td>\n",
       "      <td>84400241.00000</td>\n",
       "      <td>15515641.76989</td>\n",
       "    </tr>\n",
       "    <tr>\n",
       "      <th>4</th>\n",
       "      <td>EDAD</td>\n",
       "      <td>int64</td>\n",
       "      <td>311866</td>\n",
       "      <td>99</td>\n",
       "      <td>0</td>\n",
       "      <td>0.00000</td>\n",
       "      <td>16.83950</td>\n",
       "      <td>3.00000</td>\n",
       "      <td>12.00000</td>\n",
       "      <td>16.00000</td>\n",
       "      <td>20.00000</td>\n",
       "      <td>102.00000</td>\n",
       "      <td>7.91173</td>\n",
       "    </tr>\n",
       "    <tr>\n",
       "      <th>5</th>\n",
       "      <td>GENERO</td>\n",
       "      <td>object</td>\n",
       "      <td>311866</td>\n",
       "      <td>2</td>\n",
       "      <td>0</td>\n",
       "      <td>0.00000</td>\n",
       "      <td>NaN</td>\n",
       "      <td>NaN</td>\n",
       "      <td>NaN</td>\n",
       "      <td>NaN</td>\n",
       "      <td>NaN</td>\n",
       "      <td>NaN</td>\n",
       "      <td>NaN</td>\n",
       "    </tr>\n",
       "    <tr>\n",
       "      <th>6</th>\n",
       "      <td>GRADO_COD</td>\n",
       "      <td>float64</td>\n",
       "      <td>311866</td>\n",
       "      <td>22</td>\n",
       "      <td>0</td>\n",
       "      <td>0.00000</td>\n",
       "      <td>7.22984</td>\n",
       "      <td>-2.00000</td>\n",
       "      <td>3.00000</td>\n",
       "      <td>6.00000</td>\n",
       "      <td>9.00000</td>\n",
       "      <td>26.00000</td>\n",
       "      <td>6.63487</td>\n",
       "    </tr>\n",
       "    <tr>\n",
       "      <th>7</th>\n",
       "      <td>JORNADA</td>\n",
       "      <td>object</td>\n",
       "      <td>311866</td>\n",
       "      <td>6</td>\n",
       "      <td>0</td>\n",
       "      <td>0.00000</td>\n",
       "      <td>NaN</td>\n",
       "      <td>NaN</td>\n",
       "      <td>NaN</td>\n",
       "      <td>NaN</td>\n",
       "      <td>NaN</td>\n",
       "      <td>NaN</td>\n",
       "      <td>NaN</td>\n",
       "    </tr>\n",
       "    <tr>\n",
       "      <th>8</th>\n",
       "      <td>ESTADO</td>\n",
       "      <td>int64</td>\n",
       "      <td>311866</td>\n",
       "      <td>2</td>\n",
       "      <td>0</td>\n",
       "      <td>0.00000</td>\n",
       "      <td>0.06534</td>\n",
       "      <td>0.00000</td>\n",
       "      <td>0.00000</td>\n",
       "      <td>0.00000</td>\n",
       "      <td>0.00000</td>\n",
       "      <td>1.00000</td>\n",
       "      <td>0.24712</td>\n",
       "    </tr>\n",
       "    <tr>\n",
       "      <th>9</th>\n",
       "      <td>ESTRATO</td>\n",
       "      <td>object</td>\n",
       "      <td>311866</td>\n",
       "      <td>7</td>\n",
       "      <td>0</td>\n",
       "      <td>0.00000</td>\n",
       "      <td>NaN</td>\n",
       "      <td>NaN</td>\n",
       "      <td>NaN</td>\n",
       "      <td>NaN</td>\n",
       "      <td>NaN</td>\n",
       "      <td>NaN</td>\n",
       "      <td>NaN</td>\n",
       "    </tr>\n",
       "    <tr>\n",
       "      <th>10</th>\n",
       "      <td>PAIS_ORIGEN</td>\n",
       "      <td>object</td>\n",
       "      <td>311866</td>\n",
       "      <td>25</td>\n",
       "      <td>0</td>\n",
       "      <td>0.00000</td>\n",
       "      <td>NaN</td>\n",
       "      <td>NaN</td>\n",
       "      <td>NaN</td>\n",
       "      <td>NaN</td>\n",
       "      <td>NaN</td>\n",
       "      <td>NaN</td>\n",
       "      <td>NaN</td>\n",
       "    </tr>\n",
       "    <tr>\n",
       "      <th>11</th>\n",
       "      <td>DISCAPACIDAD</td>\n",
       "      <td>object</td>\n",
       "      <td>311866</td>\n",
       "      <td>18</td>\n",
       "      <td>0</td>\n",
       "      <td>0.00000</td>\n",
       "      <td>NaN</td>\n",
       "      <td>NaN</td>\n",
       "      <td>NaN</td>\n",
       "      <td>NaN</td>\n",
       "      <td>NaN</td>\n",
       "      <td>NaN</td>\n",
       "      <td>NaN</td>\n",
       "    </tr>\n",
       "    <tr>\n",
       "      <th>12</th>\n",
       "      <td>SRPA</td>\n",
       "      <td>object</td>\n",
       "      <td>311866</td>\n",
       "      <td>3</td>\n",
       "      <td>0</td>\n",
       "      <td>0.00000</td>\n",
       "      <td>NaN</td>\n",
       "      <td>NaN</td>\n",
       "      <td>NaN</td>\n",
       "      <td>NaN</td>\n",
       "      <td>NaN</td>\n",
       "      <td>NaN</td>\n",
       "      <td>NaN</td>\n",
       "    </tr>\n",
       "    <tr>\n",
       "      <th>13</th>\n",
       "      <td>INSTITUCION_SECTOR</td>\n",
       "      <td>object</td>\n",
       "      <td>311866</td>\n",
       "      <td>2</td>\n",
       "      <td>0</td>\n",
       "      <td>0.00000</td>\n",
       "      <td>NaN</td>\n",
       "      <td>NaN</td>\n",
       "      <td>NaN</td>\n",
       "      <td>NaN</td>\n",
       "      <td>NaN</td>\n",
       "      <td>NaN</td>\n",
       "      <td>NaN</td>\n",
       "    </tr>\n",
       "    <tr>\n",
       "      <th>14</th>\n",
       "      <td>INSTITUCION_MODELO</td>\n",
       "      <td>object</td>\n",
       "      <td>311866</td>\n",
       "      <td>14</td>\n",
       "      <td>0</td>\n",
       "      <td>0.00000</td>\n",
       "      <td>NaN</td>\n",
       "      <td>NaN</td>\n",
       "      <td>NaN</td>\n",
       "      <td>NaN</td>\n",
       "      <td>NaN</td>\n",
       "      <td>NaN</td>\n",
       "      <td>NaN</td>\n",
       "    </tr>\n",
       "    <tr>\n",
       "      <th>34</th>\n",
       "      <td>INSTITUCION_ESPECIALIDAD_OTRO</td>\n",
       "      <td>int64</td>\n",
       "      <td>311866</td>\n",
       "      <td>2</td>\n",
       "      <td>0</td>\n",
       "      <td>0.00000</td>\n",
       "      <td>0.73458</td>\n",
       "      <td>0.00000</td>\n",
       "      <td>0.00000</td>\n",
       "      <td>1.00000</td>\n",
       "      <td>1.00000</td>\n",
       "      <td>1.00000</td>\n",
       "      <td>0.44156</td>\n",
       "    </tr>\n",
       "    <tr>\n",
       "      <th>21</th>\n",
       "      <td>INSTITUCION_LONGITUD</td>\n",
       "      <td>object</td>\n",
       "      <td>220091</td>\n",
       "      <td>16</td>\n",
       "      <td>91775</td>\n",
       "      <td>29.43000</td>\n",
       "      <td>NaN</td>\n",
       "      <td>NaN</td>\n",
       "      <td>NaN</td>\n",
       "      <td>NaN</td>\n",
       "      <td>NaN</td>\n",
       "      <td>NaN</td>\n",
       "      <td>NaN</td>\n",
       "    </tr>\n",
       "    <tr>\n",
       "      <th>20</th>\n",
       "      <td>INSTITUCION_LATITUDE</td>\n",
       "      <td>object</td>\n",
       "      <td>220091</td>\n",
       "      <td>16</td>\n",
       "      <td>91775</td>\n",
       "      <td>29.43000</td>\n",
       "      <td>NaN</td>\n",
       "      <td>NaN</td>\n",
       "      <td>NaN</td>\n",
       "      <td>NaN</td>\n",
       "      <td>NaN</td>\n",
       "      <td>NaN</td>\n",
       "      <td>NaN</td>\n",
       "    </tr>\n",
       "  </tbody>\n",
       "</table>\n",
       "</div>"
      ],
      "text/plain": [
       "                                     name     type  records  unique  # NaN  \\\n",
       "0                                     AÑO    int64   311866      10      0   \n",
       "1                             INSTITUCION   object   311866      76      0   \n",
       "33     INSTITUCION_ESPECIALIDAD_NO_APLICA    int64   311866       2      0   \n",
       "32    INSTITUCION_ESPECIALIDAD_INDUSTRIAL    int64   311866       2      0   \n",
       "31     INSTITUCION_ESPECIALIDAD_COMERCIAL    int64   311866       2      0   \n",
       "30  INSTITUCION_ESPECIALIDAD_AGROPECUARIO    int64   311866       2      0   \n",
       "29     INSTITUCION_ESPECIALIDAD_ACADÉMICA    int64   311866       2      0   \n",
       "28     INSTITUCION_NIVEL_PRIMERA_INFANCIA    int64   311866       2      0   \n",
       "27           INSTITUCION_NIVEL_PREESCOLAR    int64   311866       2      0   \n",
       "26                INSTITUCION_NIVEL_MEDIA    int64   311866       2      0   \n",
       "25  INSTITUCION_NIVEL_SECUNDARIA_PRIMARIA    int64   311866       2      0   \n",
       "24      INSTITUCION_NIVEL_BASICA_PRIMARIA    int64   311866       2      0   \n",
       "23                     INSTITUCION_TAMAÑO   object   311866       3      0   \n",
       "22      INSTITUCION_PRESTADOR_DE_SERVICIO   object   311866       4      0   \n",
       "19                     INSTITUCION_ESTADO   object   311866       3      0   \n",
       "18            INSTITUCION_NUMERO_DE_SEDES  float64   311866       8      0   \n",
       "17                   INSTITUCION_CARACTER   object   311866       3      0   \n",
       "16                       INSTITUCION_ZONA   object   311866       3      0   \n",
       "15   INSTITUCION_APOYO_ACADEMICO_ESPECIAL   object   311866       5      0   \n",
       "2                              PER_ID_AÑO    int64   311866  311866      0   \n",
       "3                                  PER_ID    int64   311866   73584      0   \n",
       "4                                    EDAD    int64   311866      99      0   \n",
       "5                                  GENERO   object   311866       2      0   \n",
       "6                               GRADO_COD  float64   311866      22      0   \n",
       "7                                 JORNADA   object   311866       6      0   \n",
       "8                                  ESTADO    int64   311866       2      0   \n",
       "9                                 ESTRATO   object   311866       7      0   \n",
       "10                            PAIS_ORIGEN   object   311866      25      0   \n",
       "11                           DISCAPACIDAD   object   311866      18      0   \n",
       "12                                   SRPA   object   311866       3      0   \n",
       "13                     INSTITUCION_SECTOR   object   311866       2      0   \n",
       "14                     INSTITUCION_MODELO   object   311866      14      0   \n",
       "34          INSTITUCION_ESPECIALIDAD_OTRO    int64   311866       2      0   \n",
       "21                   INSTITUCION_LONGITUD   object   220091      16  91775   \n",
       "20                   INSTITUCION_LATITUDE   object   220091      16  91775   \n",
       "\n",
       "      % NaN               mean              min                25%  \\\n",
       "0   0.00000         2017.44093       2013.00000         2015.00000   \n",
       "1   0.00000                NaN              NaN                NaN   \n",
       "33  0.00000            0.38291          0.00000            0.00000   \n",
       "32  0.00000            0.63968          0.00000            0.00000   \n",
       "31  0.00000            0.00878          0.00000            0.00000   \n",
       "30  0.00000            0.07492          0.00000            0.00000   \n",
       "29  0.00000            0.90453          0.00000            1.00000   \n",
       "28  0.00000            0.10307          0.00000            0.00000   \n",
       "27  0.00000            0.96091          0.00000            1.00000   \n",
       "26  0.00000            0.94293          0.00000            1.00000   \n",
       "25  0.00000            0.94667          0.00000            1.00000   \n",
       "24  0.00000            0.98260          0.00000            1.00000   \n",
       "23  0.00000                NaN              NaN                NaN   \n",
       "22  0.00000                NaN              NaN                NaN   \n",
       "19  0.00000                NaN              NaN                NaN   \n",
       "18  0.00000            3.36785          1.00000            1.00000   \n",
       "17  0.00000                NaN              NaN                NaN   \n",
       "16  0.00000                NaN              NaN                NaN   \n",
       "15  0.00000                NaN              NaN                NaN   \n",
       "2   0.00000 571503249762.11316 5918562017.00000 423536512014.75000   \n",
       "3   0.00000     57150324.77447     591856.00000     42353651.00000   \n",
       "4   0.00000           16.83950          3.00000           12.00000   \n",
       "5   0.00000                NaN              NaN                NaN   \n",
       "6   0.00000            7.22984         -2.00000            3.00000   \n",
       "7   0.00000                NaN              NaN                NaN   \n",
       "8   0.00000            0.06534          0.00000            0.00000   \n",
       "9   0.00000                NaN              NaN                NaN   \n",
       "10  0.00000                NaN              NaN                NaN   \n",
       "11  0.00000                NaN              NaN                NaN   \n",
       "12  0.00000                NaN              NaN                NaN   \n",
       "13  0.00000                NaN              NaN                NaN   \n",
       "14  0.00000                NaN              NaN                NaN   \n",
       "34  0.00000            0.73458          0.00000            0.00000   \n",
       "21 29.43000                NaN              NaN                NaN   \n",
       "20 29.43000                NaN              NaN                NaN   \n",
       "\n",
       "                  50%                75%                max                std  \n",
       "0          2017.00000         2020.00000         2022.00000            2.88220  \n",
       "1                 NaN                NaN                NaN                NaN  \n",
       "33            0.00000            1.00000            1.00000            0.48610  \n",
       "32            1.00000            1.00000            1.00000            0.48010  \n",
       "31            0.00000            0.00000            1.00000            0.09327  \n",
       "30            0.00000            0.00000            1.00000            0.26327  \n",
       "29            1.00000            1.00000            1.00000            0.29386  \n",
       "28            0.00000            0.00000            1.00000            0.30405  \n",
       "27            1.00000            1.00000            1.00000            0.19382  \n",
       "26            1.00000            1.00000            1.00000            0.23198  \n",
       "25            1.00000            1.00000            1.00000            0.22470  \n",
       "24            1.00000            1.00000            1.00000            0.13076  \n",
       "23                NaN                NaN                NaN                NaN  \n",
       "22                NaN                NaN                NaN                NaN  \n",
       "19                NaN                NaN                NaN                NaN  \n",
       "18            3.00000            5.00000            8.00000            2.31163  \n",
       "17                NaN                NaN                NaN                NaN  \n",
       "16                NaN                NaN                NaN                NaN  \n",
       "15                NaN                NaN                NaN                NaN  \n",
       "2  612837832016.50000 696745972019.75000 844002412022.00000 155156417700.33472  \n",
       "3      61283783.00000     69674597.00000     84400241.00000     15515641.76989  \n",
       "4            16.00000           20.00000          102.00000            7.91173  \n",
       "5                 NaN                NaN                NaN                NaN  \n",
       "6             6.00000            9.00000           26.00000            6.63487  \n",
       "7                 NaN                NaN                NaN                NaN  \n",
       "8             0.00000            0.00000            1.00000            0.24712  \n",
       "9                 NaN                NaN                NaN                NaN  \n",
       "10                NaN                NaN                NaN                NaN  \n",
       "11                NaN                NaN                NaN                NaN  \n",
       "12                NaN                NaN                NaN                NaN  \n",
       "13                NaN                NaN                NaN                NaN  \n",
       "14                NaN                NaN                NaN                NaN  \n",
       "34            1.00000            1.00000            1.00000            0.44156  \n",
       "21                NaN                NaN                NaN                NaN  \n",
       "20                NaN                NaN                NaN                NaN  "
      ]
     },
     "metadata": {},
     "output_type": "display_data"
    }
   ],
   "source": [
    "df_analysis(df_students, key_columns=[\"PER_ID_AÑO\"], analysis_type=\"complete\")"
   ]
  },
  {
   "cell_type": "markdown",
   "id": "d6def296-b285-457e-8409-2882e59dd27c",
   "metadata": {
    "tags": []
   },
   "source": [
    "## 3. Analyzing target variable"
   ]
  },
  {
   "cell_type": "code",
   "execution_count": 4,
   "id": "1f37e0e7-2bae-4c5e-9d35-ef945b434e84",
   "metadata": {},
   "outputs": [
    {
     "data": {
      "image/png": "[encoded data removed]",
      "text/plain": [
       "<Figure size 720x360 with 2 Axes>"
      ]
     },
     "metadata": {
      "needs_background": "light"
     },
     "output_type": "display_data"
    }
   ],
   "source": [
    "barplot_and_pie(df_students[\"ESTADO\"], \"Número de estudiantes por estado\", \"\")"
   ]
  },
  {
   "cell_type": "markdown",
   "id": "858197c5-3ef6-4fc3-986f-36f6f4957b21",
   "metadata": {
    "tags": []
   },
   "source": [
    "<div class=\"alert alert-block alert-warning\">\n",
    "    <p><b>Observations</b></p>\n",
    "    <p>Based on the plot, we can say that we are facing an imbalanced classification problem</p>\n",
    "\n",
    "</div>"
   ]
  },
  {
   "cell_type": "markdown",
   "id": "32537e6c-f069-4c36-bfb8-e111e1348fb8",
   "metadata": {
    "tags": []
   },
   "source": [
    "## 4. Splitting data"
   ]
  },
  {
   "cell_type": "markdown",
   "id": "da6c5f74-ace1-4c6f-b6bd-a1d4d58a886b",
   "metadata": {},
   "source": [
    "First of all, we are going to separate the data to predict (2022) from the data to do the training (from 2013 to 2021)"
   ]
  },
  {
   "cell_type": "code",
   "execution_count": 5,
   "id": "377dde09-1a35-4769-8a3c-96daccfef4e8",
   "metadata": {},
   "outputs": [],
   "source": [
    "df_students_2022 = df_students[df_students[\"AÑO\"]==2022].copy()\n",
    "df_students_2022[\"ESTADO\"] = np.NaN\n",
    "\n",
    "df_students = df_students[df_students[\"AÑO\"]!=2022].copy()"
   ]
  },
  {
   "cell_type": "markdown",
   "id": "248bc89f-9e90-4bb8-a343-02edbc9a1108",
   "metadata": {},
   "source": [
    "Now, we are let's identify the training columns in the dataset"
   ]
  },
  {
   "cell_type": "code",
   "execution_count": 6,
   "id": "a28f2c60-fdb1-4d25-bc27-50dc63f827c3",
   "metadata": {},
   "outputs": [],
   "source": [
    "NOT_TRAINING_COLUMNS = [\n",
    "    \"ESTADO\", \"AÑO\", \"PER_ID_AÑO\", \"PER_ID\", \"INSTITUCION_LATITUDE\", \"INSTITUCION_LONGITUD\",\n",
    "]\n",
    "\n",
    "TRAINING_COLUMNS = [col for col in df_students if col not in NOT_TRAINING_COLUMNS]"
   ]
  },
  {
   "cell_type": "markdown",
   "id": "2abfa4bd-eb2a-4d98-bb2a-c869eea69e43",
   "metadata": {},
   "source": [
    "Let's proced to split the data"
   ]
  },
  {
   "cell_type": "code",
   "execution_count": 7,
   "id": "b93204de-db4d-4753-bbc3-c4bd68d82c63",
   "metadata": {},
   "outputs": [],
   "source": [
    "X = df_students[TRAINING_COLUMNS].copy()"
   ]
  },
  {
   "cell_type": "code",
   "execution_count": 8,
   "id": "c6f73777-8bc2-4589-8aaf-c36b77035cdd",
   "metadata": {},
   "outputs": [],
   "source": [
    "y_target = df_students.loc[:, \"ESTADO\"]"
   ]
  },
  {
   "cell_type": "code",
   "execution_count": 9,
   "id": "e48c1257-1069-4d15-83b9-bc602daaf57a",
   "metadata": {},
   "outputs": [],
   "source": [
    "X_train, X_test, y_train, y_test = train_test_split(X, y_target, test_size=0.2,\n",
    "                                                    stratify=y_target, random_state=42)"
   ]
  },
  {
   "cell_type": "code",
   "execution_count": 10,
   "id": "b5316896-d911-4958-876b-a093548b6e88",
   "metadata": {},
   "outputs": [
    {
     "name": "stdout",
     "output_type": "stream",
     "text": [
      "X_train: (224949, 29)\n",
      "y_train: (224949,)\n",
      "------------------------------\n",
      "X_test: (56238, 29)\n",
      "y_test: (56238,)\n"
     ]
    }
   ],
   "source": [
    "print(\"X_train: {}\".format(X_train.shape))\n",
    "print(\"y_train: {}\".format(y_train.shape))\n",
    "print(30*\"-\")\n",
    "print(\"X_test: {}\".format(X_test.shape))\n",
    "print(\"y_test: {}\".format(y_test.shape))"
   ]
  },
  {
   "cell_type": "markdown",
   "id": "273ccf02-85c5-4a75-8050-9a71d66fc573",
   "metadata": {
    "tags": []
   },
   "source": [
    "## 5. Data preprocessing"
   ]
  },
  {
   "cell_type": "code",
   "execution_count": 11,
   "id": "c6ddb020-5c51-4a85-b299-cbe82430744a",
   "metadata": {},
   "outputs": [],
   "source": [
    "def boolean_transformation(X):\n",
    "    return X.astype(int)"
   ]
  },
  {
   "cell_type": "code",
   "execution_count": 12,
   "id": "f32f7e73-509f-4016-8c42-34ba9eda2a49",
   "metadata": {},
   "outputs": [
    {
     "data": {
      "text/plain": [
       "Index(['INSTITUCION', 'EDAD', 'GENERO', 'GRADO_COD', 'JORNADA', 'ESTRATO',\n",
       "       'PAIS_ORIGEN', 'DISCAPACIDAD', 'SRPA', 'INSTITUCION_SECTOR',\n",
       "       'INSTITUCION_MODELO', 'INSTITUCION_APOYO_ACADEMICO_ESPECIAL',\n",
       "       'INSTITUCION_ZONA', 'INSTITUCION_CARACTER',\n",
       "       'INSTITUCION_NUMERO_DE_SEDES', 'INSTITUCION_ESTADO',\n",
       "       'INSTITUCION_PRESTADOR_DE_SERVICIO', 'INSTITUCION_TAMAÑO',\n",
       "       'INSTITUCION_NIVEL_BASICA_PRIMARIA',\n",
       "       'INSTITUCION_NIVEL_SECUNDARIA_PRIMARIA', 'INSTITUCION_NIVEL_MEDIA',\n",
       "       'INSTITUCION_NIVEL_PREESCOLAR', 'INSTITUCION_NIVEL_PRIMERA_INFANCIA',\n",
       "       'INSTITUCION_ESPECIALIDAD_ACADÉMICA',\n",
       "       'INSTITUCION_ESPECIALIDAD_AGROPECUARIO',\n",
       "       'INSTITUCION_ESPECIALIDAD_COMERCIAL',\n",
       "       'INSTITUCION_ESPECIALIDAD_INDUSTRIAL',\n",
       "       'INSTITUCION_ESPECIALIDAD_NO_APLICA', 'INSTITUCION_ESPECIALIDAD_OTRO'],\n",
       "      dtype='object')"
      ]
     },
     "execution_count": 12,
     "metadata": {},
     "output_type": "execute_result"
    }
   ],
   "source": [
    "X_train.columns"
   ]
  },
  {
   "cell_type": "code",
   "execution_count": 13,
   "id": "c8c38443-56c7-410d-af04-15c1b296c044",
   "metadata": {},
   "outputs": [],
   "source": [
    "CATEGORICAL_FEATURES = [\n",
    "    \"INSTITUCION\", \"GENERO\", \"JORNADA\", \"PAIS_ORIGEN\", \"DISCAPACIDAD\", \"SRPA\", \"INSTITUCION_SECTOR\",\n",
    "    \"INSTITUCION_MODELO\", \"INSTITUCION_APOYO_ACADEMICO_ESPECIAL\", \"INSTITUCION_ZONA\", \"INSTITUCION_CARACTER\",\n",
    "    \"INSTITUCION_ESTADO\", \"INSTITUCION_PRESTADOR_DE_SERVICIO\"\n",
    "]\n",
    "ORDINAL_FEATURES = [\n",
    "    \"ESTRATO\", \"INSTITUCION_TAMAÑO\"\n",
    "]\n",
    "ORDINAL_FEATURES = [\n",
    "    \"GRADO_COD\", \"ESTRATO\", \"INSTITUCION_TAMAÑO\"\n",
    "]\n",
    "NUMERICAL_FEATURES = [\n",
    "    \"EDAD\", \"INSTITUCION_NUMERO_DE_SEDES\"\n",
    "]\n",
    "BOOLEAN_FEATURES = [\n",
    "    \"INSTITUCION_NIVEL_BASICA_PRIMARIA\", \"INSTITUCION_NIVEL_SECUNDARIA_PRIMARIA\", \"INSTITUCION_NIVEL_MEDIA\",\n",
    "    \"INSTITUCION_NIVEL_PREESCOLAR\", \"INSTITUCION_NIVEL_PRIMERA_INFANCIA\", \"INSTITUCION_ESPECIALIDAD_ACADÉMICA\", \n",
    "    \"INSTITUCION_ESPECIALIDAD_AGROPECUARIO\", \"INSTITUCION_ESPECIALIDAD_COMERCIAL\", \n",
    "    \"INSTITUCION_ESPECIALIDAD_INDUSTRIAL\", \"INSTITUCION_ESPECIALIDAD_NO_APLICA\",\n",
    "    \"INSTITUCION_ESPECIALIDAD_OTRO\"\n",
    "]"
   ]
  },
  {
   "cell_type": "code",
   "execution_count": 14,
   "id": "c77bda53-435f-4fdf-9a63-5612edc6f69b",
   "metadata": {},
   "outputs": [],
   "source": [
    "categorical_pipeline = make_pipeline(OneHotEncoder(handle_unknown=\"ignore\"))\n",
    "\n",
    "ordinal_pipeline = make_pipeline(OrdinalEncoder(categories=[\n",
    "    [-2.0, -1.0, 0.0, 1.0, 2.0, 3.0, 4.0, 5.0, 6.0, 7.0, 8.0, 9.0, 10.0, 11.0, 12.0, 20.0, 21.0, 22.0, 23.0, 24.0, 25.0, 26.0],\n",
    "    ['ESTRATO 0', 'ESTRATO 1', 'ESTRATO 2', 'ESTRATO 3', 'ESTRATO 4', 'ESTRATO 5', 'ESTRATO 6'],\n",
    "    ['Pequeña', 'Mediana',  'Grande']\n",
    "]))\n",
    "\n",
    "numerical_pipeline = make_pipeline(StandardScaler())\n",
    "\n",
    "boolean_pipeline = make_pipeline(FunctionTransformer(boolean_transformation))"
   ]
  },
  {
   "cell_type": "code",
   "execution_count": 15,
   "id": "bbc65f6e-b5e8-4e9d-96cc-1d44e04b8ca3",
   "metadata": {},
   "outputs": [],
   "source": [
    "preprocessor = make_column_transformer(\n",
    "    (categorical_pipeline, CATEGORICAL_FEATURES),\n",
    "    (ordinal_pipeline, ORDINAL_FEATURES),\n",
    "    (numerical_pipeline, NUMERICAL_FEATURES),\n",
    "    (boolean_pipeline, BOOLEAN_FEATURES)\n",
    ")"
   ]
  },
  {
   "cell_type": "markdown",
   "id": "9b1400c0-1acb-444e-8844-729045fd1516",
   "metadata": {
    "tags": []
   },
   "source": [
    "## 6. Modelisation initial"
   ]
  },
  {
   "cell_type": "markdown",
   "id": "cc209347-a0ba-49e9-bcfc-c6f2eda02c16",
   "metadata": {},
   "source": [
    "we are going to use five models\n",
    "\n",
    "- Logistic Regression\n",
    "- Random Forest\n",
    "- Gradient Boosting\n",
    "- XGBoost \n",
    "- Isolation Forest\n",
    "\n",
    "Also, we are going to use a Dummy Classifier as a baseline to compare the models\n",
    "\n",
    "We are going to use Stratified K-Folds cross-validator to ensure that each fold of dataset has the same proportion of observations with a given label"
   ]
  },
  {
   "cell_type": "code",
   "execution_count": 16,
   "id": "35144e4d-a5dd-47ad-8304-04c684672080",
   "metadata": {},
   "outputs": [],
   "source": [
    "stratified_kfold = StratifiedKFold(n_splits=3, shuffle=True, random_state=42)"
   ]
  },
  {
   "cell_type": "markdown",
   "id": "dcc796f7-a35d-443b-aa16-11669f742c23",
   "metadata": {},
   "source": [
    "Metrics to use."
   ]
  },
  {
   "cell_type": "code",
   "execution_count": 17,
   "id": "c6b94e97-524b-40bc-bf10-e46fce257d5a",
   "metadata": {},
   "outputs": [],
   "source": [
    "scorings = [\"roc_auc\", \"recall\", \"f1\"]"
   ]
  },
  {
   "cell_type": "code",
   "execution_count": 18,
   "id": "b85850e9-aad8-4891-9089-3c56a5f66b2e",
   "metadata": {},
   "outputs": [],
   "source": [
    "classifiers = {\n",
    "    \"Dummy Classifier\" : DummyClassifier(),\n",
    "    \"Logistic Regressions\" : LogisticRegressionCV(max_iter=3000),\n",
    "    \"Random Forest\" : RandomForestClassifier(),\n",
    "    \"Gradient Boosting\" : GradientBoostingClassifier(),\n",
    "    \"XGBoost\" : XGBClassifier()\n",
    "}"
   ]
  },
  {
   "cell_type": "code",
   "execution_count": 19,
   "id": "7ccc72f0-fa9e-4f93-832b-34818143798f",
   "metadata": {},
   "outputs": [],
   "source": [
    "# List of metrics results for each models \n",
    "LIST_MODEL, LIST_RECALL, LIST_ROC_AUC, LIST_F1, LIST_DURATION  = ([] for i in range(5))\n",
    "\n",
    "for key, model in classifiers.items():\n",
    "\n",
    "    start_time_model = timeit.default_timer()\n",
    "    \n",
    "    clf = make_pipeline(preprocessor, model)\n",
    "    \n",
    "    scores = cross_validate(clf, X_train, y_train, \n",
    "                            cv=stratified_kfold, scoring=scorings,  \n",
    "                            n_jobs=-1)\n",
    "    \n",
    "    end_time_model =  round(timeit.default_timer() - start_time_model, 3)\n",
    "    \n",
    "    # Adding results into LIST\n",
    "    LIST_MODEL.append(key)\n",
    "    LIST_RECALL.append(round(scores.get(\"test_recall\").mean(), 3))\n",
    "    LIST_ROC_AUC.append(round(scores.get(\"test_roc_auc\").mean(), 3))\n",
    "    LIST_F1.append(round(scores.get(\"test_f1\").mean(), 3))\n",
    "    LIST_DURATION.append(end_time_model)"
   ]
  },
  {
   "cell_type": "code",
   "execution_count": 20,
   "id": "c8958caf-da06-4ad3-958e-d371b08b4a85",
   "metadata": {},
   "outputs": [
    {
     "data": {
      "text/html": [
       "<div>\n",
       "<style scoped>\n",
       "    .dataframe tbody tr th:only-of-type {\n",
       "        vertical-align: middle;\n",
       "    }\n",
       "\n",
       "    .dataframe tbody tr th {\n",
       "        vertical-align: top;\n",
       "    }\n",
       "\n",
       "    .dataframe thead th {\n",
       "        text-align: right;\n",
       "    }\n",
       "</style>\n",
       "<table border=\"1\" class=\"dataframe\">\n",
       "  <thead>\n",
       "    <tr style=\"text-align: right;\">\n",
       "      <th></th>\n",
       "      <th>Model</th>\n",
       "      <th>ROC-AUC</th>\n",
       "      <th>Recall</th>\n",
       "      <th>F1</th>\n",
       "      <th>Duration</th>\n",
       "    </tr>\n",
       "  </thead>\n",
       "  <tbody>\n",
       "    <tr>\n",
       "      <th>0</th>\n",
       "      <td>Dummy Classifier</td>\n",
       "      <td>0.500</td>\n",
       "      <td>0.000</td>\n",
       "      <td>0.000</td>\n",
       "      <td>0.1</td>\n",
       "    </tr>\n",
       "    <tr>\n",
       "      <th>1</th>\n",
       "      <td>Logistic Regressions</td>\n",
       "      <td>0.695</td>\n",
       "      <td>0.006</td>\n",
       "      <td>0.011</td>\n",
       "      <td>3.4</td>\n",
       "    </tr>\n",
       "    <tr>\n",
       "      <th>2</th>\n",
       "      <td>Random Forest</td>\n",
       "      <td>0.685</td>\n",
       "      <td>0.176</td>\n",
       "      <td>0.245</td>\n",
       "      <td>4.3</td>\n",
       "    </tr>\n",
       "    <tr>\n",
       "      <th>3</th>\n",
       "      <td>Gradient Boosting</td>\n",
       "      <td>0.745</td>\n",
       "      <td>0.056</td>\n",
       "      <td>0.104</td>\n",
       "      <td>0.6</td>\n",
       "    </tr>\n",
       "    <tr>\n",
       "      <th>4</th>\n",
       "      <td>XGBoost</td>\n",
       "      <td>0.764</td>\n",
       "      <td>0.124</td>\n",
       "      <td>0.209</td>\n",
       "      <td>0.4</td>\n",
       "    </tr>\n",
       "  </tbody>\n",
       "</table>\n",
       "</div>"
      ],
      "text/plain": [
       "                  Model  ROC-AUC  Recall     F1  Duration\n",
       "0      Dummy Classifier    0.500   0.000  0.000       0.1\n",
       "1  Logistic Regressions    0.695   0.006  0.011       3.4\n",
       "2         Random Forest    0.685   0.176  0.245       4.3\n",
       "3     Gradient Boosting    0.745   0.056  0.104       0.6\n",
       "4               XGBoost    0.764   0.124  0.209       0.4"
      ]
     },
     "execution_count": 20,
     "metadata": {},
     "output_type": "execute_result"
    }
   ],
   "source": [
    "df_initial_models = pd.DataFrame({\n",
    "    \"Model\" : LIST_MODEL,\n",
    "    \"ROC-AUC\" : LIST_ROC_AUC,\n",
    "    \"Recall\" : LIST_RECALL,    \n",
    "    \"F1\" : LIST_F1,\n",
    "    \"Duration\" : LIST_DURATION,\n",
    "})\n",
    "\n",
    "# transforming duration to minutes\n",
    "df_initial_models[\"Duration\"] = round(df_initial_models[\"Duration\"]/60, 1)\n",
    "\n",
    "df_initial_models"
   ]
  },
  {
   "cell_type": "code",
   "execution_count": 21,
   "id": "51561efe-bf7f-4c1e-a44f-5f13131e5bc2",
   "metadata": {},
   "outputs": [
    {
     "data": {
      "text/html": [
       "<div>\n",
       "<style scoped>\n",
       "    .dataframe tbody tr th:only-of-type {\n",
       "        vertical-align: middle;\n",
       "    }\n",
       "\n",
       "    .dataframe tbody tr th {\n",
       "        vertical-align: top;\n",
       "    }\n",
       "\n",
       "    .dataframe thead th {\n",
       "        text-align: right;\n",
       "    }\n",
       "</style>\n",
       "<table border=\"1\" class=\"dataframe\">\n",
       "  <thead>\n",
       "    <tr style=\"text-align: right;\">\n",
       "      <th></th>\n",
       "      <th>Model</th>\n",
       "      <th>Metric</th>\n",
       "      <th>Value</th>\n",
       "    </tr>\n",
       "  </thead>\n",
       "  <tbody>\n",
       "    <tr>\n",
       "      <th>0</th>\n",
       "      <td>Dummy Classifier</td>\n",
       "      <td>ROC-AUC</td>\n",
       "      <td>0.500</td>\n",
       "    </tr>\n",
       "    <tr>\n",
       "      <th>1</th>\n",
       "      <td>Logistic Regressions</td>\n",
       "      <td>ROC-AUC</td>\n",
       "      <td>0.695</td>\n",
       "    </tr>\n",
       "    <tr>\n",
       "      <th>2</th>\n",
       "      <td>Random Forest</td>\n",
       "      <td>ROC-AUC</td>\n",
       "      <td>0.685</td>\n",
       "    </tr>\n",
       "    <tr>\n",
       "      <th>3</th>\n",
       "      <td>Gradient Boosting</td>\n",
       "      <td>ROC-AUC</td>\n",
       "      <td>0.745</td>\n",
       "    </tr>\n",
       "    <tr>\n",
       "      <th>4</th>\n",
       "      <td>XGBoost</td>\n",
       "      <td>ROC-AUC</td>\n",
       "      <td>0.764</td>\n",
       "    </tr>\n",
       "  </tbody>\n",
       "</table>\n",
       "</div>"
      ],
      "text/plain": [
       "                  Model   Metric  Value\n",
       "0      Dummy Classifier  ROC-AUC  0.500\n",
       "1  Logistic Regressions  ROC-AUC  0.695\n",
       "2         Random Forest  ROC-AUC  0.685\n",
       "3     Gradient Boosting  ROC-AUC  0.745\n",
       "4               XGBoost  ROC-AUC  0.764"
      ]
     },
     "execution_count": 21,
     "metadata": {},
     "output_type": "execute_result"
    }
   ],
   "source": [
    "df_models_metrics_reduced = pd.melt(df_initial_models, id_vars=\"Model\", var_name=\"Metric\", value_name=\"Value\")\n",
    "df_models_metrics_reduced.head()"
   ]
  },
  {
   "cell_type": "code",
   "execution_count": 22,
   "id": "5ae82c58-973f-428d-9b0a-566961954aca",
   "metadata": {},
   "outputs": [
    {
     "data": {
      "image/png": "[encoded data removed]",
      "text/plain": [
       "<Figure size 864x432 with 1 Axes>"
      ]
     },
     "metadata": {
      "needs_background": "light"
     },
     "output_type": "display_data"
    }
   ],
   "source": [
    "fig, ax1 = plt.subplots(figsize=(12, 6))\n",
    "plot = sns.barplot(x=\"Model\", y=\"Value\", hue=\"Metric\", data=df_models_metrics_reduced, ax=ax1)\n",
    "for p in plot.patches:\n",
    "    plot.annotate(format(p.get_height(), \".3f\"), (p.get_x() + p.get_width() / 2., p.get_height()), \n",
    "                    ha=\"center\", va=\"center\", xytext=(0, 8), textcoords=\"offset points\")\n",
    "plt.title(\"Model comparison (default mode)\", size=20)\n",
    "plt.legend(bbox_to_anchor=(1.14, 1), borderaxespad=0, title=\"Metrics\")\n",
    "plt.tight_layout()\n",
    "plt.xlabel(\"Models\", size=12)\n",
    "plt.ylabel(\"Metrics\", size=12)\n",
    "sns.despine(fig)"
   ]
  },
  {
   "cell_type": "markdown",
   "id": "cbeb706c-91e4-402c-aeec-5b5b621ef7e4",
   "metadata": {},
   "source": [
    "<div class=\"admonition warning alert alert-info\">\n",
    "<p class=\"first admonition-title\" style=\"font-weight: bold;\">Observations / Conclusions</p>\n",
    "<p class=\"last\">Using only default mode for all models excepts Isolation Forest, we can notice that all models have obtained better results compared to Dummy Classifier.<br>In addition, the XGBoost has obtained the best result in less time\n",
    "</p>\n",
    "</div>"
   ]
  },
  {
   "cell_type": "markdown",
   "id": "a9c72c77-a2f0-443c-a539-10f5712330ae",
   "metadata": {
    "tags": []
   },
   "source": [
    "## 7. Hyperparameters Tuning"
   ]
  },
  {
   "cell_type": "markdown",
   "id": "68c14af0-c1e5-495b-9a1e-16769b1b160b",
   "metadata": {},
   "source": [
    "For reasons of processing cost, we are going to tune the models with a subsample of the data.\n",
    "Done this, we will proceed to continue the modeling with the parameters obtained."
   ]
  },
  {
   "cell_type": "markdown",
   "id": "e1aaadb3-9c1f-43ac-9e15-617f1b4817fb",
   "metadata": {
    "tags": []
   },
   "source": [
    "### 7.1. Subsample of the data"
   ]
  },
  {
   "cell_type": "code",
   "execution_count": 23,
   "id": "f79e2746-4a59-438d-ab25-60f19bfdcfc9",
   "metadata": {},
   "outputs": [],
   "source": [
    "df_subsample = df_students.copy()\n",
    "df_subsample = df_subsample.sample(frac=0.4)"
   ]
  },
  {
   "cell_type": "code",
   "execution_count": 24,
   "id": "060a9adc-479c-4458-93de-d8546b4668db",
   "metadata": {},
   "outputs": [
    {
     "data": {
      "image/png": "[encoded data removed]",
      "text/plain": [
       "<Figure size 720x360 with 2 Axes>"
      ]
     },
     "metadata": {
      "needs_background": "light"
     },
     "output_type": "display_data"
    }
   ],
   "source": [
    "barplot_and_pie(df_subsample[\"ESTADO\"], \"Número de estudiantes por estado (sub-muestra)\", \"\")"
   ]
  },
  {
   "cell_type": "markdown",
   "id": "710c09c0-85e4-4493-ba1b-bfd4a82ae717",
   "metadata": {},
   "source": [
    "Now, we are going to split the subsample of the data to tune the models"
   ]
  },
  {
   "cell_type": "code",
   "execution_count": 25,
   "id": "3f4f71a9-54dc-46c7-b301-c1bd78819e4b",
   "metadata": {},
   "outputs": [],
   "source": [
    "X_ss = df_subsample[TRAINING_COLUMNS]"
   ]
  },
  {
   "cell_type": "code",
   "execution_count": 26,
   "id": "25e8e510-6a5d-42de-ae0a-3b6ab45b24cb",
   "metadata": {},
   "outputs": [],
   "source": [
    "y_target_ss = df_subsample.loc[:,\"ESTADO\"]"
   ]
  },
  {
   "cell_type": "code",
   "execution_count": 27,
   "id": "8e9eba97-9767-4822-9ec8-ba1a4dac29b6",
   "metadata": {},
   "outputs": [],
   "source": [
    "X_train_ss, X_test_ss, y_train_ss, y_test_ss = train_test_split(X_ss, y_target_ss, test_size=0.20, stratify=y_target_ss, random_state=42)"
   ]
  },
  {
   "cell_type": "code",
   "execution_count": 28,
   "id": "1477eb8d-3bbc-4ef9-80fb-4d5ab7114cb7",
   "metadata": {},
   "outputs": [
    {
     "name": "stdout",
     "output_type": "stream",
     "text": [
      "X_train_ss: (89980, 29)\n",
      "y_train_ss: (89980,)\n",
      "------------------------------\n",
      "X_test_ss: (22495, 29)\n",
      "y_test_ss: (22495,)\n"
     ]
    }
   ],
   "source": [
    "print(\"X_train_ss: {}\".format(X_train_ss.shape))\n",
    "print(\"y_train_ss: {}\".format(y_train_ss.shape))\n",
    "print(30*\"-\")\n",
    "print(\"X_test_ss: {}\".format(X_test_ss.shape))\n",
    "print(\"y_test_ss: {}\".format(y_test_ss.shape))"
   ]
  },
  {
   "cell_type": "markdown",
   "id": "c4731e19-11e6-48eb-a8ea-a981448691e4",
   "metadata": {
    "tags": []
   },
   "source": [
    "### 7.2. Logistic Regresion"
   ]
  },
  {
   "cell_type": "code",
   "execution_count": 29,
   "id": "e8f5484b-526f-4cca-af3b-bf39ef71c2d7",
   "metadata": {
    "tags": []
   },
   "outputs": [
    {
     "data": {
      "text/plain": [
       "['columntransformer',\n",
       " 'columntransformer__n_jobs',\n",
       " 'columntransformer__pipeline-1',\n",
       " 'columntransformer__pipeline-1__memory',\n",
       " 'columntransformer__pipeline-1__onehotencoder',\n",
       " 'columntransformer__pipeline-1__onehotencoder__categories',\n",
       " 'columntransformer__pipeline-1__onehotencoder__drop',\n",
       " 'columntransformer__pipeline-1__onehotencoder__dtype',\n",
       " 'columntransformer__pipeline-1__onehotencoder__handle_unknown',\n",
       " 'columntransformer__pipeline-1__onehotencoder__max_categories',\n",
       " 'columntransformer__pipeline-1__onehotencoder__min_frequency',\n",
       " 'columntransformer__pipeline-1__onehotencoder__sparse',\n",
       " 'columntransformer__pipeline-1__steps',\n",
       " 'columntransformer__pipeline-1__verbose',\n",
       " 'columntransformer__pipeline-2',\n",
       " 'columntransformer__pipeline-2__memory',\n",
       " 'columntransformer__pipeline-2__ordinalencoder',\n",
       " 'columntransformer__pipeline-2__ordinalencoder__categories',\n",
       " 'columntransformer__pipeline-2__ordinalencoder__dtype',\n",
       " 'columntransformer__pipeline-2__ordinalencoder__encoded_missing_value',\n",
       " 'columntransformer__pipeline-2__ordinalencoder__handle_unknown',\n",
       " 'columntransformer__pipeline-2__ordinalencoder__unknown_value',\n",
       " 'columntransformer__pipeline-2__steps',\n",
       " 'columntransformer__pipeline-2__verbose',\n",
       " 'columntransformer__pipeline-3',\n",
       " 'columntransformer__pipeline-3__memory',\n",
       " 'columntransformer__pipeline-3__standardscaler',\n",
       " 'columntransformer__pipeline-3__standardscaler__copy',\n",
       " 'columntransformer__pipeline-3__standardscaler__with_mean',\n",
       " 'columntransformer__pipeline-3__standardscaler__with_std',\n",
       " 'columntransformer__pipeline-3__steps',\n",
       " 'columntransformer__pipeline-3__verbose',\n",
       " 'columntransformer__pipeline-4',\n",
       " 'columntransformer__pipeline-4__functiontransformer',\n",
       " 'columntransformer__pipeline-4__functiontransformer__accept_sparse',\n",
       " 'columntransformer__pipeline-4__functiontransformer__check_inverse',\n",
       " 'columntransformer__pipeline-4__functiontransformer__feature_names_out',\n",
       " 'columntransformer__pipeline-4__functiontransformer__func',\n",
       " 'columntransformer__pipeline-4__functiontransformer__inv_kw_args',\n",
       " 'columntransformer__pipeline-4__functiontransformer__inverse_func',\n",
       " 'columntransformer__pipeline-4__functiontransformer__kw_args',\n",
       " 'columntransformer__pipeline-4__functiontransformer__validate',\n",
       " 'columntransformer__pipeline-4__memory',\n",
       " 'columntransformer__pipeline-4__steps',\n",
       " 'columntransformer__pipeline-4__verbose',\n",
       " 'columntransformer__remainder',\n",
       " 'columntransformer__sparse_threshold',\n",
       " 'columntransformer__transformer_weights',\n",
       " 'columntransformer__transformers',\n",
       " 'columntransformer__verbose',\n",
       " 'columntransformer__verbose_feature_names_out',\n",
       " 'logisticregressioncv',\n",
       " 'logisticregressioncv__Cs',\n",
       " 'logisticregressioncv__class_weight',\n",
       " 'logisticregressioncv__cv',\n",
       " 'logisticregressioncv__dual',\n",
       " 'logisticregressioncv__fit_intercept',\n",
       " 'logisticregressioncv__intercept_scaling',\n",
       " 'logisticregressioncv__l1_ratios',\n",
       " 'logisticregressioncv__max_iter',\n",
       " 'logisticregressioncv__multi_class',\n",
       " 'logisticregressioncv__n_jobs',\n",
       " 'logisticregressioncv__penalty',\n",
       " 'logisticregressioncv__random_state',\n",
       " 'logisticregressioncv__refit',\n",
       " 'logisticregressioncv__scoring',\n",
       " 'logisticregressioncv__solver',\n",
       " 'logisticregressioncv__tol',\n",
       " 'logisticregressioncv__verbose',\n",
       " 'memory',\n",
       " 'steps',\n",
       " 'verbose']"
      ]
     },
     "execution_count": 29,
     "metadata": {},
     "output_type": "execute_result"
    }
   ],
   "source": [
    "lr = LogisticRegressionCV()\n",
    "clf = make_pipeline(preprocessor, lr)\n",
    "\n",
    "sorted(clf.get_params().keys())"
   ]
  },
  {
   "cell_type": "code",
   "execution_count": 30,
   "id": "a73d7ca2-3740-4b44-a588-8cb54c4454c8",
   "metadata": {},
   "outputs": [],
   "source": [
    "param_grid = {\n",
    "    \"logisticregressioncv__max_iter\" : [2000, 3000, 4000, 5000, 6000, 7000, 8000],\n",
    "    # \"logisticregressioncv__penalty\" : [\"l1\", \"l2\"]\n",
    "}"
   ]
  },
  {
   "cell_type": "code",
   "execution_count": 31,
   "id": "0a0c1eca-1e46-4821-9f66-5249cbe1b430",
   "metadata": {},
   "outputs": [],
   "source": [
    "search = HalvingGridSearchCV(clf, param_grid, scoring=\"roc_auc\", \n",
    "                             cv=stratified_kfold, n_jobs=-1)"
   ]
  },
  {
   "cell_type": "code",
   "execution_count": 32,
   "id": "361843cd-3c43-4ed6-a169-589a5a53bbc6",
   "metadata": {},
   "outputs": [
    {
     "data": {
      "text/html": [
       "<style>#sk-container-id-1 {color: black;background-color: white;}#sk-container-id-1 pre{padding: 0;}#sk-container-id-1 div.sk-toggleable {background-color: white;}#sk-container-id-1 label.sk-toggleable__label {cursor: pointer;display: block;width: 100%;margin-bottom: 0;padding: 0.3em;box-sizing: border-box;text-align: center;}#sk-container-id-1 label.sk-toggleable__label-arrow:before {content: \"▸\";float: left;margin-right: 0.25em;color: #696969;}#sk-container-id-1 label.sk-toggleable__label-arrow:hover:before {color: black;}#sk-container-id-1 div.sk-estimator:hover label.sk-toggleable__label-arrow:before {color: black;}#sk-container-id-1 div.sk-toggleable__content {max-height: 0;max-width: 0;overflow: hidden;text-align: left;background-color: #f0f8ff;}#sk-container-id-1 div.sk-toggleable__content pre {margin: 0.2em;color: black;border-radius: 0.25em;background-color: #f0f8ff;}#sk-container-id-1 input.sk-toggleable__control:checked~div.sk-toggleable__content {max-height: 200px;max-width: 100%;overflow: auto;}#sk-container-id-1 input.sk-toggleable__control:checked~label.sk-toggleable__label-arrow:before {content: \"▾\";}#sk-container-id-1 div.sk-estimator input.sk-toggleable__control:checked~label.sk-toggleable__label {background-color: #d4ebff;}#sk-container-id-1 div.sk-label input.sk-toggleable__control:checked~label.sk-toggleable__label {background-color: #d4ebff;}#sk-container-id-1 input.sk-hidden--visually {border: 0;clip: rect(1px 1px 1px 1px);clip: rect(1px, 1px, 1px, 1px);height: 1px;margin: -1px;overflow: hidden;padding: 0;position: absolute;width: 1px;}#sk-container-id-1 div.sk-estimator {font-family: monospace;background-color: #f0f8ff;border: 1px dotted black;border-radius: 0.25em;box-sizing: border-box;margin-bottom: 0.5em;}#sk-container-id-1 div.sk-estimator:hover {background-color: #d4ebff;}#sk-container-id-1 div.sk-parallel-item::after {content: \"\";width: 100%;border-bottom: 1px solid gray;flex-grow: 1;}#sk-container-id-1 div.sk-label:hover label.sk-toggleable__label {background-color: #d4ebff;}#sk-container-id-1 div.sk-serial::before {content: \"\";position: absolute;border-left: 1px solid gray;box-sizing: border-box;top: 0;bottom: 0;left: 50%;z-index: 0;}#sk-container-id-1 div.sk-serial {display: flex;flex-direction: column;align-items: center;background-color: white;padding-right: 0.2em;padding-left: 0.2em;position: relative;}#sk-container-id-1 div.sk-item {position: relative;z-index: 1;}#sk-container-id-1 div.sk-parallel {display: flex;align-items: stretch;justify-content: center;background-color: white;position: relative;}#sk-container-id-1 div.sk-item::before, #sk-container-id-1 div.sk-parallel-item::before {content: \"\";position: absolute;border-left: 1px solid gray;box-sizing: border-box;top: 0;bottom: 0;left: 50%;z-index: -1;}#sk-container-id-1 div.sk-parallel-item {display: flex;flex-direction: column;z-index: 1;position: relative;background-color: white;}#sk-container-id-1 div.sk-parallel-item:first-child::after {align-self: flex-end;width: 50%;}#sk-container-id-1 div.sk-parallel-item:last-child::after {align-self: flex-start;width: 50%;}#sk-container-id-1 div.sk-parallel-item:only-child::after {width: 0;}#sk-container-id-1 div.sk-dashed-wrapped {border: 1px dashed gray;margin: 0 0.4em 0.5em 0.4em;box-sizing: border-box;padding-bottom: 0.4em;background-color: white;}#sk-container-id-1 div.sk-label label {font-family: monospace;font-weight: bold;display: inline-block;line-height: 1.2em;}#sk-container-id-1 div.sk-label-container {text-align: center;}#sk-container-id-1 div.sk-container {/* jupyter's `normalize.less` sets `[hidden] { display: none; }` but bootstrap.min.css set `[hidden] { display: none !important; }` so we also need the `!important` here to be able to override the default hidden behavior on the sphinx rendered scikit-learn.org. See: https://github.com/scikit-learn/scikit-learn/issues/21755 */display: inline-block !important;position: relative;}#sk-container-id-1 div.sk-text-repr-fallback {display: none;}</style><div id=\"sk-container-id-1\" class=\"sk-top-container\"><div class=\"sk-text-repr-fallback\"><pre>HalvingGridSearchCV(cv=StratifiedKFold(n_splits=3, random_state=42, shuffle=True),\n",
       "                    estimator=Pipeline(steps=[(&#x27;columntransformer&#x27;,\n",
       "                                               ColumnTransformer(transformers=[(&#x27;pipeline-1&#x27;,\n",
       "                                                                                Pipeline(steps=[(&#x27;onehotencoder&#x27;,\n",
       "                                                                                                 OneHotEncoder(handle_unknown=&#x27;ignore&#x27;))]),\n",
       "                                                                                [&#x27;INSTITUCION&#x27;,\n",
       "                                                                                 &#x27;GENERO&#x27;,\n",
       "                                                                                 &#x27;JORNADA&#x27;,\n",
       "                                                                                 &#x27;PAIS_ORIGEN&#x27;,\n",
       "                                                                                 &#x27;DISCAPACIDAD&#x27;,\n",
       "                                                                                 &#x27;SRPA&#x27;,\n",
       "                                                                                 &#x27;INSTITUCION_SECTOR&#x27;,\n",
       "                                                                                 &#x27;INSTITUCIO...\n",
       "                                                                                 &#x27;INSTITUCION_ESPECIALIDAD_AGROPECUARIO&#x27;,\n",
       "                                                                                 &#x27;INSTITUCION_ESPECIALIDAD_COMERCIAL&#x27;,\n",
       "                                                                                 &#x27;INSTITUCION_ESPECIALIDAD_INDUSTRIAL&#x27;,\n",
       "                                                                                 &#x27;INSTITUCION_ESPECIALIDAD_NO_APLICA&#x27;,\n",
       "                                                                                 &#x27;INSTITUCION_ESPECIALIDAD_OTRO&#x27;])])),\n",
       "                                              (&#x27;logisticregressioncv&#x27;,\n",
       "                                               LogisticRegressionCV())]),\n",
       "                    n_jobs=-1,\n",
       "                    param_grid={&#x27;logisticregressioncv__max_iter&#x27;: [2000, 3000,\n",
       "                                                                   4000, 5000,\n",
       "                                                                   6000, 7000,\n",
       "                                                                   8000]},\n",
       "                    scoring=&#x27;roc_auc&#x27;)</pre><b>In a Jupyter environment, please rerun this cell to show the HTML representation or trust the notebook. <br />On GitHub, the HTML representation is unable to render, please try loading this page with nbviewer.org.</b></div><div class=\"sk-container\" hidden><div class=\"sk-item sk-dashed-wrapped\"><div class=\"sk-label-container\"><div class=\"sk-label sk-toggleable\"><input class=\"sk-toggleable__control sk-hidden--visually\" id=\"sk-estimator-id-1\" type=\"checkbox\" ><label for=\"sk-estimator-id-1\" class=\"sk-toggleable__label sk-toggleable__label-arrow\">HalvingGridSearchCV</label><div class=\"sk-toggleable__content\"><pre>HalvingGridSearchCV(cv=StratifiedKFold(n_splits=3, random_state=42, shuffle=True),\n",
       "                    estimator=Pipeline(steps=[(&#x27;columntransformer&#x27;,\n",
       "                                               ColumnTransformer(transformers=[(&#x27;pipeline-1&#x27;,\n",
       "                                                                                Pipeline(steps=[(&#x27;onehotencoder&#x27;,\n",
       "                                                                                                 OneHotEncoder(handle_unknown=&#x27;ignore&#x27;))]),\n",
       "                                                                                [&#x27;INSTITUCION&#x27;,\n",
       "                                                                                 &#x27;GENERO&#x27;,\n",
       "                                                                                 &#x27;JORNADA&#x27;,\n",
       "                                                                                 &#x27;PAIS_ORIGEN&#x27;,\n",
       "                                                                                 &#x27;DISCAPACIDAD&#x27;,\n",
       "                                                                                 &#x27;SRPA&#x27;,\n",
       "                                                                                 &#x27;INSTITUCION_SECTOR&#x27;,\n",
       "                                                                                 &#x27;INSTITUCIO...\n",
       "                                                                                 &#x27;INSTITUCION_ESPECIALIDAD_AGROPECUARIO&#x27;,\n",
       "                                                                                 &#x27;INSTITUCION_ESPECIALIDAD_COMERCIAL&#x27;,\n",
       "                                                                                 &#x27;INSTITUCION_ESPECIALIDAD_INDUSTRIAL&#x27;,\n",
       "                                                                                 &#x27;INSTITUCION_ESPECIALIDAD_NO_APLICA&#x27;,\n",
       "                                                                                 &#x27;INSTITUCION_ESPECIALIDAD_OTRO&#x27;])])),\n",
       "                                              (&#x27;logisticregressioncv&#x27;,\n",
       "                                               LogisticRegressionCV())]),\n",
       "                    n_jobs=-1,\n",
       "                    param_grid={&#x27;logisticregressioncv__max_iter&#x27;: [2000, 3000,\n",
       "                                                                   4000, 5000,\n",
       "                                                                   6000, 7000,\n",
       "                                                                   8000]},\n",
       "                    scoring=&#x27;roc_auc&#x27;)</pre></div></div></div><div class=\"sk-parallel\"><div class=\"sk-parallel-item\"><div class=\"sk-item\"><div class=\"sk-label-container\"><div class=\"sk-label sk-toggleable\"><input class=\"sk-toggleable__control sk-hidden--visually\" id=\"sk-estimator-id-2\" type=\"checkbox\" ><label for=\"sk-estimator-id-2\" class=\"sk-toggleable__label sk-toggleable__label-arrow\">estimator: Pipeline</label><div class=\"sk-toggleable__content\"><pre>Pipeline(steps=[(&#x27;columntransformer&#x27;,\n",
       "                 ColumnTransformer(transformers=[(&#x27;pipeline-1&#x27;,\n",
       "                                                  Pipeline(steps=[(&#x27;onehotencoder&#x27;,\n",
       "                                                                   OneHotEncoder(handle_unknown=&#x27;ignore&#x27;))]),\n",
       "                                                  [&#x27;INSTITUCION&#x27;, &#x27;GENERO&#x27;,\n",
       "                                                   &#x27;JORNADA&#x27;, &#x27;PAIS_ORIGEN&#x27;,\n",
       "                                                   &#x27;DISCAPACIDAD&#x27;, &#x27;SRPA&#x27;,\n",
       "                                                   &#x27;INSTITUCION_SECTOR&#x27;,\n",
       "                                                   &#x27;INSTITUCION_MODELO&#x27;,\n",
       "                                                   &#x27;INSTITUCION_APOYO_ACADEMICO_ESPECIAL&#x27;,\n",
       "                                                   &#x27;INSTITUCION_ZONA&#x27;,\n",
       "                                                   &#x27;INSTITUCION_CARACTER&#x27;...\n",
       "                                                   &#x27;INSTITUCION_NIVEL_MEDIA&#x27;,\n",
       "                                                   &#x27;INSTITUCION_NIVEL_PREESCOLAR&#x27;,\n",
       "                                                   &#x27;INSTITUCION_NIVEL_PRIMERA_INFANCIA&#x27;,\n",
       "                                                   &#x27;INSTITUCION_ESPECIALIDAD_ACADÉMICA&#x27;,\n",
       "                                                   &#x27;INSTITUCION_ESPECIALIDAD_AGROPECUARIO&#x27;,\n",
       "                                                   &#x27;INSTITUCION_ESPECIALIDAD_COMERCIAL&#x27;,\n",
       "                                                   &#x27;INSTITUCION_ESPECIALIDAD_INDUSTRIAL&#x27;,\n",
       "                                                   &#x27;INSTITUCION_ESPECIALIDAD_NO_APLICA&#x27;,\n",
       "                                                   &#x27;INSTITUCION_ESPECIALIDAD_OTRO&#x27;])])),\n",
       "                (&#x27;logisticregressioncv&#x27;, LogisticRegressionCV())])</pre></div></div></div><div class=\"sk-serial\"><div class=\"sk-item\"><div class=\"sk-serial\"><div class=\"sk-item sk-dashed-wrapped\"><div class=\"sk-label-container\"><div class=\"sk-label sk-toggleable\"><input class=\"sk-toggleable__control sk-hidden--visually\" id=\"sk-estimator-id-3\" type=\"checkbox\" ><label for=\"sk-estimator-id-3\" class=\"sk-toggleable__label sk-toggleable__label-arrow\">columntransformer: ColumnTransformer</label><div class=\"sk-toggleable__content\"><pre>ColumnTransformer(transformers=[(&#x27;pipeline-1&#x27;,\n",
       "                                 Pipeline(steps=[(&#x27;onehotencoder&#x27;,\n",
       "                                                  OneHotEncoder(handle_unknown=&#x27;ignore&#x27;))]),\n",
       "                                 [&#x27;INSTITUCION&#x27;, &#x27;GENERO&#x27;, &#x27;JORNADA&#x27;,\n",
       "                                  &#x27;PAIS_ORIGEN&#x27;, &#x27;DISCAPACIDAD&#x27;, &#x27;SRPA&#x27;,\n",
       "                                  &#x27;INSTITUCION_SECTOR&#x27;, &#x27;INSTITUCION_MODELO&#x27;,\n",
       "                                  &#x27;INSTITUCION_APOYO_ACADEMICO_ESPECIAL&#x27;,\n",
       "                                  &#x27;INSTITUCION_ZONA&#x27;, &#x27;INSTITUCION_CARACTER&#x27;,\n",
       "                                  &#x27;INSTITUCION_ESTADO&#x27;,\n",
       "                                  &#x27;INSTITUCION_PR...\n",
       "                                  &#x27;INSTITUCION_NIVEL_SECUNDARIA_PRIMARIA&#x27;,\n",
       "                                  &#x27;INSTITUCION_NIVEL_MEDIA&#x27;,\n",
       "                                  &#x27;INSTITUCION_NIVEL_PREESCOLAR&#x27;,\n",
       "                                  &#x27;INSTITUCION_NIVEL_PRIMERA_INFANCIA&#x27;,\n",
       "                                  &#x27;INSTITUCION_ESPECIALIDAD_ACADÉMICA&#x27;,\n",
       "                                  &#x27;INSTITUCION_ESPECIALIDAD_AGROPECUARIO&#x27;,\n",
       "                                  &#x27;INSTITUCION_ESPECIALIDAD_COMERCIAL&#x27;,\n",
       "                                  &#x27;INSTITUCION_ESPECIALIDAD_INDUSTRIAL&#x27;,\n",
       "                                  &#x27;INSTITUCION_ESPECIALIDAD_NO_APLICA&#x27;,\n",
       "                                  &#x27;INSTITUCION_ESPECIALIDAD_OTRO&#x27;])])</pre></div></div></div><div class=\"sk-parallel\"><div class=\"sk-parallel-item\"><div class=\"sk-item\"><div class=\"sk-label-container\"><div class=\"sk-label sk-toggleable\"><input class=\"sk-toggleable__control sk-hidden--visually\" id=\"sk-estimator-id-4\" type=\"checkbox\" ><label for=\"sk-estimator-id-4\" class=\"sk-toggleable__label sk-toggleable__label-arrow\">pipeline-1</label><div class=\"sk-toggleable__content\"><pre>[&#x27;INSTITUCION&#x27;, &#x27;GENERO&#x27;, &#x27;JORNADA&#x27;, &#x27;PAIS_ORIGEN&#x27;, &#x27;DISCAPACIDAD&#x27;, &#x27;SRPA&#x27;, &#x27;INSTITUCION_SECTOR&#x27;, &#x27;INSTITUCION_MODELO&#x27;, &#x27;INSTITUCION_APOYO_ACADEMICO_ESPECIAL&#x27;, &#x27;INSTITUCION_ZONA&#x27;, &#x27;INSTITUCION_CARACTER&#x27;, &#x27;INSTITUCION_ESTADO&#x27;, &#x27;INSTITUCION_PRESTADOR_DE_SERVICIO&#x27;]</pre></div></div></div><div class=\"sk-serial\"><div class=\"sk-item\"><div class=\"sk-serial\"><div class=\"sk-item\"><div class=\"sk-estimator sk-toggleable\"><input class=\"sk-toggleable__control sk-hidden--visually\" id=\"sk-estimator-id-5\" type=\"checkbox\" ><label for=\"sk-estimator-id-5\" class=\"sk-toggleable__label sk-toggleable__label-arrow\">OneHotEncoder</label><div class=\"sk-toggleable__content\"><pre>OneHotEncoder(handle_unknown=&#x27;ignore&#x27;)</pre></div></div></div></div></div></div></div></div><div class=\"sk-parallel-item\"><div class=\"sk-item\"><div class=\"sk-label-container\"><div class=\"sk-label sk-toggleable\"><input class=\"sk-toggleable__control sk-hidden--visually\" id=\"sk-estimator-id-6\" type=\"checkbox\" ><label for=\"sk-estimator-id-6\" class=\"sk-toggleable__label sk-toggleable__label-arrow\">pipeline-2</label><div class=\"sk-toggleable__content\"><pre>[&#x27;GRADO_COD&#x27;, &#x27;ESTRATO&#x27;, &#x27;INSTITUCION_TAMAÑO&#x27;]</pre></div></div></div><div class=\"sk-serial\"><div class=\"sk-item\"><div class=\"sk-serial\"><div class=\"sk-item\"><div class=\"sk-estimator sk-toggleable\"><input class=\"sk-toggleable__control sk-hidden--visually\" id=\"sk-estimator-id-7\" type=\"checkbox\" ><label for=\"sk-estimator-id-7\" class=\"sk-toggleable__label sk-toggleable__label-arrow\">OrdinalEncoder</label><div class=\"sk-toggleable__content\"><pre>OrdinalEncoder(categories=[[-2.0, -1.0, 0.0, 1.0, 2.0, 3.0, 4.0, 5.0, 6.0, 7.0,\n",
       "                            8.0, 9.0, 10.0, 11.0, 12.0, 20.0, 21.0, 22.0, 23.0,\n",
       "                            24.0, 25.0, 26.0],\n",
       "                           [&#x27;ESTRATO 0&#x27;, &#x27;ESTRATO 1&#x27;, &#x27;ESTRATO 2&#x27;, &#x27;ESTRATO 3&#x27;,\n",
       "                            &#x27;ESTRATO 4&#x27;, &#x27;ESTRATO 5&#x27;, &#x27;ESTRATO 6&#x27;],\n",
       "                           [&#x27;Pequeña&#x27;, &#x27;Mediana&#x27;, &#x27;Grande&#x27;]])</pre></div></div></div></div></div></div></div></div><div class=\"sk-parallel-item\"><div class=\"sk-item\"><div class=\"sk-label-container\"><div class=\"sk-label sk-toggleable\"><input class=\"sk-toggleable__control sk-hidden--visually\" id=\"sk-estimator-id-8\" type=\"checkbox\" ><label for=\"sk-estimator-id-8\" class=\"sk-toggleable__label sk-toggleable__label-arrow\">pipeline-3</label><div class=\"sk-toggleable__content\"><pre>[&#x27;EDAD&#x27;, &#x27;INSTITUCION_NUMERO_DE_SEDES&#x27;]</pre></div></div></div><div class=\"sk-serial\"><div class=\"sk-item\"><div class=\"sk-serial\"><div class=\"sk-item\"><div class=\"sk-estimator sk-toggleable\"><input class=\"sk-toggleable__control sk-hidden--visually\" id=\"sk-estimator-id-9\" type=\"checkbox\" ><label for=\"sk-estimator-id-9\" class=\"sk-toggleable__label sk-toggleable__label-arrow\">StandardScaler</label><div class=\"sk-toggleable__content\"><pre>StandardScaler()</pre></div></div></div></div></div></div></div></div><div class=\"sk-parallel-item\"><div class=\"sk-item\"><div class=\"sk-label-container\"><div class=\"sk-label sk-toggleable\"><input class=\"sk-toggleable__control sk-hidden--visually\" id=\"sk-estimator-id-10\" type=\"checkbox\" ><label for=\"sk-estimator-id-10\" class=\"sk-toggleable__label sk-toggleable__label-arrow\">pipeline-4</label><div class=\"sk-toggleable__content\"><pre>[&#x27;INSTITUCION_NIVEL_BASICA_PRIMARIA&#x27;, &#x27;INSTITUCION_NIVEL_SECUNDARIA_PRIMARIA&#x27;, &#x27;INSTITUCION_NIVEL_MEDIA&#x27;, &#x27;INSTITUCION_NIVEL_PREESCOLAR&#x27;, &#x27;INSTITUCION_NIVEL_PRIMERA_INFANCIA&#x27;, &#x27;INSTITUCION_ESPECIALIDAD_ACADÉMICA&#x27;, &#x27;INSTITUCION_ESPECIALIDAD_AGROPECUARIO&#x27;, &#x27;INSTITUCION_ESPECIALIDAD_COMERCIAL&#x27;, &#x27;INSTITUCION_ESPECIALIDAD_INDUSTRIAL&#x27;, &#x27;INSTITUCION_ESPECIALIDAD_NO_APLICA&#x27;, &#x27;INSTITUCION_ESPECIALIDAD_OTRO&#x27;]</pre></div></div></div><div class=\"sk-serial\"><div class=\"sk-item\"><div class=\"sk-serial\"><div class=\"sk-item\"><div class=\"sk-estimator sk-toggleable\"><input class=\"sk-toggleable__control sk-hidden--visually\" id=\"sk-estimator-id-11\" type=\"checkbox\" ><label for=\"sk-estimator-id-11\" class=\"sk-toggleable__label sk-toggleable__label-arrow\">FunctionTransformer</label><div class=\"sk-toggleable__content\"><pre>FunctionTransformer(func=&lt;function boolean_transformation at 0x7fce262508b0&gt;)</pre></div></div></div></div></div></div></div></div></div></div><div class=\"sk-item\"><div class=\"sk-estimator sk-toggleable\"><input class=\"sk-toggleable__control sk-hidden--visually\" id=\"sk-estimator-id-12\" type=\"checkbox\" ><label for=\"sk-estimator-id-12\" class=\"sk-toggleable__label sk-toggleable__label-arrow\">LogisticRegressionCV</label><div class=\"sk-toggleable__content\"><pre>LogisticRegressionCV()</pre></div></div></div></div></div></div></div></div></div></div></div></div>"
      ],
      "text/plain": [
       "HalvingGridSearchCV(cv=StratifiedKFold(n_splits=3, random_state=42, shuffle=True),\n",
       "                    estimator=Pipeline(steps=[('columntransformer',\n",
       "                                               ColumnTransformer(transformers=[('pipeline-1',\n",
       "                                                                                Pipeline(steps=[('onehotencoder',\n",
       "                                                                                                 OneHotEncoder(handle_unknown='ignore'))]),\n",
       "                                                                                ['INSTITUCION',\n",
       "                                                                                 'GENERO',\n",
       "                                                                                 'JORNADA',\n",
       "                                                                                 'PAIS_ORIGEN',\n",
       "                                                                                 'DISCAPACIDAD',\n",
       "                                                                                 'SRPA',\n",
       "                                                                                 'INSTITUCION_SECTOR',\n",
       "                                                                                 'INSTITUCIO...\n",
       "                                                                                 'INSTITUCION_ESPECIALIDAD_AGROPECUARIO',\n",
       "                                                                                 'INSTITUCION_ESPECIALIDAD_COMERCIAL',\n",
       "                                                                                 'INSTITUCION_ESPECIALIDAD_INDUSTRIAL',\n",
       "                                                                                 'INSTITUCION_ESPECIALIDAD_NO_APLICA',\n",
       "                                                                                 'INSTITUCION_ESPECIALIDAD_OTRO'])])),\n",
       "                                              ('logisticregressioncv',\n",
       "                                               LogisticRegressionCV())]),\n",
       "                    n_jobs=-1,\n",
       "                    param_grid={'logisticregressioncv__max_iter': [2000, 3000,\n",
       "                                                                   4000, 5000,\n",
       "                                                                   6000, 7000,\n",
       "                                                                   8000]},\n",
       "                    scoring='roc_auc')"
      ]
     },
     "execution_count": 32,
     "metadata": {},
     "output_type": "execute_result"
    }
   ],
   "source": [
    "search.fit(X_train_ss, y_train_ss)"
   ]
  },
  {
   "cell_type": "code",
   "execution_count": 33,
   "id": "45d98a7d-f8f5-443d-b187-6e3006f82a8e",
   "metadata": {},
   "outputs": [
    {
     "data": {
      "text/plain": [
       "{'logisticregressioncv__max_iter': 6000}"
      ]
     },
     "execution_count": 33,
     "metadata": {},
     "output_type": "execute_result"
    }
   ],
   "source": [
    "search.best_params_"
   ]
  },
  {
   "cell_type": "code",
   "execution_count": 34,
   "id": "fe25f1eb-c44e-4633-8ba5-bf05b8c3d3b0",
   "metadata": {},
   "outputs": [],
   "source": [
    "lr_parameters = search.best_params_"
   ]
  },
  {
   "cell_type": "code",
   "execution_count": 35,
   "id": "f7879849-2746-4528-81db-2599c212fc83",
   "metadata": {},
   "outputs": [
    {
     "data": {
      "text/plain": [
       "0.668508742075657"
      ]
     },
     "execution_count": 35,
     "metadata": {},
     "output_type": "execute_result"
    }
   ],
   "source": [
    "search.best_score_"
   ]
  },
  {
   "cell_type": "markdown",
   "id": "0cedc9c7-aa59-4577-a99a-d97b6d47ea9a",
   "metadata": {
    "tags": []
   },
   "source": [
    "### 7.3. Random Forest"
   ]
  },
  {
   "cell_type": "code",
   "execution_count": 36,
   "id": "711122ac-2dd6-4afc-ba5a-4c557733a8ab",
   "metadata": {
    "tags": []
   },
   "outputs": [
    {
     "data": {
      "text/plain": [
       "['columntransformer',\n",
       " 'columntransformer__n_jobs',\n",
       " 'columntransformer__pipeline-1',\n",
       " 'columntransformer__pipeline-1__memory',\n",
       " 'columntransformer__pipeline-1__onehotencoder',\n",
       " 'columntransformer__pipeline-1__onehotencoder__categories',\n",
       " 'columntransformer__pipeline-1__onehotencoder__drop',\n",
       " 'columntransformer__pipeline-1__onehotencoder__dtype',\n",
       " 'columntransformer__pipeline-1__onehotencoder__handle_unknown',\n",
       " 'columntransformer__pipeline-1__onehotencoder__max_categories',\n",
       " 'columntransformer__pipeline-1__onehotencoder__min_frequency',\n",
       " 'columntransformer__pipeline-1__onehotencoder__sparse',\n",
       " 'columntransformer__pipeline-1__steps',\n",
       " 'columntransformer__pipeline-1__verbose',\n",
       " 'columntransformer__pipeline-2',\n",
       " 'columntransformer__pipeline-2__memory',\n",
       " 'columntransformer__pipeline-2__ordinalencoder',\n",
       " 'columntransformer__pipeline-2__ordinalencoder__categories',\n",
       " 'columntransformer__pipeline-2__ordinalencoder__dtype',\n",
       " 'columntransformer__pipeline-2__ordinalencoder__encoded_missing_value',\n",
       " 'columntransformer__pipeline-2__ordinalencoder__handle_unknown',\n",
       " 'columntransformer__pipeline-2__ordinalencoder__unknown_value',\n",
       " 'columntransformer__pipeline-2__steps',\n",
       " 'columntransformer__pipeline-2__verbose',\n",
       " 'columntransformer__pipeline-3',\n",
       " 'columntransformer__pipeline-3__memory',\n",
       " 'columntransformer__pipeline-3__standardscaler',\n",
       " 'columntransformer__pipeline-3__standardscaler__copy',\n",
       " 'columntransformer__pipeline-3__standardscaler__with_mean',\n",
       " 'columntransformer__pipeline-3__standardscaler__with_std',\n",
       " 'columntransformer__pipeline-3__steps',\n",
       " 'columntransformer__pipeline-3__verbose',\n",
       " 'columntransformer__pipeline-4',\n",
       " 'columntransformer__pipeline-4__functiontransformer',\n",
       " 'columntransformer__pipeline-4__functiontransformer__accept_sparse',\n",
       " 'columntransformer__pipeline-4__functiontransformer__check_inverse',\n",
       " 'columntransformer__pipeline-4__functiontransformer__feature_names_out',\n",
       " 'columntransformer__pipeline-4__functiontransformer__func',\n",
       " 'columntransformer__pipeline-4__functiontransformer__inv_kw_args',\n",
       " 'columntransformer__pipeline-4__functiontransformer__inverse_func',\n",
       " 'columntransformer__pipeline-4__functiontransformer__kw_args',\n",
       " 'columntransformer__pipeline-4__functiontransformer__validate',\n",
       " 'columntransformer__pipeline-4__memory',\n",
       " 'columntransformer__pipeline-4__steps',\n",
       " 'columntransformer__pipeline-4__verbose',\n",
       " 'columntransformer__remainder',\n",
       " 'columntransformer__sparse_threshold',\n",
       " 'columntransformer__transformer_weights',\n",
       " 'columntransformer__transformers',\n",
       " 'columntransformer__verbose',\n",
       " 'columntransformer__verbose_feature_names_out',\n",
       " 'memory',\n",
       " 'randomforestclassifier',\n",
       " 'randomforestclassifier__bootstrap',\n",
       " 'randomforestclassifier__ccp_alpha',\n",
       " 'randomforestclassifier__class_weight',\n",
       " 'randomforestclassifier__criterion',\n",
       " 'randomforestclassifier__max_depth',\n",
       " 'randomforestclassifier__max_features',\n",
       " 'randomforestclassifier__max_leaf_nodes',\n",
       " 'randomforestclassifier__max_samples',\n",
       " 'randomforestclassifier__min_impurity_decrease',\n",
       " 'randomforestclassifier__min_samples_leaf',\n",
       " 'randomforestclassifier__min_samples_split',\n",
       " 'randomforestclassifier__min_weight_fraction_leaf',\n",
       " 'randomforestclassifier__n_estimators',\n",
       " 'randomforestclassifier__n_jobs',\n",
       " 'randomforestclassifier__oob_score',\n",
       " 'randomforestclassifier__random_state',\n",
       " 'randomforestclassifier__verbose',\n",
       " 'randomforestclassifier__warm_start',\n",
       " 'steps',\n",
       " 'verbose']"
      ]
     },
     "execution_count": 36,
     "metadata": {},
     "output_type": "execute_result"
    }
   ],
   "source": [
    "rfc = RandomForestClassifier()\n",
    "clf = make_pipeline(preprocessor, rfc)\n",
    "\n",
    "sorted(clf.get_params().keys())"
   ]
  },
  {
   "cell_type": "code",
   "execution_count": 37,
   "id": "8f32cd6b-ff9a-45eb-b00a-205bba09bf77",
   "metadata": {},
   "outputs": [],
   "source": [
    "param_grid = {\n",
    "    \"randomforestclassifier__n_estimators\" : np.arange(500, 900, 100),\n",
    "    \"randomforestclassifier__max_depth\" : np.arange(20, 30, 2)\n",
    "}"
   ]
  },
  {
   "cell_type": "code",
   "execution_count": 38,
   "id": "1ffb2087-2b43-4daa-9444-32048184d9fd",
   "metadata": {},
   "outputs": [],
   "source": [
    "search = HalvingGridSearchCV(clf, param_grid, scoring=\"roc_auc\", \n",
    "                             cv=stratified_kfold, n_jobs=-1)"
   ]
  },
  {
   "cell_type": "code",
   "execution_count": 39,
   "id": "c7f8f006-be45-4d52-80a8-a53be2d82ce6",
   "metadata": {},
   "outputs": [
    {
     "name": "stderr",
     "output_type": "stream",
     "text": [
      "/home/ubuntu/miniconda3/envs/ds4a/lib/python3.10/site-packages/joblib/externals/loky/process_executor.py:702: UserWarning: A worker stopped while some jobs were given to the executor. This can be caused by a too short worker timeout or by a memory leak.\n",
      "  warnings.warn(\n",
      "\n",
      "KeyboardInterrupt\n",
      "\n"
     ]
    }
   ],
   "source": [
    "search.fit(X_train_ss, y_train_ss)"
   ]
  },
  {
   "cell_type": "code",
   "execution_count": null,
   "id": "b86b036a-c549-45a0-b7fe-1d925f81e3fc",
   "metadata": {},
   "outputs": [],
   "source": [
    "search.best_params_"
   ]
  },
  {
   "cell_type": "code",
   "execution_count": null,
   "id": "b9e447e6-10c4-45a8-a6bb-1a001314b8f5",
   "metadata": {},
   "outputs": [],
   "source": [
    "rfm_parameters = search.best_params_"
   ]
  },
  {
   "cell_type": "code",
   "execution_count": null,
   "id": "060ba84c-b833-4d79-b79a-6aa35ba5dff7",
   "metadata": {},
   "outputs": [],
   "source": [
    "search.best_score_"
   ]
  },
  {
   "cell_type": "markdown",
   "id": "0c2fbbe3-5f68-4596-8f16-f79b5d624577",
   "metadata": {
    "tags": []
   },
   "source": [
    "### 7.4. Gradient Boosting"
   ]
  },
  {
   "cell_type": "code",
   "execution_count": null,
   "id": "30d04a51-153c-4354-a09c-2a9d7b494989",
   "metadata": {
    "tags": []
   },
   "outputs": [],
   "source": [
    "gbc = GradientBoostingClassifier()\n",
    "clf = make_pipeline(preprocessor, gbc)\n",
    "\n",
    "sorted(clf.get_params().keys())"
   ]
  },
  {
   "cell_type": "code",
   "execution_count": null,
   "id": "f95e8de9-f72a-4610-8620-e7c42ab96412",
   "metadata": {},
   "outputs": [],
   "source": [
    "param_grid = {\n",
    "    \"gradientboostingclassifier__n_estimators\" : np.arange(5, 10, 500),\n",
    "    \"gradientboostingclassifier__max_depth\": np.arange( 3, 5, 15),\n",
    "    \"gradientboostingclassifier__learning_rate\": np.arange(0.01, 0.1, 10)\n",
    "}"
   ]
  },
  {
   "cell_type": "code",
   "execution_count": null,
   "id": "db4a14ba-341c-445c-a132-433e870e5147",
   "metadata": {},
   "outputs": [],
   "source": [
    "search = HalvingGridSearchCV(clf, param_grid, scoring=\"roc_auc\", \n",
    "                             cv=stratified_kfold, n_jobs=-1)"
   ]
  },
  {
   "cell_type": "code",
   "execution_count": null,
   "id": "cfecee15-578d-4040-a1f0-70d1b877c885",
   "metadata": {},
   "outputs": [],
   "source": [
    "search.fit(X_train_ss, y_train_ss)"
   ]
  },
  {
   "cell_type": "code",
   "execution_count": null,
   "id": "99913754-1605-4e9e-a016-b18f9b6844f0",
   "metadata": {},
   "outputs": [],
   "source": [
    "search.best_params_"
   ]
  },
  {
   "cell_type": "code",
   "execution_count": null,
   "id": "f0759e44-a4c6-4980-9bc7-7fffe3d6b405",
   "metadata": {},
   "outputs": [],
   "source": [
    "gbc_parameters = search.best_params_"
   ]
  },
  {
   "cell_type": "code",
   "execution_count": null,
   "id": "110ebdf4-6ac3-43b2-8ab0-35d8ee794bca",
   "metadata": {},
   "outputs": [],
   "source": [
    "search.best_score_"
   ]
  },
  {
   "cell_type": "markdown",
   "id": "bda294f1-79ed-4da7-a5d0-40dbbf67667a",
   "metadata": {
    "tags": []
   },
   "source": [
    "### 7.5. XGBoost"
   ]
  },
  {
   "cell_type": "code",
   "execution_count": null,
   "id": "62d22d67-e492-4ac3-a748-e4c3bd637756",
   "metadata": {
    "tags": []
   },
   "outputs": [],
   "source": [
    "xbgc = XGBClassifier()\n",
    "clf = make_pipeline(preprocessor, xbgc)\n",
    "\n",
    "sorted(clf.get_params().keys())"
   ]
  },
  {
   "cell_type": "code",
   "execution_count": null,
   "id": "053f53a8-c513-4ddc-b23b-f4b21827d121",
   "metadata": {},
   "outputs": [],
   "source": [
    "param_grid = {\n",
    "    \"xgbclassifier__min_child_weight\" : [1, 5, 10],\n",
    "    \"xgbclassifier__gamma\" : [0.5, 1, 1.5, 2, 5],\n",
    "    \"xgbclassifier__subsample\" : [0.6, 0.8, 1.0],\n",
    "    \"xgbclassifier__colsample_bytree\" : [0.6, 0.8, 1.0],\n",
    "    \"xgbclassifier__max_depth\" : np.arange( 3, 5, 15),\n",
    "}"
   ]
  },
  {
   "cell_type": "code",
   "execution_count": null,
   "id": "95ca50b0-ba6e-4d9b-a1d5-a09b9623b10e",
   "metadata": {},
   "outputs": [],
   "source": [
    "search = HalvingGridSearchCV(clf, param_grid, scoring=\"roc_auc\", \n",
    "                             cv=stratified_kfold, n_jobs=-1)"
   ]
  },
  {
   "cell_type": "code",
   "execution_count": null,
   "id": "736468c3-b0c5-4638-ba6f-1c95fe98e081",
   "metadata": {},
   "outputs": [],
   "source": [
    "search.fit(X_train_ss, y_train_ss)"
   ]
  },
  {
   "cell_type": "code",
   "execution_count": null,
   "id": "5f345a40-68cc-4e7d-88a3-96afabbf469c",
   "metadata": {},
   "outputs": [],
   "source": [
    "search.best_params_"
   ]
  },
  {
   "cell_type": "code",
   "execution_count": null,
   "id": "71980854-3fc4-4560-bbcb-1389299a3ed2",
   "metadata": {},
   "outputs": [],
   "source": [
    "xbgc_parameters = search.best_params_"
   ]
  },
  {
   "cell_type": "code",
   "execution_count": null,
   "id": "705f5a81-bb9b-420f-9ac2-1dadec27e9cc",
   "metadata": {},
   "outputs": [],
   "source": [
    "search.best_score_"
   ]
  },
  {
   "cell_type": "markdown",
   "id": "1540fc4e-9d32-4f97-9b35-c59f149d74a8",
   "metadata": {
    "tags": []
   },
   "source": [
    "## 8. Custom evaluations"
   ]
  },
  {
   "cell_type": "markdown",
   "id": "1175c974-5b5b-4b8c-9d6e-e924c2771c5c",
   "metadata": {
    "tags": []
   },
   "source": [
    "### 8.1. Custom Score"
   ]
  },
  {
   "cell_type": "markdown",
   "id": "884b2fa1-3c96-423e-8003-21f1ac9f8999",
   "metadata": {},
   "source": [
    "We are going to penalize False Negative that are students dropped out, and they were predicted incorrectly.<br> Due to that, we are going to define a Custom Score."
   ]
  },
  {
   "cell_type": "code",
   "execution_count": null,
   "id": "92a2d090-b4fa-49fd-865f-6387a2f481c7",
   "metadata": {},
   "outputs": [],
   "source": [
    "def custom_score(y_test, y_pred):\n",
    "    \"\"\"\n",
    "    Method used to calculate a score based on the penalization of False Negatives.\n",
    "\n",
    "    Parameters:\n",
    "    -----------------\n",
    "        y_test (series): True values\n",
    "        y_pred (series): Predicted values\n",
    "        threshold (float): Threshold value to use\n",
    "        \n",
    "    Returns:\n",
    "    -----------------\n",
    "        Score. (float): Score obtained based on the rules defined to measure. \n",
    "    \"\"\"\n",
    "    \n",
    "    TN_rate = 1        # Students that do not drop out and were predicted correctly\n",
    "    TP_rate = 1        # Students that dropped out and were predicted correctly\n",
    "    FP_rate = -1       # Students that do not drop out and were predicted incorrectly\n",
    "    FN_rate = -10      # Students that dropped out and were were predicted incorrectly\n",
    "    \n",
    "    # Getting all values based on confusion matrix\n",
    "    (TN, FP, FN, TP) = confusion_matrix(y_test, y_pred, labels=[0, 1]).ravel()\n",
    "\n",
    "    # Total of default and not default cases\n",
    "    total_not_default = TN + FP     # Not drop out cases\n",
    "    total_default = TP + FN         # Drop out cases \n",
    "    \n",
    "    gain_total = TN*TN_rate + TP*TP_rate + FP*FP_rate + FN*FN_rate\n",
    "    gain_maximun = total_not_default*TN_rate + total_default*TP_rate\n",
    "    gain_minumun = total_not_default*TN_rate + total_default*FN_rate\n",
    "    \n",
    "    # normalize to get score between 0 (baseline) and 1\n",
    "    score = (gain_total - gain_minumun) / (gain_maximun - gain_minumun)\n",
    "    \n",
    "    return score"
   ]
  },
  {
   "cell_type": "markdown",
   "id": "20474580-b221-4bcf-b80c-8b856e778a20",
   "metadata": {
    "tags": []
   },
   "source": [
    "### 8.2. Threshold selection"
   ]
  },
  {
   "cell_type": "markdown",
   "id": "ad8c49e1-3430-4f44-b3cb-8dbda76345b4",
   "metadata": {},
   "source": [
    "Based on the probability predictions and Custom Score, we are going to identify the best treshold to mesure our models."
   ]
  },
  {
   "cell_type": "code",
   "execution_count": null,
   "id": "540e7bcf-f59d-4127-a339-f0ae5112f9ae",
   "metadata": {},
   "outputs": [],
   "source": [
    "def threshold_selection(y_test, y_prob):\n",
    "    \"\"\"\n",
    "    Method used to calculate the threshold based on the Custom Score.\n",
    "\n",
    "    Parameters:\n",
    "    -----------------\n",
    "        df (pandas.DataFrame): Dataset to analyze\n",
    "        y_test (1d array-like): True values\n",
    "        y_prob (1d array-like): Probabilite values predicted\n",
    "        \n",
    "    Returns:\n",
    "    -----------------\n",
    "        threshold (float) : Best threshold value\n",
    "        Threshold (image) : Plot the threshold and the best score\n",
    "    \"\"\"\n",
    "    \n",
    "    thresholds = np.arange(0, 1, 0.001)\n",
    "    scores = []\n",
    "    \n",
    "    for threshold in thresholds:\n",
    "        y_pred = (y_prob >= threshold).astype(\"int\")\n",
    "        score = custom_score(y_test, y_pred)\n",
    "        scores.append(score)\n",
    "        \n",
    "    scores = np.asarray(scores)\n",
    "    ix = np.argmax(scores)\n",
    "    \n",
    "    best_threshold, best_score = (thresholds[ix], round(scores[ix], 3))\n",
    "    \n",
    "    print(\"Best results\")\n",
    "    print(\"- Best Threshold:\\t\", best_threshold)\n",
    "    print(\"- Best Score:\\t\\t\", best_score)\n",
    "    print(\"\\n\")\n",
    "    \n",
    "    plt.subplots(1, figsize=(6, 5))\n",
    "    plt.plot(thresholds, scores, lw=1)\n",
    "    plt.axvline(best_threshold, ls=\"--\", lw=1, c=\"r\")\n",
    "    plt.title(\"Threshold\")\n",
    "    plt.xlabel(\"proba threshold\")\n",
    "    plt.ylabel(\"Score performed\")\n",
    "    plt.show()\n",
    "    \n",
    "    return best_threshold"
   ]
  },
  {
   "cell_type": "markdown",
   "id": "4358393b-738c-40be-96f4-52b50962b367",
   "metadata": {
    "tags": []
   },
   "source": [
    "## 9. Modelisation"
   ]
  },
  {
   "cell_type": "markdown",
   "id": "b3dd1d54-11fa-4a6c-908e-f1c1ee48a2bf",
   "metadata": {
    "tags": []
   },
   "source": [
    "### 9.1. Modelisation using class_weight"
   ]
  },
  {
   "cell_type": "markdown",
   "id": "4f4f3be2-9dae-4335-b93b-8318d1fa646c",
   "metadata": {},
   "source": [
    "At this point, we are going to use the parameter class_weight to affect the computation of the model to penalize differently a false classification from the minority and majority class"
   ]
  },
  {
   "cell_type": "markdown",
   "id": "c7d8e91b-b122-4521-a40e-d1f043954fcc",
   "metadata": {
    "tags": []
   },
   "source": [
    "#### 9.1.1. Logistic Regresion"
   ]
  },
  {
   "cell_type": "code",
   "execution_count": null,
   "id": "7588debb-ccb8-4556-a32a-cee052abb7d8",
   "metadata": {},
   "outputs": [],
   "source": [
    "# delete string corresponding to pipeline's name\n",
    "lr_parameters = {k.replace(\"logisticregressioncv__\", \"\") : v for k, v in lr_parameters.items()}\n",
    "\n",
    "clf = LogisticRegressionCV(**lr_parameters,\n",
    "                           class_weight=\"balanced\",\n",
    "                           random_state=42,\n",
    "                           n_jobs=-1)\n",
    "\n",
    "clf = make_pipeline(preprocessor, clf)"
   ]
  },
  {
   "cell_type": "markdown",
   "id": "5672d28a-692d-4eb2-9a81-2b66716457b4",
   "metadata": {},
   "source": [
    "Executing the model with the complete dataset"
   ]
  },
  {
   "cell_type": "code",
   "execution_count": null,
   "id": "111c8e50-6d6f-4291-92bd-196d00a53d6e",
   "metadata": {},
   "outputs": [],
   "source": [
    "start_time_model = timeit.default_timer()\n",
    "\n",
    "clf.fit(X_train, y_train)\n",
    "\n",
    "end_time_model =  round(timeit.default_timer() - start_time_model, 3)"
   ]
  },
  {
   "cell_type": "markdown",
   "id": "6830d941-c448-41bb-ab00-508cf8490429",
   "metadata": {},
   "source": [
    "Predict the probabilities"
   ]
  },
  {
   "cell_type": "code",
   "execution_count": null,
   "id": "9f8979c8-3ed6-4f0c-b605-8f2ba33cb91a",
   "metadata": {},
   "outputs": [],
   "source": [
    "y_prob = clf.predict_proba(X_test)\n",
    "y_prob = y_prob[:, 1]"
   ]
  },
  {
   "cell_type": "markdown",
   "id": "9aa53f79-0d0a-44d2-b83c-4d7f32171bba",
   "metadata": {},
   "source": [
    "Let's selet the threshold based on the best parameters"
   ]
  },
  {
   "cell_type": "code",
   "execution_count": null,
   "id": "1c805afa-27da-437d-a1e2-ee577581e024",
   "metadata": {},
   "outputs": [],
   "source": [
    "threshold = threshold_selection(y_test, y_prob)"
   ]
  },
  {
   "cell_type": "markdown",
   "id": "f07cede3-f8e5-48f2-acec-8b949d8a4a4d",
   "metadata": {},
   "source": [
    "Making the predictions based on the probabilities and threshold"
   ]
  },
  {
   "cell_type": "code",
   "execution_count": null,
   "id": "9546a06c-4216-449a-89cb-98c0e452f0de",
   "metadata": {},
   "outputs": [],
   "source": [
    "y_pred = (y_prob >= threshold).astype(int)"
   ]
  },
  {
   "cell_type": "markdown",
   "id": "b6201278-1fb8-42e4-a35b-93dc770d74ab",
   "metadata": {},
   "source": [
    "Now, we can get the metrics"
   ]
  },
  {
   "cell_type": "code",
   "execution_count": null,
   "id": "9a299a4f-ad20-4e35-a99e-3bac19dc65ed",
   "metadata": {},
   "outputs": [],
   "source": [
    "roc_auc = round(roc_auc_score(y_test, y_prob), 3)\n",
    "recall_0, recall_1 = recall_score(y_test, y_pred, average=None).round(3)\n",
    "f1 = round(f1_score(y_test, y_pred), 3)\n",
    "precision = round(precision_score(y_test, y_pred), 3)"
   ]
  },
  {
   "cell_type": "code",
   "execution_count": null,
   "id": "40c128df-a9eb-4a34-b812-dcbe4fb7f6d5",
   "metadata": {},
   "outputs": [],
   "source": [
    "display = ConfusionMatrixDisplay.from_predictions(y_test, y_pred, \n",
    "                                                  display_labels=[\"Not dropped out\", \n",
    "                                                                  \"Dropped out\"])\n",
    "_ = display.ax_.set_title(\"Confusion matrix\")"
   ]
  },
  {
   "cell_type": "code",
   "execution_count": null,
   "id": "8ad43acf-483f-426d-84ca-5fa22c403487",
   "metadata": {},
   "outputs": [],
   "source": [
    "fpr = dict()\n",
    "tpr = dict()\n",
    "fpr[\"micro\"], tpr[\"micro\"], _ = roc_curve(y_test.ravel(), y_prob.ravel())\n",
    "\n",
    "plt.subplots(1, figsize=(6, 6))\n",
    "plt.title(\"Receiver Operating Characteristic\")\n",
    "plt.plot(fpr[\"micro\"], tpr[\"micro\"])\n",
    "plt.plot([0, 1], ls=\"--\")\n",
    "plt.plot([0, 0], [1, 0] , c=\".7\"), plt.plot([1, 1] , c=\".7\")\n",
    "plt.ylabel(\"True Positive Rate\")\n",
    "plt.xlabel(\"False Positive Rate\")\n",
    "plt.show()"
   ]
  },
  {
   "cell_type": "code",
   "execution_count": null,
   "id": "513b080e-5b74-4f2d-954f-e20a98ef6a91",
   "metadata": {},
   "outputs": [],
   "source": [
    "precision_, recall_, thresh_ = precision_recall_curve(y_test, y_prob)\n",
    "\n",
    "plt.subplots(1, figsize=(6, 4))\n",
    "plt.plot(recall_, precision_,  color=\"#1F77B4\");\n",
    "plt.scatter(recall_1, precision, marker=\"o\", s=100, color=\"red\", label=\"Best\")\n",
    "plt.xlabel(\"Recall (Positive label: 1)\")\n",
    "plt.ylabel(\"Precision (Positive label: 1)\")\n",
    "plt.title(\"2-class Precision-Recall curve\")\n",
    "plt.legend([\"Logistic Regresion (AP = %.2f)\"% (precision)], loc=0)\n",
    "plt.show()"
   ]
  },
  {
   "cell_type": "markdown",
   "id": "4665f7e5-31c7-4466-9021-381d57252f64",
   "metadata": {},
   "source": [
    "Let's save the metrics to compare against the others models"
   ]
  },
  {
   "cell_type": "code",
   "execution_count": null,
   "id": "6a37e25e-00b9-443e-ab04-b5ac4763f3e2",
   "metadata": {
    "tags": []
   },
   "outputs": [],
   "source": [
    "df_models_metrics_complete = pd.DataFrame({\n",
    "    \"Model\" : [\"Class weight - Logistic Regresion\"],\n",
    "    \"Threshold\" : threshold,\n",
    "    \"ROC-AUC\" : roc_auc,    \n",
    "    \"Recall - 0\" : recall_0,\n",
    "    \"Recall - 1\" : recall_1,\n",
    "    \"Precision\" : precision,\n",
    "    \"F1\" : f1,    \n",
    "    \"Duration\" : round(end_time_model/60, 1)\n",
    "})\n",
    "\n",
    "df_models_metrics_complete"
   ]
  },
  {
   "cell_type": "markdown",
   "id": "34aedc57-fd8b-4f61-885e-854445999075",
   "metadata": {
    "tags": []
   },
   "source": [
    "#### 9.1.2. Random Forest"
   ]
  },
  {
   "cell_type": "code",
   "execution_count": null,
   "id": "287dd0c3-5334-4ec1-bac7-bea87432bb72",
   "metadata": {
    "tags": []
   },
   "outputs": [],
   "source": [
    "# delete string corresponding to pipeline's name\n",
    "rfm_parameters = {k.replace(\"randomforestclassifier__\", \"\") : v for k, v in rfm_parameters.items()}\n",
    "\n",
    "clf = RandomForestClassifier(**rfm_parameters,\n",
    "                             class_weight=\"balanced\",\n",
    "                             random_state=42,\n",
    "                             n_jobs=-1)\n",
    "\n",
    "clf = make_pipeline(preprocessor, clf)"
   ]
  },
  {
   "cell_type": "markdown",
   "id": "e3a787f6-6a46-4896-adac-ace97ba631ea",
   "metadata": {},
   "source": [
    "Executing the model with the complete dataset"
   ]
  },
  {
   "cell_type": "code",
   "execution_count": null,
   "id": "8d808d98-079a-40db-b117-90d44734a8e5",
   "metadata": {},
   "outputs": [],
   "source": [
    "start_time_model = timeit.default_timer()\n",
    "\n",
    "clf.fit(X_train, y_train)\n",
    "\n",
    "end_time_model =  round(timeit.default_timer() - start_time_model, 3)"
   ]
  },
  {
   "cell_type": "markdown",
   "id": "9111e631-d3a3-4edd-880c-5e2a35ee9cb7",
   "metadata": {},
   "source": [
    "Predict the probabilities"
   ]
  },
  {
   "cell_type": "code",
   "execution_count": null,
   "id": "05ec7d2f-3730-45fa-a8a0-837bae7b07c8",
   "metadata": {},
   "outputs": [],
   "source": [
    "y_prob = clf.predict_proba(X_test)\n",
    "y_prob = y_prob[:, 1]"
   ]
  },
  {
   "cell_type": "markdown",
   "id": "2b0b3402-bc0e-4303-ad3c-9ea269dbeeee",
   "metadata": {},
   "source": [
    "Let's selet the threshold based on the best parameters"
   ]
  },
  {
   "cell_type": "code",
   "execution_count": null,
   "id": "8db61039-3b6d-43c4-85da-7dcb86feecdb",
   "metadata": {},
   "outputs": [],
   "source": [
    "threshold = threshold_selection(y_test, y_prob)"
   ]
  },
  {
   "cell_type": "markdown",
   "id": "d3ebbc64-e246-44da-87fe-5cc84b79cc39",
   "metadata": {},
   "source": [
    "Making the predictions based on the probabilities and threshold"
   ]
  },
  {
   "cell_type": "code",
   "execution_count": null,
   "id": "e676e280-e99a-4626-a469-e562395c6bb3",
   "metadata": {},
   "outputs": [],
   "source": [
    "y_pred = (y_prob >= threshold).astype(int)"
   ]
  },
  {
   "cell_type": "markdown",
   "id": "19dfeca3-e100-43a6-ab81-af90a1365759",
   "metadata": {},
   "source": [
    "Now, we can get the metrics"
   ]
  },
  {
   "cell_type": "code",
   "execution_count": null,
   "id": "1a5fd1f9-7eb2-4b64-b53d-a8faf0a10b03",
   "metadata": {},
   "outputs": [],
   "source": [
    "roc_auc = round(roc_auc_score(y_test, y_prob), 3)\n",
    "recall_0, recall_1 = recall_score(y_test, y_pred, average=None).round(3)\n",
    "f1 = round(f1_score(y_test, y_pred), 3)\n",
    "precision = round(precision_score(y_test, y_pred), 3)"
   ]
  },
  {
   "cell_type": "code",
   "execution_count": null,
   "id": "559659f8-c1d4-42aa-8eda-2c9c3fd8230c",
   "metadata": {},
   "outputs": [],
   "source": [
    "display = ConfusionMatrixDisplay.from_predictions(y_test, y_pred, \n",
    "                                                  display_labels=[\"Not dropped out\", \n",
    "                                                                  \"Dropped out\"])\n",
    "_ = display.ax_.set_title(\"Confusion matrix\")"
   ]
  },
  {
   "cell_type": "code",
   "execution_count": null,
   "id": "a9794f2c-a016-4b89-9ec4-4931316086aa",
   "metadata": {},
   "outputs": [],
   "source": [
    "fpr = dict()\n",
    "tpr = dict()\n",
    "fpr[\"micro\"], tpr[\"micro\"], _ = roc_curve(y_test.ravel(), y_prob.ravel())\n",
    "\n",
    "plt.subplots(1, figsize=(6, 6))\n",
    "plt.title(\"Receiver Operating Characteristic\")\n",
    "plt.plot(fpr[\"micro\"], tpr[\"micro\"])\n",
    "plt.plot([0, 1], ls=\"--\")\n",
    "plt.plot([0, 0], [1, 0] , c=\".7\"), plt.plot([1, 1] , c=\".7\")\n",
    "plt.ylabel(\"True Positive Rate\")\n",
    "plt.xlabel(\"False Positive Rate\")\n",
    "plt.show()"
   ]
  },
  {
   "cell_type": "code",
   "execution_count": null,
   "id": "7010c2a0-9065-464b-b475-3434e5e2233b",
   "metadata": {},
   "outputs": [],
   "source": [
    "precision_, recall_, thresh_ = precision_recall_curve(y_test, y_prob)\n",
    "\n",
    "plt.subplots(1, figsize=(6, 4))\n",
    "plt.plot(recall_, precision_,  color=\"#1F77B4\");\n",
    "plt.scatter(recall_1, precision, marker=\"o\", s=100, color=\"red\", label=\"Best\")\n",
    "plt.xlabel(\"Recall (Positive label: 1)\")\n",
    "plt.ylabel(\"Precision (Positive label: 1)\")\n",
    "plt.title(\"2-class Precision-Recall curve\")\n",
    "plt.legend([\"Random Forest (AP = %.2f)\"% (precision)], loc=0)\n",
    "plt.show()"
   ]
  },
  {
   "cell_type": "markdown",
   "id": "0879ad8c-5bb0-47f8-92e7-e19b6b69d0ae",
   "metadata": {},
   "source": [
    "Let's save the metrics to compare against the others models"
   ]
  },
  {
   "cell_type": "code",
   "execution_count": null,
   "id": "dc048563-54bc-4269-8df0-afd9e3fc1607",
   "metadata": {},
   "outputs": [],
   "source": [
    "df_temp  = pd.DataFrame({\n",
    "    \"Model\" : [\"Class weight - Random Forest\"],\n",
    "    \"Threshold\" : threshold,\n",
    "    \"ROC-AUC\" : roc_auc,    \n",
    "    \"Recall - 0\" : recall_0,\n",
    "    \"Recall - 1\" : recall_1,\n",
    "    \"Precision\" : precision,\n",
    "    \"F1\" : f1,    \n",
    "    \"Duration\" : round(end_time_model/60, 1)\n",
    "})\n",
    "\n",
    "df_models_metrics_complete = pd.concat([df_models_metrics_complete, df_temp])\n",
    "df_models_metrics_complete.reset_index(drop=True)"
   ]
  },
  {
   "cell_type": "markdown",
   "id": "316668a3-dd09-4595-88ce-a9b5aba33733",
   "metadata": {
    "tags": []
   },
   "source": [
    "#### 9.1.3. Gradient Boosting"
   ]
  },
  {
   "cell_type": "markdown",
   "id": "8352e3d6-8fb9-4c68-87b9-43843b36f1b6",
   "metadata": {},
   "source": [
    "Unfortunately, Gradient Boosting (GBM) doesn't have a parameters call `class_weight` to treat with Imbalanced Class.<br>\n",
    "\n",
    "But, GBM deals with class imbalance by constructing successive training sets based on incorrectly classified examples"
   ]
  },
  {
   "cell_type": "code",
   "execution_count": null,
   "id": "ffa61e13-8d22-4149-9cd3-6b82de5d8185",
   "metadata": {},
   "outputs": [],
   "source": [
    "# delete string corresponding to pipeline's name\n",
    "gbc_parameters = {k.replace(\"gradientboostingclassifier__\", \"\") : v for k, v in gbc_parameters.items()}\n",
    "\n",
    "clf = GradientBoostingClassifier(**gbc_parameters,\n",
    "                                 validation_fraction=0.2, \n",
    "                                 n_iter_no_change=5,\n",
    "                                 random_state=42)\n",
    "\n",
    "clf = make_pipeline(preprocessor, clf)"
   ]
  },
  {
   "cell_type": "markdown",
   "id": "9b0c9c26-3d27-4be4-a611-e100f46bcebe",
   "metadata": {},
   "source": [
    "Executing the model with the complete dataset"
   ]
  },
  {
   "cell_type": "code",
   "execution_count": null,
   "id": "95006684-d192-4210-9ff7-3fe28d7bc14a",
   "metadata": {},
   "outputs": [],
   "source": [
    "start_time_model = timeit.default_timer()\n",
    "\n",
    "clf.fit(X_train, y_train)\n",
    "\n",
    "end_time_model =  round(timeit.default_timer() - start_time_model, 3)"
   ]
  },
  {
   "cell_type": "markdown",
   "id": "145420d0-ea86-403c-be71-71db28e7465b",
   "metadata": {},
   "source": [
    "Predict the probabilities"
   ]
  },
  {
   "cell_type": "code",
   "execution_count": null,
   "id": "64f38937-f7e1-459a-8544-a12945994940",
   "metadata": {},
   "outputs": [],
   "source": [
    "y_prob = clf.predict_proba(X_test)\n",
    "y_prob = y_prob[:, 1]"
   ]
  },
  {
   "cell_type": "markdown",
   "id": "c81f300c-f8a6-4eb3-ad95-b74dbece2f97",
   "metadata": {},
   "source": [
    "Let's selet the threshold based on the best parameters"
   ]
  },
  {
   "cell_type": "code",
   "execution_count": null,
   "id": "f9b05ecd-3318-4a60-a934-9dc34ab6bb7d",
   "metadata": {},
   "outputs": [],
   "source": [
    "threshold = threshold_selection(y_test, y_prob)"
   ]
  },
  {
   "cell_type": "markdown",
   "id": "a0c073c0-5528-48fd-9e18-b7c86a8f883f",
   "metadata": {},
   "source": [
    "Making the predictions based on the probabilities and threshold"
   ]
  },
  {
   "cell_type": "code",
   "execution_count": null,
   "id": "8865f255-be0b-4be7-ac2f-a2a1824a54a9",
   "metadata": {},
   "outputs": [],
   "source": [
    "y_pred = (y_prob >= threshold).astype(int)"
   ]
  },
  {
   "cell_type": "markdown",
   "id": "54df2435-c41b-4250-8e7c-e3eed209eaf3",
   "metadata": {},
   "source": [
    "Now, we can get the metrics"
   ]
  },
  {
   "cell_type": "code",
   "execution_count": null,
   "id": "a574ff8e-0ac6-48ab-b68b-d1ae29faa5ed",
   "metadata": {},
   "outputs": [],
   "source": [
    "roc_auc = round(roc_auc_score(y_test, y_prob), 3)\n",
    "recall_0, recall_1 = recall_score(y_test, y_pred, average=None).round(3)\n",
    "f1 = round(f1_score(y_test, y_pred), 3)\n",
    "precision = round(precision_score(y_test, y_pred), 3)"
   ]
  },
  {
   "cell_type": "code",
   "execution_count": null,
   "id": "d9f4fbca-656e-4e4c-b30e-339222b6503e",
   "metadata": {},
   "outputs": [],
   "source": [
    "display = ConfusionMatrixDisplay.from_predictions(y_test, y_pred, \n",
    "                                                  display_labels=[\"Not dropped out\", \n",
    "                                                                  \"Dropped out\"])\n",
    "_ = display.ax_.set_title(\"Confusion matrix\")"
   ]
  },
  {
   "cell_type": "code",
   "execution_count": null,
   "id": "984e0257-6172-4b94-b53d-77a4c7855d23",
   "metadata": {},
   "outputs": [],
   "source": [
    "fpr = dict()\n",
    "tpr = dict()\n",
    "fpr[\"micro\"], tpr[\"micro\"], _ = roc_curve(y_test.ravel(), y_prob.ravel())\n",
    "\n",
    "plt.subplots(1, figsize=(6, 6))\n",
    "plt.title(\"Receiver Operating Characteristic\")\n",
    "plt.plot(fpr[\"micro\"], tpr[\"micro\"])\n",
    "plt.plot([0, 1], ls=\"--\")\n",
    "plt.plot([0, 0], [1, 0] , c=\".7\"), plt.plot([1, 1] , c=\".7\")\n",
    "plt.ylabel(\"True Positive Rate\")\n",
    "plt.xlabel(\"False Positive Rate\")\n",
    "plt.show()"
   ]
  },
  {
   "cell_type": "code",
   "execution_count": null,
   "id": "396b04c6-c022-4cee-ae45-0c262a9b403b",
   "metadata": {},
   "outputs": [],
   "source": [
    "precision_, recall_, thresh_ = precision_recall_curve(y_test, y_prob)\n",
    "\n",
    "plt.subplots(1, figsize=(6, 4))\n",
    "plt.plot(recall_, precision_,  color=\"#1F77B4\");\n",
    "plt.scatter(recall_1, precision, marker=\"o\", s=100, color=\"red\", label=\"Best\")\n",
    "plt.xlabel(\"Recall (Positive label: 1)\")\n",
    "plt.ylabel(\"Precision (Positive label: 1)\")\n",
    "plt.title(\"2-class Precision-Recall curve\")\n",
    "plt.legend([\"Gradient Boosting (AP = %.2f)\"% (precision)], loc=0)\n",
    "plt.show()"
   ]
  },
  {
   "cell_type": "markdown",
   "id": "af5298a2-7d05-4cd1-993f-7ba8713faf25",
   "metadata": {},
   "source": [
    "Let's save the metrics to compare against the others models"
   ]
  },
  {
   "cell_type": "code",
   "execution_count": null,
   "id": "0e6a3e19-6ea3-4b27-9883-58085207d403",
   "metadata": {},
   "outputs": [],
   "source": [
    "df_temp  = pd.DataFrame({\n",
    "    \"Model\" : [\"Tuned - Gradient Boosting\"],\n",
    "    \"Threshold\" : threshold,\n",
    "    \"ROC-AUC\" : roc_auc,    \n",
    "    \"Recall - 0\" : recall_0,\n",
    "    \"Recall - 1\" : recall_1,\n",
    "    \"Precision\" : precision,\n",
    "    \"F1\" : f1,    \n",
    "    \"Duration\" : round(end_time_model/60, 1)\n",
    "})\n",
    "\n",
    "df_models_metrics_complete = pd.concat([df_models_metrics_complete, df_temp])\n",
    "df_models_metrics_complete.reset_index(drop=True)"
   ]
  },
  {
   "cell_type": "markdown",
   "id": "cb785eef-0623-4304-b227-c5c99bfea3fc",
   "metadata": {
    "tags": []
   },
   "source": [
    "#### 9.1.4. XGBoost"
   ]
  },
  {
   "cell_type": "markdown",
   "id": "4818a4d0-ebbe-44c1-a55f-c2d7d2d455cb",
   "metadata": {},
   "source": [
    "Unfortunately, Gradient Boosting (GBM) doesn't have a parameters call class_weight to treat with Imbalanced Class.<br>\n",
    "But, the XGBoost documentation suggests a fast way to estimate this value using the training dataset as the total number of examples in the majority class divided by the total number of examples in the minority class.\n",
    "\n",
    "$$scale\\_pos\\_weight = \\frac{total\\_negative\\_examples}{total\\_positive\\_examples}$$"
   ]
  },
  {
   "cell_type": "code",
   "execution_count": null,
   "id": "f585d1a6-e6da-44ce-acad-bf3951e3a116",
   "metadata": {},
   "outputs": [],
   "source": [
    "counter = Counter(y_train)\n",
    "estimate = counter[0] / counter[1]\n",
    "print(\"Estimate: %.3f\" % estimate)"
   ]
  },
  {
   "cell_type": "code",
   "execution_count": null,
   "id": "d1cb6a5c-44b3-4254-b698-ef03409ce3a0",
   "metadata": {},
   "outputs": [],
   "source": [
    "# delete string corresponding to pipeline's name\n",
    "xbgc_parameters = {k.replace(\"xgbclassifier__\", \"\") : v for k, v in xbgc_parameters.items()}\n",
    "\n",
    "# xbgc = XGBClassifier()\n",
    "\n",
    "clf = XGBClassifier(**xbgc_parameters,\n",
    "                    scale_pos_weight=estimate,\n",
    "                    random_state=42,\n",
    "                    n_jobs=-1)\n",
    "\n",
    "clf = make_pipeline(preprocessor, clf)"
   ]
  },
  {
   "cell_type": "markdown",
   "id": "721d8e55-b515-4af9-bc50-2a18d5078703",
   "metadata": {},
   "source": [
    "Executing the model with the complete dataset"
   ]
  },
  {
   "cell_type": "code",
   "execution_count": null,
   "id": "581ef190-7887-4ad7-b26c-9a6a9ca57fab",
   "metadata": {},
   "outputs": [],
   "source": [
    "start_time_model = timeit.default_timer()\n",
    "\n",
    "clf.fit(X_train, y_train)\n",
    "\n",
    "end_time_model =  round(timeit.default_timer() - start_time_model, 3)"
   ]
  },
  {
   "cell_type": "markdown",
   "id": "1b721a97-bb32-4fab-ab79-5bd89356a822",
   "metadata": {},
   "source": [
    "Predict the probabilities"
   ]
  },
  {
   "cell_type": "code",
   "execution_count": null,
   "id": "b7481a60-d8e4-4fe6-85e8-a62fece30340",
   "metadata": {},
   "outputs": [],
   "source": [
    "y_prob = clf.predict_proba(X_test)\n",
    "y_prob = y_prob[:, 1]"
   ]
  },
  {
   "cell_type": "markdown",
   "id": "1253da39-923c-4bce-9587-e5b33d595d78",
   "metadata": {},
   "source": [
    "Let's selet the threshold based on the best parameters"
   ]
  },
  {
   "cell_type": "code",
   "execution_count": null,
   "id": "59e7786f-5be0-4c45-b8d2-f21594b47002",
   "metadata": {},
   "outputs": [],
   "source": [
    "threshold = threshold_selection(y_test, y_prob)"
   ]
  },
  {
   "cell_type": "markdown",
   "id": "982fe9e7-304e-4d52-ba0e-9b2b8b819f48",
   "metadata": {},
   "source": [
    "Making the predictions based on the probabilities and threshold"
   ]
  },
  {
   "cell_type": "code",
   "execution_count": null,
   "id": "3b826f51-1399-4c79-90e2-b5e31eca137d",
   "metadata": {},
   "outputs": [],
   "source": [
    "y_pred = (y_prob >= threshold).astype(int)"
   ]
  },
  {
   "cell_type": "markdown",
   "id": "4ea9bc9f-2128-4423-bf06-39db339ffcf7",
   "metadata": {},
   "source": [
    "Now, we can get the metrics"
   ]
  },
  {
   "cell_type": "code",
   "execution_count": null,
   "id": "37790e40-337f-4695-8f56-0eb0b1279cef",
   "metadata": {},
   "outputs": [],
   "source": [
    "roc_auc = round(roc_auc_score(y_test, y_prob), 3)\n",
    "recall_0, recall_1 = recall_score(y_test, y_pred, average=None).round(3)\n",
    "f1 = round(f1_score(y_test, y_pred), 3)\n",
    "precision = round(precision_score(y_test, y_pred), 3)"
   ]
  },
  {
   "cell_type": "code",
   "execution_count": null,
   "id": "a25de5a2-c024-4ee6-8d48-126d5ad4237f",
   "metadata": {},
   "outputs": [],
   "source": [
    "display = ConfusionMatrixDisplay.from_predictions(y_test, y_pred, \n",
    "                                                  display_labels=[\"Not dropped out\", \n",
    "                                                                  \"Dropped out\"])\n",
    "_ = display.ax_.set_title(\"Confusion matrix\")"
   ]
  },
  {
   "cell_type": "code",
   "execution_count": null,
   "id": "d8dafd1f-2486-45c1-a328-f91557e3ac23",
   "metadata": {},
   "outputs": [],
   "source": [
    "fpr = dict()\n",
    "tpr = dict()\n",
    "fpr[\"micro\"], tpr[\"micro\"], _ = roc_curve(y_test.ravel(), y_prob.ravel())\n",
    "\n",
    "plt.subplots(1, figsize=(6, 6))\n",
    "plt.title(\"Receiver Operating Characteristic\")\n",
    "plt.plot(fpr[\"micro\"], tpr[\"micro\"])\n",
    "plt.plot([0, 1], ls=\"--\")\n",
    "plt.plot([0, 0], [1, 0] , c=\".7\"), plt.plot([1, 1] , c=\".7\")\n",
    "plt.ylabel(\"True Positive Rate\")\n",
    "plt.xlabel(\"False Positive Rate\")\n",
    "plt.show()"
   ]
  },
  {
   "cell_type": "code",
   "execution_count": null,
   "id": "a9890b03-2c68-4d07-b16d-c9ae05cbae22",
   "metadata": {},
   "outputs": [],
   "source": [
    "precision_, recall_, thresh_ = precision_recall_curve(y_test, y_prob)\n",
    "\n",
    "plt.subplots(1, figsize=(6, 4))\n",
    "plt.plot(recall_, precision_,  color=\"#1F77B4\");\n",
    "plt.scatter(recall_1, precision, marker=\"o\", s=100, color=\"red\", label=\"Best\")\n",
    "plt.xlabel(\"Recall (Positive label: 1)\")\n",
    "plt.ylabel(\"Precision (Positive label: 1)\")\n",
    "plt.title(\"2-class Precision-Recall curve\")\n",
    "plt.legend([\"XGBoost (AP = %.2f)\"% (precision)], loc=0)\n",
    "plt.show()"
   ]
  },
  {
   "cell_type": "markdown",
   "id": "d01f8c02-c50c-46ed-b38b-489c0720d80f",
   "metadata": {},
   "source": [
    "Let's save the metrics to compare against the others models"
   ]
  },
  {
   "cell_type": "code",
   "execution_count": null,
   "id": "18f5e381-bde1-4638-8aa0-b9f48cfe3287",
   "metadata": {},
   "outputs": [],
   "source": [
    "df_temp  = pd.DataFrame({\n",
    "    \"Model\" : [\"Tuned - XGBoost\"],\n",
    "    \"Threshold\" : threshold,\n",
    "    \"ROC-AUC\" : roc_auc,    \n",
    "    \"Recall - 0\" : recall_0,\n",
    "    \"Recall - 1\" : recall_1,\n",
    "    \"Precision\" : precision,\n",
    "    \"F1\" : f1,    \n",
    "    \"Duration\" : round(end_time_model/60, 1)\n",
    "})\n",
    "\n",
    "df_models_metrics_complete = pd.concat([df_models_metrics_complete, df_temp])\n",
    "df_models_metrics_complete.reset_index(drop=True)"
   ]
  },
  {
   "cell_type": "markdown",
   "id": "cd5b01f1-e941-4162-8120-909168bc5ac7",
   "metadata": {
    "tags": []
   },
   "source": [
    "### 9.2. Modelisation using OverSampling"
   ]
  },
  {
   "cell_type": "markdown",
   "id": "3e6c5054-2e84-4bab-9736-4924c9fa7b8f",
   "metadata": {},
   "source": [
    "To treat the unbalanced class, we are going to implement OverSampling technique with SMOTE."
   ]
  },
  {
   "cell_type": "code",
   "execution_count": null,
   "id": "afd69a95-b297-4c7c-ae15-e0fa14dcd361",
   "metadata": {},
   "outputs": [],
   "source": [
    "smote = SMOTE(random_state=42, n_jobs=-1)"
   ]
  },
  {
   "cell_type": "markdown",
   "id": "0bbb46a7-30af-4fbb-a718-5d025b0d66eb",
   "metadata": {
    "tags": []
   },
   "source": [
    "#### 9.2.1. Logistic Regresion"
   ]
  },
  {
   "cell_type": "code",
   "execution_count": null,
   "id": "c79d2f03-54af-458c-8e87-08ddc1dc561a",
   "metadata": {},
   "outputs": [],
   "source": [
    "imbpipeline_clf = imbpipeline(steps=[\n",
    "    (\"preprocessor\", preprocessor),\n",
    "    (\"smote\", smote),\n",
    "    (\"lr_imblearn\", LogisticRegressionCV(**lr_parameters,\n",
    "                                         random_state=42,\n",
    "                                         n_jobs=-1)\n",
    "    )\n",
    "])"
   ]
  },
  {
   "cell_type": "markdown",
   "id": "fedd0408-fc38-42b7-a691-51345d7d10ad",
   "metadata": {},
   "source": [
    "Executing the model with the complete dataset"
   ]
  },
  {
   "cell_type": "code",
   "execution_count": null,
   "id": "23926367-2db4-43a7-b5d3-a6dd458babf4",
   "metadata": {},
   "outputs": [],
   "source": [
    "start_time_model = timeit.default_timer()\n",
    "\n",
    "imbpipeline_clf.fit(X_train, y_train)\n",
    "\n",
    "end_time_model =  round(timeit.default_timer() - start_time_model, 3)"
   ]
  },
  {
   "cell_type": "markdown",
   "id": "781984c6-99b4-4fa5-b03f-90618599c71a",
   "metadata": {},
   "source": [
    "Predict the probabilities"
   ]
  },
  {
   "cell_type": "code",
   "execution_count": null,
   "id": "f048be11-a010-4f5f-9aad-7a5c2abae2ee",
   "metadata": {},
   "outputs": [],
   "source": [
    "y_prob = imbpipeline_clf.predict_proba(X_test)\n",
    "y_prob = y_prob[:, 1]"
   ]
  },
  {
   "cell_type": "markdown",
   "id": "8151e30d-19b5-43ff-876c-54eadb3539fa",
   "metadata": {},
   "source": [
    "Let's selet the threshold based on the best parameters"
   ]
  },
  {
   "cell_type": "code",
   "execution_count": null,
   "id": "2046b40f-fb40-4b82-952c-353c9ab4ae90",
   "metadata": {},
   "outputs": [],
   "source": [
    "threshold = threshold_selection(y_test, y_prob)"
   ]
  },
  {
   "cell_type": "markdown",
   "id": "16d6af2d-139f-4ad5-8436-fa281a4d21c7",
   "metadata": {},
   "source": [
    "Making the predictions based on the probabilities and threshold"
   ]
  },
  {
   "cell_type": "code",
   "execution_count": null,
   "id": "fb28b334-3af8-46c6-bfa4-9d0cb05ed186",
   "metadata": {},
   "outputs": [],
   "source": [
    "y_pred = (y_prob >= threshold).astype(int)"
   ]
  },
  {
   "cell_type": "markdown",
   "id": "a0c775a4-2be9-4ff3-8fa7-cb811473b499",
   "metadata": {},
   "source": [
    "Now, we can get the metrics"
   ]
  },
  {
   "cell_type": "code",
   "execution_count": null,
   "id": "d4faee0e-f41d-40e7-ad9e-d15f8d5af5e8",
   "metadata": {},
   "outputs": [],
   "source": [
    "roc_auc = round(roc_auc_score(y_test, y_prob), 3)\n",
    "recall_0, recall_1 = recall_score(y_test, y_pred, average=None).round(3)\n",
    "f1 = round(f1_score(y_test, y_pred), 3)\n",
    "precision = round(precision_score(y_test, y_pred), 3)"
   ]
  },
  {
   "cell_type": "code",
   "execution_count": null,
   "id": "25b1cda7-b307-4d6e-8204-e022b0ec5f2e",
   "metadata": {},
   "outputs": [],
   "source": [
    "display = ConfusionMatrixDisplay.from_predictions(y_test, y_pred, \n",
    "                                                  display_labels=[\"Not dropped out\", \n",
    "                                                                  \"Dropped out\"])\n",
    "_ = display.ax_.set_title(\"Confusion matrix\")"
   ]
  },
  {
   "cell_type": "code",
   "execution_count": null,
   "id": "302bd5b1-33e2-4fe7-b6ad-67a39035b729",
   "metadata": {},
   "outputs": [],
   "source": [
    "fpr = dict()\n",
    "tpr = dict()\n",
    "fpr[\"micro\"], tpr[\"micro\"], _ = roc_curve(y_test.ravel(), y_prob.ravel())\n",
    "\n",
    "plt.subplots(1, figsize=(6, 6))\n",
    "plt.title(\"Receiver Operating Characteristic\")\n",
    "plt.plot(fpr[\"micro\"], tpr[\"micro\"])\n",
    "plt.plot([0, 1], ls=\"--\")\n",
    "plt.plot([0, 0], [1, 0] , c=\".7\"), plt.plot([1, 1] , c=\".7\")\n",
    "plt.ylabel(\"True Positive Rate\")\n",
    "plt.xlabel(\"False Positive Rate\")\n",
    "plt.show()"
   ]
  },
  {
   "cell_type": "code",
   "execution_count": null,
   "id": "01ea7b2e-2994-435d-a76c-bf5dda8e7c2f",
   "metadata": {},
   "outputs": [],
   "source": [
    "precision_, recall_, thresh_ = precision_recall_curve(y_test, y_prob)\n",
    "\n",
    "plt.subplots(1, figsize=(6, 4))\n",
    "plt.plot(recall_, precision_,  color=\"#1F77B4\");\n",
    "plt.scatter(recall_1, precision, marker=\"o\", s=100, color=\"red\", label=\"Best\")\n",
    "plt.xlabel(\"Recall (Positive label: 1)\")\n",
    "plt.ylabel(\"Precision (Positive label: 1)\")\n",
    "plt.title(\"2-class Precision-Recall curve\")\n",
    "plt.legend([\"Logistic Regresion (AP = %.2f)\"% (precision)], loc=0)\n",
    "plt.show()"
   ]
  },
  {
   "cell_type": "markdown",
   "id": "f7e58848-bd06-490b-b816-43c02eff4e0b",
   "metadata": {},
   "source": [
    "Let's save the metrics to compare against the others models"
   ]
  },
  {
   "cell_type": "code",
   "execution_count": null,
   "id": "947b3508-cd6e-4a0d-b194-67caa4b5bcb4",
   "metadata": {},
   "outputs": [],
   "source": [
    "df_temp  = pd.DataFrame({\n",
    "    \"Model\" : [\"OverSampling - Logistic Regresion\"],\n",
    "    \"Threshold\" : threshold,\n",
    "    \"ROC-AUC\" : roc_auc,    \n",
    "    \"Recall - 0\" : recall_0,\n",
    "    \"Recall - 1\" : recall_1,\n",
    "    \"Precision\" : precision,\n",
    "    \"F1\" : f1,    \n",
    "    \"Duration\" : round(end_time_model/60, 1)\n",
    "})\n",
    "\n",
    "df_models_metrics_complete = pd.concat([df_models_metrics_complete, df_temp])\n",
    "df_models_metrics_complete.reset_index(drop=True)"
   ]
  },
  {
   "cell_type": "markdown",
   "id": "396a88a5-0d67-4d67-af82-225516a8c6fe",
   "metadata": {
    "tags": []
   },
   "source": [
    "#### 9.2.2. Random Forest"
   ]
  },
  {
   "cell_type": "code",
   "execution_count": null,
   "id": "a2d9a021-6f93-4da2-b0e9-aecdd5e09b78",
   "metadata": {},
   "outputs": [],
   "source": [
    "imbpipeline_clf = imbpipeline(steps=[\n",
    "    (\"preprocessor\", preprocessor),\n",
    "    (\"smote\", smote),\n",
    "    (\"rfc_imblearn\", RandomForestClassifier(**rfm_parameters,\n",
    "                                            random_state=42,\n",
    "                                            n_jobs=-1)\n",
    "    )\n",
    "])"
   ]
  },
  {
   "cell_type": "markdown",
   "id": "5e0b1d91-d997-4bac-ab82-e73105279c18",
   "metadata": {},
   "source": [
    "Executing the model with the complete dataset"
   ]
  },
  {
   "cell_type": "code",
   "execution_count": null,
   "id": "d5fa16b1-0d21-4b78-a675-5d688aad93ff",
   "metadata": {},
   "outputs": [],
   "source": [
    "start_time_model = timeit.default_timer()\n",
    "\n",
    "imbpipeline_clf.fit(X_train, y_train)\n",
    "\n",
    "end_time_model =  round(timeit.default_timer() - start_time_model, 3)"
   ]
  },
  {
   "cell_type": "markdown",
   "id": "0ecbaa2e-1a1f-434c-a26a-e2111b203b4a",
   "metadata": {},
   "source": [
    "Predict the probabilities"
   ]
  },
  {
   "cell_type": "code",
   "execution_count": null,
   "id": "703507e5-c478-484c-9ac4-ee782f5146d3",
   "metadata": {},
   "outputs": [],
   "source": [
    "y_prob = imbpipeline_clf.predict_proba(X_test)\n",
    "y_prob = y_prob[:, 1]"
   ]
  },
  {
   "cell_type": "markdown",
   "id": "471d1674-2d6e-43a2-94fa-94913cd97bf1",
   "metadata": {},
   "source": [
    "Let's selet the threshold based on the best parameters"
   ]
  },
  {
   "cell_type": "code",
   "execution_count": null,
   "id": "7d01a8ea-1314-48d8-a998-51d0fa713b7e",
   "metadata": {},
   "outputs": [],
   "source": [
    "threshold = threshold_selection(y_test, y_prob)"
   ]
  },
  {
   "cell_type": "markdown",
   "id": "9f09e67a-62e4-482b-8101-288a18e98c6a",
   "metadata": {},
   "source": [
    "Making the predictions based on the probabilities and threshold"
   ]
  },
  {
   "cell_type": "code",
   "execution_count": null,
   "id": "2c5ab928-92f4-44c7-b99c-0a09ba953bc0",
   "metadata": {},
   "outputs": [],
   "source": [
    "y_pred = (y_prob >= threshold).astype(int)"
   ]
  },
  {
   "cell_type": "markdown",
   "id": "8bfeafe9-6b72-4ec4-8827-d820246463d2",
   "metadata": {},
   "source": [
    "Now, we can get the metrics"
   ]
  },
  {
   "cell_type": "code",
   "execution_count": null,
   "id": "8d90df04-9391-45f6-bf18-ce6f111770cf",
   "metadata": {},
   "outputs": [],
   "source": [
    "roc_auc = round(roc_auc_score(y_test, y_prob), 3)\n",
    "recall_0, recall_1 = recall_score(y_test, y_pred, average=None).round(3)\n",
    "f1 = round(f1_score(y_test, y_pred), 3)\n",
    "precision = round(precision_score(y_test, y_pred), 3)"
   ]
  },
  {
   "cell_type": "code",
   "execution_count": null,
   "id": "6ba9f341-1a5b-4205-b77c-045746980ff1",
   "metadata": {},
   "outputs": [],
   "source": [
    "display = ConfusionMatrixDisplay.from_predictions(y_test, y_pred, \n",
    "                                                  display_labels=[\"Not dropped out\", \n",
    "                                                                  \"Dropped out\"])\n",
    "_ = display.ax_.set_title(\"Confusion matrix\")"
   ]
  },
  {
   "cell_type": "code",
   "execution_count": null,
   "id": "7797e6f8-a4c8-4116-acdf-28941f75ea48",
   "metadata": {},
   "outputs": [],
   "source": [
    "fpr = dict()\n",
    "tpr = dict()\n",
    "fpr[\"micro\"], tpr[\"micro\"], _ = roc_curve(y_test.ravel(), y_prob.ravel())\n",
    "\n",
    "plt.subplots(1, figsize=(6, 6))\n",
    "plt.title(\"Receiver Operating Characteristic\")\n",
    "plt.plot(fpr[\"micro\"], tpr[\"micro\"])\n",
    "plt.plot([0, 1], ls=\"--\")\n",
    "plt.plot([0, 0], [1, 0] , c=\".7\"), plt.plot([1, 1] , c=\".7\")\n",
    "plt.ylabel(\"True Positive Rate\")\n",
    "plt.xlabel(\"False Positive Rate\")\n",
    "plt.show()"
   ]
  },
  {
   "cell_type": "code",
   "execution_count": null,
   "id": "a086c095-bb9e-47ad-9e4c-fdab672928bb",
   "metadata": {},
   "outputs": [],
   "source": [
    "precision_, recall_, thresh_ = precision_recall_curve(y_test, y_prob)\n",
    "\n",
    "plt.subplots(1, figsize=(6, 4))\n",
    "plt.plot(recall_, precision_,  color=\"#1F77B4\");\n",
    "plt.scatter(recall_1, precision, marker=\"o\", s=100, color=\"red\", label=\"Best\")\n",
    "plt.xlabel(\"Recall (Positive label: 1)\")\n",
    "plt.ylabel(\"Precision (Positive label: 1)\")\n",
    "plt.title(\"2-class Precision-Recall curve\")\n",
    "plt.legend([\"Random Forest (AP = %.2f)\"% (precision)], loc=0)\n",
    "plt.show()"
   ]
  },
  {
   "cell_type": "markdown",
   "id": "08591977-ff6d-4218-98a9-54d64f5fe9b5",
   "metadata": {},
   "source": [
    "Let's save the metrics to compare against the others models"
   ]
  },
  {
   "cell_type": "code",
   "execution_count": null,
   "id": "983ba88c-d0b4-47d8-bbd6-c772ab2836e6",
   "metadata": {},
   "outputs": [],
   "source": [
    "df_temp  = pd.DataFrame({\n",
    "    \"Model\" : [\"OverSampling - Random Forest\"],\n",
    "    \"Threshold\" : threshold,\n",
    "    \"ROC-AUC\" : roc_auc,    \n",
    "    \"Recall - 0\" : recall_0,\n",
    "    \"Recall - 1\" : recall_1,\n",
    "    \"Precision\" : precision,\n",
    "    \"F1\" : f1,    \n",
    "    \"Duration\" : round(end_time_model/60, 1)\n",
    "})\n",
    "\n",
    "df_models_metrics_complete = pd.concat([df_models_metrics_complete, df_temp])\n",
    "df_models_metrics_complete.reset_index(drop=True)"
   ]
  },
  {
   "cell_type": "markdown",
   "id": "27e1b391-ba10-4522-8bdc-da8df26d68c0",
   "metadata": {
    "tags": []
   },
   "source": [
    "#### 9.2.3. Gradient Boosting"
   ]
  },
  {
   "cell_type": "code",
   "execution_count": null,
   "id": "a5d4196d-886b-4500-8fb2-782469a10c7b",
   "metadata": {},
   "outputs": [],
   "source": [
    "imbpipeline_clf = imbpipeline(steps=[\n",
    "    (\"preprocessor\", preprocessor),\n",
    "    (\"smote\", smote),\n",
    "    (\"gbc_imblearn\", GradientBoostingClassifier(**gbc_parameters,\n",
    "                                                validation_fraction=0.2, \n",
    "                                                n_iter_no_change=5,\n",
    "                                                random_state=42)\n",
    "    )\n",
    "])"
   ]
  },
  {
   "cell_type": "markdown",
   "id": "fd836160-8b78-4ab9-9cc2-d0e3992f4a4c",
   "metadata": {},
   "source": [
    "Executing the model with the complete dataset"
   ]
  },
  {
   "cell_type": "code",
   "execution_count": null,
   "id": "687ac469-6ead-4544-aaeb-1d38a1d6abd3",
   "metadata": {},
   "outputs": [],
   "source": [
    "start_time_model = timeit.default_timer()\n",
    "\n",
    "imbpipeline_clf.fit(X_train, y_train)\n",
    "\n",
    "end_time_model =  round(timeit.default_timer() - start_time_model, 3)"
   ]
  },
  {
   "cell_type": "markdown",
   "id": "d8751060-9393-485b-b63f-3b5db4214f5b",
   "metadata": {},
   "source": [
    "Predict the probabilities"
   ]
  },
  {
   "cell_type": "code",
   "execution_count": null,
   "id": "6ec5d75f-1431-4740-bfde-d616e45c3d30",
   "metadata": {},
   "outputs": [],
   "source": [
    "y_prob = imbpipeline_clf.predict_proba(X_test)\n",
    "y_prob = y_prob[:, 1]"
   ]
  },
  {
   "cell_type": "markdown",
   "id": "69eeb59a-040b-473f-abeb-cd8c3d6c93f0",
   "metadata": {},
   "source": [
    "Let's selet the threshold based on the best parameters"
   ]
  },
  {
   "cell_type": "code",
   "execution_count": null,
   "id": "60402146-257e-4bc2-ac41-ad4e0540ffbb",
   "metadata": {},
   "outputs": [],
   "source": [
    "threshold = threshold_selection(y_test, y_prob)"
   ]
  },
  {
   "cell_type": "markdown",
   "id": "62dd4e5d-dd2e-425d-ab2f-8ec860a945b6",
   "metadata": {},
   "source": [
    "Making the predictions based on the probabilities and threshold"
   ]
  },
  {
   "cell_type": "code",
   "execution_count": null,
   "id": "5d4c2801-3235-457b-8b44-550fc8c3b297",
   "metadata": {},
   "outputs": [],
   "source": [
    "y_pred = (y_prob >= threshold).astype(int)"
   ]
  },
  {
   "cell_type": "markdown",
   "id": "5de9479e-7145-4c85-9afa-4c359d7b93d6",
   "metadata": {},
   "source": [
    "Now, we can get the metrics"
   ]
  },
  {
   "cell_type": "code",
   "execution_count": null,
   "id": "aec398f6-b350-40c5-9e16-d66f8bb145c5",
   "metadata": {},
   "outputs": [],
   "source": [
    "roc_auc = round(roc_auc_score(y_test, y_prob), 3)\n",
    "recall_0, recall_1 = recall_score(y_test, y_pred, average=None).round(3)\n",
    "f1 = round(f1_score(y_test, y_pred), 3)\n",
    "precision = round(precision_score(y_test, y_pred), 3)"
   ]
  },
  {
   "cell_type": "code",
   "execution_count": null,
   "id": "a94a2cc2-4d45-4221-9716-6cd7aff8e2db",
   "metadata": {},
   "outputs": [],
   "source": [
    "display = ConfusionMatrixDisplay.from_predictions(y_test, y_pred, \n",
    "                                                  display_labels=[\"Not dropped out\", \n",
    "                                                                  \"Dropped out\"])\n",
    "_ = display.ax_.set_title(\"Confusion matrix\")"
   ]
  },
  {
   "cell_type": "code",
   "execution_count": null,
   "id": "bd24178a-d935-4263-8308-42c437e89af4",
   "metadata": {},
   "outputs": [],
   "source": [
    "fpr = dict()\n",
    "tpr = dict()\n",
    "fpr[\"micro\"], tpr[\"micro\"], _ = roc_curve(y_test.ravel(), y_prob.ravel())\n",
    "\n",
    "plt.subplots(1, figsize=(6, 6))\n",
    "plt.title(\"Receiver Operating Characteristic\")\n",
    "plt.plot(fpr[\"micro\"], tpr[\"micro\"])\n",
    "plt.plot([0, 1], ls=\"--\")\n",
    "plt.plot([0, 0], [1, 0] , c=\".7\"), plt.plot([1, 1] , c=\".7\")\n",
    "plt.ylabel(\"True Positive Rate\")\n",
    "plt.xlabel(\"False Positive Rate\")\n",
    "plt.show()"
   ]
  },
  {
   "cell_type": "code",
   "execution_count": null,
   "id": "15fb34a4-2895-46bf-a900-4b49109085ee",
   "metadata": {},
   "outputs": [],
   "source": [
    "precision_, recall_, thresh_ = precision_recall_curve(y_test, y_prob)\n",
    "\n",
    "plt.subplots(1, figsize=(6, 4))\n",
    "plt.plot(recall_, precision_,  color=\"#1F77B4\");\n",
    "plt.scatter(recall_1, precision, marker=\"o\", s=100, color=\"red\", label=\"Best\")\n",
    "plt.xlabel(\"Recall (Positive label: 1)\")\n",
    "plt.ylabel(\"Precision (Positive label: 1)\")\n",
    "plt.title(\"2-class Precision-Recall curve\")\n",
    "plt.legend([\"Gradient Boosting (AP = %.2f)\"% (precision)], loc=0)\n",
    "plt.show()"
   ]
  },
  {
   "cell_type": "markdown",
   "id": "fb202ce3-818d-4f51-85e7-3a1fad423d40",
   "metadata": {},
   "source": [
    "Let's save the metrics to compare against the others models"
   ]
  },
  {
   "cell_type": "code",
   "execution_count": null,
   "id": "649c821f-3f18-4568-9d43-3ff64c4d502e",
   "metadata": {},
   "outputs": [],
   "source": [
    "df_temp  = pd.DataFrame({\n",
    "    \"Model\" : [\"OverSampling - Gradient Boosting\"],\n",
    "    \"Threshold\" : threshold,\n",
    "    \"ROC-AUC\" : roc_auc,    \n",
    "    \"Recall - 0\" : recall_0,\n",
    "    \"Recall - 1\" : recall_1,\n",
    "    \"Precision\" : precision,\n",
    "    \"F1\" : f1,    \n",
    "    \"Duration\" : round(end_time_model/60, 1)\n",
    "})\n",
    "\n",
    "df_models_metrics_complete = pd.concat([df_models_metrics_complete, df_temp])\n",
    "df_models_metrics_complete.reset_index(drop=True)"
   ]
  },
  {
   "cell_type": "markdown",
   "id": "871163d8-2b69-4fbb-a52b-2c4a844b9480",
   "metadata": {
    "tags": []
   },
   "source": [
    "#### 9.2.4. XGBoost"
   ]
  },
  {
   "cell_type": "code",
   "execution_count": null,
   "id": "827196f0-35c7-479e-b9f4-efcd369463b8",
   "metadata": {},
   "outputs": [],
   "source": [
    "xbgc_parameters = {'xgbclassifier__colsample_bytree': 1.0,\n",
    " 'xgbclassifier__gamma': 5,\n",
    " 'xgbclassifier__max_depth': 3,\n",
    " 'xgbclassifier__min_child_weight': 5,\n",
    " 'xgbclassifier__subsample': 0.8}"
   ]
  },
  {
   "cell_type": "code",
   "execution_count": null,
   "id": "3e00b689-2209-4f3e-8c84-d88d8f244d83",
   "metadata": {},
   "outputs": [],
   "source": [
    "imbpipeline_clf = imbpipeline(steps=[\n",
    "    (\"preprocessor\", preprocessor),\n",
    "    (\"smote\", smote),\n",
    "    (\"xbgc_imblearn\", XGBClassifier(**xbgc_parameters,\n",
    "                                    random_state=42,\n",
    "                                    n_jobs=-1)\n",
    "    )\n",
    "])"
   ]
  },
  {
   "cell_type": "markdown",
   "id": "59c13794-e950-4309-9b98-3a8b785ad770",
   "metadata": {},
   "source": [
    "Executing the model with the complete dataset"
   ]
  },
  {
   "cell_type": "code",
   "execution_count": null,
   "id": "414648d7-9e5b-45b7-af6d-2e4e13ba1883",
   "metadata": {},
   "outputs": [],
   "source": [
    "start_time_model = timeit.default_timer()\n",
    "\n",
    "imbpipeline_clf.fit(X_train, y_train)\n",
    "\n",
    "end_time_model =  round(timeit.default_timer() - start_time_model, 3)"
   ]
  },
  {
   "cell_type": "markdown",
   "id": "8598581f-b978-43a2-81bb-7ce8ce035285",
   "metadata": {},
   "source": [
    "Predict the probabilities"
   ]
  },
  {
   "cell_type": "code",
   "execution_count": null,
   "id": "a65a8d86-c997-40ca-98f5-3da9341950fb",
   "metadata": {},
   "outputs": [],
   "source": [
    "y_prob = imbpipeline_clf.predict_proba(X_test)\n",
    "y_prob = y_prob[:, 1]"
   ]
  },
  {
   "cell_type": "markdown",
   "id": "f9d2405e-3d25-4ecb-b6af-84ffd98ff809",
   "metadata": {},
   "source": [
    "Let's selet the threshold based on the best parameters"
   ]
  },
  {
   "cell_type": "code",
   "execution_count": null,
   "id": "f1ee052a-0edb-4225-b367-22fcf6fbeb8a",
   "metadata": {},
   "outputs": [],
   "source": [
    "threshold = threshold_selection(y_test, y_prob)"
   ]
  },
  {
   "cell_type": "markdown",
   "id": "9a8e86d1-117f-4987-a60f-0ba3ab8749ec",
   "metadata": {},
   "source": [
    "Making the predictions based on the probabilities and threshold"
   ]
  },
  {
   "cell_type": "code",
   "execution_count": null,
   "id": "99313bd4-f9e5-49e8-bff9-e71be3b0e01d",
   "metadata": {},
   "outputs": [],
   "source": [
    "y_pred = (y_prob >= threshold).astype(int)"
   ]
  },
  {
   "cell_type": "markdown",
   "id": "f3b3ea90-4462-4cdb-aa25-6ba8ac23e4aa",
   "metadata": {},
   "source": [
    "Now, we can get the metrics"
   ]
  },
  {
   "cell_type": "code",
   "execution_count": null,
   "id": "4441f063-114d-4800-9a93-0d5db70c6d5f",
   "metadata": {},
   "outputs": [],
   "source": [
    "roc_auc = round(roc_auc_score(y_test, y_prob), 3)\n",
    "recall_0, recall_1 = recall_score(y_test, y_pred, average=None).round(3)\n",
    "f1 = round(f1_score(y_test, y_pred), 3)\n",
    "precision = round(precision_score(y_test, y_pred), 3)"
   ]
  },
  {
   "cell_type": "code",
   "execution_count": null,
   "id": "fcfce93d-d2b8-459d-9689-d204268f09ca",
   "metadata": {},
   "outputs": [],
   "source": [
    "display = ConfusionMatrixDisplay.from_predictions(y_test, y_pred, \n",
    "                                                  display_labels=[\"Not dropped out\", \n",
    "                                                                  \"Dropped out\"])\n",
    "_ = display.ax_.set_title(\"Confusion matrix\")"
   ]
  },
  {
   "cell_type": "code",
   "execution_count": null,
   "id": "117fdf2b-7085-463f-82ef-fd2de44a735b",
   "metadata": {},
   "outputs": [],
   "source": [
    "fpr = dict()\n",
    "tpr = dict()\n",
    "fpr[\"micro\"], tpr[\"micro\"], _ = roc_curve(y_test.ravel(), y_prob.ravel())\n",
    "\n",
    "plt.subplots(1, figsize=(6, 6))\n",
    "plt.title(\"Receiver Operating Characteristic\")\n",
    "plt.plot(fpr[\"micro\"], tpr[\"micro\"])\n",
    "plt.plot([0, 1], ls=\"--\")\n",
    "plt.plot([0, 0], [1, 0] , c=\".7\"), plt.plot([1, 1] , c=\".7\")\n",
    "plt.ylabel(\"True Positive Rate\")\n",
    "plt.xlabel(\"False Positive Rate\")\n",
    "plt.show()"
   ]
  },
  {
   "cell_type": "code",
   "execution_count": null,
   "id": "ec5f3397-aa5d-4dab-9545-9dcc8213a0f7",
   "metadata": {},
   "outputs": [],
   "source": [
    "precision_, recall_, thresh_ = precision_recall_curve(y_test, y_prob)\n",
    "\n",
    "plt.subplots(1, figsize=(6, 4))\n",
    "plt.plot(recall_, precision_,  color=\"#1F77B4\");\n",
    "plt.scatter(recall_1, precision, marker=\"o\", s=100, color=\"red\", label=\"Best\")\n",
    "plt.xlabel(\"Recall (Positive label: 1)\")\n",
    "plt.ylabel(\"Precision (Positive label: 1)\")\n",
    "plt.title(\"2-class Precision-Recall curve\")\n",
    "plt.legend([\"XGBoost (AP = %.2f)\"% (precision)], loc=0)\n",
    "plt.show()"
   ]
  },
  {
   "cell_type": "markdown",
   "id": "73ff6b21-6186-408d-bf95-76ee7c3fa246",
   "metadata": {},
   "source": [
    "Let's save the metrics to compare against the others models"
   ]
  },
  {
   "cell_type": "code",
   "execution_count": null,
   "id": "30a40d9c-7d1c-4050-8548-d28c02f375f0",
   "metadata": {},
   "outputs": [],
   "source": [
    "df_temp  = pd.DataFrame({\n",
    "    \"Model\" : [\"OverSampling - XGBoost\"],\n",
    "    \"Threshold\" : threshold,\n",
    "    \"ROC-AUC\" : roc_auc,    \n",
    "    \"Recall - 0\" : recall_0,\n",
    "    \"Recall - 1\" : recall_1,\n",
    "    \"Precision\" : precision,\n",
    "    \"F1\" : f1,    \n",
    "    \"Duration\" : round(end_time_model/60, 1)\n",
    "})\n",
    "\n",
    "df_models_metrics_complete = pd.concat([df_models_metrics_complete, df_temp])\n",
    "df_models_metrics_complete.reset_index(drop=True)"
   ]
  },
  {
   "cell_type": "markdown",
   "id": "7b8967e3-8457-4d47-b98a-ea4461ea788e",
   "metadata": {},
   "source": [
    "<div class=\"admonition warning alert alert-danger\">\n",
    "<h1>FLAG</h1>\n",
    "</div>"
   ]
  },
  {
   "cell_type": "code",
   "execution_count": null,
   "id": "c2e26649-bcd7-4cab-9b86-529e88f2880e",
   "metadata": {},
   "outputs": [],
   "source": [
    "ccc"
   ]
  },
  {
   "cell_type": "code",
   "execution_count": null,
   "id": "7e4fcfb4-b4db-4b75-a236-8d5397d037d4",
   "metadata": {},
   "outputs": [],
   "source": []
  },
  {
   "cell_type": "markdown",
   "id": "e28a9dfd-7ca5-4309-ad17-dc5dc72e84a1",
   "metadata": {},
   "source": [
    "### 9.3. Isolation Forest"
   ]
  },
  {
   "cell_type": "markdown",
   "id": "aea0e906-c2eb-4ce9-bdaf-ea853f1fdc97",
   "metadata": {},
   "source": [
    "As the latest model, we are going to use an Isolation Forest. This type of algorithms uses the numbers of tree splits to identify anomalies or minority classes in an imbalanced dataset (our case).\n"
   ]
  },
  {
   "cell_type": "code",
   "execution_count": null,
   "id": "5697a1e8-a308-47ef-950c-50892d172598",
   "metadata": {},
   "outputs": [],
   "source": []
  },
  {
   "cell_type": "code",
   "execution_count": null,
   "id": "8876e87e-c28b-49d8-bf27-8941af29113b",
   "metadata": {},
   "outputs": [],
   "source": []
  },
  {
   "cell_type": "code",
   "execution_count": null,
   "id": "350b9fe6-d6ee-450e-82fe-f1926d280ea9",
   "metadata": {},
   "outputs": [],
   "source": [
    "numerical_pipeline_isoforest = make_pipeline()\n",
    "\n",
    "preprocessor_isoforest = make_column_transformer(\n",
    "    (categorical_pipeline, CATEGORICAL_FEATURES),\n",
    "    (ordinal_pipeline, ORDINAL_FEATURES),\n",
    "    (numerical_pipeline_isoforest, NUMERICAL_FEATURES),\n",
    "    (boolean_pipeline, BOOLEAN_FEATURES)\n",
    ")"
   ]
  },
  {
   "cell_type": "code",
   "execution_count": null,
   "id": "1b274558-8246-458b-9ab1-ae87402cf9c6",
   "metadata": {},
   "outputs": [],
   "source": []
  },
  {
   "cell_type": "code",
   "execution_count": null,
   "id": "0cc320e9-a7e2-4bb5-b642-d0216483b8df",
   "metadata": {},
   "outputs": [],
   "source": []
  },
  {
   "cell_type": "code",
   "execution_count": null,
   "id": "53cec6c7-2fc8-4c18-8b71-35d94dba26ed",
   "metadata": {},
   "outputs": [],
   "source": []
  },
  {
   "cell_type": "code",
   "execution_count": null,
   "id": "4360ebc5-8da3-44c0-b72b-8c4133ab04eb",
   "metadata": {},
   "outputs": [],
   "source": []
  },
  {
   "cell_type": "code",
   "execution_count": null,
   "id": "78b8df78-af82-46e4-b56b-f3dbc119edae",
   "metadata": {},
   "outputs": [],
   "source": []
  },
  {
   "cell_type": "code",
   "execution_count": null,
   "id": "868f6e60-78f0-407a-ae6f-cbe2f426afca",
   "metadata": {},
   "outputs": [],
   "source": [
    "# isoforest = IsolationForest(n_estimators=5000, random_state=42)"
   ]
  },
  {
   "cell_type": "code",
   "execution_count": null,
   "id": "46dd18d0-202b-40c9-837a-b61369166948",
   "metadata": {},
   "outputs": [],
   "source": [
    "if_model = IsolationForest(n_estimators=5000, random_state=42)"
   ]
  },
  {
   "cell_type": "code",
   "execution_count": null,
   "id": "de0b3ab7-b58b-4897-a2ac-2362c4a6ab08",
   "metadata": {
    "tags": []
   },
   "outputs": [],
   "source": [
    "if_model = make_pipeline(preprocessor_isoforest, if_model)"
   ]
  },
  {
   "cell_type": "code",
   "execution_count": null,
   "id": "9704bf80-0083-485a-854d-344599475158",
   "metadata": {},
   "outputs": [],
   "source": [
    "start_time_model = timeit.default_timer()\n",
    "\n",
    "if_model.fit(X_train[y_train==0], y_train[y_train==0])\n",
    "\n",
    "end_time_model =  round(timeit.default_timer() - start_time_model, 3)"
   ]
  },
  {
   "cell_type": "code",
   "execution_count": null,
   "id": "3e184f7e-d0cf-490b-8eb1-f24aad8702fc",
   "metadata": {},
   "outputs": [],
   "source": [
    "if_prediction = if_model.predict(X_test)"
   ]
  },
  {
   "cell_type": "code",
   "execution_count": null,
   "id": "f9e5d756-51ef-4217-b1f2-e0a6aa2ddc47",
   "metadata": {},
   "outputs": [],
   "source": [
    "if_prediction = [1 if i==-1 else 0 for i in if_prediction]\n",
    "# np.where(mod.predict(X) == -1, 1, 0)"
   ]
  },
  {
   "cell_type": "code",
   "execution_count": null,
   "id": "5ee10073-e886-405a-ac20-6c50b26a94c1",
   "metadata": {},
   "outputs": [],
   "source": [
    "print(classification_report(y_test, if_prediction))"
   ]
  },
  {
   "cell_type": "code",
   "execution_count": null,
   "id": "14aa3759-1634-414e-b1b8-2ea592c2764c",
   "metadata": {},
   "outputs": [],
   "source": []
  },
  {
   "cell_type": "code",
   "execution_count": null,
   "id": "76a19a00-1cb2-4b34-a3e1-995ff78ceed1",
   "metadata": {},
   "outputs": [],
   "source": []
  },
  {
   "cell_type": "code",
   "execution_count": null,
   "id": "4a1d675a-9a90-437d-b0a3-132a3b96ad08",
   "metadata": {},
   "outputs": [],
   "source": []
  },
  {
   "cell_type": "code",
   "execution_count": null,
   "id": "a7622359-564f-41a2-84c0-ea6c047169b1",
   "metadata": {},
   "outputs": [],
   "source": [
    "Counter(if_prediction)"
   ]
  },
  {
   "cell_type": "code",
   "execution_count": null,
   "id": "b9b2033e-c71b-4900-8a65-774958b557ce",
   "metadata": {},
   "outputs": [],
   "source": [
    "if_prediction_proba = if_model.decision_function(X_test)"
   ]
  },
  {
   "cell_type": "code",
   "execution_count": null,
   "id": "fc298829-07ad-4ca6-bfd6-2cbff5120ba3",
   "metadata": {},
   "outputs": [],
   "source": [
    "if_prediction_proba"
   ]
  },
  {
   "cell_type": "code",
   "execution_count": null,
   "id": "6bd3f434-ecc8-42d3-b7e9-c3d30d58559f",
   "metadata": {},
   "outputs": [],
   "source": [
    "len(if_prediction_proba)"
   ]
  },
  {
   "cell_type": "code",
   "execution_count": null,
   "id": "843b793a-1159-48c0-bb62-fd5aaff75f7b",
   "metadata": {},
   "outputs": [],
   "source": [
    "X_test.shape"
   ]
  },
  {
   "cell_type": "markdown",
   "id": "c1c61c9c-9011-4bb2-a766-57c332300b54",
   "metadata": {},
   "source": [
    "Let's selet the threshold based on the best parameters"
   ]
  },
  {
   "cell_type": "code",
   "execution_count": null,
   "id": "82410139-2a26-4813-802e-400013d6e9ad",
   "metadata": {},
   "outputs": [],
   "source": [
    "threshold = threshold_selection(y_test, if_prediction_proba)"
   ]
  },
  {
   "cell_type": "code",
   "execution_count": null,
   "id": "15d883c5-21f3-4660-b4f8-d4e9e9f31aa9",
   "metadata": {},
   "outputs": [],
   "source": [
    "y_pred = (if_prediction_proba >= threshold).astype(int)"
   ]
  },
  {
   "cell_type": "markdown",
   "id": "a273862c-315e-4c37-8c02-082d003311c3",
   "metadata": {},
   "source": [
    "Now, we can get the metrics"
   ]
  },
  {
   "cell_type": "code",
   "execution_count": null,
   "id": "3f2e3a1e-cd36-4b48-adcf-3b456bcd1d52",
   "metadata": {},
   "outputs": [],
   "source": [
    "roc_auc = round(roc_auc_score(y_test, y_prob), 3)\n",
    "recall_0, recall_1 = recall_score(y_test, y_pred, average=None).round(3)\n",
    "f1 = round(f1_score(y_test, y_pred), 3)\n",
    "precision = round(precision_score(y_test, y_pred), 3)"
   ]
  },
  {
   "cell_type": "code",
   "execution_count": null,
   "id": "bb7d3139-95a4-4b16-927b-99d5aad967f7",
   "metadata": {},
   "outputs": [],
   "source": [
    "display = ConfusionMatrixDisplay.from_predictions(y_test, y_pred, \n",
    "                                                  display_labels=[\"Not dropped out\", \n",
    "                                                                  \"Dropped out\"])\n",
    "_ = display.ax_.set_title(\"Confusion matrix\")"
   ]
  },
  {
   "cell_type": "code",
   "execution_count": null,
   "id": "46472be7-997f-4848-9590-bd0a710c45ac",
   "metadata": {},
   "outputs": [],
   "source": [
    "fpr = dict()\n",
    "tpr = dict()\n",
    "fpr[\"micro\"], tpr[\"micro\"], _ = roc_curve(y_test.ravel(), y_prob.ravel())\n",
    "\n",
    "plt.subplots(1, figsize=(6, 6))\n",
    "plt.title(\"Receiver Operating Characteristic\")\n",
    "plt.plot(fpr[\"micro\"], tpr[\"micro\"])\n",
    "plt.plot([0, 1], ls=\"--\")\n",
    "plt.plot([0, 0], [1, 0] , c=\".7\"), plt.plot([1, 1] , c=\".7\")\n",
    "plt.ylabel(\"True Positive Rate\")\n",
    "plt.xlabel(\"False Positive Rate\")\n",
    "plt.show()"
   ]
  },
  {
   "cell_type": "code",
   "execution_count": null,
   "id": "6f7f511d-f93c-4f9e-aea4-ac34012cb18b",
   "metadata": {},
   "outputs": [],
   "source": [
    "precision_, recall_, thresh_ = precision_recall_curve(y_test, y_prob)\n",
    "\n",
    "plt.subplots(1, figsize=(6, 4))\n",
    "plt.plot(recall_, precision_,  color=\"#1F77B4\");\n",
    "plt.scatter(recall_1, precision, marker=\"o\", s=100, color=\"red\", label=\"Best\")\n",
    "plt.xlabel(\"Recall (Positive label: 1)\")\n",
    "plt.ylabel(\"Precision (Positive label: 1)\")\n",
    "plt.title(\"2-class Precision-Recall curve\")\n",
    "plt.legend([\"XGBoost (AP = %.2f)\"% (precision)], loc=0)\n",
    "plt.show()"
   ]
  },
  {
   "cell_type": "code",
   "execution_count": null,
   "id": "ad8cecb5-cf86-4ba8-89ce-7050edf3350e",
   "metadata": {},
   "outputs": [],
   "source": [
    "df_temp  = pd.DataFrame({\n",
    "    \"Model\" : [\"OverSampling - XGBoost\"],\n",
    "    \"Threshold\" : threshold,\n",
    "    \"ROC-AUC\" : roc_auc,    \n",
    "    \"Recall - 0\" : recall_0,\n",
    "    \"Recall - 1\" : recall_1,\n",
    "    \"Precision\" : precision,\n",
    "    \"F1\" : f1,    \n",
    "    \"Duration\" : round(end_time_model/60, 1)\n",
    "})\n",
    "\n",
    "df_temp"
   ]
  },
  {
   "cell_type": "code",
   "execution_count": null,
   "id": "60dfbf90-1c09-423f-abfd-655097fc0f44",
   "metadata": {},
   "outputs": [],
   "source": []
  },
  {
   "cell_type": "code",
   "execution_count": null,
   "id": "ce564005-2d92-4839-89aa-26e7c21b1e78",
   "metadata": {},
   "outputs": [],
   "source": []
  },
  {
   "cell_type": "code",
   "execution_count": null,
   "id": "589d8a0c-3aef-4842-9223-4e73454222c4",
   "metadata": {},
   "outputs": [],
   "source": []
  },
  {
   "cell_type": "code",
   "execution_count": null,
   "id": "aef0161e-8757-43e4-b99b-f095da2649b6",
   "metadata": {},
   "outputs": [],
   "source": []
  },
  {
   "cell_type": "code",
   "execution_count": null,
   "id": "d1a02d4d-3b31-4ee0-ac32-5cb861ab74eb",
   "metadata": {},
   "outputs": [],
   "source": []
  },
  {
   "cell_type": "code",
   "execution_count": null,
   "id": "65114be8-633e-4b9a-b021-38a89e8dce5a",
   "metadata": {},
   "outputs": [],
   "source": []
  },
  {
   "cell_type": "code",
   "execution_count": null,
   "id": "b246f5bb-0cef-4dd0-a6a8-5775dc8842bd",
   "metadata": {},
   "outputs": [],
   "source": []
  },
  {
   "cell_type": "code",
   "execution_count": null,
   "id": "e89d8e81-96fc-4412-a9b6-ea2a714236f8",
   "metadata": {},
   "outputs": [],
   "source": []
  },
  {
   "cell_type": "code",
   "execution_count": null,
   "id": "7d4fe102-2399-42bb-9f25-ca6bae4dfe7b",
   "metadata": {},
   "outputs": [],
   "source": []
  },
  {
   "cell_type": "markdown",
   "id": "fa137520-671b-4f1b-b3a7-22571c3bce74",
   "metadata": {},
   "source": [
    "<div class=\"admonition warning alert alert-danger\">\n",
    "<h1>FLAG</h1>\n",
    "</div>"
   ]
  },
  {
   "cell_type": "markdown",
   "id": "f17812eb-bbb4-4da2-b057-aad162edce0e",
   "metadata": {},
   "source": [
    "### 9.3. Analyzing results"
   ]
  },
  {
   "cell_type": "markdown",
   "id": "a59c3c5e-ac93-4b22-8856-c4f52c804550",
   "metadata": {},
   "source": [
    "Let's plot all metrics"
   ]
  },
  {
   "cell_type": "code",
   "execution_count": null,
   "id": "ecc2bcfc-213e-4cff-aea8-b6dc1849f99a",
   "metadata": {},
   "outputs": [],
   "source": [
    "df_temp = df_models_metrics_complete.drop([\"Threshold\", \"Recall - 0\", \"Duration\"], axis=1)"
   ]
  },
  {
   "cell_type": "code",
   "execution_count": null,
   "id": "c0fb4e5b-e2c2-4472-b7b2-bc3a6e907061",
   "metadata": {},
   "outputs": [],
   "source": [
    "df_temp = pd.melt(df_temp, id_vars=\"Model\", var_name=\"Metric\", value_name=\"Value\")\n",
    "df_temp.head()"
   ]
  },
  {
   "cell_type": "code",
   "execution_count": null,
   "id": "34bddc33-6c3b-499f-9463-a45a672a5c72",
   "metadata": {},
   "outputs": [],
   "source": [
    "fig, ax1 = plt.subplots(figsize=(18, 10))\n",
    "plot = sns.barplot(x=\"Model\", y=\"Value\", hue=\"Metric\", data=df_temp, ax=ax1)\n",
    "for p in plot.patches:\n",
    "    plot.annotate(format(p.get_height(), \".3f\"), (p.get_x() + p.get_width() / 2., p.get_height()), \n",
    "                    ha=\"center\", va=\"center\", xytext=(0, 8), textcoords=\"offset points\")\n",
    "plot.set_xticklabels(labels=df_temp[\"Model\"].unique(),\n",
    "                     rotation=70, size=12, horizontalalignment=\"right\")\n",
    "plt.title(\"Comparison of Metrics by model\", size=20)\n",
    "plt.legend(bbox_to_anchor=(1.11, 1), borderaxespad=0, title=\"Metrics\")\n",
    "plt.tight_layout()\n",
    "plt.xlabel(\"Model\", size=12)\n",
    "plt.ylabel(\"Metric\", size=12)\n",
    "sns.despine(fig)"
   ]
  },
  {
   "cell_type": "code",
   "execution_count": null,
   "id": "61a5f0ce-9bf6-4e62-bd1e-05e6da9c576c",
   "metadata": {},
   "outputs": [],
   "source": []
  },
  {
   "cell_type": "markdown",
   "id": "43d051ec-f0a5-44b0-a40a-5d2228b70501",
   "metadata": {},
   "source": [
    "<div class=\"admonition warning alert alert-info\">\n",
    "<p class=\"first admonition-title\" style=\"font-weight: bold;\">Observations / Conclusions</p>\n",
    "    <ul>\n",
    "        <li>The results are very similar without time comparison</li>\n",
    "        <li>We can notice a small lift in the OverSampling - Gradient Boosting results in comparison with Tuned - Gradiend Boosting</li>\n",
    "        <li>Recall - 1 in Tuned - Gradiend Boosting is a little higher in comparison with the others</li>\n",
    "    </ul>\n",
    "</div>"
   ]
  },
  {
   "cell_type": "code",
   "execution_count": null,
   "id": "fac86f19-5602-464a-b5be-411fd00db0b2",
   "metadata": {},
   "outputs": [],
   "source": []
  },
  {
   "cell_type": "code",
   "execution_count": null,
   "id": "13b9e562-9489-4fc9-a098-49225f85cdb6",
   "metadata": {},
   "outputs": [],
   "source": []
  },
  {
   "cell_type": "code",
   "execution_count": null,
   "id": "b62d2cb5-f4be-4602-8396-6a3137485107",
   "metadata": {},
   "outputs": [],
   "source": []
  },
  {
   "cell_type": "code",
   "execution_count": null,
   "id": "27fd6dde-44b1-4380-aa74-467124bd297a",
   "metadata": {},
   "outputs": [],
   "source": []
  },
  {
   "cell_type": "code",
   "execution_count": null,
   "id": "d5857372-4e70-4be1-8e5e-adbdff547cbc",
   "metadata": {},
   "outputs": [],
   "source": []
  },
  {
   "cell_type": "code",
   "execution_count": null,
   "id": "0169e7e0-464f-4853-a9db-69325ccf600d",
   "metadata": {},
   "outputs": [],
   "source": []
  },
  {
   "cell_type": "code",
   "execution_count": null,
   "id": "c91be86c-a1fa-484a-82fb-32f5c77ba073",
   "metadata": {},
   "outputs": [],
   "source": []
  },
  {
   "cell_type": "code",
   "execution_count": null,
   "id": "5c6fddc1-28f5-46eb-93f5-2729de94bd66",
   "metadata": {},
   "outputs": [],
   "source": []
  },
  {
   "cell_type": "code",
   "execution_count": null,
   "id": "13d3c979-2533-4f31-b378-2a44fcf6975b",
   "metadata": {},
   "outputs": [],
   "source": []
  }
 ],
 "metadata": {
  "kernelspec": {
   "display_name": "Python 3 (ipykernel)",
   "language": "python",
   "name": "python3"
  },
  "language_info": {
   "codemirror_mode": {
    "name": "ipython",
    "version": 3
   },
   "file_extension": ".py",
   "mimetype": "text/x-python",
   "name": "python",
   "nbconvert_exporter": "python",
   "pygments_lexer": "ipython3",
   "version": "3.10.4"
  }
 },
 "nbformat": 4,
 "nbformat_minor": 5
}
